{
 "cells": [
  {
   "cell_type": "markdown",
   "id": "b5073fad",
   "metadata": {
    "toc": true
   },
   "source": [
    "<h1>Содержание<span class=\"tocSkip\"></span></h1>\n",
    "<div class=\"toc\"><ul class=\"toc-item\"><li><span><a href=\"#Загрузка-данных\" data-toc-modified-id=\"Загрузка-данных-1\"><span class=\"toc-item-num\">1&nbsp;&nbsp;</span>Загрузка данных</a></span></li><li><span><a href=\"#Умножение-матриц\" data-toc-modified-id=\"Умножение-матриц-2\"><span class=\"toc-item-num\">2&nbsp;&nbsp;</span>Умножение матриц</a></span></li><li><span><a href=\"#Алгоритм-преобразования\" data-toc-modified-id=\"Алгоритм-преобразования-3\"><span class=\"toc-item-num\">3&nbsp;&nbsp;</span>Алгоритм преобразования</a></span></li><li><span><a href=\"#Проверка-алгоритма\" data-toc-modified-id=\"Проверка-алгоритма-4\"><span class=\"toc-item-num\">4&nbsp;&nbsp;</span>Проверка алгоритма</a></span></li></ul></div>"
   ]
  },
  {
   "cell_type": "markdown",
   "id": "0e2b2cba",
   "metadata": {},
   "source": [
    "# Защита персональных данных клиентов"
   ]
  },
  {
   "cell_type": "markdown",
   "id": "18dbec07",
   "metadata": {},
   "source": [
    "Нужно защитить данные клиентов страховой компании «Хоть потоп». Разработайте такой метод преобразования данных, чтобы по ним было сложно восстановить персональную информацию. Обоснуйте корректность его работы.\n",
    "\n",
    "Нужно защитить данные, чтобы при преобразовании качество моделей машинного обучения не ухудшилось."
   ]
  },
  {
   "cell_type": "markdown",
   "id": "e8d11a3d",
   "metadata": {},
   "source": [
    "## Загрузка данных"
   ]
  },
  {
   "cell_type": "markdown",
   "id": "253b14ba",
   "metadata": {},
   "source": [
    "Импортируем нужные библиотеки"
   ]
  },
  {
   "cell_type": "code",
   "execution_count": 1,
   "id": "35c03168",
   "metadata": {},
   "outputs": [],
   "source": [
    "# импортируем нужные библиотеки\n",
    "import pandas as pd\n",
    "import numpy as np\n",
    "import matplotlib.pyplot as plt \n",
    "from sklearn.linear_model import LinearRegression \n",
    "import seaborn as sns\n",
    "from sklearn.metrics import r2_score, mean_squared_error\n",
    "from sklearn.preprocessing import StandardScaler"
   ]
  },
  {
   "cell_type": "markdown",
   "id": "49a7e12d",
   "metadata": {},
   "source": [
    "Прочитаем файл /datasets/insurance.csv и сохраним его в переменную `insurance`."
   ]
  },
  {
   "cell_type": "code",
   "execution_count": 2,
   "id": "e871c5f7",
   "metadata": {},
   "outputs": [],
   "source": [
    "# читаем файл и сохраняем его в insurance\n",
    "insurance = pd.read_csv('/datasets/insurance.csv') "
   ]
  },
  {
   "cell_type": "markdown",
   "id": "852e4a4c",
   "metadata": {},
   "source": [
    "Из описания к данным известно, что: \n",
    "\n",
    "* Признаки: пол, возраст и зарплата застрахованного, количество членов его семьи.\n",
    "* Целевой признак: количество страховых выплат клиенту за последние 5 лет."
   ]
  },
  {
   "cell_type": "markdown",
   "id": "02057539",
   "metadata": {},
   "source": [
    "Напишем функцию, которая выводит общую информацию о таблице, а так же посчитает пропуски и проверит на наличие дубликатов."
   ]
  },
  {
   "cell_type": "code",
   "execution_count": 3,
   "id": "5328f795",
   "metadata": {},
   "outputs": [],
   "source": [
    "#пишем функцию summary\n",
    "def summary(df):\n",
    "    print(df.info())\n",
    "    display(df.head())\n",
    "    count=0\n",
    "    for col in df.columns:\n",
    "        if df.isna().sum()[col]==0:\n",
    "            count+=1\n",
    "        else:\n",
    "            print(f'Пропущенных значений в столбце {col}: {df.isna().sum()[col]}')\n",
    "    if count==len(df.columns):\n",
    "        print('Пропущенных значений в таблице нет')\n",
    "    print(f'Повторов в таблице {df.duplicated().sum()}')  "
   ]
  },
  {
   "cell_type": "code",
   "execution_count": 4,
   "id": "2bcd6704",
   "metadata": {},
   "outputs": [
    {
     "name": "stdout",
     "output_type": "stream",
     "text": [
      "<class 'pandas.core.frame.DataFrame'>\n",
      "RangeIndex: 5000 entries, 0 to 4999\n",
      "Data columns (total 5 columns):\n",
      " #   Column             Non-Null Count  Dtype  \n",
      "---  ------             --------------  -----  \n",
      " 0   Пол                5000 non-null   int64  \n",
      " 1   Возраст            5000 non-null   float64\n",
      " 2   Зарплата           5000 non-null   float64\n",
      " 3   Члены семьи        5000 non-null   int64  \n",
      " 4   Страховые выплаты  5000 non-null   int64  \n",
      "dtypes: float64(2), int64(3)\n",
      "memory usage: 195.4 KB\n",
      "None\n"
     ]
    },
    {
     "data": {
      "text/html": [
       "<div>\n",
       "<style scoped>\n",
       "    .dataframe tbody tr th:only-of-type {\n",
       "        vertical-align: middle;\n",
       "    }\n",
       "\n",
       "    .dataframe tbody tr th {\n",
       "        vertical-align: top;\n",
       "    }\n",
       "\n",
       "    .dataframe thead th {\n",
       "        text-align: right;\n",
       "    }\n",
       "</style>\n",
       "<table border=\"1\" class=\"dataframe\">\n",
       "  <thead>\n",
       "    <tr style=\"text-align: right;\">\n",
       "      <th></th>\n",
       "      <th>Пол</th>\n",
       "      <th>Возраст</th>\n",
       "      <th>Зарплата</th>\n",
       "      <th>Члены семьи</th>\n",
       "      <th>Страховые выплаты</th>\n",
       "    </tr>\n",
       "  </thead>\n",
       "  <tbody>\n",
       "    <tr>\n",
       "      <th>0</th>\n",
       "      <td>1</td>\n",
       "      <td>41.0</td>\n",
       "      <td>49600.0</td>\n",
       "      <td>1</td>\n",
       "      <td>0</td>\n",
       "    </tr>\n",
       "    <tr>\n",
       "      <th>1</th>\n",
       "      <td>0</td>\n",
       "      <td>46.0</td>\n",
       "      <td>38000.0</td>\n",
       "      <td>1</td>\n",
       "      <td>1</td>\n",
       "    </tr>\n",
       "    <tr>\n",
       "      <th>2</th>\n",
       "      <td>0</td>\n",
       "      <td>29.0</td>\n",
       "      <td>21000.0</td>\n",
       "      <td>0</td>\n",
       "      <td>0</td>\n",
       "    </tr>\n",
       "    <tr>\n",
       "      <th>3</th>\n",
       "      <td>0</td>\n",
       "      <td>21.0</td>\n",
       "      <td>41700.0</td>\n",
       "      <td>2</td>\n",
       "      <td>0</td>\n",
       "    </tr>\n",
       "    <tr>\n",
       "      <th>4</th>\n",
       "      <td>1</td>\n",
       "      <td>28.0</td>\n",
       "      <td>26100.0</td>\n",
       "      <td>0</td>\n",
       "      <td>0</td>\n",
       "    </tr>\n",
       "  </tbody>\n",
       "</table>\n",
       "</div>"
      ],
      "text/plain": [
       "   Пол  Возраст  Зарплата  Члены семьи  Страховые выплаты\n",
       "0    1     41.0   49600.0            1                  0\n",
       "1    0     46.0   38000.0            1                  1\n",
       "2    0     29.0   21000.0            0                  0\n",
       "3    0     21.0   41700.0            2                  0\n",
       "4    1     28.0   26100.0            0                  0"
      ]
     },
     "metadata": {},
     "output_type": "display_data"
    },
    {
     "name": "stdout",
     "output_type": "stream",
     "text": [
      "Пропущенных значений в таблице нет\n",
      "Повторов в таблице 153\n"
     ]
    }
   ],
   "source": [
    "# смотрим на данные таблицы\n",
    "summary(insurance)"
   ]
  },
  {
   "cell_type": "markdown",
   "id": "1ce34d7c",
   "metadata": {},
   "source": [
    "Итак в таблице данные о 5000 клиентах страховой компании «Хоть потоп». Пропусков в таблице нет. Есть 153 повтора. Посмотрим на повторы."
   ]
  },
  {
   "cell_type": "code",
   "execution_count": 5,
   "id": "58c6ae26",
   "metadata": {},
   "outputs": [
    {
     "data": {
      "text/html": [
       "<div>\n",
       "<style scoped>\n",
       "    .dataframe tbody tr th:only-of-type {\n",
       "        vertical-align: middle;\n",
       "    }\n",
       "\n",
       "    .dataframe tbody tr th {\n",
       "        vertical-align: top;\n",
       "    }\n",
       "\n",
       "    .dataframe thead th {\n",
       "        text-align: right;\n",
       "    }\n",
       "</style>\n",
       "<table border=\"1\" class=\"dataframe\">\n",
       "  <thead>\n",
       "    <tr style=\"text-align: right;\">\n",
       "      <th></th>\n",
       "      <th>Пол</th>\n",
       "      <th>Возраст</th>\n",
       "      <th>Зарплата</th>\n",
       "      <th>Члены семьи</th>\n",
       "      <th>Страховые выплаты</th>\n",
       "    </tr>\n",
       "  </thead>\n",
       "  <tbody>\n",
       "    <tr>\n",
       "      <th>2955</th>\n",
       "      <td>1</td>\n",
       "      <td>32.0</td>\n",
       "      <td>21600.0</td>\n",
       "      <td>0</td>\n",
       "      <td>0</td>\n",
       "    </tr>\n",
       "    <tr>\n",
       "      <th>2988</th>\n",
       "      <td>1</td>\n",
       "      <td>32.0</td>\n",
       "      <td>21600.0</td>\n",
       "      <td>0</td>\n",
       "      <td>0</td>\n",
       "    </tr>\n",
       "    <tr>\n",
       "      <th>361</th>\n",
       "      <td>0</td>\n",
       "      <td>50.0</td>\n",
       "      <td>24700.0</td>\n",
       "      <td>1</td>\n",
       "      <td>2</td>\n",
       "    </tr>\n",
       "    <tr>\n",
       "      <th>2869</th>\n",
       "      <td>0</td>\n",
       "      <td>50.0</td>\n",
       "      <td>24700.0</td>\n",
       "      <td>1</td>\n",
       "      <td>2</td>\n",
       "    </tr>\n",
       "    <tr>\n",
       "      <th>333</th>\n",
       "      <td>0</td>\n",
       "      <td>32.0</td>\n",
       "      <td>25600.0</td>\n",
       "      <td>1</td>\n",
       "      <td>0</td>\n",
       "    </tr>\n",
       "    <tr>\n",
       "      <th>4230</th>\n",
       "      <td>0</td>\n",
       "      <td>32.0</td>\n",
       "      <td>25600.0</td>\n",
       "      <td>1</td>\n",
       "      <td>0</td>\n",
       "    </tr>\n",
       "    <tr>\n",
       "      <th>1378</th>\n",
       "      <td>0</td>\n",
       "      <td>36.0</td>\n",
       "      <td>26400.0</td>\n",
       "      <td>0</td>\n",
       "      <td>0</td>\n",
       "    </tr>\n",
       "    <tr>\n",
       "      <th>2723</th>\n",
       "      <td>0</td>\n",
       "      <td>36.0</td>\n",
       "      <td>26400.0</td>\n",
       "      <td>0</td>\n",
       "      <td>0</td>\n",
       "    </tr>\n",
       "    <tr>\n",
       "      <th>1002</th>\n",
       "      <td>1</td>\n",
       "      <td>34.0</td>\n",
       "      <td>26900.0</td>\n",
       "      <td>0</td>\n",
       "      <td>0</td>\n",
       "    </tr>\n",
       "    <tr>\n",
       "      <th>1140</th>\n",
       "      <td>1</td>\n",
       "      <td>34.0</td>\n",
       "      <td>26900.0</td>\n",
       "      <td>0</td>\n",
       "      <td>0</td>\n",
       "    </tr>\n",
       "  </tbody>\n",
       "</table>\n",
       "</div>"
      ],
      "text/plain": [
       "      Пол  Возраст  Зарплата  Члены семьи  Страховые выплаты\n",
       "2955    1     32.0   21600.0            0                  0\n",
       "2988    1     32.0   21600.0            0                  0\n",
       "361     0     50.0   24700.0            1                  2\n",
       "2869    0     50.0   24700.0            1                  2\n",
       "333     0     32.0   25600.0            1                  0\n",
       "4230    0     32.0   25600.0            1                  0\n",
       "1378    0     36.0   26400.0            0                  0\n",
       "2723    0     36.0   26400.0            0                  0\n",
       "1002    1     34.0   26900.0            0                  0\n",
       "1140    1     34.0   26900.0            0                  0"
      ]
     },
     "execution_count": 5,
     "metadata": {},
     "output_type": "execute_result"
    }
   ],
   "source": [
    "# посмотрим примеры строк с полным повторениями,т.е. дублями\n",
    "# отсортируем по столбцу 'Зарплата'\n",
    "\n",
    "insurance.loc[insurance.duplicated(keep=False)].sort_values(by='Зарплата').head(10)"
   ]
  },
  {
   "cell_type": "markdown",
   "id": "83b478e7",
   "metadata": {},
   "source": [
    "Удалим их. Это примерно 3% от всего объема."
   ]
  },
  {
   "cell_type": "code",
   "execution_count": 6,
   "id": "ee2b6612",
   "metadata": {},
   "outputs": [],
   "source": [
    "# удалим дубликаты и обновим индексацию данных\n",
    "insurance = insurance.drop_duplicates().reset_index(drop=True) "
   ]
  },
  {
   "cell_type": "markdown",
   "id": "c405cc6a",
   "metadata": {},
   "source": [
    "Посмотрим на взаимосвязь целевого признака и признаков."
   ]
  },
  {
   "cell_type": "code",
   "execution_count": 7,
   "id": "026cb6f6",
   "metadata": {},
   "outputs": [
    {
     "data": {
      "text/html": [
       "<style  type=\"text/css\" >\n",
       "#T_79646_row0_col1{\n",
       "            background-color:  #b40426;\n",
       "            color:  #f1f1f1;\n",
       "        }#T_79646_row1_col1{\n",
       "            background-color:  #f7b79b;\n",
       "            color:  #000000;\n",
       "        }#T_79646_row2_col1{\n",
       "            background-color:  #4961d2;\n",
       "            color:  #f1f1f1;\n",
       "        }#T_79646_row3_col1{\n",
       "            background-color:  #4257c9;\n",
       "            color:  #f1f1f1;\n",
       "        }#T_79646_row4_col1{\n",
       "            background-color:  #3b4cc0;\n",
       "            color:  #f1f1f1;\n",
       "        }</style><table id=\"T_79646_\" ><thead>    <tr>        <th class=\"blank level0\" ></th>        <th class=\"col_heading level0 col0\" >index</th>        <th class=\"col_heading level0 col1\" >Страховые выплаты</th>    </tr></thead><tbody>\n",
       "                <tr>\n",
       "                        <th id=\"T_79646_level0_row0\" class=\"row_heading level0 row0\" >0</th>\n",
       "                        <td id=\"T_79646_row0_col0\" class=\"data row0 col0\" >Страховые выплаты</td>\n",
       "                        <td id=\"T_79646_row0_col1\" class=\"data row0 col1\" >1.000000</td>\n",
       "            </tr>\n",
       "            <tr>\n",
       "                        <th id=\"T_79646_level0_row1\" class=\"row_heading level0 row1\" >1</th>\n",
       "                        <td id=\"T_79646_row1_col0\" class=\"data row1 col0\" >Возраст</td>\n",
       "                        <td id=\"T_79646_row1_col1\" class=\"data row1 col1\" >0.654964</td>\n",
       "            </tr>\n",
       "            <tr>\n",
       "                        <th id=\"T_79646_level0_row2\" class=\"row_heading level0 row2\" >2</th>\n",
       "                        <td id=\"T_79646_row2_col0\" class=\"data row2 col0\" >Пол</td>\n",
       "                        <td id=\"T_79646_row2_col1\" class=\"data row2 col1\" >0.011565</td>\n",
       "            </tr>\n",
       "            <tr>\n",
       "                        <th id=\"T_79646_level0_row3\" class=\"row_heading level0 row3\" >3</th>\n",
       "                        <td id=\"T_79646_row3_col0\" class=\"data row3 col0\" >Зарплата</td>\n",
       "                        <td id=\"T_79646_row3_col1\" class=\"data row3 col1\" >-0.013123</td>\n",
       "            </tr>\n",
       "            <tr>\n",
       "                        <th id=\"T_79646_level0_row4\" class=\"row_heading level0 row4\" >4</th>\n",
       "                        <td id=\"T_79646_row4_col0\" class=\"data row4 col0\" >Члены семьи</td>\n",
       "                        <td id=\"T_79646_row4_col1\" class=\"data row4 col1\" >-0.039303</td>\n",
       "            </tr>\n",
       "    </tbody></table>"
      ],
      "text/plain": [
       "<pandas.io.formats.style.Styler at 0x7ff52c07dcd0>"
      ]
     },
     "execution_count": 7,
     "metadata": {},
     "output_type": "execute_result"
    }
   ],
   "source": [
    "# изучим взаимосвязь данных\n",
    "corr = insurance.corr()\\\n",
    "    .sort_values('Страховые выплаты', ascending=False)\\\n",
    "    .reset_index()\n",
    "corr[['index', 'Страховые выплаты']].style.background_gradient('coolwarm')"
   ]
  },
  {
   "cell_type": "markdown",
   "id": "c4b5174c",
   "metadata": {},
   "source": [
    "Целевой признак зависит от возраста клиента и не зависит от пола, зарплаты и количество членов семью застрахованного."
   ]
  },
  {
   "cell_type": "markdown",
   "id": "06205fdf",
   "metadata": {},
   "source": [
    "**Вывод**\n",
    "* была открыта и изучена таблица с данными\n",
    "* были удалены 153 повтора в таблице\n",
    "* была найдена зависимоть целевого признака от возраста клиента"
   ]
  },
  {
   "cell_type": "markdown",
   "id": "990c1577",
   "metadata": {},
   "source": [
    "## Умножение матриц"
   ]
  },
  {
   "cell_type": "markdown",
   "id": "58253c67",
   "metadata": {},
   "source": [
    "Обозначения:\n",
    "\n",
    "- $X$ — матрица признаков (нулевой столбец состоит из единиц)\n",
    "\n",
    "- $y$ — вектор целевого признака\n",
    "\n",
    "- $P$ — матрица, на которую умножаются признаки\n",
    "\n",
    "- $w$ — вектор весов линейной регрессии (нулевой элемент равен сдвигу)\n",
    "\n",
    "\n",
    "Предсказания:\n",
    "\n",
    "$$\n",
    "a = Xw\n",
    "$$\n",
    "\n",
    "Задача обучения:\n",
    "\n",
    "$$\n",
    "w = \\arg\\min_w MSE(Xw, y)\n",
    "$$\n",
    "\n",
    "Формула обучения:\n",
    "\n",
    "$$\n",
    "w = (X^T X)^{-1} X^T y\n",
    "$$\n",
    "\n",
    "Формула предсказаний:\n",
    "\n",
    "$$\n",
    "a = X(X^T X)^{-1} X^T y\n",
    "$$"
   ]
  },
  {
   "cell_type": "code",
   "execution_count": 8,
   "id": "931d43a0",
   "metadata": {},
   "outputs": [],
   "source": [
    "# разделим данные на признаки и целевой признак\n",
    "X = insurance.drop(labels = \"Страховые выплаты\",axis = 1)\n",
    "y = insurance[\"Страховые выплаты\"]"
   ]
  },
  {
   "cell_type": "code",
   "execution_count": 9,
   "id": "71c09879",
   "metadata": {},
   "outputs": [
    {
     "name": "stdout",
     "output_type": "stream",
     "text": [
      "(4847, 4) (4847,)\n"
     ]
    }
   ],
   "source": [
    "# посмотрим на размерности признаков\n",
    "print(X.shape,y.shape)"
   ]
  },
  {
   "cell_type": "code",
   "execution_count": 10,
   "id": "e6a4951a",
   "metadata": {},
   "outputs": [
    {
     "data": {
      "text/plain": [
       "(4847, 5)"
      ]
     },
     "execution_count": 10,
     "metadata": {},
     "output_type": "execute_result"
    }
   ],
   "source": [
    "# добавим к признакам 1-ный вектор, что соответствует w0\n",
    "X = np.concatenate((np.ones((X.shape[0], 1)), X), axis=1)\n",
    "X.shape"
   ]
  },
  {
   "cell_type": "markdown",
   "id": "d0597573",
   "metadata": {},
   "source": [
    "Как известно, обратимой может быть только квадратная матрица. У нас в задаче нужно создать матрицу признаков - это будет матрица с 4847 строками и всего 5 столбцами. Создадим рандомно квадратную матрицу 5*5."
   ]
  },
  {
   "cell_type": "code",
   "execution_count": 11,
   "id": "6970c136",
   "metadata": {},
   "outputs": [
    {
     "data": {
      "text/plain": [
       "array([[0.5488135 , 0.71518937, 0.60276338, 0.54488318, 0.4236548 ],\n",
       "       [0.64589411, 0.43758721, 0.891773  , 0.96366276, 0.38344152],\n",
       "       [0.79172504, 0.52889492, 0.56804456, 0.92559664, 0.07103606],\n",
       "       [0.0871293 , 0.0202184 , 0.83261985, 0.77815675, 0.87001215],\n",
       "       [0.97861834, 0.79915856, 0.46147936, 0.78052918, 0.11827443]])"
      ]
     },
     "execution_count": 11,
     "metadata": {},
     "output_type": "execute_result"
    }
   ],
   "source": [
    "# создадим рандомно квадратную матрицу 5*5\n",
    "np.random.seed(0)\n",
    "R = []\n",
    "for i in range(5):\n",
    "    vector = np.random.rand(5)\n",
    "    R.append(vector)\n",
    "    \n",
    "R = np.array(R)\n",
    "R"
   ]
  },
  {
   "cell_type": "markdown",
   "id": "5b1b0a2a",
   "metadata": {},
   "source": [
    "Домножим матрицу признаков на обратимую матрицу."
   ]
  },
  {
   "cell_type": "code",
   "execution_count": 12,
   "id": "23f443d7",
   "metadata": {},
   "outputs": [],
   "source": [
    "# домножаем матрицу на обратимую матрицу\n",
    "X_R = X.dot(R)"
   ]
  },
  {
   "cell_type": "markdown",
   "id": "65462d59",
   "metadata": {},
   "source": [
    "Обучим модель линейной регрессии и найдём метрику MSE для матрицы X и для X_R. Напишем функцию для нахождения метрики MSE."
   ]
  },
  {
   "cell_type": "code",
   "execution_count": 13,
   "id": "424effab",
   "metadata": {},
   "outputs": [],
   "source": [
    "# пишем функцию для нахождения метрики MSE\n",
    "def metrics(X,y,name):\n",
    "    model = LinearRegression()\n",
    "    model.fit(X,y)\n",
    "    predict = model.predict(X)\n",
    "    return print(\"Метрика MSE для матрицы\",name,\"равна\",mean_squared_error(y,predict))"
   ]
  },
  {
   "cell_type": "code",
   "execution_count": 14,
   "id": "f333b256",
   "metadata": {},
   "outputs": [
    {
     "name": "stdout",
     "output_type": "stream",
     "text": [
      "Метрика MSE для матрицы X равна 0.12527263826681603\n"
     ]
    }
   ],
   "source": [
    "# найдём значение MSE для исходной матрицы\n",
    "metrics(X,y,name = 'X')"
   ]
  },
  {
   "cell_type": "code",
   "execution_count": 15,
   "id": "c6b8d7f0",
   "metadata": {},
   "outputs": [
    {
     "name": "stdout",
     "output_type": "stream",
     "text": [
      "Метрика MSE для матрицы X_R равна 0.12527150333174444\n"
     ]
    }
   ],
   "source": [
    "# найдём значение MSE для преобразованной матрицы\n",
    "metrics(X_R,y,name = 'X_R')"
   ]
  },
  {
   "cell_type": "markdown",
   "id": "3a8cae03",
   "metadata": {},
   "source": [
    "**Ответ:** Метрика почти не изменилась\n",
    "\n",
    "**Обоснование:** см. ниже"
   ]
  },
  {
   "cell_type": "markdown",
   "id": "c99dc0ba",
   "metadata": {},
   "source": [
    "Предсказания:\n",
    "\n",
    "$$\n",
    "a = XPw\n",
    "$$\n",
    "\n",
    "Формула обучения:\n",
    "\n",
    "$$\n",
    "w = ((XP)^T XP)^{-1} (XP)^T y\n",
    "$$\n",
    "\n",
    "Раскроем скобки:\n",
    "\n",
    "$$\n",
    "w = (P^TX^TXP)^{-1} P^TX^T y\n",
    "$$\n",
    "\n",
    "\n",
    "Раскроем скобки для обратных матриц:\n",
    "\n",
    "$$\n",
    "w = P^{-1}(X^TX)^{-1}(P^T)^{-1}P^TX^T y\n",
    "$$\n",
    "\n",
    "Сокращаем произведение $(P^T)^{-1}P^T$, так как оно даёт единичную матрицу, получим:\n",
    "\n",
    "\n",
    "$$\n",
    "w = P^{-1}(X^TX)^{-1}X^T y\n",
    "$$\n",
    "\n",
    "Распишем предсказания:\n",
    "\n",
    "$$\n",
    "a = XPP^{-1}(X^TX)^{-1}X^T y\n",
    "$$\n",
    "\n",
    "Сокращаем произведение $P(P)^{-1}$, так как оно даёт единичную матрицу, получим:\n",
    "\n",
    "$$\n",
    "a = X(X^TX)^{-1}X^T y\n",
    "$$"
   ]
  },
  {
   "cell_type": "markdown",
   "id": "d1b8e59f",
   "metadata": {},
   "source": [
    "Получили аналогичную формулу. Значит можно сделать вывод, что домножение матрицы признаков на обратимую матрицу,никак не повлияет на значение метрик."
   ]
  },
  {
   "cell_type": "markdown",
   "id": "450dd532",
   "metadata": {},
   "source": [
    "**Вывод**\n",
    "* была найдена метрика MSE для признаков и для признаков домноженных на обратимую матрицу\n",
    "* было обосновано, почему метрика MSE не изменилась"
   ]
  },
  {
   "cell_type": "markdown",
   "id": "ba464bee",
   "metadata": {},
   "source": [
    "## Алгоритм преобразования"
   ]
  },
  {
   "cell_type": "markdown",
   "id": "036f5e6c",
   "metadata": {},
   "source": [
    "**Алгоритм**\n",
    "\n",
    "Применим метод StandardScaler.\n",
    "\n",
    "**Обоснование**\n",
    "\n",
    "Суть метода: \n",
    "\n",
    "$$\n",
    "z=(x-u)/s\n",
    "$$\n",
    "\n",
    "Где:\n",
    "x - признак, который необходимо изменить\n",
    "u - среднее значение столбца данного признака\n",
    "s - стандратное отклонение(СКО) признака.\n",
    "\n",
    "Данный метод приведет все признаки в диапазон 0  одно стандартное отклонение."
   ]
  },
  {
   "cell_type": "code",
   "execution_count": 17,
   "id": "0698ca2d",
   "metadata": {},
   "outputs": [
    {
     "data": {
      "text/plain": [
       "array([[ 0.        ,  1.0030995 ,  1.1754362 ,  0.97315092, -0.18517565],\n",
       "       [ 0.        , -0.99691008,  1.76456423, -0.19011493, -0.18517565],\n",
       "       [ 0.        , -0.99691008, -0.23847105, -1.89490109, -1.09546611],\n",
       "       ...,\n",
       "       [ 0.        , -0.99691008, -1.29890149, -0.60126924,  0.7251148 ],\n",
       "       [ 0.        ,  1.0030995 , -1.06325028, -0.72160708,  1.63540526],\n",
       "       [ 0.        ,  1.0030995 , -0.35629665,  0.07061707, -0.18517565]])"
      ]
     },
     "metadata": {},
     "output_type": "display_data"
    }
   ],
   "source": [
    "# преобразуем матрицу признаков\n",
    "ss = StandardScaler()\n",
    "X_ss = ss.fit_transform(X)\n",
    "\n",
    "display(X_ss)"
   ]
  },
  {
   "cell_type": "markdown",
   "id": "b4dedffa",
   "metadata": {},
   "source": [
    "## Проверка алгоритма"
   ]
  },
  {
   "cell_type": "code",
   "execution_count": 18,
   "id": "92e5181a",
   "metadata": {},
   "outputs": [
    {
     "name": "stdout",
     "output_type": "stream",
     "text": [
      "R2 исходных данных =  0.4302010044852067\n"
     ]
    }
   ],
   "source": [
    "# r2 исходной матрицы\n",
    "model = LinearRegression()\n",
    "model.fit(X,y)\n",
    "predict = model.predict(X)\n",
    "\n",
    "print(\"R2 исходных данных = \",r2_score(y,predict))"
   ]
  },
  {
   "cell_type": "code",
   "execution_count": 19,
   "id": "585b2208",
   "metadata": {},
   "outputs": [
    {
     "name": "stdout",
     "output_type": "stream",
     "text": [
      "R2 с обратимой матрицей =  0.4302061667047682\n"
     ]
    }
   ],
   "source": [
    "# r2 обратимой матрицы\n",
    "model = LinearRegression()\n",
    "model.fit(X_R,y)\n",
    "predict = model.predict(X_R)\n",
    "\n",
    "print(\"R2 с обратимой матрицей = \",r2_score(y,predict))"
   ]
  },
  {
   "cell_type": "code",
   "execution_count": 20,
   "id": "1c9ba572",
   "metadata": {},
   "outputs": [
    {
     "name": "stdout",
     "output_type": "stream",
     "text": [
      "R2 закодированной матрицы =  0.4302010044852068\n"
     ]
    }
   ],
   "source": [
    "# r2 закодированной матрицы\n",
    "model = LinearRegression()\n",
    "model.fit(X_ss,y)\n",
    "predict = model.predict(X_ss)\n",
    "\n",
    "print(\"R2 закодированной матрицы = \",r2_score(y,predict))"
   ]
  },
  {
   "cell_type": "markdown",
   "id": "8bba050b",
   "metadata": {},
   "source": [
    "**Вывод**\n",
    "* метрика R2 не отличается до и после преобразований"
   ]
  },
  {
   "cell_type": "code",
   "execution_count": null,
   "id": "0f2da6dc",
   "metadata": {},
   "outputs": [],
   "source": []
  }
 ],
 "metadata": {
  "ExecuteTimeLog": [
   {
    "duration": 1397,
    "start_time": "2022-10-02T20:25:35.377Z"
   },
   {
    "duration": 83,
    "start_time": "2022-10-02T20:26:54.145Z"
   },
   {
    "duration": 4,
    "start_time": "2022-10-02T20:27:30.086Z"
   },
   {
    "duration": 24,
    "start_time": "2022-10-02T20:27:39.210Z"
   },
   {
    "duration": 12,
    "start_time": "2022-10-02T20:28:46.747Z"
   },
   {
    "duration": 5,
    "start_time": "2022-10-02T20:29:15.486Z"
   },
   {
    "duration": 43,
    "start_time": "2022-10-02T20:29:34.877Z"
   },
   {
    "duration": 4,
    "start_time": "2022-10-02T20:32:18.556Z"
   },
   {
    "duration": 3,
    "start_time": "2022-10-02T20:32:35.083Z"
   },
   {
    "duration": 5,
    "start_time": "2022-10-02T20:33:12.179Z"
   },
   {
    "duration": 5,
    "start_time": "2022-10-02T20:34:26.540Z"
   },
   {
    "duration": 2,
    "start_time": "2022-10-02T20:35:05.519Z"
   },
   {
    "duration": 3,
    "start_time": "2022-10-02T20:35:33.124Z"
   },
   {
    "duration": 9,
    "start_time": "2022-10-02T20:35:57.575Z"
   },
   {
    "duration": 7,
    "start_time": "2022-10-02T20:36:18.178Z"
   },
   {
    "duration": 120,
    "start_time": "2022-10-02T20:36:36.872Z"
   },
   {
    "duration": 5,
    "start_time": "2022-10-02T20:41:34.351Z"
   },
   {
    "duration": 7,
    "start_time": "2022-10-02T20:42:03.458Z"
   },
   {
    "duration": 6,
    "start_time": "2022-10-02T20:42:25.406Z"
   },
   {
    "duration": 6,
    "start_time": "2022-10-02T20:42:39.344Z"
   }
  ],
  "kernelspec": {
   "display_name": "Python 3 (ipykernel)",
   "language": "python",
   "name": "python3"
  },
  "language_info": {
   "codemirror_mode": {
    "name": "ipython",
    "version": 3
   },
   "file_extension": ".py",
   "mimetype": "text/x-python",
   "name": "python",
   "nbconvert_exporter": "python",
   "pygments_lexer": "ipython3",
   "version": "3.9.5"
  },
  "toc": {
   "base_numbering": 1,
   "nav_menu": {},
   "number_sections": true,
   "sideBar": true,
   "skip_h1_title": true,
   "title_cell": "Содержание",
   "title_sidebar": "Contents",
   "toc_cell": true,
   "toc_position": {},
   "toc_section_display": true,
   "toc_window_display": true
  }
 },
 "nbformat": 4,
 "nbformat_minor": 5
}
