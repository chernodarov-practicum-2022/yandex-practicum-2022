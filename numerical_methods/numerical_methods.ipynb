{
 "cells": [
  {
   "cell_type": "markdown",
   "id": "8601a9a0",
   "metadata": {
    "toc": true
   },
   "source": [
    "<h1>Содержание<span class=\"tocSkip\"></span></h1>\n",
    "<div class=\"toc\"><ul class=\"toc-item\"><li><span><a href=\"#Подготовка-данных\" data-toc-modified-id=\"Подготовка-данных-1\"><span class=\"toc-item-num\">1&nbsp;&nbsp;</span>Подготовка данных</a></span><ul class=\"toc-item\"><li><span><a href=\"#Устранение-выбросов\" data-toc-modified-id=\"Устранение-выбросов-1.1\"><span class=\"toc-item-num\">1.1&nbsp;&nbsp;</span>Устранение выбросов</a></span></li><li><span><a href=\"#Борьба-с-пропусками\" data-toc-modified-id=\"Борьба-с-пропусками-1.2\"><span class=\"toc-item-num\">1.2&nbsp;&nbsp;</span>Борьба с пропусками</a></span></li><li><span><a href=\"#Тип-данных\" data-toc-modified-id=\"Тип-данных-1.3\"><span class=\"toc-item-num\">1.3&nbsp;&nbsp;</span>Тип данных</a></span></li></ul></li><li><span><a href=\"#Обучение-моделей\" data-toc-modified-id=\"Обучение-моделей-2\"><span class=\"toc-item-num\">2&nbsp;&nbsp;</span>Обучение моделей</a></span><ul class=\"toc-item\"><li><span><a href=\"#CatBoostRegressor\" data-toc-modified-id=\"CatBoostRegressor-2.1\"><span class=\"toc-item-num\">2.1&nbsp;&nbsp;</span>CatBoostRegressor</a></span></li><li><span><a href=\"#LGBMRegressor\" data-toc-modified-id=\"LGBMRegressor-2.2\"><span class=\"toc-item-num\">2.2&nbsp;&nbsp;</span>LGBMRegressor</a></span></li><li><span><a href=\"#Решающее-дерево\" data-toc-modified-id=\"Решающее-дерево-2.3\"><span class=\"toc-item-num\">2.3&nbsp;&nbsp;</span>Решающее дерево</a></span></li></ul></li><li><span><a href=\"#Анализ-моделей\" data-toc-modified-id=\"Анализ-моделей-3\"><span class=\"toc-item-num\">3&nbsp;&nbsp;</span>Анализ моделей</a></span></li></ul></div>"
   ]
  },
  {
   "cell_type": "markdown",
   "id": "b02c6372",
   "metadata": {},
   "source": [
    "# Определение стоимости автомобилей"
   ]
  },
  {
   "cell_type": "markdown",
   "id": "5caa17c2",
   "metadata": {},
   "source": [
    "Сервис по продаже автомобилей с пробегом «Не бит, не крашен» разрабатывает приложение для привлечения новых клиентов. В нём можно быстро узнать рыночную стоимость своего автомобиля. В вашем распоряжении исторические данные: технические характеристики, комплектации и цены автомобилей. Вам нужно построить модель для определения стоимости. \n",
    "\n",
    "Заказчику важны:\n",
    "\n",
    "- качество предсказания;\n",
    "- скорость предсказания;\n",
    "- время обучения."
   ]
  },
  {
   "cell_type": "markdown",
   "id": "86238cfd",
   "metadata": {},
   "source": [
    "# Описание данных\n",
    "\n",
    "Признаки:\n",
    "* DateCrawled — дата скачивания анкеты из базы\n",
    "* VehicleType — тип автомобильного кузова\n",
    "* RegistrationYear — год регистрации автомобиля\n",
    "* Gearbox — тип коробки передач\n",
    "* Power — мощность (л. с.)\n",
    "* Model — модель автомобиля\n",
    "* Kilometer — пробег (км)\n",
    "* RegistrationMonth — месяц регистрации автомобиля\n",
    "* FuelType — тип топлива\n",
    "* Brand — марка автомобиля\n",
    "* NotRepaired — была машина в ремонте или нет\n",
    "* DateCreated — дата создания анкеты\n",
    "* NumberOfPictures — количество фотографий автомобиля\n",
    "* PostalCode — почтовый индекс владельца анкеты (пользователя)\n",
    "* LastSeen — дата последней активности пользователя\n",
    "\n",
    "Целевой признак:\n",
    "* Price — цена (евро)"
   ]
  },
  {
   "cell_type": "markdown",
   "id": "ae3fcbca",
   "metadata": {},
   "source": [
    "## Подготовка данных"
   ]
  },
  {
   "cell_type": "markdown",
   "id": "1562c5b0",
   "metadata": {},
   "source": [
    "Загрузим нужные библиотеки."
   ]
  },
  {
   "cell_type": "code",
   "execution_count": 1,
   "id": "74d7ea48",
   "metadata": {},
   "outputs": [],
   "source": [
    "# импортируем нужные библиотеки\n",
    "import pandas as pd\n",
    "import numpy as np\n",
    "import matplotlib.pyplot as plt\n",
    "import seaborn as sns\n",
    "import warnings\n",
    "from sklearn.model_selection import train_test_split\n",
    "from sklearn.metrics import mean_squared_error\n",
    "from sklearn.preprocessing import OrdinalEncoder\n",
    "from sklearn.linear_model import LinearRegression\n",
    "from sklearn.tree import DecisionTreeRegressor\n",
    "from catboost import Pool, CatBoostRegressor, cv\n",
    "from lightgbm import LGBMRegressor\n",
    "from sklearn.model_selection import cross_val_score, GridSearchCV\n",
    "warnings.filterwarnings('ignore')\n",
    "import time"
   ]
  },
  {
   "cell_type": "markdown",
   "id": "4786463a",
   "metadata": {},
   "source": [
    "Прочитаем файл /datasets/autos.csv и сохраним его в переменную `auto`."
   ]
  },
  {
   "cell_type": "code",
   "execution_count": 2,
   "id": "45f3a03f",
   "metadata": {},
   "outputs": [],
   "source": [
    "# читаем файл и сохраняем его в auto\n",
    "auto = pd.read_csv('/datasets/autos.csv')"
   ]
  },
  {
   "cell_type": "markdown",
   "id": "5be730f3",
   "metadata": {},
   "source": [
    "Напишем функцию, которая выводит общую информацию о таблице, а так же посчитает пропуски и проверит на наличие дубликатов."
   ]
  },
  {
   "cell_type": "code",
   "execution_count": 3,
   "id": "330b7d14",
   "metadata": {},
   "outputs": [],
   "source": [
    "#пишем функцию summary\n",
    "def summary(df):\n",
    "    print(df.info())\n",
    "    display(df.head())\n",
    "    count=0\n",
    "    for col in df.columns:\n",
    "        if df.isna().sum()[col]==0:\n",
    "            count+=1\n",
    "        else:\n",
    "            print(f'Пропущенных значений в столбце {col}: {df.isna().sum()[col]}')\n",
    "    if count==len(df.columns):\n",
    "        print('Пропущенных значений в таблице нет')\n",
    "    print(f'Повторов в таблице {df.duplicated().sum()}') \n",
    "    display(df.describe(percentiles=[.25,.5]))"
   ]
  },
  {
   "cell_type": "code",
   "execution_count": 4,
   "id": "3dcd3d97",
   "metadata": {},
   "outputs": [
    {
     "name": "stdout",
     "output_type": "stream",
     "text": [
      "<class 'pandas.core.frame.DataFrame'>\n",
      "RangeIndex: 354369 entries, 0 to 354368\n",
      "Data columns (total 16 columns):\n",
      " #   Column             Non-Null Count   Dtype \n",
      "---  ------             --------------   ----- \n",
      " 0   DateCrawled        354369 non-null  object\n",
      " 1   Price              354369 non-null  int64 \n",
      " 2   VehicleType        316879 non-null  object\n",
      " 3   RegistrationYear   354369 non-null  int64 \n",
      " 4   Gearbox            334536 non-null  object\n",
      " 5   Power              354369 non-null  int64 \n",
      " 6   Model              334664 non-null  object\n",
      " 7   Kilometer          354369 non-null  int64 \n",
      " 8   RegistrationMonth  354369 non-null  int64 \n",
      " 9   FuelType           321474 non-null  object\n",
      " 10  Brand              354369 non-null  object\n",
      " 11  NotRepaired        283215 non-null  object\n",
      " 12  DateCreated        354369 non-null  object\n",
      " 13  NumberOfPictures   354369 non-null  int64 \n",
      " 14  PostalCode         354369 non-null  int64 \n",
      " 15  LastSeen           354369 non-null  object\n",
      "dtypes: int64(7), object(9)\n",
      "memory usage: 43.3+ MB\n",
      "None\n"
     ]
    },
    {
     "data": {
      "text/html": [
       "<div>\n",
       "<style scoped>\n",
       "    .dataframe tbody tr th:only-of-type {\n",
       "        vertical-align: middle;\n",
       "    }\n",
       "\n",
       "    .dataframe tbody tr th {\n",
       "        vertical-align: top;\n",
       "    }\n",
       "\n",
       "    .dataframe thead th {\n",
       "        text-align: right;\n",
       "    }\n",
       "</style>\n",
       "<table border=\"1\" class=\"dataframe\">\n",
       "  <thead>\n",
       "    <tr style=\"text-align: right;\">\n",
       "      <th></th>\n",
       "      <th>DateCrawled</th>\n",
       "      <th>Price</th>\n",
       "      <th>VehicleType</th>\n",
       "      <th>RegistrationYear</th>\n",
       "      <th>Gearbox</th>\n",
       "      <th>Power</th>\n",
       "      <th>Model</th>\n",
       "      <th>Kilometer</th>\n",
       "      <th>RegistrationMonth</th>\n",
       "      <th>FuelType</th>\n",
       "      <th>Brand</th>\n",
       "      <th>NotRepaired</th>\n",
       "      <th>DateCreated</th>\n",
       "      <th>NumberOfPictures</th>\n",
       "      <th>PostalCode</th>\n",
       "      <th>LastSeen</th>\n",
       "    </tr>\n",
       "  </thead>\n",
       "  <tbody>\n",
       "    <tr>\n",
       "      <th>0</th>\n",
       "      <td>2016-03-24 11:52:17</td>\n",
       "      <td>480</td>\n",
       "      <td>NaN</td>\n",
       "      <td>1993</td>\n",
       "      <td>manual</td>\n",
       "      <td>0</td>\n",
       "      <td>golf</td>\n",
       "      <td>150000</td>\n",
       "      <td>0</td>\n",
       "      <td>petrol</td>\n",
       "      <td>volkswagen</td>\n",
       "      <td>NaN</td>\n",
       "      <td>2016-03-24 00:00:00</td>\n",
       "      <td>0</td>\n",
       "      <td>70435</td>\n",
       "      <td>2016-04-07 03:16:57</td>\n",
       "    </tr>\n",
       "    <tr>\n",
       "      <th>1</th>\n",
       "      <td>2016-03-24 10:58:45</td>\n",
       "      <td>18300</td>\n",
       "      <td>coupe</td>\n",
       "      <td>2011</td>\n",
       "      <td>manual</td>\n",
       "      <td>190</td>\n",
       "      <td>NaN</td>\n",
       "      <td>125000</td>\n",
       "      <td>5</td>\n",
       "      <td>gasoline</td>\n",
       "      <td>audi</td>\n",
       "      <td>yes</td>\n",
       "      <td>2016-03-24 00:00:00</td>\n",
       "      <td>0</td>\n",
       "      <td>66954</td>\n",
       "      <td>2016-04-07 01:46:50</td>\n",
       "    </tr>\n",
       "    <tr>\n",
       "      <th>2</th>\n",
       "      <td>2016-03-14 12:52:21</td>\n",
       "      <td>9800</td>\n",
       "      <td>suv</td>\n",
       "      <td>2004</td>\n",
       "      <td>auto</td>\n",
       "      <td>163</td>\n",
       "      <td>grand</td>\n",
       "      <td>125000</td>\n",
       "      <td>8</td>\n",
       "      <td>gasoline</td>\n",
       "      <td>jeep</td>\n",
       "      <td>NaN</td>\n",
       "      <td>2016-03-14 00:00:00</td>\n",
       "      <td>0</td>\n",
       "      <td>90480</td>\n",
       "      <td>2016-04-05 12:47:46</td>\n",
       "    </tr>\n",
       "    <tr>\n",
       "      <th>3</th>\n",
       "      <td>2016-03-17 16:54:04</td>\n",
       "      <td>1500</td>\n",
       "      <td>small</td>\n",
       "      <td>2001</td>\n",
       "      <td>manual</td>\n",
       "      <td>75</td>\n",
       "      <td>golf</td>\n",
       "      <td>150000</td>\n",
       "      <td>6</td>\n",
       "      <td>petrol</td>\n",
       "      <td>volkswagen</td>\n",
       "      <td>no</td>\n",
       "      <td>2016-03-17 00:00:00</td>\n",
       "      <td>0</td>\n",
       "      <td>91074</td>\n",
       "      <td>2016-03-17 17:40:17</td>\n",
       "    </tr>\n",
       "    <tr>\n",
       "      <th>4</th>\n",
       "      <td>2016-03-31 17:25:20</td>\n",
       "      <td>3600</td>\n",
       "      <td>small</td>\n",
       "      <td>2008</td>\n",
       "      <td>manual</td>\n",
       "      <td>69</td>\n",
       "      <td>fabia</td>\n",
       "      <td>90000</td>\n",
       "      <td>7</td>\n",
       "      <td>gasoline</td>\n",
       "      <td>skoda</td>\n",
       "      <td>no</td>\n",
       "      <td>2016-03-31 00:00:00</td>\n",
       "      <td>0</td>\n",
       "      <td>60437</td>\n",
       "      <td>2016-04-06 10:17:21</td>\n",
       "    </tr>\n",
       "  </tbody>\n",
       "</table>\n",
       "</div>"
      ],
      "text/plain": [
       "           DateCrawled  Price VehicleType  RegistrationYear Gearbox  Power  \\\n",
       "0  2016-03-24 11:52:17    480         NaN              1993  manual      0   \n",
       "1  2016-03-24 10:58:45  18300       coupe              2011  manual    190   \n",
       "2  2016-03-14 12:52:21   9800         suv              2004    auto    163   \n",
       "3  2016-03-17 16:54:04   1500       small              2001  manual     75   \n",
       "4  2016-03-31 17:25:20   3600       small              2008  manual     69   \n",
       "\n",
       "   Model  Kilometer  RegistrationMonth  FuelType       Brand NotRepaired  \\\n",
       "0   golf     150000                  0    petrol  volkswagen         NaN   \n",
       "1    NaN     125000                  5  gasoline        audi         yes   \n",
       "2  grand     125000                  8  gasoline        jeep         NaN   \n",
       "3   golf     150000                  6    petrol  volkswagen          no   \n",
       "4  fabia      90000                  7  gasoline       skoda          no   \n",
       "\n",
       "           DateCreated  NumberOfPictures  PostalCode             LastSeen  \n",
       "0  2016-03-24 00:00:00                 0       70435  2016-04-07 03:16:57  \n",
       "1  2016-03-24 00:00:00                 0       66954  2016-04-07 01:46:50  \n",
       "2  2016-03-14 00:00:00                 0       90480  2016-04-05 12:47:46  \n",
       "3  2016-03-17 00:00:00                 0       91074  2016-03-17 17:40:17  \n",
       "4  2016-03-31 00:00:00                 0       60437  2016-04-06 10:17:21  "
      ]
     },
     "metadata": {},
     "output_type": "display_data"
    },
    {
     "name": "stdout",
     "output_type": "stream",
     "text": [
      "Пропущенных значений в столбце VehicleType: 37490\n",
      "Пропущенных значений в столбце Gearbox: 19833\n",
      "Пропущенных значений в столбце Model: 19705\n",
      "Пропущенных значений в столбце FuelType: 32895\n",
      "Пропущенных значений в столбце NotRepaired: 71154\n",
      "Повторов в таблице 4\n"
     ]
    },
    {
     "data": {
      "text/html": [
       "<div>\n",
       "<style scoped>\n",
       "    .dataframe tbody tr th:only-of-type {\n",
       "        vertical-align: middle;\n",
       "    }\n",
       "\n",
       "    .dataframe tbody tr th {\n",
       "        vertical-align: top;\n",
       "    }\n",
       "\n",
       "    .dataframe thead th {\n",
       "        text-align: right;\n",
       "    }\n",
       "</style>\n",
       "<table border=\"1\" class=\"dataframe\">\n",
       "  <thead>\n",
       "    <tr style=\"text-align: right;\">\n",
       "      <th></th>\n",
       "      <th>Price</th>\n",
       "      <th>RegistrationYear</th>\n",
       "      <th>Power</th>\n",
       "      <th>Kilometer</th>\n",
       "      <th>RegistrationMonth</th>\n",
       "      <th>NumberOfPictures</th>\n",
       "      <th>PostalCode</th>\n",
       "    </tr>\n",
       "  </thead>\n",
       "  <tbody>\n",
       "    <tr>\n",
       "      <th>count</th>\n",
       "      <td>354369.000000</td>\n",
       "      <td>354369.000000</td>\n",
       "      <td>354369.000000</td>\n",
       "      <td>354369.000000</td>\n",
       "      <td>354369.000000</td>\n",
       "      <td>354369.0</td>\n",
       "      <td>354369.000000</td>\n",
       "    </tr>\n",
       "    <tr>\n",
       "      <th>mean</th>\n",
       "      <td>4416.656776</td>\n",
       "      <td>2004.234448</td>\n",
       "      <td>110.094337</td>\n",
       "      <td>128211.172535</td>\n",
       "      <td>5.714645</td>\n",
       "      <td>0.0</td>\n",
       "      <td>50508.689087</td>\n",
       "    </tr>\n",
       "    <tr>\n",
       "      <th>std</th>\n",
       "      <td>4514.158514</td>\n",
       "      <td>90.227958</td>\n",
       "      <td>189.850405</td>\n",
       "      <td>37905.341530</td>\n",
       "      <td>3.726421</td>\n",
       "      <td>0.0</td>\n",
       "      <td>25783.096248</td>\n",
       "    </tr>\n",
       "    <tr>\n",
       "      <th>min</th>\n",
       "      <td>0.000000</td>\n",
       "      <td>1000.000000</td>\n",
       "      <td>0.000000</td>\n",
       "      <td>5000.000000</td>\n",
       "      <td>0.000000</td>\n",
       "      <td>0.0</td>\n",
       "      <td>1067.000000</td>\n",
       "    </tr>\n",
       "    <tr>\n",
       "      <th>25%</th>\n",
       "      <td>1050.000000</td>\n",
       "      <td>1999.000000</td>\n",
       "      <td>69.000000</td>\n",
       "      <td>125000.000000</td>\n",
       "      <td>3.000000</td>\n",
       "      <td>0.0</td>\n",
       "      <td>30165.000000</td>\n",
       "    </tr>\n",
       "    <tr>\n",
       "      <th>50%</th>\n",
       "      <td>2700.000000</td>\n",
       "      <td>2003.000000</td>\n",
       "      <td>105.000000</td>\n",
       "      <td>150000.000000</td>\n",
       "      <td>6.000000</td>\n",
       "      <td>0.0</td>\n",
       "      <td>49413.000000</td>\n",
       "    </tr>\n",
       "    <tr>\n",
       "      <th>max</th>\n",
       "      <td>20000.000000</td>\n",
       "      <td>9999.000000</td>\n",
       "      <td>20000.000000</td>\n",
       "      <td>150000.000000</td>\n",
       "      <td>12.000000</td>\n",
       "      <td>0.0</td>\n",
       "      <td>99998.000000</td>\n",
       "    </tr>\n",
       "  </tbody>\n",
       "</table>\n",
       "</div>"
      ],
      "text/plain": [
       "               Price  RegistrationYear          Power      Kilometer  \\\n",
       "count  354369.000000     354369.000000  354369.000000  354369.000000   \n",
       "mean     4416.656776       2004.234448     110.094337  128211.172535   \n",
       "std      4514.158514         90.227958     189.850405   37905.341530   \n",
       "min         0.000000       1000.000000       0.000000    5000.000000   \n",
       "25%      1050.000000       1999.000000      69.000000  125000.000000   \n",
       "50%      2700.000000       2003.000000     105.000000  150000.000000   \n",
       "max     20000.000000       9999.000000   20000.000000  150000.000000   \n",
       "\n",
       "       RegistrationMonth  NumberOfPictures     PostalCode  \n",
       "count      354369.000000          354369.0  354369.000000  \n",
       "mean            5.714645               0.0   50508.689087  \n",
       "std             3.726421               0.0   25783.096248  \n",
       "min             0.000000               0.0    1067.000000  \n",
       "25%             3.000000               0.0   30165.000000  \n",
       "50%             6.000000               0.0   49413.000000  \n",
       "max            12.000000               0.0   99998.000000  "
      ]
     },
     "metadata": {},
     "output_type": "display_data"
    }
   ],
   "source": [
    "# смотрим на данные таблицы\n",
    "summary(auto)"
   ]
  },
  {
   "cell_type": "markdown",
   "id": "0042f684",
   "metadata": {},
   "source": [
    "Итак есть данные о 354369 автомобилях. В 5 столбцах есть пропуски. Так же есть много категориальных столбцов, нужно их закодировать, для обучения модели. Так же можно заметить, что есть значения с 0 мощностью и 0 стоимостью автомобиля, такого быть не может. Для обучения модели, точно не понядобятся следующие столбцы: `DateCrawled`, `DateCreated`, `LastSeen`, `RegistrationMonth`, удалим их. Так же удалим столбец `NumberOfPictures`, так как он весь состоит из нулей."
   ]
  },
  {
   "cell_type": "code",
   "execution_count": 5,
   "id": "2585cdd9",
   "metadata": {},
   "outputs": [],
   "source": [
    "# удаляем ненужные столбцы\n",
    "auto = auto.drop(columns = ['DateCrawled','DateCreated','LastSeen','RegistrationMonth','NumberOfPictures'])"
   ]
  },
  {
   "cell_type": "code",
   "execution_count": 6,
   "id": "d97d51d2",
   "metadata": {},
   "outputs": [
    {
     "name": "stdout",
     "output_type": "stream",
     "text": [
      "<class 'pandas.core.frame.DataFrame'>\n",
      "RangeIndex: 354369 entries, 0 to 354368\n",
      "Data columns (total 11 columns):\n",
      " #   Column            Non-Null Count   Dtype \n",
      "---  ------            --------------   ----- \n",
      " 0   Price             354369 non-null  int64 \n",
      " 1   VehicleType       316879 non-null  object\n",
      " 2   RegistrationYear  354369 non-null  int64 \n",
      " 3   Gearbox           334536 non-null  object\n",
      " 4   Power             354369 non-null  int64 \n",
      " 5   Model             334664 non-null  object\n",
      " 6   Kilometer         354369 non-null  int64 \n",
      " 7   FuelType          321474 non-null  object\n",
      " 8   Brand             354369 non-null  object\n",
      " 9   NotRepaired       283215 non-null  object\n",
      " 10  PostalCode        354369 non-null  int64 \n",
      "dtypes: int64(5), object(6)\n",
      "memory usage: 29.7+ MB\n"
     ]
    }
   ],
   "source": [
    "auto.info()"
   ]
  },
  {
   "cell_type": "markdown",
   "id": "87f21f76",
   "metadata": {},
   "source": [
    "Посмотрим, сколько строк с 0 ценой автомобиля."
   ]
  },
  {
   "cell_type": "code",
   "execution_count": 7,
   "id": "ef1b82dd",
   "metadata": {},
   "outputs": [
    {
     "data": {
      "text/plain": [
       "0        10772\n",
       "500       5670\n",
       "1500      5394\n",
       "1000      4649\n",
       "1200      4594\n",
       "         ...  \n",
       "13180        1\n",
       "10879        1\n",
       "2683         1\n",
       "634          1\n",
       "8188         1\n",
       "Name: Price, Length: 3731, dtype: int64"
      ]
     },
     "execution_count": 7,
     "metadata": {},
     "output_type": "execute_result"
    }
   ],
   "source": [
    "# смотрим уникальные значения столбца\n",
    "auto['Price'].value_counts()"
   ]
  },
  {
   "cell_type": "markdown",
   "id": "189bcb23",
   "metadata": {},
   "source": [
    "Прежде чем начнём устранять пропуски, изучим уникальные значения столбцов."
   ]
  },
  {
   "cell_type": "code",
   "execution_count": 8,
   "id": "6483ab71",
   "metadata": {},
   "outputs": [
    {
     "data": {
      "text/plain": [
       "array([nan, 'coupe', 'suv', 'small', 'sedan', 'convertible', 'bus',\n",
       "       'wagon', 'other'], dtype=object)"
      ]
     },
     "execution_count": 8,
     "metadata": {},
     "output_type": "execute_result"
    }
   ],
   "source": [
    "# смотрим уникальные значения столбца\n",
    "auto['VehicleType'].unique()"
   ]
  },
  {
   "cell_type": "code",
   "execution_count": 9,
   "id": "d6ed42f7",
   "metadata": {},
   "outputs": [
    {
     "data": {
      "text/plain": [
       "array([1993, 2011, 2004, 2001, 2008, 1995, 1980, 2014, 1998, 2005, 1910,\n",
       "       2016, 2007, 2009, 2002, 2018, 1997, 1990, 2017, 1981, 2003, 1994,\n",
       "       1991, 1984, 2006, 1999, 2012, 2010, 2000, 1992, 2013, 1996, 1985,\n",
       "       1989, 2015, 1982, 1976, 1983, 1973, 1111, 1969, 1971, 1987, 1986,\n",
       "       1988, 1970, 1965, 1945, 1925, 1974, 1979, 1955, 1978, 1972, 1968,\n",
       "       1977, 1961, 1960, 1966, 1975, 1963, 1964, 5000, 1954, 1958, 1967,\n",
       "       1959, 9999, 1956, 3200, 1000, 1941, 8888, 1500, 2200, 4100, 1962,\n",
       "       1929, 1957, 1940, 3000, 2066, 1949, 2019, 1937, 1951, 1800, 1953,\n",
       "       1234, 8000, 5300, 9000, 2900, 6000, 5900, 5911, 1933, 1400, 1950,\n",
       "       4000, 1948, 1952, 1200, 8500, 1932, 1255, 3700, 3800, 4800, 1942,\n",
       "       7000, 1935, 1936, 6500, 1923, 2290, 2500, 1930, 1001, 9450, 1944,\n",
       "       1943, 1934, 1938, 1688, 2800, 1253, 1928, 1919, 5555, 5600, 1600,\n",
       "       2222, 1039, 9996, 1300, 8455, 1931, 1915, 4500, 1920, 1602, 7800,\n",
       "       9229, 1947, 1927, 7100, 8200, 1946, 7500, 3500])"
      ]
     },
     "execution_count": 9,
     "metadata": {},
     "output_type": "execute_result"
    }
   ],
   "source": [
    "# смотрим уникальные значения столбца\n",
    "auto['RegistrationYear'].unique()"
   ]
  },
  {
   "cell_type": "code",
   "execution_count": 10,
   "id": "6158ab1c",
   "metadata": {},
   "outputs": [
    {
     "data": {
      "text/plain": [
       "array(['manual', 'auto', nan], dtype=object)"
      ]
     },
     "execution_count": 10,
     "metadata": {},
     "output_type": "execute_result"
    }
   ],
   "source": [
    "# смотрим уникальные значения столбца\n",
    "auto['Gearbox'].unique()"
   ]
  },
  {
   "cell_type": "code",
   "execution_count": 11,
   "id": "7b5429ee",
   "metadata": {},
   "outputs": [
    {
     "data": {
      "text/plain": [
       "array([    0,   190,   163,    75,    69,   102,   109,    50,   125,\n",
       "         101,   105,   140,   115,   131,    60,   136,   160,   231,\n",
       "          90,   118,   193,    99,   113,   218,   122,   129,    70,\n",
       "         306,    95,    61,   177,    80,   170,    55,   143,    64,\n",
       "         286,   232,   150,   156,    82,   155,    54,   185,    87,\n",
       "         180,    86,    84,   224,   235,   200,   178,   265,    77,\n",
       "         110,   144,   120,   116,   184,   126,   204,    88,   194,\n",
       "         305,   197,   179,   250,    45,   313,    41,   165,    98,\n",
       "         130,   114,   211,    56,   201,   213,    58,   107,    83,\n",
       "         174,   100,   220,    85,    73,   192,    68,    66,   299,\n",
       "          74,    52,   147,    65,   310,    71,    97,   239,   203,\n",
       "           5,   300,   103,   258,   320,    63,    81,   148,    44,\n",
       "         145,   230,   280,   260,   104,   188,   333,   186,   117,\n",
       "         141,    59,   132,   234,   158,    39,    92,    51,   135,\n",
       "          53,   209,    43,   146,    67,   106,   166,   276,   344,\n",
       "          72,   249,   237,   245,   111,   326,   279,    23,   138,\n",
       "         175,    96,   226,    26,    37,   301,   334,   128,   133,\n",
       "         124,    33,   219,   241,   167,    94,   182,   196,   238,\n",
       "        1398,   228,   112,    48,   272,   139,  1799,    40,   240,\n",
       "          79,   256,   360,   243,   375,   252,   396,   340,   108,\n",
       "         121,   345,   187,   289,   222,   198,   284,   450,   233,\n",
       "         387,   152,   347,   172,    57,   137,   212,   476,   314,\n",
       "          30,     7,    47,   173,   290,   207,   205,   171,   750,\n",
       "          78,    91,    89,   349,   325,    76,   151,   350,   953,\n",
       "          93,   142,   500,   343,   199,   119,   164,    16,   264,\n",
       "         367,   208,   210,    46,   435,  1001,   225,   127,   176,\n",
       "         161,   603,   307,   354,    35,   206,   771,   355,   273,\n",
       "         223,   255,   123,   154,   149,  7515,  1400,   268,   620,\n",
       "         169,   400,   275,    34,     2,   242,  1779,   285,   162,\n",
       "         328,  1753,   329,   134,   420,   247,   168, 10317,   215,\n",
       "          18,   330,   283,    62,    10,   214,   183,   254,    15,\n",
       "         321,   322,   315,   952,   600,   181,   426,   599,   379,\n",
       "         999,    22,   157,    42,   195,   553,     4,   309,   507,\n",
       "         381,   271,   440,   189,   401,  1111,  2729,    21,   236,\n",
       "        1240,  1704,   521,     1,  1900,   270,    24,   159,   292,\n",
       "         808,   515,  1200,   303,    29,    38,  1993,    14,   216,\n",
       "         610,   504,    49,   267,   331,   363,   261,   385,  1011,\n",
       "         253,   696, 10520,   376,   227,   311,    27,   217,    20,\n",
       "        1999,    11,  1056,    25,   394,    12,   298,   296,  1659,\n",
       "         294,   551,  6920,   246,    17,  1800,  1625,   368,   390,\n",
       "         221,  1367,   259,   606,   327,  2017,  1597,   266,   374,\n",
       "         392,     9,   405,    13,   262,   601,   430,   295,     8,\n",
       "         411,   900,   541,  7512,   382, 10218,  7544,  1102,   287,\n",
       "          19,   751,   297,  1090,   457,   282,   602,   388,     6,\n",
       "        1000,  5411,   335,  1360,   202,  3750,   805,  1062,  1024,\n",
       "       11530,   364,  1796,  5000,   269,   460,  1002,   288,  1780,\n",
       "       12012, 17932,   316,  2005,  1399,   191,   278,  1300,   380,\n",
       "         257,   449,  1256,   153,  1653,   520,   560,   281, 12510,\n",
       "           3,  1500,   386,    32,  1202,  2016,  1436,  1405,   671,\n",
       "         274,  1288,  1055, 10912, 15016,  6226,  1115,   277,  1105,\n",
       "         341,  1223,  2340,  8404,  1968,   338,   445,  1920,   370,\n",
       "         517,  4400, 10710, 10522,  9010,   431,  1164, 11509,   371,\n",
       "        1501,   428, 11635,    36,   304,   348,  1703,  1910,  1995,\n",
       "         579, 10000,   580,   408,    31,  1005,   358,  1403,   489,\n",
       "        5575, 19211,   585,   960,   365,   353,   490,   352,  1801,\n",
       "         346,   550,  3199,   800,  7508,  1312,   357,  1937,   950,\n",
       "        4700,  1600,  3454, 19208,   251,   850,   337,   700,  8011,\n",
       "        2331,  2789,   487,   519,  2461,  6006,  3500,  5815,  6018,\n",
       "        1781,  1503,   612,  1596,   229,  1506,  5809, 15020,  5867,\n",
       "        2172,  1598, 17410,  1363,   584,  1054,   851,  1339,   318,\n",
       "         510,   525,  1700,    28,  1151,   685,  6011,   317,   703,\n",
       "        1771, 15001,   514,   362,   332,   324,  6045,   530,   425,\n",
       "         308,  6010,   475,   903,   640,  2000,   248,   651,  2799,\n",
       "       17011,   505,  1103,  1521,   351, 16051,   398,  9000,  1998,\n",
       "       10311,   409,  1230, 17019, 12684,  8259,  1895,   901,  1317,\n",
       "         871,   909,  2201,  1595,   776, 17700, 11011,  1199,   459,\n",
       "        1162,  1120, 15033,  1896,   339,   361,   574,  6512,   454,\n",
       "         650, 13616,   604,   607, 16312,  1082,   336, 20000,   416,\n",
       "         678,  6012,  1401,  1021,  1870, 13636,  1250,  9710,   323,\n",
       "        1158,  2009,   902,  6062,  1275,   572,   244,   399,  1016,\n",
       "         743,  1221,  2402, 16011,  1362,   544,   645,   907,   702,\n",
       "       12512,  1986,  1003,  1432,  9013,  9011,   442,  1017,  1394,\n",
       "       15017, 10910,  1992,   540,  2018, 11025,  1433,  1701,  2792,\n",
       "        1502,  1239,  1390, 14009,  1160,  1351, 11111,  1783,  9007,\n",
       "         923,  1149,   754,  1988,   402,  2004,  5420,  1793,  1324,\n",
       "         356,  7511,  1299,   293, 19312,  1079,  1689,   998,  1100,\n",
       "        9012,  1933,   508, 16311,   682,  1252,  1922,  7529,   732,\n",
       "        2389,  2200,  1707,  1416,  8500,  1012,   485,  3000, 10110,\n",
       "         421,  4507,  1631,  7518,   377,  1004,  2007,  2598,  1548,\n",
       "        1241])"
      ]
     },
     "execution_count": 11,
     "metadata": {},
     "output_type": "execute_result"
    }
   ],
   "source": [
    "# смотрим уникальные значения столбца\n",
    "auto['Power'].unique()"
   ]
  },
  {
   "cell_type": "code",
   "execution_count": 12,
   "id": "c4e979d9",
   "metadata": {},
   "outputs": [
    {
     "data": {
      "text/plain": [
       "array(['golf', nan, 'grand', 'fabia', '3er', '2_reihe', 'other', 'c_max',\n",
       "       '3_reihe', 'passat', 'navara', 'ka', 'polo', 'twingo', 'a_klasse',\n",
       "       'scirocco', '5er', 'meriva', 'arosa', 'c4', 'civic', 'transporter',\n",
       "       'punto', 'e_klasse', 'clio', 'kadett', 'kangoo', 'corsa', 'one',\n",
       "       'fortwo', '1er', 'b_klasse', 'signum', 'astra', 'a8', 'jetta',\n",
       "       'fiesta', 'c_klasse', 'micra', 'vito', 'sprinter', '156', 'escort',\n",
       "       'forester', 'xc_reihe', 'scenic', 'a4', 'a1', 'insignia', 'combo',\n",
       "       'focus', 'tt', 'a6', 'jazz', 'omega', 'slk', '7er', '80', '147',\n",
       "       '100', 'z_reihe', 'sportage', 'sorento', 'v40', 'ibiza', 'mustang',\n",
       "       'eos', 'touran', 'getz', 'a3', 'almera', 'megane', 'lupo', 'r19',\n",
       "       'zafira', 'caddy', 'mondeo', 'cordoba', 'colt', 'impreza',\n",
       "       'vectra', 'berlingo', 'tiguan', 'i_reihe', 'espace', 'sharan',\n",
       "       '6_reihe', 'panda', 'up', 'seicento', 'ceed', '5_reihe', 'yeti',\n",
       "       'octavia', 'mii', 'rx_reihe', '6er', 'modus', 'fox', 'matiz',\n",
       "       'beetle', 'c1', 'rio', 'touareg', 'logan', 'spider', 'cuore',\n",
       "       's_max', 'a2', 'galaxy', 'c3', 'viano', 's_klasse', '1_reihe',\n",
       "       'avensis', 'roomster', 'sl', 'kaefer', 'santa', 'cooper', 'leon',\n",
       "       '4_reihe', 'a5', '500', 'laguna', 'ptcruiser', 'clk', 'primera',\n",
       "       'x_reihe', 'exeo', '159', 'transit', 'juke', 'qashqai', 'carisma',\n",
       "       'accord', 'corolla', 'lanos', 'phaeton', 'verso', 'swift', 'rav',\n",
       "       'picanto', 'boxster', 'kalos', 'superb', 'stilo', 'alhambra',\n",
       "       'mx_reihe', 'roadster', 'ypsilon', 'cayenne', 'galant', 'justy',\n",
       "       '90', 'sirion', 'crossfire', 'agila', 'duster', 'cr_reihe', 'v50',\n",
       "       'c_reihe', 'v_klasse', 'm_klasse', 'yaris', 'c5', 'aygo', 'cc',\n",
       "       'carnival', 'fusion', '911', 'bora', 'forfour', 'm_reihe', 'cl',\n",
       "       'tigra', '300c', 'spark', 'v70', 'kuga', 'x_type', 'ducato',\n",
       "       's_type', 'x_trail', 'toledo', 'altea', 'voyager', 'calibra',\n",
       "       'bravo', 'antara', 'tucson', 'citigo', 'jimny', 'wrangler',\n",
       "       'lybra', 'q7', 'lancer', 'captiva', 'c2', 'discovery',\n",
       "       'freelander', 'sandero', 'note', '900', 'cherokee', 'clubman',\n",
       "       'samara', 'defender', '601', 'cx_reihe', 'legacy', 'pajero',\n",
       "       'auris', 'niva', 's60', 'nubira', 'vivaro', 'g_klasse', 'lodgy',\n",
       "       '850', 'range_rover', 'q3', 'serie_2', 'glk', 'charade', 'croma',\n",
       "       'outlander', 'doblo', 'musa', 'move', '9000', 'v60', '145', 'aveo',\n",
       "       '200', 'b_max', 'range_rover_sport', 'terios', 'rangerover', 'q5',\n",
       "       'range_rover_evoque', 'materia', 'delta', 'gl', 'kalina', 'amarok',\n",
       "       'elefantino', 'i3', 'kappa', 'serie_3', 'serie_1'], dtype=object)"
      ]
     },
     "execution_count": 12,
     "metadata": {},
     "output_type": "execute_result"
    }
   ],
   "source": [
    "# смотрим уникальные значения столбца\n",
    "auto['Model'].unique()"
   ]
  },
  {
   "cell_type": "code",
   "execution_count": 13,
   "id": "700373a3",
   "metadata": {},
   "outputs": [
    {
     "data": {
      "text/plain": [
       "array([150000, 125000,  90000,  40000,  30000,  70000,   5000, 100000,\n",
       "        60000,  20000,  80000,  50000,  10000])"
      ]
     },
     "execution_count": 13,
     "metadata": {},
     "output_type": "execute_result"
    }
   ],
   "source": [
    "# смотрим уникальные значения столбца\n",
    "auto['Kilometer'].unique()"
   ]
  },
  {
   "cell_type": "code",
   "execution_count": 14,
   "id": "d807a026",
   "metadata": {},
   "outputs": [
    {
     "data": {
      "text/plain": [
       "array(['petrol', 'gasoline', nan, 'lpg', 'other', 'hybrid', 'cng',\n",
       "       'electric'], dtype=object)"
      ]
     },
     "execution_count": 14,
     "metadata": {},
     "output_type": "execute_result"
    }
   ],
   "source": [
    "# смотрим уникальные значения столбца\n",
    "auto['FuelType'].unique()"
   ]
  },
  {
   "cell_type": "code",
   "execution_count": 15,
   "id": "ab22597c",
   "metadata": {},
   "outputs": [
    {
     "data": {
      "text/plain": [
       "array(['volkswagen', 'audi', 'jeep', 'skoda', 'bmw', 'peugeot', 'ford',\n",
       "       'mazda', 'nissan', 'renault', 'mercedes_benz', 'opel', 'seat',\n",
       "       'citroen', 'honda', 'fiat', 'mini', 'smart', 'hyundai',\n",
       "       'sonstige_autos', 'alfa_romeo', 'subaru', 'volvo', 'mitsubishi',\n",
       "       'kia', 'suzuki', 'lancia', 'toyota', 'chevrolet', 'dacia',\n",
       "       'daihatsu', 'trabant', 'saab', 'chrysler', 'jaguar', 'daewoo',\n",
       "       'porsche', 'rover', 'land_rover', 'lada'], dtype=object)"
      ]
     },
     "execution_count": 15,
     "metadata": {},
     "output_type": "execute_result"
    }
   ],
   "source": [
    "# смотрим уникальные значения столбца\n",
    "auto['Brand'].unique()"
   ]
  },
  {
   "cell_type": "code",
   "execution_count": 16,
   "id": "0d4f5bee",
   "metadata": {},
   "outputs": [
    {
     "data": {
      "text/plain": [
       "array([nan, 'yes', 'no'], dtype=object)"
      ]
     },
     "execution_count": 16,
     "metadata": {},
     "output_type": "execute_result"
    }
   ],
   "source": [
    "# смотрим уникальные значения столбца\n",
    "auto['NotRepaired'].unique()"
   ]
  },
  {
   "cell_type": "code",
   "execution_count": 17,
   "id": "d84e72b3",
   "metadata": {},
   "outputs": [
    {
     "data": {
      "text/plain": [
       "array([70435, 66954, 90480, ..., 38528, 38325, 31096])"
      ]
     },
     "execution_count": 17,
     "metadata": {},
     "output_type": "execute_result"
    }
   ],
   "source": [
    "# смотрим уникальные значения столбца\n",
    "auto['PostalCode'].unique()"
   ]
  },
  {
   "cell_type": "markdown",
   "id": "e09b00cf",
   "metadata": {},
   "source": [
    "### Устранение выбросов"
   ]
  },
  {
   "cell_type": "markdown",
   "id": "3c64d01d",
   "metadata": {},
   "source": [
    "В столбце с ценой автомобиля есть 10772 строки с ценов = 0 евро. Такого быть не может. Так как это целевой признак, то удалим эти строки."
   ]
  },
  {
   "cell_type": "code",
   "execution_count": 18,
   "id": "9828bb5b",
   "metadata": {},
   "outputs": [],
   "source": [
    "# удаляем строки с 0 ценой за автомобиль\n",
    "auto = auto.query('Price > 0')"
   ]
  },
  {
   "cell_type": "markdown",
   "id": "0d711915",
   "metadata": {},
   "source": [
    "Посмотрим на распределение в столбце с ценой автомобиля."
   ]
  },
  {
   "cell_type": "code",
   "execution_count": 19,
   "id": "8bc48781",
   "metadata": {},
   "outputs": [
    {
     "data": {
      "text/plain": [
       "[Text(0.5, 1.0, 'Цена автомобиля')]"
      ]
     },
     "execution_count": 19,
     "metadata": {},
     "output_type": "execute_result"
    },
    {
     "data": {
      "image/png": "[encoded data removed]",
      "text/plain": [
       "<Figure size 432x288 with 1 Axes>"
      ]
     },
     "metadata": {
      "needs_background": "light"
     },
     "output_type": "display_data"
    }
   ],
   "source": [
    "# строим диаграмму размаха для столбца 'Price'\n",
    "sns.boxplot(x=auto['Price']).set(title='Цена автомобиля') "
   ]
  },
  {
   "cell_type": "markdown",
   "id": "5691fca8",
   "metadata": {},
   "source": [
    "Можно увидеть выбросы в районе 15000 евро. Однако, если посмотреть на столбец с брендами автомобилей, то такая цена уже не кажется выбросом. Ничего удалять не будем.\n",
    "\n",
    "Посмотрим на распределение в столбце с годом регистрации."
   ]
  },
  {
   "cell_type": "code",
   "execution_count": 20,
   "id": "f7b10f62",
   "metadata": {},
   "outputs": [
    {
     "data": {
      "text/plain": [
       "count    343597.000000\n",
       "mean       2004.089797\n",
       "std          78.413225\n",
       "min        1000.000000\n",
       "25%        1999.000000\n",
       "50%        2003.000000\n",
       "75%        2008.000000\n",
       "max        9999.000000\n",
       "Name: RegistrationYear, dtype: float64"
      ]
     },
     "execution_count": 20,
     "metadata": {},
     "output_type": "execute_result"
    }
   ],
   "source": [
    "# смотрим на распределение столбца 'RegistrationYear'\n",
    "auto['RegistrationYear'].describe()"
   ]
  },
  {
   "cell_type": "markdown",
   "id": "cb4e87dd",
   "metadata": {},
   "source": [
    "Сразу заметны выбросы с min и max значениями. Установим интервал с 1950-го года до 2020-го года, т.к. автомобили, выпущенные ранее, врядли будут стоить 20000 евро( скорее даже в разы дороже)."
   ]
  },
  {
   "cell_type": "code",
   "execution_count": 21,
   "id": "732d8fd7",
   "metadata": {},
   "outputs": [],
   "source": [
    "# отсекаем выбросы в 'RegistrationYear'\n",
    "auto = auto.query('1950 < RegistrationYear < 2020')"
   ]
  },
  {
   "cell_type": "code",
   "execution_count": 22,
   "id": "b7fd76c7",
   "metadata": {},
   "outputs": [
    {
     "data": {
      "text/plain": [
       "Text(0.5, 0, 'Год')"
      ]
     },
     "execution_count": 22,
     "metadata": {},
     "output_type": "execute_result"
    },
    {
     "data": {
      "image/png": "[encoded data removed]",
      "text/plain": [
       "<Figure size 864x648 with 1 Axes>"
      ]
     },
     "metadata": {
      "needs_background": "light"
     },
     "output_type": "display_data"
    }
   ],
   "source": [
    "# посмотрим на распределение для столбца 'RegistrationYear'\n",
    "auto['RegistrationYear'].hist(bins=40, figsize=(12,9))\n",
    "plt.title('Год регистрации')\n",
    "plt.xlabel(\"Год\")"
   ]
  },
  {
   "cell_type": "markdown",
   "id": "890cbf4f",
   "metadata": {},
   "source": [
    "От выбросов избавились. По гистограмме видно, что основная масса автомобилей выпущена в период 1998 - 2008, с провалом в 2002 году.\n",
    "\n",
    "Посмотрим на распределение в столбце с мощностью автомобиля."
   ]
  },
  {
   "cell_type": "code",
   "execution_count": 23,
   "id": "86760a0d",
   "metadata": {},
   "outputs": [
    {
     "data": {
      "text/plain": [
       "count    343315.000000\n",
       "mean        111.014325\n",
       "std         187.876435\n",
       "min           0.000000\n",
       "25%          69.000000\n",
       "50%         105.000000\n",
       "75%         143.000000\n",
       "max       20000.000000\n",
       "Name: Power, dtype: float64"
      ]
     },
     "execution_count": 23,
     "metadata": {},
     "output_type": "execute_result"
    }
   ],
   "source": [
    "auto['Power'].describe()"
   ]
  },
  {
   "cell_type": "markdown",
   "id": "048031da",
   "metadata": {},
   "source": [
    "Мощность не может быть равна 0 л.с. и не может быть равной 20тыс.л.с.(это уже судовые двигатели). Можно установить max значение 1000 л.с., но это уже дорогие спорткары, их врядли будут продавать-покупать через мобильное приложение, да и стоить они будут значительно дороже 20000 евро. Установим максимальную мощность 350л.с., а минимальную 40л.с, так как это приложение расчитано на Европу, а в ней популярны малолитражки с компактными размерами, чтобы умещаться в узких старинных улочках."
   ]
  },
  {
   "cell_type": "code",
   "execution_count": 24,
   "id": "f0e4c032",
   "metadata": {},
   "outputs": [],
   "source": [
    "# отсекаем выбросы в 'Power'\n",
    "auto = auto.query('40 < Power < 350')"
   ]
  },
  {
   "cell_type": "markdown",
   "id": "bcf9df53",
   "metadata": {},
   "source": [
    "Столбец `Kilometer` на выбросы рассматривать не буду. Т.к. все по разному эксплуатируют автомобиль, то и средний годовой пробег у всех будет разный. К томуже влияет и срок эксплуатации."
   ]
  },
  {
   "cell_type": "markdown",
   "id": "e1ecca32",
   "metadata": {},
   "source": [
    "### Борьба с пропусками"
   ]
  },
  {
   "cell_type": "markdown",
   "id": "e5dda15a",
   "metadata": {},
   "source": [
    "Посмотрим, сколько осталось пропусков, после удаления выбросов"
   ]
  },
  {
   "cell_type": "code",
   "execution_count": 25,
   "id": "6d6b659a",
   "metadata": {},
   "outputs": [
    {
     "data": {
      "text/plain": [
       "Price                   0\n",
       "VehicleType         21088\n",
       "RegistrationYear        0\n",
       "Gearbox              5921\n",
       "Power                   0\n",
       "Model               12019\n",
       "Kilometer               0\n",
       "FuelType            19469\n",
       "Brand                   0\n",
       "NotRepaired         46452\n",
       "PostalCode              0\n",
       "dtype: int64"
      ]
     },
     "execution_count": 25,
     "metadata": {},
     "output_type": "execute_result"
    }
   ],
   "source": [
    "# смотрим количество пропусков\n",
    "auto.isna().sum()"
   ]
  },
  {
   "cell_type": "code",
   "execution_count": 26,
   "id": "8774d080",
   "metadata": {},
   "outputs": [
    {
     "data": {
      "text/plain": [
       "manual    238950\n",
       "auto       59469\n",
       "Name: Gearbox, dtype: int64"
      ]
     },
     "execution_count": 26,
     "metadata": {},
     "output_type": "execute_result"
    }
   ],
   "source": [
    "# смотрим распределение по типу коробки передач\n",
    "auto['Gearbox'].value_counts()"
   ]
  },
  {
   "cell_type": "markdown",
   "id": "66dc915b",
   "metadata": {},
   "source": [
    "Преобладает МКПП. Заменим пропуски на 'manual', т.к. ориентируемся на Европейский рынок, а на нём в первую очередь будут смотреть на цену автомобиля. Автомобиль с МКПП будет стоить дешевле автомобиля с АКПП, да и в обслуживании дешевле."
   ]
  },
  {
   "cell_type": "code",
   "execution_count": 27,
   "id": "b80a2e0c",
   "metadata": {},
   "outputs": [],
   "source": [
    "auto.fillna({'Gearbox':'manual'}, inplace=True)"
   ]
  },
  {
   "cell_type": "code",
   "execution_count": 28,
   "id": "921ce75e",
   "metadata": {},
   "outputs": [
    {
     "data": {
      "text/plain": [
       "petrol      189988\n",
       "gasoline     89333\n",
       "lpg           4751\n",
       "cng            499\n",
       "hybrid         205\n",
       "other           58\n",
       "electric        37\n",
       "Name: FuelType, dtype: int64"
      ]
     },
     "execution_count": 28,
     "metadata": {},
     "output_type": "execute_result"
    }
   ],
   "source": [
    "# смотрим распределение по типу топлива\n",
    "auto['FuelType'].value_counts()"
   ]
  },
  {
   "cell_type": "markdown",
   "id": "ffcd1348",
   "metadata": {},
   "source": [
    "“Petrol” is used in mostly the UK and countries like India, Pakistan, Bangladesh, etc whereas “Gasoline” is used in United States and Canada. Это два разных обозначения одного и того же топлива. Правда нет разганичения на бензин и дизельное топливо( что плохо, учитывая принципиалные различия самих ДВС). Т.к. приложение для Европы, то заменим gasoline на petrol. lpg - это сжиженный газ, cng - компримированный природный газ, hybrid - значит автомобиль помимо ДВС имеет вспомогательную аккумуляторную батарею, electric - полностью электрический автомобиль. other - рискну предположить, что это либо автомобили, которые используют в качестве топлива водород, либо автомобили с солнечными батареями. Т.к. данные, скорее всего, выгружались несколько лет назад, то ещё не было сильного бума насчёт электромобилей. Заменим пропуски на жидкое топливо."
   ]
  },
  {
   "cell_type": "code",
   "execution_count": 29,
   "id": "4931122a",
   "metadata": {},
   "outputs": [],
   "source": [
    "# заменяем 'gasoline' на 'petrol'\n",
    "# заменяем пропуски на 'petrol'\n",
    "auto['FuelType'] = auto['FuelType'].replace('gasoline', 'petrol')\n",
    "auto.fillna({'FuelType':'petrol'}, inplace=True)"
   ]
  },
  {
   "cell_type": "code",
   "execution_count": 30,
   "id": "80a040b8",
   "metadata": {},
   "outputs": [
    {
     "data": {
      "text/plain": [
       "no     228437\n",
       "yes     29451\n",
       "Name: NotRepaired, dtype: int64"
      ]
     },
     "execution_count": 30,
     "metadata": {},
     "output_type": "execute_result"
    }
   ],
   "source": [
    "# смотрим распределение по наличию ремонта\n",
    "auto['NotRepaired'].value_counts()"
   ]
  },
  {
   "cell_type": "markdown",
   "id": "56494a4a",
   "metadata": {},
   "source": [
    "Т.к. сервис по продаже автомобилей с пробегом называется «Не бит, не крашен». То заменим пропуски на значени 'no'."
   ]
  },
  {
   "cell_type": "code",
   "execution_count": 31,
   "id": "348c28ec",
   "metadata": {},
   "outputs": [],
   "source": [
    "auto.fillna({'NotRepaired':'no'}, inplace=True)"
   ]
  },
  {
   "cell_type": "markdown",
   "id": "b7fc1098",
   "metadata": {},
   "source": [
    "Можно было бы закодировать категориальные признаки с помощью LabelEncoder или OneHotEncoder и тогда пропуски в столбцах с типом кузова и моделью авто можно было бы заполнять медианными значениями сгруппированными по бренду автомобиля и цене. Но одной из целью данного проекта является освоение пользования моделей LightGBM и CatBoost, а они могут работать с категориальными признаками. Заменим прпоуски в данных столбцах на 'unknown'."
   ]
  },
  {
   "cell_type": "code",
   "execution_count": 32,
   "id": "8b5be26e",
   "metadata": {},
   "outputs": [],
   "source": [
    "# заменяем пропуски на unknown\n",
    "auto.fillna({'VehicleType':'unknown', 'Model':'unknown'}, inplace=True)"
   ]
  },
  {
   "cell_type": "markdown",
   "id": "5c59bce7",
   "metadata": {},
   "source": [
    "### Тип данных"
   ]
  },
  {
   "cell_type": "markdown",
   "id": "d87eb583",
   "metadata": {},
   "source": [
    "На данном этапе не будем кодировать категориальные признаки. Только сделаем замену столбцов Gearbox и NotRepaired на булев тип:\n",
    "* IsManualGearbox. 1(manual) - означает механическую коробку передач. 0(auto) - автоматическую.\n",
    "* IsNotRepaired. 1(yes) - означает машину без ремонта. 0(no) - с ремонтом."
   ]
  },
  {
   "cell_type": "code",
   "execution_count": 33,
   "id": "bc969ef3",
   "metadata": {},
   "outputs": [],
   "source": [
    "# преобразуем в булев тип\n",
    "auto['IsManualGearbox'] = 0\n",
    "auto.loc[auto['Gearbox'] == 'manual', 'IsManualGearbox'] = 1\n",
    "auto.drop(['Gearbox'], inplace=True, axis=1)"
   ]
  },
  {
   "cell_type": "code",
   "execution_count": 34,
   "id": "807788de",
   "metadata": {},
   "outputs": [],
   "source": [
    "# преобразуем в булев тип\n",
    "auto['IsNotRepaired'] = 0\n",
    "auto.loc[auto['NotRepaired'] == 'yes', 'IsNotRepaired'] = 1\n",
    "auto.drop(['NotRepaired'], inplace=True, axis=1)"
   ]
  },
  {
   "cell_type": "code",
   "execution_count": 35,
   "id": "fe895956",
   "metadata": {},
   "outputs": [
    {
     "data": {
      "text/html": [
       "<div>\n",
       "<style scoped>\n",
       "    .dataframe tbody tr th:only-of-type {\n",
       "        vertical-align: middle;\n",
       "    }\n",
       "\n",
       "    .dataframe tbody tr th {\n",
       "        vertical-align: top;\n",
       "    }\n",
       "\n",
       "    .dataframe thead th {\n",
       "        text-align: right;\n",
       "    }\n",
       "</style>\n",
       "<table border=\"1\" class=\"dataframe\">\n",
       "  <thead>\n",
       "    <tr style=\"text-align: right;\">\n",
       "      <th></th>\n",
       "      <th>Price</th>\n",
       "      <th>VehicleType</th>\n",
       "      <th>RegistrationYear</th>\n",
       "      <th>Power</th>\n",
       "      <th>Model</th>\n",
       "      <th>Kilometer</th>\n",
       "      <th>FuelType</th>\n",
       "      <th>Brand</th>\n",
       "      <th>PostalCode</th>\n",
       "      <th>IsManualGearbox</th>\n",
       "      <th>IsNotRepaired</th>\n",
       "    </tr>\n",
       "  </thead>\n",
       "  <tbody>\n",
       "    <tr>\n",
       "      <th>1</th>\n",
       "      <td>18300</td>\n",
       "      <td>coupe</td>\n",
       "      <td>2011</td>\n",
       "      <td>190</td>\n",
       "      <td>unknown</td>\n",
       "      <td>125000</td>\n",
       "      <td>petrol</td>\n",
       "      <td>audi</td>\n",
       "      <td>66954</td>\n",
       "      <td>1</td>\n",
       "      <td>1</td>\n",
       "    </tr>\n",
       "    <tr>\n",
       "      <th>2</th>\n",
       "      <td>9800</td>\n",
       "      <td>suv</td>\n",
       "      <td>2004</td>\n",
       "      <td>163</td>\n",
       "      <td>grand</td>\n",
       "      <td>125000</td>\n",
       "      <td>petrol</td>\n",
       "      <td>jeep</td>\n",
       "      <td>90480</td>\n",
       "      <td>0</td>\n",
       "      <td>0</td>\n",
       "    </tr>\n",
       "    <tr>\n",
       "      <th>3</th>\n",
       "      <td>1500</td>\n",
       "      <td>small</td>\n",
       "      <td>2001</td>\n",
       "      <td>75</td>\n",
       "      <td>golf</td>\n",
       "      <td>150000</td>\n",
       "      <td>petrol</td>\n",
       "      <td>volkswagen</td>\n",
       "      <td>91074</td>\n",
       "      <td>1</td>\n",
       "      <td>0</td>\n",
       "    </tr>\n",
       "    <tr>\n",
       "      <th>4</th>\n",
       "      <td>3600</td>\n",
       "      <td>small</td>\n",
       "      <td>2008</td>\n",
       "      <td>69</td>\n",
       "      <td>fabia</td>\n",
       "      <td>90000</td>\n",
       "      <td>petrol</td>\n",
       "      <td>skoda</td>\n",
       "      <td>60437</td>\n",
       "      <td>1</td>\n",
       "      <td>0</td>\n",
       "    </tr>\n",
       "    <tr>\n",
       "      <th>5</th>\n",
       "      <td>650</td>\n",
       "      <td>sedan</td>\n",
       "      <td>1995</td>\n",
       "      <td>102</td>\n",
       "      <td>3er</td>\n",
       "      <td>150000</td>\n",
       "      <td>petrol</td>\n",
       "      <td>bmw</td>\n",
       "      <td>33775</td>\n",
       "      <td>1</td>\n",
       "      <td>1</td>\n",
       "    </tr>\n",
       "  </tbody>\n",
       "</table>\n",
       "</div>"
      ],
      "text/plain": [
       "   Price VehicleType  RegistrationYear  Power    Model  Kilometer FuelType  \\\n",
       "1  18300       coupe              2011    190  unknown     125000   petrol   \n",
       "2   9800         suv              2004    163    grand     125000   petrol   \n",
       "3   1500       small              2001     75     golf     150000   petrol   \n",
       "4   3600       small              2008     69    fabia      90000   petrol   \n",
       "5    650       sedan              1995    102      3er     150000   petrol   \n",
       "\n",
       "        Brand  PostalCode  IsManualGearbox  IsNotRepaired  \n",
       "1        audi       66954                1              1  \n",
       "2        jeep       90480                0              0  \n",
       "3  volkswagen       91074                1              0  \n",
       "4       skoda       60437                1              0  \n",
       "5         bmw       33775                1              1  "
      ]
     },
     "execution_count": 35,
     "metadata": {},
     "output_type": "execute_result"
    }
   ],
   "source": [
    "auto.head(5)"
   ]
  },
  {
   "cell_type": "markdown",
   "id": "b8cd0c6d",
   "metadata": {},
   "source": [
    "Изучим корреляцию между признаками."
   ]
  },
  {
   "cell_type": "code",
   "execution_count": 36,
   "id": "fb7be6cf",
   "metadata": {},
   "outputs": [
    {
     "data": {
      "text/html": [
       "<style  type=\"text/css\" >\n",
       "#T_ca0d7_row0_col1{\n",
       "            background-color:  #b40426;\n",
       "            color:  #f1f1f1;\n",
       "        }#T_ca0d7_row1_col1{\n",
       "            background-color:  #f6bea4;\n",
       "            color:  #000000;\n",
       "        }#T_ca0d7_row2_col1{\n",
       "            background-color:  #f2cbb7;\n",
       "            color:  #000000;\n",
       "        }#T_ca0d7_row3_col1{\n",
       "            background-color:  #a9c6fd;\n",
       "            color:  #000000;\n",
       "        }#T_ca0d7_row4_col1{\n",
       "            background-color:  #688aef;\n",
       "            color:  #000000;\n",
       "        }#T_ca0d7_row5_col1{\n",
       "            background-color:  #5977e3;\n",
       "            color:  #000000;\n",
       "        }#T_ca0d7_row6_col1{\n",
       "            background-color:  #3b4cc0;\n",
       "            color:  #f1f1f1;\n",
       "        }</style><table id=\"T_ca0d7_\" ><thead>    <tr>        <th class=\"blank level0\" ></th>        <th class=\"col_heading level0 col0\" >index</th>        <th class=\"col_heading level0 col1\" >Price</th>    </tr></thead><tbody>\n",
       "                <tr>\n",
       "                        <th id=\"T_ca0d7_level0_row0\" class=\"row_heading level0 row0\" >0</th>\n",
       "                        <td id=\"T_ca0d7_row0_col0\" class=\"data row0 col0\" >Price</td>\n",
       "                        <td id=\"T_ca0d7_row0_col1\" class=\"data row0 col1\" >1.000000</td>\n",
       "            </tr>\n",
       "            <tr>\n",
       "                        <th id=\"T_ca0d7_level0_row1\" class=\"row_heading level0 row1\" >1</th>\n",
       "                        <td id=\"T_ca0d7_row1_col0\" class=\"data row1 col0\" >Power</td>\n",
       "                        <td id=\"T_ca0d7_row1_col1\" class=\"data row1 col1\" >0.507547</td>\n",
       "            </tr>\n",
       "            <tr>\n",
       "                        <th id=\"T_ca0d7_level0_row2\" class=\"row_heading level0 row2\" >2</th>\n",
       "                        <td id=\"T_ca0d7_row2_col0\" class=\"data row2 col0\" >RegistrationYear</td>\n",
       "                        <td id=\"T_ca0d7_row2_col1\" class=\"data row2 col1\" >0.439612</td>\n",
       "            </tr>\n",
       "            <tr>\n",
       "                        <th id=\"T_ca0d7_level0_row3\" class=\"row_heading level0 row3\" >3</th>\n",
       "                        <td id=\"T_ca0d7_row3_col0\" class=\"data row3 col0\" >PostalCode</td>\n",
       "                        <td id=\"T_ca0d7_row3_col1\" class=\"data row3 col1\" >0.064034</td>\n",
       "            </tr>\n",
       "            <tr>\n",
       "                        <th id=\"T_ca0d7_level0_row4\" class=\"row_heading level0 row4\" >4</th>\n",
       "                        <td id=\"T_ca0d7_row4_col0\" class=\"data row4 col0\" >IsNotRepaired</td>\n",
       "                        <td id=\"T_ca0d7_row4_col1\" class=\"data row4 col1\" >-0.191760</td>\n",
       "            </tr>\n",
       "            <tr>\n",
       "                        <th id=\"T_ca0d7_level0_row5\" class=\"row_heading level0 row5\" >5</th>\n",
       "                        <td id=\"T_ca0d7_row5_col0\" class=\"data row5 col0\" >IsManualGearbox</td>\n",
       "                        <td id=\"T_ca0d7_row5_col1\" class=\"data row5 col1\" >-0.253345</td>\n",
       "            </tr>\n",
       "            <tr>\n",
       "                        <th id=\"T_ca0d7_level0_row6\" class=\"row_heading level0 row6\" >6</th>\n",
       "                        <td id=\"T_ca0d7_row6_col0\" class=\"data row6 col0\" >Kilometer</td>\n",
       "                        <td id=\"T_ca0d7_row6_col1\" class=\"data row6 col1\" >-0.393301</td>\n",
       "            </tr>\n",
       "    </tbody></table>"
      ],
      "text/plain": [
       "<pandas.io.formats.style.Styler at 0x7fd8a7ab2340>"
      ]
     },
     "execution_count": 36,
     "metadata": {},
     "output_type": "execute_result"
    }
   ],
   "source": [
    "corr = auto.corr()\\\n",
    "    .sort_values('Price', ascending=False)\\\n",
    "    .reset_index()\n",
    "corr[['index', 'Price']].style.background_gradient('coolwarm')"
   ]
  },
  {
   "cell_type": "markdown",
   "id": "8fd72588",
   "metadata": {},
   "source": [
    "На цену автомобиля влияют мощность и в меньшей степени год регистрации ТС. Так же влияет пробег автомобиля(обратная зависимость) - чем больше пробег, тем меньше цена."
   ]
  },
  {
   "cell_type": "markdown",
   "id": "606ef58b",
   "metadata": {},
   "source": [
    "**Вывод**\n",
    "* были открыты и изучены данные о поддержаных автомобилях\n",
    "* были удалены выбросы:\n",
    " * с годом регистрации авто ранее 1950-го года и позже 2020-го года\n",
    " * с мощностью автомоблия менее 40 л.с. и более 350 л.с.\n",
    "* всего было удалено 50029 строк, что примерно составляет 14% от всех данных(это очень много, но оставшихся данных всё равно много)\n",
    "* была произведена замена пропусков\n",
    "* была сделана замена столбцов Gearbox и NotRepaired на булев тип\n",
    "* была изучена корреляция признаков:\n",
    " * на цену автомобиля влияют мощность двигателя и год регистрации\n",
    " * обратное влияние оказывает пробег автомобиля"
   ]
  },
  {
   "cell_type": "markdown",
   "id": "3c8fe76c",
   "metadata": {},
   "source": [
    "## Обучение моделей"
   ]
  },
  {
   "cell_type": "markdown",
   "id": "17c4334e",
   "metadata": {},
   "source": [
    "Для обучения моделей, необходимо закодировать категориальные признаки. Но для модели CatBoostRegressor их кодировать не нужно.В качестве метрики для всех моделей будем использовать RMSE. Подготовим признаки для моделей и разобьём датафрейм на выборки."
   ]
  },
  {
   "cell_type": "code",
   "execution_count": 37,
   "id": "49c65adb",
   "metadata": {},
   "outputs": [],
   "source": [
    "# задаём признаки и целевой признак\n",
    "# кодируем категориальные признаки\n",
    "\n",
    "features = auto.drop('Price', axis=1)\n",
    "\n",
    "encoder = OrdinalEncoder()\n",
    "cat_columns = ['VehicleType','Model', 'FuelType','Brand']\n",
    "cat_features = features[cat_columns]\n",
    "cat_features = pd.DataFrame(encoder.fit_transform(cat_features),\n",
    "                                columns=cat_features.columns, \n",
    "                                index=cat_features.index)\n",
    "ordinal_features = features.copy()\n",
    "for column in cat_columns:\n",
    "    ordinal_features[column] = cat_features[column]\n",
    "    \n",
    "target = auto['Price']"
   ]
  },
  {
   "cell_type": "code",
   "execution_count": 38,
   "id": "a10d69e7",
   "metadata": {},
   "outputs": [],
   "source": [
    "# разбиваем датасет на выборки\n",
    "features_train, features_test, target_train, target_test = train_test_split(\n",
    "    features, target, test_size=0.25, random_state=12345)\n",
    "\n",
    "ordinal_features_train = ordinal_features.loc[features_train.index, :]\n",
    "ordinal_features_test = ordinal_features.loc[features_test.index, :]"
   ]
  },
  {
   "cell_type": "markdown",
   "id": "24f3ffc3",
   "metadata": {},
   "source": [
    "### CatBoostRegressor"
   ]
  },
  {
   "cell_type": "markdown",
   "id": "91492f75",
   "metadata": {},
   "source": [
    "Обучим модель CatBoostRegressor"
   ]
  },
  {
   "cell_type": "code",
   "execution_count": 39,
   "id": "549e5e3f",
   "metadata": {},
   "outputs": [
    {
     "name": "stdout",
     "output_type": "stream",
     "text": [
      "RMSE_CatBoostRegressor = 1639.1657805222574\n",
      "CPU times: user 2min 5s, sys: 835 ms, total: 2min 5s\n",
      "Wall time: 2min 8s\n"
     ]
    }
   ],
   "source": [
    "%%time\n",
    "\n",
    "Cat = CatBoostRegressor(learning_rate=0.5,\n",
    "                              iterations = 200,\n",
    "                              random_state=12345, \n",
    "                              verbose=False, \n",
    "                              cat_features=['VehicleType','Model', 'FuelType','Brand']) \n",
    "cv_RMSE_CBR = (cross_val_score(Cat,\n",
    "                                features_train, \n",
    "                                target_train, \n",
    "                                cv=5, \n",
    "                                scoring='neg_mean_squared_error').mean() * -1) ** 0.5\n",
    "print('RMSE_CatBoostRegressor =', cv_RMSE_CBR)"
   ]
  },
  {
   "cell_type": "markdown",
   "id": "b9b85b3b",
   "metadata": {},
   "source": [
    "### LGBMRegressor"
   ]
  },
  {
   "cell_type": "code",
   "execution_count": 40,
   "id": "4bcfb3d2",
   "metadata": {},
   "outputs": [
    {
     "name": "stdout",
     "output_type": "stream",
     "text": [
      "Лучшие параметры:\n",
      "\n",
      "{'max_depth': 11, 'n_estimators': 13, 'random_state': 12345}\n",
      "\n",
      "4419.161891 for {'max_depth': 1, 'n_estimators': 1, 'random_state': 12345}\n",
      "4192.158171 for {'max_depth': 1, 'n_estimators': 3, 'random_state': 12345}\n",
      "4020.185118 for {'max_depth': 1, 'n_estimators': 5, 'random_state': 12345}\n",
      "3874.865833 for {'max_depth': 1, 'n_estimators': 7, 'random_state': 12345}\n",
      "3752.227908 for {'max_depth': 1, 'n_estimators': 9, 'random_state': 12345}\n",
      "3647.561764 for {'max_depth': 1, 'n_estimators': 11, 'random_state': 12345}\n",
      "3557.121635 for {'max_depth': 1, 'n_estimators': 13, 'random_state': 12345}\n",
      "4307.952307 for {'max_depth': 3, 'n_estimators': 1, 'random_state': 12345}\n",
      "3892.925925 for {'max_depth': 3, 'n_estimators': 3, 'random_state': 12345}\n",
      "3553.338003 for {'max_depth': 3, 'n_estimators': 5, 'random_state': 12345}\n",
      "3289.412438 for {'max_depth': 3, 'n_estimators': 7, 'random_state': 12345}\n",
      "3074.337425 for {'max_depth': 3, 'n_estimators': 9, 'random_state': 12345}\n",
      "2900.064929 for {'max_depth': 3, 'n_estimators': 11, 'random_state': 12345}\n",
      "2761.774891 for {'max_depth': 3, 'n_estimators': 13, 'random_state': 12345}\n",
      "4245.168272 for {'max_depth': 5, 'n_estimators': 1, 'random_state': 12345}\n",
      "3722.493436 for {'max_depth': 5, 'n_estimators': 3, 'random_state': 12345}\n",
      "3316.561224 for {'max_depth': 5, 'n_estimators': 5, 'random_state': 12345}\n",
      "2993.976934 for {'max_depth': 5, 'n_estimators': 7, 'random_state': 12345}\n",
      "2753.529994 for {'max_depth': 5, 'n_estimators': 9, 'random_state': 12345}\n",
      "2572.322752 for {'max_depth': 5, 'n_estimators': 11, 'random_state': 12345}\n",
      "2435.136800 for {'max_depth': 5, 'n_estimators': 13, 'random_state': 12345}\n",
      "4238.655138 for {'max_depth': 7, 'n_estimators': 1, 'random_state': 12345}\n",
      "3703.242780 for {'max_depth': 7, 'n_estimators': 3, 'random_state': 12345}\n",
      "3292.242258 for {'max_depth': 7, 'n_estimators': 5, 'random_state': 12345}\n",
      "2975.659543 for {'max_depth': 7, 'n_estimators': 7, 'random_state': 12345}\n",
      "2731.716566 for {'max_depth': 7, 'n_estimators': 9, 'random_state': 12345}\n",
      "2544.413619 for {'max_depth': 7, 'n_estimators': 11, 'random_state': 12345}\n",
      "2401.949349 for {'max_depth': 7, 'n_estimators': 13, 'random_state': 12345}\n",
      "4238.655138 for {'max_depth': 9, 'n_estimators': 1, 'random_state': 12345}\n",
      "3703.242780 for {'max_depth': 9, 'n_estimators': 3, 'random_state': 12345}\n",
      "3292.411370 for {'max_depth': 9, 'n_estimators': 5, 'random_state': 12345}\n",
      "2976.310834 for {'max_depth': 9, 'n_estimators': 7, 'random_state': 12345}\n",
      "2731.508978 for {'max_depth': 9, 'n_estimators': 9, 'random_state': 12345}\n",
      "2543.587963 for {'max_depth': 9, 'n_estimators': 11, 'random_state': 12345}\n",
      "2400.567950 for {'max_depth': 9, 'n_estimators': 13, 'random_state': 12345}\n",
      "4238.655138 for {'max_depth': 11, 'n_estimators': 1, 'random_state': 12345}\n",
      "3703.242780 for {'max_depth': 11, 'n_estimators': 3, 'random_state': 12345}\n",
      "3292.411370 for {'max_depth': 11, 'n_estimators': 5, 'random_state': 12345}\n",
      "2976.310834 for {'max_depth': 11, 'n_estimators': 7, 'random_state': 12345}\n",
      "2731.536203 for {'max_depth': 11, 'n_estimators': 9, 'random_state': 12345}\n",
      "2543.592931 for {'max_depth': 11, 'n_estimators': 11, 'random_state': 12345}\n",
      "2400.247864 for {'max_depth': 11, 'n_estimators': 13, 'random_state': 12345}\n",
      "4238.655138 for {'max_depth': 13, 'n_estimators': 1, 'random_state': 12345}\n",
      "3703.242780 for {'max_depth': 13, 'n_estimators': 3, 'random_state': 12345}\n",
      "3292.411370 for {'max_depth': 13, 'n_estimators': 5, 'random_state': 12345}\n",
      "2976.310834 for {'max_depth': 13, 'n_estimators': 7, 'random_state': 12345}\n",
      "2731.536203 for {'max_depth': 13, 'n_estimators': 9, 'random_state': 12345}\n",
      "2543.592931 for {'max_depth': 13, 'n_estimators': 11, 'random_state': 12345}\n",
      "2400.247864 for {'max_depth': 13, 'n_estimators': 13, 'random_state': 12345}\n",
      "\n",
      "CPU times: user 3min 34s, sys: 3.91 s, total: 3min 38s\n",
      "Wall time: 3min 39s\n"
     ]
    }
   ],
   "source": [
    "%%time\n",
    "\n",
    "regressor = LGBMRegressor() \n",
    "hyperparams = [{'n_estimators': range (1, 15, 2), \n",
    "                'max_depth': range (1, 15, 2),\n",
    "                'random_state':[12345]}]\n",
    "\n",
    "clf = GridSearchCV(regressor, hyperparams, scoring='neg_mean_squared_error')\n",
    "clf.fit(ordinal_features_train, target_train)\n",
    "print(\"Лучшие параметры:\")\n",
    "print()\n",
    "print(clf.best_params_)\n",
    "print()\n",
    "means = clf.cv_results_['mean_test_score']\n",
    "stds = clf.cv_results_['std_test_score']\n",
    "for mean, std, params in zip(means, stds, clf.cv_results_['params']):\n",
    "    print(\"%0.6f for %r\"% ((mean*-1)** 0.5, params))\n",
    "print()\n",
    "\n",
    "cv_RMSE_LGBMR = (max(means)*-1) ** 0.5"
   ]
  },
  {
   "cell_type": "markdown",
   "id": "fd61786b",
   "metadata": {},
   "source": [
    "### Решающее дерево"
   ]
  },
  {
   "cell_type": "code",
   "execution_count": 41,
   "id": "0982253f",
   "metadata": {},
   "outputs": [
    {
     "name": "stdout",
     "output_type": "stream",
     "text": [
      "Лучшие параметры:\n",
      "\n",
      "{'max_depth': 19, 'min_samples_leaf': 11, 'random_state': 12345}\n",
      "\n",
      "3734.166323 for {'max_depth': 1, 'min_samples_leaf': 1, 'random_state': 12345}\n",
      "3734.166323 for {'max_depth': 1, 'min_samples_leaf': 3, 'random_state': 12345}\n",
      "3734.166323 for {'max_depth': 1, 'min_samples_leaf': 5, 'random_state': 12345}\n",
      "3734.166323 for {'max_depth': 1, 'min_samples_leaf': 7, 'random_state': 12345}\n",
      "3734.166323 for {'max_depth': 1, 'min_samples_leaf': 9, 'random_state': 12345}\n",
      "3734.166323 for {'max_depth': 1, 'min_samples_leaf': 11, 'random_state': 12345}\n",
      "3734.166323 for {'max_depth': 1, 'min_samples_leaf': 13, 'random_state': 12345}\n",
      "3734.166323 for {'max_depth': 1, 'min_samples_leaf': 15, 'random_state': 12345}\n",
      "3734.166323 for {'max_depth': 1, 'min_samples_leaf': 17, 'random_state': 12345}\n",
      "3734.166323 for {'max_depth': 1, 'min_samples_leaf': 19, 'random_state': 12345}\n",
      "3734.166323 for {'max_depth': 1, 'min_samples_leaf': 21, 'random_state': 12345}\n",
      "3734.166323 for {'max_depth': 1, 'min_samples_leaf': 23, 'random_state': 12345}\n",
      "2974.048411 for {'max_depth': 3, 'min_samples_leaf': 1, 'random_state': 12345}\n",
      "2974.048411 for {'max_depth': 3, 'min_samples_leaf': 3, 'random_state': 12345}\n",
      "2974.048411 for {'max_depth': 3, 'min_samples_leaf': 5, 'random_state': 12345}\n",
      "2974.048411 for {'max_depth': 3, 'min_samples_leaf': 7, 'random_state': 12345}\n",
      "2974.048411 for {'max_depth': 3, 'min_samples_leaf': 9, 'random_state': 12345}\n",
      "2974.048411 for {'max_depth': 3, 'min_samples_leaf': 11, 'random_state': 12345}\n",
      "2974.048411 for {'max_depth': 3, 'min_samples_leaf': 13, 'random_state': 12345}\n",
      "2974.048411 for {'max_depth': 3, 'min_samples_leaf': 15, 'random_state': 12345}\n",
      "2974.048411 for {'max_depth': 3, 'min_samples_leaf': 17, 'random_state': 12345}\n",
      "2974.048411 for {'max_depth': 3, 'min_samples_leaf': 19, 'random_state': 12345}\n",
      "2974.048411 for {'max_depth': 3, 'min_samples_leaf': 21, 'random_state': 12345}\n",
      "2974.048411 for {'max_depth': 3, 'min_samples_leaf': 23, 'random_state': 12345}\n",
      "2450.262201 for {'max_depth': 5, 'min_samples_leaf': 1, 'random_state': 12345}\n",
      "2450.262201 for {'max_depth': 5, 'min_samples_leaf': 3, 'random_state': 12345}\n",
      "2450.262201 for {'max_depth': 5, 'min_samples_leaf': 5, 'random_state': 12345}\n",
      "2450.262201 for {'max_depth': 5, 'min_samples_leaf': 7, 'random_state': 12345}\n",
      "2450.262201 for {'max_depth': 5, 'min_samples_leaf': 9, 'random_state': 12345}\n",
      "2450.262201 for {'max_depth': 5, 'min_samples_leaf': 11, 'random_state': 12345}\n",
      "2450.262201 for {'max_depth': 5, 'min_samples_leaf': 13, 'random_state': 12345}\n",
      "2450.262201 for {'max_depth': 5, 'min_samples_leaf': 15, 'random_state': 12345}\n",
      "2450.262201 for {'max_depth': 5, 'min_samples_leaf': 17, 'random_state': 12345}\n",
      "2450.262201 for {'max_depth': 5, 'min_samples_leaf': 19, 'random_state': 12345}\n",
      "2450.262201 for {'max_depth': 5, 'min_samples_leaf': 21, 'random_state': 12345}\n",
      "2450.262201 for {'max_depth': 5, 'min_samples_leaf': 23, 'random_state': 12345}\n",
      "2181.535875 for {'max_depth': 7, 'min_samples_leaf': 1, 'random_state': 12345}\n",
      "2181.527808 for {'max_depth': 7, 'min_samples_leaf': 3, 'random_state': 12345}\n",
      "2181.562151 for {'max_depth': 7, 'min_samples_leaf': 5, 'random_state': 12345}\n",
      "2181.579492 for {'max_depth': 7, 'min_samples_leaf': 7, 'random_state': 12345}\n",
      "2181.531761 for {'max_depth': 7, 'min_samples_leaf': 9, 'random_state': 12345}\n",
      "2181.661641 for {'max_depth': 7, 'min_samples_leaf': 11, 'random_state': 12345}\n",
      "2181.604109 for {'max_depth': 7, 'min_samples_leaf': 13, 'random_state': 12345}\n",
      "2181.888566 for {'max_depth': 7, 'min_samples_leaf': 15, 'random_state': 12345}\n",
      "2181.888566 for {'max_depth': 7, 'min_samples_leaf': 17, 'random_state': 12345}\n",
      "2181.845693 for {'max_depth': 7, 'min_samples_leaf': 19, 'random_state': 12345}\n",
      "2181.670984 for {'max_depth': 7, 'min_samples_leaf': 21, 'random_state': 12345}\n",
      "2181.633086 for {'max_depth': 7, 'min_samples_leaf': 23, 'random_state': 12345}\n",
      "2037.289678 for {'max_depth': 9, 'min_samples_leaf': 1, 'random_state': 12345}\n",
      "2033.965220 for {'max_depth': 9, 'min_samples_leaf': 3, 'random_state': 12345}\n",
      "2033.894195 for {'max_depth': 9, 'min_samples_leaf': 5, 'random_state': 12345}\n",
      "2034.004499 for {'max_depth': 9, 'min_samples_leaf': 7, 'random_state': 12345}\n",
      "2034.878291 for {'max_depth': 9, 'min_samples_leaf': 9, 'random_state': 12345}\n",
      "2035.745010 for {'max_depth': 9, 'min_samples_leaf': 11, 'random_state': 12345}\n",
      "2036.371551 for {'max_depth': 9, 'min_samples_leaf': 13, 'random_state': 12345}\n",
      "2036.906976 for {'max_depth': 9, 'min_samples_leaf': 15, 'random_state': 12345}\n",
      "2036.281709 for {'max_depth': 9, 'min_samples_leaf': 17, 'random_state': 12345}\n",
      "2036.281997 for {'max_depth': 9, 'min_samples_leaf': 19, 'random_state': 12345}\n",
      "2036.059758 for {'max_depth': 9, 'min_samples_leaf': 21, 'random_state': 12345}\n",
      "2036.258118 for {'max_depth': 9, 'min_samples_leaf': 23, 'random_state': 12345}\n",
      "1949.003876 for {'max_depth': 11, 'min_samples_leaf': 1, 'random_state': 12345}\n",
      "1939.425378 for {'max_depth': 11, 'min_samples_leaf': 3, 'random_state': 12345}\n",
      "1933.343096 for {'max_depth': 11, 'min_samples_leaf': 5, 'random_state': 12345}\n",
      "1929.350698 for {'max_depth': 11, 'min_samples_leaf': 7, 'random_state': 12345}\n",
      "1930.915285 for {'max_depth': 11, 'min_samples_leaf': 9, 'random_state': 12345}\n",
      "1932.045162 for {'max_depth': 11, 'min_samples_leaf': 11, 'random_state': 12345}\n",
      "1933.732566 for {'max_depth': 11, 'min_samples_leaf': 13, 'random_state': 12345}\n",
      "1933.540641 for {'max_depth': 11, 'min_samples_leaf': 15, 'random_state': 12345}\n",
      "1934.747296 for {'max_depth': 11, 'min_samples_leaf': 17, 'random_state': 12345}\n",
      "1935.373885 for {'max_depth': 11, 'min_samples_leaf': 19, 'random_state': 12345}\n",
      "1934.199783 for {'max_depth': 11, 'min_samples_leaf': 21, 'random_state': 12345}\n",
      "1936.584091 for {'max_depth': 11, 'min_samples_leaf': 23, 'random_state': 12345}\n",
      "1922.680043 for {'max_depth': 13, 'min_samples_leaf': 1, 'random_state': 12345}\n",
      "1892.505779 for {'max_depth': 13, 'min_samples_leaf': 3, 'random_state': 12345}\n",
      "1878.679380 for {'max_depth': 13, 'min_samples_leaf': 5, 'random_state': 12345}\n",
      "1869.240586 for {'max_depth': 13, 'min_samples_leaf': 7, 'random_state': 12345}\n",
      "1869.188650 for {'max_depth': 13, 'min_samples_leaf': 9, 'random_state': 12345}\n",
      "1870.666440 for {'max_depth': 13, 'min_samples_leaf': 11, 'random_state': 12345}\n",
      "1871.740725 for {'max_depth': 13, 'min_samples_leaf': 13, 'random_state': 12345}\n",
      "1872.209826 for {'max_depth': 13, 'min_samples_leaf': 15, 'random_state': 12345}\n",
      "1871.414096 for {'max_depth': 13, 'min_samples_leaf': 17, 'random_state': 12345}\n",
      "1872.891418 for {'max_depth': 13, 'min_samples_leaf': 19, 'random_state': 12345}\n",
      "1872.647293 for {'max_depth': 13, 'min_samples_leaf': 21, 'random_state': 12345}\n",
      "1876.359080 for {'max_depth': 13, 'min_samples_leaf': 23, 'random_state': 12345}\n",
      "1939.198229 for {'max_depth': 15, 'min_samples_leaf': 1, 'random_state': 12345}\n",
      "1883.064109 for {'max_depth': 15, 'min_samples_leaf': 3, 'random_state': 12345}\n",
      "1858.680157 for {'max_depth': 15, 'min_samples_leaf': 5, 'random_state': 12345}\n",
      "1841.324539 for {'max_depth': 15, 'min_samples_leaf': 7, 'random_state': 12345}\n",
      "1840.403859 for {'max_depth': 15, 'min_samples_leaf': 9, 'random_state': 12345}\n",
      "1839.063595 for {'max_depth': 15, 'min_samples_leaf': 11, 'random_state': 12345}\n",
      "1841.702924 for {'max_depth': 15, 'min_samples_leaf': 13, 'random_state': 12345}\n",
      "1841.439599 for {'max_depth': 15, 'min_samples_leaf': 15, 'random_state': 12345}\n",
      "1841.519106 for {'max_depth': 15, 'min_samples_leaf': 17, 'random_state': 12345}\n",
      "1844.571836 for {'max_depth': 15, 'min_samples_leaf': 19, 'random_state': 12345}\n",
      "1844.641354 for {'max_depth': 15, 'min_samples_leaf': 21, 'random_state': 12345}\n",
      "1848.519941 for {'max_depth': 15, 'min_samples_leaf': 23, 'random_state': 12345}\n",
      "1982.420036 for {'max_depth': 17, 'min_samples_leaf': 1, 'random_state': 12345}\n",
      "1896.401254 for {'max_depth': 17, 'min_samples_leaf': 3, 'random_state': 12345}\n",
      "1860.675101 for {'max_depth': 17, 'min_samples_leaf': 5, 'random_state': 12345}\n",
      "1838.372859 for {'max_depth': 17, 'min_samples_leaf': 7, 'random_state': 12345}\n",
      "1833.354541 for {'max_depth': 17, 'min_samples_leaf': 9, 'random_state': 12345}\n",
      "1829.545983 for {'max_depth': 17, 'min_samples_leaf': 11, 'random_state': 12345}\n",
      "1832.960658 for {'max_depth': 17, 'min_samples_leaf': 13, 'random_state': 12345}\n",
      "1832.476334 for {'max_depth': 17, 'min_samples_leaf': 15, 'random_state': 12345}\n",
      "1831.940900 for {'max_depth': 17, 'min_samples_leaf': 17, 'random_state': 12345}\n",
      "1835.544552 for {'max_depth': 17, 'min_samples_leaf': 19, 'random_state': 12345}\n",
      "1836.839741 for {'max_depth': 17, 'min_samples_leaf': 21, 'random_state': 12345}\n",
      "1841.686883 for {'max_depth': 17, 'min_samples_leaf': 23, 'random_state': 12345}\n",
      "2032.967973 for {'max_depth': 19, 'min_samples_leaf': 1, 'random_state': 12345}\n",
      "1911.894291 for {'max_depth': 19, 'min_samples_leaf': 3, 'random_state': 12345}\n",
      "1867.651309 for {'max_depth': 19, 'min_samples_leaf': 5, 'random_state': 12345}\n",
      "1841.239495 for {'max_depth': 19, 'min_samples_leaf': 7, 'random_state': 12345}\n",
      "1834.349271 for {'max_depth': 19, 'min_samples_leaf': 9, 'random_state': 12345}\n",
      "1828.948322 for {'max_depth': 19, 'min_samples_leaf': 11, 'random_state': 12345}\n",
      "1831.844202 for {'max_depth': 19, 'min_samples_leaf': 13, 'random_state': 12345}\n",
      "1830.941064 for {'max_depth': 19, 'min_samples_leaf': 15, 'random_state': 12345}\n",
      "1830.743771 for {'max_depth': 19, 'min_samples_leaf': 17, 'random_state': 12345}\n",
      "1834.445146 for {'max_depth': 19, 'min_samples_leaf': 19, 'random_state': 12345}\n",
      "1835.500794 for {'max_depth': 19, 'min_samples_leaf': 21, 'random_state': 12345}\n",
      "1840.182267 for {'max_depth': 19, 'min_samples_leaf': 23, 'random_state': 12345}\n",
      "2077.155535 for {'max_depth': 21, 'min_samples_leaf': 1, 'random_state': 12345}\n",
      "1928.030843 for {'max_depth': 21, 'min_samples_leaf': 3, 'random_state': 12345}\n",
      "1874.408017 for {'max_depth': 21, 'min_samples_leaf': 5, 'random_state': 12345}\n",
      "1843.306657 for {'max_depth': 21, 'min_samples_leaf': 7, 'random_state': 12345}\n",
      "1835.910826 for {'max_depth': 21, 'min_samples_leaf': 9, 'random_state': 12345}\n",
      "1829.818046 for {'max_depth': 21, 'min_samples_leaf': 11, 'random_state': 12345}\n",
      "1832.130537 for {'max_depth': 21, 'min_samples_leaf': 13, 'random_state': 12345}\n",
      "1831.232533 for {'max_depth': 21, 'min_samples_leaf': 15, 'random_state': 12345}\n",
      "1830.851413 for {'max_depth': 21, 'min_samples_leaf': 17, 'random_state': 12345}\n",
      "1834.440106 for {'max_depth': 21, 'min_samples_leaf': 19, 'random_state': 12345}\n",
      "1835.536977 for {'max_depth': 21, 'min_samples_leaf': 21, 'random_state': 12345}\n",
      "1840.064566 for {'max_depth': 21, 'min_samples_leaf': 23, 'random_state': 12345}\n",
      "2099.793032 for {'max_depth': 23, 'min_samples_leaf': 1, 'random_state': 12345}\n",
      "1937.051534 for {'max_depth': 23, 'min_samples_leaf': 3, 'random_state': 12345}\n",
      "1877.951421 for {'max_depth': 23, 'min_samples_leaf': 5, 'random_state': 12345}\n",
      "1844.947260 for {'max_depth': 23, 'min_samples_leaf': 7, 'random_state': 12345}\n",
      "1837.050072 for {'max_depth': 23, 'min_samples_leaf': 9, 'random_state': 12345}\n",
      "1830.699074 for {'max_depth': 23, 'min_samples_leaf': 11, 'random_state': 12345}\n",
      "1832.874395 for {'max_depth': 23, 'min_samples_leaf': 13, 'random_state': 12345}\n",
      "1831.696267 for {'max_depth': 23, 'min_samples_leaf': 15, 'random_state': 12345}\n",
      "1831.218065 for {'max_depth': 23, 'min_samples_leaf': 17, 'random_state': 12345}\n",
      "1834.625962 for {'max_depth': 23, 'min_samples_leaf': 19, 'random_state': 12345}\n",
      "1835.693191 for {'max_depth': 23, 'min_samples_leaf': 21, 'random_state': 12345}\n",
      "1840.188195 for {'max_depth': 23, 'min_samples_leaf': 23, 'random_state': 12345}\n",
      "\n",
      "CPU times: user 5min 39s, sys: 1.27 s, total: 5min 40s\n",
      "Wall time: 5min 40s\n"
     ]
    }
   ],
   "source": [
    "%%time\n",
    "\n",
    "regressor = DecisionTreeRegressor() \n",
    "hyperparams = [{'max_depth':range (1, 25, 2),\n",
    "                'min_samples_leaf': range (1, 25, 2),\n",
    "                'random_state':[12345]}]\n",
    "\n",
    "clf = GridSearchCV(regressor, hyperparams, scoring='neg_mean_squared_error')\n",
    "clf.fit(ordinal_features_train, target_train)\n",
    "print(\"Лучшие параметры:\")\n",
    "print()\n",
    "print(clf.best_params_)\n",
    "print()\n",
    "means = clf.cv_results_['mean_test_score']\n",
    "stds = clf.cv_results_['std_test_score']\n",
    "for mean, std, params in zip(means, stds, clf.cv_results_['params']):\n",
    "    print(\"%0.6f for %r\"% ((mean*-1)** 0.5, params))\n",
    "print()\n",
    "\n",
    "cv_RMSE_DTR_ordinal = (max(means)*-1) ** 0.5"
   ]
  },
  {
   "cell_type": "markdown",
   "id": "e4431c78",
   "metadata": {},
   "source": [
    "## Анализ моделей"
   ]
  },
  {
   "cell_type": "markdown",
   "id": "c688d6e5",
   "metadata": {},
   "source": [
    "Из 3-х обученных моделей лучшее значение RMSE получили у CatBoostRegressor. У неё же наилучшее значение по быстроте расчётов. Но при этом нужно отметить, что гиперпараметров у неё задавалось меньше. У модели LGBMRegressor значение RMSE хуже и считает она дольше. Хуже всех значение RMSE у модели Решающего дерева и считает она дольше всех."
   ]
  },
  {
   "cell_type": "code",
   "execution_count": 42,
   "id": "ce565c5a",
   "metadata": {},
   "outputs": [
    {
     "name": "stdout",
     "output_type": "stream",
     "text": [
      "RMSE: 1628.9113027867174\n",
      "CPU times: user 30.4 s, sys: 199 ms, total: 30.6 s\n",
      "Wall time: 31.1 s\n"
     ]
    }
   ],
   "source": [
    "%%time\n",
    "best_model = CatBoostRegressor(learning_rate=0.5,\n",
    "                              iterations = 200,\n",
    "                              random_state=12345, \n",
    "                              verbose=False, \n",
    "                              cat_features=['VehicleType','Model', 'FuelType','Brand']) \n",
    "best_model.fit(features_train, target_train)\n",
    "test_predictions = best_model.predict(features_test)\n",
    "print(\"RMSE:\", mean_squared_error(target_test, test_predictions) ** 0.5)"
   ]
  },
  {
   "cell_type": "markdown",
   "id": "21875d41",
   "metadata": {},
   "source": [
    " Разница в 1%"
   ]
  },
  {
   "cell_type": "code",
   "execution_count": null,
   "id": "754da205",
   "metadata": {},
   "outputs": [],
   "source": []
  }
 ],
 "metadata": {
  "ExecuteTimeLog": [
   {
    "duration": 1518,
    "start_time": "2022-10-19T20:10:38.775Z"
   },
   {
    "duration": 1019,
    "start_time": "2022-10-19T20:11:16.336Z"
   },
   {
    "duration": 4,
    "start_time": "2022-10-19T20:11:46.895Z"
   },
   {
    "duration": 3147,
    "start_time": "2022-10-19T20:12:04.445Z"
   },
   {
    "duration": 4,
    "start_time": "2022-10-19T20:13:21.847Z"
   },
   {
    "duration": 2906,
    "start_time": "2022-10-19T20:13:30.067Z"
   },
   {
    "duration": 34,
    "start_time": "2022-10-19T20:15:33.959Z"
   },
   {
    "duration": 82,
    "start_time": "2022-10-19T20:15:44.725Z"
   },
   {
    "duration": 8,
    "start_time": "2022-10-19T20:16:35.119Z"
   },
   {
    "duration": 20,
    "start_time": "2022-10-19T20:17:50.942Z"
   },
   {
    "duration": 34,
    "start_time": "2022-10-19T20:17:56.383Z"
   },
   {
    "duration": 22,
    "start_time": "2022-10-19T20:18:01.076Z"
   },
   {
    "duration": 6,
    "start_time": "2022-10-19T20:18:10.683Z"
   },
   {
    "duration": 18,
    "start_time": "2022-10-19T20:18:21.432Z"
   },
   {
    "duration": 6,
    "start_time": "2022-10-19T20:18:30.212Z"
   },
   {
    "duration": 20,
    "start_time": "2022-10-19T20:18:44.423Z"
   },
   {
    "duration": 5,
    "start_time": "2022-10-19T20:18:54.143Z"
   },
   {
    "duration": 20,
    "start_time": "2022-10-19T20:19:07.082Z"
   },
   {
    "duration": 22,
    "start_time": "2022-10-19T20:19:15.953Z"
   },
   {
    "duration": 19,
    "start_time": "2022-10-19T20:19:26.132Z"
   },
   {
    "duration": 7,
    "start_time": "2022-10-19T20:19:36.872Z"
   },
   {
    "duration": 41,
    "start_time": "2022-10-19T20:20:29.802Z"
   },
   {
    "duration": 138,
    "start_time": "2022-10-19T20:23:56.594Z"
   },
   {
    "duration": 15,
    "start_time": "2022-10-19T20:27:26.302Z"
   },
   {
    "duration": 38,
    "start_time": "2022-10-19T20:28:39.592Z"
   },
   {
    "duration": 204,
    "start_time": "2022-10-19T20:36:41.562Z"
   },
   {
    "duration": 349,
    "start_time": "2022-10-19T20:37:06.941Z"
   },
   {
    "duration": 179,
    "start_time": "2022-10-19T20:37:14.031Z"
   },
   {
    "duration": 16,
    "start_time": "2022-10-19T20:38:25.930Z"
   },
   {
    "duration": 25,
    "start_time": "2022-10-19T20:39:18.041Z"
   },
   {
    "duration": 69,
    "start_time": "2022-10-19T20:40:37.892Z"
   },
   {
    "duration": 28,
    "start_time": "2022-10-19T20:41:40.931Z"
   },
   {
    "duration": 17,
    "start_time": "2022-10-19T20:42:30.892Z"
   },
   {
    "duration": 32,
    "start_time": "2022-10-19T20:42:44.141Z"
   },
   {
    "duration": 25,
    "start_time": "2022-10-19T20:43:58.342Z"
   },
   {
    "duration": 27,
    "start_time": "2022-10-19T20:44:12.962Z"
   },
   {
    "duration": 16,
    "start_time": "2022-10-19T20:44:42.121Z"
   },
   {
    "duration": 28,
    "start_time": "2022-10-19T20:45:33.032Z"
   },
   {
    "duration": 42,
    "start_time": "2022-10-19T20:46:21.142Z"
   },
   {
    "duration": 39,
    "start_time": "2022-10-19T20:46:40.982Z"
   },
   {
    "duration": 10,
    "start_time": "2022-10-19T20:47:06.352Z"
   },
   {
    "duration": 97,
    "start_time": "2022-10-19T20:49:14.862Z"
   },
   {
    "duration": 298,
    "start_time": "2022-10-19T20:52:00.470Z"
   },
   {
    "duration": 109,
    "start_time": "2022-10-19T20:52:10.598Z"
   },
   {
    "duration": 126910,
    "start_time": "2022-10-19T20:53:07.000Z"
   },
   {
    "duration": 304955,
    "start_time": "2022-10-19T20:56:20.380Z"
   },
   {
    "duration": 337650,
    "start_time": "2022-10-19T21:03:30.797Z"
   },
   {
    "duration": 6,
    "start_time": "2022-10-19T21:09:08.448Z"
   },
   {
    "duration": 10,
    "start_time": "2022-10-19T21:09:35.496Z"
   },
   {
    "duration": 6,
    "start_time": "2022-10-19T21:09:44.805Z"
   },
   {
    "duration": 30596,
    "start_time": "2022-10-19T21:11:08.758Z"
   },
   {
    "duration": 1648,
    "start_time": "2022-10-20T18:58:05.969Z"
   },
   {
    "duration": 996,
    "start_time": "2022-10-20T18:58:07.619Z"
   },
   {
    "duration": 4,
    "start_time": "2022-10-20T18:58:08.616Z"
   },
   {
    "duration": 3148,
    "start_time": "2022-10-20T18:58:08.622Z"
   },
   {
    "duration": 34,
    "start_time": "2022-10-20T18:58:11.773Z"
   },
   {
    "duration": 82,
    "start_time": "2022-10-20T18:58:11.821Z"
   },
   {
    "duration": 23,
    "start_time": "2022-10-20T18:58:11.905Z"
   },
   {
    "duration": 19,
    "start_time": "2022-10-20T18:58:11.929Z"
   },
   {
    "duration": 8,
    "start_time": "2022-10-20T18:58:11.949Z"
   },
   {
    "duration": 18,
    "start_time": "2022-10-20T18:58:11.958Z"
   },
   {
    "duration": 12,
    "start_time": "2022-10-20T18:58:11.977Z"
   },
   {
    "duration": 36,
    "start_time": "2022-10-20T18:58:11.990Z"
   },
   {
    "duration": 7,
    "start_time": "2022-10-20T18:58:12.028Z"
   },
   {
    "duration": 19,
    "start_time": "2022-10-20T18:58:12.038Z"
   },
   {
    "duration": 26,
    "start_time": "2022-10-20T18:58:12.058Z"
   },
   {
    "duration": 19,
    "start_time": "2022-10-20T18:58:12.085Z"
   },
   {
    "duration": 6,
    "start_time": "2022-10-20T18:58:12.122Z"
   },
   {
    "duration": 37,
    "start_time": "2022-10-20T18:58:12.129Z"
   },
   {
    "duration": 157,
    "start_time": "2022-10-20T18:58:12.168Z"
   },
   {
    "duration": 16,
    "start_time": "2022-10-20T18:58:12.326Z"
   },
   {
    "duration": 25,
    "start_time": "2022-10-20T18:58:12.343Z"
   },
   {
    "duration": 229,
    "start_time": "2022-10-20T18:58:12.370Z"
   },
   {
    "duration": 23,
    "start_time": "2022-10-20T18:58:12.601Z"
   },
   {
    "duration": 24,
    "start_time": "2022-10-20T18:58:12.626Z"
   },
   {
    "duration": 88,
    "start_time": "2022-10-20T18:58:12.652Z"
   },
   {
    "duration": 32,
    "start_time": "2022-10-20T18:58:12.741Z"
   },
   {
    "duration": 20,
    "start_time": "2022-10-20T18:58:12.774Z"
   },
   {
    "duration": 51,
    "start_time": "2022-10-20T18:58:12.796Z"
   },
   {
    "duration": 27,
    "start_time": "2022-10-20T18:58:12.849Z"
   },
   {
    "duration": 29,
    "start_time": "2022-10-20T18:58:12.878Z"
   },
   {
    "duration": 16,
    "start_time": "2022-10-20T18:58:12.922Z"
   },
   {
    "duration": 28,
    "start_time": "2022-10-20T18:58:12.940Z"
   },
   {
    "duration": 127,
    "start_time": "2022-10-20T18:58:12.969Z"
   },
   {
    "duration": 52,
    "start_time": "2022-10-20T18:58:13.097Z"
   },
   {
    "duration": 11,
    "start_time": "2022-10-20T18:58:13.150Z"
   },
   {
    "duration": 107,
    "start_time": "2022-10-20T18:58:13.162Z"
   },
   {
    "duration": 315,
    "start_time": "2022-10-20T18:58:13.271Z"
   },
   {
    "duration": 115,
    "start_time": "2022-10-20T18:58:13.588Z"
   },
   {
    "duration": 128487,
    "start_time": "2022-10-20T18:58:13.705Z"
   },
   {
    "duration": 219739,
    "start_time": "2022-10-20T19:00:22.194Z"
   },
   {
    "duration": 340555,
    "start_time": "2022-10-20T19:04:01.937Z"
   },
   {
    "duration": 31111,
    "start_time": "2022-10-20T19:09:42.496Z"
   }
  ],
  "kernelspec": {
   "display_name": "Python 3 (ipykernel)",
   "language": "python",
   "name": "python3"
  },
  "language_info": {
   "codemirror_mode": {
    "name": "ipython",
    "version": 3
   },
   "file_extension": ".py",
   "mimetype": "text/x-python",
   "name": "python",
   "nbconvert_exporter": "python",
   "pygments_lexer": "ipython3",
   "version": "3.9.5"
  },
  "toc": {
   "base_numbering": 1,
   "nav_menu": {},
   "number_sections": true,
   "sideBar": true,
   "skip_h1_title": true,
   "title_cell": "Содержание",
   "title_sidebar": "Contents",
   "toc_cell": true,
   "toc_position": {},
   "toc_section_display": true,
   "toc_window_display": false
  }
 },
 "nbformat": 4,
 "nbformat_minor": 5
}
