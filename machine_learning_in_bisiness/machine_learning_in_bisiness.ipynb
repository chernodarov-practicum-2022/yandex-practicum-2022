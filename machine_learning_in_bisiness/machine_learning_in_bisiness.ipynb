{
 "cells": [
  {
   "cell_type": "markdown",
   "id": "296de797",
   "metadata": {
    "toc": true
   },
   "source": [
    "<h1>Содержание<span class=\"tocSkip\"></span></h1>\n",
    "<div class=\"toc\"><ul class=\"toc-item\"><li><span><a href=\"#Загрузка-и-подготовка-данных\" data-toc-modified-id=\"Загрузка-и-подготовка-данных-1\"><span class=\"toc-item-num\">1&nbsp;&nbsp;</span>Загрузка и подготовка данных</a></span></li><li><span><a href=\"#Обучение-и-проверка-модели\" data-toc-modified-id=\"Обучение-и-проверка-модели-2\"><span class=\"toc-item-num\">2&nbsp;&nbsp;</span>Обучение и проверка модели</a></span></li><li><span><a href=\"#Подготовка-к-расчёту-прибыли\" data-toc-modified-id=\"Подготовка-к-расчёту-прибыли-3\"><span class=\"toc-item-num\">3&nbsp;&nbsp;</span>Подготовка к расчёту прибыли</a></span></li><li><span><a href=\"#Расчёт-прибыли-и-рисков\" data-toc-modified-id=\"Расчёт-прибыли-и-рисков-4\"><span class=\"toc-item-num\">4&nbsp;&nbsp;</span>Расчёт прибыли и рисков</a></span></li></ul></div>"
   ]
  },
  {
   "cell_type": "markdown",
   "id": "b7e62bc7",
   "metadata": {},
   "source": [
    "# Выбор локации для скважины"
   ]
  },
  {
   "cell_type": "markdown",
   "id": "07255d40",
   "metadata": {},
   "source": [
    "Вы работаете в добывающей компании «ГлавРосГосНефть». Нужно решить, где бурить новую скважину.\n",
    "\n",
    "Вам предоставлены пробы нефти в трёх регионах: в каждом 10 000 месторождений, где измерили качество нефти и объём её запасов. Нужно построить модель машинного обучения, которая поможет определить регион, где добыча принесёт наибольшую прибыль. Проанализируйте возможную прибыль и риски техникой *Bootstrap.*\n",
    "\n",
    "Шаги для выбора локации:\n",
    "\n",
    "- В избранном регионе ищут месторождения, для каждого определяют значения признаков;\n",
    "- Строят модель и оценивают объём запасов;\n",
    "- Выбирают месторождения с самым высокими оценками значений. Количество месторождений зависит от бюджета компании и стоимости разработки одной скважины;\n",
    "- Прибыль равна суммарной прибыли отобранных месторождений."
   ]
  },
  {
   "cell_type": "markdown",
   "id": "13f20f26",
   "metadata": {},
   "source": [
    "## Загрузка и подготовка данных"
   ]
  },
  {
   "cell_type": "code",
   "execution_count": 1,
   "id": "47df49ab",
   "metadata": {},
   "outputs": [],
   "source": [
    "import pandas as pd\n",
    "import seaborn as sns\n",
    "import numpy as np \n",
    "import matplotlib.pyplot as plt \n",
    "from sklearn.linear_model import LinearRegression\n",
    "from sklearn.model_selection import train_test_split\n",
    "from sklearn.metrics import mean_squared_error"
   ]
  },
  {
   "cell_type": "markdown",
   "id": "617bb663",
   "metadata": {},
   "source": [
    "Прочитаем файлы /datasets/geo_data_0.csv,  /datasets/geo_data_1.csv,  /datasets/geo_data_2.csv \n",
    "и сохраним их в переменных `geo_0`, `geo_1`, `geo_2` соответственно."
   ]
  },
  {
   "cell_type": "code",
   "execution_count": 2,
   "id": "32e24382",
   "metadata": {},
   "outputs": [],
   "source": [
    "# читаем файл и сохраняем его в bank\n",
    "geo_1 = pd.read_csv('/datasets/geo_data_0.csv') "
   ]
  },
  {
   "cell_type": "code",
   "execution_count": 3,
   "id": "dd4e0508",
   "metadata": {},
   "outputs": [],
   "source": [
    "# читаем файл и сохраняем его в bank\n",
    "geo_2 = pd.read_csv('/datasets/geo_data_1.csv') "
   ]
  },
  {
   "cell_type": "code",
   "execution_count": 4,
   "id": "58a68acc",
   "metadata": {},
   "outputs": [],
   "source": [
    "# читаем файл и сохраняем его в bank\n",
    "geo_3 = pd.read_csv('/datasets/geo_data_2.csv') "
   ]
  },
  {
   "cell_type": "markdown",
   "id": "c42041cb",
   "metadata": {},
   "source": [
    "Напишем функцию, которая выводит общую информацию о таблице, а так же посчитает пропуски и проверит на наличие дубликатов."
   ]
  },
  {
   "cell_type": "code",
   "execution_count": 5,
   "id": "70333b81",
   "metadata": {},
   "outputs": [],
   "source": [
    "#пишем функцию summary\n",
    "def summary(df):\n",
    "    print(df.info())\n",
    "    display(df.head())\n",
    "    count=0\n",
    "    for col in df.columns:\n",
    "        if df.isna().sum()[col]==0:\n",
    "            count+=1\n",
    "        else:\n",
    "            print(f'Пропущенных значений в столбце {col}: {df.isna().sum()[col]}')\n",
    "    if count==len(df.columns):\n",
    "        print('Пропущенных значений в таблице нет')\n",
    "    print(f'Повторов в таблице {df.duplicated().sum()}') "
   ]
  },
  {
   "cell_type": "code",
   "execution_count": 6,
   "id": "8636c7c6",
   "metadata": {},
   "outputs": [
    {
     "name": "stdout",
     "output_type": "stream",
     "text": [
      "<class 'pandas.core.frame.DataFrame'>\n",
      "RangeIndex: 100000 entries, 0 to 99999\n",
      "Data columns (total 5 columns):\n",
      " #   Column   Non-Null Count   Dtype  \n",
      "---  ------   --------------   -----  \n",
      " 0   id       100000 non-null  object \n",
      " 1   f0       100000 non-null  float64\n",
      " 2   f1       100000 non-null  float64\n",
      " 3   f2       100000 non-null  float64\n",
      " 4   product  100000 non-null  float64\n",
      "dtypes: float64(4), object(1)\n",
      "memory usage: 3.8+ MB\n",
      "None\n"
     ]
    },
    {
     "data": {
      "text/html": [
       "<div>\n",
       "<style scoped>\n",
       "    .dataframe tbody tr th:only-of-type {\n",
       "        vertical-align: middle;\n",
       "    }\n",
       "\n",
       "    .dataframe tbody tr th {\n",
       "        vertical-align: top;\n",
       "    }\n",
       "\n",
       "    .dataframe thead th {\n",
       "        text-align: right;\n",
       "    }\n",
       "</style>\n",
       "<table border=\"1\" class=\"dataframe\">\n",
       "  <thead>\n",
       "    <tr style=\"text-align: right;\">\n",
       "      <th></th>\n",
       "      <th>id</th>\n",
       "      <th>f0</th>\n",
       "      <th>f1</th>\n",
       "      <th>f2</th>\n",
       "      <th>product</th>\n",
       "    </tr>\n",
       "  </thead>\n",
       "  <tbody>\n",
       "    <tr>\n",
       "      <th>0</th>\n",
       "      <td>txEyH</td>\n",
       "      <td>0.705745</td>\n",
       "      <td>-0.497823</td>\n",
       "      <td>1.221170</td>\n",
       "      <td>105.280062</td>\n",
       "    </tr>\n",
       "    <tr>\n",
       "      <th>1</th>\n",
       "      <td>2acmU</td>\n",
       "      <td>1.334711</td>\n",
       "      <td>-0.340164</td>\n",
       "      <td>4.365080</td>\n",
       "      <td>73.037750</td>\n",
       "    </tr>\n",
       "    <tr>\n",
       "      <th>2</th>\n",
       "      <td>409Wp</td>\n",
       "      <td>1.022732</td>\n",
       "      <td>0.151990</td>\n",
       "      <td>1.419926</td>\n",
       "      <td>85.265647</td>\n",
       "    </tr>\n",
       "    <tr>\n",
       "      <th>3</th>\n",
       "      <td>iJLyR</td>\n",
       "      <td>-0.032172</td>\n",
       "      <td>0.139033</td>\n",
       "      <td>2.978566</td>\n",
       "      <td>168.620776</td>\n",
       "    </tr>\n",
       "    <tr>\n",
       "      <th>4</th>\n",
       "      <td>Xdl7t</td>\n",
       "      <td>1.988431</td>\n",
       "      <td>0.155413</td>\n",
       "      <td>4.751769</td>\n",
       "      <td>154.036647</td>\n",
       "    </tr>\n",
       "  </tbody>\n",
       "</table>\n",
       "</div>"
      ],
      "text/plain": [
       "      id        f0        f1        f2     product\n",
       "0  txEyH  0.705745 -0.497823  1.221170  105.280062\n",
       "1  2acmU  1.334711 -0.340164  4.365080   73.037750\n",
       "2  409Wp  1.022732  0.151990  1.419926   85.265647\n",
       "3  iJLyR -0.032172  0.139033  2.978566  168.620776\n",
       "4  Xdl7t  1.988431  0.155413  4.751769  154.036647"
      ]
     },
     "metadata": {},
     "output_type": "display_data"
    },
    {
     "name": "stdout",
     "output_type": "stream",
     "text": [
      "Пропущенных значений в таблице нет\n",
      "Повторов в таблице 0\n"
     ]
    }
   ],
   "source": [
    "summary(geo_1) "
   ]
  },
  {
   "cell_type": "code",
   "execution_count": 7,
   "id": "38eaf5a4",
   "metadata": {},
   "outputs": [
    {
     "name": "stdout",
     "output_type": "stream",
     "text": [
      "<class 'pandas.core.frame.DataFrame'>\n",
      "RangeIndex: 100000 entries, 0 to 99999\n",
      "Data columns (total 5 columns):\n",
      " #   Column   Non-Null Count   Dtype  \n",
      "---  ------   --------------   -----  \n",
      " 0   id       100000 non-null  object \n",
      " 1   f0       100000 non-null  float64\n",
      " 2   f1       100000 non-null  float64\n",
      " 3   f2       100000 non-null  float64\n",
      " 4   product  100000 non-null  float64\n",
      "dtypes: float64(4), object(1)\n",
      "memory usage: 3.8+ MB\n",
      "None\n"
     ]
    },
    {
     "data": {
      "text/html": [
       "<div>\n",
       "<style scoped>\n",
       "    .dataframe tbody tr th:only-of-type {\n",
       "        vertical-align: middle;\n",
       "    }\n",
       "\n",
       "    .dataframe tbody tr th {\n",
       "        vertical-align: top;\n",
       "    }\n",
       "\n",
       "    .dataframe thead th {\n",
       "        text-align: right;\n",
       "    }\n",
       "</style>\n",
       "<table border=\"1\" class=\"dataframe\">\n",
       "  <thead>\n",
       "    <tr style=\"text-align: right;\">\n",
       "      <th></th>\n",
       "      <th>id</th>\n",
       "      <th>f0</th>\n",
       "      <th>f1</th>\n",
       "      <th>f2</th>\n",
       "      <th>product</th>\n",
       "    </tr>\n",
       "  </thead>\n",
       "  <tbody>\n",
       "    <tr>\n",
       "      <th>0</th>\n",
       "      <td>kBEdx</td>\n",
       "      <td>-15.001348</td>\n",
       "      <td>-8.276000</td>\n",
       "      <td>-0.005876</td>\n",
       "      <td>3.179103</td>\n",
       "    </tr>\n",
       "    <tr>\n",
       "      <th>1</th>\n",
       "      <td>62mP7</td>\n",
       "      <td>14.272088</td>\n",
       "      <td>-3.475083</td>\n",
       "      <td>0.999183</td>\n",
       "      <td>26.953261</td>\n",
       "    </tr>\n",
       "    <tr>\n",
       "      <th>2</th>\n",
       "      <td>vyE1P</td>\n",
       "      <td>6.263187</td>\n",
       "      <td>-5.948386</td>\n",
       "      <td>5.001160</td>\n",
       "      <td>134.766305</td>\n",
       "    </tr>\n",
       "    <tr>\n",
       "      <th>3</th>\n",
       "      <td>KcrkZ</td>\n",
       "      <td>-13.081196</td>\n",
       "      <td>-11.506057</td>\n",
       "      <td>4.999415</td>\n",
       "      <td>137.945408</td>\n",
       "    </tr>\n",
       "    <tr>\n",
       "      <th>4</th>\n",
       "      <td>AHL4O</td>\n",
       "      <td>12.702195</td>\n",
       "      <td>-8.147433</td>\n",
       "      <td>5.004363</td>\n",
       "      <td>134.766305</td>\n",
       "    </tr>\n",
       "  </tbody>\n",
       "</table>\n",
       "</div>"
      ],
      "text/plain": [
       "      id         f0         f1        f2     product\n",
       "0  kBEdx -15.001348  -8.276000 -0.005876    3.179103\n",
       "1  62mP7  14.272088  -3.475083  0.999183   26.953261\n",
       "2  vyE1P   6.263187  -5.948386  5.001160  134.766305\n",
       "3  KcrkZ -13.081196 -11.506057  4.999415  137.945408\n",
       "4  AHL4O  12.702195  -8.147433  5.004363  134.766305"
      ]
     },
     "metadata": {},
     "output_type": "display_data"
    },
    {
     "name": "stdout",
     "output_type": "stream",
     "text": [
      "Пропущенных значений в таблице нет\n",
      "Повторов в таблице 0\n"
     ]
    }
   ],
   "source": [
    "summary(geo_2) "
   ]
  },
  {
   "cell_type": "code",
   "execution_count": 8,
   "id": "b8163299",
   "metadata": {},
   "outputs": [
    {
     "name": "stdout",
     "output_type": "stream",
     "text": [
      "<class 'pandas.core.frame.DataFrame'>\n",
      "RangeIndex: 100000 entries, 0 to 99999\n",
      "Data columns (total 5 columns):\n",
      " #   Column   Non-Null Count   Dtype  \n",
      "---  ------   --------------   -----  \n",
      " 0   id       100000 non-null  object \n",
      " 1   f0       100000 non-null  float64\n",
      " 2   f1       100000 non-null  float64\n",
      " 3   f2       100000 non-null  float64\n",
      " 4   product  100000 non-null  float64\n",
      "dtypes: float64(4), object(1)\n",
      "memory usage: 3.8+ MB\n",
      "None\n"
     ]
    },
    {
     "data": {
      "text/html": [
       "<div>\n",
       "<style scoped>\n",
       "    .dataframe tbody tr th:only-of-type {\n",
       "        vertical-align: middle;\n",
       "    }\n",
       "\n",
       "    .dataframe tbody tr th {\n",
       "        vertical-align: top;\n",
       "    }\n",
       "\n",
       "    .dataframe thead th {\n",
       "        text-align: right;\n",
       "    }\n",
       "</style>\n",
       "<table border=\"1\" class=\"dataframe\">\n",
       "  <thead>\n",
       "    <tr style=\"text-align: right;\">\n",
       "      <th></th>\n",
       "      <th>id</th>\n",
       "      <th>f0</th>\n",
       "      <th>f1</th>\n",
       "      <th>f2</th>\n",
       "      <th>product</th>\n",
       "    </tr>\n",
       "  </thead>\n",
       "  <tbody>\n",
       "    <tr>\n",
       "      <th>0</th>\n",
       "      <td>fwXo0</td>\n",
       "      <td>-1.146987</td>\n",
       "      <td>0.963328</td>\n",
       "      <td>-0.828965</td>\n",
       "      <td>27.758673</td>\n",
       "    </tr>\n",
       "    <tr>\n",
       "      <th>1</th>\n",
       "      <td>WJtFt</td>\n",
       "      <td>0.262778</td>\n",
       "      <td>0.269839</td>\n",
       "      <td>-2.530187</td>\n",
       "      <td>56.069697</td>\n",
       "    </tr>\n",
       "    <tr>\n",
       "      <th>2</th>\n",
       "      <td>ovLUW</td>\n",
       "      <td>0.194587</td>\n",
       "      <td>0.289035</td>\n",
       "      <td>-5.586433</td>\n",
       "      <td>62.871910</td>\n",
       "    </tr>\n",
       "    <tr>\n",
       "      <th>3</th>\n",
       "      <td>q6cA6</td>\n",
       "      <td>2.236060</td>\n",
       "      <td>-0.553760</td>\n",
       "      <td>0.930038</td>\n",
       "      <td>114.572842</td>\n",
       "    </tr>\n",
       "    <tr>\n",
       "      <th>4</th>\n",
       "      <td>WPMUX</td>\n",
       "      <td>-0.515993</td>\n",
       "      <td>1.716266</td>\n",
       "      <td>5.899011</td>\n",
       "      <td>149.600746</td>\n",
       "    </tr>\n",
       "  </tbody>\n",
       "</table>\n",
       "</div>"
      ],
      "text/plain": [
       "      id        f0        f1        f2     product\n",
       "0  fwXo0 -1.146987  0.963328 -0.828965   27.758673\n",
       "1  WJtFt  0.262778  0.269839 -2.530187   56.069697\n",
       "2  ovLUW  0.194587  0.289035 -5.586433   62.871910\n",
       "3  q6cA6  2.236060 -0.553760  0.930038  114.572842\n",
       "4  WPMUX -0.515993  1.716266  5.899011  149.600746"
      ]
     },
     "metadata": {},
     "output_type": "display_data"
    },
    {
     "name": "stdout",
     "output_type": "stream",
     "text": [
      "Пропущенных значений в таблице нет\n",
      "Повторов в таблице 0\n"
     ]
    }
   ],
   "source": [
    "summary(geo_3) "
   ]
  },
  {
   "cell_type": "markdown",
   "id": "1226c82c",
   "metadata": {},
   "source": [
    "Итак есть 3 потенциальных региона для добычи нефти. В каждом регионе есть данные о 100 тысячах предполагаемых скважин для добычи нефти. Данные без пропусков. Без повторов. \n",
    "\n",
    "Из условия известно, что:\n",
    "\n",
    "* id — уникальный идентификатор скважины;\n",
    "* f0, f1, f2 — три признака точек;\n",
    "* product — объём запасов в скважине (тыс. баррелей)."
   ]
  },
  {
   "cell_type": "markdown",
   "id": "98a73c24",
   "metadata": {},
   "source": [
    "Столбец `id` никак не повлияет на прогноз запасов нефти в каждом регионе, тем более что он записан в формате `object`, а модель с ним работать не будет. Не вижу смысла его форматировать. Удалим данный столбец в каждом регионе."
   ]
  },
  {
   "cell_type": "code",
   "execution_count": 9,
   "id": "dd9a45be",
   "metadata": {},
   "outputs": [],
   "source": [
    "#удалим столбец id\n",
    "geo_1.drop(['id'], axis=1, inplace=True)"
   ]
  },
  {
   "cell_type": "code",
   "execution_count": 10,
   "id": "2f217d09",
   "metadata": {},
   "outputs": [],
   "source": [
    "#удалим столбец id\n",
    "geo_2.drop(['id'], axis=1, inplace=True)"
   ]
  },
  {
   "cell_type": "code",
   "execution_count": 11,
   "id": "0e17b76e",
   "metadata": {},
   "outputs": [],
   "source": [
    "#удалим столбец id\n",
    "geo_3.drop(['id'], axis=1, inplace=True)"
   ]
  },
  {
   "cell_type": "markdown",
   "id": "893dca11",
   "metadata": {},
   "source": [
    "Оценим зависимость целевого признака от признаков. Найдём коэффициенты корреляции."
   ]
  },
  {
   "cell_type": "code",
   "execution_count": 15,
   "id": "4520d6e2",
   "metadata": {},
   "outputs": [
    {
     "data": {
      "text/html": [
       "<style  type=\"text/css\" >\n",
       "#T_fd1a7_row0_col0{\n",
       "            background-color:  #fff5f0;\n",
       "            color:  #000000;\n",
       "        }#T_fd1a7_row0_col1{\n",
       "            background-color:  #08306b;\n",
       "            color:  #f1f1f1;\n",
       "        }#T_fd1a7_row0_col2{\n",
       "            background-color:  #7f2704;\n",
       "            color:  #f1f1f1;\n",
       "        }#T_fd1a7_row0_col3{\n",
       "            background-color:  #bde5b6;\n",
       "            color:  #000000;\n",
       "        }#T_fd1a7_row1_col0{\n",
       "            background-color:  #67000d;\n",
       "            color:  #f1f1f1;\n",
       "        }#T_fd1a7_row1_col1{\n",
       "            background-color:  #f7fbff;\n",
       "            color:  #000000;\n",
       "        }#T_fd1a7_row1_col2{\n",
       "            background-color:  #802704;\n",
       "            color:  #f1f1f1;\n",
       "        }#T_fd1a7_row1_col3{\n",
       "            background-color:  #f7fcf5;\n",
       "            color:  #000000;\n",
       "        }#T_fd1a7_row2_col0{\n",
       "            background-color:  #da2723;\n",
       "            color:  #f1f1f1;\n",
       "        }#T_fd1a7_row2_col1{\n",
       "            background-color:  #3080bd;\n",
       "            color:  #000000;\n",
       "        }#T_fd1a7_row2_col2{\n",
       "            background-color:  #fff5eb;\n",
       "            color:  #000000;\n",
       "        }#T_fd1a7_row2_col3{\n",
       "            background-color:  #58b668;\n",
       "            color:  #000000;\n",
       "        }#T_fd1a7_row3_col0{\n",
       "            background-color:  #f24633;\n",
       "            color:  #000000;\n",
       "        }#T_fd1a7_row3_col1{\n",
       "            background-color:  #125da6;\n",
       "            color:  #f1f1f1;\n",
       "        }#T_fd1a7_row3_col2{\n",
       "            background-color:  #fc8937;\n",
       "            color:  #000000;\n",
       "        }#T_fd1a7_row3_col3{\n",
       "            background-color:  #00441b;\n",
       "            color:  #f1f1f1;\n",
       "        }</style><table id=\"T_fd1a7_\" ><thead>    <tr>        <th class=\"blank level0\" ></th>        <th class=\"col_heading level0 col0\" >f0</th>        <th class=\"col_heading level0 col1\" >f1</th>        <th class=\"col_heading level0 col2\" >f2</th>        <th class=\"col_heading level0 col3\" >product</th>    </tr></thead><tbody>\n",
       "                <tr>\n",
       "                        <th id=\"T_fd1a7_level0_row0\" class=\"row_heading level0 row0\" >f0</th>\n",
       "                        <td id=\"T_fd1a7_row0_col0\" class=\"data row0 col0\" >1.000000</td>\n",
       "                        <td id=\"T_fd1a7_row0_col1\" class=\"data row0 col1\" >-0.440723</td>\n",
       "                        <td id=\"T_fd1a7_row0_col2\" class=\"data row0 col2\" >-0.003153</td>\n",
       "                        <td id=\"T_fd1a7_row0_col3\" class=\"data row0 col3\" >0.143536</td>\n",
       "            </tr>\n",
       "            <tr>\n",
       "                        <th id=\"T_fd1a7_level0_row1\" class=\"row_heading level0 row1\" >f1</th>\n",
       "                        <td id=\"T_fd1a7_row1_col0\" class=\"data row1 col0\" >-0.440723</td>\n",
       "                        <td id=\"T_fd1a7_row1_col1\" class=\"data row1 col1\" >1.000000</td>\n",
       "                        <td id=\"T_fd1a7_row1_col2\" class=\"data row1 col2\" >0.001724</td>\n",
       "                        <td id=\"T_fd1a7_row1_col3\" class=\"data row1 col3\" >-0.192356</td>\n",
       "            </tr>\n",
       "            <tr>\n",
       "                        <th id=\"T_fd1a7_level0_row2\" class=\"row_heading level0 row2\" >f2</th>\n",
       "                        <td id=\"T_fd1a7_row2_col0\" class=\"data row2 col0\" >-0.003153</td>\n",
       "                        <td id=\"T_fd1a7_row2_col1\" class=\"data row2 col1\" >0.001724</td>\n",
       "                        <td id=\"T_fd1a7_row2_col2\" class=\"data row2 col2\" >1.000000</td>\n",
       "                        <td id=\"T_fd1a7_row2_col3\" class=\"data row2 col3\" >0.483663</td>\n",
       "            </tr>\n",
       "            <tr>\n",
       "                        <th id=\"T_fd1a7_level0_row3\" class=\"row_heading level0 row3\" >product</th>\n",
       "                        <td id=\"T_fd1a7_row3_col0\" class=\"data row3 col0\" >0.143536</td>\n",
       "                        <td id=\"T_fd1a7_row3_col1\" class=\"data row3 col1\" >-0.192356</td>\n",
       "                        <td id=\"T_fd1a7_row3_col2\" class=\"data row3 col2\" >0.483663</td>\n",
       "                        <td id=\"T_fd1a7_row3_col3\" class=\"data row3 col3\" >1.000000</td>\n",
       "            </tr>\n",
       "    </tbody></table>"
      ],
      "text/plain": [
       "<pandas.io.formats.style.Styler at 0x7fb0ee9e8910>"
      ]
     },
     "execution_count": 15,
     "metadata": {},
     "output_type": "execute_result"
    }
   ],
   "source": [
    "#исследуем зависимость в регионе 1\n",
    "geo_1.corr().style.background_gradient(subset=['f0'], \n",
    "                                       cmap='Reds_r').background_gradient(subset=['f1'],\n",
    "                                       cmap='Blues_r').background_gradient(subset=['f2'], \n",
    "                                       cmap='Oranges_r').background_gradient(subset=['product'],cmap='Greens')"
   ]
  },
  {
   "cell_type": "markdown",
   "id": "c4e07c72",
   "metadata": {},
   "source": [
    "Есть выраженная зависимость от признака f2. От признаков f0 и f1, целевой признак почти не зависит."
   ]
  },
  {
   "cell_type": "code",
   "execution_count": 16,
   "id": "f8d1230c",
   "metadata": {},
   "outputs": [
    {
     "data": {
      "text/html": [
       "<style  type=\"text/css\" >\n",
       "#T_36633_row0_col0{\n",
       "            background-color:  #fff5f0;\n",
       "            color:  #000000;\n",
       "        }#T_36633_row0_col1{\n",
       "            background-color:  #1561a9;\n",
       "            color:  #f1f1f1;\n",
       "        }#T_36633_row0_col2,#T_36633_row1_col2{\n",
       "            background-color:  #7f2704;\n",
       "            color:  #f1f1f1;\n",
       "        }#T_36633_row0_col3{\n",
       "            background-color:  #f7fcf5;\n",
       "            color:  #000000;\n",
       "        }#T_36633_row1_col0{\n",
       "            background-color:  #bd151a;\n",
       "            color:  #f1f1f1;\n",
       "        }#T_36633_row1_col1{\n",
       "            background-color:  #f7fbff;\n",
       "            color:  #000000;\n",
       "        }#T_36633_row1_col3{\n",
       "            background-color:  #f4fbf2;\n",
       "            color:  #000000;\n",
       "        }#T_36633_row2_col0{\n",
       "            background-color:  #75030f;\n",
       "            color:  #f1f1f1;\n",
       "        }#T_36633_row2_col1{\n",
       "            background-color:  #08316d;\n",
       "            color:  #f1f1f1;\n",
       "        }#T_36633_row2_col2,#T_36633_row3_col2{\n",
       "            background-color:  #fff5eb;\n",
       "            color:  #000000;\n",
       "        }#T_36633_row2_col3,#T_36633_row3_col3{\n",
       "            background-color:  #00441b;\n",
       "            color:  #f1f1f1;\n",
       "        }#T_36633_row3_col0{\n",
       "            background-color:  #67000d;\n",
       "            color:  #f1f1f1;\n",
       "        }#T_36633_row3_col1{\n",
       "            background-color:  #08306b;\n",
       "            color:  #f1f1f1;\n",
       "        }</style><table id=\"T_36633_\" ><thead>    <tr>        <th class=\"blank level0\" ></th>        <th class=\"col_heading level0 col0\" >f0</th>        <th class=\"col_heading level0 col1\" >f1</th>        <th class=\"col_heading level0 col2\" >f2</th>        <th class=\"col_heading level0 col3\" >product</th>    </tr></thead><tbody>\n",
       "                <tr>\n",
       "                        <th id=\"T_36633_level0_row0\" class=\"row_heading level0 row0\" >f0</th>\n",
       "                        <td id=\"T_36633_row0_col0\" class=\"data row0 col0\" >1.000000</td>\n",
       "                        <td id=\"T_36633_row0_col1\" class=\"data row0 col1\" >0.182287</td>\n",
       "                        <td id=\"T_36633_row0_col2\" class=\"data row0 col2\" >-0.001777</td>\n",
       "                        <td id=\"T_36633_row0_col3\" class=\"data row0 col3\" >-0.030491</td>\n",
       "            </tr>\n",
       "            <tr>\n",
       "                        <th id=\"T_36633_level0_row1\" class=\"row_heading level0 row1\" >f1</th>\n",
       "                        <td id=\"T_36633_row1_col0\" class=\"data row1 col0\" >0.182287</td>\n",
       "                        <td id=\"T_36633_row1_col1\" class=\"data row1 col1\" >1.000000</td>\n",
       "                        <td id=\"T_36633_row1_col2\" class=\"data row1 col2\" >-0.002595</td>\n",
       "                        <td id=\"T_36633_row1_col3\" class=\"data row1 col3\" >-0.010155</td>\n",
       "            </tr>\n",
       "            <tr>\n",
       "                        <th id=\"T_36633_level0_row2\" class=\"row_heading level0 row2\" >f2</th>\n",
       "                        <td id=\"T_36633_row2_col0\" class=\"data row2 col0\" >-0.001777</td>\n",
       "                        <td id=\"T_36633_row2_col1\" class=\"data row2 col1\" >-0.002595</td>\n",
       "                        <td id=\"T_36633_row2_col2\" class=\"data row2 col2\" >1.000000</td>\n",
       "                        <td id=\"T_36633_row2_col3\" class=\"data row2 col3\" >0.999397</td>\n",
       "            </tr>\n",
       "            <tr>\n",
       "                        <th id=\"T_36633_level0_row3\" class=\"row_heading level0 row3\" >product</th>\n",
       "                        <td id=\"T_36633_row3_col0\" class=\"data row3 col0\" >-0.030491</td>\n",
       "                        <td id=\"T_36633_row3_col1\" class=\"data row3 col1\" >-0.010155</td>\n",
       "                        <td id=\"T_36633_row3_col2\" class=\"data row3 col2\" >0.999397</td>\n",
       "                        <td id=\"T_36633_row3_col3\" class=\"data row3 col3\" >1.000000</td>\n",
       "            </tr>\n",
       "    </tbody></table>"
      ],
      "text/plain": [
       "<pandas.io.formats.style.Styler at 0x7fb160532a90>"
      ]
     },
     "execution_count": 16,
     "metadata": {},
     "output_type": "execute_result"
    }
   ],
   "source": [
    "# исследуем зависимость в регионе 2\n",
    "geo_2.corr().style.background_gradient(subset=['f0'], \n",
    "                                       cmap='Reds_r').background_gradient(subset=['f1'],\n",
    "                                       cmap='Blues_r').background_gradient(subset=['f2'], \n",
    "                                       cmap='Oranges_r').background_gradient(subset=['product'],cmap='Greens')"
   ]
  },
  {
   "cell_type": "markdown",
   "id": "8971e616",
   "metadata": {},
   "source": [
    "Сильная линейная зависимость между признаком f2 и целевым признаком. Псокольку сама суть признаков от нас скрыта, то удалять его нельзя. От признаков f0 и f1 целевой признак независит."
   ]
  },
  {
   "cell_type": "code",
   "execution_count": 17,
   "id": "353d6f68",
   "metadata": {},
   "outputs": [
    {
     "data": {
      "text/html": [
       "<style  type=\"text/css\" >\n",
       "#T_60c42_row0_col0{\n",
       "            background-color:  #fff5f0;\n",
       "            color:  #000000;\n",
       "        }#T_60c42_row0_col1,#T_60c42_row2_col1,#T_60c42_row3_col1{\n",
       "            background-color:  #08306b;\n",
       "            color:  #f1f1f1;\n",
       "        }#T_60c42_row0_col2,#T_60c42_row1_col2{\n",
       "            background-color:  #7f2704;\n",
       "            color:  #f1f1f1;\n",
       "        }#T_60c42_row0_col3,#T_60c42_row1_col3{\n",
       "            background-color:  #f7fcf5;\n",
       "            color:  #000000;\n",
       "        }#T_60c42_row1_col0,#T_60c42_row2_col0,#T_60c42_row3_col0{\n",
       "            background-color:  #67000d;\n",
       "            color:  #f1f1f1;\n",
       "        }#T_60c42_row1_col1{\n",
       "            background-color:  #f7fbff;\n",
       "            color:  #000000;\n",
       "        }#T_60c42_row2_col2{\n",
       "            background-color:  #fff5eb;\n",
       "            color:  #000000;\n",
       "        }#T_60c42_row2_col3{\n",
       "            background-color:  #87cd86;\n",
       "            color:  #000000;\n",
       "        }#T_60c42_row3_col2{\n",
       "            background-color:  #f87e2b;\n",
       "            color:  #000000;\n",
       "        }#T_60c42_row3_col3{\n",
       "            background-color:  #00441b;\n",
       "            color:  #f1f1f1;\n",
       "        }</style><table id=\"T_60c42_\" ><thead>    <tr>        <th class=\"blank level0\" ></th>        <th class=\"col_heading level0 col0\" >f0</th>        <th class=\"col_heading level0 col1\" >f1</th>        <th class=\"col_heading level0 col2\" >f2</th>        <th class=\"col_heading level0 col3\" >product</th>    </tr></thead><tbody>\n",
       "                <tr>\n",
       "                        <th id=\"T_60c42_level0_row0\" class=\"row_heading level0 row0\" >f0</th>\n",
       "                        <td id=\"T_60c42_row0_col0\" class=\"data row0 col0\" >1.000000</td>\n",
       "                        <td id=\"T_60c42_row0_col1\" class=\"data row0 col1\" >0.000528</td>\n",
       "                        <td id=\"T_60c42_row0_col2\" class=\"data row0 col2\" >-0.000448</td>\n",
       "                        <td id=\"T_60c42_row0_col3\" class=\"data row0 col3\" >-0.001987</td>\n",
       "            </tr>\n",
       "            <tr>\n",
       "                        <th id=\"T_60c42_level0_row1\" class=\"row_heading level0 row1\" >f1</th>\n",
       "                        <td id=\"T_60c42_row1_col0\" class=\"data row1 col0\" >0.000528</td>\n",
       "                        <td id=\"T_60c42_row1_col1\" class=\"data row1 col1\" >1.000000</td>\n",
       "                        <td id=\"T_60c42_row1_col2\" class=\"data row1 col2\" >0.000779</td>\n",
       "                        <td id=\"T_60c42_row1_col3\" class=\"data row1 col3\" >-0.001012</td>\n",
       "            </tr>\n",
       "            <tr>\n",
       "                        <th id=\"T_60c42_level0_row2\" class=\"row_heading level0 row2\" >f2</th>\n",
       "                        <td id=\"T_60c42_row2_col0\" class=\"data row2 col0\" >-0.000448</td>\n",
       "                        <td id=\"T_60c42_row2_col1\" class=\"data row2 col1\" >0.000779</td>\n",
       "                        <td id=\"T_60c42_row2_col2\" class=\"data row2 col2\" >1.000000</td>\n",
       "                        <td id=\"T_60c42_row2_col3\" class=\"data row2 col3\" >0.445871</td>\n",
       "            </tr>\n",
       "            <tr>\n",
       "                        <th id=\"T_60c42_level0_row3\" class=\"row_heading level0 row3\" >product</th>\n",
       "                        <td id=\"T_60c42_row3_col0\" class=\"data row3 col0\" >-0.001987</td>\n",
       "                        <td id=\"T_60c42_row3_col1\" class=\"data row3 col1\" >-0.001012</td>\n",
       "                        <td id=\"T_60c42_row3_col2\" class=\"data row3 col2\" >0.445871</td>\n",
       "                        <td id=\"T_60c42_row3_col3\" class=\"data row3 col3\" >1.000000</td>\n",
       "            </tr>\n",
       "    </tbody></table>"
      ],
      "text/plain": [
       "<pandas.io.formats.style.Styler at 0x7fb0ee9e88e0>"
      ]
     },
     "execution_count": 17,
     "metadata": {},
     "output_type": "execute_result"
    }
   ],
   "source": [
    "# исследуем зависимость в регионе 3\n",
    "geo_3.corr().style.background_gradient(subset=['f0'], \n",
    "                                       cmap='Reds_r').background_gradient(subset=['f1'],\n",
    "                                       cmap='Blues_r').background_gradient(subset=['f2'], \n",
    "                                       cmap='Oranges_r').background_gradient(subset=['product'],cmap='Greens')"
   ]
  },
  {
   "cell_type": "markdown",
   "id": "988305be",
   "metadata": {},
   "source": [
    "Есть выраженная зависимость от признака f2. От признаков f0 и f1, целевой признак не зависит.\n",
    "\n",
    "На основе полученных коэффициентов, можно сделать вывод, что признаки f0 и f1 не оказывают влияния на целевой признак. В то же самое время признак f2 в двух регионах оказывает умеренную элептическую зависимость. А в регионе 2 сильную линейную зависимость."
   ]
  },
  {
   "cell_type": "markdown",
   "id": "e5ee165f",
   "metadata": {},
   "source": [
    "**Вывод**\n",
    "* были открыты и узучены данные о запасах нефти в 3-х регионах\n",
    "* данные без пропусков и повторов\n",
    "* была изучена зависимость целевого признака от признаков для каждого региона:\n",
    " * для 1-го и 3-го региона целевоц признак имеет умеренную элептическую зависимость от признака f2(коэ-т кор-ии около 0,5)\n",
    " * для 2-го региона целевоц признак имеет сильную линейную зависимость  от признака f2 (коэ-т кор-ии 0,999)"
   ]
  },
  {
   "cell_type": "markdown",
   "id": "409c2608",
   "metadata": {},
   "source": [
    "## Обучение и проверка модели"
   ]
  },
  {
   "cell_type": "markdown",
   "id": "a3e8481d",
   "metadata": {},
   "source": [
    "Напишем функцию `get_predictions(geo)`. Для каждого региона в ней зададим целевой признак и признаки. Произведём разбивку данных на обучающую и валидационную в соотношении 75:25. Обучим модель линейной регрессии. Функция будет возвращать правильные ответы и полученные предсказания на валидационной выборке."
   ]
  },
  {
   "cell_type": "code",
   "execution_count": 18,
   "id": "9a716a18",
   "metadata": {},
   "outputs": [],
   "source": [
    "# пишем функцию get_predictions(geo)\n",
    "# задаём признаки и целевой признак\n",
    "# производим разбивку данных\n",
    "# задаём модель, обучаем её и получаем предсказания\n",
    "def get_predictions(geo):\n",
    "    features = geo.drop(['product'], axis=1) \n",
    "    target = geo['product']\n",
    "    features_train, features_valid, target_train, target_valid = train_test_split(\n",
    "    features, target , test_size=0.25, random_state=12345)\n",
    "    model = LinearRegression() \n",
    "    model.fit(features_train, target_train)\n",
    "    return pd.Series(model.predict(features_valid), index=target_valid.index), target_valid"
   ]
  },
  {
   "cell_type": "markdown",
   "id": "2a63106a",
   "metadata": {},
   "source": [
    "Сохраним предсказания и правильные ответы для каждого региона."
   ]
  },
  {
   "cell_type": "code",
   "execution_count": 19,
   "id": "b9dc2a49",
   "metadata": {},
   "outputs": [],
   "source": [
    "# сохраним предсказания и правильные ответы для 1-го региона\n",
    "predicted_1, target_1 = get_predictions(geo_1)"
   ]
  },
  {
   "cell_type": "code",
   "execution_count": 20,
   "id": "49201af5",
   "metadata": {},
   "outputs": [],
   "source": [
    "# сохраним предсказания и правильные ответы для 2-го региона\n",
    "predicted_2, target_2 = get_predictions(geo_2)"
   ]
  },
  {
   "cell_type": "code",
   "execution_count": 21,
   "id": "6e2e2134",
   "metadata": {},
   "outputs": [],
   "source": [
    "# сохраним предсказания и правильные ответы для 3-го региона\n",
    "predicted_3, target_3 = get_predictions(geo_3)"
   ]
  },
  {
   "cell_type": "markdown",
   "id": "8c8ea248",
   "metadata": {},
   "source": [
    "Найдём средний предсказанный запас сырья для каждого региона."
   ]
  },
  {
   "cell_type": "code",
   "execution_count": 22,
   "id": "3dfa2183",
   "metadata": {},
   "outputs": [
    {
     "data": {
      "text/plain": [
       "92.59256778438035"
      ]
     },
     "execution_count": 22,
     "metadata": {},
     "output_type": "execute_result"
    }
   ],
   "source": [
    "# найдём средний предсказанный запас сырья для 1-го региона\n",
    "predicted_1.mean()"
   ]
  },
  {
   "cell_type": "code",
   "execution_count": 23,
   "id": "032d4662",
   "metadata": {},
   "outputs": [
    {
     "data": {
      "text/plain": [
       "68.728546895446"
      ]
     },
     "execution_count": 23,
     "metadata": {},
     "output_type": "execute_result"
    }
   ],
   "source": [
    "# найдём средний предсказанный запас сырья для 2-го региона\n",
    "predicted_2.mean()"
   ]
  },
  {
   "cell_type": "code",
   "execution_count": 24,
   "id": "6f935d43",
   "metadata": {},
   "outputs": [
    {
     "data": {
      "text/plain": [
       "94.96504596800489"
      ]
     },
     "execution_count": 24,
     "metadata": {},
     "output_type": "execute_result"
    }
   ],
   "source": [
    "# найдём средний предсказанный запас сырья для 3-го региона\n",
    "predicted_3.mean()"
   ]
  },
  {
   "cell_type": "markdown",
   "id": "2ae30a8a",
   "metadata": {},
   "source": [
    "Вычислим RMSE для каждого региона"
   ]
  },
  {
   "cell_type": "code",
   "execution_count": 25,
   "id": "99a84ae3",
   "metadata": {},
   "outputs": [],
   "source": [
    "# вычисляем rmse для 1-го региона\n",
    "rmse_1 = mean_squared_error(target_1, predicted_1)**0.5"
   ]
  },
  {
   "cell_type": "code",
   "execution_count": 26,
   "id": "0c48498c",
   "metadata": {},
   "outputs": [],
   "source": [
    "# вычисляем rmse для 2-го региона\n",
    "rmse_2 = mean_squared_error(target_2, predicted_2)**0.5"
   ]
  },
  {
   "cell_type": "code",
   "execution_count": 27,
   "id": "4654a29d",
   "metadata": {},
   "outputs": [],
   "source": [
    "# вычисляем rmse для 3-го региона\n",
    "rmse_3 = mean_squared_error(target_3, predicted_3)**0.5"
   ]
  },
  {
   "cell_type": "markdown",
   "id": "ce8f0a4c",
   "metadata": {},
   "source": [
    "Объеденим полученные результаты в таблицу."
   ]
  },
  {
   "cell_type": "code",
   "execution_count": 28,
   "id": "982554d9",
   "metadata": {},
   "outputs": [],
   "source": [
    "res=pd.DataFrame(columns=['predictions', 'rmse'])"
   ]
  },
  {
   "cell_type": "code",
   "execution_count": 29,
   "id": "31c3eb1e",
   "metadata": {},
   "outputs": [
    {
     "data": {
      "text/html": [
       "<div>\n",
       "<style scoped>\n",
       "    .dataframe tbody tr th:only-of-type {\n",
       "        vertical-align: middle;\n",
       "    }\n",
       "\n",
       "    .dataframe tbody tr th {\n",
       "        vertical-align: top;\n",
       "    }\n",
       "\n",
       "    .dataframe thead th {\n",
       "        text-align: right;\n",
       "    }\n",
       "</style>\n",
       "<table border=\"1\" class=\"dataframe\">\n",
       "  <thead>\n",
       "    <tr style=\"text-align: right;\">\n",
       "      <th></th>\n",
       "      <th>predictions</th>\n",
       "      <th>rmse</th>\n",
       "    </tr>\n",
       "  </thead>\n",
       "  <tbody>\n",
       "    <tr>\n",
       "      <th>0</th>\n",
       "      <td>92.592568</td>\n",
       "      <td>37.579422</td>\n",
       "    </tr>\n",
       "    <tr>\n",
       "      <th>1</th>\n",
       "      <td>68.728547</td>\n",
       "      <td>0.893099</td>\n",
       "    </tr>\n",
       "    <tr>\n",
       "      <th>2</th>\n",
       "      <td>94.965046</td>\n",
       "      <td>40.029709</td>\n",
       "    </tr>\n",
       "  </tbody>\n",
       "</table>\n",
       "</div>"
      ],
      "text/plain": [
       "   predictions       rmse\n",
       "0    92.592568  37.579422\n",
       "1    68.728547   0.893099\n",
       "2    94.965046  40.029709"
      ]
     },
     "metadata": {},
     "output_type": "display_data"
    }
   ],
   "source": [
    "res=res.append({\"predictions\":predicted_1.mean(), 'rmse':rmse_1}, ignore_index=True)\n",
    "res=res.append({\"predictions\":predicted_2.mean(), 'rmse':rmse_2}, ignore_index=True)\n",
    "res=res.append({\"predictions\":predicted_3.mean(), 'rmse':rmse_3}, ignore_index=True)\n",
    "display(res.head(3))"
   ]
  },
  {
   "cell_type": "markdown",
   "id": "ae722c73",
   "metadata": {},
   "source": [
    "Из таблицы видно, что средние предсказанные запасы в 1-ом и 3-ем регионах примерно равны и составляют 92 - 94 тыс. баррелей нефти в скважине. А во 2-ом регионе средний предсказанный запас - 69 тыс. баррелей. Но при этом корень из среднееквадратичной ошибки самый наименьший у второго региона и равен 0.893099. А чем ближе значение rmse к 0, тем точнее модель предсказывает значения. Столько малое значение rmse, по всей видимости, связано с тем, что во 2-ом регионе есть прямая зависимость между признаком f2 и целевым признаком. Так же можно сделать вывод, что модель по 1-му и 3-му региону сильно переоценивает запасы."
   ]
  },
  {
   "cell_type": "markdown",
   "id": "d0e946c9",
   "metadata": {},
   "source": [
    "**Вывод**\n",
    "* была написана функция, которая для каждого региона:\n",
    " * задаёт признаки и целевой признак\n",
    " * разбивает данные на обучающую и валидационную выборки\n",
    " * обучает модель и делает предсказания\n",
    " * возвращает правильные ответы и предсказания\n",
    "* были вычислены средние предсказанные запасы для каждого региона\n",
    "* было подсчитаны rmse для каждого региона."
   ]
  },
  {
   "cell_type": "markdown",
   "id": "d0540fbb",
   "metadata": {},
   "source": [
    "## Подготовка к расчёту прибыли"
   ]
  },
  {
   "cell_type": "markdown",
   "id": "dc5bc173",
   "metadata": {},
   "source": [
    "Сохраним все ключевые значения для расчётов в отдельных переменных.Рассчитаем достаточный объём сырья для безубыточной разработки новой скважины. Сравним полученный объём сырья со средним запасом в каждом регионе. Из условия задачи известно:\n",
    " * при разведке региона исследуют 500 точек, из которых с помощью машинного обучения выбирают 200 лучших для разработки;\n",
    " * бюджет на разработку скважин в регионе — 10 млрд рублей;\n",
    " * при нынешних ценах один баррель сырья приносит 450 рублей дохода. Доход с каждой единицы продукта составляет 450 тыс. рублей, поскольку объём указан в тысячах баррелей."
   ]
  },
  {
   "cell_type": "code",
   "execution_count": 30,
   "id": "99dcc5c3",
   "metadata": {},
   "outputs": [],
   "source": [
    "# сохраним количество исследуемых точек\n",
    "WELL = 500"
   ]
  },
  {
   "cell_type": "code",
   "execution_count": 31,
   "id": "7b4f209a",
   "metadata": {},
   "outputs": [],
   "source": [
    "# сохраним количество лучших скважин\n",
    "TOP_WELL = 200"
   ]
  },
  {
   "cell_type": "code",
   "execution_count": 32,
   "id": "fc627cc9",
   "metadata": {},
   "outputs": [],
   "source": [
    "# сохраним значение бюджета на регион\n",
    "BUDGET = 10000000000"
   ]
  },
  {
   "cell_type": "code",
   "execution_count": 33,
   "id": "25f0cfb4",
   "metadata": {},
   "outputs": [],
   "source": [
    "# сохраним доход с 1000 бареллей\n",
    "REVENUE = 450000"
   ]
  },
  {
   "cell_type": "markdown",
   "id": "aac859f9",
   "metadata": {},
   "source": [
    "Расчитаем достаточный объём сырья, для безубыточной разработки скважин."
   ]
  },
  {
   "cell_type": "code",
   "execution_count": 34,
   "id": "0784a20d",
   "metadata": {},
   "outputs": [
    {
     "data": {
      "text/plain": [
       "'Достаточный объём сырья, тыс. баррелей'"
      ]
     },
     "metadata": {},
     "output_type": "display_data"
    },
    {
     "data": {
      "text/plain": [
       "111"
      ]
     },
     "metadata": {},
     "output_type": "display_data"
    }
   ],
   "source": [
    "# расчитываем необходимый запас сырья для разработки\n",
    "ENOUGHT_CRUDE = BUDGET/(TOP_WELL*REVENUE)\n",
    "display('Достаточный объём сырья, тыс. баррелей', round(ENOUGHT_CRUDE))"
   ]
  },
  {
   "cell_type": "markdown",
   "id": "33ca7bc9",
   "metadata": {},
   "source": [
    "Для безубыточной разработки скважин в каждом регионе нужно пробурить 200 скважин с запасом в каждой около 111 тысяч баррелей. Только 2-ой и 3-ий регион близки к этому значению, по среднему предсказанному запасу. Но у этих предсказаний средняя квадратичная ошибка слишком велика. Продолжим исследование. Посчитаем прибыли по выбранным скважинам и предсказаниям модели. Посчитаем риски для каждого региона."
   ]
  },
  {
   "cell_type": "markdown",
   "id": "61767096",
   "metadata": {},
   "source": [
    "**Вывод**\n",
    "* были сохранены все ключевые значения для расчётов прибыли в отдельных переменных\n",
    "* был расчитан необходимы запас сырья для безубыточной разработки скважины в регионе, он равен: 111 тыс.бареллей"
   ]
  },
  {
   "cell_type": "markdown",
   "id": "e0a22dbd",
   "metadata": {},
   "source": [
    "## Расчёт прибыли и рисков "
   ]
  },
  {
   "cell_type": "markdown",
   "id": "7d8d0b3d",
   "metadata": {},
   "source": [
    "Напишем функцию для расчета прибыли."
   ]
  },
  {
   "cell_type": "code",
   "execution_count": 35,
   "id": "15218ebc",
   "metadata": {},
   "outputs": [],
   "source": [
    "def profit(target, predictions):\n",
    "    profit = 0\n",
    "    pred_sorted = predictions.sort_values(ascending=False).head(TOP_WELL)\n",
    "    selected = target[pred_sorted.index][:TOP_WELL]\n",
    "    \n",
    "    for WELL in selected:\n",
    "        profit += (WELL - ENOUGHT_CRUDE)*REVENUE\n",
    "    return profit    "
   ]
  },
  {
   "cell_type": "code",
   "execution_count": 36,
   "id": "40344873",
   "metadata": {},
   "outputs": [],
   "source": [
    "def bootstrap(target, predictions):\n",
    "    state = np.random.RandomState(12345)\n",
    "    values = []\n",
    "    for i in range(1000):\n",
    "        target_subsample = target.sample(n=WELL, replace=True, random_state=state)\n",
    "        probs_subsample = predictions[target_subsample.index]\n",
    "        values.append(profit(target_subsample, probs_subsample))\n",
    "        \n",
    "    values = pd.Series(values)\n",
    "    lower = values.quantile(0.025)/1000000\n",
    "    upper = values.quantile(0.975)/1000000\n",
    "    mean = values.mean()/1000000\n",
    "    risk = (values < 0).mean()\n",
    "    \n",
    "    print(f'Средняя выручка:, {mean:.2f} млн.руб')\n",
    "    print(f'Доверительный интервал от, {lower:.2f} млн.руб до {upper:.2f}')\n",
    "    print(f'Риск убытка:, {risk:.1%}')"
   ]
  },
  {
   "cell_type": "markdown",
   "id": "83f8539a",
   "metadata": {},
   "source": [
    "Найдём значения для каждого региона."
   ]
  },
  {
   "cell_type": "code",
   "execution_count": 37,
   "id": "a2044304",
   "metadata": {},
   "outputs": [
    {
     "name": "stdout",
     "output_type": "stream",
     "text": [
      "Средняя выручка:, 425.94 млн.руб\n",
      "Доверительный интервал от, -102.09 млн.руб до 947.98\n",
      "Риск убытка:, 6.0%\n",
      "None\n"
     ]
    }
   ],
   "source": [
    "# вычислим значения для 1-го региона\n",
    "print(bootstrap(target_1, predicted_1))"
   ]
  },
  {
   "cell_type": "code",
   "execution_count": 38,
   "id": "9f66143e",
   "metadata": {},
   "outputs": [
    {
     "name": "stdout",
     "output_type": "stream",
     "text": [
      "Средняя выручка:, 515.22 млн.руб\n",
      "Доверительный интервал от, 68.87 млн.руб до 931.55\n",
      "Риск убытка:, 1.0%\n",
      "None\n"
     ]
    }
   ],
   "source": [
    "# вычислим значения для 2-го региона\n",
    "print(bootstrap(target_2, predicted_2))"
   ]
  },
  {
   "cell_type": "code",
   "execution_count": 39,
   "id": "3700a206",
   "metadata": {},
   "outputs": [
    {
     "name": "stdout",
     "output_type": "stream",
     "text": [
      "Средняя выручка:, 435.01 млн.руб\n",
      "Доверительный интервал от, -128.88 млн.руб до 969.71\n",
      "Риск убытка:, 6.4%\n",
      "None\n"
     ]
    }
   ],
   "source": [
    "# вычислим значения для 3-го региона\n",
    "print(bootstrap(target_3, predicted_3))"
   ]
  },
  {
   "cell_type": "markdown",
   "id": "0271d046",
   "metadata": {},
   "source": [
    "**Вывод**\n",
    "* лучшая средняя выручка во 2-ом регионе - 515.22 млн.руб.\n",
    "* риск убытка ниже всех во втором регионе - 1.0%\n",
    "* на основе полученных результатов, 2-ой регион рекомендован к разработке скважин"
   ]
  },
  {
   "cell_type": "code",
   "execution_count": null,
   "id": "c329f7ba",
   "metadata": {},
   "outputs": [],
   "source": []
  }
 ],
 "metadata": {
  "ExecuteTimeLog": [
   {
    "duration": 1587,
    "start_time": "2022-09-30T20:43:22.638Z"
   },
   {
    "duration": 362,
    "start_time": "2022-09-30T20:44:33.648Z"
   },
   {
    "duration": 209,
    "start_time": "2022-09-30T20:44:42.391Z"
   },
   {
    "duration": 228,
    "start_time": "2022-09-30T20:44:50.860Z"
   },
   {
    "duration": 4,
    "start_time": "2022-09-30T20:45:17.153Z"
   },
   {
    "duration": 122,
    "start_time": "2022-09-30T20:45:26.138Z"
   },
   {
    "duration": 95,
    "start_time": "2022-09-30T20:45:38.112Z"
   },
   {
    "duration": 81,
    "start_time": "2022-09-30T20:45:46.569Z"
   },
   {
    "duration": 8,
    "start_time": "2022-09-30T20:47:06.814Z"
   },
   {
    "duration": 8,
    "start_time": "2022-09-30T20:47:17.462Z"
   },
   {
    "duration": 7,
    "start_time": "2022-09-30T20:47:26.063Z"
   },
   {
    "duration": 62,
    "start_time": "2022-09-30T20:48:30.369Z"
   },
   {
    "duration": 54,
    "start_time": "2022-09-30T20:49:46.126Z"
   },
   {
    "duration": 52,
    "start_time": "2022-09-30T20:50:12.006Z"
   },
   {
    "duration": 25,
    "start_time": "2022-09-30T20:51:44.197Z"
   },
   {
    "duration": 23,
    "start_time": "2022-09-30T20:52:45.807Z"
   },
   {
    "duration": 23,
    "start_time": "2022-09-30T20:54:00.625Z"
   },
   {
    "duration": 4,
    "start_time": "2022-09-30T20:56:49.130Z"
   },
   {
    "duration": 32,
    "start_time": "2022-09-30T20:57:39.637Z"
   },
   {
    "duration": 22,
    "start_time": "2022-09-30T20:57:47.415Z"
   },
   {
    "duration": 28,
    "start_time": "2022-09-30T20:57:55.517Z"
   },
   {
    "duration": 4,
    "start_time": "2022-09-30T20:58:36.843Z"
   },
   {
    "duration": 5,
    "start_time": "2022-09-30T20:58:46.262Z"
   },
   {
    "duration": 3,
    "start_time": "2022-09-30T20:58:54.796Z"
   },
   {
    "duration": 4,
    "start_time": "2022-09-30T20:59:35.685Z"
   },
   {
    "duration": 4,
    "start_time": "2022-09-30T20:59:43.541Z"
   },
   {
    "duration": 3,
    "start_time": "2022-09-30T20:59:50.674Z"
   },
   {
    "duration": 5,
    "start_time": "2022-09-30T21:00:12.744Z"
   },
   {
    "duration": 18,
    "start_time": "2022-09-30T21:00:26.307Z"
   },
   {
    "duration": 3,
    "start_time": "2022-09-30T21:03:38.050Z"
   },
   {
    "duration": 2,
    "start_time": "2022-09-30T21:04:10.664Z"
   },
   {
    "duration": 2,
    "start_time": "2022-09-30T21:04:38.516Z"
   },
   {
    "duration": 2,
    "start_time": "2022-09-30T21:05:07.805Z"
   },
   {
    "duration": 4,
    "start_time": "2022-09-30T21:06:43.346Z"
   },
   {
    "duration": 3,
    "start_time": "2022-09-30T21:10:15.426Z"
   },
   {
    "duration": 5,
    "start_time": "2022-09-30T21:11:26.263Z"
   },
   {
    "duration": 1077,
    "start_time": "2022-09-30T21:11:52.313Z"
   },
   {
    "duration": 1027,
    "start_time": "2022-09-30T21:12:09.363Z"
   },
   {
    "duration": 974,
    "start_time": "2022-09-30T21:12:24.973Z"
   }
  ],
  "kernelspec": {
   "display_name": "Python 3 (ipykernel)",
   "language": "python",
   "name": "python3"
  },
  "language_info": {
   "codemirror_mode": {
    "name": "ipython",
    "version": 3
   },
   "file_extension": ".py",
   "mimetype": "text/x-python",
   "name": "python",
   "nbconvert_exporter": "python",
   "pygments_lexer": "ipython3",
   "version": "3.9.5"
  },
  "toc": {
   "base_numbering": 1,
   "nav_menu": {},
   "number_sections": true,
   "sideBar": true,
   "skip_h1_title": true,
   "title_cell": "Содержание",
   "title_sidebar": "Contents",
   "toc_cell": true,
   "toc_position": {},
   "toc_section_display": true,
   "toc_window_display": true
  }
 },
 "nbformat": 4,
 "nbformat_minor": 5
}
