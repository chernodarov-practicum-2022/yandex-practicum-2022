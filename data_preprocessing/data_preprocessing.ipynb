{
 "cells": [
  {
   "cell_type": "markdown",
   "metadata": {
    "toc": true
   },
   "source": [
    "<h1>Содержание<span class=\"tocSkip\"></span></h1>\n",
    "<div class=\"toc\"><ul class=\"toc-item\"><li><span><a href=\"#Обзор-данных\" data-toc-modified-id=\"Обзор-данных-1\"><span class=\"toc-item-num\">1&nbsp;&nbsp;</span>Обзор данных</a></span></li><li><span><a href=\"#Предобработка-данных\" data-toc-modified-id=\"Предобработка-данных-2\"><span class=\"toc-item-num\">2&nbsp;&nbsp;</span>Предобработка данных</a></span><ul class=\"toc-item\"><li><span><a href=\"#Обработка-пропусков\" data-toc-modified-id=\"Обработка-пропусков-2.1\"><span class=\"toc-item-num\">2.1&nbsp;&nbsp;</span>Обработка пропусков</a></span></li><li><span><a href=\"#Замена-типа-данных\" data-toc-modified-id=\"Замена-типа-данных-2.2\"><span class=\"toc-item-num\">2.2&nbsp;&nbsp;</span>Замена типа данных</a></span></li><li><span><a href=\"#Обработка-дубликатов\" data-toc-modified-id=\"Обработка-дубликатов-2.3\"><span class=\"toc-item-num\">2.3&nbsp;&nbsp;</span>Обработка дубликатов</a></span></li><li><span><a href=\"#Лемматизация\" data-toc-modified-id=\"Лемматизация-2.4\"><span class=\"toc-item-num\">2.4&nbsp;&nbsp;</span>Лемматизация</a></span></li><li><span><a href=\"#Категоризация-данных\" data-toc-modified-id=\"Категоризация-данных-2.5\"><span class=\"toc-item-num\">2.5&nbsp;&nbsp;</span>Категоризация данных</a></span></li></ul></li><li><span><a href=\"#Ответьте-на-поставленные-вопросы\" data-toc-modified-id=\"Ответьте-на-поставленные-вопросы-3\"><span class=\"toc-item-num\">3&nbsp;&nbsp;</span>Ответьте на поставленные вопросы</a></span></li><li><span><a href=\"#Общий-вывод\" data-toc-modified-id=\"Общий-вывод-4\"><span class=\"toc-item-num\">4&nbsp;&nbsp;</span>Общий вывод</a></span></li></ul></div>"
   ]
  },
  {
   "cell_type": "markdown",
   "metadata": {},
   "source": [
    "# Исследование надёжности заёмщиков\n",
    "\n",
    "Заказчик — кредитный отдел банка. \n",
    "Цель исследования - дать ответы на каждый из четырех вопросов:\n",
    "1. Есть ли зависимость между наличием детей и возвратом кредита в срок?\n",
    "2. Есть ли зависимость между семейным положением и возвратом кредита в срок?\n",
    "3. Есть ли зависимость между уровнем дохода и возвратом кредита в срок?\n",
    "4. Как разные цели кредита влияют на его возврат в срок?\n",
    "\n",
    "**Ход исследования**\n",
    "\n",
    "Входные данные от банка — статистика о платёжеспособности клиентов. О качестве данных ничего не известно. Поэтому перед тем как дать ответы на поставленые вопросы, понадобится обзор данных. Нужно проверить данные на ошибки и оцените их влияние на исследование. Затем, на этапе предобработки нужно исправить самые критичные ошибки данных, а так же категоризировать данные.\n",
    "\n",
    "Таким образом, исследование пройдёт в три этапа:\n",
    " 1. Обзор данных.\n",
    " 2. Предобработка данных.\n",
    " 3. Ответы на поставленые вопросы\n",
    "\n",
    "Результаты исследования будут учтены при построении модели **кредитного скоринга** — специальной системы, которая оценивает способность потенциального заёмщика вернуть кредит банку.\n"
   ]
  },
  {
   "cell_type": "markdown",
   "metadata": {},
   "source": [
    "##  Обзор данных\n"
   ]
  },
  {
   "cell_type": "markdown",
   "metadata": {},
   "source": [
    "Импортируем библиотеку Pandas"
   ]
  },
  {
   "cell_type": "code",
   "execution_count": 1,
   "metadata": {},
   "outputs": [],
   "source": [
    "# импортируем библиотеку Pandas\n",
    "# импортируем библиотеку pymystem3\n",
    "# импортируем счётчик Counter\n",
    "import pandas as pd\n",
    "from pymystem3 import Mystem\n",
    "from collections import Counter"
   ]
  },
  {
   "cell_type": "markdown",
   "metadata": {},
   "source": [
    "Прочитаем файл '/datasets/data.csv' и сохраним его в переменной 'bank'"
   ]
  },
  {
   "cell_type": "code",
   "execution_count": 2,
   "metadata": {},
   "outputs": [],
   "source": [
    "# читаем файл и сохраняем его в bank\n",
    "bank = pd.read_csv('/datasets/data.csv') \n",
    "bank.to_csv('bank.csv', index=False)"
   ]
  },
  {
   "cell_type": "markdown",
   "metadata": {},
   "source": [
    "Выведем на экран первые 10 строк таблицы"
   ]
  },
  {
   "cell_type": "code",
   "execution_count": 3,
   "metadata": {},
   "outputs": [
    {
     "data": {
      "text/html": [
       "<div>\n",
       "<style scoped>\n",
       "    .dataframe tbody tr th:only-of-type {\n",
       "        vertical-align: middle;\n",
       "    }\n",
       "\n",
       "    .dataframe tbody tr th {\n",
       "        vertical-align: top;\n",
       "    }\n",
       "\n",
       "    .dataframe thead th {\n",
       "        text-align: right;\n",
       "    }\n",
       "</style>\n",
       "<table border=\"1\" class=\"dataframe\">\n",
       "  <thead>\n",
       "    <tr style=\"text-align: right;\">\n",
       "      <th></th>\n",
       "      <th>children</th>\n",
       "      <th>days_employed</th>\n",
       "      <th>dob_years</th>\n",
       "      <th>education</th>\n",
       "      <th>education_id</th>\n",
       "      <th>family_status</th>\n",
       "      <th>family_status_id</th>\n",
       "      <th>gender</th>\n",
       "      <th>income_type</th>\n",
       "      <th>debt</th>\n",
       "      <th>total_income</th>\n",
       "      <th>purpose</th>\n",
       "    </tr>\n",
       "  </thead>\n",
       "  <tbody>\n",
       "    <tr>\n",
       "      <th>0</th>\n",
       "      <td>1</td>\n",
       "      <td>-8437.673028</td>\n",
       "      <td>42</td>\n",
       "      <td>высшее</td>\n",
       "      <td>0</td>\n",
       "      <td>женат / замужем</td>\n",
       "      <td>0</td>\n",
       "      <td>F</td>\n",
       "      <td>сотрудник</td>\n",
       "      <td>0</td>\n",
       "      <td>253875.639453</td>\n",
       "      <td>покупка жилья</td>\n",
       "    </tr>\n",
       "    <tr>\n",
       "      <th>1</th>\n",
       "      <td>1</td>\n",
       "      <td>-4024.803754</td>\n",
       "      <td>36</td>\n",
       "      <td>среднее</td>\n",
       "      <td>1</td>\n",
       "      <td>женат / замужем</td>\n",
       "      <td>0</td>\n",
       "      <td>F</td>\n",
       "      <td>сотрудник</td>\n",
       "      <td>0</td>\n",
       "      <td>112080.014102</td>\n",
       "      <td>приобретение автомобиля</td>\n",
       "    </tr>\n",
       "    <tr>\n",
       "      <th>2</th>\n",
       "      <td>0</td>\n",
       "      <td>-5623.422610</td>\n",
       "      <td>33</td>\n",
       "      <td>Среднее</td>\n",
       "      <td>1</td>\n",
       "      <td>женат / замужем</td>\n",
       "      <td>0</td>\n",
       "      <td>M</td>\n",
       "      <td>сотрудник</td>\n",
       "      <td>0</td>\n",
       "      <td>145885.952297</td>\n",
       "      <td>покупка жилья</td>\n",
       "    </tr>\n",
       "    <tr>\n",
       "      <th>3</th>\n",
       "      <td>3</td>\n",
       "      <td>-4124.747207</td>\n",
       "      <td>32</td>\n",
       "      <td>среднее</td>\n",
       "      <td>1</td>\n",
       "      <td>женат / замужем</td>\n",
       "      <td>0</td>\n",
       "      <td>M</td>\n",
       "      <td>сотрудник</td>\n",
       "      <td>0</td>\n",
       "      <td>267628.550329</td>\n",
       "      <td>дополнительное образование</td>\n",
       "    </tr>\n",
       "    <tr>\n",
       "      <th>4</th>\n",
       "      <td>0</td>\n",
       "      <td>340266.072047</td>\n",
       "      <td>53</td>\n",
       "      <td>среднее</td>\n",
       "      <td>1</td>\n",
       "      <td>гражданский брак</td>\n",
       "      <td>1</td>\n",
       "      <td>F</td>\n",
       "      <td>пенсионер</td>\n",
       "      <td>0</td>\n",
       "      <td>158616.077870</td>\n",
       "      <td>сыграть свадьбу</td>\n",
       "    </tr>\n",
       "    <tr>\n",
       "      <th>5</th>\n",
       "      <td>0</td>\n",
       "      <td>-926.185831</td>\n",
       "      <td>27</td>\n",
       "      <td>высшее</td>\n",
       "      <td>0</td>\n",
       "      <td>гражданский брак</td>\n",
       "      <td>1</td>\n",
       "      <td>M</td>\n",
       "      <td>компаньон</td>\n",
       "      <td>0</td>\n",
       "      <td>255763.565419</td>\n",
       "      <td>покупка жилья</td>\n",
       "    </tr>\n",
       "    <tr>\n",
       "      <th>6</th>\n",
       "      <td>0</td>\n",
       "      <td>-2879.202052</td>\n",
       "      <td>43</td>\n",
       "      <td>высшее</td>\n",
       "      <td>0</td>\n",
       "      <td>женат / замужем</td>\n",
       "      <td>0</td>\n",
       "      <td>F</td>\n",
       "      <td>компаньон</td>\n",
       "      <td>0</td>\n",
       "      <td>240525.971920</td>\n",
       "      <td>операции с жильем</td>\n",
       "    </tr>\n",
       "    <tr>\n",
       "      <th>7</th>\n",
       "      <td>0</td>\n",
       "      <td>-152.779569</td>\n",
       "      <td>50</td>\n",
       "      <td>СРЕДНЕЕ</td>\n",
       "      <td>1</td>\n",
       "      <td>женат / замужем</td>\n",
       "      <td>0</td>\n",
       "      <td>M</td>\n",
       "      <td>сотрудник</td>\n",
       "      <td>0</td>\n",
       "      <td>135823.934197</td>\n",
       "      <td>образование</td>\n",
       "    </tr>\n",
       "    <tr>\n",
       "      <th>8</th>\n",
       "      <td>2</td>\n",
       "      <td>-6929.865299</td>\n",
       "      <td>35</td>\n",
       "      <td>ВЫСШЕЕ</td>\n",
       "      <td>0</td>\n",
       "      <td>гражданский брак</td>\n",
       "      <td>1</td>\n",
       "      <td>F</td>\n",
       "      <td>сотрудник</td>\n",
       "      <td>0</td>\n",
       "      <td>95856.832424</td>\n",
       "      <td>на проведение свадьбы</td>\n",
       "    </tr>\n",
       "    <tr>\n",
       "      <th>9</th>\n",
       "      <td>0</td>\n",
       "      <td>-2188.756445</td>\n",
       "      <td>41</td>\n",
       "      <td>среднее</td>\n",
       "      <td>1</td>\n",
       "      <td>женат / замужем</td>\n",
       "      <td>0</td>\n",
       "      <td>M</td>\n",
       "      <td>сотрудник</td>\n",
       "      <td>0</td>\n",
       "      <td>144425.938277</td>\n",
       "      <td>покупка жилья для семьи</td>\n",
       "    </tr>\n",
       "  </tbody>\n",
       "</table>\n",
       "</div>"
      ],
      "text/plain": [
       "   children  days_employed  dob_years education  education_id  \\\n",
       "0         1   -8437.673028         42    высшее             0   \n",
       "1         1   -4024.803754         36   среднее             1   \n",
       "2         0   -5623.422610         33   Среднее             1   \n",
       "3         3   -4124.747207         32   среднее             1   \n",
       "4         0  340266.072047         53   среднее             1   \n",
       "5         0    -926.185831         27    высшее             0   \n",
       "6         0   -2879.202052         43    высшее             0   \n",
       "7         0    -152.779569         50   СРЕДНЕЕ             1   \n",
       "8         2   -6929.865299         35    ВЫСШЕЕ             0   \n",
       "9         0   -2188.756445         41   среднее             1   \n",
       "\n",
       "      family_status  family_status_id gender income_type  debt   total_income  \\\n",
       "0   женат / замужем                 0      F   сотрудник     0  253875.639453   \n",
       "1   женат / замужем                 0      F   сотрудник     0  112080.014102   \n",
       "2   женат / замужем                 0      M   сотрудник     0  145885.952297   \n",
       "3   женат / замужем                 0      M   сотрудник     0  267628.550329   \n",
       "4  гражданский брак                 1      F   пенсионер     0  158616.077870   \n",
       "5  гражданский брак                 1      M   компаньон     0  255763.565419   \n",
       "6   женат / замужем                 0      F   компаньон     0  240525.971920   \n",
       "7   женат / замужем                 0      M   сотрудник     0  135823.934197   \n",
       "8  гражданский брак                 1      F   сотрудник     0   95856.832424   \n",
       "9   женат / замужем                 0      M   сотрудник     0  144425.938277   \n",
       "\n",
       "                      purpose  \n",
       "0               покупка жилья  \n",
       "1     приобретение автомобиля  \n",
       "2               покупка жилья  \n",
       "3  дополнительное образование  \n",
       "4             сыграть свадьбу  \n",
       "5               покупка жилья  \n",
       "6           операции с жильем  \n",
       "7                 образование  \n",
       "8       на проведение свадьбы  \n",
       "9     покупка жилья для семьи  "
      ]
     },
     "execution_count": 3,
     "metadata": {},
     "output_type": "execute_result"
    }
   ],
   "source": [
    "# выводим первые 10 строк таблицы\n",
    "bank.head(10)"
   ]
  },
  {
   "cell_type": "markdown",
   "metadata": {},
   "source": [
    "Получим общую информацию о таблице"
   ]
  },
  {
   "cell_type": "code",
   "execution_count": 4,
   "metadata": {},
   "outputs": [
    {
     "name": "stdout",
     "output_type": "stream",
     "text": [
      "<class 'pandas.core.frame.DataFrame'>\n",
      "RangeIndex: 21525 entries, 0 to 21524\n",
      "Data columns (total 12 columns):\n",
      " #   Column            Non-Null Count  Dtype  \n",
      "---  ------            --------------  -----  \n",
      " 0   children          21525 non-null  int64  \n",
      " 1   days_employed     19351 non-null  float64\n",
      " 2   dob_years         21525 non-null  int64  \n",
      " 3   education         21525 non-null  object \n",
      " 4   education_id      21525 non-null  int64  \n",
      " 5   family_status     21525 non-null  object \n",
      " 6   family_status_id  21525 non-null  int64  \n",
      " 7   gender            21525 non-null  object \n",
      " 8   income_type       21525 non-null  object \n",
      " 9   debt              21525 non-null  int64  \n",
      " 10  total_income      19351 non-null  float64\n",
      " 11  purpose           21525 non-null  object \n",
      "dtypes: float64(2), int64(5), object(5)\n",
      "memory usage: 2.0+ MB\n"
     ]
    }
   ],
   "source": [
    "# получаем информацию о таблице\n",
    "bank.info()"
   ]
  },
  {
   "cell_type": "markdown",
   "metadata": {},
   "source": [
    "Итак в таблице 12 столбцов и данные о 21525 клиенте банка. Типы данных в столбцах: int64, object, float64. \n",
    "Согласно документации к данным:\n",
    "* 'children' — количество детей в семье\n",
    "* 'days_employed' — общий трудовой стаж в днях\n",
    "* 'dob_years' — возраст клиента в годах\n",
    "* 'education' — уровень образования клиента\n",
    "* 'education_id' — идентификатор уровня образования\n",
    "* 'family_status' — семейное положение\n",
    "* 'family_status_id' — идентификатор семейного положения\n",
    "* 'gender' — пол клиента\n",
    "* 'income_type' — тип занятости\n",
    "* 'debt' — имел ли задолженность по возврату кредитов\n",
    "* 'total_income' — ежемесячный доход\n",
    "* 'purpose' — цель получения кредита\n",
    "\n",
    "Количество значений в столбцах различается. Значит, в данных есть пропущенные значения."
   ]
  },
  {
   "cell_type": "markdown",
   "metadata": {},
   "source": [
    "**Вывод**"
   ]
  },
  {
   "cell_type": "markdown",
   "metadata": {},
   "source": [
    "В каждой строке таблицы данные о клиентах банка. Часть колонок описывают социальное положение клиента, часть описывает его финансовое положение и есть отдельная колонка о цели получения кредита. В данных встречаются пропуски. Чтобы ответить на поставление вопросы, нужно устранить проблемы в данных"
   ]
  },
  {
   "cell_type": "markdown",
   "metadata": {},
   "source": [
    "##  Предобработка данных"
   ]
  },
  {
   "cell_type": "markdown",
   "metadata": {},
   "source": [
    "###  Обработка пропусков"
   ]
  },
  {
   "cell_type": "markdown",
   "metadata": {},
   "source": [
    "Посчитаем, сколько в таблице пропущенных значений."
   ]
  },
  {
   "cell_type": "code",
   "execution_count": 5,
   "metadata": {},
   "outputs": [
    {
     "data": {
      "text/plain": [
       "children               0\n",
       "days_employed       2174\n",
       "dob_years              0\n",
       "education              0\n",
       "education_id           0\n",
       "family_status          0\n",
       "family_status_id       0\n",
       "gender                 0\n",
       "income_type            0\n",
       "debt                   0\n",
       "total_income        2174\n",
       "purpose                0\n",
       "dtype: int64"
      ]
     },
     "execution_count": 5,
     "metadata": {},
     "output_type": "execute_result"
    }
   ],
   "source": [
    "# подсчет пропусков\n",
    "bank.isna().sum()"
   ]
  },
  {
   "cell_type": "markdown",
   "metadata": {},
   "source": [
    "Одинаковое количество пропусков в двух столбцах: 'days_employed' и 'total_income'. Тип данных в обоих столбцах - вещественные числа. Стаж и ежемесячный доход - это количественные переменные.  "
   ]
  },
  {
   "cell_type": "markdown",
   "metadata": {},
   "source": [
    "Методом isna() найдём все строки с пропусками в столбце 'days_employed'."
   ]
  },
  {
   "cell_type": "code",
   "execution_count": 6,
   "metadata": {},
   "outputs": [
    {
     "data": {
      "text/html": [
       "<div>\n",
       "<style scoped>\n",
       "    .dataframe tbody tr th:only-of-type {\n",
       "        vertical-align: middle;\n",
       "    }\n",
       "\n",
       "    .dataframe tbody tr th {\n",
       "        vertical-align: top;\n",
       "    }\n",
       "\n",
       "    .dataframe thead th {\n",
       "        text-align: right;\n",
       "    }\n",
       "</style>\n",
       "<table border=\"1\" class=\"dataframe\">\n",
       "  <thead>\n",
       "    <tr style=\"text-align: right;\">\n",
       "      <th></th>\n",
       "      <th>children</th>\n",
       "      <th>days_employed</th>\n",
       "      <th>dob_years</th>\n",
       "      <th>education</th>\n",
       "      <th>education_id</th>\n",
       "      <th>family_status</th>\n",
       "      <th>family_status_id</th>\n",
       "      <th>gender</th>\n",
       "      <th>income_type</th>\n",
       "      <th>debt</th>\n",
       "      <th>total_income</th>\n",
       "      <th>purpose</th>\n",
       "    </tr>\n",
       "  </thead>\n",
       "  <tbody>\n",
       "    <tr>\n",
       "      <th>12</th>\n",
       "      <td>0</td>\n",
       "      <td>NaN</td>\n",
       "      <td>65</td>\n",
       "      <td>среднее</td>\n",
       "      <td>1</td>\n",
       "      <td>гражданский брак</td>\n",
       "      <td>1</td>\n",
       "      <td>M</td>\n",
       "      <td>пенсионер</td>\n",
       "      <td>0</td>\n",
       "      <td>NaN</td>\n",
       "      <td>сыграть свадьбу</td>\n",
       "    </tr>\n",
       "    <tr>\n",
       "      <th>26</th>\n",
       "      <td>0</td>\n",
       "      <td>NaN</td>\n",
       "      <td>41</td>\n",
       "      <td>среднее</td>\n",
       "      <td>1</td>\n",
       "      <td>женат / замужем</td>\n",
       "      <td>0</td>\n",
       "      <td>M</td>\n",
       "      <td>госслужащий</td>\n",
       "      <td>0</td>\n",
       "      <td>NaN</td>\n",
       "      <td>образование</td>\n",
       "    </tr>\n",
       "    <tr>\n",
       "      <th>29</th>\n",
       "      <td>0</td>\n",
       "      <td>NaN</td>\n",
       "      <td>63</td>\n",
       "      <td>среднее</td>\n",
       "      <td>1</td>\n",
       "      <td>Не женат / не замужем</td>\n",
       "      <td>4</td>\n",
       "      <td>F</td>\n",
       "      <td>пенсионер</td>\n",
       "      <td>0</td>\n",
       "      <td>NaN</td>\n",
       "      <td>строительство жилой недвижимости</td>\n",
       "    </tr>\n",
       "    <tr>\n",
       "      <th>41</th>\n",
       "      <td>0</td>\n",
       "      <td>NaN</td>\n",
       "      <td>50</td>\n",
       "      <td>среднее</td>\n",
       "      <td>1</td>\n",
       "      <td>женат / замужем</td>\n",
       "      <td>0</td>\n",
       "      <td>F</td>\n",
       "      <td>госслужащий</td>\n",
       "      <td>0</td>\n",
       "      <td>NaN</td>\n",
       "      <td>сделка с подержанным автомобилем</td>\n",
       "    </tr>\n",
       "    <tr>\n",
       "      <th>55</th>\n",
       "      <td>0</td>\n",
       "      <td>NaN</td>\n",
       "      <td>54</td>\n",
       "      <td>среднее</td>\n",
       "      <td>1</td>\n",
       "      <td>гражданский брак</td>\n",
       "      <td>1</td>\n",
       "      <td>F</td>\n",
       "      <td>пенсионер</td>\n",
       "      <td>1</td>\n",
       "      <td>NaN</td>\n",
       "      <td>сыграть свадьбу</td>\n",
       "    </tr>\n",
       "    <tr>\n",
       "      <th>...</th>\n",
       "      <td>...</td>\n",
       "      <td>...</td>\n",
       "      <td>...</td>\n",
       "      <td>...</td>\n",
       "      <td>...</td>\n",
       "      <td>...</td>\n",
       "      <td>...</td>\n",
       "      <td>...</td>\n",
       "      <td>...</td>\n",
       "      <td>...</td>\n",
       "      <td>...</td>\n",
       "      <td>...</td>\n",
       "    </tr>\n",
       "    <tr>\n",
       "      <th>21489</th>\n",
       "      <td>2</td>\n",
       "      <td>NaN</td>\n",
       "      <td>47</td>\n",
       "      <td>Среднее</td>\n",
       "      <td>1</td>\n",
       "      <td>женат / замужем</td>\n",
       "      <td>0</td>\n",
       "      <td>M</td>\n",
       "      <td>компаньон</td>\n",
       "      <td>0</td>\n",
       "      <td>NaN</td>\n",
       "      <td>сделка с автомобилем</td>\n",
       "    </tr>\n",
       "    <tr>\n",
       "      <th>21495</th>\n",
       "      <td>1</td>\n",
       "      <td>NaN</td>\n",
       "      <td>50</td>\n",
       "      <td>среднее</td>\n",
       "      <td>1</td>\n",
       "      <td>гражданский брак</td>\n",
       "      <td>1</td>\n",
       "      <td>F</td>\n",
       "      <td>сотрудник</td>\n",
       "      <td>0</td>\n",
       "      <td>NaN</td>\n",
       "      <td>свадьба</td>\n",
       "    </tr>\n",
       "    <tr>\n",
       "      <th>21497</th>\n",
       "      <td>0</td>\n",
       "      <td>NaN</td>\n",
       "      <td>48</td>\n",
       "      <td>ВЫСШЕЕ</td>\n",
       "      <td>0</td>\n",
       "      <td>женат / замужем</td>\n",
       "      <td>0</td>\n",
       "      <td>F</td>\n",
       "      <td>компаньон</td>\n",
       "      <td>0</td>\n",
       "      <td>NaN</td>\n",
       "      <td>строительство недвижимости</td>\n",
       "    </tr>\n",
       "    <tr>\n",
       "      <th>21502</th>\n",
       "      <td>1</td>\n",
       "      <td>NaN</td>\n",
       "      <td>42</td>\n",
       "      <td>среднее</td>\n",
       "      <td>1</td>\n",
       "      <td>женат / замужем</td>\n",
       "      <td>0</td>\n",
       "      <td>F</td>\n",
       "      <td>сотрудник</td>\n",
       "      <td>0</td>\n",
       "      <td>NaN</td>\n",
       "      <td>строительство жилой недвижимости</td>\n",
       "    </tr>\n",
       "    <tr>\n",
       "      <th>21510</th>\n",
       "      <td>2</td>\n",
       "      <td>NaN</td>\n",
       "      <td>28</td>\n",
       "      <td>среднее</td>\n",
       "      <td>1</td>\n",
       "      <td>женат / замужем</td>\n",
       "      <td>0</td>\n",
       "      <td>F</td>\n",
       "      <td>сотрудник</td>\n",
       "      <td>0</td>\n",
       "      <td>NaN</td>\n",
       "      <td>приобретение автомобиля</td>\n",
       "    </tr>\n",
       "  </tbody>\n",
       "</table>\n",
       "<p>2174 rows × 12 columns</p>\n",
       "</div>"
      ],
      "text/plain": [
       "       children  days_employed  dob_years education  education_id  \\\n",
       "12            0            NaN         65   среднее             1   \n",
       "26            0            NaN         41   среднее             1   \n",
       "29            0            NaN         63   среднее             1   \n",
       "41            0            NaN         50   среднее             1   \n",
       "55            0            NaN         54   среднее             1   \n",
       "...         ...            ...        ...       ...           ...   \n",
       "21489         2            NaN         47   Среднее             1   \n",
       "21495         1            NaN         50   среднее             1   \n",
       "21497         0            NaN         48    ВЫСШЕЕ             0   \n",
       "21502         1            NaN         42   среднее             1   \n",
       "21510         2            NaN         28   среднее             1   \n",
       "\n",
       "               family_status  family_status_id gender  income_type  debt  \\\n",
       "12          гражданский брак                 1      M    пенсионер     0   \n",
       "26           женат / замужем                 0      M  госслужащий     0   \n",
       "29     Не женат / не замужем                 4      F    пенсионер     0   \n",
       "41           женат / замужем                 0      F  госслужащий     0   \n",
       "55          гражданский брак                 1      F    пенсионер     1   \n",
       "...                      ...               ...    ...          ...   ...   \n",
       "21489        женат / замужем                 0      M    компаньон     0   \n",
       "21495       гражданский брак                 1      F    сотрудник     0   \n",
       "21497        женат / замужем                 0      F    компаньон     0   \n",
       "21502        женат / замужем                 0      F    сотрудник     0   \n",
       "21510        женат / замужем                 0      F    сотрудник     0   \n",
       "\n",
       "       total_income                           purpose  \n",
       "12              NaN                   сыграть свадьбу  \n",
       "26              NaN                       образование  \n",
       "29              NaN  строительство жилой недвижимости  \n",
       "41              NaN  сделка с подержанным автомобилем  \n",
       "55              NaN                   сыграть свадьбу  \n",
       "...             ...                               ...  \n",
       "21489           NaN              сделка с автомобилем  \n",
       "21495           NaN                           свадьба  \n",
       "21497           NaN        строительство недвижимости  \n",
       "21502           NaN  строительство жилой недвижимости  \n",
       "21510           NaN           приобретение автомобиля  \n",
       "\n",
       "[2174 rows x 12 columns]"
      ]
     },
     "metadata": {},
     "output_type": "display_data"
    }
   ],
   "source": [
    "# посмотрим на пропуски в столбце 'days_employed' и выведим их на экран.\n",
    "display(bank[bank['days_employed'].isna()])"
   ]
  },
  {
   "cell_type": "markdown",
   "metadata": {},
   "source": [
    "Из таблицы видно, что пропуски в обоих столбцах допущены в одних и тех же строках. Данные пропуски можно отнести к случайным, поскольку вероятность пропуска зависит от других значений в таблице, но не от значений собственного столбца."
   ]
  },
  {
   "cell_type": "markdown",
   "metadata": {},
   "source": [
    "Чтобы ответить на поставленные  нужно избавиться от пропусков. Удалять строки нельзя, так как будет утеряны 10% данных. Будем производить замену пропусков. Для замены пропусков в столбце 'total_income' будем применять медиану и группировку значений по типу занятости."
   ]
  },
  {
   "cell_type": "markdown",
   "metadata": {},
   "source": [
    "Посмотрим, какие типы занятости указаны в таблице"
   ]
  },
  {
   "cell_type": "code",
   "execution_count": 7,
   "metadata": {},
   "outputs": [
    {
     "data": {
      "text/plain": [
       "сотрудник          11119\n",
       "компаньон           5085\n",
       "пенсионер           3856\n",
       "госслужащий         1459\n",
       "безработный            2\n",
       "предприниматель        2\n",
       "студент                1\n",
       "в декрете              1\n",
       "Name: income_type, dtype: int64"
      ]
     },
     "execution_count": 7,
     "metadata": {},
     "output_type": "execute_result"
    }
   ],
   "source": [
    "# смотрим на уникальные значения столбца и их количество\n",
    "bank['income_type'].value_counts()"
   ]
  },
  {
   "cell_type": "code",
   "execution_count": 8,
   "metadata": {},
   "outputs": [],
   "source": [
    "# производим группировку таблицы и подсчитаваем медиану для столбца со стажем по каждому типу занятости\n",
    "bank_median = bank.groupby('income_type')['days_employed'].median()"
   ]
  },
  {
   "cell_type": "code",
   "execution_count": 9,
   "metadata": {},
   "outputs": [
    {
     "data": {
      "text/plain": [
       "income_type\n",
       "безработный        366413.652744\n",
       "в декрете           -3296.759962\n",
       "госслужащий         -2689.368353\n",
       "компаньон           -1547.382223\n",
       "пенсионер          365213.306266\n",
       "предприниматель      -520.848083\n",
       "сотрудник           -1574.202821\n",
       "студент              -578.751554\n",
       "Name: days_employed, dtype: float64"
      ]
     },
     "metadata": {},
     "output_type": "display_data"
    }
   ],
   "source": [
    "# выводим таблицу со значением медиан столбца стажа для каждого типа занятости\n",
    "display(bank_median)"
   ]
  },
  {
   "cell_type": "markdown",
   "metadata": {},
   "source": [
    "Производим замену пропусков в столбце 'days_employed', на подсчитанные значения медиан. Для этого применим метод fillna() и transform()"
   ]
  },
  {
   "cell_type": "code",
   "execution_count": 10,
   "metadata": {},
   "outputs": [],
   "source": [
    "# производим замен упропусков\n",
    "bank['days_employed'] = bank['days_employed'].fillna(bank.groupby('income_type')['days_employed'].transform('median'))"
   ]
  },
  {
   "cell_type": "markdown",
   "metadata": {},
   "source": [
    "Посчитам пропуски в таблице, после замены."
   ]
  },
  {
   "cell_type": "code",
   "execution_count": 11,
   "metadata": {},
   "outputs": [
    {
     "data": {
      "text/plain": [
       "children               0\n",
       "days_employed          0\n",
       "dob_years              0\n",
       "education              0\n",
       "education_id           0\n",
       "family_status          0\n",
       "family_status_id       0\n",
       "gender                 0\n",
       "income_type            0\n",
       "debt                   0\n",
       "total_income        2174\n",
       "purpose                0\n",
       "dtype: int64"
      ]
     },
     "execution_count": 11,
     "metadata": {},
     "output_type": "execute_result"
    }
   ],
   "source": [
    "# подсчёт пропусков\n",
    "bank.isna().sum()"
   ]
  },
  {
   "cell_type": "markdown",
   "metadata": {},
   "source": [
    "Пропуски в столбце 'days_employed' исчезли. Теперь произведём замену пропусков в столбце 'total_income'. Алгоритм замены, точно такой же, как и при замене пропусков в столбце 'days_employed'"
   ]
  },
  {
   "cell_type": "code",
   "execution_count": 12,
   "metadata": {},
   "outputs": [],
   "source": [
    "# производим группировку таблицы и подсчитаваем медиану для столбца с доходами по каждому типу занятости\n",
    "bank_median_1 = bank.groupby('income_type')['total_income'].median()"
   ]
  },
  {
   "cell_type": "code",
   "execution_count": 13,
   "metadata": {},
   "outputs": [
    {
     "data": {
      "text/plain": [
       "income_type\n",
       "безработный        131339.751676\n",
       "в декрете           53829.130729\n",
       "госслужащий        150447.935283\n",
       "компаньон          172357.950966\n",
       "пенсионер          118514.486412\n",
       "предприниматель    499163.144947\n",
       "сотрудник          142594.396847\n",
       "студент             98201.625314\n",
       "Name: total_income, dtype: float64"
      ]
     },
     "metadata": {},
     "output_type": "display_data"
    }
   ],
   "source": [
    "# выводим таблицу со значением медиан столбца доходов для каждого типа занятости\n",
    "display(bank_median_1)"
   ]
  },
  {
   "cell_type": "markdown",
   "metadata": {},
   "source": [
    "Производим замену пропусков в столбце 'total_income', на подсчитанные значения медиан. Для этого применим метод fillna() и transform()"
   ]
  },
  {
   "cell_type": "code",
   "execution_count": 14,
   "metadata": {},
   "outputs": [],
   "source": [
    "# производим замену пропусков\n",
    "bank['total_income'] = bank['total_income'].fillna(bank.groupby('income_type')['total_income'].transform('median'))"
   ]
  },
  {
   "cell_type": "markdown",
   "metadata": {},
   "source": [
    "Посчитам пропуски в таблице, после замены."
   ]
  },
  {
   "cell_type": "code",
   "execution_count": 15,
   "metadata": {},
   "outputs": [
    {
     "data": {
      "text/plain": [
       "children            0\n",
       "days_employed       0\n",
       "dob_years           0\n",
       "education           0\n",
       "education_id        0\n",
       "family_status       0\n",
       "family_status_id    0\n",
       "gender              0\n",
       "income_type         0\n",
       "debt                0\n",
       "total_income        0\n",
       "purpose             0\n",
       "dtype: int64"
      ]
     },
     "execution_count": 15,
     "metadata": {},
     "output_type": "execute_result"
    }
   ],
   "source": [
    "# подсчёт пропусков\n",
    "bank.isna().sum()"
   ]
  },
  {
   "cell_type": "markdown",
   "metadata": {},
   "source": [
    "В таблице не осталось пропусков. Но нужно продолжать её обрабатывать, чтобы можно было ответить на поставленые вопросы."
   ]
  },
  {
   "cell_type": "markdown",
   "metadata": {},
   "source": [
    "Посмотрим на значения в столбце 'dob_years'"
   ]
  },
  {
   "cell_type": "code",
   "execution_count": 16,
   "metadata": {},
   "outputs": [
    {
     "data": {
      "text/plain": [
       "35    617\n",
       "40    609\n",
       "41    607\n",
       "34    603\n",
       "38    598\n",
       "42    597\n",
       "33    581\n",
       "39    573\n",
       "31    560\n",
       "36    555\n",
       "44    547\n",
       "29    545\n",
       "30    540\n",
       "48    538\n",
       "37    537\n",
       "50    514\n",
       "43    513\n",
       "32    510\n",
       "49    508\n",
       "28    503\n",
       "45    497\n",
       "27    493\n",
       "56    487\n",
       "52    484\n",
       "47    480\n",
       "54    479\n",
       "46    475\n",
       "58    461\n",
       "57    460\n",
       "53    459\n",
       "51    448\n",
       "59    444\n",
       "55    443\n",
       "26    408\n",
       "60    377\n",
       "25    357\n",
       "61    355\n",
       "62    352\n",
       "63    269\n",
       "64    265\n",
       "24    264\n",
       "23    254\n",
       "65    194\n",
       "66    183\n",
       "22    183\n",
       "67    167\n",
       "21    111\n",
       "0     101\n",
       "68     99\n",
       "69     85\n",
       "70     65\n",
       "71     58\n",
       "20     51\n",
       "72     33\n",
       "19     14\n",
       "73      8\n",
       "74      6\n",
       "75      1\n",
       "Name: dob_years, dtype: int64"
      ]
     },
     "execution_count": 16,
     "metadata": {},
     "output_type": "execute_result"
    }
   ],
   "source": [
    "# смотрим на уникальные значения и их количество\n",
    "bank['dob_years'].value_counts()"
   ]
  },
  {
   "cell_type": "markdown",
   "metadata": {},
   "source": [
    "У 101 клиента возраст указан 0 лет. Предположим, что при заполнении анкеты клиенты забыли указать свой возраст, а при переносе данных в таблицу вместо пропуска указали число 0. Их доля вобщем числе строк не превышает 0,5%. Не вижу смысла заниматься их обработкой, удалим данные строки."
   ]
  },
  {
   "cell_type": "code",
   "execution_count": 17,
   "metadata": {},
   "outputs": [],
   "source": [
    "# удаляем строки, где возраст указан 0 лет\n",
    "bank = bank.loc[bank['dob_years'] > 0]"
   ]
  },
  {
   "cell_type": "code",
   "execution_count": 18,
   "metadata": {},
   "outputs": [
    {
     "name": "stdout",
     "output_type": "stream",
     "text": [
      "<class 'pandas.core.frame.DataFrame'>\n",
      "Int64Index: 21424 entries, 0 to 21524\n",
      "Data columns (total 12 columns):\n",
      " #   Column            Non-Null Count  Dtype  \n",
      "---  ------            --------------  -----  \n",
      " 0   children          21424 non-null  int64  \n",
      " 1   days_employed     21424 non-null  float64\n",
      " 2   dob_years         21424 non-null  int64  \n",
      " 3   education         21424 non-null  object \n",
      " 4   education_id      21424 non-null  int64  \n",
      " 5   family_status     21424 non-null  object \n",
      " 6   family_status_id  21424 non-null  int64  \n",
      " 7   gender            21424 non-null  object \n",
      " 8   income_type       21424 non-null  object \n",
      " 9   debt              21424 non-null  int64  \n",
      " 10  total_income      21424 non-null  float64\n",
      " 11  purpose           21424 non-null  object \n",
      "dtypes: float64(2), int64(5), object(5)\n",
      "memory usage: 2.1+ MB\n"
     ]
    }
   ],
   "source": [
    "# смотрим информацию о таблице\n",
    "bank.info()"
   ]
  },
  {
   "cell_type": "markdown",
   "metadata": {},
   "source": [
    "Строки удалены. Теперь разберёмся с отрицательными значениями в столбце 'days_employed'"
   ]
  },
  {
   "cell_type": "markdown",
   "metadata": {},
   "source": [
    "Изучим количество аномальных значений стажа работы 'days_employed', исходя из сведений, что единицей измерения таких данных является день. Возьмём размёр трудового стажа 45 лет, его продолжительность в днях будет составлять: 16425 дня. Соответсвенно, значения, его превышающие будут аномально высокими. Посчитаем количество таких аномальных значений."
   ]
  },
  {
   "cell_type": "code",
   "execution_count": 19,
   "metadata": {},
   "outputs": [
    {
     "data": {
      "text/plain": [
       "income_type\n",
       "безработный       2\n",
       "пенсионер      3836\n",
       "Name: education, dtype: int64"
      ]
     },
     "metadata": {},
     "output_type": "display_data"
    }
   ],
   "source": [
    "display(bank[bank['days_employed'] > abs(16425)].groupby('income_type')['education'].count())"
   ]
  },
  {
   "cell_type": "markdown",
   "metadata": {},
   "source": [
    "Датасет содержит 3838 записи с аномальными значениями 'days_employed', из которых 3836 приходится на пенсионеров. Скорее всего ишибка в выгрузке данных. Напишем функцию days_employed_converse, которая пересчитает аномальные значения в дни, исходя из предположения, что аномалии выгружены в часах. А так же вернёт положительные значения стажа."
   ]
  },
  {
   "cell_type": "code",
   "execution_count": 20,
   "metadata": {},
   "outputs": [
    {
     "data": {
      "text/html": [
       "<div>\n",
       "<style scoped>\n",
       "    .dataframe tbody tr th:only-of-type {\n",
       "        vertical-align: middle;\n",
       "    }\n",
       "\n",
       "    .dataframe tbody tr th {\n",
       "        vertical-align: top;\n",
       "    }\n",
       "\n",
       "    .dataframe thead th {\n",
       "        text-align: right;\n",
       "    }\n",
       "</style>\n",
       "<table border=\"1\" class=\"dataframe\">\n",
       "  <thead>\n",
       "    <tr style=\"text-align: right;\">\n",
       "      <th></th>\n",
       "      <th>children</th>\n",
       "      <th>days_employed</th>\n",
       "      <th>dob_years</th>\n",
       "      <th>education</th>\n",
       "      <th>education_id</th>\n",
       "      <th>family_status</th>\n",
       "      <th>family_status_id</th>\n",
       "      <th>gender</th>\n",
       "      <th>income_type</th>\n",
       "      <th>debt</th>\n",
       "      <th>total_income</th>\n",
       "      <th>purpose</th>\n",
       "    </tr>\n",
       "  </thead>\n",
       "  <tbody>\n",
       "    <tr>\n",
       "      <th>0</th>\n",
       "      <td>1</td>\n",
       "      <td>8437.673028</td>\n",
       "      <td>42</td>\n",
       "      <td>высшее</td>\n",
       "      <td>0</td>\n",
       "      <td>женат / замужем</td>\n",
       "      <td>0</td>\n",
       "      <td>F</td>\n",
       "      <td>сотрудник</td>\n",
       "      <td>0</td>\n",
       "      <td>253875.639453</td>\n",
       "      <td>покупка жилья</td>\n",
       "    </tr>\n",
       "    <tr>\n",
       "      <th>1</th>\n",
       "      <td>1</td>\n",
       "      <td>4024.803754</td>\n",
       "      <td>36</td>\n",
       "      <td>среднее</td>\n",
       "      <td>1</td>\n",
       "      <td>женат / замужем</td>\n",
       "      <td>0</td>\n",
       "      <td>F</td>\n",
       "      <td>сотрудник</td>\n",
       "      <td>0</td>\n",
       "      <td>112080.014102</td>\n",
       "      <td>приобретение автомобиля</td>\n",
       "    </tr>\n",
       "    <tr>\n",
       "      <th>2</th>\n",
       "      <td>0</td>\n",
       "      <td>5623.422610</td>\n",
       "      <td>33</td>\n",
       "      <td>Среднее</td>\n",
       "      <td>1</td>\n",
       "      <td>женат / замужем</td>\n",
       "      <td>0</td>\n",
       "      <td>M</td>\n",
       "      <td>сотрудник</td>\n",
       "      <td>0</td>\n",
       "      <td>145885.952297</td>\n",
       "      <td>покупка жилья</td>\n",
       "    </tr>\n",
       "    <tr>\n",
       "      <th>3</th>\n",
       "      <td>3</td>\n",
       "      <td>4124.747207</td>\n",
       "      <td>32</td>\n",
       "      <td>среднее</td>\n",
       "      <td>1</td>\n",
       "      <td>женат / замужем</td>\n",
       "      <td>0</td>\n",
       "      <td>M</td>\n",
       "      <td>сотрудник</td>\n",
       "      <td>0</td>\n",
       "      <td>267628.550329</td>\n",
       "      <td>дополнительное образование</td>\n",
       "    </tr>\n",
       "    <tr>\n",
       "      <th>4</th>\n",
       "      <td>0</td>\n",
       "      <td>14177.753002</td>\n",
       "      <td>53</td>\n",
       "      <td>среднее</td>\n",
       "      <td>1</td>\n",
       "      <td>гражданский брак</td>\n",
       "      <td>1</td>\n",
       "      <td>F</td>\n",
       "      <td>пенсионер</td>\n",
       "      <td>0</td>\n",
       "      <td>158616.077870</td>\n",
       "      <td>сыграть свадьбу</td>\n",
       "    </tr>\n",
       "    <tr>\n",
       "      <th>5</th>\n",
       "      <td>0</td>\n",
       "      <td>926.185831</td>\n",
       "      <td>27</td>\n",
       "      <td>высшее</td>\n",
       "      <td>0</td>\n",
       "      <td>гражданский брак</td>\n",
       "      <td>1</td>\n",
       "      <td>M</td>\n",
       "      <td>компаньон</td>\n",
       "      <td>0</td>\n",
       "      <td>255763.565419</td>\n",
       "      <td>покупка жилья</td>\n",
       "    </tr>\n",
       "    <tr>\n",
       "      <th>6</th>\n",
       "      <td>0</td>\n",
       "      <td>2879.202052</td>\n",
       "      <td>43</td>\n",
       "      <td>высшее</td>\n",
       "      <td>0</td>\n",
       "      <td>женат / замужем</td>\n",
       "      <td>0</td>\n",
       "      <td>F</td>\n",
       "      <td>компаньон</td>\n",
       "      <td>0</td>\n",
       "      <td>240525.971920</td>\n",
       "      <td>операции с жильем</td>\n",
       "    </tr>\n",
       "    <tr>\n",
       "      <th>7</th>\n",
       "      <td>0</td>\n",
       "      <td>152.779569</td>\n",
       "      <td>50</td>\n",
       "      <td>СРЕДНЕЕ</td>\n",
       "      <td>1</td>\n",
       "      <td>женат / замужем</td>\n",
       "      <td>0</td>\n",
       "      <td>M</td>\n",
       "      <td>сотрудник</td>\n",
       "      <td>0</td>\n",
       "      <td>135823.934197</td>\n",
       "      <td>образование</td>\n",
       "    </tr>\n",
       "    <tr>\n",
       "      <th>8</th>\n",
       "      <td>2</td>\n",
       "      <td>6929.865299</td>\n",
       "      <td>35</td>\n",
       "      <td>ВЫСШЕЕ</td>\n",
       "      <td>0</td>\n",
       "      <td>гражданский брак</td>\n",
       "      <td>1</td>\n",
       "      <td>F</td>\n",
       "      <td>сотрудник</td>\n",
       "      <td>0</td>\n",
       "      <td>95856.832424</td>\n",
       "      <td>на проведение свадьбы</td>\n",
       "    </tr>\n",
       "    <tr>\n",
       "      <th>9</th>\n",
       "      <td>0</td>\n",
       "      <td>2188.756445</td>\n",
       "      <td>41</td>\n",
       "      <td>среднее</td>\n",
       "      <td>1</td>\n",
       "      <td>женат / замужем</td>\n",
       "      <td>0</td>\n",
       "      <td>M</td>\n",
       "      <td>сотрудник</td>\n",
       "      <td>0</td>\n",
       "      <td>144425.938277</td>\n",
       "      <td>покупка жилья для семьи</td>\n",
       "    </tr>\n",
       "  </tbody>\n",
       "</table>\n",
       "</div>"
      ],
      "text/plain": [
       "   children  days_employed  dob_years education  education_id  \\\n",
       "0         1    8437.673028         42    высшее             0   \n",
       "1         1    4024.803754         36   среднее             1   \n",
       "2         0    5623.422610         33   Среднее             1   \n",
       "3         3    4124.747207         32   среднее             1   \n",
       "4         0   14177.753002         53   среднее             1   \n",
       "5         0     926.185831         27    высшее             0   \n",
       "6         0    2879.202052         43    высшее             0   \n",
       "7         0     152.779569         50   СРЕДНЕЕ             1   \n",
       "8         2    6929.865299         35    ВЫСШЕЕ             0   \n",
       "9         0    2188.756445         41   среднее             1   \n",
       "\n",
       "      family_status  family_status_id gender income_type  debt   total_income  \\\n",
       "0   женат / замужем                 0      F   сотрудник     0  253875.639453   \n",
       "1   женат / замужем                 0      F   сотрудник     0  112080.014102   \n",
       "2   женат / замужем                 0      M   сотрудник     0  145885.952297   \n",
       "3   женат / замужем                 0      M   сотрудник     0  267628.550329   \n",
       "4  гражданский брак                 1      F   пенсионер     0  158616.077870   \n",
       "5  гражданский брак                 1      M   компаньон     0  255763.565419   \n",
       "6   женат / замужем                 0      F   компаньон     0  240525.971920   \n",
       "7   женат / замужем                 0      M   сотрудник     0  135823.934197   \n",
       "8  гражданский брак                 1      F   сотрудник     0   95856.832424   \n",
       "9   женат / замужем                 0      M   сотрудник     0  144425.938277   \n",
       "\n",
       "                      purpose  \n",
       "0               покупка жилья  \n",
       "1     приобретение автомобиля  \n",
       "2               покупка жилья  \n",
       "3  дополнительное образование  \n",
       "4             сыграть свадьбу  \n",
       "5               покупка жилья  \n",
       "6           операции с жильем  \n",
       "7                 образование  \n",
       "8       на проведение свадьбы  \n",
       "9     покупка жилья для семьи  "
      ]
     },
     "execution_count": 20,
     "metadata": {},
     "output_type": "execute_result"
    }
   ],
   "source": [
    "# функция проверяет значения стажа и возвращает модуль от деленяи на 24, если значение больше 16425\n",
    "# или возвращает модуль числа во всех иных случаях\n",
    "def days_employed_converse(row):\n",
    "    if abs(row) > 16425:\n",
    "        return abs(row/24)\n",
    "    elif abs(row) >0 and abs(row) <= 16425:\n",
    "        return abs(row)\n",
    "    else:\n",
    "        return row\n",
    "    \n",
    "# производим замену аномальных значений в столбце 'days_employed', применяя метод apply()\n",
    "bank['days_employed'] = bank['days_employed'].apply(days_employed_converse)  \n",
    "# взглянем на первые 10 строк таблицы\n",
    "bank.head(10)"
   ]
  },
  {
   "cell_type": "markdown",
   "metadata": {},
   "source": [
    "Аномальные значения в столбце 'days_employed' заменены. "
   ]
  },
  {
   "cell_type": "markdown",
   "metadata": {},
   "source": [
    "Поскольку одним из вопросов является определения зависимости возврата кредита в срок от количества детей, посмотрим какие значения находятся в столбце 'children' и посчитаем их."
   ]
  },
  {
   "cell_type": "code",
   "execution_count": 21,
   "metadata": {},
   "outputs": [
    {
     "data": {
      "text/plain": [
       " 0     14080\n",
       " 1      4802\n",
       " 2      2042\n",
       " 3       328\n",
       " 20       75\n",
       "-1        47\n",
       " 4        41\n",
       " 5         9\n",
       "Name: children, dtype: int64"
      ]
     },
     "execution_count": 21,
     "metadata": {},
     "output_type": "execute_result"
    }
   ],
   "source": [
    "# смотрим на уникальные значения столбца 'children'\n",
    "bank['children'].value_counts()"
   ]
  },
  {
   "cell_type": "markdown",
   "metadata": {},
   "source": [
    "Из полученных данных видно 2 аномалии. У 75 клиентов банка - 20 детей, а у 47 клиентов - '-1' ребёнок. Предположим, что вместо 20 детей, должно быть указано 2 ребёнка, а '-1' это один ребёнок. Напишем функцию children_converse, которая преобразует количество детей из 20 в 2, а отрицательное значение преобразует в положительные."
   ]
  },
  {
   "cell_type": "code",
   "execution_count": 22,
   "metadata": {},
   "outputs": [],
   "source": [
    "# функция проверяет значение количетсва детей и возвращает результат от деления на 10, если количетсво равно 20\n",
    "# и преобразует отрицательные значения в положительные\n",
    "def children_converse(row):\n",
    "    if row == 20:\n",
    "        row = row / 10\n",
    "        return row\n",
    "    elif row <0:\n",
    "        row = row * -1\n",
    "        return row\n",
    "    else:\n",
    "        return row\n",
    "\n",
    "# производим замену аномальных значений в столбце 'children', применяя метод apply()    \n",
    "bank['children'] = bank['children'].apply(children_converse)   "
   ]
  },
  {
   "cell_type": "markdown",
   "metadata": {},
   "source": [
    "Ещё раз посмотрим на уникальные значения столбца 'children' и посчитаем их."
   ]
  },
  {
   "cell_type": "code",
   "execution_count": 23,
   "metadata": {},
   "outputs": [
    {
     "data": {
      "text/plain": [
       "0.0    14080\n",
       "1.0     4849\n",
       "2.0     2117\n",
       "3.0      328\n",
       "4.0       41\n",
       "5.0        9\n",
       "Name: children, dtype: int64"
      ]
     },
     "execution_count": 23,
     "metadata": {},
     "output_type": "execute_result"
    }
   ],
   "source": [
    "# уникальные значения столбца 'children'\n",
    "bank['children'].value_counts()"
   ]
  },
  {
   "cell_type": "markdown",
   "metadata": {},
   "source": [
    "Аномальные значения в столбце 'children' заменены."
   ]
  },
  {
   "cell_type": "markdown",
   "metadata": {},
   "source": [
    "Продолжим исследовать таблицу. Посмотрим на столбец 'education'"
   ]
  },
  {
   "cell_type": "code",
   "execution_count": 24,
   "metadata": {},
   "outputs": [
    {
     "data": {
      "text/plain": [
       "среднее                13691\n",
       "высшее                  4686\n",
       "СРЕДНЕЕ                  770\n",
       "Среднее                  708\n",
       "неоконченное высшее      666\n",
       "ВЫСШЕЕ                   273\n",
       "Высшее                   266\n",
       "начальное                250\n",
       "Неоконченное высшее       47\n",
       "НЕОКОНЧЕННОЕ ВЫСШЕЕ       29\n",
       "НАЧАЛЬНОЕ                 17\n",
       "Начальное                 15\n",
       "ученая степень             4\n",
       "УЧЕНАЯ СТЕПЕНЬ             1\n",
       "Ученая степень             1\n",
       "Name: education, dtype: int64"
      ]
     },
     "execution_count": 24,
     "metadata": {},
     "output_type": "execute_result"
    }
   ],
   "source": [
    "# уникальные значения столбца 'education'\n",
    "bank['education'].value_counts()"
   ]
  },
  {
   "cell_type": "markdown",
   "metadata": {},
   "source": [
    "Всего 5 типов, но отличаются регистром. Переведём типы образования к нижнему регистру методом str.lower()"
   ]
  },
  {
   "cell_type": "code",
   "execution_count": 25,
   "metadata": {},
   "outputs": [],
   "source": [
    "# методом str.lower() приводим столбец 'education' к нижнему регистру\n",
    "bank['education'] = bank['education'].str.lower()"
   ]
  },
  {
   "cell_type": "code",
   "execution_count": 26,
   "metadata": {},
   "outputs": [
    {
     "data": {
      "text/plain": [
       "среднее                15169\n",
       "высшее                  5225\n",
       "неоконченное высшее      742\n",
       "начальное                282\n",
       "ученая степень             6\n",
       "Name: education, dtype: int64"
      ]
     },
     "execution_count": 26,
     "metadata": {},
     "output_type": "execute_result"
    }
   ],
   "source": [
    "# уникальные значения столбца 'education'\n",
    "bank['education'].value_counts()"
   ]
  },
  {
   "cell_type": "markdown",
   "metadata": {},
   "source": [
    "Поскольку одним из вопросов является определения зависимости возврата кредита в срок от семейного положения, посмотрим какие значения находятся в столбце 'family_status' и посчитаем их."
   ]
  },
  {
   "cell_type": "code",
   "execution_count": 27,
   "metadata": {},
   "outputs": [
    {
     "data": {
      "text/plain": [
       "женат / замужем          12331\n",
       "гражданский брак          4156\n",
       "Не женат / не замужем     2797\n",
       "в разводе                 1185\n",
       "вдовец / вдова             955\n",
       "Name: family_status, dtype: int64"
      ]
     },
     "execution_count": 27,
     "metadata": {},
     "output_type": "execute_result"
    }
   ],
   "source": [
    "# уникальные значения столбца 'family_status'\n",
    "bank['family_status'].value_counts()"
   ]
  },
  {
   "cell_type": "markdown",
   "metadata": {},
   "source": [
    "Аномалий в столбце с семейным положением нет. Посмотрим на половую принадлежность клиентов."
   ]
  },
  {
   "cell_type": "code",
   "execution_count": 28,
   "metadata": {},
   "outputs": [
    {
     "data": {
      "text/plain": [
       "F      14164\n",
       "M       7259\n",
       "XNA        1\n",
       "Name: gender, dtype: int64"
      ]
     },
     "execution_count": 28,
     "metadata": {},
     "output_type": "execute_result"
    }
   ],
   "source": [
    "# уникальные значения столбца 'gender'\n",
    "bank['gender'].value_counts()"
   ]
  },
  {
   "cell_type": "markdown",
   "metadata": {},
   "source": [
    "14164 клиента банка оказались женщинами, 7259 клиента оказались мужчинами. И скорее всего 1 клиент не указал пол, при заполнении анкеты. Удалим данную строку из таблицы. "
   ]
  },
  {
   "cell_type": "code",
   "execution_count": 29,
   "metadata": {},
   "outputs": [],
   "source": [
    "# удаляем строку, гдене указан пол клиента\n",
    "bank = bank.loc[bank['gender'] != 'XNA']"
   ]
  },
  {
   "cell_type": "code",
   "execution_count": 30,
   "metadata": {},
   "outputs": [
    {
     "name": "stdout",
     "output_type": "stream",
     "text": [
      "<class 'pandas.core.frame.DataFrame'>\n",
      "Int64Index: 21423 entries, 0 to 21524\n",
      "Data columns (total 12 columns):\n",
      " #   Column            Non-Null Count  Dtype  \n",
      "---  ------            --------------  -----  \n",
      " 0   children          21423 non-null  float64\n",
      " 1   days_employed     21423 non-null  float64\n",
      " 2   dob_years         21423 non-null  int64  \n",
      " 3   education         21423 non-null  object \n",
      " 4   education_id      21423 non-null  int64  \n",
      " 5   family_status     21423 non-null  object \n",
      " 6   family_status_id  21423 non-null  int64  \n",
      " 7   gender            21423 non-null  object \n",
      " 8   income_type       21423 non-null  object \n",
      " 9   debt              21423 non-null  int64  \n",
      " 10  total_income      21423 non-null  float64\n",
      " 11  purpose           21423 non-null  object \n",
      "dtypes: float64(3), int64(4), object(5)\n",
      "memory usage: 2.1+ MB\n"
     ]
    }
   ],
   "source": [
    "# выводим информацию о таблице\n",
    "bank.info()"
   ]
  },
  {
   "cell_type": "markdown",
   "metadata": {},
   "source": [
    "Наконец изучим данные в столбце 'purpose'"
   ]
  },
  {
   "cell_type": "code",
   "execution_count": 31,
   "metadata": {},
   "outputs": [
    {
     "data": {
      "text/plain": [
       "свадьба                                   792\n",
       "на проведение свадьбы                     773\n",
       "сыграть свадьбу                           769\n",
       "операции с недвижимостью                  673\n",
       "покупка коммерческой недвижимости         661\n",
       "покупка жилья для сдачи                   651\n",
       "операции с коммерческой недвижимостью     649\n",
       "операции с жильем                         647\n",
       "покупка жилья                             641\n",
       "жилье                                     641\n",
       "покупка жилья для семьи                   640\n",
       "строительство собственной недвижимости    633\n",
       "операции со своей недвижимостью           630\n",
       "недвижимость                              630\n",
       "строительство жилой недвижимости          623\n",
       "покупка недвижимости                      620\n",
       "строительство недвижимости                620\n",
       "покупка своего жилья                      619\n",
       "ремонт жилью                              610\n",
       "покупка жилой недвижимости                604\n",
       "на покупку своего автомобиля              502\n",
       "заняться высшим образованием              493\n",
       "автомобиль                                491\n",
       "сделка с подержанным автомобилем          487\n",
       "на покупку подержанного автомобиля        479\n",
       "свой автомобиль                           477\n",
       "автомобили                                476\n",
       "на покупку автомобиля                     467\n",
       "приобретение автомобиля                   460\n",
       "дополнительное образование                460\n",
       "сделка с автомобилем                      454\n",
       "высшее образование                        450\n",
       "получение дополнительного образования     445\n",
       "образование                               444\n",
       "получение образования                     442\n",
       "профильное образование                    435\n",
       "получение высшего образования             424\n",
       "заняться образованием                     411\n",
       "Name: purpose, dtype: int64"
      ]
     },
     "execution_count": 31,
     "metadata": {},
     "output_type": "execute_result"
    }
   ],
   "source": [
    "# уникальные значения столбца 'purpose'\n",
    "bank['purpose'].value_counts()"
   ]
  },
  {
   "cell_type": "markdown",
   "metadata": {},
   "source": [
    "Аномальных данных в столбце не наблюдается. Все цели написаны с пременением нижнего регистра, без спец.символов. Группировку столбца по ключевым целям будем проводить позже. Пока можно сделать выводы по проделанной работе."
   ]
  },
  {
   "cell_type": "markdown",
   "metadata": {},
   "source": [
    "**Вывод**\n",
    "* были подсчитаны пропуски в столбцах 'days_employed' и 'total_income'\n",
    "* пропуски были заменены медианными значениям по группировке по столбцу 'income_type'\n",
    "* в столбце 'days_employed' были устранены аномалии с помощью функции 'days_employed_converse'\n",
    "* аномалии в столбцах 'dob_years' 'gender' были удалены, так как их общий объем не превышал 0,5% от всего объема данных\n",
    "* была написана функция 'children_converse', которая устраняла аномалии в столбце 'children'\n",
    "* значения в столбце 'education' были приведены к нижнему регистру\n",
    "* пропуски в данных скорее всего возникли из-за некорректной выгрузки данных, их можно отнести к случайным."
   ]
  },
  {
   "cell_type": "markdown",
   "metadata": {},
   "source": [
    "### Замена типа данных"
   ]
  },
  {
   "cell_type": "markdown",
   "metadata": {},
   "source": [
    "Из данных о таблице видно, что значения в столбцах 'days_employed' и 'total_income' являются вещественными числами (float64). Переведём их значения в целые числа методом astype(), указав аргумент ('int')."
   ]
  },
  {
   "cell_type": "code",
   "execution_count": 32,
   "metadata": {},
   "outputs": [],
   "source": [
    "# переведем вещественные числа в целые\n",
    "bank['days_employed'] = bank['days_employed'].astype('int')\n",
    "bank['total_income'] = bank['total_income'].astype('int')"
   ]
  },
  {
   "cell_type": "code",
   "execution_count": 33,
   "metadata": {},
   "outputs": [
    {
     "name": "stdout",
     "output_type": "stream",
     "text": [
      "<class 'pandas.core.frame.DataFrame'>\n",
      "Int64Index: 21423 entries, 0 to 21524\n",
      "Data columns (total 12 columns):\n",
      " #   Column            Non-Null Count  Dtype  \n",
      "---  ------            --------------  -----  \n",
      " 0   children          21423 non-null  float64\n",
      " 1   days_employed     21423 non-null  int64  \n",
      " 2   dob_years         21423 non-null  int64  \n",
      " 3   education         21423 non-null  object \n",
      " 4   education_id      21423 non-null  int64  \n",
      " 5   family_status     21423 non-null  object \n",
      " 6   family_status_id  21423 non-null  int64  \n",
      " 7   gender            21423 non-null  object \n",
      " 8   income_type       21423 non-null  object \n",
      " 9   debt              21423 non-null  int64  \n",
      " 10  total_income      21423 non-null  int64  \n",
      " 11  purpose           21423 non-null  object \n",
      "dtypes: float64(1), int64(6), object(5)\n",
      "memory usage: 2.1+ MB\n"
     ]
    }
   ],
   "source": [
    "# снова посмотрим на информацию о таблице\n",
    "bank.info()"
   ]
  },
  {
   "cell_type": "markdown",
   "metadata": {},
   "source": [
    "Значения в столбце 'children' оказались вещественными числами. Переведём их в целые.\n"
   ]
  },
  {
   "cell_type": "code",
   "execution_count": 34,
   "metadata": {},
   "outputs": [
    {
     "name": "stdout",
     "output_type": "stream",
     "text": [
      "<class 'pandas.core.frame.DataFrame'>\n",
      "Int64Index: 21423 entries, 0 to 21524\n",
      "Data columns (total 12 columns):\n",
      " #   Column            Non-Null Count  Dtype \n",
      "---  ------            --------------  ----- \n",
      " 0   children          21423 non-null  int64 \n",
      " 1   days_employed     21423 non-null  int64 \n",
      " 2   dob_years         21423 non-null  int64 \n",
      " 3   education         21423 non-null  object\n",
      " 4   education_id      21423 non-null  int64 \n",
      " 5   family_status     21423 non-null  object\n",
      " 6   family_status_id  21423 non-null  int64 \n",
      " 7   gender            21423 non-null  object\n",
      " 8   income_type       21423 non-null  object\n",
      " 9   debt              21423 non-null  int64 \n",
      " 10  total_income      21423 non-null  int64 \n",
      " 11  purpose           21423 non-null  object\n",
      "dtypes: int64(7), object(5)\n",
      "memory usage: 2.1+ MB\n"
     ]
    }
   ],
   "source": [
    "# переведем вещественные числа в целые и снова посмотрим на информацию о таблице\n",
    "bank['children'] = bank['children'].astype('int')\n",
    "bank.info()"
   ]
  },
  {
   "cell_type": "markdown",
   "metadata": {},
   "source": [
    "Снова посмотрим на первые 10 строк таблицы"
   ]
  },
  {
   "cell_type": "code",
   "execution_count": 35,
   "metadata": {},
   "outputs": [
    {
     "data": {
      "text/html": [
       "<div>\n",
       "<style scoped>\n",
       "    .dataframe tbody tr th:only-of-type {\n",
       "        vertical-align: middle;\n",
       "    }\n",
       "\n",
       "    .dataframe tbody tr th {\n",
       "        vertical-align: top;\n",
       "    }\n",
       "\n",
       "    .dataframe thead th {\n",
       "        text-align: right;\n",
       "    }\n",
       "</style>\n",
       "<table border=\"1\" class=\"dataframe\">\n",
       "  <thead>\n",
       "    <tr style=\"text-align: right;\">\n",
       "      <th></th>\n",
       "      <th>children</th>\n",
       "      <th>days_employed</th>\n",
       "      <th>dob_years</th>\n",
       "      <th>education</th>\n",
       "      <th>education_id</th>\n",
       "      <th>family_status</th>\n",
       "      <th>family_status_id</th>\n",
       "      <th>gender</th>\n",
       "      <th>income_type</th>\n",
       "      <th>debt</th>\n",
       "      <th>total_income</th>\n",
       "      <th>purpose</th>\n",
       "    </tr>\n",
       "  </thead>\n",
       "  <tbody>\n",
       "    <tr>\n",
       "      <th>0</th>\n",
       "      <td>1</td>\n",
       "      <td>8437</td>\n",
       "      <td>42</td>\n",
       "      <td>высшее</td>\n",
       "      <td>0</td>\n",
       "      <td>женат / замужем</td>\n",
       "      <td>0</td>\n",
       "      <td>F</td>\n",
       "      <td>сотрудник</td>\n",
       "      <td>0</td>\n",
       "      <td>253875</td>\n",
       "      <td>покупка жилья</td>\n",
       "    </tr>\n",
       "    <tr>\n",
       "      <th>1</th>\n",
       "      <td>1</td>\n",
       "      <td>4024</td>\n",
       "      <td>36</td>\n",
       "      <td>среднее</td>\n",
       "      <td>1</td>\n",
       "      <td>женат / замужем</td>\n",
       "      <td>0</td>\n",
       "      <td>F</td>\n",
       "      <td>сотрудник</td>\n",
       "      <td>0</td>\n",
       "      <td>112080</td>\n",
       "      <td>приобретение автомобиля</td>\n",
       "    </tr>\n",
       "    <tr>\n",
       "      <th>2</th>\n",
       "      <td>0</td>\n",
       "      <td>5623</td>\n",
       "      <td>33</td>\n",
       "      <td>среднее</td>\n",
       "      <td>1</td>\n",
       "      <td>женат / замужем</td>\n",
       "      <td>0</td>\n",
       "      <td>M</td>\n",
       "      <td>сотрудник</td>\n",
       "      <td>0</td>\n",
       "      <td>145885</td>\n",
       "      <td>покупка жилья</td>\n",
       "    </tr>\n",
       "    <tr>\n",
       "      <th>3</th>\n",
       "      <td>3</td>\n",
       "      <td>4124</td>\n",
       "      <td>32</td>\n",
       "      <td>среднее</td>\n",
       "      <td>1</td>\n",
       "      <td>женат / замужем</td>\n",
       "      <td>0</td>\n",
       "      <td>M</td>\n",
       "      <td>сотрудник</td>\n",
       "      <td>0</td>\n",
       "      <td>267628</td>\n",
       "      <td>дополнительное образование</td>\n",
       "    </tr>\n",
       "    <tr>\n",
       "      <th>4</th>\n",
       "      <td>0</td>\n",
       "      <td>14177</td>\n",
       "      <td>53</td>\n",
       "      <td>среднее</td>\n",
       "      <td>1</td>\n",
       "      <td>гражданский брак</td>\n",
       "      <td>1</td>\n",
       "      <td>F</td>\n",
       "      <td>пенсионер</td>\n",
       "      <td>0</td>\n",
       "      <td>158616</td>\n",
       "      <td>сыграть свадьбу</td>\n",
       "    </tr>\n",
       "    <tr>\n",
       "      <th>5</th>\n",
       "      <td>0</td>\n",
       "      <td>926</td>\n",
       "      <td>27</td>\n",
       "      <td>высшее</td>\n",
       "      <td>0</td>\n",
       "      <td>гражданский брак</td>\n",
       "      <td>1</td>\n",
       "      <td>M</td>\n",
       "      <td>компаньон</td>\n",
       "      <td>0</td>\n",
       "      <td>255763</td>\n",
       "      <td>покупка жилья</td>\n",
       "    </tr>\n",
       "    <tr>\n",
       "      <th>6</th>\n",
       "      <td>0</td>\n",
       "      <td>2879</td>\n",
       "      <td>43</td>\n",
       "      <td>высшее</td>\n",
       "      <td>0</td>\n",
       "      <td>женат / замужем</td>\n",
       "      <td>0</td>\n",
       "      <td>F</td>\n",
       "      <td>компаньон</td>\n",
       "      <td>0</td>\n",
       "      <td>240525</td>\n",
       "      <td>операции с жильем</td>\n",
       "    </tr>\n",
       "    <tr>\n",
       "      <th>7</th>\n",
       "      <td>0</td>\n",
       "      <td>152</td>\n",
       "      <td>50</td>\n",
       "      <td>среднее</td>\n",
       "      <td>1</td>\n",
       "      <td>женат / замужем</td>\n",
       "      <td>0</td>\n",
       "      <td>M</td>\n",
       "      <td>сотрудник</td>\n",
       "      <td>0</td>\n",
       "      <td>135823</td>\n",
       "      <td>образование</td>\n",
       "    </tr>\n",
       "    <tr>\n",
       "      <th>8</th>\n",
       "      <td>2</td>\n",
       "      <td>6929</td>\n",
       "      <td>35</td>\n",
       "      <td>высшее</td>\n",
       "      <td>0</td>\n",
       "      <td>гражданский брак</td>\n",
       "      <td>1</td>\n",
       "      <td>F</td>\n",
       "      <td>сотрудник</td>\n",
       "      <td>0</td>\n",
       "      <td>95856</td>\n",
       "      <td>на проведение свадьбы</td>\n",
       "    </tr>\n",
       "    <tr>\n",
       "      <th>9</th>\n",
       "      <td>0</td>\n",
       "      <td>2188</td>\n",
       "      <td>41</td>\n",
       "      <td>среднее</td>\n",
       "      <td>1</td>\n",
       "      <td>женат / замужем</td>\n",
       "      <td>0</td>\n",
       "      <td>M</td>\n",
       "      <td>сотрудник</td>\n",
       "      <td>0</td>\n",
       "      <td>144425</td>\n",
       "      <td>покупка жилья для семьи</td>\n",
       "    </tr>\n",
       "  </tbody>\n",
       "</table>\n",
       "</div>"
      ],
      "text/plain": [
       "   children  days_employed  dob_years education  education_id  \\\n",
       "0         1           8437         42    высшее             0   \n",
       "1         1           4024         36   среднее             1   \n",
       "2         0           5623         33   среднее             1   \n",
       "3         3           4124         32   среднее             1   \n",
       "4         0          14177         53   среднее             1   \n",
       "5         0            926         27    высшее             0   \n",
       "6         0           2879         43    высшее             0   \n",
       "7         0            152         50   среднее             1   \n",
       "8         2           6929         35    высшее             0   \n",
       "9         0           2188         41   среднее             1   \n",
       "\n",
       "      family_status  family_status_id gender income_type  debt  total_income  \\\n",
       "0   женат / замужем                 0      F   сотрудник     0        253875   \n",
       "1   женат / замужем                 0      F   сотрудник     0        112080   \n",
       "2   женат / замужем                 0      M   сотрудник     0        145885   \n",
       "3   женат / замужем                 0      M   сотрудник     0        267628   \n",
       "4  гражданский брак                 1      F   пенсионер     0        158616   \n",
       "5  гражданский брак                 1      M   компаньон     0        255763   \n",
       "6   женат / замужем                 0      F   компаньон     0        240525   \n",
       "7   женат / замужем                 0      M   сотрудник     0        135823   \n",
       "8  гражданский брак                 1      F   сотрудник     0         95856   \n",
       "9   женат / замужем                 0      M   сотрудник     0        144425   \n",
       "\n",
       "                      purpose  \n",
       "0               покупка жилья  \n",
       "1     приобретение автомобиля  \n",
       "2               покупка жилья  \n",
       "3  дополнительное образование  \n",
       "4             сыграть свадьбу  \n",
       "5               покупка жилья  \n",
       "6           операции с жильем  \n",
       "7                 образование  \n",
       "8       на проведение свадьбы  \n",
       "9     покупка жилья для семьи  "
      ]
     },
     "execution_count": 35,
     "metadata": {},
     "output_type": "execute_result"
    }
   ],
   "source": [
    "# выведем первые 10 строк таблицы\n",
    "bank.head(10)"
   ]
  },
  {
   "cell_type": "markdown",
   "metadata": {},
   "source": [
    "**Вывод**"
   ]
  },
  {
   "cell_type": "markdown",
   "metadata": {},
   "source": [
    "* в трёх столбах произвели замену вещественных чисел на целые, с помощью метода astype(), указав аргумент ('int')"
   ]
  },
  {
   "cell_type": "markdown",
   "metadata": {},
   "source": [
    "### Обработка дубликатов"
   ]
  },
  {
   "cell_type": "markdown",
   "metadata": {},
   "source": [
    "Проверим таблицу на наличие дубликатов. Применим метод duplicated(). В сочетании с методом sum() он возвращает количество дубликатов. К нижнему регистру значения в столбце 'education' были прведены ранее."
   ]
  },
  {
   "cell_type": "code",
   "execution_count": 36,
   "metadata": {},
   "outputs": [
    {
     "data": {
      "text/plain": [
       "71"
      ]
     },
     "execution_count": 36,
     "metadata": {},
     "output_type": "execute_result"
    }
   ],
   "source": [
    "bank.duplicated().sum()"
   ]
  },
  {
   "cell_type": "markdown",
   "metadata": {},
   "source": [
    "В таблице 71 дубликат. Посмотрим на них. Применяя метод duplicated() мы получили Series с логическими значениями — теперь запросим из исходной таблицы строки, которым соответствует True в этом Series. Выведем на экран первые несколько строк с результатами:"
   ]
  },
  {
   "cell_type": "code",
   "execution_count": 37,
   "metadata": {},
   "outputs": [],
   "source": [
    "# создадим таблицу из дубликатов\n",
    "duplicated_bank = bank[bank.duplicated()]"
   ]
  },
  {
   "cell_type": "code",
   "execution_count": 38,
   "metadata": {},
   "outputs": [
    {
     "data": {
      "text/html": [
       "<div>\n",
       "<style scoped>\n",
       "    .dataframe tbody tr th:only-of-type {\n",
       "        vertical-align: middle;\n",
       "    }\n",
       "\n",
       "    .dataframe tbody tr th {\n",
       "        vertical-align: top;\n",
       "    }\n",
       "\n",
       "    .dataframe thead th {\n",
       "        text-align: right;\n",
       "    }\n",
       "</style>\n",
       "<table border=\"1\" class=\"dataframe\">\n",
       "  <thead>\n",
       "    <tr style=\"text-align: right;\">\n",
       "      <th></th>\n",
       "      <th>children</th>\n",
       "      <th>days_employed</th>\n",
       "      <th>dob_years</th>\n",
       "      <th>education</th>\n",
       "      <th>education_id</th>\n",
       "      <th>family_status</th>\n",
       "      <th>family_status_id</th>\n",
       "      <th>gender</th>\n",
       "      <th>income_type</th>\n",
       "      <th>debt</th>\n",
       "      <th>total_income</th>\n",
       "      <th>purpose</th>\n",
       "    </tr>\n",
       "  </thead>\n",
       "  <tbody>\n",
       "    <tr>\n",
       "      <th>2849</th>\n",
       "      <td>0</td>\n",
       "      <td>1574</td>\n",
       "      <td>41</td>\n",
       "      <td>среднее</td>\n",
       "      <td>1</td>\n",
       "      <td>женат / замужем</td>\n",
       "      <td>0</td>\n",
       "      <td>F</td>\n",
       "      <td>сотрудник</td>\n",
       "      <td>0</td>\n",
       "      <td>142594</td>\n",
       "      <td>покупка жилья для семьи</td>\n",
       "    </tr>\n",
       "    <tr>\n",
       "      <th>3290</th>\n",
       "      <td>0</td>\n",
       "      <td>15217</td>\n",
       "      <td>58</td>\n",
       "      <td>среднее</td>\n",
       "      <td>1</td>\n",
       "      <td>гражданский брак</td>\n",
       "      <td>1</td>\n",
       "      <td>F</td>\n",
       "      <td>пенсионер</td>\n",
       "      <td>0</td>\n",
       "      <td>118514</td>\n",
       "      <td>сыграть свадьбу</td>\n",
       "    </tr>\n",
       "    <tr>\n",
       "      <th>4182</th>\n",
       "      <td>1</td>\n",
       "      <td>1574</td>\n",
       "      <td>34</td>\n",
       "      <td>высшее</td>\n",
       "      <td>0</td>\n",
       "      <td>гражданский брак</td>\n",
       "      <td>1</td>\n",
       "      <td>F</td>\n",
       "      <td>сотрудник</td>\n",
       "      <td>0</td>\n",
       "      <td>142594</td>\n",
       "      <td>свадьба</td>\n",
       "    </tr>\n",
       "    <tr>\n",
       "      <th>4851</th>\n",
       "      <td>0</td>\n",
       "      <td>15217</td>\n",
       "      <td>60</td>\n",
       "      <td>среднее</td>\n",
       "      <td>1</td>\n",
       "      <td>гражданский брак</td>\n",
       "      <td>1</td>\n",
       "      <td>F</td>\n",
       "      <td>пенсионер</td>\n",
       "      <td>0</td>\n",
       "      <td>118514</td>\n",
       "      <td>свадьба</td>\n",
       "    </tr>\n",
       "    <tr>\n",
       "      <th>5557</th>\n",
       "      <td>0</td>\n",
       "      <td>15217</td>\n",
       "      <td>58</td>\n",
       "      <td>среднее</td>\n",
       "      <td>1</td>\n",
       "      <td>гражданский брак</td>\n",
       "      <td>1</td>\n",
       "      <td>F</td>\n",
       "      <td>пенсионер</td>\n",
       "      <td>0</td>\n",
       "      <td>118514</td>\n",
       "      <td>сыграть свадьбу</td>\n",
       "    </tr>\n",
       "    <tr>\n",
       "      <th>...</th>\n",
       "      <td>...</td>\n",
       "      <td>...</td>\n",
       "      <td>...</td>\n",
       "      <td>...</td>\n",
       "      <td>...</td>\n",
       "      <td>...</td>\n",
       "      <td>...</td>\n",
       "      <td>...</td>\n",
       "      <td>...</td>\n",
       "      <td>...</td>\n",
       "      <td>...</td>\n",
       "      <td>...</td>\n",
       "    </tr>\n",
       "    <tr>\n",
       "      <th>20702</th>\n",
       "      <td>0</td>\n",
       "      <td>15217</td>\n",
       "      <td>64</td>\n",
       "      <td>среднее</td>\n",
       "      <td>1</td>\n",
       "      <td>женат / замужем</td>\n",
       "      <td>0</td>\n",
       "      <td>F</td>\n",
       "      <td>пенсионер</td>\n",
       "      <td>0</td>\n",
       "      <td>118514</td>\n",
       "      <td>дополнительное образование</td>\n",
       "    </tr>\n",
       "    <tr>\n",
       "      <th>21032</th>\n",
       "      <td>0</td>\n",
       "      <td>15217</td>\n",
       "      <td>60</td>\n",
       "      <td>среднее</td>\n",
       "      <td>1</td>\n",
       "      <td>женат / замужем</td>\n",
       "      <td>0</td>\n",
       "      <td>F</td>\n",
       "      <td>пенсионер</td>\n",
       "      <td>0</td>\n",
       "      <td>118514</td>\n",
       "      <td>заняться образованием</td>\n",
       "    </tr>\n",
       "    <tr>\n",
       "      <th>21132</th>\n",
       "      <td>0</td>\n",
       "      <td>1574</td>\n",
       "      <td>47</td>\n",
       "      <td>среднее</td>\n",
       "      <td>1</td>\n",
       "      <td>женат / замужем</td>\n",
       "      <td>0</td>\n",
       "      <td>F</td>\n",
       "      <td>сотрудник</td>\n",
       "      <td>0</td>\n",
       "      <td>142594</td>\n",
       "      <td>ремонт жилью</td>\n",
       "    </tr>\n",
       "    <tr>\n",
       "      <th>21281</th>\n",
       "      <td>1</td>\n",
       "      <td>1574</td>\n",
       "      <td>30</td>\n",
       "      <td>высшее</td>\n",
       "      <td>0</td>\n",
       "      <td>женат / замужем</td>\n",
       "      <td>0</td>\n",
       "      <td>F</td>\n",
       "      <td>сотрудник</td>\n",
       "      <td>0</td>\n",
       "      <td>142594</td>\n",
       "      <td>покупка коммерческой недвижимости</td>\n",
       "    </tr>\n",
       "    <tr>\n",
       "      <th>21415</th>\n",
       "      <td>0</td>\n",
       "      <td>15217</td>\n",
       "      <td>54</td>\n",
       "      <td>среднее</td>\n",
       "      <td>1</td>\n",
       "      <td>женат / замужем</td>\n",
       "      <td>0</td>\n",
       "      <td>F</td>\n",
       "      <td>пенсионер</td>\n",
       "      <td>0</td>\n",
       "      <td>118514</td>\n",
       "      <td>операции с жильем</td>\n",
       "    </tr>\n",
       "  </tbody>\n",
       "</table>\n",
       "<p>71 rows × 12 columns</p>\n",
       "</div>"
      ],
      "text/plain": [
       "       children  days_employed  dob_years education  education_id  \\\n",
       "2849          0           1574         41   среднее             1   \n",
       "3290          0          15217         58   среднее             1   \n",
       "4182          1           1574         34    высшее             0   \n",
       "4851          0          15217         60   среднее             1   \n",
       "5557          0          15217         58   среднее             1   \n",
       "...         ...            ...        ...       ...           ...   \n",
       "20702         0          15217         64   среднее             1   \n",
       "21032         0          15217         60   среднее             1   \n",
       "21132         0           1574         47   среднее             1   \n",
       "21281         1           1574         30    высшее             0   \n",
       "21415         0          15217         54   среднее             1   \n",
       "\n",
       "          family_status  family_status_id gender income_type  debt  \\\n",
       "2849    женат / замужем                 0      F   сотрудник     0   \n",
       "3290   гражданский брак                 1      F   пенсионер     0   \n",
       "4182   гражданский брак                 1      F   сотрудник     0   \n",
       "4851   гражданский брак                 1      F   пенсионер     0   \n",
       "5557   гражданский брак                 1      F   пенсионер     0   \n",
       "...                 ...               ...    ...         ...   ...   \n",
       "20702   женат / замужем                 0      F   пенсионер     0   \n",
       "21032   женат / замужем                 0      F   пенсионер     0   \n",
       "21132   женат / замужем                 0      F   сотрудник     0   \n",
       "21281   женат / замужем                 0      F   сотрудник     0   \n",
       "21415   женат / замужем                 0      F   пенсионер     0   \n",
       "\n",
       "       total_income                            purpose  \n",
       "2849         142594            покупка жилья для семьи  \n",
       "3290         118514                    сыграть свадьбу  \n",
       "4182         142594                            свадьба  \n",
       "4851         118514                            свадьба  \n",
       "5557         118514                    сыграть свадьбу  \n",
       "...             ...                                ...  \n",
       "20702        118514         дополнительное образование  \n",
       "21032        118514              заняться образованием  \n",
       "21132        142594                       ремонт жилью  \n",
       "21281        142594  покупка коммерческой недвижимости  \n",
       "21415        118514                  операции с жильем  \n",
       "\n",
       "[71 rows x 12 columns]"
      ]
     },
     "metadata": {},
     "output_type": "display_data"
    }
   ],
   "source": [
    "# выведем значения на экран\n",
    "display(duplicated_bank)"
   ]
  },
  {
   "cell_type": "markdown",
   "metadata": {},
   "source": [
    "Возможной причиной появления дубликатов является человеческий фатор. Предположу, что при формировании таблицы, данные некоторых клиентов могли случайно по нескольку раз добавить.\n",
    "Удалим дубликаты при помощи метода drop_duplicates(). Чтобы обновить индексацию после удаления дубликатов, применим метод reset_index(), дадим ему аргумент drop=True, чтобы не создавать новую колонку индексов."
   ]
  },
  {
   "cell_type": "code",
   "execution_count": 39,
   "metadata": {},
   "outputs": [],
   "source": [
    "# удалим дубликаты и обновим индексацию данных\n",
    "bank = bank.drop_duplicates().reset_index(drop=True) "
   ]
  },
  {
   "cell_type": "code",
   "execution_count": 40,
   "metadata": {},
   "outputs": [
    {
     "name": "stdout",
     "output_type": "stream",
     "text": [
      "<class 'pandas.core.frame.DataFrame'>\n",
      "RangeIndex: 21352 entries, 0 to 21351\n",
      "Data columns (total 12 columns):\n",
      " #   Column            Non-Null Count  Dtype \n",
      "---  ------            --------------  ----- \n",
      " 0   children          21352 non-null  int64 \n",
      " 1   days_employed     21352 non-null  int64 \n",
      " 2   dob_years         21352 non-null  int64 \n",
      " 3   education         21352 non-null  object\n",
      " 4   education_id      21352 non-null  int64 \n",
      " 5   family_status     21352 non-null  object\n",
      " 6   family_status_id  21352 non-null  int64 \n",
      " 7   gender            21352 non-null  object\n",
      " 8   income_type       21352 non-null  object\n",
      " 9   debt              21352 non-null  int64 \n",
      " 10  total_income      21352 non-null  int64 \n",
      " 11  purpose           21352 non-null  object\n",
      "dtypes: int64(7), object(5)\n",
      "memory usage: 2.0+ MB\n"
     ]
    }
   ],
   "source": [
    "# посмотрим информацию о таблице\n",
    "bank.info()"
   ]
  },
  {
   "cell_type": "markdown",
   "metadata": {},
   "source": [
    "**Вывод**"
   ]
  },
  {
   "cell_type": "markdown",
   "metadata": {},
   "source": [
    "* применив метод duplicated() в сочетании с методом sum(), обнаружили и сосчитали дубликаты в таблице\n",
    "* удалили дубликаты методом drop_duplicates() и обновили индексацию методом reset_index"
   ]
  },
  {
   "cell_type": "markdown",
   "metadata": {},
   "source": [
    "\n",
    "###  Лемматизация"
   ]
  },
  {
   "cell_type": "markdown",
   "metadata": {},
   "source": [
    "Чтобы ответить на вопрос, как разные цели кредита влияют на его возврат в срок, применим процесс приведения слов в столбце 'purpose' к их словарной форме (лемматизация). Для этого импортируем библиотеку pymystem3. Применим метод join(), и посчитаем частоту упоминаний слов в стобце при помощи счётчика Counter, импортированного из модуля collections."
   ]
  },
  {
   "cell_type": "code",
   "execution_count": 41,
   "metadata": {},
   "outputs": [
    {
     "data": {
      "text/plain": [
       "Counter({'покупка': 5869,\n",
       "         ' ': 54785,\n",
       "         'жилье': 4436,\n",
       "         'приобретение': 459,\n",
       "         'автомобиль': 4284,\n",
       "         'дополнительный': 902,\n",
       "         'образование': 3995,\n",
       "         'сыграть': 760,\n",
       "         'свадьба': 2310,\n",
       "         'операция': 2593,\n",
       "         'с': 2904,\n",
       "         'на': 2210,\n",
       "         'проведение': 764,\n",
       "         'для': 1286,\n",
       "         'семья': 637,\n",
       "         'недвижимость': 6327,\n",
       "         'коммерческий': 1306,\n",
       "         'жилой': 1224,\n",
       "         'строительство': 1873,\n",
       "         'собственный': 633,\n",
       "         'подержать': 849,\n",
       "         'свой': 2223,\n",
       "         'со': 627,\n",
       "         'заниматься': 900,\n",
       "         'сделка': 938,\n",
       "         'получение': 1309,\n",
       "         'высокий': 1366,\n",
       "         'подержанный': 113,\n",
       "         'профильный': 435,\n",
       "         'сдача': 649,\n",
       "         'ремонт': 605,\n",
       "         '\\n': 1})"
      ]
     },
     "metadata": {},
     "output_type": "display_data"
    }
   ],
   "source": [
    "# 'склеим' слова в столбце 'purpose' методом join() и посчитаем леммы\n",
    "m = Mystem()\n",
    "text = ' '.join(bank['purpose'])\n",
    "lemmas = m.lemmatize(text)\n",
    "display(Counter(lemmas))         "
   ]
  },
  {
   "cell_type": "markdown",
   "metadata": {},
   "source": [
    "Из полученных результатов выделим 4 основные цели для получения кредита: жильё или недвижимость, автомобиль, свадьба, образование. Напишем функцию purpose_replacemente, которая будет возвращать соотвествующие значения из столбца 'purpose' в новый столбец 'purpose_category'"
   ]
  },
  {
   "cell_type": "code",
   "execution_count": 42,
   "metadata": {},
   "outputs": [
    {
     "data": {
      "text/plain": [
       "недвижимость    10763\n",
       "автомобиль       4284\n",
       "образование      3995\n",
       "свадьба          2310\n",
       "Name: purpose_category, dtype: int64"
      ]
     },
     "execution_count": 42,
     "metadata": {},
     "output_type": "execute_result"
    }
   ],
   "source": [
    "# пишем функцию purpose_replacemente, которая будет возвращать соотвествующие значения из столбца 'purpose' \n",
    "# в новый столбец 'purpose_category'\n",
    "# добавим новый столбец в таблицу \n",
    "# смотрим на уникальные значения нового столбца и сосчитаем их\n",
    "def purpose_replacemente(purpose):\n",
    "    if 'недвиж' in purpose or 'жиль' in purpose:\n",
    "        return 'недвижимость'\n",
    "    elif 'авто' in purpose:\n",
    "        return 'автомобиль'\n",
    "    elif 'свадьб' in purpose:\n",
    "        return 'свадьба'\n",
    "    else:\n",
    "        return 'образование'\n",
    "bank['purpose_category'] = bank['purpose'].apply(purpose_replacemente)\n",
    "bank['purpose_category'].value_counts()    \n"
   ]
  },
  {
   "cell_type": "markdown",
   "metadata": {},
   "source": [
    "Посмотрим на первые 10 строк обновленной таблицы"
   ]
  },
  {
   "cell_type": "code",
   "execution_count": 43,
   "metadata": {},
   "outputs": [
    {
     "data": {
      "text/html": [
       "<div>\n",
       "<style scoped>\n",
       "    .dataframe tbody tr th:only-of-type {\n",
       "        vertical-align: middle;\n",
       "    }\n",
       "\n",
       "    .dataframe tbody tr th {\n",
       "        vertical-align: top;\n",
       "    }\n",
       "\n",
       "    .dataframe thead th {\n",
       "        text-align: right;\n",
       "    }\n",
       "</style>\n",
       "<table border=\"1\" class=\"dataframe\">\n",
       "  <thead>\n",
       "    <tr style=\"text-align: right;\">\n",
       "      <th></th>\n",
       "      <th>children</th>\n",
       "      <th>days_employed</th>\n",
       "      <th>dob_years</th>\n",
       "      <th>education</th>\n",
       "      <th>education_id</th>\n",
       "      <th>family_status</th>\n",
       "      <th>family_status_id</th>\n",
       "      <th>gender</th>\n",
       "      <th>income_type</th>\n",
       "      <th>debt</th>\n",
       "      <th>total_income</th>\n",
       "      <th>purpose</th>\n",
       "      <th>purpose_category</th>\n",
       "    </tr>\n",
       "  </thead>\n",
       "  <tbody>\n",
       "    <tr>\n",
       "      <th>0</th>\n",
       "      <td>1</td>\n",
       "      <td>8437</td>\n",
       "      <td>42</td>\n",
       "      <td>высшее</td>\n",
       "      <td>0</td>\n",
       "      <td>женат / замужем</td>\n",
       "      <td>0</td>\n",
       "      <td>F</td>\n",
       "      <td>сотрудник</td>\n",
       "      <td>0</td>\n",
       "      <td>253875</td>\n",
       "      <td>покупка жилья</td>\n",
       "      <td>недвижимость</td>\n",
       "    </tr>\n",
       "    <tr>\n",
       "      <th>1</th>\n",
       "      <td>1</td>\n",
       "      <td>4024</td>\n",
       "      <td>36</td>\n",
       "      <td>среднее</td>\n",
       "      <td>1</td>\n",
       "      <td>женат / замужем</td>\n",
       "      <td>0</td>\n",
       "      <td>F</td>\n",
       "      <td>сотрудник</td>\n",
       "      <td>0</td>\n",
       "      <td>112080</td>\n",
       "      <td>приобретение автомобиля</td>\n",
       "      <td>автомобиль</td>\n",
       "    </tr>\n",
       "    <tr>\n",
       "      <th>2</th>\n",
       "      <td>0</td>\n",
       "      <td>5623</td>\n",
       "      <td>33</td>\n",
       "      <td>среднее</td>\n",
       "      <td>1</td>\n",
       "      <td>женат / замужем</td>\n",
       "      <td>0</td>\n",
       "      <td>M</td>\n",
       "      <td>сотрудник</td>\n",
       "      <td>0</td>\n",
       "      <td>145885</td>\n",
       "      <td>покупка жилья</td>\n",
       "      <td>недвижимость</td>\n",
       "    </tr>\n",
       "    <tr>\n",
       "      <th>3</th>\n",
       "      <td>3</td>\n",
       "      <td>4124</td>\n",
       "      <td>32</td>\n",
       "      <td>среднее</td>\n",
       "      <td>1</td>\n",
       "      <td>женат / замужем</td>\n",
       "      <td>0</td>\n",
       "      <td>M</td>\n",
       "      <td>сотрудник</td>\n",
       "      <td>0</td>\n",
       "      <td>267628</td>\n",
       "      <td>дополнительное образование</td>\n",
       "      <td>образование</td>\n",
       "    </tr>\n",
       "    <tr>\n",
       "      <th>4</th>\n",
       "      <td>0</td>\n",
       "      <td>14177</td>\n",
       "      <td>53</td>\n",
       "      <td>среднее</td>\n",
       "      <td>1</td>\n",
       "      <td>гражданский брак</td>\n",
       "      <td>1</td>\n",
       "      <td>F</td>\n",
       "      <td>пенсионер</td>\n",
       "      <td>0</td>\n",
       "      <td>158616</td>\n",
       "      <td>сыграть свадьбу</td>\n",
       "      <td>свадьба</td>\n",
       "    </tr>\n",
       "    <tr>\n",
       "      <th>5</th>\n",
       "      <td>0</td>\n",
       "      <td>926</td>\n",
       "      <td>27</td>\n",
       "      <td>высшее</td>\n",
       "      <td>0</td>\n",
       "      <td>гражданский брак</td>\n",
       "      <td>1</td>\n",
       "      <td>M</td>\n",
       "      <td>компаньон</td>\n",
       "      <td>0</td>\n",
       "      <td>255763</td>\n",
       "      <td>покупка жилья</td>\n",
       "      <td>недвижимость</td>\n",
       "    </tr>\n",
       "    <tr>\n",
       "      <th>6</th>\n",
       "      <td>0</td>\n",
       "      <td>2879</td>\n",
       "      <td>43</td>\n",
       "      <td>высшее</td>\n",
       "      <td>0</td>\n",
       "      <td>женат / замужем</td>\n",
       "      <td>0</td>\n",
       "      <td>F</td>\n",
       "      <td>компаньон</td>\n",
       "      <td>0</td>\n",
       "      <td>240525</td>\n",
       "      <td>операции с жильем</td>\n",
       "      <td>недвижимость</td>\n",
       "    </tr>\n",
       "    <tr>\n",
       "      <th>7</th>\n",
       "      <td>0</td>\n",
       "      <td>152</td>\n",
       "      <td>50</td>\n",
       "      <td>среднее</td>\n",
       "      <td>1</td>\n",
       "      <td>женат / замужем</td>\n",
       "      <td>0</td>\n",
       "      <td>M</td>\n",
       "      <td>сотрудник</td>\n",
       "      <td>0</td>\n",
       "      <td>135823</td>\n",
       "      <td>образование</td>\n",
       "      <td>образование</td>\n",
       "    </tr>\n",
       "    <tr>\n",
       "      <th>8</th>\n",
       "      <td>2</td>\n",
       "      <td>6929</td>\n",
       "      <td>35</td>\n",
       "      <td>высшее</td>\n",
       "      <td>0</td>\n",
       "      <td>гражданский брак</td>\n",
       "      <td>1</td>\n",
       "      <td>F</td>\n",
       "      <td>сотрудник</td>\n",
       "      <td>0</td>\n",
       "      <td>95856</td>\n",
       "      <td>на проведение свадьбы</td>\n",
       "      <td>свадьба</td>\n",
       "    </tr>\n",
       "    <tr>\n",
       "      <th>9</th>\n",
       "      <td>0</td>\n",
       "      <td>2188</td>\n",
       "      <td>41</td>\n",
       "      <td>среднее</td>\n",
       "      <td>1</td>\n",
       "      <td>женат / замужем</td>\n",
       "      <td>0</td>\n",
       "      <td>M</td>\n",
       "      <td>сотрудник</td>\n",
       "      <td>0</td>\n",
       "      <td>144425</td>\n",
       "      <td>покупка жилья для семьи</td>\n",
       "      <td>недвижимость</td>\n",
       "    </tr>\n",
       "  </tbody>\n",
       "</table>\n",
       "</div>"
      ],
      "text/plain": [
       "   children  days_employed  dob_years education  education_id  \\\n",
       "0         1           8437         42    высшее             0   \n",
       "1         1           4024         36   среднее             1   \n",
       "2         0           5623         33   среднее             1   \n",
       "3         3           4124         32   среднее             1   \n",
       "4         0          14177         53   среднее             1   \n",
       "5         0            926         27    высшее             0   \n",
       "6         0           2879         43    высшее             0   \n",
       "7         0            152         50   среднее             1   \n",
       "8         2           6929         35    высшее             0   \n",
       "9         0           2188         41   среднее             1   \n",
       "\n",
       "      family_status  family_status_id gender income_type  debt  total_income  \\\n",
       "0   женат / замужем                 0      F   сотрудник     0        253875   \n",
       "1   женат / замужем                 0      F   сотрудник     0        112080   \n",
       "2   женат / замужем                 0      M   сотрудник     0        145885   \n",
       "3   женат / замужем                 0      M   сотрудник     0        267628   \n",
       "4  гражданский брак                 1      F   пенсионер     0        158616   \n",
       "5  гражданский брак                 1      M   компаньон     0        255763   \n",
       "6   женат / замужем                 0      F   компаньон     0        240525   \n",
       "7   женат / замужем                 0      M   сотрудник     0        135823   \n",
       "8  гражданский брак                 1      F   сотрудник     0         95856   \n",
       "9   женат / замужем                 0      M   сотрудник     0        144425   \n",
       "\n",
       "                      purpose purpose_category  \n",
       "0               покупка жилья     недвижимость  \n",
       "1     приобретение автомобиля       автомобиль  \n",
       "2               покупка жилья     недвижимость  \n",
       "3  дополнительное образование      образование  \n",
       "4             сыграть свадьбу          свадьба  \n",
       "5               покупка жилья     недвижимость  \n",
       "6           операции с жильем     недвижимость  \n",
       "7                 образование      образование  \n",
       "8       на проведение свадьбы          свадьба  \n",
       "9     покупка жилья для семьи     недвижимость  "
      ]
     },
     "execution_count": 43,
     "metadata": {},
     "output_type": "execute_result"
    }
   ],
   "source": [
    "# выводим первые 10 строк таблицы\n",
    "bank.head(10)"
   ]
  },
  {
   "cell_type": "markdown",
   "metadata": {},
   "source": [
    "**Вывод**"
   ]
  },
  {
   "cell_type": "markdown",
   "metadata": {},
   "source": [
    "* произвели лемматизацию значений в столбце 'purpose' и посчитали частоту упоминаний слов\n",
    "* выделели 4 основные цели получения кредита\n",
    "* написали функцию, которая проходится по столбцу 'purpose' и возвращает одну из 4 основных целей в новый столбец"
   ]
  },
  {
   "cell_type": "markdown",
   "metadata": {},
   "source": [
    "### Категоризация данных"
   ]
  },
  {
   "cell_type": "markdown",
   "metadata": {},
   "source": [
    "Для ответа на 3 оставшихся вопроса применим категоризацию данных - объединению избранных данных в произвольные группы по заданному критерию. В нашем случае данными кретериями будут: наличие детей, семейное положение и уровень дохода."
   ]
  },
  {
   "cell_type": "markdown",
   "metadata": {},
   "source": [
    "Ранее выводили уникальные значения для столбца 'children'. Сгруппируем данные, чтобы численности каждой группы хватало для формулировки выводов. Нужна категоризация — объединение данных в категории. Распределим клиентов так: отдельно бездетные, отдельно 1-2 ребёнка в семье и остальных обозначим как многодетные. К многодетным семьям отнесёс семью с 3,4,5 детьми, так как по отдельности, каждая из этих категорий имеет малый вес в общем объеме данных. Запишем правила классификации клиентов как функции. На вход функции попадает количество детей в семье, а возвращает она категорию клиента.  "
   ]
  },
  {
   "cell_type": "code",
   "execution_count": 44,
   "metadata": {},
   "outputs": [
    {
     "data": {
      "text/html": [
       "<div>\n",
       "<style scoped>\n",
       "    .dataframe tbody tr th:only-of-type {\n",
       "        vertical-align: middle;\n",
       "    }\n",
       "\n",
       "    .dataframe tbody tr th {\n",
       "        vertical-align: top;\n",
       "    }\n",
       "\n",
       "    .dataframe thead th {\n",
       "        text-align: right;\n",
       "    }\n",
       "</style>\n",
       "<table border=\"1\" class=\"dataframe\">\n",
       "  <thead>\n",
       "    <tr style=\"text-align: right;\">\n",
       "      <th></th>\n",
       "      <th>children</th>\n",
       "      <th>days_employed</th>\n",
       "      <th>dob_years</th>\n",
       "      <th>education</th>\n",
       "      <th>education_id</th>\n",
       "      <th>family_status</th>\n",
       "      <th>family_status_id</th>\n",
       "      <th>gender</th>\n",
       "      <th>income_type</th>\n",
       "      <th>debt</th>\n",
       "      <th>total_income</th>\n",
       "      <th>purpose</th>\n",
       "      <th>purpose_category</th>\n",
       "      <th>children_category</th>\n",
       "    </tr>\n",
       "  </thead>\n",
       "  <tbody>\n",
       "    <tr>\n",
       "      <th>0</th>\n",
       "      <td>1</td>\n",
       "      <td>8437</td>\n",
       "      <td>42</td>\n",
       "      <td>высшее</td>\n",
       "      <td>0</td>\n",
       "      <td>женат / замужем</td>\n",
       "      <td>0</td>\n",
       "      <td>F</td>\n",
       "      <td>сотрудник</td>\n",
       "      <td>0</td>\n",
       "      <td>253875</td>\n",
       "      <td>покупка жилья</td>\n",
       "      <td>недвижимость</td>\n",
       "      <td>1-2 ребёнка</td>\n",
       "    </tr>\n",
       "    <tr>\n",
       "      <th>1</th>\n",
       "      <td>1</td>\n",
       "      <td>4024</td>\n",
       "      <td>36</td>\n",
       "      <td>среднее</td>\n",
       "      <td>1</td>\n",
       "      <td>женат / замужем</td>\n",
       "      <td>0</td>\n",
       "      <td>F</td>\n",
       "      <td>сотрудник</td>\n",
       "      <td>0</td>\n",
       "      <td>112080</td>\n",
       "      <td>приобретение автомобиля</td>\n",
       "      <td>автомобиль</td>\n",
       "      <td>1-2 ребёнка</td>\n",
       "    </tr>\n",
       "    <tr>\n",
       "      <th>2</th>\n",
       "      <td>0</td>\n",
       "      <td>5623</td>\n",
       "      <td>33</td>\n",
       "      <td>среднее</td>\n",
       "      <td>1</td>\n",
       "      <td>женат / замужем</td>\n",
       "      <td>0</td>\n",
       "      <td>M</td>\n",
       "      <td>сотрудник</td>\n",
       "      <td>0</td>\n",
       "      <td>145885</td>\n",
       "      <td>покупка жилья</td>\n",
       "      <td>недвижимость</td>\n",
       "      <td>бездетные</td>\n",
       "    </tr>\n",
       "    <tr>\n",
       "      <th>3</th>\n",
       "      <td>3</td>\n",
       "      <td>4124</td>\n",
       "      <td>32</td>\n",
       "      <td>среднее</td>\n",
       "      <td>1</td>\n",
       "      <td>женат / замужем</td>\n",
       "      <td>0</td>\n",
       "      <td>M</td>\n",
       "      <td>сотрудник</td>\n",
       "      <td>0</td>\n",
       "      <td>267628</td>\n",
       "      <td>дополнительное образование</td>\n",
       "      <td>образование</td>\n",
       "      <td>многодетные</td>\n",
       "    </tr>\n",
       "    <tr>\n",
       "      <th>4</th>\n",
       "      <td>0</td>\n",
       "      <td>14177</td>\n",
       "      <td>53</td>\n",
       "      <td>среднее</td>\n",
       "      <td>1</td>\n",
       "      <td>гражданский брак</td>\n",
       "      <td>1</td>\n",
       "      <td>F</td>\n",
       "      <td>пенсионер</td>\n",
       "      <td>0</td>\n",
       "      <td>158616</td>\n",
       "      <td>сыграть свадьбу</td>\n",
       "      <td>свадьба</td>\n",
       "      <td>бездетные</td>\n",
       "    </tr>\n",
       "    <tr>\n",
       "      <th>5</th>\n",
       "      <td>0</td>\n",
       "      <td>926</td>\n",
       "      <td>27</td>\n",
       "      <td>высшее</td>\n",
       "      <td>0</td>\n",
       "      <td>гражданский брак</td>\n",
       "      <td>1</td>\n",
       "      <td>M</td>\n",
       "      <td>компаньон</td>\n",
       "      <td>0</td>\n",
       "      <td>255763</td>\n",
       "      <td>покупка жилья</td>\n",
       "      <td>недвижимость</td>\n",
       "      <td>бездетные</td>\n",
       "    </tr>\n",
       "    <tr>\n",
       "      <th>6</th>\n",
       "      <td>0</td>\n",
       "      <td>2879</td>\n",
       "      <td>43</td>\n",
       "      <td>высшее</td>\n",
       "      <td>0</td>\n",
       "      <td>женат / замужем</td>\n",
       "      <td>0</td>\n",
       "      <td>F</td>\n",
       "      <td>компаньон</td>\n",
       "      <td>0</td>\n",
       "      <td>240525</td>\n",
       "      <td>операции с жильем</td>\n",
       "      <td>недвижимость</td>\n",
       "      <td>бездетные</td>\n",
       "    </tr>\n",
       "    <tr>\n",
       "      <th>7</th>\n",
       "      <td>0</td>\n",
       "      <td>152</td>\n",
       "      <td>50</td>\n",
       "      <td>среднее</td>\n",
       "      <td>1</td>\n",
       "      <td>женат / замужем</td>\n",
       "      <td>0</td>\n",
       "      <td>M</td>\n",
       "      <td>сотрудник</td>\n",
       "      <td>0</td>\n",
       "      <td>135823</td>\n",
       "      <td>образование</td>\n",
       "      <td>образование</td>\n",
       "      <td>бездетные</td>\n",
       "    </tr>\n",
       "    <tr>\n",
       "      <th>8</th>\n",
       "      <td>2</td>\n",
       "      <td>6929</td>\n",
       "      <td>35</td>\n",
       "      <td>высшее</td>\n",
       "      <td>0</td>\n",
       "      <td>гражданский брак</td>\n",
       "      <td>1</td>\n",
       "      <td>F</td>\n",
       "      <td>сотрудник</td>\n",
       "      <td>0</td>\n",
       "      <td>95856</td>\n",
       "      <td>на проведение свадьбы</td>\n",
       "      <td>свадьба</td>\n",
       "      <td>1-2 ребёнка</td>\n",
       "    </tr>\n",
       "    <tr>\n",
       "      <th>9</th>\n",
       "      <td>0</td>\n",
       "      <td>2188</td>\n",
       "      <td>41</td>\n",
       "      <td>среднее</td>\n",
       "      <td>1</td>\n",
       "      <td>женат / замужем</td>\n",
       "      <td>0</td>\n",
       "      <td>M</td>\n",
       "      <td>сотрудник</td>\n",
       "      <td>0</td>\n",
       "      <td>144425</td>\n",
       "      <td>покупка жилья для семьи</td>\n",
       "      <td>недвижимость</td>\n",
       "      <td>бездетные</td>\n",
       "    </tr>\n",
       "  </tbody>\n",
       "</table>\n",
       "</div>"
      ],
      "text/plain": [
       "   children  days_employed  dob_years education  education_id  \\\n",
       "0         1           8437         42    высшее             0   \n",
       "1         1           4024         36   среднее             1   \n",
       "2         0           5623         33   среднее             1   \n",
       "3         3           4124         32   среднее             1   \n",
       "4         0          14177         53   среднее             1   \n",
       "5         0            926         27    высшее             0   \n",
       "6         0           2879         43    высшее             0   \n",
       "7         0            152         50   среднее             1   \n",
       "8         2           6929         35    высшее             0   \n",
       "9         0           2188         41   среднее             1   \n",
       "\n",
       "      family_status  family_status_id gender income_type  debt  total_income  \\\n",
       "0   женат / замужем                 0      F   сотрудник     0        253875   \n",
       "1   женат / замужем                 0      F   сотрудник     0        112080   \n",
       "2   женат / замужем                 0      M   сотрудник     0        145885   \n",
       "3   женат / замужем                 0      M   сотрудник     0        267628   \n",
       "4  гражданский брак                 1      F   пенсионер     0        158616   \n",
       "5  гражданский брак                 1      M   компаньон     0        255763   \n",
       "6   женат / замужем                 0      F   компаньон     0        240525   \n",
       "7   женат / замужем                 0      M   сотрудник     0        135823   \n",
       "8  гражданский брак                 1      F   сотрудник     0         95856   \n",
       "9   женат / замужем                 0      M   сотрудник     0        144425   \n",
       "\n",
       "                      purpose purpose_category children_category  \n",
       "0               покупка жилья     недвижимость       1-2 ребёнка  \n",
       "1     приобретение автомобиля       автомобиль       1-2 ребёнка  \n",
       "2               покупка жилья     недвижимость         бездетные  \n",
       "3  дополнительное образование      образование       многодетные  \n",
       "4             сыграть свадьбу          свадьба         бездетные  \n",
       "5               покупка жилья     недвижимость         бездетные  \n",
       "6           операции с жильем     недвижимость         бездетные  \n",
       "7                 образование      образование         бездетные  \n",
       "8       на проведение свадьбы          свадьба       1-2 ребёнка  \n",
       "9     покупка жилья для семьи     недвижимость         бездетные  "
      ]
     },
     "execution_count": 44,
     "metadata": {},
     "output_type": "execute_result"
    }
   ],
   "source": [
    "# Пишем функцию children_category.  На вход функции попадает количество детей в семье, \n",
    "# а возвращает она категорию клиента,  в соответсвии с условием:\n",
    "# - 'бездетные', если children =0;\n",
    "# - '1-2 ребёнка', если children от 1 до2;\n",
    "# - 'многодетные', если children >2.\n",
    "# Создаём отдельный столбец 'children_category' и в его ячейках записываем значения, возвращаемые функцией.\n",
    "# Применим метод apply(). Вызовем его для столбца children, так как в нём содержатся данные, которые функция примет на вход. \n",
    "# Аргументом метода станет сама функция children_category.  \n",
    "# Выведем на экран первые 10 строк таблицы\n",
    "def children_category(children):\n",
    "    if children == 0:\n",
    "        return 'бездетные'\n",
    "    if children > 0 and children <3:\n",
    "        return '1-2 ребёнка'\n",
    "    return 'многодетные' \n",
    "\n",
    "bank['children_category'] = bank['children'].apply(children_category)\n",
    "bank.head(10)"
   ]
  },
  {
   "cell_type": "markdown",
   "metadata": {},
   "source": [
    "Теперь проведём категоризацию данных по семейному положению. Выделим 4 категории: есть семья, нет семьи, в разводе, овдовел. В категорию 'нет семьи' отнесем значения: 'гражданский брак', 'Не женат / не замужем', поскольку клиент не может предоставить документы о регистрации брака, и соответственно банк, в случае просрочек платежей, не в праве предъявлять претензии гражданскому супругу. Напишем функцию family_category. На вход функции попадает семейное положение , а возвращает она категорию клиента."
   ]
  },
  {
   "cell_type": "code",
   "execution_count": 45,
   "metadata": {},
   "outputs": [
    {
     "data": {
      "text/html": [
       "<div>\n",
       "<style scoped>\n",
       "    .dataframe tbody tr th:only-of-type {\n",
       "        vertical-align: middle;\n",
       "    }\n",
       "\n",
       "    .dataframe tbody tr th {\n",
       "        vertical-align: top;\n",
       "    }\n",
       "\n",
       "    .dataframe thead th {\n",
       "        text-align: right;\n",
       "    }\n",
       "</style>\n",
       "<table border=\"1\" class=\"dataframe\">\n",
       "  <thead>\n",
       "    <tr style=\"text-align: right;\">\n",
       "      <th></th>\n",
       "      <th>children</th>\n",
       "      <th>days_employed</th>\n",
       "      <th>dob_years</th>\n",
       "      <th>education</th>\n",
       "      <th>education_id</th>\n",
       "      <th>family_status</th>\n",
       "      <th>family_status_id</th>\n",
       "      <th>gender</th>\n",
       "      <th>income_type</th>\n",
       "      <th>debt</th>\n",
       "      <th>total_income</th>\n",
       "      <th>purpose</th>\n",
       "      <th>purpose_category</th>\n",
       "      <th>children_category</th>\n",
       "      <th>family_category</th>\n",
       "    </tr>\n",
       "  </thead>\n",
       "  <tbody>\n",
       "    <tr>\n",
       "      <th>0</th>\n",
       "      <td>1</td>\n",
       "      <td>8437</td>\n",
       "      <td>42</td>\n",
       "      <td>высшее</td>\n",
       "      <td>0</td>\n",
       "      <td>женат / замужем</td>\n",
       "      <td>0</td>\n",
       "      <td>F</td>\n",
       "      <td>сотрудник</td>\n",
       "      <td>0</td>\n",
       "      <td>253875</td>\n",
       "      <td>покупка жилья</td>\n",
       "      <td>недвижимость</td>\n",
       "      <td>1-2 ребёнка</td>\n",
       "      <td>есть семья</td>\n",
       "    </tr>\n",
       "    <tr>\n",
       "      <th>1</th>\n",
       "      <td>1</td>\n",
       "      <td>4024</td>\n",
       "      <td>36</td>\n",
       "      <td>среднее</td>\n",
       "      <td>1</td>\n",
       "      <td>женат / замужем</td>\n",
       "      <td>0</td>\n",
       "      <td>F</td>\n",
       "      <td>сотрудник</td>\n",
       "      <td>0</td>\n",
       "      <td>112080</td>\n",
       "      <td>приобретение автомобиля</td>\n",
       "      <td>автомобиль</td>\n",
       "      <td>1-2 ребёнка</td>\n",
       "      <td>есть семья</td>\n",
       "    </tr>\n",
       "    <tr>\n",
       "      <th>2</th>\n",
       "      <td>0</td>\n",
       "      <td>5623</td>\n",
       "      <td>33</td>\n",
       "      <td>среднее</td>\n",
       "      <td>1</td>\n",
       "      <td>женат / замужем</td>\n",
       "      <td>0</td>\n",
       "      <td>M</td>\n",
       "      <td>сотрудник</td>\n",
       "      <td>0</td>\n",
       "      <td>145885</td>\n",
       "      <td>покупка жилья</td>\n",
       "      <td>недвижимость</td>\n",
       "      <td>бездетные</td>\n",
       "      <td>есть семья</td>\n",
       "    </tr>\n",
       "    <tr>\n",
       "      <th>3</th>\n",
       "      <td>3</td>\n",
       "      <td>4124</td>\n",
       "      <td>32</td>\n",
       "      <td>среднее</td>\n",
       "      <td>1</td>\n",
       "      <td>женат / замужем</td>\n",
       "      <td>0</td>\n",
       "      <td>M</td>\n",
       "      <td>сотрудник</td>\n",
       "      <td>0</td>\n",
       "      <td>267628</td>\n",
       "      <td>дополнительное образование</td>\n",
       "      <td>образование</td>\n",
       "      <td>многодетные</td>\n",
       "      <td>есть семья</td>\n",
       "    </tr>\n",
       "    <tr>\n",
       "      <th>4</th>\n",
       "      <td>0</td>\n",
       "      <td>14177</td>\n",
       "      <td>53</td>\n",
       "      <td>среднее</td>\n",
       "      <td>1</td>\n",
       "      <td>гражданский брак</td>\n",
       "      <td>1</td>\n",
       "      <td>F</td>\n",
       "      <td>пенсионер</td>\n",
       "      <td>0</td>\n",
       "      <td>158616</td>\n",
       "      <td>сыграть свадьбу</td>\n",
       "      <td>свадьба</td>\n",
       "      <td>бездетные</td>\n",
       "      <td>нет семьи</td>\n",
       "    </tr>\n",
       "    <tr>\n",
       "      <th>5</th>\n",
       "      <td>0</td>\n",
       "      <td>926</td>\n",
       "      <td>27</td>\n",
       "      <td>высшее</td>\n",
       "      <td>0</td>\n",
       "      <td>гражданский брак</td>\n",
       "      <td>1</td>\n",
       "      <td>M</td>\n",
       "      <td>компаньон</td>\n",
       "      <td>0</td>\n",
       "      <td>255763</td>\n",
       "      <td>покупка жилья</td>\n",
       "      <td>недвижимость</td>\n",
       "      <td>бездетные</td>\n",
       "      <td>нет семьи</td>\n",
       "    </tr>\n",
       "    <tr>\n",
       "      <th>6</th>\n",
       "      <td>0</td>\n",
       "      <td>2879</td>\n",
       "      <td>43</td>\n",
       "      <td>высшее</td>\n",
       "      <td>0</td>\n",
       "      <td>женат / замужем</td>\n",
       "      <td>0</td>\n",
       "      <td>F</td>\n",
       "      <td>компаньон</td>\n",
       "      <td>0</td>\n",
       "      <td>240525</td>\n",
       "      <td>операции с жильем</td>\n",
       "      <td>недвижимость</td>\n",
       "      <td>бездетные</td>\n",
       "      <td>есть семья</td>\n",
       "    </tr>\n",
       "    <tr>\n",
       "      <th>7</th>\n",
       "      <td>0</td>\n",
       "      <td>152</td>\n",
       "      <td>50</td>\n",
       "      <td>среднее</td>\n",
       "      <td>1</td>\n",
       "      <td>женат / замужем</td>\n",
       "      <td>0</td>\n",
       "      <td>M</td>\n",
       "      <td>сотрудник</td>\n",
       "      <td>0</td>\n",
       "      <td>135823</td>\n",
       "      <td>образование</td>\n",
       "      <td>образование</td>\n",
       "      <td>бездетные</td>\n",
       "      <td>есть семья</td>\n",
       "    </tr>\n",
       "    <tr>\n",
       "      <th>8</th>\n",
       "      <td>2</td>\n",
       "      <td>6929</td>\n",
       "      <td>35</td>\n",
       "      <td>высшее</td>\n",
       "      <td>0</td>\n",
       "      <td>гражданский брак</td>\n",
       "      <td>1</td>\n",
       "      <td>F</td>\n",
       "      <td>сотрудник</td>\n",
       "      <td>0</td>\n",
       "      <td>95856</td>\n",
       "      <td>на проведение свадьбы</td>\n",
       "      <td>свадьба</td>\n",
       "      <td>1-2 ребёнка</td>\n",
       "      <td>нет семьи</td>\n",
       "    </tr>\n",
       "    <tr>\n",
       "      <th>9</th>\n",
       "      <td>0</td>\n",
       "      <td>2188</td>\n",
       "      <td>41</td>\n",
       "      <td>среднее</td>\n",
       "      <td>1</td>\n",
       "      <td>женат / замужем</td>\n",
       "      <td>0</td>\n",
       "      <td>M</td>\n",
       "      <td>сотрудник</td>\n",
       "      <td>0</td>\n",
       "      <td>144425</td>\n",
       "      <td>покупка жилья для семьи</td>\n",
       "      <td>недвижимость</td>\n",
       "      <td>бездетные</td>\n",
       "      <td>есть семья</td>\n",
       "    </tr>\n",
       "  </tbody>\n",
       "</table>\n",
       "</div>"
      ],
      "text/plain": [
       "   children  days_employed  dob_years education  education_id  \\\n",
       "0         1           8437         42    высшее             0   \n",
       "1         1           4024         36   среднее             1   \n",
       "2         0           5623         33   среднее             1   \n",
       "3         3           4124         32   среднее             1   \n",
       "4         0          14177         53   среднее             1   \n",
       "5         0            926         27    высшее             0   \n",
       "6         0           2879         43    высшее             0   \n",
       "7         0            152         50   среднее             1   \n",
       "8         2           6929         35    высшее             0   \n",
       "9         0           2188         41   среднее             1   \n",
       "\n",
       "      family_status  family_status_id gender income_type  debt  total_income  \\\n",
       "0   женат / замужем                 0      F   сотрудник     0        253875   \n",
       "1   женат / замужем                 0      F   сотрудник     0        112080   \n",
       "2   женат / замужем                 0      M   сотрудник     0        145885   \n",
       "3   женат / замужем                 0      M   сотрудник     0        267628   \n",
       "4  гражданский брак                 1      F   пенсионер     0        158616   \n",
       "5  гражданский брак                 1      M   компаньон     0        255763   \n",
       "6   женат / замужем                 0      F   компаньон     0        240525   \n",
       "7   женат / замужем                 0      M   сотрудник     0        135823   \n",
       "8  гражданский брак                 1      F   сотрудник     0         95856   \n",
       "9   женат / замужем                 0      M   сотрудник     0        144425   \n",
       "\n",
       "                      purpose purpose_category children_category  \\\n",
       "0               покупка жилья     недвижимость       1-2 ребёнка   \n",
       "1     приобретение автомобиля       автомобиль       1-2 ребёнка   \n",
       "2               покупка жилья     недвижимость         бездетные   \n",
       "3  дополнительное образование      образование       многодетные   \n",
       "4             сыграть свадьбу          свадьба         бездетные   \n",
       "5               покупка жилья     недвижимость         бездетные   \n",
       "6           операции с жильем     недвижимость         бездетные   \n",
       "7                 образование      образование         бездетные   \n",
       "8       на проведение свадьбы          свадьба       1-2 ребёнка   \n",
       "9     покупка жилья для семьи     недвижимость         бездетные   \n",
       "\n",
       "  family_category  \n",
       "0      есть семья  \n",
       "1      есть семья  \n",
       "2      есть семья  \n",
       "3      есть семья  \n",
       "4       нет семьи  \n",
       "5       нет семьи  \n",
       "6      есть семья  \n",
       "7      есть семья  \n",
       "8       нет семьи  \n",
       "9      есть семья  "
      ]
     },
     "execution_count": 45,
     "metadata": {},
     "output_type": "execute_result"
    }
   ],
   "source": [
    "# Пишем функцию family_category.  На вход функции попадает семейный статус, \n",
    "# а возвращает она категорию клиента,  в соответствии с условием:\n",
    "# - 'нет семьи ', если family_status = 'гражданский брак', 'Не женат / не замужем;\n",
    "# - 'овдовел', если family_status = вдовец / вдова ;\n",
    "# - 'в разводе', если family_status = в разводе.\n",
    "# - 'есть семья' во всех остальных случаях.\n",
    "# Создаём отдельный столбец 'family_category' и в его ячейках записываем значения, возвращаемые функцией.\n",
    "# Применим метод apply(). Вызовем его для столбца family_status, так как в нём содержатся данные, которые функция примет на вход. \n",
    "# Аргументом метода станет сама функция family_category.  \n",
    "# Выведем на экран первые 10 строк таблицы\n",
    "def family_category(family_status):\n",
    "    if 'Не женат' in family_status or 'не замужем' in family_status or 'брак' in family_status:\n",
    "        return 'нет семьи'\n",
    "    elif 'вдов' in family_status:\n",
    "        return 'овдовел'\n",
    "    elif 'развод' in family_status:\n",
    "        return 'в разводе'\n",
    "    else:\n",
    "        return 'есть семья'\n",
    "bank['family_category'] = bank['family_status'].apply(family_category)\n",
    "bank.head(10)"
   ]
  },
  {
   "cell_type": "markdown",
   "metadata": {},
   "source": [
    "Теперь проведём категоризацию данных по уровню дохода. Посмотрим на максимальное и минимальное значения в столбце."
   ]
  },
  {
   "cell_type": "code",
   "execution_count": 46,
   "metadata": {},
   "outputs": [
    {
     "data": {
      "text/plain": [
       "2265604"
      ]
     },
     "execution_count": 46,
     "metadata": {},
     "output_type": "execute_result"
    }
   ],
   "source": [
    "# проверяем max и min  в столбце 'total_income'\n",
    "bank['total_income'].max()"
   ]
  },
  {
   "cell_type": "code",
   "execution_count": 47,
   "metadata": {},
   "outputs": [
    {
     "data": {
      "text/plain": [
       "20667"
      ]
     },
     "execution_count": 47,
     "metadata": {},
     "output_type": "execute_result"
    }
   ],
   "source": [
    "bank['total_income'].min()"
   ]
  },
  {
   "cell_type": "markdown",
   "metadata": {},
   "source": [
    "Разница в 100 раз! Выделим 4 категории по уровню месячного дохода: 'низкий', 'средний', 'высокий', 'безграничный'. Определим интервалы по уровню дохода для каждой из групп. Применим метод pd.qcut(), задав ему параметр q=4, для создания 4-х равных интервалов. "
   ]
  },
  {
   "cell_type": "code",
   "execution_count": 48,
   "metadata": {},
   "outputs": [
    {
     "data": {
      "text/plain": [
       "0         (195783.5, 2265604.0]\n",
       "1         (107648.25, 142594.0]\n",
       "2          (142594.0, 195783.5]\n",
       "3         (195783.5, 2265604.0]\n",
       "4          (142594.0, 195783.5]\n",
       "                  ...          \n",
       "21347     (195783.5, 2265604.0]\n",
       "21348      (142594.0, 195783.5]\n",
       "21349    (20666.999, 107648.25]\n",
       "21350     (195783.5, 2265604.0]\n",
       "21351    (20666.999, 107648.25]\n",
       "Name: total_income, Length: 21352, dtype: category\n",
       "Categories (4, interval[float64]): [(20666.999, 107648.25] < (107648.25, 142594.0] < (142594.0, 195783.5] < (195783.5, 2265604.0]]"
      ]
     },
     "execution_count": 48,
     "metadata": {},
     "output_type": "execute_result"
    }
   ],
   "source": [
    "#определяем границы интервалов\n",
    "pd.qcut(bank['total_income'], q=4)"
   ]
  },
  {
   "cell_type": "code",
   "execution_count": 49,
   "metadata": {},
   "outputs": [
    {
     "data": {
      "text/html": [
       "<div>\n",
       "<style scoped>\n",
       "    .dataframe tbody tr th:only-of-type {\n",
       "        vertical-align: middle;\n",
       "    }\n",
       "\n",
       "    .dataframe tbody tr th {\n",
       "        vertical-align: top;\n",
       "    }\n",
       "\n",
       "    .dataframe thead th {\n",
       "        text-align: right;\n",
       "    }\n",
       "</style>\n",
       "<table border=\"1\" class=\"dataframe\">\n",
       "  <thead>\n",
       "    <tr style=\"text-align: right;\">\n",
       "      <th></th>\n",
       "      <th>children</th>\n",
       "      <th>days_employed</th>\n",
       "      <th>dob_years</th>\n",
       "      <th>education</th>\n",
       "      <th>education_id</th>\n",
       "      <th>family_status</th>\n",
       "      <th>family_status_id</th>\n",
       "      <th>gender</th>\n",
       "      <th>income_type</th>\n",
       "      <th>debt</th>\n",
       "      <th>total_income</th>\n",
       "      <th>purpose</th>\n",
       "      <th>purpose_category</th>\n",
       "      <th>children_category</th>\n",
       "      <th>family_category</th>\n",
       "      <th>total_income_category</th>\n",
       "    </tr>\n",
       "  </thead>\n",
       "  <tbody>\n",
       "    <tr>\n",
       "      <th>0</th>\n",
       "      <td>1</td>\n",
       "      <td>8437</td>\n",
       "      <td>42</td>\n",
       "      <td>высшее</td>\n",
       "      <td>0</td>\n",
       "      <td>женат / замужем</td>\n",
       "      <td>0</td>\n",
       "      <td>F</td>\n",
       "      <td>сотрудник</td>\n",
       "      <td>0</td>\n",
       "      <td>253875</td>\n",
       "      <td>покупка жилья</td>\n",
       "      <td>недвижимость</td>\n",
       "      <td>1-2 ребёнка</td>\n",
       "      <td>есть семья</td>\n",
       "      <td>безграничный</td>\n",
       "    </tr>\n",
       "    <tr>\n",
       "      <th>1</th>\n",
       "      <td>1</td>\n",
       "      <td>4024</td>\n",
       "      <td>36</td>\n",
       "      <td>среднее</td>\n",
       "      <td>1</td>\n",
       "      <td>женат / замужем</td>\n",
       "      <td>0</td>\n",
       "      <td>F</td>\n",
       "      <td>сотрудник</td>\n",
       "      <td>0</td>\n",
       "      <td>112080</td>\n",
       "      <td>приобретение автомобиля</td>\n",
       "      <td>автомобиль</td>\n",
       "      <td>1-2 ребёнка</td>\n",
       "      <td>есть семья</td>\n",
       "      <td>средний</td>\n",
       "    </tr>\n",
       "    <tr>\n",
       "      <th>2</th>\n",
       "      <td>0</td>\n",
       "      <td>5623</td>\n",
       "      <td>33</td>\n",
       "      <td>среднее</td>\n",
       "      <td>1</td>\n",
       "      <td>женат / замужем</td>\n",
       "      <td>0</td>\n",
       "      <td>M</td>\n",
       "      <td>сотрудник</td>\n",
       "      <td>0</td>\n",
       "      <td>145885</td>\n",
       "      <td>покупка жилья</td>\n",
       "      <td>недвижимость</td>\n",
       "      <td>бездетные</td>\n",
       "      <td>есть семья</td>\n",
       "      <td>высокий</td>\n",
       "    </tr>\n",
       "    <tr>\n",
       "      <th>3</th>\n",
       "      <td>3</td>\n",
       "      <td>4124</td>\n",
       "      <td>32</td>\n",
       "      <td>среднее</td>\n",
       "      <td>1</td>\n",
       "      <td>женат / замужем</td>\n",
       "      <td>0</td>\n",
       "      <td>M</td>\n",
       "      <td>сотрудник</td>\n",
       "      <td>0</td>\n",
       "      <td>267628</td>\n",
       "      <td>дополнительное образование</td>\n",
       "      <td>образование</td>\n",
       "      <td>многодетные</td>\n",
       "      <td>есть семья</td>\n",
       "      <td>безграничный</td>\n",
       "    </tr>\n",
       "    <tr>\n",
       "      <th>4</th>\n",
       "      <td>0</td>\n",
       "      <td>14177</td>\n",
       "      <td>53</td>\n",
       "      <td>среднее</td>\n",
       "      <td>1</td>\n",
       "      <td>гражданский брак</td>\n",
       "      <td>1</td>\n",
       "      <td>F</td>\n",
       "      <td>пенсионер</td>\n",
       "      <td>0</td>\n",
       "      <td>158616</td>\n",
       "      <td>сыграть свадьбу</td>\n",
       "      <td>свадьба</td>\n",
       "      <td>бездетные</td>\n",
       "      <td>нет семьи</td>\n",
       "      <td>высокий</td>\n",
       "    </tr>\n",
       "    <tr>\n",
       "      <th>5</th>\n",
       "      <td>0</td>\n",
       "      <td>926</td>\n",
       "      <td>27</td>\n",
       "      <td>высшее</td>\n",
       "      <td>0</td>\n",
       "      <td>гражданский брак</td>\n",
       "      <td>1</td>\n",
       "      <td>M</td>\n",
       "      <td>компаньон</td>\n",
       "      <td>0</td>\n",
       "      <td>255763</td>\n",
       "      <td>покупка жилья</td>\n",
       "      <td>недвижимость</td>\n",
       "      <td>бездетные</td>\n",
       "      <td>нет семьи</td>\n",
       "      <td>безграничный</td>\n",
       "    </tr>\n",
       "    <tr>\n",
       "      <th>6</th>\n",
       "      <td>0</td>\n",
       "      <td>2879</td>\n",
       "      <td>43</td>\n",
       "      <td>высшее</td>\n",
       "      <td>0</td>\n",
       "      <td>женат / замужем</td>\n",
       "      <td>0</td>\n",
       "      <td>F</td>\n",
       "      <td>компаньон</td>\n",
       "      <td>0</td>\n",
       "      <td>240525</td>\n",
       "      <td>операции с жильем</td>\n",
       "      <td>недвижимость</td>\n",
       "      <td>бездетные</td>\n",
       "      <td>есть семья</td>\n",
       "      <td>безграничный</td>\n",
       "    </tr>\n",
       "    <tr>\n",
       "      <th>7</th>\n",
       "      <td>0</td>\n",
       "      <td>152</td>\n",
       "      <td>50</td>\n",
       "      <td>среднее</td>\n",
       "      <td>1</td>\n",
       "      <td>женат / замужем</td>\n",
       "      <td>0</td>\n",
       "      <td>M</td>\n",
       "      <td>сотрудник</td>\n",
       "      <td>0</td>\n",
       "      <td>135823</td>\n",
       "      <td>образование</td>\n",
       "      <td>образование</td>\n",
       "      <td>бездетные</td>\n",
       "      <td>есть семья</td>\n",
       "      <td>средний</td>\n",
       "    </tr>\n",
       "    <tr>\n",
       "      <th>8</th>\n",
       "      <td>2</td>\n",
       "      <td>6929</td>\n",
       "      <td>35</td>\n",
       "      <td>высшее</td>\n",
       "      <td>0</td>\n",
       "      <td>гражданский брак</td>\n",
       "      <td>1</td>\n",
       "      <td>F</td>\n",
       "      <td>сотрудник</td>\n",
       "      <td>0</td>\n",
       "      <td>95856</td>\n",
       "      <td>на проведение свадьбы</td>\n",
       "      <td>свадьба</td>\n",
       "      <td>1-2 ребёнка</td>\n",
       "      <td>нет семьи</td>\n",
       "      <td>низкий</td>\n",
       "    </tr>\n",
       "    <tr>\n",
       "      <th>9</th>\n",
       "      <td>0</td>\n",
       "      <td>2188</td>\n",
       "      <td>41</td>\n",
       "      <td>среднее</td>\n",
       "      <td>1</td>\n",
       "      <td>женат / замужем</td>\n",
       "      <td>0</td>\n",
       "      <td>M</td>\n",
       "      <td>сотрудник</td>\n",
       "      <td>0</td>\n",
       "      <td>144425</td>\n",
       "      <td>покупка жилья для семьи</td>\n",
       "      <td>недвижимость</td>\n",
       "      <td>бездетные</td>\n",
       "      <td>есть семья</td>\n",
       "      <td>высокий</td>\n",
       "    </tr>\n",
       "  </tbody>\n",
       "</table>\n",
       "</div>"
      ],
      "text/plain": [
       "   children  days_employed  dob_years education  education_id  \\\n",
       "0         1           8437         42    высшее             0   \n",
       "1         1           4024         36   среднее             1   \n",
       "2         0           5623         33   среднее             1   \n",
       "3         3           4124         32   среднее             1   \n",
       "4         0          14177         53   среднее             1   \n",
       "5         0            926         27    высшее             0   \n",
       "6         0           2879         43    высшее             0   \n",
       "7         0            152         50   среднее             1   \n",
       "8         2           6929         35    высшее             0   \n",
       "9         0           2188         41   среднее             1   \n",
       "\n",
       "      family_status  family_status_id gender income_type  debt  total_income  \\\n",
       "0   женат / замужем                 0      F   сотрудник     0        253875   \n",
       "1   женат / замужем                 0      F   сотрудник     0        112080   \n",
       "2   женат / замужем                 0      M   сотрудник     0        145885   \n",
       "3   женат / замужем                 0      M   сотрудник     0        267628   \n",
       "4  гражданский брак                 1      F   пенсионер     0        158616   \n",
       "5  гражданский брак                 1      M   компаньон     0        255763   \n",
       "6   женат / замужем                 0      F   компаньон     0        240525   \n",
       "7   женат / замужем                 0      M   сотрудник     0        135823   \n",
       "8  гражданский брак                 1      F   сотрудник     0         95856   \n",
       "9   женат / замужем                 0      M   сотрудник     0        144425   \n",
       "\n",
       "                      purpose purpose_category children_category  \\\n",
       "0               покупка жилья     недвижимость       1-2 ребёнка   \n",
       "1     приобретение автомобиля       автомобиль       1-2 ребёнка   \n",
       "2               покупка жилья     недвижимость         бездетные   \n",
       "3  дополнительное образование      образование       многодетные   \n",
       "4             сыграть свадьбу          свадьба         бездетные   \n",
       "5               покупка жилья     недвижимость         бездетные   \n",
       "6           операции с жильем     недвижимость         бездетные   \n",
       "7                 образование      образование         бездетные   \n",
       "8       на проведение свадьбы          свадьба       1-2 ребёнка   \n",
       "9     покупка жилья для семьи     недвижимость         бездетные   \n",
       "\n",
       "  family_category total_income_category  \n",
       "0      есть семья          безграничный  \n",
       "1      есть семья               средний  \n",
       "2      есть семья               высокий  \n",
       "3      есть семья          безграничный  \n",
       "4       нет семьи               высокий  \n",
       "5       нет семьи          безграничный  \n",
       "6      есть семья          безграничный  \n",
       "7      есть семья               средний  \n",
       "8       нет семьи                низкий  \n",
       "9      есть семья               высокий  "
      ]
     },
     "execution_count": 49,
     "metadata": {},
     "output_type": "execute_result"
    }
   ],
   "source": [
    "# Пишем функцию total_income_category.  На вход функции попадает ежемесячный доход, \n",
    "# а возвращает она категорию клиента,  в соответсвии с условием:\n",
    "# - 'низкий', если total_income < 107000;\n",
    "# - 'средний', если total_income >= 107000 and total_income < 143000;\n",
    "# - 'высокий', total_income >= 143000 and total_income < 196000.\n",
    "# - 'безграничный' во всех остальных случаях.\n",
    "# Создаём отдельный столбец 'family_category' и в его ячейках записываем значения, возвращаемые функцией.\n",
    "# Применим метод apply(). Вызовем его для столбца family_status, так как в нём содержатся данные, которые функция примет на вход. \n",
    "# Аргументом метода станет сама функция family_category.  \n",
    "# Выведем на экран первые 10 строк таблицы\n",
    "def total_income_category(total_income):\n",
    "    if total_income < 107000:\n",
    "        return 'низкий'\n",
    "    if total_income >= 107000 and total_income < 143000:\n",
    "        return 'средний'\n",
    "    if total_income >= 143000 and total_income < 196000:\n",
    "        return 'высокий'\n",
    "    return 'безграничный'\n",
    "bank['total_income_category'] = bank['total_income'].apply(total_income_category)\n",
    "bank.head(10)"
   ]
  },
  {
   "cell_type": "code",
   "execution_count": 50,
   "metadata": {
    "scrolled": true
   },
   "outputs": [
    {
     "data": {
      "text/plain": [
       "средний         5556\n",
       "безграничный    5325\n",
       "низкий          5279\n",
       "высокий         5192\n",
       "Name: total_income_category, dtype: int64"
      ]
     },
     "execution_count": 50,
     "metadata": {},
     "output_type": "execute_result"
    }
   ],
   "source": [
    "bank['total_income_category'].value_counts() "
   ]
  },
  {
   "cell_type": "markdown",
   "metadata": {},
   "source": [
    "**Вывод**"
   ]
  },
  {
   "cell_type": "markdown",
   "metadata": {},
   "source": [
    "* провели категоризацию данных по 3 критериям отдельно (семейное положение, наличие детей, ежемесячный доход)\n",
    "* каждую категорию разбивали на 4 подкатегории\n",
    "* добавили в таблицу 3 новых столбца с результатами категоризации.\n",
    "\n",
    "Можно приступать к группировке таблицы, чтобы ответить на поставленные вопросы."
   ]
  },
  {
   "cell_type": "markdown",
   "metadata": {},
   "source": [
    "## Ответьте на поставленные вопросы"
   ]
  },
  {
   "cell_type": "markdown",
   "metadata": {},
   "source": [
    "Для ответа на поставленые вопросы нужно создать сводные таблицы. Для этого применяем метод pivot_table(). В зависимости от поставленного вопроса будут меняться входные параметры index(столбцы, по которым группируют данные). В качестве аргумента values(значения, по которым мы хотим увидеть сводную таблицу) везде будт значения столбца 'debt'. Аргумент функции aggfun(функция, применяемая к значениям), во всех случаях будет 'mean'. Проведем исследования. "
   ]
  },
  {
   "cell_type": "markdown",
   "metadata": {},
   "source": [
    "- Есть ли зависимость между наличием детей и возвратом кредита в срок?"
   ]
  },
  {
   "cell_type": "code",
   "execution_count": 51,
   "metadata": {},
   "outputs": [
    {
     "data": {
      "text/html": [
       "<div>\n",
       "<style scoped>\n",
       "    .dataframe tbody tr th:only-of-type {\n",
       "        vertical-align: middle;\n",
       "    }\n",
       "\n",
       "    .dataframe tbody tr th {\n",
       "        vertical-align: top;\n",
       "    }\n",
       "\n",
       "    .dataframe thead th {\n",
       "        text-align: right;\n",
       "    }\n",
       "</style>\n",
       "<table border=\"1\" class=\"dataframe\">\n",
       "  <thead>\n",
       "    <tr style=\"text-align: right;\">\n",
       "      <th></th>\n",
       "      <th>debt</th>\n",
       "    </tr>\n",
       "    <tr>\n",
       "      <th>children_category</th>\n",
       "      <th></th>\n",
       "    </tr>\n",
       "  </thead>\n",
       "  <tbody>\n",
       "    <tr>\n",
       "      <th>1-2 ребёнка</th>\n",
       "      <td>0.092622</td>\n",
       "    </tr>\n",
       "    <tr>\n",
       "      <th>бездетные</th>\n",
       "      <td>0.075458</td>\n",
       "    </tr>\n",
       "    <tr>\n",
       "      <th>многодетные</th>\n",
       "      <td>0.082011</td>\n",
       "    </tr>\n",
       "  </tbody>\n",
       "</table>\n",
       "</div>"
      ],
      "text/plain": [
       "                       debt\n",
       "children_category          \n",
       "1-2 ребёнка        0.092622\n",
       "бездетные          0.075458\n",
       "многодетные        0.082011"
      ]
     },
     "execution_count": 51,
     "metadata": {},
     "output_type": "execute_result"
    }
   ],
   "source": [
    "data_pivot_children = bank.pivot_table(index=['children_category'], values='debt', aggfunc='mean')\n",
    "data_pivot_children"
   ]
  },
  {
   "cell_type": "markdown",
   "metadata": {},
   "source": [
    "**Вывод**"
   ]
  },
  {
   "cell_type": "markdown",
   "metadata": {},
   "source": [
    "Наличие детей сказывается на возврат кредита в срок. Так у бездетных ниже процент просроченных платежей по кредиту, а у клиентов с 1-2 детьми процент просроченных платежей даже выше, чем у многодетных. Как известно, с появлением ребенка затраты резко увеличиваются. Поэтому бездетные реже допускают просрочки по платежам. Многодетные уже знают на своём примере, через какие траты им придётся пройти, поэтому реже допускают просрочек относительно семей с 1-2 ребёнками."
   ]
  },
  {
   "cell_type": "markdown",
   "metadata": {},
   "source": [
    "- Есть ли зависимость между семейным положением и возвратом кредита в срок?"
   ]
  },
  {
   "cell_type": "code",
   "execution_count": 52,
   "metadata": {},
   "outputs": [
    {
     "data": {
      "text/html": [
       "<div>\n",
       "<style scoped>\n",
       "    .dataframe tbody tr th:only-of-type {\n",
       "        vertical-align: middle;\n",
       "    }\n",
       "\n",
       "    .dataframe tbody tr th {\n",
       "        vertical-align: top;\n",
       "    }\n",
       "\n",
       "    .dataframe thead th {\n",
       "        text-align: right;\n",
       "    }\n",
       "</style>\n",
       "<table border=\"1\" class=\"dataframe\">\n",
       "  <thead>\n",
       "    <tr style=\"text-align: right;\">\n",
       "      <th></th>\n",
       "      <th>debt</th>\n",
       "    </tr>\n",
       "    <tr>\n",
       "      <th>family_category</th>\n",
       "      <th></th>\n",
       "    </tr>\n",
       "  </thead>\n",
       "  <tbody>\n",
       "    <tr>\n",
       "      <th>в разводе</th>\n",
       "      <td>0.071730</td>\n",
       "    </tr>\n",
       "    <tr>\n",
       "      <th>есть семья</th>\n",
       "      <td>0.075427</td>\n",
       "    </tr>\n",
       "    <tr>\n",
       "      <th>нет семьи</th>\n",
       "      <td>0.095190</td>\n",
       "    </tr>\n",
       "    <tr>\n",
       "      <th>овдовел</th>\n",
       "      <td>0.064990</td>\n",
       "    </tr>\n",
       "  </tbody>\n",
       "</table>\n",
       "</div>"
      ],
      "text/plain": [
       "                     debt\n",
       "family_category          \n",
       "в разводе        0.071730\n",
       "есть семья       0.075427\n",
       "нет семьи        0.095190\n",
       "овдовел          0.064990"
      ]
     },
     "execution_count": 52,
     "metadata": {},
     "output_type": "execute_result"
    }
   ],
   "source": [
    "data_pivot_family_status = bank.pivot_table(index=['family_category'], values='debt', aggfunc='mean')\n",
    "data_pivot_family_status"
   ]
  },
  {
   "cell_type": "markdown",
   "metadata": {},
   "source": [
    "**Вывод**"
   ]
  },
  {
   "cell_type": "markdown",
   "metadata": {},
   "source": [
    "Клиенты, которые овдовели, меньше допускают просрочек по платежам. Больше всего просрочек у клиентов, которые не состоят в браке. Клиенты у которых есть/была семья примерно одинаково допускают просрочки по платежам."
   ]
  },
  {
   "cell_type": "markdown",
   "metadata": {},
   "source": [
    "- Есть ли зависимость между уровнем дохода и возвратом кредита в срок?"
   ]
  },
  {
   "cell_type": "code",
   "execution_count": 53,
   "metadata": {},
   "outputs": [
    {
     "data": {
      "text/html": [
       "<div>\n",
       "<style scoped>\n",
       "    .dataframe tbody tr th:only-of-type {\n",
       "        vertical-align: middle;\n",
       "    }\n",
       "\n",
       "    .dataframe tbody tr th {\n",
       "        vertical-align: top;\n",
       "    }\n",
       "\n",
       "    .dataframe thead th {\n",
       "        text-align: right;\n",
       "    }\n",
       "</style>\n",
       "<table border=\"1\" class=\"dataframe\">\n",
       "  <thead>\n",
       "    <tr style=\"text-align: right;\">\n",
       "      <th></th>\n",
       "      <th>debt</th>\n",
       "    </tr>\n",
       "    <tr>\n",
       "      <th>total_income_category</th>\n",
       "      <th></th>\n",
       "    </tr>\n",
       "  </thead>\n",
       "  <tbody>\n",
       "    <tr>\n",
       "      <th>безграничный</th>\n",
       "      <td>0.071737</td>\n",
       "    </tr>\n",
       "    <tr>\n",
       "      <th>высокий</th>\n",
       "      <td>0.084553</td>\n",
       "    </tr>\n",
       "    <tr>\n",
       "      <th>низкий</th>\n",
       "      <td>0.079939</td>\n",
       "    </tr>\n",
       "    <tr>\n",
       "      <th>средний</th>\n",
       "      <td>0.088193</td>\n",
       "    </tr>\n",
       "  </tbody>\n",
       "</table>\n",
       "</div>"
      ],
      "text/plain": [
       "                           debt\n",
       "total_income_category          \n",
       "безграничный           0.071737\n",
       "высокий                0.084553\n",
       "низкий                 0.079939\n",
       "средний                0.088193"
      ]
     },
     "execution_count": 53,
     "metadata": {},
     "output_type": "execute_result"
    }
   ],
   "source": [
    "data_pivot_total_income = bank.pivot_table(index=['total_income_category'], values='debt', aggfunc='mean')\n",
    "data_pivot_total_income"
   ]
  },
  {
   "cell_type": "markdown",
   "metadata": {},
   "source": [
    "**Вывод**"
   ]
  },
  {
   "cell_type": "markdown",
   "metadata": {},
   "source": [
    "Больше всего просрочек у клиентов со средним уровнем дохода, но меньше всего просрочек у клиентов с безграничным доходом. Клиенты с низким достатком платят по кредиту лучше, чем со средним и высоким. Предположу, что люди с низким уровнем дохода более финансово ответственны, и прежде чем подать заявку на кредит, просчитают сколько они могут себе позволить выделить из бюджета на ежемесячное погашение кредита. Люди со средним и высоким достатком считают, что их дохода вполне хватит, чтобы спокойно гасить платежи и они могут быть не готовы к непредвиденным расходам(поломка машины, бытовой техники, срочный ремонт и т.д.)"
   ]
  },
  {
   "cell_type": "markdown",
   "metadata": {},
   "source": [
    "- Как разные цели кредита влияют на его возврат в срок?"
   ]
  },
  {
   "cell_type": "code",
   "execution_count": 54,
   "metadata": {},
   "outputs": [
    {
     "data": {
      "text/html": [
       "<div>\n",
       "<style scoped>\n",
       "    .dataframe tbody tr th:only-of-type {\n",
       "        vertical-align: middle;\n",
       "    }\n",
       "\n",
       "    .dataframe tbody tr th {\n",
       "        vertical-align: top;\n",
       "    }\n",
       "\n",
       "    .dataframe thead th {\n",
       "        text-align: right;\n",
       "    }\n",
       "</style>\n",
       "<table border=\"1\" class=\"dataframe\">\n",
       "  <thead>\n",
       "    <tr style=\"text-align: right;\">\n",
       "      <th></th>\n",
       "      <th>debt</th>\n",
       "    </tr>\n",
       "    <tr>\n",
       "      <th>purpose_category</th>\n",
       "      <th></th>\n",
       "    </tr>\n",
       "  </thead>\n",
       "  <tbody>\n",
       "    <tr>\n",
       "      <th>автомобиль</th>\n",
       "      <td>0.093371</td>\n",
       "    </tr>\n",
       "    <tr>\n",
       "      <th>недвижимость</th>\n",
       "      <td>0.072378</td>\n",
       "    </tr>\n",
       "    <tr>\n",
       "      <th>образование</th>\n",
       "      <td>0.092616</td>\n",
       "    </tr>\n",
       "    <tr>\n",
       "      <th>свадьба</th>\n",
       "      <td>0.079654</td>\n",
       "    </tr>\n",
       "  </tbody>\n",
       "</table>\n",
       "</div>"
      ],
      "text/plain": [
       "                      debt\n",
       "purpose_category          \n",
       "автомобиль        0.093371\n",
       "недвижимость      0.072378\n",
       "образование       0.092616\n",
       "свадьба           0.079654"
      ]
     },
     "execution_count": 54,
     "metadata": {},
     "output_type": "execute_result"
    }
   ],
   "source": [
    "data_pivot_purpose = bank.pivot_table(index=['purpose_category'], values='debt', aggfunc='mean')\n",
    "data_pivot_purpose"
   ]
  },
  {
   "cell_type": "markdown",
   "metadata": {},
   "source": [
    "**Вывод**"
   ]
  },
  {
   "cell_type": "markdown",
   "metadata": {},
   "source": [
    "Кредиты, которые берутся с целью проведения свадьбы и операций с недвижимостью имеют меньший процент просрочек. При покупке автомобиля или оплаты образования процент просрочек примерно одинаков."
   ]
  },
  {
   "cell_type": "markdown",
   "metadata": {},
   "source": [
    "## Общий вывод"
   ]
  },
  {
   "cell_type": "markdown",
   "metadata": {},
   "source": [
    "Проведя исследование были даны ответы на поставленые вопросы:\n",
    "1. Есть зависимость между наличием детей и возвратом кредита в срок.\n",
    "2. Есть зависимость между семейным положением и возвратом кредита в срок.\n",
    "3. Есть зависимость между уровнем дохода и возвратом кредита в срок.\n",
    "4. Цели кредита влияют на его возврат в срок.\n",
    "\n",
    "Однако нужно заметить, что зависимость в каждой категории едва заметна. Осмелюсь утверждать, что если бы не проверялась зависимость между уровнем дохода и возвратом кредита в срок, а категоризированный столбец по уровню доходов добавлялся бы ещё одним аргументов в графу индекс при формировании сводных таблиц, то при получении 'широкой' таблицы зависимости были бы более явными."
   ]
  }
 ],
 "metadata": {
  "ExecuteTimeLog": [
   {
    "duration": 869,
    "start_time": "2022-01-14T11:26:20.902Z"
   },
   {
    "duration": 774,
    "start_time": "2022-01-14T11:29:28.280Z"
   },
   {
    "duration": 3,
    "start_time": "2022-01-14T11:33:13.071Z"
   },
   {
    "duration": 64,
    "start_time": "2022-01-14T11:38:23.752Z"
   },
   {
    "duration": 60,
    "start_time": "2022-01-14T11:40:35.578Z"
   },
   {
    "duration": 29,
    "start_time": "2022-01-14T11:43:43.059Z"
   },
   {
    "duration": 19,
    "start_time": "2022-01-14T11:45:40.472Z"
   },
   {
    "duration": 16,
    "start_time": "2022-01-14T11:46:57.680Z"
   },
   {
    "duration": 3,
    "start_time": "2022-01-14T12:58:32.912Z"
   },
   {
    "duration": 63,
    "start_time": "2022-01-14T12:58:33.990Z"
   },
   {
    "duration": 20,
    "start_time": "2022-01-14T12:58:34.974Z"
   },
   {
    "duration": 17,
    "start_time": "2022-01-14T12:58:39.294Z"
   },
   {
    "duration": 395,
    "start_time": "2022-01-14T13:02:51.875Z"
   },
   {
    "duration": 27,
    "start_time": "2022-01-14T13:03:32.237Z"
   },
   {
    "duration": 310,
    "start_time": "2022-01-14T13:04:04.829Z"
   },
   {
    "duration": 110,
    "start_time": "2022-01-14T13:05:24.054Z"
   },
   {
    "duration": 10,
    "start_time": "2022-01-14T13:05:49.310Z"
   },
   {
    "duration": 12,
    "start_time": "2022-01-14T13:06:46.510Z"
   },
   {
    "duration": 11,
    "start_time": "2022-01-14T13:10:51.455Z"
   },
   {
    "duration": 8,
    "start_time": "2022-01-14T13:11:52.746Z"
   },
   {
    "duration": 481,
    "start_time": "2022-01-14T13:12:26.666Z"
   },
   {
    "duration": 20,
    "start_time": "2022-01-14T13:14:20.987Z"
   },
   {
    "duration": 27,
    "start_time": "2022-01-14T13:15:38.656Z"
   },
   {
    "duration": 12,
    "start_time": "2022-01-14T13:16:05.195Z"
   },
   {
    "duration": 13,
    "start_time": "2022-01-14T13:17:22.570Z"
   },
   {
    "duration": 8,
    "start_time": "2022-01-14T13:32:06.142Z"
   },
   {
    "duration": 12,
    "start_time": "2022-01-14T13:32:24.233Z"
   },
   {
    "duration": 10,
    "start_time": "2022-01-14T13:32:42.473Z"
   },
   {
    "duration": 13,
    "start_time": "2022-01-14T13:32:55.073Z"
   },
   {
    "duration": 10,
    "start_time": "2022-01-14T13:39:57.222Z"
   },
   {
    "duration": 12,
    "start_time": "2022-01-14T13:40:32.102Z"
   },
   {
    "duration": 14,
    "start_time": "2022-01-14T13:40:47.023Z"
   },
   {
    "duration": 335,
    "start_time": "2022-01-14T13:43:43.422Z"
   },
   {
    "duration": 7,
    "start_time": "2022-01-14T13:46:55.703Z"
   },
   {
    "duration": 8,
    "start_time": "2022-01-14T13:47:15.383Z"
   },
   {
    "duration": 10,
    "start_time": "2022-01-14T13:48:47.623Z"
   },
   {
    "duration": 13,
    "start_time": "2022-01-14T13:49:03.783Z"
   },
   {
    "duration": 275,
    "start_time": "2022-01-14T13:49:37.910Z"
   },
   {
    "duration": 11,
    "start_time": "2022-01-14T13:49:46.982Z"
   },
   {
    "duration": 10,
    "start_time": "2022-01-14T14:02:21.293Z"
   },
   {
    "duration": 8,
    "start_time": "2022-01-14T14:02:58.413Z"
   },
   {
    "duration": 169,
    "start_time": "2022-01-14T14:03:31.125Z"
   },
   {
    "duration": 10,
    "start_time": "2022-01-14T14:03:57.373Z"
   },
   {
    "duration": 11,
    "start_time": "2022-01-14T14:04:13.950Z"
   },
   {
    "duration": 25,
    "start_time": "2022-01-14T14:06:01.143Z"
   },
   {
    "duration": 12,
    "start_time": "2022-01-14T14:07:03.275Z"
   },
   {
    "duration": 8,
    "start_time": "2022-01-14T14:07:27.663Z"
   },
   {
    "duration": 8,
    "start_time": "2022-01-14T14:08:02.250Z"
   },
   {
    "duration": 355,
    "start_time": "2022-01-17T10:25:47.218Z"
   },
   {
    "duration": 761,
    "start_time": "2022-01-17T10:25:57.491Z"
   },
   {
    "duration": 60,
    "start_time": "2022-01-17T10:25:58.498Z"
   },
   {
    "duration": 28,
    "start_time": "2022-01-17T10:25:59.550Z"
   },
   {
    "duration": 14,
    "start_time": "2022-01-17T10:26:00.568Z"
   },
   {
    "duration": 18,
    "start_time": "2022-01-17T10:26:04.408Z"
   },
   {
    "duration": 8,
    "start_time": "2022-01-17T10:26:05.298Z"
   },
   {
    "duration": 12,
    "start_time": "2022-01-17T10:29:00.128Z"
   },
   {
    "duration": 10,
    "start_time": "2022-01-17T10:30:57.868Z"
   },
   {
    "duration": 9,
    "start_time": "2022-01-17T10:45:33.211Z"
   },
   {
    "duration": 8,
    "start_time": "2022-01-17T10:56:27.555Z"
   },
   {
    "duration": 8,
    "start_time": "2022-01-17T10:57:41.803Z"
   },
   {
    "duration": 28,
    "start_time": "2022-01-17T10:59:45.315Z"
   },
   {
    "duration": 9,
    "start_time": "2022-01-17T11:00:12.955Z"
   },
   {
    "duration": 8,
    "start_time": "2022-01-17T11:07:28.540Z"
   },
   {
    "duration": 11,
    "start_time": "2022-01-17T11:07:59.092Z"
   },
   {
    "duration": 24,
    "start_time": "2022-01-17T11:14:32.999Z"
   },
   {
    "duration": 27,
    "start_time": "2022-01-17T11:18:17.539Z"
   },
   {
    "duration": 357,
    "start_time": "2022-01-17T11:20:00.620Z"
   },
   {
    "duration": 380,
    "start_time": "2022-01-17T11:20:19.762Z"
   },
   {
    "duration": 10,
    "start_time": "2022-01-17T11:21:39.979Z"
   },
   {
    "duration": 14,
    "start_time": "2022-01-17T11:29:41.553Z"
   },
   {
    "duration": 7,
    "start_time": "2022-01-17T11:33:28.773Z"
   },
   {
    "duration": 10,
    "start_time": "2022-01-17T11:34:45.265Z"
   },
   {
    "duration": 10,
    "start_time": "2022-01-17T11:35:38.854Z"
   },
   {
    "duration": 47,
    "start_time": "2022-01-17T11:38:38.733Z"
   },
   {
    "duration": 342,
    "start_time": "2022-01-17T11:39:20.465Z"
   },
   {
    "duration": 394,
    "start_time": "2022-01-17T11:40:15.625Z"
   },
   {
    "duration": 39,
    "start_time": "2022-01-17T11:40:22.773Z"
   },
   {
    "duration": 6,
    "start_time": "2022-01-17T11:41:55.949Z"
   },
   {
    "duration": 314,
    "start_time": "2022-01-17T11:42:14.534Z"
   },
   {
    "duration": 318,
    "start_time": "2022-01-17T11:42:24.774Z"
   },
   {
    "duration": 10,
    "start_time": "2022-01-17T11:42:35.269Z"
   },
   {
    "duration": 6,
    "start_time": "2022-01-17T11:54:34.376Z"
   },
   {
    "duration": 10,
    "start_time": "2022-01-17T11:54:51.096Z"
   },
   {
    "duration": 9,
    "start_time": "2022-01-17T12:32:27.119Z"
   },
   {
    "duration": 10,
    "start_time": "2022-01-17T12:32:55.513Z"
   },
   {
    "duration": 10,
    "start_time": "2022-01-17T12:50:27.139Z"
   },
   {
    "duration": 571,
    "start_time": "2022-01-17T19:42:25.968Z"
   },
   {
    "duration": 52,
    "start_time": "2022-01-17T19:42:29.743Z"
   },
   {
    "duration": 19,
    "start_time": "2022-01-17T19:42:41.860Z"
   },
   {
    "duration": 11,
    "start_time": "2022-01-17T19:42:46.560Z"
   },
   {
    "duration": 8,
    "start_time": "2022-01-17T19:43:44.866Z"
   },
   {
    "duration": 10,
    "start_time": "2022-01-17T19:44:29.512Z"
   },
   {
    "duration": 23,
    "start_time": "2022-01-17T19:51:27.241Z"
   },
   {
    "duration": 32,
    "start_time": "2022-01-17T19:55:56.038Z"
   },
   {
    "duration": 23,
    "start_time": "2022-01-17T20:00:37.298Z"
   },
   {
    "duration": 7,
    "start_time": "2022-01-17T20:33:12.738Z"
   },
   {
    "duration": 69,
    "start_time": "2022-01-17T20:48:42.606Z"
   },
   {
    "duration": 8,
    "start_time": "2022-01-17T20:49:20.910Z"
   },
   {
    "duration": 11,
    "start_time": "2022-01-17T20:49:50.290Z"
   },
   {
    "duration": 19,
    "start_time": "2022-01-17T20:55:22.651Z"
   },
   {
    "duration": 281,
    "start_time": "2022-01-17T20:59:56.544Z"
   },
   {
    "duration": 7,
    "start_time": "2022-01-17T21:00:20.861Z"
   },
   {
    "duration": 15,
    "start_time": "2022-01-17T21:00:26.862Z"
   },
   {
    "duration": 65,
    "start_time": "2022-01-17T21:10:02.444Z"
   },
   {
    "duration": 15,
    "start_time": "2022-01-17T21:10:06.515Z"
   },
   {
    "duration": 67,
    "start_time": "2022-01-17T21:10:34.981Z"
   },
   {
    "duration": 15,
    "start_time": "2022-01-17T21:11:50.612Z"
   },
   {
    "duration": 6,
    "start_time": "2022-01-17T21:19:38.477Z"
   },
   {
    "duration": 6,
    "start_time": "2022-01-17T21:20:10.841Z"
   },
   {
    "duration": 7,
    "start_time": "2022-01-17T21:20:48.672Z"
   },
   {
    "duration": 17,
    "start_time": "2022-01-17T21:21:47.511Z"
   },
   {
    "duration": 7,
    "start_time": "2022-01-17T21:24:35.488Z"
   },
   {
    "duration": 16,
    "start_time": "2022-01-17T21:24:39.611Z"
   },
   {
    "duration": 3,
    "start_time": "2022-01-17T21:40:18.787Z"
   },
   {
    "duration": 4,
    "start_time": "2022-01-17T21:40:33.564Z"
   },
   {
    "duration": 3,
    "start_time": "2022-01-17T21:43:22.750Z"
   },
   {
    "duration": 3,
    "start_time": "2022-01-17T21:44:31.657Z"
   },
   {
    "duration": 207,
    "start_time": "2022-01-17T21:44:43.730Z"
   },
   {
    "duration": 6,
    "start_time": "2022-01-17T21:45:09.432Z"
   },
   {
    "duration": 6,
    "start_time": "2022-01-17T21:45:10.072Z"
   },
   {
    "duration": 6,
    "start_time": "2022-01-17T21:46:32.462Z"
   },
   {
    "duration": 4,
    "start_time": "2022-01-17T21:46:34.882Z"
   },
   {
    "duration": 5,
    "start_time": "2022-01-17T21:46:54.541Z"
   },
   {
    "duration": 5,
    "start_time": "2022-01-17T21:46:56.173Z"
   },
   {
    "duration": 3,
    "start_time": "2022-01-17T21:47:06.169Z"
   },
   {
    "duration": 47,
    "start_time": "2022-01-17T21:47:07.301Z"
   },
   {
    "duration": 13,
    "start_time": "2022-01-17T21:47:08.681Z"
   },
   {
    "duration": 11,
    "start_time": "2022-01-17T21:47:17.321Z"
   },
   {
    "duration": 10,
    "start_time": "2022-01-17T21:47:23.621Z"
   },
   {
    "duration": 25,
    "start_time": "2022-01-17T21:47:30.821Z"
   },
   {
    "duration": 7,
    "start_time": "2022-01-17T21:47:36.462Z"
   },
   {
    "duration": 5,
    "start_time": "2022-01-17T21:47:42.601Z"
   },
   {
    "duration": 5,
    "start_time": "2022-01-17T21:47:43.394Z"
   },
   {
    "duration": 5,
    "start_time": "2022-01-17T21:48:17.129Z"
   },
   {
    "duration": 4,
    "start_time": "2022-01-17T21:48:18.350Z"
   },
   {
    "duration": 5,
    "start_time": "2022-01-17T21:48:38.629Z"
   },
   {
    "duration": 5,
    "start_time": "2022-01-17T21:48:41.109Z"
   },
   {
    "duration": 3,
    "start_time": "2022-01-17T21:48:57.229Z"
   },
   {
    "duration": 4,
    "start_time": "2022-01-17T21:48:58.028Z"
   },
   {
    "duration": 5,
    "start_time": "2022-01-17T21:50:12.116Z"
   },
   {
    "duration": 5,
    "start_time": "2022-01-17T21:50:12.815Z"
   },
   {
    "duration": 5,
    "start_time": "2022-01-17T21:52:34.041Z"
   },
   {
    "duration": 5,
    "start_time": "2022-01-17T21:52:34.933Z"
   },
   {
    "duration": 5,
    "start_time": "2022-01-17T21:53:21.599Z"
   },
   {
    "duration": 5,
    "start_time": "2022-01-17T21:53:23.739Z"
   },
   {
    "duration": 5,
    "start_time": "2022-01-17T21:54:25.748Z"
   },
   {
    "duration": 6,
    "start_time": "2022-01-17T21:54:49.180Z"
   },
   {
    "duration": 5,
    "start_time": "2022-01-17T21:54:59.467Z"
   },
   {
    "duration": 268,
    "start_time": "2022-01-18T10:13:18.489Z"
   },
   {
    "duration": 597,
    "start_time": "2022-01-18T10:13:37.596Z"
   },
   {
    "duration": 49,
    "start_time": "2022-01-18T10:13:39.008Z"
   },
   {
    "duration": 19,
    "start_time": "2022-01-18T10:13:40.528Z"
   },
   {
    "duration": 12,
    "start_time": "2022-01-18T10:13:41.786Z"
   },
   {
    "duration": 10,
    "start_time": "2022-01-18T10:13:45.316Z"
   },
   {
    "duration": 22,
    "start_time": "2022-01-18T10:13:48.976Z"
   },
   {
    "duration": 7,
    "start_time": "2022-01-18T10:13:51.316Z"
   },
   {
    "duration": 5,
    "start_time": "2022-01-18T10:13:51.937Z"
   },
   {
    "duration": 4,
    "start_time": "2022-01-18T10:13:52.676Z"
   },
   {
    "duration": 265,
    "start_time": "2022-01-18T10:13:55.936Z"
   },
   {
    "duration": 228,
    "start_time": "2022-01-18T10:14:13.969Z"
   },
   {
    "duration": -47,
    "start_time": "2022-01-18T10:21:19.379Z"
   },
   {
    "duration": 226,
    "start_time": "2022-01-18T10:24:47.488Z"
   },
   {
    "duration": 226,
    "start_time": "2022-01-18T10:25:30.816Z"
   },
   {
    "duration": 218,
    "start_time": "2022-01-18T10:26:04.896Z"
   },
   {
    "duration": 511,
    "start_time": "2022-01-18T10:26:12.967Z"
   },
   {
    "duration": -95,
    "start_time": "2022-01-18T10:27:36.404Z"
   },
   {
    "duration": -96,
    "start_time": "2022-01-18T10:27:36.406Z"
   },
   {
    "duration": 241,
    "start_time": "2022-01-18T10:27:40.137Z"
   },
   {
    "duration": 7,
    "start_time": "2022-01-18T10:39:38.430Z"
   },
   {
    "duration": 16,
    "start_time": "2022-01-18T10:40:03.758Z"
   },
   {
    "duration": 17,
    "start_time": "2022-01-18T10:41:21.292Z"
   },
   {
    "duration": 5,
    "start_time": "2022-01-18T10:42:49.629Z"
   },
   {
    "duration": 8,
    "start_time": "2022-01-18T10:47:09.114Z"
   },
   {
    "duration": 5,
    "start_time": "2022-01-18T10:47:12.356Z"
   },
   {
    "duration": 5,
    "start_time": "2022-01-18T10:47:14.371Z"
   },
   {
    "duration": 8,
    "start_time": "2022-01-18T10:48:40.052Z"
   },
   {
    "duration": 16,
    "start_time": "2022-01-18T10:48:44.490Z"
   },
   {
    "duration": 3,
    "start_time": "2022-01-18T10:49:01.508Z"
   },
   {
    "duration": 43,
    "start_time": "2022-01-18T10:49:03.027Z"
   },
   {
    "duration": 12,
    "start_time": "2022-01-18T10:49:04.204Z"
   },
   {
    "duration": 10,
    "start_time": "2022-01-18T10:49:05.546Z"
   },
   {
    "duration": 8,
    "start_time": "2022-01-18T10:49:09.171Z"
   },
   {
    "duration": 20,
    "start_time": "2022-01-18T10:49:11.619Z"
   },
   {
    "duration": 7,
    "start_time": "2022-01-18T10:49:14.147Z"
   },
   {
    "duration": 5,
    "start_time": "2022-01-18T10:49:18.039Z"
   },
   {
    "duration": 4,
    "start_time": "2022-01-18T10:49:18.588Z"
   },
   {
    "duration": 8,
    "start_time": "2022-01-18T10:49:22.948Z"
   },
   {
    "duration": 15,
    "start_time": "2022-01-18T10:49:24.975Z"
   },
   {
    "duration": 258,
    "start_time": "2022-01-18T10:50:24.924Z"
   },
   {
    "duration": 6,
    "start_time": "2022-01-18T10:50:33.724Z"
   },
   {
    "duration": 16,
    "start_time": "2022-01-18T10:50:37.044Z"
   },
   {
    "duration": 4,
    "start_time": "2022-01-18T10:51:25.164Z"
   },
   {
    "duration": 17,
    "start_time": "2022-01-18T10:54:04.748Z"
   },
   {
    "duration": 9,
    "start_time": "2022-01-18T10:54:14.395Z"
   },
   {
    "duration": 8,
    "start_time": "2022-01-18T10:55:13.269Z"
   },
   {
    "duration": 8,
    "start_time": "2022-01-18T10:55:36.008Z"
   },
   {
    "duration": 7,
    "start_time": "2022-01-18T10:56:40.949Z"
   },
   {
    "duration": 7,
    "start_time": "2022-01-18T10:56:53.942Z"
   },
   {
    "duration": 8,
    "start_time": "2022-01-18T10:56:56.390Z"
   },
   {
    "duration": 9,
    "start_time": "2022-01-18T10:57:36.461Z"
   },
   {
    "duration": 10,
    "start_time": "2022-01-18T10:58:40.789Z"
   },
   {
    "duration": 7,
    "start_time": "2022-01-18T10:59:03.406Z"
   },
   {
    "duration": 9,
    "start_time": "2022-01-18T10:59:05.567Z"
   },
   {
    "duration": 5,
    "start_time": "2022-01-18T11:04:27.222Z"
   },
   {
    "duration": 4,
    "start_time": "2022-01-18T11:04:27.741Z"
   },
   {
    "duration": 7,
    "start_time": "2022-01-18T11:04:31.240Z"
   },
   {
    "duration": 9,
    "start_time": "2022-01-18T11:04:32.262Z"
   },
   {
    "duration": 6,
    "start_time": "2022-01-18T11:04:58.808Z"
   },
   {
    "duration": 4,
    "start_time": "2022-01-18T11:05:23.288Z"
   },
   {
    "duration": 5,
    "start_time": "2022-01-18T11:05:57.505Z"
   },
   {
    "duration": 7,
    "start_time": "2022-01-18T11:07:54.005Z"
   },
   {
    "duration": 231,
    "start_time": "2022-01-18T11:08:22.294Z"
   },
   {
    "duration": 16,
    "start_time": "2022-01-18T11:08:29.051Z"
   },
   {
    "duration": 9,
    "start_time": "2022-01-18T11:10:58.999Z"
   },
   {
    "duration": 470,
    "start_time": "2022-01-18T11:50:10.824Z"
   },
   {
    "duration": 2,
    "start_time": "2022-01-18T12:39:21.776Z"
   },
   {
    "duration": 41,
    "start_time": "2022-01-18T12:39:21.797Z"
   },
   {
    "duration": 19,
    "start_time": "2022-01-18T12:39:21.850Z"
   },
   {
    "duration": 21,
    "start_time": "2022-01-18T12:39:21.870Z"
   },
   {
    "duration": 2,
    "start_time": "2022-01-18T12:39:37.230Z"
   },
   {
    "duration": 43,
    "start_time": "2022-01-18T12:39:38.574Z"
   },
   {
    "duration": 12,
    "start_time": "2022-01-18T12:39:39.869Z"
   },
   {
    "duration": 10,
    "start_time": "2022-01-18T12:39:43.189Z"
   },
   {
    "duration": 8,
    "start_time": "2022-01-18T12:39:46.907Z"
   },
   {
    "duration": 20,
    "start_time": "2022-01-18T12:39:50.438Z"
   },
   {
    "duration": 6,
    "start_time": "2022-01-18T12:39:53.206Z"
   },
   {
    "duration": 6,
    "start_time": "2022-01-18T12:39:54.520Z"
   },
   {
    "duration": 5,
    "start_time": "2022-01-18T12:39:56.758Z"
   },
   {
    "duration": 7,
    "start_time": "2022-01-18T12:39:58.118Z"
   },
   {
    "duration": 9,
    "start_time": "2022-01-18T12:40:00.966Z"
   },
   {
    "duration": 5,
    "start_time": "2022-01-18T12:40:02.806Z"
   },
   {
    "duration": 4,
    "start_time": "2022-01-18T12:40:03.639Z"
   },
   {
    "duration": 8,
    "start_time": "2022-01-18T12:40:06.829Z"
   },
   {
    "duration": 9,
    "start_time": "2022-01-18T12:40:08.358Z"
   },
   {
    "duration": 7,
    "start_time": "2022-01-18T12:46:03.685Z"
   },
   {
    "duration": 5,
    "start_time": "2022-01-18T13:22:27.178Z"
   },
   {
    "duration": 19,
    "start_time": "2022-01-18T13:22:35.300Z"
   },
   {
    "duration": 263,
    "start_time": "2022-01-18T13:24:43.126Z"
   },
   {
    "duration": 289,
    "start_time": "2022-01-18T13:26:27.625Z"
   },
   {
    "duration": 243,
    "start_time": "2022-01-18T13:26:54.605Z"
   },
   {
    "duration": 26,
    "start_time": "2022-01-18T13:27:02.126Z"
   },
   {
    "duration": 27,
    "start_time": "2022-01-18T13:30:19.985Z"
   },
   {
    "duration": 19,
    "start_time": "2022-01-18T13:30:33.103Z"
   },
   {
    "duration": 241,
    "start_time": "2022-01-18T13:31:55.583Z"
   },
   {
    "duration": 225,
    "start_time": "2022-01-18T13:32:08.524Z"
   },
   {
    "duration": 235,
    "start_time": "2022-01-18T13:33:22.967Z"
   },
   {
    "duration": 224,
    "start_time": "2022-01-18T13:34:24.226Z"
   },
   {
    "duration": 261,
    "start_time": "2022-01-18T13:35:04.865Z"
   },
   {
    "duration": 235,
    "start_time": "2022-01-18T13:35:27.866Z"
   },
   {
    "duration": 5573,
    "start_time": "2022-01-18T13:36:06.689Z"
   },
   {
    "duration": 2,
    "start_time": "2022-01-18T13:36:18.946Z"
   },
   {
    "duration": 44,
    "start_time": "2022-01-18T13:36:20.164Z"
   },
   {
    "duration": 12,
    "start_time": "2022-01-18T13:36:21.446Z"
   },
   {
    "duration": 10,
    "start_time": "2022-01-18T13:36:22.586Z"
   },
   {
    "duration": 9,
    "start_time": "2022-01-18T13:36:26.260Z"
   },
   {
    "duration": 20,
    "start_time": "2022-01-18T13:36:28.345Z"
   },
   {
    "duration": 7,
    "start_time": "2022-01-18T13:36:35.990Z"
   },
   {
    "duration": 5,
    "start_time": "2022-01-18T13:36:39.821Z"
   },
   {
    "duration": 5,
    "start_time": "2022-01-18T13:36:40.706Z"
   },
   {
    "duration": 7,
    "start_time": "2022-01-18T13:36:43.636Z"
   },
   {
    "duration": 9,
    "start_time": "2022-01-18T13:36:45.134Z"
   },
   {
    "duration": 5,
    "start_time": "2022-01-18T13:36:48.516Z"
   },
   {
    "duration": 5,
    "start_time": "2022-01-18T13:36:55.980Z"
   },
   {
    "duration": 6,
    "start_time": "2022-01-18T13:36:58.165Z"
   },
   {
    "duration": 9,
    "start_time": "2022-01-18T13:37:00.637Z"
   },
   {
    "duration": 7,
    "start_time": "2022-01-18T13:37:05.397Z"
   },
   {
    "duration": 5,
    "start_time": "2022-01-18T13:37:22.205Z"
   },
   {
    "duration": 19,
    "start_time": "2022-01-18T13:37:32.037Z"
   },
   {
    "duration": 26,
    "start_time": "2022-01-18T13:38:58.024Z"
   },
   {
    "duration": 6558,
    "start_time": "2022-01-18T13:44:31.165Z"
   },
   {
    "duration": 2,
    "start_time": "2022-01-18T13:45:12.524Z"
   },
   {
    "duration": 46,
    "start_time": "2022-01-18T13:45:13.803Z"
   },
   {
    "duration": 12,
    "start_time": "2022-01-18T13:45:15.084Z"
   },
   {
    "duration": 10,
    "start_time": "2022-01-18T13:45:16.505Z"
   },
   {
    "duration": 9,
    "start_time": "2022-01-18T13:45:20.460Z"
   },
   {
    "duration": 19,
    "start_time": "2022-01-18T13:45:23.780Z"
   },
   {
    "duration": 7,
    "start_time": "2022-01-18T13:45:29.796Z"
   },
   {
    "duration": 4,
    "start_time": "2022-01-18T13:45:32.396Z"
   },
   {
    "duration": 4,
    "start_time": "2022-01-18T13:45:32.956Z"
   },
   {
    "duration": 6,
    "start_time": "2022-01-18T13:45:35.305Z"
   },
   {
    "duration": 9,
    "start_time": "2022-01-18T13:45:36.346Z"
   },
   {
    "duration": 5,
    "start_time": "2022-01-18T13:45:39.732Z"
   },
   {
    "duration": 4,
    "start_time": "2022-01-18T13:45:40.372Z"
   },
   {
    "duration": 6,
    "start_time": "2022-01-18T13:45:41.664Z"
   },
   {
    "duration": 9,
    "start_time": "2022-01-18T13:45:44.372Z"
   },
   {
    "duration": 6,
    "start_time": "2022-01-18T13:45:49.744Z"
   },
   {
    "duration": 7,
    "start_time": "2022-01-18T13:45:56.245Z"
   },
   {
    "duration": 32,
    "start_time": "2022-01-18T13:46:01.820Z"
   },
   {
    "duration": 6,
    "start_time": "2022-01-18T13:46:51.332Z"
   },
   {
    "duration": 10,
    "start_time": "2022-01-18T13:47:33.324Z"
   },
   {
    "duration": 3,
    "start_time": "2022-01-18T13:57:01.998Z"
   },
   {
    "duration": 221,
    "start_time": "2022-01-18T13:58:33.366Z"
   },
   {
    "duration": 553,
    "start_time": "2022-01-18T19:24:55.602Z"
   },
   {
    "duration": 51,
    "start_time": "2022-01-18T19:24:57.894Z"
   },
   {
    "duration": 18,
    "start_time": "2022-01-18T19:24:59.540Z"
   },
   {
    "duration": 12,
    "start_time": "2022-01-18T19:25:01.061Z"
   },
   {
    "duration": 9,
    "start_time": "2022-01-18T19:25:05.970Z"
   },
   {
    "duration": 21,
    "start_time": "2022-01-18T19:25:13.773Z"
   },
   {
    "duration": 7,
    "start_time": "2022-01-18T19:25:21.920Z"
   },
   {
    "duration": 7,
    "start_time": "2022-01-18T19:25:28.842Z"
   },
   {
    "duration": 4,
    "start_time": "2022-01-18T19:25:29.762Z"
   },
   {
    "duration": 8,
    "start_time": "2022-01-18T19:25:40.053Z"
   },
   {
    "duration": 10,
    "start_time": "2022-01-18T19:25:41.910Z"
   },
   {
    "duration": 7,
    "start_time": "2022-01-18T19:25:48.480Z"
   },
   {
    "duration": 5,
    "start_time": "2022-01-18T19:25:49.420Z"
   },
   {
    "duration": 23,
    "start_time": "2022-01-18T19:25:55.100Z"
   },
   {
    "duration": 10,
    "start_time": "2022-01-18T19:25:56.638Z"
   },
   {
    "duration": 5,
    "start_time": "2022-01-18T19:26:49.682Z"
   },
   {
    "duration": 6,
    "start_time": "2022-01-18T19:27:02.742Z"
   },
   {
    "duration": 6,
    "start_time": "2022-01-18T19:27:20.350Z"
   },
   {
    "duration": 11,
    "start_time": "2022-01-18T19:27:23.062Z"
   },
   {
    "duration": 9,
    "start_time": "2022-01-18T19:55:28.234Z"
   },
   {
    "duration": 15,
    "start_time": "2022-01-18T20:15:33.113Z"
   },
   {
    "duration": 26,
    "start_time": "2022-01-18T20:16:40.505Z"
   },
   {
    "duration": 25,
    "start_time": "2022-01-18T20:17:01.165Z"
   },
   {
    "duration": 24,
    "start_time": "2022-01-18T20:20:35.278Z"
   },
   {
    "duration": 6,
    "start_time": "2022-01-18T20:27:12.993Z"
   },
   {
    "duration": 6,
    "start_time": "2022-01-18T20:28:01.295Z"
   },
   {
    "duration": 10,
    "start_time": "2022-01-18T20:56:50.066Z"
   },
   {
    "duration": 6,
    "start_time": "2022-01-18T20:57:03.598Z"
   },
   {
    "duration": 14,
    "start_time": "2022-01-18T21:05:55.244Z"
   },
   {
    "duration": 6,
    "start_time": "2022-01-18T21:07:54.475Z"
   },
   {
    "duration": 7,
    "start_time": "2022-01-18T21:10:48.767Z"
   },
   {
    "duration": 11,
    "start_time": "2022-01-18T21:19:42.403Z"
   },
   {
    "duration": 12,
    "start_time": "2022-01-18T21:21:05.081Z"
   },
   {
    "duration": 9,
    "start_time": "2022-01-18T21:21:34.004Z"
   },
   {
    "duration": 9,
    "start_time": "2022-01-18T21:22:00.250Z"
   },
   {
    "duration": 14,
    "start_time": "2022-01-18T21:22:02.011Z"
   },
   {
    "duration": 9,
    "start_time": "2022-01-18T21:22:03.072Z"
   },
   {
    "duration": 8,
    "start_time": "2022-01-18T21:25:37.924Z"
   },
   {
    "duration": 7,
    "start_time": "2022-01-18T21:27:26.794Z"
   },
   {
    "duration": 7,
    "start_time": "2022-01-18T21:29:34.654Z"
   },
   {
    "duration": 2,
    "start_time": "2022-01-18T21:33:59.025Z"
   },
   {
    "duration": 52,
    "start_time": "2022-01-18T21:34:01.314Z"
   },
   {
    "duration": 13,
    "start_time": "2022-01-18T21:34:04.185Z"
   },
   {
    "duration": 11,
    "start_time": "2022-01-18T21:34:07.266Z"
   },
   {
    "duration": 11,
    "start_time": "2022-01-18T21:34:12.094Z"
   },
   {
    "duration": 20,
    "start_time": "2022-01-18T21:34:17.564Z"
   },
   {
    "duration": 7,
    "start_time": "2022-01-18T21:34:21.405Z"
   },
   {
    "duration": 6,
    "start_time": "2022-01-18T21:34:22.774Z"
   },
   {
    "duration": 5,
    "start_time": "2022-01-18T21:34:25.445Z"
   },
   {
    "duration": 7,
    "start_time": "2022-01-18T21:34:27.165Z"
   },
   {
    "duration": 10,
    "start_time": "2022-01-18T21:34:28.645Z"
   },
   {
    "duration": 8,
    "start_time": "2022-01-18T21:34:30.576Z"
   },
   {
    "duration": 5,
    "start_time": "2022-01-18T21:34:31.225Z"
   },
   {
    "duration": 7,
    "start_time": "2022-01-18T21:34:35.434Z"
   },
   {
    "duration": 10,
    "start_time": "2022-01-18T21:34:36.845Z"
   },
   {
    "duration": 6,
    "start_time": "2022-01-18T21:34:47.914Z"
   },
   {
    "duration": 6,
    "start_time": "2022-01-18T21:35:00.002Z"
   },
   {
    "duration": 12,
    "start_time": "2022-01-18T21:35:03.752Z"
   },
   {
    "duration": 9,
    "start_time": "2022-01-18T21:35:10.725Z"
   },
   {
    "duration": 25,
    "start_time": "2022-01-18T21:35:15.701Z"
   },
   {
    "duration": 7,
    "start_time": "2022-01-18T21:35:22.152Z"
   },
   {
    "duration": 12,
    "start_time": "2022-01-18T21:35:23.693Z"
   },
   {
    "duration": 7,
    "start_time": "2022-01-18T21:35:27.285Z"
   },
   {
    "duration": 8,
    "start_time": "2022-01-18T21:35:31.525Z"
   },
   {
    "duration": 12,
    "start_time": "2022-01-18T21:37:29.393Z"
   },
   {
    "duration": 9,
    "start_time": "2022-01-18T21:37:30.833Z"
   },
   {
    "duration": 8,
    "start_time": "2022-01-18T21:37:34.612Z"
   },
   {
    "duration": 7,
    "start_time": "2022-01-18T21:37:37.473Z"
   },
   {
    "duration": 6,
    "start_time": "2022-01-18T21:39:01.570Z"
   },
   {
    "duration": 7,
    "start_time": "2022-01-18T21:39:40.877Z"
   },
   {
    "duration": 69,
    "start_time": "2022-01-18T21:42:46.978Z"
   },
   {
    "duration": 274,
    "start_time": "2022-01-18T21:42:57.794Z"
   },
   {
    "duration": 4,
    "start_time": "2022-01-18T21:43:24.114Z"
   },
   {
    "duration": 6,
    "start_time": "2022-01-18T21:43:25.562Z"
   },
   {
    "duration": 343,
    "start_time": "2022-01-19T10:31:17.301Z"
   },
   {
    "duration": 300,
    "start_time": "2022-01-19T10:31:31.669Z"
   },
   {
    "duration": 740,
    "start_time": "2022-01-19T10:31:37.077Z"
   },
   {
    "duration": 63,
    "start_time": "2022-01-19T10:31:38.709Z"
   },
   {
    "duration": 28,
    "start_time": "2022-01-19T10:31:39.941Z"
   },
   {
    "duration": 14,
    "start_time": "2022-01-19T10:31:41.061Z"
   },
   {
    "duration": 12,
    "start_time": "2022-01-19T10:31:44.425Z"
   },
   {
    "duration": 35,
    "start_time": "2022-01-19T10:31:45.957Z"
   },
   {
    "duration": 9,
    "start_time": "2022-01-19T10:31:47.809Z"
   },
   {
    "duration": 7,
    "start_time": "2022-01-19T10:31:48.300Z"
   },
   {
    "duration": 6,
    "start_time": "2022-01-19T10:31:48.769Z"
   },
   {
    "duration": 10,
    "start_time": "2022-01-19T10:31:49.729Z"
   },
   {
    "duration": 14,
    "start_time": "2022-01-19T10:31:51.194Z"
   },
   {
    "duration": 6,
    "start_time": "2022-01-19T10:31:56.517Z"
   },
   {
    "duration": 7,
    "start_time": "2022-01-19T10:31:56.997Z"
   },
   {
    "duration": 12,
    "start_time": "2022-01-19T10:31:58.037Z"
   },
   {
    "duration": 12,
    "start_time": "2022-01-19T10:31:58.917Z"
   },
   {
    "duration": 8,
    "start_time": "2022-01-19T10:32:00.389Z"
   },
   {
    "duration": 8,
    "start_time": "2022-01-19T10:32:01.381Z"
   },
   {
    "duration": 15,
    "start_time": "2022-01-19T10:32:01.861Z"
   },
   {
    "duration": 13,
    "start_time": "2022-01-19T10:32:03.262Z"
   },
   {
    "duration": 37,
    "start_time": "2022-01-19T10:32:04.221Z"
   },
   {
    "duration": 8,
    "start_time": "2022-01-19T10:32:05.661Z"
   },
   {
    "duration": 17,
    "start_time": "2022-01-19T10:32:06.621Z"
   },
   {
    "duration": 8,
    "start_time": "2022-01-19T10:32:07.549Z"
   },
   {
    "duration": 10,
    "start_time": "2022-01-19T10:32:08.972Z"
   },
   {
    "duration": 16,
    "start_time": "2022-01-19T10:32:09.942Z"
   },
   {
    "duration": 11,
    "start_time": "2022-01-19T10:32:10.398Z"
   },
   {
    "duration": 9,
    "start_time": "2022-01-19T10:32:11.421Z"
   },
   {
    "duration": 9,
    "start_time": "2022-01-19T10:32:12.397Z"
   },
   {
    "duration": 1535,
    "start_time": "2022-01-19T10:32:14.517Z"
   },
   {
    "duration": 15,
    "start_time": "2022-01-19T10:32:16.301Z"
   },
   {
    "duration": 10,
    "start_time": "2022-01-19T10:45:59.901Z"
   },
   {
    "duration": 16,
    "start_time": "2022-01-19T10:46:02.513Z"
   },
   {
    "duration": 11,
    "start_time": "2022-01-19T10:46:45.063Z"
   },
   {
    "duration": 15,
    "start_time": "2022-01-19T10:46:58.286Z"
   },
   {
    "duration": 9,
    "start_time": "2022-01-19T10:47:09.293Z"
   },
   {
    "duration": 11,
    "start_time": "2022-01-19T10:49:43.621Z"
   },
   {
    "duration": 292,
    "start_time": "2022-01-19T11:27:00.184Z"
   },
   {
    "duration": 7,
    "start_time": "2022-01-19T11:27:40.960Z"
   },
   {
    "duration": 16,
    "start_time": "2022-01-19T11:29:02.736Z"
   },
   {
    "duration": 3,
    "start_time": "2022-01-19T11:31:17.071Z"
   },
   {
    "duration": 58,
    "start_time": "2022-01-19T11:31:18.303Z"
   },
   {
    "duration": 18,
    "start_time": "2022-01-19T11:31:19.410Z"
   },
   {
    "duration": 15,
    "start_time": "2022-01-19T11:31:20.531Z"
   },
   {
    "duration": 12,
    "start_time": "2022-01-19T11:31:25.771Z"
   },
   {
    "duration": 34,
    "start_time": "2022-01-19T11:31:28.064Z"
   },
   {
    "duration": 11,
    "start_time": "2022-01-19T11:31:30.351Z"
   },
   {
    "duration": 7,
    "start_time": "2022-01-19T11:31:31.264Z"
   },
   {
    "duration": 6,
    "start_time": "2022-01-19T11:31:32.111Z"
   },
   {
    "duration": 11,
    "start_time": "2022-01-19T11:31:36.191Z"
   },
   {
    "duration": 13,
    "start_time": "2022-01-19T11:31:37.152Z"
   },
   {
    "duration": 9,
    "start_time": "2022-01-19T11:31:38.352Z"
   },
   {
    "duration": 6,
    "start_time": "2022-01-19T11:31:38.928Z"
   },
   {
    "duration": 10,
    "start_time": "2022-01-19T11:31:43.776Z"
   },
   {
    "duration": 13,
    "start_time": "2022-01-19T11:31:44.784Z"
   },
   {
    "duration": 8,
    "start_time": "2022-01-19T11:31:48.345Z"
   },
   {
    "duration": 8,
    "start_time": "2022-01-19T11:31:54.432Z"
   },
   {
    "duration": 15,
    "start_time": "2022-01-19T11:31:55.120Z"
   },
   {
    "duration": 10,
    "start_time": "2022-01-19T11:32:02.544Z"
   },
   {
    "duration": 41,
    "start_time": "2022-01-19T11:32:06.384Z"
   },
   {
    "duration": 11,
    "start_time": "2022-01-19T11:32:11.840Z"
   },
   {
    "duration": 16,
    "start_time": "2022-01-19T11:32:18.080Z"
   },
   {
    "duration": 9,
    "start_time": "2022-01-19T11:32:23.440Z"
   },
   {
    "duration": 12,
    "start_time": "2022-01-19T11:32:31.383Z"
   },
   {
    "duration": 16,
    "start_time": "2022-01-19T11:32:33.072Z"
   },
   {
    "duration": 16,
    "start_time": "2022-01-19T11:32:33.811Z"
   },
   {
    "duration": 10,
    "start_time": "2022-01-19T11:32:36.945Z"
   },
   {
    "duration": 9,
    "start_time": "2022-01-19T11:32:38.192Z"
   },
   {
    "duration": 10,
    "start_time": "2022-01-19T11:32:41.378Z"
   },
   {
    "duration": 18,
    "start_time": "2022-01-19T11:32:41.874Z"
   },
   {
    "duration": 10,
    "start_time": "2022-01-19T11:32:43.771Z"
   },
   {
    "duration": 6,
    "start_time": "2022-01-19T11:32:49.280Z"
   },
   {
    "duration": 15,
    "start_time": "2022-01-19T11:32:51.291Z"
   },
   {
    "duration": 14,
    "start_time": "2022-01-19T11:35:03.360Z"
   },
   {
    "duration": 25,
    "start_time": "2022-01-19T11:35:56.933Z"
   },
   {
    "duration": 24,
    "start_time": "2022-01-19T11:44:24.008Z"
   },
   {
    "duration": 21,
    "start_time": "2022-01-19T11:44:47.144Z"
   },
   {
    "duration": 22,
    "start_time": "2022-01-19T11:46:34.052Z"
   },
   {
    "duration": 23,
    "start_time": "2022-01-19T11:46:56.793Z"
   },
   {
    "duration": 3,
    "start_time": "2022-01-19T11:48:21.272Z"
   },
   {
    "duration": 3,
    "start_time": "2022-01-19T11:48:21.993Z"
   },
   {
    "duration": 10,
    "start_time": "2022-01-19T11:48:23.033Z"
   },
   {
    "duration": 9,
    "start_time": "2022-01-19T11:48:24.011Z"
   },
   {
    "duration": 10,
    "start_time": "2022-01-19T11:48:26.600Z"
   },
   {
    "duration": 14,
    "start_time": "2022-01-19T11:48:27.105Z"
   },
   {
    "duration": 12,
    "start_time": "2022-01-19T11:48:28.125Z"
   },
   {
    "duration": 5,
    "start_time": "2022-01-19T11:48:32.245Z"
   },
   {
    "duration": 14,
    "start_time": "2022-01-19T11:48:33.783Z"
   },
   {
    "duration": 17,
    "start_time": "2022-01-19T11:48:40.265Z"
   },
   {
    "duration": 24,
    "start_time": "2022-01-19T11:48:48.305Z"
   },
   {
    "duration": 22,
    "start_time": "2022-01-19T11:48:52.386Z"
   },
   {
    "duration": 16,
    "start_time": "2022-01-19T11:49:11.673Z"
   },
   {
    "duration": 12,
    "start_time": "2022-01-19T11:49:12.313Z"
   },
   {
    "duration": 9,
    "start_time": "2022-01-19T11:49:13.321Z"
   },
   {
    "duration": 9,
    "start_time": "2022-01-19T11:49:14.361Z"
   },
   {
    "duration": 9,
    "start_time": "2022-01-19T11:49:17.832Z"
   },
   {
    "duration": 16,
    "start_time": "2022-01-19T11:49:19.017Z"
   },
   {
    "duration": 11,
    "start_time": "2022-01-19T11:49:24.137Z"
   },
   {
    "duration": 5,
    "start_time": "2022-01-19T11:49:29.058Z"
   },
   {
    "duration": 16,
    "start_time": "2022-01-19T11:49:30.772Z"
   },
   {
    "duration": 17,
    "start_time": "2022-01-19T11:49:36.587Z"
   },
   {
    "duration": 37,
    "start_time": "2022-01-19T11:49:41.513Z"
   },
   {
    "duration": 94,
    "start_time": "2022-01-19T11:56:37.297Z"
   },
   {
    "duration": 99,
    "start_time": "2022-01-19T11:56:42.708Z"
   },
   {
    "duration": 290,
    "start_time": "2022-01-19T11:56:51.442Z"
   },
   {
    "duration": 294,
    "start_time": "2022-01-19T11:57:38.872Z"
   },
   {
    "duration": 8,
    "start_time": "2022-01-19T11:57:45.096Z"
   },
   {
    "duration": 23,
    "start_time": "2022-01-19T11:57:59.442Z"
   },
   {
    "duration": 299,
    "start_time": "2022-01-19T11:58:22.618Z"
   },
   {
    "duration": 8,
    "start_time": "2022-01-19T11:58:36.441Z"
   },
   {
    "duration": 24,
    "start_time": "2022-01-19T12:00:43.042Z"
   },
   {
    "duration": 7,
    "start_time": "2022-01-19T12:03:51.429Z"
   },
   {
    "duration": 21,
    "start_time": "2022-01-19T12:03:58.604Z"
   },
   {
    "duration": 20,
    "start_time": "2022-01-19T12:07:44.673Z"
   },
   {
    "duration": 20,
    "start_time": "2022-01-19T12:08:05.353Z"
   },
   {
    "duration": 21,
    "start_time": "2022-01-19T12:10:21.133Z"
   },
   {
    "duration": 3,
    "start_time": "2022-01-19T12:10:29.292Z"
   },
   {
    "duration": 59,
    "start_time": "2022-01-19T12:10:30.293Z"
   },
   {
    "duration": 21,
    "start_time": "2022-01-19T12:10:31.293Z"
   },
   {
    "duration": 15,
    "start_time": "2022-01-19T12:10:32.313Z"
   },
   {
    "duration": 14,
    "start_time": "2022-01-19T12:10:35.432Z"
   },
   {
    "duration": 32,
    "start_time": "2022-01-19T12:10:36.852Z"
   },
   {
    "duration": 10,
    "start_time": "2022-01-19T12:10:38.593Z"
   },
   {
    "duration": 7,
    "start_time": "2022-01-19T12:10:39.149Z"
   },
   {
    "duration": 6,
    "start_time": "2022-01-19T12:10:39.612Z"
   },
   {
    "duration": 10,
    "start_time": "2022-01-19T12:10:40.575Z"
   },
   {
    "duration": 13,
    "start_time": "2022-01-19T12:10:41.473Z"
   },
   {
    "duration": 7,
    "start_time": "2022-01-19T12:10:42.412Z"
   },
   {
    "duration": 6,
    "start_time": "2022-01-19T12:10:42.873Z"
   },
   {
    "duration": 10,
    "start_time": "2022-01-19T12:10:43.772Z"
   },
   {
    "duration": 13,
    "start_time": "2022-01-19T12:10:44.692Z"
   },
   {
    "duration": 8,
    "start_time": "2022-01-19T12:10:46.140Z"
   },
   {
    "duration": 8,
    "start_time": "2022-01-19T12:10:47.092Z"
   },
   {
    "duration": 15,
    "start_time": "2022-01-19T12:10:47.596Z"
   },
   {
    "duration": 11,
    "start_time": "2022-01-19T12:10:48.957Z"
   },
   {
    "duration": 37,
    "start_time": "2022-01-19T12:10:49.877Z"
   },
   {
    "duration": 9,
    "start_time": "2022-01-19T12:10:51.773Z"
   },
   {
    "duration": 28,
    "start_time": "2022-01-19T12:10:52.654Z"
   },
   {
    "duration": 8,
    "start_time": "2022-01-19T12:10:53.554Z"
   },
   {
    "duration": 11,
    "start_time": "2022-01-19T12:10:55.004Z"
   },
   {
    "duration": 15,
    "start_time": "2022-01-19T12:10:56.126Z"
   },
   {
    "duration": 11,
    "start_time": "2022-01-19T12:10:56.607Z"
   },
   {
    "duration": 11,
    "start_time": "2022-01-19T12:10:57.532Z"
   },
   {
    "duration": 11,
    "start_time": "2022-01-19T12:10:59.004Z"
   },
   {
    "duration": 12,
    "start_time": "2022-01-19T12:11:00.604Z"
   },
   {
    "duration": 17,
    "start_time": "2022-01-19T12:11:02.060Z"
   },
   {
    "duration": 11,
    "start_time": "2022-01-19T12:11:03.292Z"
   },
   {
    "duration": 6,
    "start_time": "2022-01-19T12:11:08.077Z"
   },
   {
    "duration": 16,
    "start_time": "2022-01-19T12:11:10.832Z"
   },
   {
    "duration": 18,
    "start_time": "2022-01-19T12:11:16.933Z"
   },
   {
    "duration": 24,
    "start_time": "2022-01-19T12:11:20.793Z"
   },
   {
    "duration": 22,
    "start_time": "2022-01-19T12:11:22.540Z"
   },
   {
    "duration": 20,
    "start_time": "2022-01-19T12:11:35.900Z"
   },
   {
    "duration": 31,
    "start_time": "2022-01-19T12:12:00.993Z"
   },
   {
    "duration": 685,
    "start_time": "2022-01-19T19:43:49.302Z"
   },
   {
    "duration": 49,
    "start_time": "2022-01-19T19:43:51.482Z"
   },
   {
    "duration": 17,
    "start_time": "2022-01-19T19:43:52.776Z"
   },
   {
    "duration": 10,
    "start_time": "2022-01-19T19:43:54.139Z"
   },
   {
    "duration": 11,
    "start_time": "2022-01-19T19:44:01.043Z"
   },
   {
    "duration": 22,
    "start_time": "2022-01-19T19:44:03.302Z"
   },
   {
    "duration": 7,
    "start_time": "2022-01-19T19:44:07.802Z"
   },
   {
    "duration": 7,
    "start_time": "2022-01-19T19:44:08.602Z"
   },
   {
    "duration": 5,
    "start_time": "2022-01-19T19:44:09.282Z"
   },
   {
    "duration": 7,
    "start_time": "2022-01-19T19:44:12.123Z"
   },
   {
    "duration": 9,
    "start_time": "2022-01-19T19:44:13.351Z"
   },
   {
    "duration": 5,
    "start_time": "2022-01-19T19:44:14.822Z"
   },
   {
    "duration": 4,
    "start_time": "2022-01-19T19:44:17.395Z"
   },
   {
    "duration": 6,
    "start_time": "2022-01-19T19:44:18.980Z"
   },
   {
    "duration": 11,
    "start_time": "2022-01-19T19:44:20.442Z"
   },
   {
    "duration": 6,
    "start_time": "2022-01-19T19:44:22.863Z"
   },
   {
    "duration": 6,
    "start_time": "2022-01-19T19:44:24.622Z"
   },
   {
    "duration": 10,
    "start_time": "2022-01-19T19:44:25.545Z"
   },
   {
    "duration": 8,
    "start_time": "2022-01-19T19:44:29.002Z"
   },
   {
    "duration": 23,
    "start_time": "2022-01-19T19:44:37.890Z"
   },
   {
    "duration": 6,
    "start_time": "2022-01-19T19:44:42.849Z"
   },
   {
    "duration": 11,
    "start_time": "2022-01-19T19:44:54.211Z"
   },
   {
    "duration": 6,
    "start_time": "2022-01-19T19:44:56.803Z"
   },
   {
    "duration": 8,
    "start_time": "2022-01-19T19:45:00.251Z"
   },
   {
    "duration": 12,
    "start_time": "2022-01-19T19:45:04.443Z"
   },
   {
    "duration": 9,
    "start_time": "2022-01-19T19:45:05.366Z"
   },
   {
    "duration": 7,
    "start_time": "2022-01-19T19:45:08.691Z"
   },
   {
    "duration": 8,
    "start_time": "2022-01-19T19:45:12.630Z"
   },
   {
    "duration": 7,
    "start_time": "2022-01-19T19:45:20.304Z"
   },
   {
    "duration": 11,
    "start_time": "2022-01-19T19:45:21.662Z"
   },
   {
    "duration": 8,
    "start_time": "2022-01-19T19:45:28.290Z"
   },
   {
    "duration": 5,
    "start_time": "2022-01-19T19:46:13.146Z"
   },
   {
    "duration": 11,
    "start_time": "2022-01-19T19:46:15.692Z"
   },
   {
    "duration": 12,
    "start_time": "2022-01-19T19:46:19.565Z"
   },
   {
    "duration": 12,
    "start_time": "2022-01-19T19:47:19.481Z"
   },
   {
    "duration": 16,
    "start_time": "2022-01-19T19:47:53.061Z"
   },
   {
    "duration": 14,
    "start_time": "2022-01-19T19:51:31.352Z"
   },
   {
    "duration": 18,
    "start_time": "2022-01-19T19:51:56.567Z"
   },
   {
    "duration": 17,
    "start_time": "2022-01-19T20:00:52.306Z"
   },
   {
    "duration": 21,
    "start_time": "2022-01-19T20:01:28.623Z"
   },
   {
    "duration": 19,
    "start_time": "2022-01-19T20:01:38.949Z"
   },
   {
    "duration": 3,
    "start_time": "2022-01-19T20:02:22.404Z"
   },
   {
    "duration": 12,
    "start_time": "2022-01-19T20:02:41.184Z"
   },
   {
    "duration": 18,
    "start_time": "2022-01-19T20:06:30.005Z"
   },
   {
    "duration": 11,
    "start_time": "2022-01-19T20:06:30.664Z"
   },
   {
    "duration": 14,
    "start_time": "2022-01-19T20:09:47.630Z"
   },
   {
    "duration": 251,
    "start_time": "2022-01-19T21:23:44.390Z"
   },
   {
    "duration": 64,
    "start_time": "2022-01-19T21:24:58.082Z"
   },
   {
    "duration": 60,
    "start_time": "2022-01-19T21:25:13.162Z"
   },
   {
    "duration": 63,
    "start_time": "2022-01-19T21:25:53.342Z"
   },
   {
    "duration": 70,
    "start_time": "2022-01-19T21:26:59.262Z"
   },
   {
    "duration": 66,
    "start_time": "2022-01-19T21:27:14.891Z"
   },
   {
    "duration": 66,
    "start_time": "2022-01-19T21:31:41.535Z"
   },
   {
    "duration": 64,
    "start_time": "2022-01-19T21:31:58.529Z"
   },
   {
    "duration": 3,
    "start_time": "2022-01-19T21:32:11.645Z"
   },
   {
    "duration": 49,
    "start_time": "2022-01-19T21:32:12.912Z"
   },
   {
    "duration": 12,
    "start_time": "2022-01-19T21:32:14.032Z"
   },
   {
    "duration": 10,
    "start_time": "2022-01-19T21:32:15.144Z"
   },
   {
    "duration": 10,
    "start_time": "2022-01-19T21:32:18.672Z"
   },
   {
    "duration": 20,
    "start_time": "2022-01-19T21:32:21.892Z"
   },
   {
    "duration": 7,
    "start_time": "2022-01-19T21:32:26.792Z"
   },
   {
    "duration": 6,
    "start_time": "2022-01-19T21:32:27.812Z"
   },
   {
    "duration": 5,
    "start_time": "2022-01-19T21:32:30.232Z"
   },
   {
    "duration": 8,
    "start_time": "2022-01-19T21:32:31.952Z"
   },
   {
    "duration": 10,
    "start_time": "2022-01-19T21:32:33.445Z"
   },
   {
    "duration": 6,
    "start_time": "2022-01-19T21:32:35.292Z"
   },
   {
    "duration": 4,
    "start_time": "2022-01-19T21:32:35.992Z"
   },
   {
    "duration": 6,
    "start_time": "2022-01-19T21:32:40.812Z"
   },
   {
    "duration": 9,
    "start_time": "2022-01-19T21:32:42.132Z"
   },
   {
    "duration": 6,
    "start_time": "2022-01-19T21:32:46.972Z"
   },
   {
    "duration": 5,
    "start_time": "2022-01-19T21:32:49.034Z"
   },
   {
    "duration": 11,
    "start_time": "2022-01-19T21:32:49.724Z"
   },
   {
    "duration": 7,
    "start_time": "2022-01-19T21:32:53.412Z"
   },
   {
    "duration": 22,
    "start_time": "2022-01-19T21:32:54.713Z"
   },
   {
    "duration": 6,
    "start_time": "2022-01-19T21:32:57.484Z"
   },
   {
    "duration": 11,
    "start_time": "2022-01-19T21:33:00.352Z"
   },
   {
    "duration": 6,
    "start_time": "2022-01-19T21:33:01.664Z"
   },
   {
    "duration": 7,
    "start_time": "2022-01-19T21:33:05.573Z"
   },
   {
    "duration": 12,
    "start_time": "2022-01-19T21:33:08.440Z"
   },
   {
    "duration": 8,
    "start_time": "2022-01-19T21:33:09.236Z"
   },
   {
    "duration": 8,
    "start_time": "2022-01-19T21:33:12.754Z"
   },
   {
    "duration": 8,
    "start_time": "2022-01-19T21:33:14.492Z"
   },
   {
    "duration": 9,
    "start_time": "2022-01-19T21:33:18.552Z"
   },
   {
    "duration": 12,
    "start_time": "2022-01-19T21:33:19.268Z"
   },
   {
    "duration": 9,
    "start_time": "2022-01-19T21:33:23.615Z"
   },
   {
    "duration": 5,
    "start_time": "2022-01-19T21:33:41.093Z"
   },
   {
    "duration": 13,
    "start_time": "2022-01-19T21:33:41.672Z"
   },
   {
    "duration": 12,
    "start_time": "2022-01-19T21:33:43.253Z"
   },
   {
    "duration": 12,
    "start_time": "2022-01-19T21:33:46.512Z"
   },
   {
    "duration": 17,
    "start_time": "2022-01-19T21:33:52.284Z"
   },
   {
    "duration": 15,
    "start_time": "2022-01-19T21:33:54.213Z"
   },
   {
    "duration": 18,
    "start_time": "2022-01-19T21:33:55.112Z"
   },
   {
    "duration": 19,
    "start_time": "2022-01-19T21:33:58.665Z"
   },
   {
    "duration": 11,
    "start_time": "2022-01-19T21:33:59.565Z"
   },
   {
    "duration": 75,
    "start_time": "2022-01-19T21:34:30.214Z"
   },
   {
    "duration": 540,
    "start_time": "2022-01-20T20:00:39.312Z"
   },
   {
    "duration": 51,
    "start_time": "2022-01-20T20:00:40.792Z"
   },
   {
    "duration": 19,
    "start_time": "2022-01-20T20:00:42.226Z"
   },
   {
    "duration": 12,
    "start_time": "2022-01-20T20:00:43.753Z"
   },
   {
    "duration": 10,
    "start_time": "2022-01-20T20:00:48.173Z"
   },
   {
    "duration": 21,
    "start_time": "2022-01-20T20:00:56.192Z"
   },
   {
    "duration": 9,
    "start_time": "2022-01-20T20:01:01.045Z"
   },
   {
    "duration": 5,
    "start_time": "2022-01-20T20:01:03.993Z"
   },
   {
    "duration": 5,
    "start_time": "2022-01-20T20:01:04.725Z"
   },
   {
    "duration": 7,
    "start_time": "2022-01-20T20:01:07.854Z"
   },
   {
    "duration": 9,
    "start_time": "2022-01-20T20:01:09.207Z"
   },
   {
    "duration": 5,
    "start_time": "2022-01-20T20:01:12.156Z"
   },
   {
    "duration": 5,
    "start_time": "2022-01-20T20:01:12.846Z"
   },
   {
    "duration": 9,
    "start_time": "2022-01-20T20:01:16.182Z"
   },
   {
    "duration": 9,
    "start_time": "2022-01-20T20:01:17.654Z"
   },
   {
    "duration": 6,
    "start_time": "2022-01-20T20:01:22.305Z"
   },
   {
    "duration": 5,
    "start_time": "2022-01-20T20:01:25.886Z"
   },
   {
    "duration": 10,
    "start_time": "2022-01-20T20:01:26.813Z"
   },
   {
    "duration": 8,
    "start_time": "2022-01-20T20:01:29.993Z"
   },
   {
    "duration": 23,
    "start_time": "2022-01-20T20:01:31.887Z"
   },
   {
    "duration": 6,
    "start_time": "2022-01-20T20:01:50.133Z"
   },
   {
    "duration": 11,
    "start_time": "2022-01-20T20:01:53.693Z"
   },
   {
    "duration": 6,
    "start_time": "2022-01-20T20:01:55.373Z"
   },
   {
    "duration": 7,
    "start_time": "2022-01-20T20:01:59.906Z"
   },
   {
    "duration": 10,
    "start_time": "2022-01-20T20:02:02.913Z"
   },
   {
    "duration": 8,
    "start_time": "2022-01-20T20:02:03.593Z"
   },
   {
    "duration": 7,
    "start_time": "2022-01-20T20:02:06.572Z"
   },
   {
    "duration": 8,
    "start_time": "2022-01-20T20:02:08.153Z"
   },
   {
    "duration": 8,
    "start_time": "2022-01-20T20:02:17.312Z"
   },
   {
    "duration": 11,
    "start_time": "2022-01-20T20:02:18.433Z"
   },
   {
    "duration": 8,
    "start_time": "2022-01-20T20:02:22.852Z"
   },
   {
    "duration": 5,
    "start_time": "2022-01-20T20:02:28.972Z"
   },
   {
    "duration": 12,
    "start_time": "2022-01-20T20:02:29.613Z"
   },
   {
    "duration": 18,
    "start_time": "2022-01-20T20:02:32.926Z"
   },
   {
    "duration": 16,
    "start_time": "2022-01-20T20:02:37.213Z"
   },
   {
    "duration": 16,
    "start_time": "2022-01-20T20:02:42.613Z"
   },
   {
    "duration": 13,
    "start_time": "2022-01-20T20:02:44.206Z"
   },
   {
    "duration": 16,
    "start_time": "2022-01-20T20:02:45.413Z"
   },
   {
    "duration": 17,
    "start_time": "2022-01-20T20:02:48.366Z"
   },
   {
    "duration": 10,
    "start_time": "2022-01-20T20:02:49.072Z"
   },
   {
    "duration": 97,
    "start_time": "2022-01-20T20:05:03.705Z"
   },
   {
    "duration": 639,
    "start_time": "2022-01-20T20:05:35.713Z"
   },
   {
    "duration": 2301,
    "start_time": "2022-01-20T20:11:32.087Z"
   },
   {
    "duration": 18,
    "start_time": "2022-01-20T21:08:53.078Z"
   },
   {
    "duration": 29,
    "start_time": "2022-01-20T21:10:59.005Z"
   },
   {
    "duration": 2406,
    "start_time": "2022-01-20T21:31:28.583Z"
   },
   {
    "duration": 14,
    "start_time": "2022-01-20T21:36:19.692Z"
   },
   {
    "duration": 13,
    "start_time": "2022-01-20T21:41:17.712Z"
   },
   {
    "duration": 3,
    "start_time": "2022-01-20T21:50:57.133Z"
   },
   {
    "duration": 47,
    "start_time": "2022-01-20T21:50:58.583Z"
   },
   {
    "duration": 13,
    "start_time": "2022-01-20T21:51:00.361Z"
   },
   {
    "duration": 10,
    "start_time": "2022-01-20T21:51:01.973Z"
   },
   {
    "duration": 10,
    "start_time": "2022-01-20T21:51:06.473Z"
   },
   {
    "duration": 24,
    "start_time": "2022-01-20T21:51:08.701Z"
   },
   {
    "duration": 7,
    "start_time": "2022-01-20T21:51:11.761Z"
   },
   {
    "duration": 5,
    "start_time": "2022-01-20T21:51:12.681Z"
   },
   {
    "duration": 4,
    "start_time": "2022-01-20T21:51:13.401Z"
   },
   {
    "duration": 7,
    "start_time": "2022-01-20T21:51:15.081Z"
   },
   {
    "duration": 9,
    "start_time": "2022-01-20T21:51:16.661Z"
   },
   {
    "duration": 6,
    "start_time": "2022-01-20T21:51:18.213Z"
   },
   {
    "duration": 4,
    "start_time": "2022-01-20T21:51:18.941Z"
   },
   {
    "duration": 7,
    "start_time": "2022-01-20T21:51:20.633Z"
   },
   {
    "duration": 9,
    "start_time": "2022-01-20T21:51:24.093Z"
   },
   {
    "duration": 6,
    "start_time": "2022-01-20T21:51:33.199Z"
   },
   {
    "duration": 6,
    "start_time": "2022-01-20T21:51:35.403Z"
   },
   {
    "duration": 10,
    "start_time": "2022-01-20T21:51:40.795Z"
   },
   {
    "duration": 8,
    "start_time": "2022-01-20T21:51:45.931Z"
   },
   {
    "duration": 23,
    "start_time": "2022-01-20T21:51:49.479Z"
   },
   {
    "duration": 5,
    "start_time": "2022-01-20T21:51:51.731Z"
   },
   {
    "duration": 11,
    "start_time": "2022-01-20T21:51:56.830Z"
   },
   {
    "duration": 5,
    "start_time": "2022-01-20T21:52:00.836Z"
   },
   {
    "duration": 7,
    "start_time": "2022-01-20T21:52:02.983Z"
   },
   {
    "duration": 9,
    "start_time": "2022-01-20T21:52:06.071Z"
   },
   {
    "duration": 8,
    "start_time": "2022-01-20T21:52:06.695Z"
   },
   {
    "duration": 7,
    "start_time": "2022-01-20T21:52:08.055Z"
   },
   {
    "duration": 7,
    "start_time": "2022-01-20T21:52:11.274Z"
   },
   {
    "duration": 7,
    "start_time": "2022-01-20T21:52:12.635Z"
   },
   {
    "duration": 11,
    "start_time": "2022-01-20T21:52:13.515Z"
   },
   {
    "duration": 8,
    "start_time": "2022-01-20T21:52:16.991Z"
   },
   {
    "duration": 5,
    "start_time": "2022-01-20T21:52:26.251Z"
   },
   {
    "duration": 11,
    "start_time": "2022-01-20T21:52:27.136Z"
   },
   {
    "duration": 13,
    "start_time": "2022-01-20T21:52:30.490Z"
   },
   {
    "duration": 11,
    "start_time": "2022-01-20T21:52:33.455Z"
   },
   {
    "duration": 15,
    "start_time": "2022-01-20T21:52:42.415Z"
   },
   {
    "duration": 15,
    "start_time": "2022-01-20T21:52:44.031Z"
   },
   {
    "duration": 17,
    "start_time": "2022-01-20T21:52:46.255Z"
   },
   {
    "duration": 17,
    "start_time": "2022-01-20T21:52:48.798Z"
   },
   {
    "duration": 10,
    "start_time": "2022-01-20T21:52:51.035Z"
   },
   {
    "duration": 2361,
    "start_time": "2022-01-20T21:52:56.431Z"
   },
   {
    "duration": 13,
    "start_time": "2022-01-20T21:53:05.811Z"
   },
   {
    "duration": 11,
    "start_time": "2022-01-20T21:53:09.055Z"
   },
   {
    "duration": 912,
    "start_time": "2022-01-21T11:26:03.542Z"
   },
   {
    "duration": 71,
    "start_time": "2022-01-21T11:26:06.035Z"
   },
   {
    "duration": 37,
    "start_time": "2022-01-21T11:26:07.345Z"
   },
   {
    "duration": 22,
    "start_time": "2022-01-21T11:26:10.503Z"
   },
   {
    "duration": 13,
    "start_time": "2022-01-21T11:26:16.612Z"
   },
   {
    "duration": 40,
    "start_time": "2022-01-21T11:26:18.452Z"
   },
   {
    "duration": 10,
    "start_time": "2022-01-21T11:26:22.085Z"
   },
   {
    "duration": 8,
    "start_time": "2022-01-21T11:26:24.047Z"
   },
   {
    "duration": 11,
    "start_time": "2022-01-21T11:26:24.484Z"
   },
   {
    "duration": 9,
    "start_time": "2022-01-21T11:26:26.756Z"
   },
   {
    "duration": 13,
    "start_time": "2022-01-21T11:26:27.844Z"
   },
   {
    "duration": 8,
    "start_time": "2022-01-21T11:26:30.035Z"
   },
   {
    "duration": 6,
    "start_time": "2022-01-21T11:26:30.516Z"
   },
   {
    "duration": 10,
    "start_time": "2022-01-21T11:26:31.576Z"
   },
   {
    "duration": 17,
    "start_time": "2022-01-21T11:26:32.564Z"
   },
   {
    "duration": 9,
    "start_time": "2022-01-21T11:26:35.625Z"
   },
   {
    "duration": 8,
    "start_time": "2022-01-21T11:26:38.003Z"
   },
   {
    "duration": 17,
    "start_time": "2022-01-21T11:26:38.436Z"
   },
   {
    "duration": 12,
    "start_time": "2022-01-21T11:26:41.237Z"
   },
   {
    "duration": 39,
    "start_time": "2022-01-21T11:26:42.390Z"
   },
   {
    "duration": 8,
    "start_time": "2022-01-21T11:26:45.238Z"
   },
   {
    "duration": 17,
    "start_time": "2022-01-21T11:26:46.216Z"
   },
   {
    "duration": 8,
    "start_time": "2022-01-21T11:26:48.838Z"
   },
   {
    "duration": 11,
    "start_time": "2022-01-21T11:26:50.341Z"
   },
   {
    "duration": 21,
    "start_time": "2022-01-21T11:26:52.660Z"
   },
   {
    "duration": 13,
    "start_time": "2022-01-21T11:26:53.124Z"
   },
   {
    "duration": 10,
    "start_time": "2022-01-21T11:26:54.115Z"
   },
   {
    "duration": 10,
    "start_time": "2022-01-21T11:26:56.921Z"
   },
   {
    "duration": 15,
    "start_time": "2022-01-21T11:26:57.984Z"
   },
   {
    "duration": 23,
    "start_time": "2022-01-21T11:26:58.500Z"
   },
   {
    "duration": 11,
    "start_time": "2022-01-21T11:27:00.940Z"
   },
   {
    "duration": 6,
    "start_time": "2022-01-21T11:27:04.636Z"
   },
   {
    "duration": 17,
    "start_time": "2022-01-21T11:27:06.282Z"
   },
   {
    "duration": 27,
    "start_time": "2022-01-21T11:27:09.860Z"
   },
   {
    "duration": 18,
    "start_time": "2022-01-21T11:27:13.239Z"
   },
   {
    "duration": 23,
    "start_time": "2022-01-21T11:27:27.591Z"
   },
   {
    "duration": 20,
    "start_time": "2022-01-21T11:27:29.723Z"
   },
   {
    "duration": 31,
    "start_time": "2022-01-21T11:27:30.178Z"
   },
   {
    "duration": 27,
    "start_time": "2022-01-21T11:27:32.690Z"
   },
   {
    "duration": 17,
    "start_time": "2022-01-21T11:27:32.857Z"
   },
   {
    "duration": 3481,
    "start_time": "2022-01-21T11:27:37.351Z"
   },
   {
    "duration": 22,
    "start_time": "2022-01-21T11:27:46.498Z"
   },
   {
    "duration": 24,
    "start_time": "2022-01-21T11:27:50.150Z"
   },
   {
    "duration": 4,
    "start_time": "2022-01-21T11:41:40.086Z"
   },
   {
    "duration": 47,
    "start_time": "2022-01-21T11:43:36.999Z"
   },
   {
    "duration": 32,
    "start_time": "2022-01-21T11:54:55.512Z"
   },
   {
    "duration": 29,
    "start_time": "2022-01-21T12:15:36.686Z"
   },
   {
    "duration": 2544,
    "start_time": "2022-01-21T12:25:00.310Z"
   },
   {
    "duration": 23,
    "start_time": "2022-01-21T12:25:22.849Z"
   },
   {
    "duration": 2011,
    "start_time": "2022-01-21T12:29:34.280Z"
   },
   {
    "duration": 24,
    "start_time": "2022-01-21T12:29:57.710Z"
   },
   {
    "duration": 42,
    "start_time": "2022-01-21T12:32:28.371Z"
   },
   {
    "duration": 40,
    "start_time": "2022-01-21T12:37:59.460Z"
   },
   {
    "duration": 7,
    "start_time": "2022-01-21T12:40:14.453Z"
   },
   {
    "duration": 6,
    "start_time": "2022-01-21T12:40:32.309Z"
   },
   {
    "duration": 7,
    "start_time": "2022-01-21T12:45:48.914Z"
   },
   {
    "duration": 9,
    "start_time": "2022-01-21T12:46:05.234Z"
   },
   {
    "duration": 5,
    "start_time": "2022-01-21T12:46:23.015Z"
   },
   {
    "duration": 7,
    "start_time": "2022-01-21T12:46:23.997Z"
   },
   {
    "duration": 43,
    "start_time": "2022-01-21T12:55:58.969Z"
   },
   {
    "duration": 36,
    "start_time": "2022-01-21T13:01:50.608Z"
   },
   {
    "duration": 40,
    "start_time": "2022-01-21T13:04:27.860Z"
   },
   {
    "duration": 34,
    "start_time": "2022-01-21T13:05:39.390Z"
   },
   {
    "duration": 23,
    "start_time": "2022-01-21T13:20:15.032Z"
   },
   {
    "duration": 25,
    "start_time": "2022-01-21T13:20:23.960Z"
   },
   {
    "duration": 20,
    "start_time": "2022-01-21T13:21:12.807Z"
   },
   {
    "duration": 21,
    "start_time": "2022-01-21T13:25:43.602Z"
   },
   {
    "duration": 21,
    "start_time": "2022-01-21T13:26:49.409Z"
   },
   {
    "duration": 21,
    "start_time": "2022-01-21T13:28:17.836Z"
   },
   {
    "duration": 536,
    "start_time": "2022-01-21T20:29:04.044Z"
   },
   {
    "duration": 200,
    "start_time": "2022-01-21T20:29:09.607Z"
   },
   {
    "duration": 20,
    "start_time": "2022-01-21T20:29:12.306Z"
   },
   {
    "duration": 11,
    "start_time": "2022-01-21T20:29:18.787Z"
   },
   {
    "duration": 11,
    "start_time": "2022-01-21T20:31:08.177Z"
   },
   {
    "duration": 21,
    "start_time": "2022-01-21T20:31:34.008Z"
   },
   {
    "duration": 8,
    "start_time": "2022-01-21T20:32:56.182Z"
   },
   {
    "duration": 5,
    "start_time": "2022-01-21T20:33:34.128Z"
   },
   {
    "duration": 5,
    "start_time": "2022-01-21T20:33:44.835Z"
   },
   {
    "duration": 8,
    "start_time": "2022-01-21T20:33:55.811Z"
   },
   {
    "duration": 17,
    "start_time": "2022-01-21T20:33:59.437Z"
   },
   {
    "duration": 6,
    "start_time": "2022-01-21T20:34:28.368Z"
   },
   {
    "duration": 5,
    "start_time": "2022-01-21T20:34:30.798Z"
   },
   {
    "duration": 7,
    "start_time": "2022-01-21T20:34:48.868Z"
   },
   {
    "duration": 10,
    "start_time": "2022-01-21T20:34:52.817Z"
   },
   {
    "duration": 8,
    "start_time": "2022-01-21T20:35:19.989Z"
   },
   {
    "duration": 7,
    "start_time": "2022-01-21T20:35:55.836Z"
   },
   {
    "duration": 12,
    "start_time": "2022-01-21T20:36:01.876Z"
   },
   {
    "duration": 8,
    "start_time": "2022-01-21T20:36:27.636Z"
   },
   {
    "duration": 24,
    "start_time": "2022-01-21T20:37:24.704Z"
   },
   {
    "duration": 6,
    "start_time": "2022-01-21T20:37:41.836Z"
   },
   {
    "duration": 11,
    "start_time": "2022-01-21T20:38:19.164Z"
   },
   {
    "duration": 6,
    "start_time": "2022-01-21T20:38:26.656Z"
   },
   {
    "duration": 8,
    "start_time": "2022-01-21T20:38:34.904Z"
   },
   {
    "duration": 12,
    "start_time": "2022-01-21T20:38:48.056Z"
   },
   {
    "duration": 9,
    "start_time": "2022-01-21T20:38:49.272Z"
   },
   {
    "duration": 8,
    "start_time": "2022-01-21T20:39:03.066Z"
   },
   {
    "duration": 6,
    "start_time": "2022-01-21T20:39:13.680Z"
   },
   {
    "duration": 8,
    "start_time": "2022-01-21T20:39:27.804Z"
   },
   {
    "duration": 15,
    "start_time": "2022-01-21T20:39:28.956Z"
   },
   {
    "duration": 8,
    "start_time": "2022-01-21T20:39:36.752Z"
   },
   {
    "duration": 5,
    "start_time": "2022-01-21T20:41:20.194Z"
   },
   {
    "duration": 12,
    "start_time": "2022-01-21T20:41:23.039Z"
   },
   {
    "duration": 13,
    "start_time": "2022-01-21T20:41:34.654Z"
   },
   {
    "duration": 12,
    "start_time": "2022-01-21T20:41:43.275Z"
   },
   {
    "duration": 18,
    "start_time": "2022-01-21T20:43:03.154Z"
   },
   {
    "duration": 16,
    "start_time": "2022-01-21T20:43:19.358Z"
   },
   {
    "duration": 17,
    "start_time": "2022-01-21T20:43:21.454Z"
   },
   {
    "duration": 19,
    "start_time": "2022-01-21T20:43:43.654Z"
   },
   {
    "duration": 12,
    "start_time": "2022-01-21T20:43:45.713Z"
   },
   {
    "duration": 2519,
    "start_time": "2022-01-21T20:44:35.698Z"
   },
   {
    "duration": 15,
    "start_time": "2022-01-21T20:47:49.574Z"
   },
   {
    "duration": 14,
    "start_time": "2022-01-21T20:47:58.397Z"
   },
   {
    "duration": 19,
    "start_time": "2022-01-21T20:49:46.253Z"
   },
   {
    "duration": 21,
    "start_time": "2022-01-21T20:52:25.332Z"
   },
   {
    "duration": 5,
    "start_time": "2022-01-21T20:52:44.759Z"
   },
   {
    "duration": 4,
    "start_time": "2022-01-21T20:52:45.932Z"
   },
   {
    "duration": 27,
    "start_time": "2022-01-21T20:53:19.734Z"
   },
   {
    "duration": 18,
    "start_time": "2022-01-21T20:54:59.133Z"
   },
   {
    "duration": 14,
    "start_time": "2022-01-21T20:55:25.952Z"
   },
   {
    "duration": 14,
    "start_time": "2022-01-21T21:01:36.852Z"
   },
   {
    "duration": 15,
    "start_time": "2022-01-21T21:02:54.692Z"
   },
   {
    "duration": 1001,
    "start_time": "2022-01-27T06:13:20.725Z"
   },
   {
    "duration": 86,
    "start_time": "2022-01-27T06:13:21.729Z"
   },
   {
    "duration": 124,
    "start_time": "2022-01-27T06:13:21.819Z"
   },
   {
    "duration": 15,
    "start_time": "2022-01-27T06:13:21.946Z"
   },
   {
    "duration": 19,
    "start_time": "2022-01-27T06:13:21.964Z"
   },
   {
    "duration": 77,
    "start_time": "2022-01-27T06:13:21.986Z"
   },
   {
    "duration": 14,
    "start_time": "2022-01-27T06:13:22.066Z"
   },
   {
    "duration": 13,
    "start_time": "2022-01-27T06:13:22.082Z"
   },
   {
    "duration": 6,
    "start_time": "2022-01-27T06:13:22.100Z"
   },
   {
    "duration": 15,
    "start_time": "2022-01-27T06:13:22.135Z"
   },
   {
    "duration": 18,
    "start_time": "2022-01-27T06:13:22.153Z"
   },
   {
    "duration": 10,
    "start_time": "2022-01-27T06:13:22.174Z"
   },
   {
    "duration": 46,
    "start_time": "2022-01-27T06:13:22.186Z"
   },
   {
    "duration": 14,
    "start_time": "2022-01-27T06:13:22.235Z"
   },
   {
    "duration": 16,
    "start_time": "2022-01-27T06:13:22.252Z"
   },
   {
    "duration": 16,
    "start_time": "2022-01-27T06:13:22.271Z"
   },
   {
    "duration": 43,
    "start_time": "2022-01-27T06:13:22.289Z"
   },
   {
    "duration": 28,
    "start_time": "2022-01-27T06:13:22.335Z"
   },
   {
    "duration": 13,
    "start_time": "2022-01-27T06:13:22.367Z"
   },
   {
    "duration": 75,
    "start_time": "2022-01-27T06:13:22.382Z"
   },
   {
    "duration": 9,
    "start_time": "2022-01-27T06:13:22.460Z"
   },
   {
    "duration": 29,
    "start_time": "2022-01-27T06:13:22.472Z"
   },
   {
    "duration": 37,
    "start_time": "2022-01-27T06:13:22.504Z"
   },
   {
    "duration": 13,
    "start_time": "2022-01-27T06:13:22.544Z"
   },
   {
    "duration": 23,
    "start_time": "2022-01-27T06:13:22.560Z"
   },
   {
    "duration": 57,
    "start_time": "2022-01-27T06:13:22.585Z"
   },
   {
    "duration": 13,
    "start_time": "2022-01-27T06:13:22.648Z"
   },
   {
    "duration": 15,
    "start_time": "2022-01-27T06:13:22.666Z"
   },
   {
    "duration": 13,
    "start_time": "2022-01-27T06:13:22.683Z"
   },
   {
    "duration": 21,
    "start_time": "2022-01-27T06:13:22.744Z"
   },
   {
    "duration": 15,
    "start_time": "2022-01-27T06:13:22.768Z"
   },
   {
    "duration": 8,
    "start_time": "2022-01-27T06:13:22.787Z"
   },
   {
    "duration": 41,
    "start_time": "2022-01-27T06:13:22.798Z"
   },
   {
    "duration": 17,
    "start_time": "2022-01-27T06:13:22.842Z"
   },
   {
    "duration": 20,
    "start_time": "2022-01-27T06:13:22.862Z"
   },
   {
    "duration": 61,
    "start_time": "2022-01-27T06:13:22.884Z"
   },
   {
    "duration": 30,
    "start_time": "2022-01-27T06:13:22.948Z"
   },
   {
    "duration": 53,
    "start_time": "2022-01-27T06:13:22.981Z"
   },
   {
    "duration": 27,
    "start_time": "2022-01-27T06:13:23.037Z"
   },
   {
    "duration": 14,
    "start_time": "2022-01-27T06:13:23.067Z"
   },
   {
    "duration": 3785,
    "start_time": "2022-01-27T06:13:23.086Z"
   },
   {
    "duration": 24,
    "start_time": "2022-01-27T06:13:26.875Z"
   },
   {
    "duration": 150,
    "start_time": "2022-01-27T06:13:26.901Z"
   },
   {
    "duration": 49,
    "start_time": "2022-01-27T06:13:27.054Z"
   },
   {
    "duration": 41,
    "start_time": "2022-01-27T06:13:27.106Z"
   },
   {
    "duration": 5,
    "start_time": "2022-01-27T06:13:27.152Z"
   },
   {
    "duration": 16,
    "start_time": "2022-01-27T06:13:27.160Z"
   },
   {
    "duration": 75,
    "start_time": "2022-01-27T06:13:27.180Z"
   },
   {
    "duration": 39,
    "start_time": "2022-01-27T06:13:27.258Z"
   },
   {
    "duration": 35,
    "start_time": "2022-01-27T06:13:27.299Z"
   },
   {
    "duration": 20,
    "start_time": "2022-01-27T06:13:27.337Z"
   },
   {
    "duration": 22,
    "start_time": "2022-01-27T06:13:27.360Z"
   },
   {
    "duration": 114,
    "start_time": "2022-01-27T06:24:16.788Z"
   },
   {
    "duration": 15,
    "start_time": "2022-01-27T06:26:47.634Z"
   },
   {
    "duration": 415,
    "start_time": "2022-01-27T18:44:15.289Z"
   },
   {
    "duration": 770,
    "start_time": "2022-01-27T18:44:28.668Z"
   },
   {
    "duration": 67,
    "start_time": "2022-01-27T18:44:30.770Z"
   },
   {
    "duration": 29,
    "start_time": "2022-01-27T18:44:37.950Z"
   },
   {
    "duration": 24,
    "start_time": "2022-01-27T18:44:39.284Z"
   },
   {
    "duration": 13,
    "start_time": "2022-01-27T18:44:43.780Z"
   },
   {
    "duration": 34,
    "start_time": "2022-01-27T18:44:45.460Z"
   },
   {
    "duration": 11,
    "start_time": "2022-01-27T18:44:48.280Z"
   },
   {
    "duration": 8,
    "start_time": "2022-01-27T18:44:48.589Z"
   },
   {
    "duration": 7,
    "start_time": "2022-01-27T18:44:49.170Z"
   },
   {
    "duration": 9,
    "start_time": "2022-01-27T18:44:51.470Z"
   },
   {
    "duration": 18,
    "start_time": "2022-01-27T18:44:53.451Z"
   },
   {
    "duration": 11,
    "start_time": "2022-01-27T18:44:54.660Z"
   },
   {
    "duration": 7,
    "start_time": "2022-01-27T18:44:55.260Z"
   },
   {
    "duration": 10,
    "start_time": "2022-01-27T18:44:56.370Z"
   },
   {
    "duration": 13,
    "start_time": "2022-01-27T18:44:58.061Z"
   },
   {
    "duration": 9,
    "start_time": "2022-01-27T18:45:00.460Z"
   },
   {
    "duration": 8,
    "start_time": "2022-01-27T18:45:02.150Z"
   },
   {
    "duration": 15,
    "start_time": "2022-01-27T18:45:03.395Z"
   },
   {
    "duration": 14,
    "start_time": "2022-01-27T18:45:05.460Z"
   },
   {
    "duration": 37,
    "start_time": "2022-01-27T18:45:06.940Z"
   },
   {
    "duration": 8,
    "start_time": "2022-01-27T18:45:09.660Z"
   },
   {
    "duration": 17,
    "start_time": "2022-01-27T18:45:11.221Z"
   },
   {
    "duration": 8,
    "start_time": "2022-01-27T18:45:12.420Z"
   },
   {
    "duration": 11,
    "start_time": "2022-01-27T18:45:15.030Z"
   },
   {
    "duration": 15,
    "start_time": "2022-01-27T18:45:19.429Z"
   },
   {
    "duration": 11,
    "start_time": "2022-01-27T18:45:20.572Z"
   },
   {
    "duration": 10,
    "start_time": "2022-01-27T18:45:21.710Z"
   },
   {
    "duration": 9,
    "start_time": "2022-01-27T18:45:23.090Z"
   },
   {
    "duration": 10,
    "start_time": "2022-01-27T18:45:24.681Z"
   },
   {
    "duration": 15,
    "start_time": "2022-01-27T18:45:25.840Z"
   },
   {
    "duration": 11,
    "start_time": "2022-01-27T18:45:29.520Z"
   },
   {
    "duration": 7,
    "start_time": "2022-01-27T18:45:44.540Z"
   },
   {
    "duration": 17,
    "start_time": "2022-01-27T18:45:45.360Z"
   },
   {
    "duration": 18,
    "start_time": "2022-01-27T18:45:50.350Z"
   },
   {
    "duration": 20,
    "start_time": "2022-01-27T18:45:54.390Z"
   },
   {
    "duration": 27,
    "start_time": "2022-01-27T18:46:00.440Z"
   },
   {
    "duration": 29,
    "start_time": "2022-01-27T18:46:01.740Z"
   },
   {
    "duration": 30,
    "start_time": "2022-01-27T18:46:05.780Z"
   },
   {
    "duration": 26,
    "start_time": "2022-01-27T18:46:07.449Z"
   },
   {
    "duration": 14,
    "start_time": "2022-01-27T18:46:08.350Z"
   },
   {
    "duration": 3451,
    "start_time": "2022-01-27T18:46:14.929Z"
   },
   {
    "duration": 25,
    "start_time": "2022-01-27T18:46:24.740Z"
   },
   {
    "duration": 20,
    "start_time": "2022-01-27T18:46:34.400Z"
   },
   {
    "duration": 32,
    "start_time": "2022-01-27T18:46:43.160Z"
   },
   {
    "duration": 38,
    "start_time": "2022-01-27T18:46:48.517Z"
   },
   {
    "duration": 7,
    "start_time": "2022-01-27T18:46:52.430Z"
   },
   {
    "duration": 6,
    "start_time": "2022-01-27T18:46:53.270Z"
   },
   {
    "duration": 128,
    "start_time": "2022-01-27T18:46:57.460Z"
   },
   {
    "duration": 22,
    "start_time": "2022-01-27T18:46:59.890Z"
   },
   {
    "duration": 18,
    "start_time": "2022-01-27T18:49:01.909Z"
   },
   {
    "duration": 36,
    "start_time": "2022-01-27T18:57:05.827Z"
   },
   {
    "duration": 10,
    "start_time": "2022-01-27T18:58:15.378Z"
   },
   {
    "duration": 34,
    "start_time": "2022-01-27T19:04:07.708Z"
   },
   {
    "duration": 10,
    "start_time": "2022-01-27T19:04:10.610Z"
   },
   {
    "duration": 26,
    "start_time": "2022-01-27T19:04:20.167Z"
   },
   {
    "duration": 22,
    "start_time": "2022-01-27T19:04:26.619Z"
   },
   {
    "duration": 21,
    "start_time": "2022-01-27T19:05:14.302Z"
   },
   {
    "duration": 3,
    "start_time": "2022-01-27T19:29:17.122Z"
   },
   {
    "duration": 67,
    "start_time": "2022-01-27T19:29:18.737Z"
   },
   {
    "duration": 20,
    "start_time": "2022-01-27T19:29:20.338Z"
   },
   {
    "duration": 15,
    "start_time": "2022-01-27T19:29:24.309Z"
   },
   {
    "duration": 13,
    "start_time": "2022-01-27T19:29:35.715Z"
   },
   {
    "duration": 34,
    "start_time": "2022-01-27T19:29:39.515Z"
   },
   {
    "duration": 10,
    "start_time": "2022-01-27T19:29:44.103Z"
   },
   {
    "duration": 9,
    "start_time": "2022-01-27T19:29:47.043Z"
   },
   {
    "duration": 6,
    "start_time": "2022-01-27T19:29:47.692Z"
   },
   {
    "duration": 10,
    "start_time": "2022-01-27T19:29:54.132Z"
   },
   {
    "duration": 13,
    "start_time": "2022-01-27T19:29:59.858Z"
   },
   {
    "duration": 8,
    "start_time": "2022-01-27T19:30:03.135Z"
   },
   {
    "duration": 7,
    "start_time": "2022-01-27T19:30:03.863Z"
   },
   {
    "duration": 10,
    "start_time": "2022-01-27T19:30:11.232Z"
   },
   {
    "duration": 17,
    "start_time": "2022-01-27T19:30:13.532Z"
   },
   {
    "duration": 9,
    "start_time": "2022-01-27T19:30:21.992Z"
   },
   {
    "duration": 9,
    "start_time": "2022-01-27T19:30:45.916Z"
   },
   {
    "duration": 16,
    "start_time": "2022-01-27T19:30:47.679Z"
   },
   {
    "duration": 12,
    "start_time": "2022-01-27T19:30:56.741Z"
   },
   {
    "duration": 39,
    "start_time": "2022-01-27T19:31:01.081Z"
   },
   {
    "duration": 8,
    "start_time": "2022-01-27T19:31:08.273Z"
   },
   {
    "duration": 17,
    "start_time": "2022-01-27T19:31:12.132Z"
   },
   {
    "duration": 9,
    "start_time": "2022-01-27T19:31:16.700Z"
   },
   {
    "duration": 10,
    "start_time": "2022-01-27T19:31:24.782Z"
   },
   {
    "duration": 17,
    "start_time": "2022-01-27T19:31:26.773Z"
   },
   {
    "duration": 13,
    "start_time": "2022-01-27T19:31:34.620Z"
   },
   {
    "duration": 9,
    "start_time": "2022-01-27T19:31:36.301Z"
   },
   {
    "duration": 10,
    "start_time": "2022-01-27T19:31:39.552Z"
   },
   {
    "duration": 12,
    "start_time": "2022-01-27T19:31:41.201Z"
   },
   {
    "duration": 17,
    "start_time": "2022-01-27T19:31:44.639Z"
   },
   {
    "duration": 11,
    "start_time": "2022-01-27T19:31:47.352Z"
   },
   {
    "duration": 7,
    "start_time": "2022-01-27T19:32:07.660Z"
   },
   {
    "duration": 17,
    "start_time": "2022-01-27T19:32:08.311Z"
   },
   {
    "duration": 21,
    "start_time": "2022-01-27T19:32:11.819Z"
   },
   {
    "duration": 18,
    "start_time": "2022-01-27T19:32:16.327Z"
   },
   {
    "duration": 25,
    "start_time": "2022-01-27T19:32:25.100Z"
   },
   {
    "duration": 22,
    "start_time": "2022-01-27T19:32:26.791Z"
   },
   {
    "duration": 30,
    "start_time": "2022-01-27T19:32:27.679Z"
   },
   {
    "duration": 26,
    "start_time": "2022-01-27T19:32:33.719Z"
   },
   {
    "duration": 16,
    "start_time": "2022-01-27T19:32:34.540Z"
   },
   {
    "duration": 4345,
    "start_time": "2022-01-27T19:32:45.512Z"
   },
   {
    "duration": 21,
    "start_time": "2022-01-27T19:33:06.691Z"
   },
   {
    "duration": 20,
    "start_time": "2022-01-27T19:33:29.952Z"
   },
   {
    "duration": 29,
    "start_time": "2022-01-27T19:33:40.145Z"
   },
   {
    "duration": 35,
    "start_time": "2022-01-27T19:33:56.948Z"
   },
   {
    "duration": 6,
    "start_time": "2022-01-27T19:34:02.493Z"
   },
   {
    "duration": 6,
    "start_time": "2022-01-27T19:34:03.992Z"
   },
   {
    "duration": 19,
    "start_time": "2022-01-27T19:40:39.720Z"
   },
   {
    "duration": 39,
    "start_time": "2022-01-27T19:40:59.289Z"
   },
   {
    "duration": 10,
    "start_time": "2022-01-27T19:41:02.827Z"
   },
   {
    "duration": 25,
    "start_time": "2022-01-27T19:41:20.107Z"
   },
   {
    "duration": 21,
    "start_time": "2022-01-27T19:45:09.531Z"
   },
   {
    "duration": 23,
    "start_time": "2022-01-27T19:45:16.520Z"
   },
   {
    "duration": 20,
    "start_time": "2022-01-27T19:45:26.621Z"
   },
   {
    "duration": 403,
    "start_time": "2022-08-26T12:07:55.102Z"
   },
   {
    "duration": 614,
    "start_time": "2022-08-26T12:09:21.577Z"
   },
   {
    "duration": 387,
    "start_time": "2022-08-26T12:11:40.329Z"
   },
   {
    "duration": 438,
    "start_time": "2022-09-17T20:33:49.064Z"
   },
   {
    "duration": 429,
    "start_time": "2022-09-17T20:33:49.504Z"
   },
   {
    "duration": 20,
    "start_time": "2022-09-17T20:33:49.934Z"
   },
   {
    "duration": 15,
    "start_time": "2022-09-17T20:33:49.956Z"
   },
   {
    "duration": 9,
    "start_time": "2022-09-17T20:33:49.973Z"
   },
   {
    "duration": 22,
    "start_time": "2022-09-17T20:33:49.984Z"
   },
   {
    "duration": 6,
    "start_time": "2022-09-17T20:33:50.008Z"
   },
   {
    "duration": 9,
    "start_time": "2022-09-17T20:33:50.016Z"
   },
   {
    "duration": 7,
    "start_time": "2022-09-17T20:33:50.026Z"
   },
   {
    "duration": 13,
    "start_time": "2022-09-17T20:33:50.035Z"
   },
   {
    "duration": 10,
    "start_time": "2022-09-17T20:33:50.050Z"
   },
   {
    "duration": 7,
    "start_time": "2022-09-17T20:33:50.061Z"
   },
   {
    "duration": 27,
    "start_time": "2022-09-17T20:33:50.070Z"
   },
   {
    "duration": 12,
    "start_time": "2022-09-17T20:33:50.100Z"
   },
   {
    "duration": 18,
    "start_time": "2022-09-17T20:33:50.113Z"
   },
   {
    "duration": 6,
    "start_time": "2022-09-17T20:33:50.133Z"
   },
   {
    "duration": 16,
    "start_time": "2022-09-17T20:33:50.140Z"
   },
   {
    "duration": 17,
    "start_time": "2022-09-17T20:33:50.158Z"
   },
   {
    "duration": 8,
    "start_time": "2022-09-17T20:33:50.195Z"
   },
   {
    "duration": 24,
    "start_time": "2022-09-17T20:33:50.206Z"
   },
   {
    "duration": 6,
    "start_time": "2022-09-17T20:33:50.231Z"
   },
   {
    "duration": 16,
    "start_time": "2022-09-17T20:33:50.239Z"
   },
   {
    "duration": 14,
    "start_time": "2022-09-17T20:33:50.257Z"
   },
   {
    "duration": 7,
    "start_time": "2022-09-17T20:33:50.366Z"
   },
   {
    "duration": 10,
    "start_time": "2022-09-17T20:33:50.448Z"
   },
   {
    "duration": 11,
    "start_time": "2022-09-17T20:33:50.469Z"
   },
   {
    "duration": 7,
    "start_time": "2022-09-17T20:33:50.506Z"
   },
   {
    "duration": 6,
    "start_time": "2022-09-17T20:33:50.530Z"
   },
   {
    "duration": 8,
    "start_time": "2022-09-17T20:33:50.583Z"
   },
   {
    "duration": 16,
    "start_time": "2022-09-17T20:33:50.832Z"
   },
   {
    "duration": 8,
    "start_time": "2022-09-17T20:33:50.850Z"
   },
   {
    "duration": 4,
    "start_time": "2022-09-17T20:33:51.006Z"
   },
   {
    "duration": 20,
    "start_time": "2022-09-17T20:33:51.178Z"
   },
   {
    "duration": 14,
    "start_time": "2022-09-17T20:33:51.200Z"
   },
   {
    "duration": 12,
    "start_time": "2022-09-17T20:33:51.256Z"
   },
   {
    "duration": 18,
    "start_time": "2022-09-17T20:33:51.293Z"
   },
   {
    "duration": 16,
    "start_time": "2022-09-17T20:33:51.360Z"
   },
   {
    "duration": 17,
    "start_time": "2022-09-17T20:33:51.401Z"
   },
   {
    "duration": 20,
    "start_time": "2022-09-17T20:33:51.434Z"
   },
   {
    "duration": 13,
    "start_time": "2022-09-17T20:33:51.456Z"
   },
   {
    "duration": 2479,
    "start_time": "2022-09-17T20:33:51.553Z"
   },
   {
    "duration": 14,
    "start_time": "2022-09-17T20:33:54.034Z"
   },
   {
    "duration": 13,
    "start_time": "2022-09-17T20:33:54.050Z"
   },
   {
    "duration": 36,
    "start_time": "2022-09-17T20:33:54.065Z"
   },
   {
    "duration": 26,
    "start_time": "2022-09-17T20:33:54.103Z"
   },
   {
    "duration": 8,
    "start_time": "2022-09-17T20:33:54.131Z"
   },
   {
    "duration": 5,
    "start_time": "2022-09-17T20:33:54.140Z"
   },
   {
    "duration": 19,
    "start_time": "2022-09-17T20:33:54.147Z"
   },
   {
    "duration": 22,
    "start_time": "2022-09-17T20:33:54.194Z"
   },
   {
    "duration": 11,
    "start_time": "2022-09-17T20:33:54.219Z"
   },
   {
    "duration": 20,
    "start_time": "2022-09-17T20:33:54.231Z"
   },
   {
    "duration": 15,
    "start_time": "2022-09-17T20:33:54.252Z"
   },
   {
    "duration": 39,
    "start_time": "2022-09-17T20:33:54.269Z"
   },
   {
    "duration": 13,
    "start_time": "2022-09-17T20:33:54.310Z"
   }
  ],
  "kernelspec": {
   "display_name": "Python 3 (ipykernel)",
   "language": "python",
   "name": "python3"
  },
  "language_info": {
   "codemirror_mode": {
    "name": "ipython",
    "version": 3
   },
   "file_extension": ".py",
   "mimetype": "text/x-python",
   "name": "python",
   "nbconvert_exporter": "python",
   "pygments_lexer": "ipython3",
   "version": "3.9.5"
  },
  "toc": {
   "base_numbering": 1,
   "nav_menu": {},
   "number_sections": true,
   "sideBar": true,
   "skip_h1_title": true,
   "title_cell": "Содержание",
   "title_sidebar": "Contents",
   "toc_cell": true,
   "toc_position": {},
   "toc_section_display": true,
   "toc_window_display": true
  }
 },
 "nbformat": 4,
 "nbformat_minor": 2
}
