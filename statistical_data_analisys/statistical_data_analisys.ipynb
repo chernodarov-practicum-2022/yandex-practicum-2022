{
 "cells": [
  {
   "cell_type": "markdown",
   "id": "2def38ae",
   "metadata": {
    "toc": true
   },
   "source": [
    "<h1>Содержание<span class=\"tocSkip\"></span></h1>\n",
    "<div class=\"toc\"><ul class=\"toc-item\"><li><span><a href=\"#Изучение-данных-из-файла\" data-toc-modified-id=\"Изучение-данных-из-файла-1\"><span class=\"toc-item-num\">1&nbsp;&nbsp;</span>Изучение данных из файла</a></span></li><li><span><a href=\"#Подготовка-данных\" data-toc-modified-id=\"Подготовка-данных-2\"><span class=\"toc-item-num\">2&nbsp;&nbsp;</span>Подготовка данных</a></span><ul class=\"toc-item\"><li><span><a href=\"#Обработка-пропусков\" data-toc-modified-id=\"Обработка-пропусков-2.1\"><span class=\"toc-item-num\">2.1&nbsp;&nbsp;</span>Обработка пропусков</a></span></li><li><span><a href=\"#Замена-типа-данных\" data-toc-modified-id=\"Замена-типа-данных-2.2\"><span class=\"toc-item-num\">2.2&nbsp;&nbsp;</span>Замена типа данных</a></span></li><li><span><a href=\"#Расчёты-и-добавления-результатов-в-таблицы\" data-toc-modified-id=\"Расчёты-и-добавления-результатов-в-таблицы-2.3\"><span class=\"toc-item-num\">2.3&nbsp;&nbsp;</span>Расчёты и добавления результатов в таблицы</a></span><ul class=\"toc-item\"><li><span><a href=\"#Количество-отправленных-сообщений-по-месяцам\" data-toc-modified-id=\"Количество-отправленных-сообщений-по-месяцам-2.3.1\"><span class=\"toc-item-num\">2.3.1&nbsp;&nbsp;</span>Количество отправленных сообщений по месяцам</a></span></li><li><span><a href=\"#Количество-сделанных-звонков-и-израсходованных-минут-разговора-по-месяцам\" data-toc-modified-id=\"Количество-сделанных-звонков-и-израсходованных-минут-разговора-по-месяцам-2.3.2\"><span class=\"toc-item-num\">2.3.2&nbsp;&nbsp;</span>Количество сделанных звонков и израсходованных минут разговора по месяцам</a></span></li><li><span><a href=\"#Объём-израсходованного-интернет-трафика-по-месяцам\" data-toc-modified-id=\"Объём-израсходованного-интернет-трафика-по-месяцам-2.3.3\"><span class=\"toc-item-num\">2.3.3&nbsp;&nbsp;</span>Объём израсходованного интернет-трафика по месяцам</a></span></li><li><span><a href=\"#Объединение-таблиц-в-одну\" data-toc-modified-id=\"Объединение-таблиц-в-одну-2.3.4\"><span class=\"toc-item-num\">2.3.4&nbsp;&nbsp;</span>Объединение таблиц в одну</a></span></li><li><span><a href=\"#Помесячная-выручка-с-каждого-пользователя\" data-toc-modified-id=\"Помесячная-выручка-с-каждого-пользователя-2.3.5\"><span class=\"toc-item-num\">2.3.5&nbsp;&nbsp;</span>Помесячная выручка с каждого пользователя</a></span></li></ul></li></ul></li><li><span><a href=\"#Анализ-и-описание-данных\" data-toc-modified-id=\"Анализ-и-описание-данных-3\"><span class=\"toc-item-num\">3&nbsp;&nbsp;</span>Анализ и описание данных</a></span><ul class=\"toc-item\"><li><span><a href=\"#Группировка-клиентов-по-тарифам\" data-toc-modified-id=\"Группировка-клиентов-по-тарифам-3.1\"><span class=\"toc-item-num\">3.1&nbsp;&nbsp;</span>Группировка клиентов по тарифам</a></span></li></ul></li><li><span><a href=\"#Проверка-гипотез\" data-toc-modified-id=\"Проверка-гипотез-4\"><span class=\"toc-item-num\">4&nbsp;&nbsp;</span>Проверка гипотез</a></span><ul class=\"toc-item\"><li><span><a href=\"#Сравнение-средней-выручки-пользователей\" data-toc-modified-id=\"Сравнение-средней-выручки-пользователей-4.1\"><span class=\"toc-item-num\">4.1&nbsp;&nbsp;</span>Сравнение средней выручки пользователей</a></span></li><li><span><a href=\"#Сравнение-средней-выручки-пользователей-в-зависимости-от-проживания\" data-toc-modified-id=\"Сравнение-средней-выручки-пользователей-в-зависимости-от-проживания-4.2\"><span class=\"toc-item-num\">4.2&nbsp;&nbsp;</span>Сравнение средней выручки пользователей в зависимости от проживания</a></span></li></ul></li><li><span><a href=\"#Общий-вывод\" data-toc-modified-id=\"Общий-вывод-5\"><span class=\"toc-item-num\">5&nbsp;&nbsp;</span>Общий вывод</a></span></li></ul></div>"
   ]
  },
  {
   "cell_type": "markdown",
   "id": "7e9cf857",
   "metadata": {},
   "source": [
    "# Определение перспективного тарифа для телеком-компании"
   ]
  },
  {
   "cell_type": "markdown",
   "id": "ead23df8",
   "metadata": {},
   "source": [
    "Вы аналитик компании «Мегалайн» — федерального оператора сотовой связи. Клиентам предлагают два тарифных плана: «Смарт» и «Ультра». Чтобы скорректировать рекламный бюджет, коммерческий департамент хочет понять, какой тариф приносит больше денег.\n",
    "Вам предстоит сделать предварительный анализ тарифов на небольшой выборке клиентов. В вашем распоряжении данные 500 пользователей «Мегалайна»: кто они, откуда, каким тарифом пользуются, сколько звонков и сообщений каждый отправил за 2018 год. \n",
    "\n",
    "Нужно проанализировать поведение клиентов и сделать вывод — какой тариф лучше.\n",
    "\n",
    "Так же нужно проверить 2 гипотезы:\n",
    "\n",
    "* средняя выручка пользователей тарифов «Ультра» и «Смарт» различаются;\n",
    "\n",
    "* средняя выручка пользователей из Москвы отличается от выручки пользователей из других регионов.\n",
    "\n",
    "Описание тарифов\n",
    "\n",
    "Тариф «Смарт»\n",
    "\n",
    "1. Ежемесячная плата: 550 рублей\n",
    "2. Включено 500 минут разговора, 50 сообщений и 15 Гб интернет-трафика\n",
    "3. Стоимость услуг сверх тарифного пакета:\n",
    "   * минута разговора: 3 рубля\n",
    "   * сообщение: 3 рубля\n",
    "   * 1 Гб интернет-трафика: 200 рублей\n",
    "\n",
    "Тариф «Ультра»\n",
    "\n",
    "1. Ежемесячная плата: 1950 рублей\n",
    "2. Включено 3000 минут разговора, 1000 сообщений и 30 Гб интернет-трафика\n",
    "3. Стоимость услуг сверх тарифного пакета:\n",
    "   * минута разговора: 1 рубль\n",
    "   * сообщение: 1 рубль\n",
    "   * 1 Гб интернет-трафика: 150 рублей"
   ]
  },
  {
   "cell_type": "markdown",
   "id": "45810fc0",
   "metadata": {},
   "source": [
    "## Изучение данных из файла "
   ]
  },
  {
   "cell_type": "markdown",
   "id": "feb045a7",
   "metadata": {},
   "source": [
    "Импортируем библиотеки Pandas и Numpy, а так же matplotlib и stats"
   ]
  },
  {
   "cell_type": "code",
   "execution_count": 1,
   "id": "7f315eee",
   "metadata": {},
   "outputs": [],
   "source": [
    "# импортируем библиотеку Pandas\n",
    "# импортируем библиотеку Numpy\n",
    "# импортируем matplotlib.pyplot\n",
    "# импортируем stats\n",
    "import pandas as pd\n",
    "import numpy as np \n",
    "import math \n",
    "import matplotlib.pyplot as plt \n",
    "from scipy import stats as st\n",
    "import seaborn as sns"
   ]
  },
  {
   "cell_type": "markdown",
   "id": "96487b2b",
   "metadata": {},
   "source": [
    "Прочитаем файл /datasets/users.csv. и сохраним его в переменной `users`. Выведем на экран первые 10 строк таблицы"
   ]
  },
  {
   "cell_type": "code",
   "execution_count": 4,
   "id": "8a7b13ee",
   "metadata": {},
   "outputs": [
    {
     "data": {
      "text/html": [
       "<div>\n",
       "<style scoped>\n",
       "    .dataframe tbody tr th:only-of-type {\n",
       "        vertical-align: middle;\n",
       "    }\n",
       "\n",
       "    .dataframe tbody tr th {\n",
       "        vertical-align: top;\n",
       "    }\n",
       "\n",
       "    .dataframe thead th {\n",
       "        text-align: right;\n",
       "    }\n",
       "</style>\n",
       "<table border=\"1\" class=\"dataframe\">\n",
       "  <thead>\n",
       "    <tr style=\"text-align: right;\">\n",
       "      <th></th>\n",
       "      <th>user_id</th>\n",
       "      <th>age</th>\n",
       "      <th>churn_date</th>\n",
       "      <th>city</th>\n",
       "      <th>first_name</th>\n",
       "      <th>last_name</th>\n",
       "      <th>reg_date</th>\n",
       "      <th>tariff</th>\n",
       "    </tr>\n",
       "  </thead>\n",
       "  <tbody>\n",
       "    <tr>\n",
       "      <th>0</th>\n",
       "      <td>1000</td>\n",
       "      <td>52</td>\n",
       "      <td>NaN</td>\n",
       "      <td>Краснодар</td>\n",
       "      <td>Рафаил</td>\n",
       "      <td>Верещагин</td>\n",
       "      <td>2018-05-25</td>\n",
       "      <td>ultra</td>\n",
       "    </tr>\n",
       "    <tr>\n",
       "      <th>1</th>\n",
       "      <td>1001</td>\n",
       "      <td>41</td>\n",
       "      <td>NaN</td>\n",
       "      <td>Москва</td>\n",
       "      <td>Иван</td>\n",
       "      <td>Ежов</td>\n",
       "      <td>2018-11-01</td>\n",
       "      <td>smart</td>\n",
       "    </tr>\n",
       "    <tr>\n",
       "      <th>2</th>\n",
       "      <td>1002</td>\n",
       "      <td>59</td>\n",
       "      <td>NaN</td>\n",
       "      <td>Стерлитамак</td>\n",
       "      <td>Евгений</td>\n",
       "      <td>Абрамович</td>\n",
       "      <td>2018-06-17</td>\n",
       "      <td>smart</td>\n",
       "    </tr>\n",
       "    <tr>\n",
       "      <th>3</th>\n",
       "      <td>1003</td>\n",
       "      <td>23</td>\n",
       "      <td>NaN</td>\n",
       "      <td>Москва</td>\n",
       "      <td>Белла</td>\n",
       "      <td>Белякова</td>\n",
       "      <td>2018-08-17</td>\n",
       "      <td>ultra</td>\n",
       "    </tr>\n",
       "    <tr>\n",
       "      <th>4</th>\n",
       "      <td>1004</td>\n",
       "      <td>68</td>\n",
       "      <td>NaN</td>\n",
       "      <td>Новокузнецк</td>\n",
       "      <td>Татьяна</td>\n",
       "      <td>Авдеенко</td>\n",
       "      <td>2018-05-14</td>\n",
       "      <td>ultra</td>\n",
       "    </tr>\n",
       "    <tr>\n",
       "      <th>5</th>\n",
       "      <td>1005</td>\n",
       "      <td>67</td>\n",
       "      <td>NaN</td>\n",
       "      <td>Набережные Челны</td>\n",
       "      <td>Афанасий</td>\n",
       "      <td>Горлов</td>\n",
       "      <td>2018-01-25</td>\n",
       "      <td>smart</td>\n",
       "    </tr>\n",
       "    <tr>\n",
       "      <th>6</th>\n",
       "      <td>1006</td>\n",
       "      <td>21</td>\n",
       "      <td>NaN</td>\n",
       "      <td>Ульяновск</td>\n",
       "      <td>Леонид</td>\n",
       "      <td>Ермолаев</td>\n",
       "      <td>2018-02-26</td>\n",
       "      <td>smart</td>\n",
       "    </tr>\n",
       "    <tr>\n",
       "      <th>7</th>\n",
       "      <td>1007</td>\n",
       "      <td>65</td>\n",
       "      <td>NaN</td>\n",
       "      <td>Москва</td>\n",
       "      <td>Юна</td>\n",
       "      <td>Березина</td>\n",
       "      <td>2018-04-19</td>\n",
       "      <td>smart</td>\n",
       "    </tr>\n",
       "    <tr>\n",
       "      <th>8</th>\n",
       "      <td>1008</td>\n",
       "      <td>63</td>\n",
       "      <td>NaN</td>\n",
       "      <td>Челябинск</td>\n",
       "      <td>Рустэм</td>\n",
       "      <td>Пономарёв</td>\n",
       "      <td>2018-12-19</td>\n",
       "      <td>smart</td>\n",
       "    </tr>\n",
       "    <tr>\n",
       "      <th>9</th>\n",
       "      <td>1009</td>\n",
       "      <td>24</td>\n",
       "      <td>NaN</td>\n",
       "      <td>Пермь</td>\n",
       "      <td>Василиса</td>\n",
       "      <td>Блинова</td>\n",
       "      <td>2018-03-22</td>\n",
       "      <td>smart</td>\n",
       "    </tr>\n",
       "  </tbody>\n",
       "</table>\n",
       "</div>"
      ],
      "text/plain": [
       "   user_id  age churn_date              city first_name  last_name  \\\n",
       "0     1000   52        NaN         Краснодар     Рафаил  Верещагин   \n",
       "1     1001   41        NaN            Москва       Иван       Ежов   \n",
       "2     1002   59        NaN       Стерлитамак    Евгений  Абрамович   \n",
       "3     1003   23        NaN            Москва      Белла   Белякова   \n",
       "4     1004   68        NaN       Новокузнецк    Татьяна   Авдеенко   \n",
       "5     1005   67        NaN  Набережные Челны   Афанасий     Горлов   \n",
       "6     1006   21        NaN         Ульяновск     Леонид   Ермолаев   \n",
       "7     1007   65        NaN            Москва        Юна   Березина   \n",
       "8     1008   63        NaN         Челябинск     Рустэм  Пономарёв   \n",
       "9     1009   24        NaN             Пермь   Василиса    Блинова   \n",
       "\n",
       "     reg_date tariff  \n",
       "0  2018-05-25  ultra  \n",
       "1  2018-11-01  smart  \n",
       "2  2018-06-17  smart  \n",
       "3  2018-08-17  ultra  \n",
       "4  2018-05-14  ultra  \n",
       "5  2018-01-25  smart  \n",
       "6  2018-02-26  smart  \n",
       "7  2018-04-19  smart  \n",
       "8  2018-12-19  smart  \n",
       "9  2018-03-22  smart  "
      ]
     },
     "execution_count": 4,
     "metadata": {},
     "output_type": "execute_result"
    }
   ],
   "source": [
    "# читаем файл и сохраняем его в users\n",
    "#выводим первые 10 строк таблицы\n",
    "users = pd.read_csv('/datasets/users.csv') \n",
    "users.head(10)"
   ]
  },
  {
   "cell_type": "markdown",
   "id": "0015d281",
   "metadata": {},
   "source": [
    "Получим общую информацию о таблице"
   ]
  },
  {
   "cell_type": "code",
   "execution_count": 5,
   "id": "be768d64",
   "metadata": {},
   "outputs": [
    {
     "name": "stdout",
     "output_type": "stream",
     "text": [
      "<class 'pandas.core.frame.DataFrame'>\n",
      "RangeIndex: 500 entries, 0 to 499\n",
      "Data columns (total 8 columns):\n",
      " #   Column      Non-Null Count  Dtype \n",
      "---  ------      --------------  ----- \n",
      " 0   user_id     500 non-null    int64 \n",
      " 1   age         500 non-null    int64 \n",
      " 2   churn_date  38 non-null     object\n",
      " 3   city        500 non-null    object\n",
      " 4   first_name  500 non-null    object\n",
      " 5   last_name   500 non-null    object\n",
      " 6   reg_date    500 non-null    object\n",
      " 7   tariff      500 non-null    object\n",
      "dtypes: int64(2), object(6)\n",
      "memory usage: 31.4+ KB\n"
     ]
    }
   ],
   "source": [
    "# получаем информацию о таблице\n",
    "users.info()"
   ]
  },
  {
   "cell_type": "markdown",
   "id": "cc591f1e",
   "metadata": {},
   "source": [
    "Итак в таблице 8 столбцов и данные о 500 пользователях \"Мегалайна\". Типы данных в столбцах: int64, object. Согласно документации к данным:\n",
    "* user_id — уникальный идентификатор пользователя\n",
    "* first_name — имя пользователя\n",
    "* last_name — фамилия пользователя\n",
    "* age — возраст пользователя (годы)\n",
    "* reg_date — дата подключения тарифа (день, месяц, год)\n",
    "* churn_date — дата прекращения пользования тарифом (если значение пропущено, то тариф ещё действовал на момент выгрузки данных)\n",
    "* city — город проживания пользователя\n",
    "* tarif — название тарифного плана"
   ]
  },
  {
   "cell_type": "markdown",
   "id": "74382bde",
   "metadata": {},
   "source": [
    "Прочитаем файл /datasets/internet.csv. и сохраним его в переменной `internet`. Выведем на экран первые 10 строк таблицы. Получим общую информацию о таблице"
   ]
  },
  {
   "cell_type": "code",
   "execution_count": 8,
   "id": "1eda4a03",
   "metadata": {},
   "outputs": [
    {
     "data": {
      "text/html": [
       "<div>\n",
       "<style scoped>\n",
       "    .dataframe tbody tr th:only-of-type {\n",
       "        vertical-align: middle;\n",
       "    }\n",
       "\n",
       "    .dataframe tbody tr th {\n",
       "        vertical-align: top;\n",
       "    }\n",
       "\n",
       "    .dataframe thead th {\n",
       "        text-align: right;\n",
       "    }\n",
       "</style>\n",
       "<table border=\"1\" class=\"dataframe\">\n",
       "  <thead>\n",
       "    <tr style=\"text-align: right;\">\n",
       "      <th></th>\n",
       "      <th>Unnamed: 0</th>\n",
       "      <th>id</th>\n",
       "      <th>mb_used</th>\n",
       "      <th>session_date</th>\n",
       "      <th>user_id</th>\n",
       "    </tr>\n",
       "  </thead>\n",
       "  <tbody>\n",
       "    <tr>\n",
       "      <th>0</th>\n",
       "      <td>0</td>\n",
       "      <td>1000_0</td>\n",
       "      <td>112.95</td>\n",
       "      <td>2018-11-25</td>\n",
       "      <td>1000</td>\n",
       "    </tr>\n",
       "    <tr>\n",
       "      <th>1</th>\n",
       "      <td>1</td>\n",
       "      <td>1000_1</td>\n",
       "      <td>1052.81</td>\n",
       "      <td>2018-09-07</td>\n",
       "      <td>1000</td>\n",
       "    </tr>\n",
       "    <tr>\n",
       "      <th>2</th>\n",
       "      <td>2</td>\n",
       "      <td>1000_2</td>\n",
       "      <td>1197.26</td>\n",
       "      <td>2018-06-25</td>\n",
       "      <td>1000</td>\n",
       "    </tr>\n",
       "    <tr>\n",
       "      <th>3</th>\n",
       "      <td>3</td>\n",
       "      <td>1000_3</td>\n",
       "      <td>550.27</td>\n",
       "      <td>2018-08-22</td>\n",
       "      <td>1000</td>\n",
       "    </tr>\n",
       "    <tr>\n",
       "      <th>4</th>\n",
       "      <td>4</td>\n",
       "      <td>1000_4</td>\n",
       "      <td>302.56</td>\n",
       "      <td>2018-09-24</td>\n",
       "      <td>1000</td>\n",
       "    </tr>\n",
       "    <tr>\n",
       "      <th>5</th>\n",
       "      <td>5</td>\n",
       "      <td>1000_5</td>\n",
       "      <td>399.97</td>\n",
       "      <td>2018-10-02</td>\n",
       "      <td>1000</td>\n",
       "    </tr>\n",
       "    <tr>\n",
       "      <th>6</th>\n",
       "      <td>6</td>\n",
       "      <td>1000_6</td>\n",
       "      <td>540.08</td>\n",
       "      <td>2018-09-07</td>\n",
       "      <td>1000</td>\n",
       "    </tr>\n",
       "    <tr>\n",
       "      <th>7</th>\n",
       "      <td>7</td>\n",
       "      <td>1000_7</td>\n",
       "      <td>415.70</td>\n",
       "      <td>2018-07-11</td>\n",
       "      <td>1000</td>\n",
       "    </tr>\n",
       "    <tr>\n",
       "      <th>8</th>\n",
       "      <td>8</td>\n",
       "      <td>1000_8</td>\n",
       "      <td>505.40</td>\n",
       "      <td>2018-10-08</td>\n",
       "      <td>1000</td>\n",
       "    </tr>\n",
       "    <tr>\n",
       "      <th>9</th>\n",
       "      <td>9</td>\n",
       "      <td>1000_9</td>\n",
       "      <td>345.54</td>\n",
       "      <td>2018-09-03</td>\n",
       "      <td>1000</td>\n",
       "    </tr>\n",
       "  </tbody>\n",
       "</table>\n",
       "</div>"
      ],
      "text/plain": [
       "   Unnamed: 0      id  mb_used session_date  user_id\n",
       "0           0  1000_0   112.95   2018-11-25     1000\n",
       "1           1  1000_1  1052.81   2018-09-07     1000\n",
       "2           2  1000_2  1197.26   2018-06-25     1000\n",
       "3           3  1000_3   550.27   2018-08-22     1000\n",
       "4           4  1000_4   302.56   2018-09-24     1000\n",
       "5           5  1000_5   399.97   2018-10-02     1000\n",
       "6           6  1000_6   540.08   2018-09-07     1000\n",
       "7           7  1000_7   415.70   2018-07-11     1000\n",
       "8           8  1000_8   505.40   2018-10-08     1000\n",
       "9           9  1000_9   345.54   2018-09-03     1000"
      ]
     },
     "execution_count": 8,
     "metadata": {},
     "output_type": "execute_result"
    }
   ],
   "source": [
    "# читаем файл и сохраняем его в internet\n",
    "#выводим первые 10 строк таблицы\n",
    "internet = pd.read_csv('/datasets/internet.csv') \n",
    "internet.head(10)"
   ]
  },
  {
   "cell_type": "code",
   "execution_count": 9,
   "id": "71db939f",
   "metadata": {},
   "outputs": [
    {
     "name": "stdout",
     "output_type": "stream",
     "text": [
      "<class 'pandas.core.frame.DataFrame'>\n",
      "RangeIndex: 149396 entries, 0 to 149395\n",
      "Data columns (total 5 columns):\n",
      " #   Column        Non-Null Count   Dtype  \n",
      "---  ------        --------------   -----  \n",
      " 0   Unnamed: 0    149396 non-null  int64  \n",
      " 1   id            149396 non-null  object \n",
      " 2   mb_used       149396 non-null  float64\n",
      " 3   session_date  149396 non-null  object \n",
      " 4   user_id       149396 non-null  int64  \n",
      "dtypes: float64(1), int64(2), object(2)\n",
      "memory usage: 5.7+ MB\n"
     ]
    }
   ],
   "source": [
    "# получаем информацию о таблице\n",
    "internet.info()"
   ]
  },
  {
   "cell_type": "markdown",
   "id": "32e219ed",
   "metadata": {},
   "source": [
    "Итак в таблице 5 столбцов и 14936 строк. Типы данных в столбцах: int64, object, float64. Согласно документации к данным:\n",
    "* id — уникальный номер сессии\n",
    "* mb_used — объём потраченного за сессию интернет-трафика (в мегабайтах)\n",
    "* session_date — дата интернет-сессии\n",
    "* user_id — идентификатор пользователя\n",
    "\n",
    "Есть столбец Unnamed: 0, которого нет в описаниях. Видно что его значение совпадает со значением индекса таблицы. Скорее всего произошла ошибка выгрузки. Удалим этот столбец."
   ]
  },
  {
   "cell_type": "code",
   "execution_count": 10,
   "id": "384c52d5",
   "metadata": {},
   "outputs": [],
   "source": [
    "# удалим столбец 'Unnamed: 0'\n",
    "internet.drop(['Unnamed: 0'], axis='columns', inplace=True)"
   ]
  },
  {
   "cell_type": "markdown",
   "id": "13526177",
   "metadata": {},
   "source": [
    "Прочитаем файл /datasets/messages.csv и сохраним его в переменной `messages`. Выведем на экран первые 10 строк таблицы. Получим общую информацию о таблице."
   ]
  },
  {
   "cell_type": "code",
   "execution_count": 11,
   "id": "2102d263",
   "metadata": {},
   "outputs": [
    {
     "data": {
      "text/html": [
       "<div>\n",
       "<style scoped>\n",
       "    .dataframe tbody tr th:only-of-type {\n",
       "        vertical-align: middle;\n",
       "    }\n",
       "\n",
       "    .dataframe tbody tr th {\n",
       "        vertical-align: top;\n",
       "    }\n",
       "\n",
       "    .dataframe thead th {\n",
       "        text-align: right;\n",
       "    }\n",
       "</style>\n",
       "<table border=\"1\" class=\"dataframe\">\n",
       "  <thead>\n",
       "    <tr style=\"text-align: right;\">\n",
       "      <th></th>\n",
       "      <th>id</th>\n",
       "      <th>message_date</th>\n",
       "      <th>user_id</th>\n",
       "    </tr>\n",
       "  </thead>\n",
       "  <tbody>\n",
       "    <tr>\n",
       "      <th>0</th>\n",
       "      <td>1000_0</td>\n",
       "      <td>2018-06-27</td>\n",
       "      <td>1000</td>\n",
       "    </tr>\n",
       "    <tr>\n",
       "      <th>1</th>\n",
       "      <td>1000_1</td>\n",
       "      <td>2018-10-08</td>\n",
       "      <td>1000</td>\n",
       "    </tr>\n",
       "    <tr>\n",
       "      <th>2</th>\n",
       "      <td>1000_2</td>\n",
       "      <td>2018-08-04</td>\n",
       "      <td>1000</td>\n",
       "    </tr>\n",
       "    <tr>\n",
       "      <th>3</th>\n",
       "      <td>1000_3</td>\n",
       "      <td>2018-06-16</td>\n",
       "      <td>1000</td>\n",
       "    </tr>\n",
       "    <tr>\n",
       "      <th>4</th>\n",
       "      <td>1000_4</td>\n",
       "      <td>2018-12-05</td>\n",
       "      <td>1000</td>\n",
       "    </tr>\n",
       "    <tr>\n",
       "      <th>5</th>\n",
       "      <td>1000_5</td>\n",
       "      <td>2018-06-20</td>\n",
       "      <td>1000</td>\n",
       "    </tr>\n",
       "    <tr>\n",
       "      <th>6</th>\n",
       "      <td>1000_6</td>\n",
       "      <td>2018-11-19</td>\n",
       "      <td>1000</td>\n",
       "    </tr>\n",
       "    <tr>\n",
       "      <th>7</th>\n",
       "      <td>1000_7</td>\n",
       "      <td>2018-10-29</td>\n",
       "      <td>1000</td>\n",
       "    </tr>\n",
       "    <tr>\n",
       "      <th>8</th>\n",
       "      <td>1000_8</td>\n",
       "      <td>2018-06-25</td>\n",
       "      <td>1000</td>\n",
       "    </tr>\n",
       "    <tr>\n",
       "      <th>9</th>\n",
       "      <td>1000_9</td>\n",
       "      <td>2018-12-18</td>\n",
       "      <td>1000</td>\n",
       "    </tr>\n",
       "  </tbody>\n",
       "</table>\n",
       "</div>"
      ],
      "text/plain": [
       "       id message_date  user_id\n",
       "0  1000_0   2018-06-27     1000\n",
       "1  1000_1   2018-10-08     1000\n",
       "2  1000_2   2018-08-04     1000\n",
       "3  1000_3   2018-06-16     1000\n",
       "4  1000_4   2018-12-05     1000\n",
       "5  1000_5   2018-06-20     1000\n",
       "6  1000_6   2018-11-19     1000\n",
       "7  1000_7   2018-10-29     1000\n",
       "8  1000_8   2018-06-25     1000\n",
       "9  1000_9   2018-12-18     1000"
      ]
     },
     "execution_count": 11,
     "metadata": {},
     "output_type": "execute_result"
    }
   ],
   "source": [
    "# читаем файл и сохраняем его в messages\n",
    "#выводим первые 10 строк таблицы\n",
    "messages = pd.read_csv('/datasets/messages.csv') \n",
    "messages.head(10)"
   ]
  },
  {
   "cell_type": "code",
   "execution_count": 12,
   "id": "e6726c1b",
   "metadata": {},
   "outputs": [
    {
     "name": "stdout",
     "output_type": "stream",
     "text": [
      "<class 'pandas.core.frame.DataFrame'>\n",
      "RangeIndex: 123036 entries, 0 to 123035\n",
      "Data columns (total 3 columns):\n",
      " #   Column        Non-Null Count   Dtype \n",
      "---  ------        --------------   ----- \n",
      " 0   id            123036 non-null  object\n",
      " 1   message_date  123036 non-null  object\n",
      " 2   user_id       123036 non-null  int64 \n",
      "dtypes: int64(1), object(2)\n",
      "memory usage: 2.8+ MB\n"
     ]
    }
   ],
   "source": [
    "# получаем информацию о таблице\n",
    "messages.info()"
   ]
  },
  {
   "cell_type": "markdown",
   "id": "016a687d",
   "metadata": {},
   "source": [
    "Итак в таблице 3 столбца и 123036 строк. Типы данных в столбцах: int64, object. Согласно документации к данным:\n",
    "* id — уникальный номер сообщения\n",
    "* message_date — дата сообщения\n",
    "* user_id — идентификатор пользователя, отправившего сообщение"
   ]
  },
  {
   "cell_type": "markdown",
   "id": "efec76b2",
   "metadata": {},
   "source": [
    "Прочитаем файл /datasets/tariffs.csv и сохраним его в переменной `tariffs`. Выведем на экран первые 10 строк таблицы. Получим общую информацию о таблице."
   ]
  },
  {
   "cell_type": "code",
   "execution_count": 13,
   "id": "a128521a",
   "metadata": {},
   "outputs": [
    {
     "data": {
      "text/html": [
       "<div>\n",
       "<style scoped>\n",
       "    .dataframe tbody tr th:only-of-type {\n",
       "        vertical-align: middle;\n",
       "    }\n",
       "\n",
       "    .dataframe tbody tr th {\n",
       "        vertical-align: top;\n",
       "    }\n",
       "\n",
       "    .dataframe thead th {\n",
       "        text-align: right;\n",
       "    }\n",
       "</style>\n",
       "<table border=\"1\" class=\"dataframe\">\n",
       "  <thead>\n",
       "    <tr style=\"text-align: right;\">\n",
       "      <th></th>\n",
       "      <th>messages_included</th>\n",
       "      <th>mb_per_month_included</th>\n",
       "      <th>minutes_included</th>\n",
       "      <th>rub_monthly_fee</th>\n",
       "      <th>rub_per_gb</th>\n",
       "      <th>rub_per_message</th>\n",
       "      <th>rub_per_minute</th>\n",
       "      <th>tariff_name</th>\n",
       "    </tr>\n",
       "  </thead>\n",
       "  <tbody>\n",
       "    <tr>\n",
       "      <th>0</th>\n",
       "      <td>50</td>\n",
       "      <td>15360</td>\n",
       "      <td>500</td>\n",
       "      <td>550</td>\n",
       "      <td>200</td>\n",
       "      <td>3</td>\n",
       "      <td>3</td>\n",
       "      <td>smart</td>\n",
       "    </tr>\n",
       "    <tr>\n",
       "      <th>1</th>\n",
       "      <td>1000</td>\n",
       "      <td>30720</td>\n",
       "      <td>3000</td>\n",
       "      <td>1950</td>\n",
       "      <td>150</td>\n",
       "      <td>1</td>\n",
       "      <td>1</td>\n",
       "      <td>ultra</td>\n",
       "    </tr>\n",
       "  </tbody>\n",
       "</table>\n",
       "</div>"
      ],
      "text/plain": [
       "   messages_included  mb_per_month_included  minutes_included  \\\n",
       "0                 50                  15360               500   \n",
       "1               1000                  30720              3000   \n",
       "\n",
       "   rub_monthly_fee  rub_per_gb  rub_per_message  rub_per_minute tariff_name  \n",
       "0              550         200                3               3       smart  \n",
       "1             1950         150                1               1       ultra  "
      ]
     },
     "execution_count": 13,
     "metadata": {},
     "output_type": "execute_result"
    }
   ],
   "source": [
    "# читаем файл и сохраняем его в tariffs\n",
    "#выводим первые 10 строк таблицы\n",
    "tariffs = pd.read_csv('/datasets/tariffs.csv') \n",
    "tariffs.head(10)"
   ]
  },
  {
   "cell_type": "code",
   "execution_count": 14,
   "id": "031d3e8a",
   "metadata": {},
   "outputs": [
    {
     "name": "stdout",
     "output_type": "stream",
     "text": [
      "<class 'pandas.core.frame.DataFrame'>\n",
      "RangeIndex: 2 entries, 0 to 1\n",
      "Data columns (total 8 columns):\n",
      " #   Column                 Non-Null Count  Dtype \n",
      "---  ------                 --------------  ----- \n",
      " 0   messages_included      2 non-null      int64 \n",
      " 1   mb_per_month_included  2 non-null      int64 \n",
      " 2   minutes_included       2 non-null      int64 \n",
      " 3   rub_monthly_fee        2 non-null      int64 \n",
      " 4   rub_per_gb             2 non-null      int64 \n",
      " 5   rub_per_message        2 non-null      int64 \n",
      " 6   rub_per_minute         2 non-null      int64 \n",
      " 7   tariff_name            2 non-null      object\n",
      "dtypes: int64(7), object(1)\n",
      "memory usage: 256.0+ bytes\n"
     ]
    }
   ],
   "source": [
    "# получаем информацию о таблице\n",
    "tariffs.info()"
   ]
  },
  {
   "cell_type": "markdown",
   "id": "46e5e9fa",
   "metadata": {},
   "source": [
    "Итак в таблице 8 столбцов и 2 строки. Типы данных в столбцах: int64, object. Согласно документации к данным:\n",
    "* tariff_name — название тарифа\n",
    "* rub_monthly_fee — ежемесячная абонентская плата в рублях\n",
    "* minutes_included — количество минут разговора в месяц, включённых в абонентскую плату\n",
    "* messages_included — количество сообщений в месяц, включённых в абонентскую плату\n",
    "* mb_per_month_included — объём интернет-трафика, включённого в абонентскую плату (в мегабайтах)\n",
    "* rub_per_minute — стоимость минуты разговора сверх тарифного пакета (например, если в тарифе 100 минут разговора в месяц, то со 101 минуты будет взиматься плата)\n",
    "* rub_per_message — стоимость отправки сообщения сверх тарифного пакета\n",
    "* rub_per_gb — стоимость дополнительного гигабайта интернет-трафика сверх тарифного пакета (1 гигабайт = 1024 мегабайта)"
   ]
  },
  {
   "cell_type": "markdown",
   "id": "c8515bc3",
   "metadata": {},
   "source": [
    "Для дальнейшего объединения заменим название столбца 'tariff_name' на 'tariff'"
   ]
  },
  {
   "cell_type": "code",
   "execution_count": 15,
   "id": "d248bd43",
   "metadata": {},
   "outputs": [],
   "source": [
    "# изменяем название столбца 'tariff_name' на 'tariff'\n",
    "tariffs = tariffs.rename(columns={'tariff_name': 'tariff'})"
   ]
  },
  {
   "cell_type": "markdown",
   "id": "23889aa3",
   "metadata": {},
   "source": [
    "Прочитаем файл /datasets/calls.csv и сохраним его в переменной `calls`. Выведем на экран первые 10 строк таблицы. Получим общую информацию о таблице."
   ]
  },
  {
   "cell_type": "code",
   "execution_count": 16,
   "id": "715c433a",
   "metadata": {},
   "outputs": [
    {
     "data": {
      "text/html": [
       "<div>\n",
       "<style scoped>\n",
       "    .dataframe tbody tr th:only-of-type {\n",
       "        vertical-align: middle;\n",
       "    }\n",
       "\n",
       "    .dataframe tbody tr th {\n",
       "        vertical-align: top;\n",
       "    }\n",
       "\n",
       "    .dataframe thead th {\n",
       "        text-align: right;\n",
       "    }\n",
       "</style>\n",
       "<table border=\"1\" class=\"dataframe\">\n",
       "  <thead>\n",
       "    <tr style=\"text-align: right;\">\n",
       "      <th></th>\n",
       "      <th>id</th>\n",
       "      <th>call_date</th>\n",
       "      <th>duration</th>\n",
       "      <th>user_id</th>\n",
       "    </tr>\n",
       "  </thead>\n",
       "  <tbody>\n",
       "    <tr>\n",
       "      <th>0</th>\n",
       "      <td>1000_0</td>\n",
       "      <td>2018-07-25</td>\n",
       "      <td>0.00</td>\n",
       "      <td>1000</td>\n",
       "    </tr>\n",
       "    <tr>\n",
       "      <th>1</th>\n",
       "      <td>1000_1</td>\n",
       "      <td>2018-08-17</td>\n",
       "      <td>0.00</td>\n",
       "      <td>1000</td>\n",
       "    </tr>\n",
       "    <tr>\n",
       "      <th>2</th>\n",
       "      <td>1000_2</td>\n",
       "      <td>2018-06-11</td>\n",
       "      <td>2.85</td>\n",
       "      <td>1000</td>\n",
       "    </tr>\n",
       "    <tr>\n",
       "      <th>3</th>\n",
       "      <td>1000_3</td>\n",
       "      <td>2018-09-21</td>\n",
       "      <td>13.80</td>\n",
       "      <td>1000</td>\n",
       "    </tr>\n",
       "    <tr>\n",
       "      <th>4</th>\n",
       "      <td>1000_4</td>\n",
       "      <td>2018-12-15</td>\n",
       "      <td>5.18</td>\n",
       "      <td>1000</td>\n",
       "    </tr>\n",
       "    <tr>\n",
       "      <th>5</th>\n",
       "      <td>1000_5</td>\n",
       "      <td>2018-11-02</td>\n",
       "      <td>0.00</td>\n",
       "      <td>1000</td>\n",
       "    </tr>\n",
       "    <tr>\n",
       "      <th>6</th>\n",
       "      <td>1000_6</td>\n",
       "      <td>2018-10-18</td>\n",
       "      <td>0.00</td>\n",
       "      <td>1000</td>\n",
       "    </tr>\n",
       "    <tr>\n",
       "      <th>7</th>\n",
       "      <td>1000_7</td>\n",
       "      <td>2018-08-22</td>\n",
       "      <td>18.31</td>\n",
       "      <td>1000</td>\n",
       "    </tr>\n",
       "    <tr>\n",
       "      <th>8</th>\n",
       "      <td>1000_8</td>\n",
       "      <td>2018-09-15</td>\n",
       "      <td>18.44</td>\n",
       "      <td>1000</td>\n",
       "    </tr>\n",
       "    <tr>\n",
       "      <th>9</th>\n",
       "      <td>1000_9</td>\n",
       "      <td>2018-08-15</td>\n",
       "      <td>0.00</td>\n",
       "      <td>1000</td>\n",
       "    </tr>\n",
       "  </tbody>\n",
       "</table>\n",
       "</div>"
      ],
      "text/plain": [
       "       id   call_date  duration  user_id\n",
       "0  1000_0  2018-07-25      0.00     1000\n",
       "1  1000_1  2018-08-17      0.00     1000\n",
       "2  1000_2  2018-06-11      2.85     1000\n",
       "3  1000_3  2018-09-21     13.80     1000\n",
       "4  1000_4  2018-12-15      5.18     1000\n",
       "5  1000_5  2018-11-02      0.00     1000\n",
       "6  1000_6  2018-10-18      0.00     1000\n",
       "7  1000_7  2018-08-22     18.31     1000\n",
       "8  1000_8  2018-09-15     18.44     1000\n",
       "9  1000_9  2018-08-15      0.00     1000"
      ]
     },
     "execution_count": 16,
     "metadata": {},
     "output_type": "execute_result"
    }
   ],
   "source": [
    "# читаем файл и сохраняем его в calls\n",
    "#выводим первые 10 строк таблицы\n",
    "calls = pd.read_csv('/datasets/calls.csv') \n",
    "calls.head(10)"
   ]
  },
  {
   "cell_type": "code",
   "execution_count": 17,
   "id": "74552967",
   "metadata": {},
   "outputs": [
    {
     "name": "stdout",
     "output_type": "stream",
     "text": [
      "<class 'pandas.core.frame.DataFrame'>\n",
      "RangeIndex: 202607 entries, 0 to 202606\n",
      "Data columns (total 4 columns):\n",
      " #   Column     Non-Null Count   Dtype  \n",
      "---  ------     --------------   -----  \n",
      " 0   id         202607 non-null  object \n",
      " 1   call_date  202607 non-null  object \n",
      " 2   duration   202607 non-null  float64\n",
      " 3   user_id    202607 non-null  int64  \n",
      "dtypes: float64(1), int64(1), object(2)\n",
      "memory usage: 6.2+ MB\n"
     ]
    }
   ],
   "source": [
    "# получаем информацию о таблице\n",
    "calls.info()"
   ]
  },
  {
   "cell_type": "markdown",
   "id": "28e289e0",
   "metadata": {},
   "source": [
    "Итак в таблице 4 столбца и 202607 строк. Типы данных в столбцах: int64, object, float64. Согласно документации к данным:\n",
    "* id — уникальный номер звонка\n",
    "* call_date — дата звонка\n",
    "* duration — длительность звонка в минутах\n",
    "* user_id — идентификатор пользователя, сделавшего звонок"
   ]
  },
  {
   "cell_type": "markdown",
   "id": "8afa2551",
   "metadata": {},
   "source": [
    "Напишем функцию summary, которая будет считать число дубликатов в таблицах, а так же с её помощью построим гистограммы распределения объёма интернет - сессий и минут разговора."
   ]
  },
  {
   "cell_type": "code",
   "execution_count": 18,
   "id": "61de5f51",
   "metadata": {},
   "outputs": [],
   "source": [
    "def summary(df):\n",
    "    print(f'Повторов в таблице {df.duplicated().sum()}')\n",
    "    for col in df.columns:\n",
    "        if df[col].dtype == 'float':\n",
    "            display(df[col].plot(kind='hist', bins=70, title=f'Распределение столбца \"{col}\"'))\n",
    "            plt.show()"
   ]
  },
  {
   "cell_type": "code",
   "execution_count": 19,
   "id": "cb3e8b14",
   "metadata": {},
   "outputs": [
    {
     "name": "stdout",
     "output_type": "stream",
     "text": [
      "Повторов в таблице 0\n"
     ]
    },
    {
     "data": {
      "text/plain": [
       "<AxesSubplot:title={'center':'Распределение столбца \"duration\"'}, ylabel='Frequency'>"
      ]
     },
     "metadata": {},
     "output_type": "display_data"
    },
    {
     "data": {
      "image/png": "[encoded data removed]",
      "text/plain": [
       "<Figure size 432x288 with 1 Axes>"
      ]
     },
     "metadata": {
      "needs_background": "light"
     },
     "output_type": "display_data"
    }
   ],
   "source": [
    "summary(calls)"
   ]
  },
  {
   "cell_type": "markdown",
   "id": "8898d87e",
   "metadata": {},
   "source": [
    "На гистограмме распределения длительности звонков можно заметить выдяляющеся значение 0. Это не ошибка. Нулями обозначены пропущенные звонки. На дальнейшее исследование они не будут оказывать влияния, т.к. они не влияют на количество израсходованных минут из пакета. Удалять их не будем."
   ]
  },
  {
   "cell_type": "code",
   "execution_count": 20,
   "id": "a0b10fd9",
   "metadata": {},
   "outputs": [
    {
     "name": "stdout",
     "output_type": "stream",
     "text": [
      "Повторов в таблице 0\n"
     ]
    },
    {
     "data": {
      "text/plain": [
       "<AxesSubplot:title={'center':'Распределение столбца \"mb_used\"'}, ylabel='Frequency'>"
      ]
     },
     "metadata": {},
     "output_type": "display_data"
    },
    {
     "data": {
      "image/png": "[encoded data removed]",
      "text/plain": [
       "<Figure size 432x288 with 1 Axes>"
      ]
     },
     "metadata": {
      "needs_background": "light"
     },
     "output_type": "display_data"
    }
   ],
   "source": [
    "summary(internet)"
   ]
  },
  {
   "cell_type": "markdown",
   "id": "596c7a6d",
   "metadata": {},
   "source": [
    "На гистограмме распределения интернет трафика можно заметить выдяляющеся значение 0. Можно предположить, что пользователь вышел в интернет, но сигнал был слабым и данные не передавались. Аналагично нулевым звонкам, эти данные тоже не повляют на ход исследования. Удалять их не будем."
   ]
  },
  {
   "cell_type": "code",
   "execution_count": 21,
   "id": "36f22d28",
   "metadata": {},
   "outputs": [
    {
     "name": "stdout",
     "output_type": "stream",
     "text": [
      "Повторов в таблице 0\n"
     ]
    }
   ],
   "source": [
    "summary(messages)"
   ]
  },
  {
   "cell_type": "code",
   "execution_count": 22,
   "id": "7f6acbd7",
   "metadata": {},
   "outputs": [
    {
     "name": "stdout",
     "output_type": "stream",
     "text": [
      "Повторов в таблице 0\n"
     ]
    }
   ],
   "source": [
    "summary(users)"
   ]
  },
  {
   "cell_type": "markdown",
   "id": "e539edaf",
   "metadata": {},
   "source": [
    "Повторов в таблицах нет."
   ]
  },
  {
   "cell_type": "markdown",
   "id": "64e7e322",
   "metadata": {},
   "source": [
    "**Вывод**\n",
    "* были открыты и изучены 4 таблицы с данными пользователей сети \"Мегалайн\" и одна таблица с тарифами\n",
    "* в таблице internet был удалён дублирующий индексы столбец\n",
    "* в таблице tariffs был переименован столбец 'tariff_name' на 'tariff'\n",
    "* было изучено распределение объема интернет-сессий и  распределение минут разговоров\n",
    "* таблицы без повторов"
   ]
  },
  {
   "cell_type": "markdown",
   "id": "649238c5",
   "metadata": {},
   "source": [
    "## Подготовка данных"
   ]
  },
  {
   "cell_type": "markdown",
   "id": "8d66f3ba",
   "metadata": {},
   "source": [
    "###  Обработка пропусков"
   ]
  },
  {
   "cell_type": "markdown",
   "id": "d7c94ac2",
   "metadata": {},
   "source": [
    "Посчитаем, сколько в таблицах пропущенных значений."
   ]
  },
  {
   "cell_type": "code",
   "execution_count": 23,
   "id": "fadd8adf",
   "metadata": {},
   "outputs": [
    {
     "data": {
      "text/plain": [
       "user_id       0.000\n",
       "age           0.000\n",
       "churn_date    0.924\n",
       "city          0.000\n",
       "first_name    0.000\n",
       "last_name     0.000\n",
       "reg_date      0.000\n",
       "tariff        0.000\n",
       "dtype: float64"
      ]
     },
     "execution_count": 23,
     "metadata": {},
     "output_type": "execute_result"
    }
   ],
   "source": [
    "# подсчет пропусков\n",
    "users.isna().mean()"
   ]
  },
  {
   "cell_type": "markdown",
   "id": "6a9baaf0",
   "metadata": {},
   "source": [
    "Пропуски есть только в столбце 'churn_date', их доля составляет 92,4%. Из условия известно, что если в этом столбце есть пропуски, значит тариф ещё действует на момент выгрузки данных."
   ]
  },
  {
   "cell_type": "code",
   "execution_count": 24,
   "id": "a49f4f31",
   "metadata": {},
   "outputs": [
    {
     "data": {
      "text/plain": [
       "id              0.0\n",
       "mb_used         0.0\n",
       "session_date    0.0\n",
       "user_id         0.0\n",
       "dtype: float64"
      ]
     },
     "execution_count": 24,
     "metadata": {},
     "output_type": "execute_result"
    }
   ],
   "source": [
    "# подсчет пропусков\n",
    "internet.isna().mean()"
   ]
  },
  {
   "cell_type": "code",
   "execution_count": 25,
   "id": "3d746492",
   "metadata": {},
   "outputs": [
    {
     "data": {
      "text/plain": [
       "id              0.0\n",
       "message_date    0.0\n",
       "user_id         0.0\n",
       "dtype: float64"
      ]
     },
     "execution_count": 25,
     "metadata": {},
     "output_type": "execute_result"
    }
   ],
   "source": [
    "# подсчет пропусков\n",
    "messages.isna().mean()"
   ]
  },
  {
   "cell_type": "code",
   "execution_count": 26,
   "id": "bbe47079",
   "metadata": {},
   "outputs": [
    {
     "data": {
      "text/plain": [
       "messages_included        0.0\n",
       "mb_per_month_included    0.0\n",
       "minutes_included         0.0\n",
       "rub_monthly_fee          0.0\n",
       "rub_per_gb               0.0\n",
       "rub_per_message          0.0\n",
       "rub_per_minute           0.0\n",
       "tariff                   0.0\n",
       "dtype: float64"
      ]
     },
     "execution_count": 26,
     "metadata": {},
     "output_type": "execute_result"
    }
   ],
   "source": [
    "# подсчет пропусков\n",
    "tariffs.isna().mean()"
   ]
  },
  {
   "cell_type": "code",
   "execution_count": 27,
   "id": "949b478c",
   "metadata": {},
   "outputs": [
    {
     "data": {
      "text/plain": [
       "id           0.0\n",
       "call_date    0.0\n",
       "duration     0.0\n",
       "user_id      0.0\n",
       "dtype: float64"
      ]
     },
     "execution_count": 27,
     "metadata": {},
     "output_type": "execute_result"
    }
   ],
   "source": [
    "# подсчет пропусков\n",
    "calls.isna().mean()"
   ]
  },
  {
   "cell_type": "markdown",
   "id": "7c1005ad",
   "metadata": {},
   "source": [
    "Пропусков в таблицах `internet`, `messages`, `tariffs`, `calls` нет."
   ]
  },
  {
   "cell_type": "markdown",
   "id": "b855b906",
   "metadata": {},
   "source": [
    "**Вывод**\n",
    "* были посчитаны доли пропусков в таблицах\n",
    "* пропуски были обнаружены только в таблице 'users' в столбце `churn_date`, однако из условия известно, что пропуски в этом столбце означают, что клиент ещё пользуется тарифом"
   ]
  },
  {
   "cell_type": "markdown",
   "id": "8f975eb9",
   "metadata": {},
   "source": [
    "###  Замена типа данных"
   ]
  },
  {
   "cell_type": "markdown",
   "id": "51db99f1",
   "metadata": {},
   "source": [
    "В таблице users значения в столбцах `churn_date`, `reg_date` имеют тип object. В таблице internet значения в столбце `session_date` имеет тип object. В таблице messages значения в столбце `message_date` имеет тип object. В таблице calls значения в столбце `call_date` имеет тип object. Переведём их в тип даты."
   ]
  },
  {
   "cell_type": "code",
   "execution_count": 32,
   "id": "76b2a7d5",
   "metadata": {},
   "outputs": [],
   "source": [
    "# заменим тип данных\n",
    "users['reg_date'] = pd.to_datetime(users['reg_date'], format='%Y-%m-%d')\n",
    "users['churn_date'] = pd.to_datetime(users['churn_date'], format='%Y-%m-%d')\n",
    "internet['session_date'] = pd.to_datetime(internet['session_date'], format='%Y-%m-%d')\n",
    "messages['message_date'] = pd.to_datetime(messages['message_date'], format='%Y-%m-%d')\n",
    "calls['call_date'] = pd.to_datetime(calls['call_date'], format='%Y-%m-%d')"
   ]
  },
  {
   "cell_type": "markdown",
   "id": "72ceca5d",
   "metadata": {},
   "source": [
    "Из условия известно, что `Мегалайн` всегда округляет секунды до минут. Округлим значения столбца `duration`, таблицы calls в большую сторону."
   ]
  },
  {
   "cell_type": "code",
   "execution_count": 33,
   "id": "4f81333b",
   "metadata": {},
   "outputs": [],
   "source": [
    "# округляем значения столбца 'duration', таблицы calls в большую сторону, с помощью метода ceil()\n",
    "calls['duration']=np.ceil(calls['duration'])"
   ]
  },
  {
   "cell_type": "markdown",
   "id": "4a15ad24",
   "metadata": {},
   "source": [
    "**Вывод**\n",
    "* были преобразованы типы данных в столбцах `reg_date`, `churn_date`, `session_date`, `message_date`, `call_date` из типов object в тип даты  \n",
    "* длительность звонков была округлена в большую сторону из условия работы оператора связи Мегалайн"
   ]
  },
  {
   "cell_type": "markdown",
   "id": "f65fb83c",
   "metadata": {},
   "source": [
    "###  Расчёты и добавления результатов в таблицы"
   ]
  },
  {
   "cell_type": "markdown",
   "id": "c4d3c8f0",
   "metadata": {},
   "source": [
    "Для каждого пользователя посчитаем:\n",
    "* количество сделанных звонков и израсходованных минут разговора по месяцам;\n",
    "* количество отправленных сообщений по месяцам;\n",
    "* объем израсходованного интернет-трафика по месяцам"
   ]
  },
  {
   "cell_type": "markdown",
   "id": "013a0007",
   "metadata": {},
   "source": [
    "#### Количество отправленных сообщений по месяцам"
   ]
  },
  {
   "cell_type": "markdown",
   "id": "843a380b",
   "metadata": {},
   "source": [
    "Посчитаем количество отправленых сообщений по месяцам. Для этого добавим в таблицу messages столбец `month`."
   ]
  },
  {
   "cell_type": "code",
   "execution_count": 34,
   "id": "612fab1b",
   "metadata": {},
   "outputs": [],
   "source": [
    "# добавляем столбец 'month' в таблицу messages\n",
    "messages['month'] = messages['message_date'].dt.month"
   ]
  },
  {
   "cell_type": "markdown",
   "id": "ba3480a4",
   "metadata": {},
   "source": [
    "Посчитаем количество отправленых сообщений по месяцам каждым пользователем и сохраним результат в столбце `count_messages`."
   ]
  },
  {
   "cell_type": "code",
   "execution_count": 35,
   "id": "3159fc41",
   "metadata": {},
   "outputs": [],
   "source": [
    "# считаем количество сообщений для каждого пользователя по месяцам\n",
    "messages.pivot = messages.pivot_table(index=['user_id', 'month'], values=['id'], aggfunc='count')\n",
    "messages.pivot = messages.pivot.rename(columns={'id': 'count_messages'})"
   ]
  },
  {
   "cell_type": "code",
   "execution_count": 36,
   "id": "50b89432",
   "metadata": {},
   "outputs": [
    {
     "data": {
      "text/html": [
       "<div>\n",
       "<style scoped>\n",
       "    .dataframe tbody tr th:only-of-type {\n",
       "        vertical-align: middle;\n",
       "    }\n",
       "\n",
       "    .dataframe tbody tr th {\n",
       "        vertical-align: top;\n",
       "    }\n",
       "\n",
       "    .dataframe thead th {\n",
       "        text-align: right;\n",
       "    }\n",
       "</style>\n",
       "<table border=\"1\" class=\"dataframe\">\n",
       "  <thead>\n",
       "    <tr style=\"text-align: right;\">\n",
       "      <th></th>\n",
       "      <th></th>\n",
       "      <th>count_messages</th>\n",
       "    </tr>\n",
       "    <tr>\n",
       "      <th>user_id</th>\n",
       "      <th>month</th>\n",
       "      <th></th>\n",
       "    </tr>\n",
       "  </thead>\n",
       "  <tbody>\n",
       "    <tr>\n",
       "      <th rowspan=\"5\" valign=\"top\">1000</th>\n",
       "      <th>5</th>\n",
       "      <td>22</td>\n",
       "    </tr>\n",
       "    <tr>\n",
       "      <th>6</th>\n",
       "      <td>60</td>\n",
       "    </tr>\n",
       "    <tr>\n",
       "      <th>7</th>\n",
       "      <td>75</td>\n",
       "    </tr>\n",
       "    <tr>\n",
       "      <th>8</th>\n",
       "      <td>81</td>\n",
       "    </tr>\n",
       "    <tr>\n",
       "      <th>9</th>\n",
       "      <td>57</td>\n",
       "    </tr>\n",
       "  </tbody>\n",
       "</table>\n",
       "</div>"
      ],
      "text/plain": [
       "               count_messages\n",
       "user_id month                \n",
       "1000    5                  22\n",
       "        6                  60\n",
       "        7                  75\n",
       "        8                  81\n",
       "        9                  57"
      ]
     },
     "execution_count": 36,
     "metadata": {},
     "output_type": "execute_result"
    }
   ],
   "source": [
    "# посмотрим на сгруппированную таблицу\n",
    "messages.pivot.head()"
   ]
  },
  {
   "cell_type": "markdown",
   "id": "2692f29c",
   "metadata": {},
   "source": [
    "#### Количество сделанных звонков и израсходованных минут разговора по месяцам"
   ]
  },
  {
   "cell_type": "markdown",
   "id": "f77d52d8",
   "metadata": {},
   "source": [
    "Посчитаем количество сделанных звонков и израсходованных минут разговора по месяцам. Для этого добавим в таблицу calls столбец `month`."
   ]
  },
  {
   "cell_type": "code",
   "execution_count": 37,
   "id": "b85de363",
   "metadata": {},
   "outputs": [],
   "source": [
    "# добавляем столбец 'month' в таблицу calls\n",
    "calls['month'] = calls['call_date'].dt.month"
   ]
  },
  {
   "cell_type": "markdown",
   "id": "eb90f8c4",
   "metadata": {},
   "source": [
    "Посчитаем количество звонков и их продолжительность по месяцам каждым пользователем и сохраним результат в столбце `calls_count` и `calls_duration`."
   ]
  },
  {
   "cell_type": "code",
   "execution_count": 38,
   "id": "4fb7b38b",
   "metadata": {},
   "outputs": [],
   "source": [
    "# считаем количество звонков и их продолжительность для каждого пользователя по месяцам\n",
    "calls.pivot = calls.pivot_table(index=['user_id', 'month'], values=['id', 'duration'], aggfunc={'id':'count', 'duration':'sum'})\n",
    "calls.pivot = calls.pivot.rename(columns={'id':'calls_count', 'duration':'calls_duration'})"
   ]
  },
  {
   "cell_type": "code",
   "execution_count": 39,
   "id": "f36bd348",
   "metadata": {},
   "outputs": [
    {
     "data": {
      "text/html": [
       "<div>\n",
       "<style scoped>\n",
       "    .dataframe tbody tr th:only-of-type {\n",
       "        vertical-align: middle;\n",
       "    }\n",
       "\n",
       "    .dataframe tbody tr th {\n",
       "        vertical-align: top;\n",
       "    }\n",
       "\n",
       "    .dataframe thead th {\n",
       "        text-align: right;\n",
       "    }\n",
       "</style>\n",
       "<table border=\"1\" class=\"dataframe\">\n",
       "  <thead>\n",
       "    <tr style=\"text-align: right;\">\n",
       "      <th></th>\n",
       "      <th></th>\n",
       "      <th>calls_duration</th>\n",
       "      <th>calls_count</th>\n",
       "    </tr>\n",
       "    <tr>\n",
       "      <th>user_id</th>\n",
       "      <th>month</th>\n",
       "      <th></th>\n",
       "      <th></th>\n",
       "    </tr>\n",
       "  </thead>\n",
       "  <tbody>\n",
       "    <tr>\n",
       "      <th rowspan=\"5\" valign=\"top\">1000</th>\n",
       "      <th>5</th>\n",
       "      <td>159.0</td>\n",
       "      <td>22</td>\n",
       "    </tr>\n",
       "    <tr>\n",
       "      <th>6</th>\n",
       "      <td>172.0</td>\n",
       "      <td>43</td>\n",
       "    </tr>\n",
       "    <tr>\n",
       "      <th>7</th>\n",
       "      <td>340.0</td>\n",
       "      <td>47</td>\n",
       "    </tr>\n",
       "    <tr>\n",
       "      <th>8</th>\n",
       "      <td>408.0</td>\n",
       "      <td>52</td>\n",
       "    </tr>\n",
       "    <tr>\n",
       "      <th>9</th>\n",
       "      <td>466.0</td>\n",
       "      <td>58</td>\n",
       "    </tr>\n",
       "  </tbody>\n",
       "</table>\n",
       "</div>"
      ],
      "text/plain": [
       "               calls_duration  calls_count\n",
       "user_id month                             \n",
       "1000    5               159.0           22\n",
       "        6               172.0           43\n",
       "        7               340.0           47\n",
       "        8               408.0           52\n",
       "        9               466.0           58"
      ]
     },
     "execution_count": 39,
     "metadata": {},
     "output_type": "execute_result"
    }
   ],
   "source": [
    "# посмотрим на сгруппированную таблицу\n",
    "calls.pivot.head()"
   ]
  },
  {
   "cell_type": "markdown",
   "id": "abccb7eb",
   "metadata": {},
   "source": [
    "#### Объём израсходованного интернет-трафика по месяцам"
   ]
  },
  {
   "cell_type": "markdown",
   "id": "526bf9f8",
   "metadata": {},
   "source": [
    "Посчитаем объем израсходованного интернет-трафика по месяцам. Для этого добавим в таблицу internet столбец `month`."
   ]
  },
  {
   "cell_type": "code",
   "execution_count": 40,
   "id": "46502df6",
   "metadata": {},
   "outputs": [
    {
     "data": {
      "text/html": [
       "<div>\n",
       "<style scoped>\n",
       "    .dataframe tbody tr th:only-of-type {\n",
       "        vertical-align: middle;\n",
       "    }\n",
       "\n",
       "    .dataframe tbody tr th {\n",
       "        vertical-align: top;\n",
       "    }\n",
       "\n",
       "    .dataframe thead th {\n",
       "        text-align: right;\n",
       "    }\n",
       "</style>\n",
       "<table border=\"1\" class=\"dataframe\">\n",
       "  <thead>\n",
       "    <tr style=\"text-align: right;\">\n",
       "      <th></th>\n",
       "      <th>id</th>\n",
       "      <th>mb_used</th>\n",
       "      <th>session_date</th>\n",
       "      <th>user_id</th>\n",
       "      <th>month</th>\n",
       "    </tr>\n",
       "  </thead>\n",
       "  <tbody>\n",
       "    <tr>\n",
       "      <th>0</th>\n",
       "      <td>1000_0</td>\n",
       "      <td>112.95</td>\n",
       "      <td>2018-11-25</td>\n",
       "      <td>1000</td>\n",
       "      <td>11</td>\n",
       "    </tr>\n",
       "    <tr>\n",
       "      <th>1</th>\n",
       "      <td>1000_1</td>\n",
       "      <td>1052.81</td>\n",
       "      <td>2018-09-07</td>\n",
       "      <td>1000</td>\n",
       "      <td>9</td>\n",
       "    </tr>\n",
       "    <tr>\n",
       "      <th>2</th>\n",
       "      <td>1000_2</td>\n",
       "      <td>1197.26</td>\n",
       "      <td>2018-06-25</td>\n",
       "      <td>1000</td>\n",
       "      <td>6</td>\n",
       "    </tr>\n",
       "    <tr>\n",
       "      <th>3</th>\n",
       "      <td>1000_3</td>\n",
       "      <td>550.27</td>\n",
       "      <td>2018-08-22</td>\n",
       "      <td>1000</td>\n",
       "      <td>8</td>\n",
       "    </tr>\n",
       "    <tr>\n",
       "      <th>4</th>\n",
       "      <td>1000_4</td>\n",
       "      <td>302.56</td>\n",
       "      <td>2018-09-24</td>\n",
       "      <td>1000</td>\n",
       "      <td>9</td>\n",
       "    </tr>\n",
       "  </tbody>\n",
       "</table>\n",
       "</div>"
      ],
      "text/plain": [
       "       id  mb_used session_date  user_id  month\n",
       "0  1000_0   112.95   2018-11-25     1000     11\n",
       "1  1000_1  1052.81   2018-09-07     1000      9\n",
       "2  1000_2  1197.26   2018-06-25     1000      6\n",
       "3  1000_3   550.27   2018-08-22     1000      8\n",
       "4  1000_4   302.56   2018-09-24     1000      9"
      ]
     },
     "execution_count": 40,
     "metadata": {},
     "output_type": "execute_result"
    }
   ],
   "source": [
    "# добавляем столбец 'month' в таблицу internet\n",
    "internet['month'] = internet['session_date'].dt.month\n",
    "internet.head()"
   ]
  },
  {
   "cell_type": "code",
   "execution_count": 41,
   "id": "2dffc815",
   "metadata": {},
   "outputs": [],
   "source": [
    "# считаем количество использованного интернет трафика для каждого пользователя по месяцам\n",
    "internet.pivot = internet.pivot_table(index=['user_id', 'month'], values=['mb_used'], aggfunc='sum')"
   ]
  },
  {
   "cell_type": "code",
   "execution_count": 42,
   "id": "f8192936",
   "metadata": {},
   "outputs": [
    {
     "data": {
      "text/html": [
       "<div>\n",
       "<style scoped>\n",
       "    .dataframe tbody tr th:only-of-type {\n",
       "        vertical-align: middle;\n",
       "    }\n",
       "\n",
       "    .dataframe tbody tr th {\n",
       "        vertical-align: top;\n",
       "    }\n",
       "\n",
       "    .dataframe thead th {\n",
       "        text-align: right;\n",
       "    }\n",
       "</style>\n",
       "<table border=\"1\" class=\"dataframe\">\n",
       "  <thead>\n",
       "    <tr style=\"text-align: right;\">\n",
       "      <th></th>\n",
       "      <th></th>\n",
       "      <th>mb_used</th>\n",
       "    </tr>\n",
       "    <tr>\n",
       "      <th>user_id</th>\n",
       "      <th>month</th>\n",
       "      <th></th>\n",
       "    </tr>\n",
       "  </thead>\n",
       "  <tbody>\n",
       "    <tr>\n",
       "      <th rowspan=\"5\" valign=\"top\">1000</th>\n",
       "      <th>5</th>\n",
       "      <td>2253.49</td>\n",
       "    </tr>\n",
       "    <tr>\n",
       "      <th>6</th>\n",
       "      <td>23233.77</td>\n",
       "    </tr>\n",
       "    <tr>\n",
       "      <th>7</th>\n",
       "      <td>14003.64</td>\n",
       "    </tr>\n",
       "    <tr>\n",
       "      <th>8</th>\n",
       "      <td>14055.93</td>\n",
       "    </tr>\n",
       "    <tr>\n",
       "      <th>9</th>\n",
       "      <td>14568.91</td>\n",
       "    </tr>\n",
       "  </tbody>\n",
       "</table>\n",
       "</div>"
      ],
      "text/plain": [
       "                mb_used\n",
       "user_id month          \n",
       "1000    5       2253.49\n",
       "        6      23233.77\n",
       "        7      14003.64\n",
       "        8      14055.93\n",
       "        9      14568.91"
      ]
     },
     "execution_count": 42,
     "metadata": {},
     "output_type": "execute_result"
    }
   ],
   "source": [
    "# посмотрим на сгруппированную таблицу\n",
    "internet.pivot.head()"
   ]
  },
  {
   "cell_type": "markdown",
   "id": "786dd45b",
   "metadata": {},
   "source": [
    "Объеденим полученные таблицы в одну."
   ]
  },
  {
   "cell_type": "code",
   "execution_count": 43,
   "id": "93795c4c",
   "metadata": {},
   "outputs": [],
   "source": [
    "# объединяем полученные результаты в data\n",
    "# к data применяем reset_index(), чтобы получить столбец 'month'\n",
    "data = internet.pivot.merge(calls.pivot, on=['user_id', 'month'], how='outer').merge(\n",
    "    messages.pivot, on=['user_id', 'month'], how='outer')\n",
    "data = data.reset_index()"
   ]
  },
  {
   "cell_type": "code",
   "execution_count": 44,
   "id": "bf99fc9c",
   "metadata": {},
   "outputs": [
    {
     "data": {
      "text/html": [
       "<div>\n",
       "<style scoped>\n",
       "    .dataframe tbody tr th:only-of-type {\n",
       "        vertical-align: middle;\n",
       "    }\n",
       "\n",
       "    .dataframe tbody tr th {\n",
       "        vertical-align: top;\n",
       "    }\n",
       "\n",
       "    .dataframe thead th {\n",
       "        text-align: right;\n",
       "    }\n",
       "</style>\n",
       "<table border=\"1\" class=\"dataframe\">\n",
       "  <thead>\n",
       "    <tr style=\"text-align: right;\">\n",
       "      <th></th>\n",
       "      <th>user_id</th>\n",
       "      <th>month</th>\n",
       "      <th>mb_used</th>\n",
       "      <th>calls_duration</th>\n",
       "      <th>calls_count</th>\n",
       "      <th>count_messages</th>\n",
       "    </tr>\n",
       "  </thead>\n",
       "  <tbody>\n",
       "    <tr>\n",
       "      <th>0</th>\n",
       "      <td>1000</td>\n",
       "      <td>5</td>\n",
       "      <td>2253.49</td>\n",
       "      <td>159.0</td>\n",
       "      <td>22.0</td>\n",
       "      <td>22.0</td>\n",
       "    </tr>\n",
       "    <tr>\n",
       "      <th>1</th>\n",
       "      <td>1000</td>\n",
       "      <td>6</td>\n",
       "      <td>23233.77</td>\n",
       "      <td>172.0</td>\n",
       "      <td>43.0</td>\n",
       "      <td>60.0</td>\n",
       "    </tr>\n",
       "    <tr>\n",
       "      <th>2</th>\n",
       "      <td>1000</td>\n",
       "      <td>7</td>\n",
       "      <td>14003.64</td>\n",
       "      <td>340.0</td>\n",
       "      <td>47.0</td>\n",
       "      <td>75.0</td>\n",
       "    </tr>\n",
       "    <tr>\n",
       "      <th>3</th>\n",
       "      <td>1000</td>\n",
       "      <td>8</td>\n",
       "      <td>14055.93</td>\n",
       "      <td>408.0</td>\n",
       "      <td>52.0</td>\n",
       "      <td>81.0</td>\n",
       "    </tr>\n",
       "    <tr>\n",
       "      <th>4</th>\n",
       "      <td>1000</td>\n",
       "      <td>9</td>\n",
       "      <td>14568.91</td>\n",
       "      <td>466.0</td>\n",
       "      <td>58.0</td>\n",
       "      <td>57.0</td>\n",
       "    </tr>\n",
       "    <tr>\n",
       "      <th>...</th>\n",
       "      <td>...</td>\n",
       "      <td>...</td>\n",
       "      <td>...</td>\n",
       "      <td>...</td>\n",
       "      <td>...</td>\n",
       "      <td>...</td>\n",
       "    </tr>\n",
       "    <tr>\n",
       "      <th>3209</th>\n",
       "      <td>1273</td>\n",
       "      <td>11</td>\n",
       "      <td>NaN</td>\n",
       "      <td>272.0</td>\n",
       "      <td>45.0</td>\n",
       "      <td>29.0</td>\n",
       "    </tr>\n",
       "    <tr>\n",
       "      <th>3210</th>\n",
       "      <td>1273</td>\n",
       "      <td>12</td>\n",
       "      <td>NaN</td>\n",
       "      <td>260.0</td>\n",
       "      <td>41.0</td>\n",
       "      <td>39.0</td>\n",
       "    </tr>\n",
       "    <tr>\n",
       "      <th>3211</th>\n",
       "      <td>1377</td>\n",
       "      <td>2</td>\n",
       "      <td>NaN</td>\n",
       "      <td>179.0</td>\n",
       "      <td>23.0</td>\n",
       "      <td>2.0</td>\n",
       "    </tr>\n",
       "    <tr>\n",
       "      <th>3212</th>\n",
       "      <td>1392</td>\n",
       "      <td>2</td>\n",
       "      <td>NaN</td>\n",
       "      <td>13.0</td>\n",
       "      <td>2.0</td>\n",
       "      <td>3.0</td>\n",
       "    </tr>\n",
       "    <tr>\n",
       "      <th>3213</th>\n",
       "      <td>1446</td>\n",
       "      <td>8</td>\n",
       "      <td>NaN</td>\n",
       "      <td>50.0</td>\n",
       "      <td>4.0</td>\n",
       "      <td>1.0</td>\n",
       "    </tr>\n",
       "  </tbody>\n",
       "</table>\n",
       "<p>3214 rows × 6 columns</p>\n",
       "</div>"
      ],
      "text/plain": [
       "      user_id  month   mb_used  calls_duration  calls_count  count_messages\n",
       "0        1000      5   2253.49           159.0         22.0            22.0\n",
       "1        1000      6  23233.77           172.0         43.0            60.0\n",
       "2        1000      7  14003.64           340.0         47.0            75.0\n",
       "3        1000      8  14055.93           408.0         52.0            81.0\n",
       "4        1000      9  14568.91           466.0         58.0            57.0\n",
       "...       ...    ...       ...             ...          ...             ...\n",
       "3209     1273     11       NaN           272.0         45.0            29.0\n",
       "3210     1273     12       NaN           260.0         41.0            39.0\n",
       "3211     1377      2       NaN           179.0         23.0             2.0\n",
       "3212     1392      2       NaN            13.0          2.0             3.0\n",
       "3213     1446      8       NaN            50.0          4.0             1.0\n",
       "\n",
       "[3214 rows x 6 columns]"
      ]
     },
     "metadata": {},
     "output_type": "display_data"
    }
   ],
   "source": [
    "# посмотрим на получившуюся таблицу\n",
    "display(data)"
   ]
  },
  {
   "cell_type": "markdown",
   "id": "48e47621",
   "metadata": {},
   "source": [
    "#### Объединение таблиц в одну"
   ]
  },
  {
   "cell_type": "markdown",
   "id": "bc2d81f9",
   "metadata": {},
   "source": [
    "Объедеиим data и users в таблицу megalain методом merge()"
   ]
  },
  {
   "cell_type": "code",
   "execution_count": 45,
   "id": "5e8c0596",
   "metadata": {},
   "outputs": [
    {
     "data": {
      "text/html": [
       "<div>\n",
       "<style scoped>\n",
       "    .dataframe tbody tr th:only-of-type {\n",
       "        vertical-align: middle;\n",
       "    }\n",
       "\n",
       "    .dataframe tbody tr th {\n",
       "        vertical-align: top;\n",
       "    }\n",
       "\n",
       "    .dataframe thead th {\n",
       "        text-align: right;\n",
       "    }\n",
       "</style>\n",
       "<table border=\"1\" class=\"dataframe\">\n",
       "  <thead>\n",
       "    <tr style=\"text-align: right;\">\n",
       "      <th></th>\n",
       "      <th>user_id</th>\n",
       "      <th>age</th>\n",
       "      <th>churn_date</th>\n",
       "      <th>city</th>\n",
       "      <th>first_name</th>\n",
       "      <th>last_name</th>\n",
       "      <th>reg_date</th>\n",
       "      <th>tariff</th>\n",
       "      <th>month</th>\n",
       "      <th>mb_used</th>\n",
       "      <th>calls_duration</th>\n",
       "      <th>calls_count</th>\n",
       "      <th>count_messages</th>\n",
       "    </tr>\n",
       "  </thead>\n",
       "  <tbody>\n",
       "    <tr>\n",
       "      <th>0</th>\n",
       "      <td>1000</td>\n",
       "      <td>52</td>\n",
       "      <td>NaT</td>\n",
       "      <td>Краснодар</td>\n",
       "      <td>Рафаил</td>\n",
       "      <td>Верещагин</td>\n",
       "      <td>2018-05-25</td>\n",
       "      <td>ultra</td>\n",
       "      <td>5.0</td>\n",
       "      <td>2253.49</td>\n",
       "      <td>159.0</td>\n",
       "      <td>22.0</td>\n",
       "      <td>22.0</td>\n",
       "    </tr>\n",
       "    <tr>\n",
       "      <th>1</th>\n",
       "      <td>1000</td>\n",
       "      <td>52</td>\n",
       "      <td>NaT</td>\n",
       "      <td>Краснодар</td>\n",
       "      <td>Рафаил</td>\n",
       "      <td>Верещагин</td>\n",
       "      <td>2018-05-25</td>\n",
       "      <td>ultra</td>\n",
       "      <td>6.0</td>\n",
       "      <td>23233.77</td>\n",
       "      <td>172.0</td>\n",
       "      <td>43.0</td>\n",
       "      <td>60.0</td>\n",
       "    </tr>\n",
       "    <tr>\n",
       "      <th>2</th>\n",
       "      <td>1000</td>\n",
       "      <td>52</td>\n",
       "      <td>NaT</td>\n",
       "      <td>Краснодар</td>\n",
       "      <td>Рафаил</td>\n",
       "      <td>Верещагин</td>\n",
       "      <td>2018-05-25</td>\n",
       "      <td>ultra</td>\n",
       "      <td>7.0</td>\n",
       "      <td>14003.64</td>\n",
       "      <td>340.0</td>\n",
       "      <td>47.0</td>\n",
       "      <td>75.0</td>\n",
       "    </tr>\n",
       "    <tr>\n",
       "      <th>3</th>\n",
       "      <td>1000</td>\n",
       "      <td>52</td>\n",
       "      <td>NaT</td>\n",
       "      <td>Краснодар</td>\n",
       "      <td>Рафаил</td>\n",
       "      <td>Верещагин</td>\n",
       "      <td>2018-05-25</td>\n",
       "      <td>ultra</td>\n",
       "      <td>8.0</td>\n",
       "      <td>14055.93</td>\n",
       "      <td>408.0</td>\n",
       "      <td>52.0</td>\n",
       "      <td>81.0</td>\n",
       "    </tr>\n",
       "    <tr>\n",
       "      <th>4</th>\n",
       "      <td>1000</td>\n",
       "      <td>52</td>\n",
       "      <td>NaT</td>\n",
       "      <td>Краснодар</td>\n",
       "      <td>Рафаил</td>\n",
       "      <td>Верещагин</td>\n",
       "      <td>2018-05-25</td>\n",
       "      <td>ultra</td>\n",
       "      <td>9.0</td>\n",
       "      <td>14568.91</td>\n",
       "      <td>466.0</td>\n",
       "      <td>58.0</td>\n",
       "      <td>57.0</td>\n",
       "    </tr>\n",
       "    <tr>\n",
       "      <th>...</th>\n",
       "      <td>...</td>\n",
       "      <td>...</td>\n",
       "      <td>...</td>\n",
       "      <td>...</td>\n",
       "      <td>...</td>\n",
       "      <td>...</td>\n",
       "      <td>...</td>\n",
       "      <td>...</td>\n",
       "      <td>...</td>\n",
       "      <td>...</td>\n",
       "      <td>...</td>\n",
       "      <td>...</td>\n",
       "      <td>...</td>\n",
       "    </tr>\n",
       "    <tr>\n",
       "      <th>3211</th>\n",
       "      <td>1498</td>\n",
       "      <td>68</td>\n",
       "      <td>2018-10-25</td>\n",
       "      <td>Владикавказ</td>\n",
       "      <td>Всеволод</td>\n",
       "      <td>Акимчин</td>\n",
       "      <td>2018-07-19</td>\n",
       "      <td>smart</td>\n",
       "      <td>10.0</td>\n",
       "      <td>20579.36</td>\n",
       "      <td>247.0</td>\n",
       "      <td>41.0</td>\n",
       "      <td>42.0</td>\n",
       "    </tr>\n",
       "    <tr>\n",
       "      <th>3212</th>\n",
       "      <td>1499</td>\n",
       "      <td>35</td>\n",
       "      <td>NaT</td>\n",
       "      <td>Пермь</td>\n",
       "      <td>Гектор</td>\n",
       "      <td>Корнилов</td>\n",
       "      <td>2018-09-27</td>\n",
       "      <td>smart</td>\n",
       "      <td>9.0</td>\n",
       "      <td>1845.75</td>\n",
       "      <td>70.0</td>\n",
       "      <td>9.0</td>\n",
       "      <td>11.0</td>\n",
       "    </tr>\n",
       "    <tr>\n",
       "      <th>3213</th>\n",
       "      <td>1499</td>\n",
       "      <td>35</td>\n",
       "      <td>NaT</td>\n",
       "      <td>Пермь</td>\n",
       "      <td>Гектор</td>\n",
       "      <td>Корнилов</td>\n",
       "      <td>2018-09-27</td>\n",
       "      <td>smart</td>\n",
       "      <td>10.0</td>\n",
       "      <td>17788.51</td>\n",
       "      <td>449.0</td>\n",
       "      <td>68.0</td>\n",
       "      <td>48.0</td>\n",
       "    </tr>\n",
       "    <tr>\n",
       "      <th>3214</th>\n",
       "      <td>1499</td>\n",
       "      <td>35</td>\n",
       "      <td>NaT</td>\n",
       "      <td>Пермь</td>\n",
       "      <td>Гектор</td>\n",
       "      <td>Корнилов</td>\n",
       "      <td>2018-09-27</td>\n",
       "      <td>smart</td>\n",
       "      <td>11.0</td>\n",
       "      <td>17963.31</td>\n",
       "      <td>612.0</td>\n",
       "      <td>74.0</td>\n",
       "      <td>59.0</td>\n",
       "    </tr>\n",
       "    <tr>\n",
       "      <th>3215</th>\n",
       "      <td>1499</td>\n",
       "      <td>35</td>\n",
       "      <td>NaT</td>\n",
       "      <td>Пермь</td>\n",
       "      <td>Гектор</td>\n",
       "      <td>Корнилов</td>\n",
       "      <td>2018-09-27</td>\n",
       "      <td>smart</td>\n",
       "      <td>12.0</td>\n",
       "      <td>13055.58</td>\n",
       "      <td>492.0</td>\n",
       "      <td>69.0</td>\n",
       "      <td>66.0</td>\n",
       "    </tr>\n",
       "  </tbody>\n",
       "</table>\n",
       "<p>3216 rows × 13 columns</p>\n",
       "</div>"
      ],
      "text/plain": [
       "      user_id  age churn_date         city first_name  last_name   reg_date  \\\n",
       "0        1000   52        NaT    Краснодар     Рафаил  Верещагин 2018-05-25   \n",
       "1        1000   52        NaT    Краснодар     Рафаил  Верещагин 2018-05-25   \n",
       "2        1000   52        NaT    Краснодар     Рафаил  Верещагин 2018-05-25   \n",
       "3        1000   52        NaT    Краснодар     Рафаил  Верещагин 2018-05-25   \n",
       "4        1000   52        NaT    Краснодар     Рафаил  Верещагин 2018-05-25   \n",
       "...       ...  ...        ...          ...        ...        ...        ...   \n",
       "3211     1498   68 2018-10-25  Владикавказ   Всеволод    Акимчин 2018-07-19   \n",
       "3212     1499   35        NaT        Пермь     Гектор   Корнилов 2018-09-27   \n",
       "3213     1499   35        NaT        Пермь     Гектор   Корнилов 2018-09-27   \n",
       "3214     1499   35        NaT        Пермь     Гектор   Корнилов 2018-09-27   \n",
       "3215     1499   35        NaT        Пермь     Гектор   Корнилов 2018-09-27   \n",
       "\n",
       "     tariff  month   mb_used  calls_duration  calls_count  count_messages  \n",
       "0     ultra    5.0   2253.49           159.0         22.0            22.0  \n",
       "1     ultra    6.0  23233.77           172.0         43.0            60.0  \n",
       "2     ultra    7.0  14003.64           340.0         47.0            75.0  \n",
       "3     ultra    8.0  14055.93           408.0         52.0            81.0  \n",
       "4     ultra    9.0  14568.91           466.0         58.0            57.0  \n",
       "...     ...    ...       ...             ...          ...             ...  \n",
       "3211  smart   10.0  20579.36           247.0         41.0            42.0  \n",
       "3212  smart    9.0   1845.75            70.0          9.0            11.0  \n",
       "3213  smart   10.0  17788.51           449.0         68.0            48.0  \n",
       "3214  smart   11.0  17963.31           612.0         74.0            59.0  \n",
       "3215  smart   12.0  13055.58           492.0         69.0            66.0  \n",
       "\n",
       "[3216 rows x 13 columns]"
      ]
     },
     "metadata": {},
     "output_type": "display_data"
    }
   ],
   "source": [
    "# объединяем data и users в итоговую таблицу megalain\n",
    "# смотрим на таблицу\n",
    "megalain = users.merge(data, on='user_id', how='left')\n",
    "display(megalain)"
   ]
  },
  {
   "cell_type": "markdown",
   "id": "7a5f4a3f",
   "metadata": {},
   "source": [
    "К таблице megalain добавляем таблицу с описанием тарифов tariffs и получаем итоговую таблицу."
   ]
  },
  {
   "cell_type": "code",
   "execution_count": 46,
   "id": "5fefe58c",
   "metadata": {},
   "outputs": [
    {
     "data": {
      "text/html": [
       "<div>\n",
       "<style scoped>\n",
       "    .dataframe tbody tr th:only-of-type {\n",
       "        vertical-align: middle;\n",
       "    }\n",
       "\n",
       "    .dataframe tbody tr th {\n",
       "        vertical-align: top;\n",
       "    }\n",
       "\n",
       "    .dataframe thead th {\n",
       "        text-align: right;\n",
       "    }\n",
       "</style>\n",
       "<table border=\"1\" class=\"dataframe\">\n",
       "  <thead>\n",
       "    <tr style=\"text-align: right;\">\n",
       "      <th></th>\n",
       "      <th>user_id</th>\n",
       "      <th>age</th>\n",
       "      <th>churn_date</th>\n",
       "      <th>city</th>\n",
       "      <th>first_name</th>\n",
       "      <th>last_name</th>\n",
       "      <th>reg_date</th>\n",
       "      <th>tariff</th>\n",
       "      <th>month</th>\n",
       "      <th>mb_used</th>\n",
       "      <th>calls_duration</th>\n",
       "      <th>calls_count</th>\n",
       "      <th>count_messages</th>\n",
       "      <th>messages_included</th>\n",
       "      <th>mb_per_month_included</th>\n",
       "      <th>minutes_included</th>\n",
       "      <th>rub_monthly_fee</th>\n",
       "      <th>rub_per_gb</th>\n",
       "      <th>rub_per_message</th>\n",
       "      <th>rub_per_minute</th>\n",
       "    </tr>\n",
       "  </thead>\n",
       "  <tbody>\n",
       "    <tr>\n",
       "      <th>0</th>\n",
       "      <td>1000</td>\n",
       "      <td>52</td>\n",
       "      <td>NaT</td>\n",
       "      <td>Краснодар</td>\n",
       "      <td>Рафаил</td>\n",
       "      <td>Верещагин</td>\n",
       "      <td>2018-05-25</td>\n",
       "      <td>ultra</td>\n",
       "      <td>5.0</td>\n",
       "      <td>2253.49</td>\n",
       "      <td>159.0</td>\n",
       "      <td>22.0</td>\n",
       "      <td>22.0</td>\n",
       "      <td>1000</td>\n",
       "      <td>30720</td>\n",
       "      <td>3000</td>\n",
       "      <td>1950</td>\n",
       "      <td>150</td>\n",
       "      <td>1</td>\n",
       "      <td>1</td>\n",
       "    </tr>\n",
       "    <tr>\n",
       "      <th>1</th>\n",
       "      <td>1000</td>\n",
       "      <td>52</td>\n",
       "      <td>NaT</td>\n",
       "      <td>Краснодар</td>\n",
       "      <td>Рафаил</td>\n",
       "      <td>Верещагин</td>\n",
       "      <td>2018-05-25</td>\n",
       "      <td>ultra</td>\n",
       "      <td>6.0</td>\n",
       "      <td>23233.77</td>\n",
       "      <td>172.0</td>\n",
       "      <td>43.0</td>\n",
       "      <td>60.0</td>\n",
       "      <td>1000</td>\n",
       "      <td>30720</td>\n",
       "      <td>3000</td>\n",
       "      <td>1950</td>\n",
       "      <td>150</td>\n",
       "      <td>1</td>\n",
       "      <td>1</td>\n",
       "    </tr>\n",
       "    <tr>\n",
       "      <th>2</th>\n",
       "      <td>1000</td>\n",
       "      <td>52</td>\n",
       "      <td>NaT</td>\n",
       "      <td>Краснодар</td>\n",
       "      <td>Рафаил</td>\n",
       "      <td>Верещагин</td>\n",
       "      <td>2018-05-25</td>\n",
       "      <td>ultra</td>\n",
       "      <td>7.0</td>\n",
       "      <td>14003.64</td>\n",
       "      <td>340.0</td>\n",
       "      <td>47.0</td>\n",
       "      <td>75.0</td>\n",
       "      <td>1000</td>\n",
       "      <td>30720</td>\n",
       "      <td>3000</td>\n",
       "      <td>1950</td>\n",
       "      <td>150</td>\n",
       "      <td>1</td>\n",
       "      <td>1</td>\n",
       "    </tr>\n",
       "    <tr>\n",
       "      <th>3</th>\n",
       "      <td>1000</td>\n",
       "      <td>52</td>\n",
       "      <td>NaT</td>\n",
       "      <td>Краснодар</td>\n",
       "      <td>Рафаил</td>\n",
       "      <td>Верещагин</td>\n",
       "      <td>2018-05-25</td>\n",
       "      <td>ultra</td>\n",
       "      <td>8.0</td>\n",
       "      <td>14055.93</td>\n",
       "      <td>408.0</td>\n",
       "      <td>52.0</td>\n",
       "      <td>81.0</td>\n",
       "      <td>1000</td>\n",
       "      <td>30720</td>\n",
       "      <td>3000</td>\n",
       "      <td>1950</td>\n",
       "      <td>150</td>\n",
       "      <td>1</td>\n",
       "      <td>1</td>\n",
       "    </tr>\n",
       "    <tr>\n",
       "      <th>4</th>\n",
       "      <td>1000</td>\n",
       "      <td>52</td>\n",
       "      <td>NaT</td>\n",
       "      <td>Краснодар</td>\n",
       "      <td>Рафаил</td>\n",
       "      <td>Верещагин</td>\n",
       "      <td>2018-05-25</td>\n",
       "      <td>ultra</td>\n",
       "      <td>9.0</td>\n",
       "      <td>14568.91</td>\n",
       "      <td>466.0</td>\n",
       "      <td>58.0</td>\n",
       "      <td>57.0</td>\n",
       "      <td>1000</td>\n",
       "      <td>30720</td>\n",
       "      <td>3000</td>\n",
       "      <td>1950</td>\n",
       "      <td>150</td>\n",
       "      <td>1</td>\n",
       "      <td>1</td>\n",
       "    </tr>\n",
       "    <tr>\n",
       "      <th>...</th>\n",
       "      <td>...</td>\n",
       "      <td>...</td>\n",
       "      <td>...</td>\n",
       "      <td>...</td>\n",
       "      <td>...</td>\n",
       "      <td>...</td>\n",
       "      <td>...</td>\n",
       "      <td>...</td>\n",
       "      <td>...</td>\n",
       "      <td>...</td>\n",
       "      <td>...</td>\n",
       "      <td>...</td>\n",
       "      <td>...</td>\n",
       "      <td>...</td>\n",
       "      <td>...</td>\n",
       "      <td>...</td>\n",
       "      <td>...</td>\n",
       "      <td>...</td>\n",
       "      <td>...</td>\n",
       "      <td>...</td>\n",
       "    </tr>\n",
       "    <tr>\n",
       "      <th>3211</th>\n",
       "      <td>1498</td>\n",
       "      <td>68</td>\n",
       "      <td>2018-10-25</td>\n",
       "      <td>Владикавказ</td>\n",
       "      <td>Всеволод</td>\n",
       "      <td>Акимчин</td>\n",
       "      <td>2018-07-19</td>\n",
       "      <td>smart</td>\n",
       "      <td>10.0</td>\n",
       "      <td>20579.36</td>\n",
       "      <td>247.0</td>\n",
       "      <td>41.0</td>\n",
       "      <td>42.0</td>\n",
       "      <td>50</td>\n",
       "      <td>15360</td>\n",
       "      <td>500</td>\n",
       "      <td>550</td>\n",
       "      <td>200</td>\n",
       "      <td>3</td>\n",
       "      <td>3</td>\n",
       "    </tr>\n",
       "    <tr>\n",
       "      <th>3212</th>\n",
       "      <td>1499</td>\n",
       "      <td>35</td>\n",
       "      <td>NaT</td>\n",
       "      <td>Пермь</td>\n",
       "      <td>Гектор</td>\n",
       "      <td>Корнилов</td>\n",
       "      <td>2018-09-27</td>\n",
       "      <td>smart</td>\n",
       "      <td>9.0</td>\n",
       "      <td>1845.75</td>\n",
       "      <td>70.0</td>\n",
       "      <td>9.0</td>\n",
       "      <td>11.0</td>\n",
       "      <td>50</td>\n",
       "      <td>15360</td>\n",
       "      <td>500</td>\n",
       "      <td>550</td>\n",
       "      <td>200</td>\n",
       "      <td>3</td>\n",
       "      <td>3</td>\n",
       "    </tr>\n",
       "    <tr>\n",
       "      <th>3213</th>\n",
       "      <td>1499</td>\n",
       "      <td>35</td>\n",
       "      <td>NaT</td>\n",
       "      <td>Пермь</td>\n",
       "      <td>Гектор</td>\n",
       "      <td>Корнилов</td>\n",
       "      <td>2018-09-27</td>\n",
       "      <td>smart</td>\n",
       "      <td>10.0</td>\n",
       "      <td>17788.51</td>\n",
       "      <td>449.0</td>\n",
       "      <td>68.0</td>\n",
       "      <td>48.0</td>\n",
       "      <td>50</td>\n",
       "      <td>15360</td>\n",
       "      <td>500</td>\n",
       "      <td>550</td>\n",
       "      <td>200</td>\n",
       "      <td>3</td>\n",
       "      <td>3</td>\n",
       "    </tr>\n",
       "    <tr>\n",
       "      <th>3214</th>\n",
       "      <td>1499</td>\n",
       "      <td>35</td>\n",
       "      <td>NaT</td>\n",
       "      <td>Пермь</td>\n",
       "      <td>Гектор</td>\n",
       "      <td>Корнилов</td>\n",
       "      <td>2018-09-27</td>\n",
       "      <td>smart</td>\n",
       "      <td>11.0</td>\n",
       "      <td>17963.31</td>\n",
       "      <td>612.0</td>\n",
       "      <td>74.0</td>\n",
       "      <td>59.0</td>\n",
       "      <td>50</td>\n",
       "      <td>15360</td>\n",
       "      <td>500</td>\n",
       "      <td>550</td>\n",
       "      <td>200</td>\n",
       "      <td>3</td>\n",
       "      <td>3</td>\n",
       "    </tr>\n",
       "    <tr>\n",
       "      <th>3215</th>\n",
       "      <td>1499</td>\n",
       "      <td>35</td>\n",
       "      <td>NaT</td>\n",
       "      <td>Пермь</td>\n",
       "      <td>Гектор</td>\n",
       "      <td>Корнилов</td>\n",
       "      <td>2018-09-27</td>\n",
       "      <td>smart</td>\n",
       "      <td>12.0</td>\n",
       "      <td>13055.58</td>\n",
       "      <td>492.0</td>\n",
       "      <td>69.0</td>\n",
       "      <td>66.0</td>\n",
       "      <td>50</td>\n",
       "      <td>15360</td>\n",
       "      <td>500</td>\n",
       "      <td>550</td>\n",
       "      <td>200</td>\n",
       "      <td>3</td>\n",
       "      <td>3</td>\n",
       "    </tr>\n",
       "  </tbody>\n",
       "</table>\n",
       "<p>3216 rows × 20 columns</p>\n",
       "</div>"
      ],
      "text/plain": [
       "      user_id  age churn_date         city first_name  last_name   reg_date  \\\n",
       "0        1000   52        NaT    Краснодар     Рафаил  Верещагин 2018-05-25   \n",
       "1        1000   52        NaT    Краснодар     Рафаил  Верещагин 2018-05-25   \n",
       "2        1000   52        NaT    Краснодар     Рафаил  Верещагин 2018-05-25   \n",
       "3        1000   52        NaT    Краснодар     Рафаил  Верещагин 2018-05-25   \n",
       "4        1000   52        NaT    Краснодар     Рафаил  Верещагин 2018-05-25   \n",
       "...       ...  ...        ...          ...        ...        ...        ...   \n",
       "3211     1498   68 2018-10-25  Владикавказ   Всеволод    Акимчин 2018-07-19   \n",
       "3212     1499   35        NaT        Пермь     Гектор   Корнилов 2018-09-27   \n",
       "3213     1499   35        NaT        Пермь     Гектор   Корнилов 2018-09-27   \n",
       "3214     1499   35        NaT        Пермь     Гектор   Корнилов 2018-09-27   \n",
       "3215     1499   35        NaT        Пермь     Гектор   Корнилов 2018-09-27   \n",
       "\n",
       "     tariff  month   mb_used  calls_duration  calls_count  count_messages  \\\n",
       "0     ultra    5.0   2253.49           159.0         22.0            22.0   \n",
       "1     ultra    6.0  23233.77           172.0         43.0            60.0   \n",
       "2     ultra    7.0  14003.64           340.0         47.0            75.0   \n",
       "3     ultra    8.0  14055.93           408.0         52.0            81.0   \n",
       "4     ultra    9.0  14568.91           466.0         58.0            57.0   \n",
       "...     ...    ...       ...             ...          ...             ...   \n",
       "3211  smart   10.0  20579.36           247.0         41.0            42.0   \n",
       "3212  smart    9.0   1845.75            70.0          9.0            11.0   \n",
       "3213  smart   10.0  17788.51           449.0         68.0            48.0   \n",
       "3214  smart   11.0  17963.31           612.0         74.0            59.0   \n",
       "3215  smart   12.0  13055.58           492.0         69.0            66.0   \n",
       "\n",
       "      messages_included  mb_per_month_included  minutes_included  \\\n",
       "0                  1000                  30720              3000   \n",
       "1                  1000                  30720              3000   \n",
       "2                  1000                  30720              3000   \n",
       "3                  1000                  30720              3000   \n",
       "4                  1000                  30720              3000   \n",
       "...                 ...                    ...               ...   \n",
       "3211                 50                  15360               500   \n",
       "3212                 50                  15360               500   \n",
       "3213                 50                  15360               500   \n",
       "3214                 50                  15360               500   \n",
       "3215                 50                  15360               500   \n",
       "\n",
       "      rub_monthly_fee  rub_per_gb  rub_per_message  rub_per_minute  \n",
       "0                1950         150                1               1  \n",
       "1                1950         150                1               1  \n",
       "2                1950         150                1               1  \n",
       "3                1950         150                1               1  \n",
       "4                1950         150                1               1  \n",
       "...               ...         ...              ...             ...  \n",
       "3211              550         200                3               3  \n",
       "3212              550         200                3               3  \n",
       "3213              550         200                3               3  \n",
       "3214              550         200                3               3  \n",
       "3215              550         200                3               3  \n",
       "\n",
       "[3216 rows x 20 columns]"
      ]
     },
     "metadata": {},
     "output_type": "display_data"
    }
   ],
   "source": [
    "# получаем итоговую таблицу для исследования\n",
    "megalain = megalain.merge(tariffs, on='tariff')\n",
    "display(megalain)"
   ]
  },
  {
   "cell_type": "markdown",
   "id": "6d4bfa2d",
   "metadata": {},
   "source": [
    "Столбцы `age`, `churn_date`, `first_name`, `last_name`, `reg_date` для исследования нам не пригодятся. Удалим их."
   ]
  },
  {
   "cell_type": "code",
   "execution_count": 47,
   "id": "196a1a6e",
   "metadata": {},
   "outputs": [],
   "source": [
    "# удаляем ненужные столбцы \n",
    "megalain.drop(['age', 'churn_date', 'first_name', 'last_name', 'reg_date'], axis='columns', inplace=True)"
   ]
  },
  {
   "cell_type": "markdown",
   "id": "a3fca710",
   "metadata": {},
   "source": [
    "Посчитаем количество пропусков в объединённой таблице."
   ]
  },
  {
   "cell_type": "code",
   "execution_count": 48,
   "id": "325dbd0f",
   "metadata": {},
   "outputs": [
    {
     "data": {
      "text/plain": [
       "user_id                    0\n",
       "city                       0\n",
       "tariff                     0\n",
       "month                      2\n",
       "mb_used                   13\n",
       "calls_duration            42\n",
       "calls_count               42\n",
       "count_messages           499\n",
       "messages_included          0\n",
       "mb_per_month_included      0\n",
       "minutes_included           0\n",
       "rub_monthly_fee            0\n",
       "rub_per_gb                 0\n",
       "rub_per_message            0\n",
       "rub_per_minute             0\n",
       "dtype: int64"
      ]
     },
     "execution_count": 48,
     "metadata": {},
     "output_type": "execute_result"
    }
   ],
   "source": [
    "# считаем количество пропусков в итоговой таблице\n",
    "megalain.isna().sum()"
   ]
  },
  {
   "cell_type": "markdown",
   "id": "429c7feb",
   "metadata": {},
   "source": [
    "Пропуски появились в столбцах `mb_used`, `calls_duration`, `calls_count`, `count_messages`. Сделаем предположение, что в какие-то месяцы клиенты не пользовались одним из перечисленных типов услуг. Тогда заменим пропуски на нули."
   ]
  },
  {
   "cell_type": "code",
   "execution_count": 49,
   "id": "90da4c0d",
   "metadata": {},
   "outputs": [],
   "source": [
    "# заменяем прпоуски на 0\n",
    "megalain=megalain.fillna(0)"
   ]
  },
  {
   "cell_type": "markdown",
   "id": "f64390a5",
   "metadata": {},
   "source": [
    "Переведём значения в столбцах `mb_per_month_included` и `mb_used` из мегабайт в гигабайты. Из условия работы оператора известно, что Мегалайн округляет значение интернет трафика до целого гигабайта в большую сторону. Округлим значение столбца `mb_used` в большую сторону, методом ceil()"
   ]
  },
  {
   "cell_type": "code",
   "execution_count": 50,
   "id": "7ead1a03",
   "metadata": {},
   "outputs": [],
   "source": [
    "# переводим значения трафика из мегабайт в гигабайты\n",
    "# округляем значение трафика в большую сторону\n",
    "megalain['mb_used'] = megalain['mb_used'] / 1024\n",
    "megalain['mb_used'] = np.ceil(megalain['mb_used'])\n",
    "megalain['mb_per_month_included'] = megalain['mb_per_month_included']/1024 "
   ]
  },
  {
   "cell_type": "markdown",
   "id": "b7a899d1",
   "metadata": {},
   "source": [
    "Заменим тип данных в столбцах `mb_used`, `calls_duration`, `calls_count`, `count_messages` на цельночисловой."
   ]
  },
  {
   "cell_type": "code",
   "execution_count": 51,
   "id": "b2a9b0bb",
   "metadata": {},
   "outputs": [],
   "source": [
    "# заменяем тип данных на цельночисловой\n",
    "megalain['mb_used'] = megalain['mb_used'].astype('int64')\n",
    "megalain['calls_duration'] = megalain['calls_duration'].astype('int64')\n",
    "megalain['calls_count'] = megalain['calls_count'].astype('int64')\n",
    "megalain['count_messages'] = megalain['count_messages'].astype('int64')"
   ]
  },
  {
   "cell_type": "markdown",
   "id": "7d848b09",
   "metadata": {},
   "source": [
    "#### Помесячная выручка с каждого пользователя "
   ]
  },
  {
   "cell_type": "markdown",
   "id": "b2dbe256",
   "metadata": {},
   "source": [
    "Расчитаем помесячную выручку с каждого пользователя (вычтим бесплатный лимит из суммарного количества звонков, сообщений и интернет-трафика; остаток умножаем на значение из тарифного плана; прибавляем абонентскую плату, соответствующую тарифному плану).\n",
    "\n",
    "Напишем функцию для одной строки def month_transaction(row). Она будет сравнивать значения в столбцах и на основе этих сравнений возвращать выручки с каждого абонента в столбец 'month_transaction'"
   ]
  },
  {
   "cell_type": "code",
   "execution_count": 52,
   "id": "62150d50",
   "metadata": {},
   "outputs": [],
   "source": [
    "def month_transaction(row):\n",
    "    minutes_cost = max(row['calls_duration']-row['minutes_included'], 0)*row['rub_per_minute']\n",
    "    messages_cost = max(row['count_messages']-row['messages_included'], 0)*row['rub_per_message']\n",
    "    internet_cost = max(row['mb_used']-row['mb_per_month_included'], 0)*row['rub_per_gb']\n",
    "    return row['rub_monthly_fee'] + minutes_cost + messages_cost + internet_cost\n",
    "\n",
    "megalain['month_transaction'] = megalain.apply(month_transaction, axis=1) "
   ]
  },
  {
   "cell_type": "markdown",
   "id": "f6cf2628",
   "metadata": {},
   "source": [
    "Проверим столбец `month_transaction` на наличие нулевых значений."
   ]
  },
  {
   "cell_type": "code",
   "execution_count": 53,
   "id": "2462c431",
   "metadata": {},
   "outputs": [
    {
     "data": {
      "text/html": [
       "<div>\n",
       "<style scoped>\n",
       "    .dataframe tbody tr th:only-of-type {\n",
       "        vertical-align: middle;\n",
       "    }\n",
       "\n",
       "    .dataframe tbody tr th {\n",
       "        vertical-align: top;\n",
       "    }\n",
       "\n",
       "    .dataframe thead th {\n",
       "        text-align: right;\n",
       "    }\n",
       "</style>\n",
       "<table border=\"1\" class=\"dataframe\">\n",
       "  <thead>\n",
       "    <tr style=\"text-align: right;\">\n",
       "      <th></th>\n",
       "      <th>user_id</th>\n",
       "      <th>city</th>\n",
       "      <th>tariff</th>\n",
       "      <th>month</th>\n",
       "      <th>mb_used</th>\n",
       "      <th>calls_duration</th>\n",
       "      <th>calls_count</th>\n",
       "      <th>count_messages</th>\n",
       "      <th>messages_included</th>\n",
       "      <th>mb_per_month_included</th>\n",
       "      <th>minutes_included</th>\n",
       "      <th>rub_monthly_fee</th>\n",
       "      <th>rub_per_gb</th>\n",
       "      <th>rub_per_message</th>\n",
       "      <th>rub_per_minute</th>\n",
       "      <th>month_transaction</th>\n",
       "    </tr>\n",
       "  </thead>\n",
       "  <tbody>\n",
       "  </tbody>\n",
       "</table>\n",
       "</div>"
      ],
      "text/plain": [
       "Empty DataFrame\n",
       "Columns: [user_id, city, tariff, month, mb_used, calls_duration, calls_count, count_messages, messages_included, mb_per_month_included, minutes_included, rub_monthly_fee, rub_per_gb, rub_per_message, rub_per_minute, month_transaction]\n",
       "Index: []"
      ]
     },
     "metadata": {},
     "output_type": "display_data"
    }
   ],
   "source": [
    "# проверяем столбец 'month_transaction' на наличие нулевых значений.\n",
    "zero = megalain.loc[megalain['month_transaction'] ==0]\n",
    "display(zero)"
   ]
  },
  {
   "cell_type": "markdown",
   "id": "56349610",
   "metadata": {},
   "source": [
    "Нулей нет. Продолжаем исследование."
   ]
  },
  {
   "cell_type": "markdown",
   "id": "bfd8f05f",
   "metadata": {},
   "source": [
    "**Вывод**\n",
    "* были посчитаны и добавлены в итоговую таблицу:\n",
    " * количество сделанных звонков и израсходованных минут разговора по месяцам;\n",
    " * количество отправленных сообщений по месяцам;\n",
    " * объем израсходованного интернет-трафика по месяцам;\n",
    " * помесячная выручка с каждого пользователя.\n",
    "* были изменены типы данных\n",
    "* округлено значение использованного интернет трафика"
   ]
  },
  {
   "cell_type": "markdown",
   "id": "112c7db9",
   "metadata": {},
   "source": [
    "## Анализ и описание данных"
   ]
  },
  {
   "cell_type": "markdown",
   "id": "5b1f2be5",
   "metadata": {},
   "source": [
    "### Группировка клиентов по тарифам"
   ]
  },
  {
   "cell_type": "markdown",
   "id": "53172ef6",
   "metadata": {},
   "source": [
    "Из полученной таблицы сгруппируем по отдельности клиентов с тарифом `Смарт` и `Ультра`. Сохраним результаты в megalain_smart и megalain_ultra."
   ]
  },
  {
   "cell_type": "code",
   "execution_count": 56,
   "id": "e291dcbf",
   "metadata": {},
   "outputs": [
    {
     "data": {
      "text/html": [
       "<div>\n",
       "<style scoped>\n",
       "    .dataframe tbody tr th:only-of-type {\n",
       "        vertical-align: middle;\n",
       "    }\n",
       "\n",
       "    .dataframe tbody tr th {\n",
       "        vertical-align: top;\n",
       "    }\n",
       "\n",
       "    .dataframe thead th {\n",
       "        text-align: right;\n",
       "    }\n",
       "</style>\n",
       "<table border=\"1\" class=\"dataframe\">\n",
       "  <thead>\n",
       "    <tr style=\"text-align: right;\">\n",
       "      <th></th>\n",
       "      <th>user_id</th>\n",
       "      <th>city</th>\n",
       "      <th>tariff</th>\n",
       "      <th>month</th>\n",
       "      <th>mb_used</th>\n",
       "      <th>calls_duration</th>\n",
       "      <th>calls_count</th>\n",
       "      <th>count_messages</th>\n",
       "      <th>messages_included</th>\n",
       "      <th>mb_per_month_included</th>\n",
       "      <th>minutes_included</th>\n",
       "      <th>rub_monthly_fee</th>\n",
       "      <th>rub_per_gb</th>\n",
       "      <th>rub_per_message</th>\n",
       "      <th>rub_per_minute</th>\n",
       "      <th>month_transaction</th>\n",
       "    </tr>\n",
       "  </thead>\n",
       "  <tbody>\n",
       "    <tr>\n",
       "      <th>986</th>\n",
       "      <td>1001</td>\n",
       "      <td>Москва</td>\n",
       "      <td>smart</td>\n",
       "      <td>11.00</td>\n",
       "      <td>18</td>\n",
       "      <td>430</td>\n",
       "      <td>59</td>\n",
       "      <td>0</td>\n",
       "      <td>50</td>\n",
       "      <td>15.00</td>\n",
       "      <td>500</td>\n",
       "      <td>550</td>\n",
       "      <td>200</td>\n",
       "      <td>3</td>\n",
       "      <td>3</td>\n",
       "      <td>1,150.00</td>\n",
       "    </tr>\n",
       "    <tr>\n",
       "      <th>987</th>\n",
       "      <td>1001</td>\n",
       "      <td>Москва</td>\n",
       "      <td>smart</td>\n",
       "      <td>12.00</td>\n",
       "      <td>14</td>\n",
       "      <td>414</td>\n",
       "      <td>63</td>\n",
       "      <td>0</td>\n",
       "      <td>50</td>\n",
       "      <td>15.00</td>\n",
       "      <td>500</td>\n",
       "      <td>550</td>\n",
       "      <td>200</td>\n",
       "      <td>3</td>\n",
       "      <td>3</td>\n",
       "      <td>550.00</td>\n",
       "    </tr>\n",
       "    <tr>\n",
       "      <th>988</th>\n",
       "      <td>1002</td>\n",
       "      <td>Стерлитамак</td>\n",
       "      <td>smart</td>\n",
       "      <td>6.00</td>\n",
       "      <td>11</td>\n",
       "      <td>117</td>\n",
       "      <td>15</td>\n",
       "      <td>4</td>\n",
       "      <td>50</td>\n",
       "      <td>15.00</td>\n",
       "      <td>500</td>\n",
       "      <td>550</td>\n",
       "      <td>200</td>\n",
       "      <td>3</td>\n",
       "      <td>3</td>\n",
       "      <td>550.00</td>\n",
       "    </tr>\n",
       "    <tr>\n",
       "      <th>989</th>\n",
       "      <td>1002</td>\n",
       "      <td>Стерлитамак</td>\n",
       "      <td>smart</td>\n",
       "      <td>7.00</td>\n",
       "      <td>18</td>\n",
       "      <td>214</td>\n",
       "      <td>26</td>\n",
       "      <td>11</td>\n",
       "      <td>50</td>\n",
       "      <td>15.00</td>\n",
       "      <td>500</td>\n",
       "      <td>550</td>\n",
       "      <td>200</td>\n",
       "      <td>3</td>\n",
       "      <td>3</td>\n",
       "      <td>1,150.00</td>\n",
       "    </tr>\n",
       "    <tr>\n",
       "      <th>990</th>\n",
       "      <td>1002</td>\n",
       "      <td>Стерлитамак</td>\n",
       "      <td>smart</td>\n",
       "      <td>8.00</td>\n",
       "      <td>20</td>\n",
       "      <td>289</td>\n",
       "      <td>42</td>\n",
       "      <td>13</td>\n",
       "      <td>50</td>\n",
       "      <td>15.00</td>\n",
       "      <td>500</td>\n",
       "      <td>550</td>\n",
       "      <td>200</td>\n",
       "      <td>3</td>\n",
       "      <td>3</td>\n",
       "      <td>1,550.00</td>\n",
       "    </tr>\n",
       "  </tbody>\n",
       "</table>\n",
       "</div>"
      ],
      "text/plain": [
       "     user_id         city tariff  month  mb_used  calls_duration  calls_count  \\\n",
       "986     1001       Москва  smart  11.00       18             430           59   \n",
       "987     1001       Москва  smart  12.00       14             414           63   \n",
       "988     1002  Стерлитамак  smart   6.00       11             117           15   \n",
       "989     1002  Стерлитамак  smart   7.00       18             214           26   \n",
       "990     1002  Стерлитамак  smart   8.00       20             289           42   \n",
       "\n",
       "     count_messages  messages_included  mb_per_month_included  \\\n",
       "986               0                 50                  15.00   \n",
       "987               0                 50                  15.00   \n",
       "988               4                 50                  15.00   \n",
       "989              11                 50                  15.00   \n",
       "990              13                 50                  15.00   \n",
       "\n",
       "     minutes_included  rub_monthly_fee  rub_per_gb  rub_per_message  \\\n",
       "986               500              550         200                3   \n",
       "987               500              550         200                3   \n",
       "988               500              550         200                3   \n",
       "989               500              550         200                3   \n",
       "990               500              550         200                3   \n",
       "\n",
       "     rub_per_minute  month_transaction  \n",
       "986               3           1,150.00  \n",
       "987               3             550.00  \n",
       "988               3             550.00  \n",
       "989               3           1,150.00  \n",
       "990               3           1,550.00  "
      ]
     },
     "execution_count": 56,
     "metadata": {},
     "output_type": "execute_result"
    }
   ],
   "source": [
    "# группируем пользователей тарифа смарт\n",
    "megalain_smart = megalain.loc[megalain['tariff']=='smart']\n",
    "megalain_smart.head()"
   ]
  },
  {
   "cell_type": "code",
   "execution_count": 57,
   "id": "379bf605",
   "metadata": {},
   "outputs": [
    {
     "data": {
      "text/html": [
       "<div>\n",
       "<style scoped>\n",
       "    .dataframe tbody tr th:only-of-type {\n",
       "        vertical-align: middle;\n",
       "    }\n",
       "\n",
       "    .dataframe tbody tr th {\n",
       "        vertical-align: top;\n",
       "    }\n",
       "\n",
       "    .dataframe thead th {\n",
       "        text-align: right;\n",
       "    }\n",
       "</style>\n",
       "<table border=\"1\" class=\"dataframe\">\n",
       "  <thead>\n",
       "    <tr style=\"text-align: right;\">\n",
       "      <th></th>\n",
       "      <th>user_id</th>\n",
       "      <th>city</th>\n",
       "      <th>tariff</th>\n",
       "      <th>month</th>\n",
       "      <th>mb_used</th>\n",
       "      <th>calls_duration</th>\n",
       "      <th>calls_count</th>\n",
       "      <th>count_messages</th>\n",
       "      <th>messages_included</th>\n",
       "      <th>mb_per_month_included</th>\n",
       "      <th>minutes_included</th>\n",
       "      <th>rub_monthly_fee</th>\n",
       "      <th>rub_per_gb</th>\n",
       "      <th>rub_per_message</th>\n",
       "      <th>rub_per_minute</th>\n",
       "      <th>month_transaction</th>\n",
       "    </tr>\n",
       "  </thead>\n",
       "  <tbody>\n",
       "    <tr>\n",
       "      <th>0</th>\n",
       "      <td>1000</td>\n",
       "      <td>Краснодар</td>\n",
       "      <td>ultra</td>\n",
       "      <td>5.00</td>\n",
       "      <td>3</td>\n",
       "      <td>159</td>\n",
       "      <td>22</td>\n",
       "      <td>22</td>\n",
       "      <td>1000</td>\n",
       "      <td>30.00</td>\n",
       "      <td>3000</td>\n",
       "      <td>1950</td>\n",
       "      <td>150</td>\n",
       "      <td>1</td>\n",
       "      <td>1</td>\n",
       "      <td>1,950.00</td>\n",
       "    </tr>\n",
       "    <tr>\n",
       "      <th>1</th>\n",
       "      <td>1000</td>\n",
       "      <td>Краснодар</td>\n",
       "      <td>ultra</td>\n",
       "      <td>6.00</td>\n",
       "      <td>23</td>\n",
       "      <td>172</td>\n",
       "      <td>43</td>\n",
       "      <td>60</td>\n",
       "      <td>1000</td>\n",
       "      <td>30.00</td>\n",
       "      <td>3000</td>\n",
       "      <td>1950</td>\n",
       "      <td>150</td>\n",
       "      <td>1</td>\n",
       "      <td>1</td>\n",
       "      <td>1,950.00</td>\n",
       "    </tr>\n",
       "    <tr>\n",
       "      <th>2</th>\n",
       "      <td>1000</td>\n",
       "      <td>Краснодар</td>\n",
       "      <td>ultra</td>\n",
       "      <td>7.00</td>\n",
       "      <td>14</td>\n",
       "      <td>340</td>\n",
       "      <td>47</td>\n",
       "      <td>75</td>\n",
       "      <td>1000</td>\n",
       "      <td>30.00</td>\n",
       "      <td>3000</td>\n",
       "      <td>1950</td>\n",
       "      <td>150</td>\n",
       "      <td>1</td>\n",
       "      <td>1</td>\n",
       "      <td>1,950.00</td>\n",
       "    </tr>\n",
       "    <tr>\n",
       "      <th>3</th>\n",
       "      <td>1000</td>\n",
       "      <td>Краснодар</td>\n",
       "      <td>ultra</td>\n",
       "      <td>8.00</td>\n",
       "      <td>14</td>\n",
       "      <td>408</td>\n",
       "      <td>52</td>\n",
       "      <td>81</td>\n",
       "      <td>1000</td>\n",
       "      <td>30.00</td>\n",
       "      <td>3000</td>\n",
       "      <td>1950</td>\n",
       "      <td>150</td>\n",
       "      <td>1</td>\n",
       "      <td>1</td>\n",
       "      <td>1,950.00</td>\n",
       "    </tr>\n",
       "    <tr>\n",
       "      <th>4</th>\n",
       "      <td>1000</td>\n",
       "      <td>Краснодар</td>\n",
       "      <td>ultra</td>\n",
       "      <td>9.00</td>\n",
       "      <td>15</td>\n",
       "      <td>466</td>\n",
       "      <td>58</td>\n",
       "      <td>57</td>\n",
       "      <td>1000</td>\n",
       "      <td>30.00</td>\n",
       "      <td>3000</td>\n",
       "      <td>1950</td>\n",
       "      <td>150</td>\n",
       "      <td>1</td>\n",
       "      <td>1</td>\n",
       "      <td>1,950.00</td>\n",
       "    </tr>\n",
       "  </tbody>\n",
       "</table>\n",
       "</div>"
      ],
      "text/plain": [
       "   user_id       city tariff  month  mb_used  calls_duration  calls_count  \\\n",
       "0     1000  Краснодар  ultra   5.00        3             159           22   \n",
       "1     1000  Краснодар  ultra   6.00       23             172           43   \n",
       "2     1000  Краснодар  ultra   7.00       14             340           47   \n",
       "3     1000  Краснодар  ultra   8.00       14             408           52   \n",
       "4     1000  Краснодар  ultra   9.00       15             466           58   \n",
       "\n",
       "   count_messages  messages_included  mb_per_month_included  minutes_included  \\\n",
       "0              22               1000                  30.00              3000   \n",
       "1              60               1000                  30.00              3000   \n",
       "2              75               1000                  30.00              3000   \n",
       "3              81               1000                  30.00              3000   \n",
       "4              57               1000                  30.00              3000   \n",
       "\n",
       "   rub_monthly_fee  rub_per_gb  rub_per_message  rub_per_minute  \\\n",
       "0             1950         150                1               1   \n",
       "1             1950         150                1               1   \n",
       "2             1950         150                1               1   \n",
       "3             1950         150                1               1   \n",
       "4             1950         150                1               1   \n",
       "\n",
       "   month_transaction  \n",
       "0           1,950.00  \n",
       "1           1,950.00  \n",
       "2           1,950.00  \n",
       "3           1,950.00  \n",
       "4           1,950.00  "
      ]
     },
     "execution_count": 57,
     "metadata": {},
     "output_type": "execute_result"
    }
   ],
   "source": [
    "# группируем пользователей тарифа ультра\n",
    "megalain_ultra = megalain.loc[megalain['tariff']=='ultra']\n",
    "megalain_ultra.head()"
   ]
  },
  {
   "cell_type": "markdown",
   "id": "1b856808",
   "metadata": {},
   "source": [
    "Опишем поведение клиентов оператора, исходя из выборки. Посчитаем сколько минут разговора, сколько сообщений и какой объём интернет-трафика требуется пользователям каждого тарифа в месяц."
   ]
  },
  {
   "cell_type": "code",
   "execution_count": 58,
   "id": "1d333489",
   "metadata": {},
   "outputs": [
    {
     "data": {
      "text/html": [
       "<div>\n",
       "<style scoped>\n",
       "    .dataframe tbody tr th:only-of-type {\n",
       "        vertical-align: middle;\n",
       "    }\n",
       "\n",
       "    .dataframe tbody tr th {\n",
       "        vertical-align: top;\n",
       "    }\n",
       "\n",
       "    .dataframe thead tr th {\n",
       "        text-align: left;\n",
       "    }\n",
       "\n",
       "    .dataframe thead tr:last-of-type th {\n",
       "        text-align: right;\n",
       "    }\n",
       "</style>\n",
       "<table border=\"1\" class=\"dataframe\">\n",
       "  <thead>\n",
       "    <tr>\n",
       "      <th></th>\n",
       "      <th colspan=\"3\" halign=\"left\">mean</th>\n",
       "      <th colspan=\"3\" halign=\"left\">var</th>\n",
       "      <th colspan=\"3\" halign=\"left\">std</th>\n",
       "    </tr>\n",
       "    <tr>\n",
       "      <th></th>\n",
       "      <th>calls_duration</th>\n",
       "      <th>count_messages</th>\n",
       "      <th>mb_used</th>\n",
       "      <th>calls_duration</th>\n",
       "      <th>count_messages</th>\n",
       "      <th>mb_used</th>\n",
       "      <th>calls_duration</th>\n",
       "      <th>count_messages</th>\n",
       "      <th>mb_used</th>\n",
       "    </tr>\n",
       "    <tr>\n",
       "      <th>tariff</th>\n",
       "      <th></th>\n",
       "      <th></th>\n",
       "      <th></th>\n",
       "      <th></th>\n",
       "      <th></th>\n",
       "      <th></th>\n",
       "      <th></th>\n",
       "      <th></th>\n",
       "      <th></th>\n",
       "    </tr>\n",
       "  </thead>\n",
       "  <tbody>\n",
       "    <tr>\n",
       "      <th>smart</th>\n",
       "      <td>417.75</td>\n",
       "      <td>33.37</td>\n",
       "      <td>16.32</td>\n",
       "      <td>36,281.39</td>\n",
       "      <td>796.96</td>\n",
       "      <td>33.13</td>\n",
       "      <td>190.48</td>\n",
       "      <td>28.23</td>\n",
       "      <td>5.76</td>\n",
       "    </tr>\n",
       "    <tr>\n",
       "      <th>ultra</th>\n",
       "      <td>526.09</td>\n",
       "      <td>49.31</td>\n",
       "      <td>19.47</td>\n",
       "      <td>101,052.49</td>\n",
       "      <td>2,285.42</td>\n",
       "      <td>97.38</td>\n",
       "      <td>317.89</td>\n",
       "      <td>47.81</td>\n",
       "      <td>9.87</td>\n",
       "    </tr>\n",
       "  </tbody>\n",
       "</table>\n",
       "</div>"
      ],
      "text/plain": [
       "                 mean                                   var                 \\\n",
       "       calls_duration count_messages mb_used calls_duration count_messages   \n",
       "tariff                                                                       \n",
       "smart          417.75          33.37   16.32      36,281.39         796.96   \n",
       "ultra          526.09          49.31   19.47     101,052.49       2,285.42   \n",
       "\n",
       "                          std                         \n",
       "       mb_used calls_duration count_messages mb_used  \n",
       "tariff                                                \n",
       "smart    33.13         190.48          28.23    5.76  \n",
       "ultra    97.38         317.89          47.81    9.87  "
      ]
     },
     "execution_count": 58,
     "metadata": {},
     "output_type": "execute_result"
    }
   ],
   "source": [
    "pd.options.display.float_format = '{:,.2f}'.format\n",
    "pd.pivot_table(megalain, values=['calls_duration', 'count_messages', 'mb_used'], index='tariff', aggfunc=['mean', 'var', 'std'])"
   ]
  },
  {
   "cell_type": "markdown",
   "id": "3ff112a3",
   "metadata": {},
   "source": [
    "Тариф смарт:\n",
    "- пользователи используют 418 минут из 500, стандартное отклонение 191\n",
    "- пользователи отправляют 34 сообщения из 50, стандартное отклонение 28.23\n",
    "- пользователи перерасходывают интернет трафик 16,32Гб, стандартное отклонение 5,76.\n",
    "\n",
    "Тариф Ультра:\n",
    "- пользователи используют 526 минут из 3000, стандартное отклонение 318\n",
    "- пользователи отправляют 50 сообщения из 1000, стандартное отклонение 48\n",
    "- пользователи не перерасходывают интернет трафик 19,47Гб из 30Гб, стандартное отклонение 9,87.\n",
    "\n",
    "Видно, что пользователям тарифа Смарт не хватает объема включенного интернет трафика и его приходится докупать. Пользователи тарифа Ультра укладываются в предоставленные пакет услуг."
   ]
  },
  {
   "cell_type": "markdown",
   "id": "d48bca8c",
   "metadata": {},
   "source": [
    "Построим гистограммы распределений."
   ]
  },
  {
   "cell_type": "code",
   "execution_count": 63,
   "id": "ca9b0830",
   "metadata": {},
   "outputs": [
    {
     "data": {
      "text/plain": [
       "Text(0.5, 1.0, 'Распределение количества звонков в месяц')"
      ]
     },
     "execution_count": 63,
     "metadata": {},
     "output_type": "execute_result"
    },
    {
     "data": {
      "text/plain": [
       "<Figure size 1080x864 with 0 Axes>"
      ]
     },
     "metadata": {},
     "output_type": "display_data"
    },
    {
     "data": {
      "image/png": "[encoded data removed]",
      "text/plain": [
       "<Figure size 432x288 with 1 Axes>"
      ]
     },
     "metadata": {
      "needs_background": "light"
     },
     "output_type": "display_data"
    }
   ],
   "source": [
    "plt.figure(figsize=(15,12))\n",
    "ax = megalain_smart.plot(\n",
    "    kind='hist',\n",
    "    y='calls_duration',\n",
    "    range=(0, 1700),\n",
    "    bins=70,\n",
    "    linewidth=5,\n",
    "    alpha=0.7,\n",
    "    label='смарт',\n",
    ")\n",
    "megalain_ultra.plot(\n",
    "    kind='hist',\n",
    "    y='calls_duration',\n",
    "    range=(0, 1700),\n",
    "    bins=70,\n",
    "    linewidth=5,\n",
    "    alpha=0.7,\n",
    "    label='ультра',\n",
    "    ax=ax,\n",
    "    grid=True,\n",
    "    legend=True,\n",
    ")\n",
    "\n",
    "plt.xlabel('минуты в месяц')\n",
    "plt.ylabel('частота')\n",
    "plt.title('Распределение количества звонков в месяц')"
   ]
  },
  {
   "cell_type": "markdown",
   "id": "22af9b3a",
   "metadata": {},
   "source": [
    "Из гистограммы видно, что больше людей подключено к тарифу смарт.Распределение у тарифа смарт нормальное, тариф ультра тоже можно назвать с нормальным распределением, но смещенным вправо. Так же выделяются значения с 0 - это пропущеные звонки, они немного искажают представление о характере распределения."
   ]
  },
  {
   "cell_type": "code",
   "execution_count": 65,
   "id": "78eb005c",
   "metadata": {},
   "outputs": [
    {
     "data": {
      "text/plain": [
       "Text(0.5, 1.0, 'Распределение количества сообщений в месяц')"
      ]
     },
     "execution_count": 65,
     "metadata": {},
     "output_type": "execute_result"
    },
    {
     "data": {
      "text/plain": [
       "<Figure size 1080x864 with 0 Axes>"
      ]
     },
     "metadata": {},
     "output_type": "display_data"
    },
    {
     "data": {
      "image/png": "[encoded data removed]",
      "text/plain": [
       "<Figure size 432x288 with 1 Axes>"
      ]
     },
     "metadata": {
      "needs_background": "light"
     },
     "output_type": "display_data"
    }
   ],
   "source": [
    "plt.figure(figsize=(15,12))\n",
    "ax = megalain_smart.plot(\n",
    "    kind='hist',\n",
    "    y='count_messages',\n",
    "    range=(0, 250),\n",
    "    bins=50,\n",
    "    linewidth=5,\n",
    "    alpha=0.7,\n",
    "    label='смарт',\n",
    ")\n",
    "megalain_ultra.plot(\n",
    "    kind='hist',\n",
    "    y='count_messages',\n",
    "    range=(0, 250),\n",
    "    bins=50,\n",
    "    linewidth=5,\n",
    "    alpha=0.7,\n",
    "    label='ультра',\n",
    "    ax=ax,\n",
    "    grid=True,\n",
    "    legend=True,\n",
    ")\n",
    "\n",
    "plt.xlabel('сообщений в месяц')\n",
    "plt.ylabel('частота')\n",
    "plt.title('Распределение количества сообщений в месяц')"
   ]
  },
  {
   "cell_type": "markdown",
   "id": "aa13a570",
   "metadata": {},
   "source": [
    "Выделяется столбец с 0, значит пользователе не особо пользуются услугой сообщений. По характеру распределения - это распределение Пуассона."
   ]
  },
  {
   "cell_type": "code",
   "execution_count": 66,
   "id": "44968393",
   "metadata": {},
   "outputs": [
    {
     "data": {
      "text/plain": [
       "Text(0.5, 1.0, 'Распределение количества Гигабайт в месяц')"
      ]
     },
     "execution_count": 66,
     "metadata": {},
     "output_type": "execute_result"
    },
    {
     "data": {
      "text/plain": [
       "<Figure size 1080x864 with 0 Axes>"
      ]
     },
     "metadata": {},
     "output_type": "display_data"
    },
    {
     "data": {
      "image/png": "[encoded data removed]",
      "text/plain": [
       "<Figure size 432x288 with 1 Axes>"
      ]
     },
     "metadata": {
      "needs_background": "light"
     },
     "output_type": "display_data"
    }
   ],
   "source": [
    "plt.figure(figsize=(15,12))\n",
    "ax = megalain_smart.plot(\n",
    "    kind='hist',\n",
    "    y='mb_used',\n",
    "    range=(0, 50),\n",
    "    bins=50,\n",
    "    linewidth=5,\n",
    "    alpha=0.7,\n",
    "    label='смарт',\n",
    ")\n",
    "megalain_ultra.plot(\n",
    "    kind='hist',\n",
    "    y='mb_used',\n",
    "    range=(0, 50),\n",
    "    bins=50,\n",
    "    linewidth=5,\n",
    "    alpha=0.7,\n",
    "    label='ультра',\n",
    "    ax=ax,\n",
    "    grid=True,\n",
    "    legend=True,\n",
    ")\n",
    "\n",
    "plt.xlabel('Гигобайт в месяц')\n",
    "plt.ylabel('частота')\n",
    "plt.title('Распределение количества Гигабайт в месяц')"
   ]
  },
  {
   "cell_type": "markdown",
   "id": "79b85253",
   "metadata": {},
   "source": [
    "Распределение у тарифа смарт нормальное, у тарифа ультра гистограмма смещена вправо.\n",
    "\n",
    "Из полученных гистограмм видно, что пользователей тарифа смарт больше. Гистограммы тарифа ультра смещены вправо, это так же подтверждают данные средних величин, подсчитаных выше. Разброс данных у тарифа ультра больше, так как больше и стандартные отклонения. Так же пользователи тарифа ультра не выходят за рамки установленных лимитов.\n",
    "\n",
    "Посчитаем, сколько средний клиент каждого тарифа приносит компании прибыли."
   ]
  },
  {
   "cell_type": "code",
   "execution_count": 67,
   "id": "5d200067",
   "metadata": {},
   "outputs": [
    {
     "data": {
      "text/html": [
       "<div>\n",
       "<style scoped>\n",
       "    .dataframe tbody tr th:only-of-type {\n",
       "        vertical-align: middle;\n",
       "    }\n",
       "\n",
       "    .dataframe tbody tr th {\n",
       "        vertical-align: top;\n",
       "    }\n",
       "\n",
       "    .dataframe thead tr th {\n",
       "        text-align: left;\n",
       "    }\n",
       "\n",
       "    .dataframe thead tr:last-of-type th {\n",
       "        text-align: right;\n",
       "    }\n",
       "</style>\n",
       "<table border=\"1\" class=\"dataframe\">\n",
       "  <thead>\n",
       "    <tr>\n",
       "      <th></th>\n",
       "      <th>mean</th>\n",
       "      <th>var</th>\n",
       "      <th>std</th>\n",
       "    </tr>\n",
       "    <tr>\n",
       "      <th></th>\n",
       "      <th>month_transaction</th>\n",
       "      <th>month_transaction</th>\n",
       "      <th>month_transaction</th>\n",
       "    </tr>\n",
       "    <tr>\n",
       "      <th>tariff</th>\n",
       "      <th></th>\n",
       "      <th></th>\n",
       "      <th></th>\n",
       "    </tr>\n",
       "  </thead>\n",
       "  <tbody>\n",
       "    <tr>\n",
       "      <th>smart</th>\n",
       "      <td>1,289.64</td>\n",
       "      <td>669,730.76</td>\n",
       "      <td>818.37</td>\n",
       "    </tr>\n",
       "    <tr>\n",
       "      <th>ultra</th>\n",
       "      <td>2,070.03</td>\n",
       "      <td>141,387.71</td>\n",
       "      <td>376.02</td>\n",
       "    </tr>\n",
       "  </tbody>\n",
       "</table>\n",
       "</div>"
      ],
      "text/plain": [
       "                    mean               var               std\n",
       "       month_transaction month_transaction month_transaction\n",
       "tariff                                                      \n",
       "smart           1,289.64        669,730.76            818.37\n",
       "ultra           2,070.03        141,387.71            376.02"
      ]
     },
     "execution_count": 67,
     "metadata": {},
     "output_type": "execute_result"
    }
   ],
   "source": [
    "pd.pivot_table(megalain, values=['month_transaction'], index='tariff', aggfunc=['mean', 'var', 'std'])"
   ]
  },
  {
   "cell_type": "code",
   "execution_count": 69,
   "id": "45b7829f",
   "metadata": {},
   "outputs": [
    {
     "data": {
      "text/plain": [
       "Text(0.5, 1.0, 'Распределение выручки в месяц')"
      ]
     },
     "execution_count": 69,
     "metadata": {},
     "output_type": "execute_result"
    },
    {
     "data": {
      "text/plain": [
       "<Figure size 1080x864 with 0 Axes>"
      ]
     },
     "metadata": {},
     "output_type": "display_data"
    },
    {
     "data": {
      "image/png": "[encoded data removed]",
      "text/plain": [
       "<Figure size 432x288 with 1 Axes>"
      ]
     },
     "metadata": {
      "needs_background": "light"
     },
     "output_type": "display_data"
    }
   ],
   "source": [
    "plt.figure(figsize=(15, 12))\n",
    "ax = megalain_smart.plot(\n",
    "    kind='hist',\n",
    "    y='month_transaction',\n",
    "    range=(500, 7000),\n",
    "    bins=50,\n",
    "    linewidth=5,\n",
    "    alpha=0.7,\n",
    "    label='смарт',\n",
    ")\n",
    "megalain_ultra.plot(\n",
    "    kind='hist',\n",
    "    y='month_transaction',\n",
    "    range=(500, 7000),\n",
    "    bins=50,\n",
    "    linewidth=5,\n",
    "    alpha=0.7,\n",
    "    label='ультра',\n",
    "    ax=ax,\n",
    "    grid=True,\n",
    "    legend=True,\n",
    ")\n",
    "\n",
    "plt.xlabel('Выручка с одного клиента в месяц')\n",
    "plt.ylabel('частота')\n",
    "plt.title('Распределение выручки в месяц')"
   ]
  },
  {
   "cell_type": "markdown",
   "id": "883834c3",
   "metadata": {},
   "source": [
    "Заметны два пика - это значения базового тарифа, т.е. большинство людей укладываются в лимиты тарифа. По тарифу смарт перерасходов больше, чем на тарифе ультра. Так же средняя выручка по тарифу ультра больше чем на тарифе смарт."
   ]
  },
  {
   "cell_type": "markdown",
   "id": "10447954",
   "metadata": {},
   "source": [
    "**Вывод**\n",
    "* данные были сгруппированы по пользователям в зависимости от их тарифа\n",
    "* было подсчитано, что в среднем пользователям тарифа смарт в месяц нужно 418 минуты разговора, 34 сообщение и 17 Гб интернета\n",
    "* было подсчитано, что в среднем пользователям тарифа ультра в месяц нужно 526 минут разговора, 50 сообщение и 20 Гб интернета\n",
    "* для исследуемых параметров были расчитаны дисперсия и стандартное отклонения, а так же построены гистограммы распределения\n",
    "* был обнаружено, что данные распределены нормально\n",
    "* была подсчитана месячная выручка, для тарифа смарт она равна 1289,64 рубля, а для тарифа ультра 2070,03 рубля\n",
    "* на основе проведенного исследования можно заключить, что тариф ультра более перспективен для оператора."
   ]
  },
  {
   "cell_type": "markdown",
   "id": "05bf0c10",
   "metadata": {},
   "source": [
    "## Проверка гипотез"
   ]
  },
  {
   "cell_type": "markdown",
   "id": "09efcf3b",
   "metadata": {},
   "source": [
    "Проверим 2 гипотезы:\n",
    "* средняя выручка пользователей тарифов «Ультра» и «Смарт» различаются;\n",
    "* средняя выручка пользователей из Москвы отличается от выручки пользователей из других регионов."
   ]
  },
  {
   "cell_type": "markdown",
   "id": "c2e53752",
   "metadata": {},
   "source": [
    "### Сравнение средней выручки пользователей"
   ]
  },
  {
   "cell_type": "markdown",
   "id": "dedea3a1",
   "metadata": {},
   "source": [
    "Нулевая гипотеза всегда формулируется так, чтобы использовать знак равенства. Другими словами, чтобы все данные лежали в районе изначально предполагаемого значения. Альтернативная гипотеза - это утверждение, которое принимается верным, если отбрасывается нулевая гипотеза. Если в альтерантивной гипотезе используестя значение не равно, то такая гипотеза является двухсторонней,потому что есть возможное отклонение и в большую, и в меньшую стороны. \n",
    "\n",
    "* Сформулируем нулевую гипотезу: 'средняя выручка пользователей тарифов «Ультра» и «Смарт» равны'. \n",
    "\n",
    "* Сформулируем альтернативную гипотезу: 'средняя выручка пользователей тарифов «Ультра» и «Смарт» не равны'.\n",
    "\n",
    "\n",
    "Поскольку нужно оценить две выборки одной совокупности, применим метод о равенстве средних двух генеральных совокупностей. Применим метод scipy.stats.ttest_ind (array1, array2,equal_var), где:\n",
    "* array1, array2 — массивы, содержащие выборки;\n",
    "* equal_var — параметр, задающий, считать ли равными дисперсии выборок (в нашем случае, поскольку выборки не равны, укажем этот параметр equal_var = False).\n",
    "\n",
    "Применим t-test, для проверки нулевой гипотезы."
   ]
  },
  {
   "cell_type": "code",
   "execution_count": 70,
   "id": "f02748ac",
   "metadata": {},
   "outputs": [
    {
     "name": "stdout",
     "output_type": "stream",
     "text": [
      "p-значение:  1.927011394420941e-250\n"
     ]
    },
    {
     "data": {
      "text/plain": [
       "'Отвергаем нулевую гипотезу'"
      ]
     },
     "metadata": {},
     "output_type": "display_data"
    }
   ],
   "source": [
    "alpha =.05   # критический уровень статистической значимости\n",
    "#если p-value окажется меньше него - отвергнем гипотезу\n",
    "\n",
    "tstat, pvalue = st.ttest_ind(megalain[megalain.tariff == 'smart'].month_transaction,\n",
    "                        megalain[megalain.tariff == 'ultra'].month_transaction,\n",
    "                         equal_var = False)\n",
    "\n",
    "print('p-значение: ', pvalue)\n",
    "\n",
    "if pvalue < alpha:\n",
    "    display(\"Отвергаем нулевую гипотезу\")\n",
    "else:\n",
    "    display(\"Не получилось отвергнуть нулевую гипотезу\") "
   ]
  },
  {
   "cell_type": "markdown",
   "id": "c67ab1bb",
   "metadata": {},
   "source": [
    "Делаем вывод, что средняя выручка пользователей тарифов отличаются."
   ]
  },
  {
   "cell_type": "markdown",
   "id": "c758382f",
   "metadata": {},
   "source": [
    "### Сравнение средней выручки пользователей в зависимости от проживания"
   ]
  },
  {
   "cell_type": "markdown",
   "id": "510d7865",
   "metadata": {},
   "source": [
    "* Сформулируем нулевую гипотезу: 'средняя выручка пользователей из Москвы и других регионов равна'. \n",
    "* Сформулируем альтернативную гипотезу: 'средняя выручка пользователей из Москвы и других регионов не равны'.\n",
    "\n",
    "Применим t-test, для проверки нулевой гипотезы."
   ]
  },
  {
   "cell_type": "code",
   "execution_count": 71,
   "id": "d76f7076",
   "metadata": {},
   "outputs": [
    {
     "name": "stdout",
     "output_type": "stream",
     "text": [
      "p-значение:  0.5216952110000278\n"
     ]
    },
    {
     "data": {
      "text/plain": [
       "'Не получилось отвергнуть нулевую гипотезу'"
      ]
     },
     "metadata": {},
     "output_type": "display_data"
    }
   ],
   "source": [
    "alpha =.05   # критический уровень статистической значимости\n",
    "# если p-value окажется меньше него - отвегнем гипотезу\n",
    "\n",
    "tstat, pvalue = st.ttest_ind(megalain[megalain.city == 'Москва'].month_transaction,\n",
    "                        megalain[megalain.city != 'Москва'].month_transaction,\n",
    "                         equal_var = False)\n",
    "\n",
    "print('p-значение: ', pvalue)\n",
    "\n",
    "if pvalue < alpha:\n",
    "    display(\"Отвергаем нулевую гипотезу\")\n",
    "else:\n",
    "    display(\"Не получилось отвергнуть нулевую гипотезу\") "
   ]
  },
  {
   "cell_type": "markdown",
   "id": "dcd3117b",
   "metadata": {},
   "source": [
    "На основе проведенного теста, можно сделать вывод, что средняя выручка оператора Мегалайн не зависит от региона присутсвия."
   ]
  },
  {
   "cell_type": "markdown",
   "id": "c6389708",
   "metadata": {},
   "source": [
    "**Вывод**\n",
    "* проверили 2 гипотезы и на основе проведенного теста можно сделать заключение, что :\n",
    "  * средние выручки пользователей тарифов не равны\n",
    "  * выручка оператора \"Мегалайн\" не зависит от региона присутсвия."
   ]
  },
  {
   "cell_type": "markdown",
   "id": "93f5f8e0",
   "metadata": {},
   "source": [
    "## Общий вывод"
   ]
  },
  {
   "cell_type": "markdown",
   "id": "8323a280",
   "metadata": {},
   "source": [
    "* Были открыты и изучены 5 таблиц с данными оператора \"Мегалайн\".\n",
    "* В таблице internet был удален столбец Unnamed: 0.\n",
    "* В таблице tariffs был переименован столбец 'tariff_name' на 'tariff'.\n",
    "* Были посчитаны и добавлены в итоговую таблицу:\n",
    " * количество сделанных звонков и израсходованных минут разговора по месяцам;\n",
    " * количество отправленных сообщений по месяцам;\n",
    " * объем израсходованного интернет-трафика по месяцам;\n",
    " * помесячная выручка с каждого пользователя.\n",
    "* Были изменены типы данных.\n",
    "* Данные были сгруппированы по пользователям в зависимости от их тарифа.\n",
    "* Было обнаружено, что клиенты не всегда пользуются включенными в базовый пакет услугами:\n",
    "    * в сумме клиенты 13 месяцев не пользовалиьс интернет трафиком;\n",
    "    * в сумме клиенты 42 месяца не пользовались звонками;\n",
    "    * в сумме клиенты 499 месяцев не пользовались сообщениями.\n",
    "* Было подсчитано, что в среднем пользователям тарифа смарт в месяц нужно 418 минуты разговора, 34 сообщение и 17 Гб интернета.\n",
    "* Было подсчитано, что в среднем пользователям тарифа ультра в месяц нужно 526 минут разговора, 50 сообщение и 20 Гб интернета.\n",
    "* Была подсчитана месячная выручка, для тарифа смарт она равна 1290 рубля, а для тарифа ультра 2070 рубля.\n",
    "*  На основе проведенного исследования был сделан вывод что тариф ультра более перспективен для оператора.\n",
    "* исследовав представленые данные, опровергли гипотезу о том, что средние выручки пользователей разных тарифов равны\n",
    "* рассмотрев гипотезу о равенстве средних выручек пользователей из Москвы и других регионов, сделал вывод, что данные не противоречат гипотезе."
   ]
  },
  {
   "cell_type": "code",
   "execution_count": null,
   "id": "6d615445",
   "metadata": {},
   "outputs": [],
   "source": []
  }
 ],
 "metadata": {
  "ExecuteTimeLog": [
   {
    "duration": 1443,
    "start_time": "2022-09-20T19:59:00.654Z"
   },
   {
    "duration": 78,
    "start_time": "2022-09-20T19:59:14.140Z"
   },
   {
    "duration": 139,
    "start_time": "2022-09-20T19:59:42.933Z"
   },
   {
    "duration": 70,
    "start_time": "2022-09-20T20:00:24.059Z"
   },
   {
    "duration": 12,
    "start_time": "2022-09-20T20:00:48.571Z"
   },
   {
    "duration": 135,
    "start_time": "2022-09-20T20:01:04.561Z"
   },
   {
    "duration": 703,
    "start_time": "2022-09-20T20:02:57.558Z"
   },
   {
    "duration": 200,
    "start_time": "2022-09-20T20:03:36.769Z"
   },
   {
    "duration": 25,
    "start_time": "2022-09-20T20:03:38.893Z"
   },
   {
    "duration": 13,
    "start_time": "2022-09-20T20:04:26.244Z"
   },
   {
    "duration": 505,
    "start_time": "2022-09-20T20:05:31.889Z"
   },
   {
    "duration": 18,
    "start_time": "2022-09-20T20:05:43.189Z"
   },
   {
    "duration": 120,
    "start_time": "2022-09-20T20:07:07.369Z"
   },
   {
    "duration": 18,
    "start_time": "2022-09-20T20:07:19.613Z"
   },
   {
    "duration": 17,
    "start_time": "2022-09-20T20:08:03.810Z"
   },
   {
    "duration": 402,
    "start_time": "2022-09-20T20:09:04.973Z"
   },
   {
    "duration": 36,
    "start_time": "2022-09-20T20:09:15.169Z"
   },
   {
    "duration": 19,
    "start_time": "2022-09-20T20:11:00.748Z"
   },
   {
    "duration": 418,
    "start_time": "2022-09-20T20:11:45.869Z"
   },
   {
    "duration": 402,
    "start_time": "2022-09-20T20:12:18.888Z"
   },
   {
    "duration": 66,
    "start_time": "2022-09-20T20:12:53.169Z"
   },
   {
    "duration": 10,
    "start_time": "2022-09-20T20:13:00.644Z"
   },
   {
    "duration": 7,
    "start_time": "2022-09-20T20:25:42.271Z"
   },
   {
    "duration": 36,
    "start_time": "2022-09-20T20:26:08.782Z"
   },
   {
    "duration": 24,
    "start_time": "2022-09-20T20:26:20.145Z"
   },
   {
    "duration": 6,
    "start_time": "2022-09-20T20:26:29.850Z"
   },
   {
    "duration": 34,
    "start_time": "2022-09-20T20:26:40.140Z"
   },
   {
    "duration": 16,
    "start_time": "2022-09-20T20:29:43.740Z"
   },
   {
    "duration": 25,
    "start_time": "2022-09-20T20:30:33.680Z"
   },
   {
    "duration": 23,
    "start_time": "2022-09-20T20:31:17.469Z"
   },
   {
    "duration": 53,
    "start_time": "2022-09-20T20:31:50.525Z"
   },
   {
    "duration": 127,
    "start_time": "2022-09-20T20:34:03.432Z"
   },
   {
    "duration": 10,
    "start_time": "2022-09-20T20:34:48.012Z"
   },
   {
    "duration": 10,
    "start_time": "2022-09-20T20:42:56.657Z"
   },
   {
    "duration": 26,
    "start_time": "2022-09-20T20:43:32.375Z"
   },
   {
    "duration": 8,
    "start_time": "2022-09-20T20:43:43.649Z"
   },
   {
    "duration": 16,
    "start_time": "2022-09-20T20:48:18.589Z"
   },
   {
    "duration": 38,
    "start_time": "2022-09-20T20:49:09.850Z"
   },
   {
    "duration": 8,
    "start_time": "2022-09-20T20:49:19.968Z"
   },
   {
    "duration": 46,
    "start_time": "2022-09-20T20:51:31.608Z"
   },
   {
    "duration": 30,
    "start_time": "2022-09-20T20:51:50.341Z"
   },
   {
    "duration": 29,
    "start_time": "2022-09-20T20:51:58.906Z"
   },
   {
    "duration": 14,
    "start_time": "2022-09-20T20:53:20.878Z"
   },
   {
    "duration": 15,
    "start_time": "2022-09-20T20:53:29.953Z"
   },
   {
    "duration": 46,
    "start_time": "2022-09-20T20:54:13.608Z"
   },
   {
    "duration": 37,
    "start_time": "2022-09-20T20:55:21.936Z"
   },
   {
    "duration": 8,
    "start_time": "2022-09-20T20:56:30.141Z"
   },
   {
    "duration": 7,
    "start_time": "2022-09-20T20:58:45.783Z"
   },
   {
    "duration": 7,
    "start_time": "2022-09-20T20:59:46.204Z"
   },
   {
    "duration": 5,
    "start_time": "2022-09-20T21:01:29.083Z"
   },
   {
    "duration": 12,
    "start_time": "2022-09-20T21:02:37.628Z"
   },
   {
    "duration": 130,
    "start_time": "2022-09-20T21:04:55.092Z"
   },
   {
    "duration": 9,
    "start_time": "2022-09-20T21:05:33.187Z"
   },
   {
    "duration": 32,
    "start_time": "2022-09-20T21:08:11.963Z"
   },
   {
    "duration": 122,
    "start_time": "2022-09-20T21:10:48.429Z"
   },
   {
    "duration": 12,
    "start_time": "2022-09-20T21:13:19.233Z"
   },
   {
    "duration": 13,
    "start_time": "2022-09-20T21:13:48.344Z"
   },
   {
    "duration": 29,
    "start_time": "2022-09-20T21:13:55.185Z"
   },
   {
    "duration": 334,
    "start_time": "2022-09-20T21:13:58.893Z"
   },
   {
    "duration": 333,
    "start_time": "2022-09-20T21:14:27.845Z"
   },
   {
    "duration": 325,
    "start_time": "2022-09-20T21:14:37.455Z"
   },
   {
    "duration": 396,
    "start_time": "2022-09-20T21:14:45.977Z"
   },
   {
    "duration": 347,
    "start_time": "2022-09-20T21:16:20.631Z"
   },
   {
    "duration": 297,
    "start_time": "2022-09-20T21:16:37.044Z"
   },
   {
    "duration": 292,
    "start_time": "2022-09-20T21:16:45.381Z"
   },
   {
    "duration": 299,
    "start_time": "2022-09-20T21:17:35.970Z"
   },
   {
    "duration": 29,
    "start_time": "2022-09-20T21:19:04.384Z"
   },
   {
    "duration": 375,
    "start_time": "2022-09-20T21:19:28.486Z"
   },
   {
    "duration": 294,
    "start_time": "2022-09-20T21:19:37.436Z"
   },
   {
    "duration": 9,
    "start_time": "2022-09-20T21:26:09.588Z"
   },
   {
    "duration": 8,
    "start_time": "2022-09-20T21:28:14.869Z"
   }
  ],
  "kernelspec": {
   "display_name": "Python 3 (ipykernel)",
   "language": "python",
   "name": "python3"
  },
  "language_info": {
   "codemirror_mode": {
    "name": "ipython",
    "version": 3
   },
   "file_extension": ".py",
   "mimetype": "text/x-python",
   "name": "python",
   "nbconvert_exporter": "python",
   "pygments_lexer": "ipython3",
   "version": "3.9.5"
  },
  "toc": {
   "base_numbering": 1,
   "nav_menu": {},
   "number_sections": true,
   "sideBar": true,
   "skip_h1_title": true,
   "title_cell": "Содержание",
   "title_sidebar": "Contents",
   "toc_cell": true,
   "toc_position": {},
   "toc_section_display": true,
   "toc_window_display": true
  }
 },
 "nbformat": 4,
 "nbformat_minor": 5
}
