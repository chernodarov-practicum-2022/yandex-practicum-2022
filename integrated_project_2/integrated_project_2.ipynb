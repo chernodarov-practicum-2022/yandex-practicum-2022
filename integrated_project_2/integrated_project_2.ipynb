{
 "cells": [
  {
   "cell_type": "markdown",
   "id": "fb71fc4d",
   "metadata": {
    "toc": true
   },
   "source": [
    "<h1>Содержание<span class=\"tocSkip\"></span></h1>\n",
    "<div class=\"toc\"><ul class=\"toc-item\"><li><span><a href=\"#Подготовка-данных\" data-toc-modified-id=\"Подготовка-данных-1\"><span class=\"toc-item-num\">1&nbsp;&nbsp;</span>Подготовка данных</a></span><ul class=\"toc-item\"><li><span><a href=\"#Изучение-данных\" data-toc-modified-id=\"Изучение-данных-1.1\"><span class=\"toc-item-num\">1.1&nbsp;&nbsp;</span>Изучение данных</a></span></li><li><span><a href=\"#Проверка-эффективности-обогащения\" data-toc-modified-id=\"Проверка-эффективности-обогащения-1.2\"><span class=\"toc-item-num\">1.2&nbsp;&nbsp;</span>Проверка эффективности обогащения</a></span></li><li><span><a href=\"#Анализ-недостуных-признаков-в-тестовой-выборке\" data-toc-modified-id=\"Анализ-недостуных-признаков-в-тестовой-выборке-1.3\"><span class=\"toc-item-num\">1.3&nbsp;&nbsp;</span>Анализ недостуных признаков в тестовой выборке</a></span></li><li><span><a href=\"#Предобработка-данных\" data-toc-modified-id=\"Предобработка-данных-1.4\"><span class=\"toc-item-num\">1.4&nbsp;&nbsp;</span>Предобработка данных</a></span><ul class=\"toc-item\"><li><span><a href=\"#Обработка-пропусков\" data-toc-modified-id=\"Обработка-пропусков-1.4.1\"><span class=\"toc-item-num\">1.4.1&nbsp;&nbsp;</span>Обработка пропусков</a></span></li><li><span><a href=\"#Взаимосвязь-данных\" data-toc-modified-id=\"Взаимосвязь-данных-1.4.2\"><span class=\"toc-item-num\">1.4.2&nbsp;&nbsp;</span>Взаимосвязь данных</a></span></li></ul></li></ul></li><li><span><a href=\"#Анализ-данных\" data-toc-modified-id=\"Анализ-данных-2\"><span class=\"toc-item-num\">2&nbsp;&nbsp;</span>Анализ данных</a></span><ul class=\"toc-item\"><li><span><a href=\"#Концентрация-металлов-(Au,-Ag,-Pb)\" data-toc-modified-id=\"Концентрация-металлов-(Au,-Ag,-Pb)-2.1\"><span class=\"toc-item-num\">2.1&nbsp;&nbsp;</span>Концентрация металлов (Au, Ag, Pb)</a></span></li><li><span><a href=\"#Распределения-размеров-гранул-сырья\" data-toc-modified-id=\"Распределения-размеров-гранул-сырья-2.2\"><span class=\"toc-item-num\">2.2&nbsp;&nbsp;</span>Распределения размеров гранул сырья</a></span></li><li><span><a href=\"#Суммарная-концентрация-веществ\" data-toc-modified-id=\"Суммарная-концентрация-веществ-2.3\"><span class=\"toc-item-num\">2.3&nbsp;&nbsp;</span>Суммарная концентрация веществ</a></span></li></ul></li><li><span><a href=\"#Построение-модели\" data-toc-modified-id=\"Построение-модели-3\"><span class=\"toc-item-num\">3&nbsp;&nbsp;</span>Построение модели</a></span><ul class=\"toc-item\"><li><span><a href=\"#Линейная-регрессия\" data-toc-modified-id=\"Линейная-регрессия-3.1\"><span class=\"toc-item-num\">3.1&nbsp;&nbsp;</span>Линейная регрессия</a></span></li><li><span><a href=\"#Случайный-лес\" data-toc-modified-id=\"Случайный-лес-3.2\"><span class=\"toc-item-num\">3.2&nbsp;&nbsp;</span>Случайный лес</a></span></li><li><span><a href=\"#Решающее-дерево\" data-toc-modified-id=\"Решающее-дерево-3.3\"><span class=\"toc-item-num\">3.3&nbsp;&nbsp;</span>Решающее дерево</a></span></li><li><span><a href=\"#Сводные-таблицы-результатов\" data-toc-modified-id=\"Сводные-таблицы-результатов-3.4\"><span class=\"toc-item-num\">3.4&nbsp;&nbsp;</span>Сводные таблицы результатов</a></span></li></ul></li><li><span><a href=\"#Проверка-модели\" data-toc-modified-id=\"Проверка-модели-4\"><span class=\"toc-item-num\">4&nbsp;&nbsp;</span>Проверка модели</a></span></li><li><span><a href=\"#Вывод\" data-toc-modified-id=\"Вывод-5\"><span class=\"toc-item-num\">5&nbsp;&nbsp;</span>Вывод</a></span></li></ul></div>"
   ]
  },
  {
   "cell_type": "markdown",
   "id": "09ebc3a5",
   "metadata": {},
   "source": [
    "# Восстановление золота из руды"
   ]
  },
  {
   "cell_type": "markdown",
   "id": "d1d21d22",
   "metadata": {},
   "source": [
    "Подготовьте прототип модели машинного обучения для «Цифры». Компания разрабатывает решения для эффективной работы промышленных предприятий.\n",
    "\n",
    "Модель должна предсказать коэффициент восстановления золота из золотосодержащей руды. Используйте данные с параметрами добычи и очистки. \n",
    "\n",
    "Модель поможет оптимизировать производство, чтобы не запускать предприятие с убыточными характеристиками."
   ]
  },
  {
   "cell_type": "markdown",
   "id": "6c22b6a7",
   "metadata": {},
   "source": [
    "## Подготовка данных"
   ]
  },
  {
   "cell_type": "markdown",
   "id": "036059b3",
   "metadata": {},
   "source": [
    "### Изучение данных"
   ]
  },
  {
   "cell_type": "markdown",
   "id": "5071575b",
   "metadata": {},
   "source": [
    "Импортируем нужные библиотеки"
   ]
  },
  {
   "cell_type": "code",
   "execution_count": 1,
   "id": "b7f521c4",
   "metadata": {},
   "outputs": [],
   "source": [
    "# импортируем нужные библиотеки\n",
    "import pandas as pd\n",
    "import numpy as np\n",
    "import matplotlib.pyplot as plt \n",
    "from sklearn.tree import DecisionTreeRegressor\n",
    "from sklearn.ensemble import RandomForestRegressor\n",
    "from sklearn.linear_model import LinearRegression \n",
    "import seaborn as sns\n",
    "from sklearn.metrics import mean_absolute_error, make_scorer\n",
    "from sklearn.model_selection import cross_val_score"
   ]
  },
  {
   "cell_type": "markdown",
   "id": "ec9ba101",
   "metadata": {},
   "source": [
    "Прочитаем файлы /datasets/gold_recovery_train_new.csv, /datasets/gold_recovery_test_new.csv, /datasets/gold_recovery_full_new.csv и сохраним их в переменных `train`, `test`, `full`."
   ]
  },
  {
   "cell_type": "code",
   "execution_count": 2,
   "id": "6d6fa68b",
   "metadata": {},
   "outputs": [],
   "source": [
    "# читаем файл и сохраняем его в train\n",
    "train = pd.read_csv('/datasets/gold_recovery_train_new.csv') "
   ]
  },
  {
   "cell_type": "code",
   "execution_count": 3,
   "id": "50115e48",
   "metadata": {},
   "outputs": [],
   "source": [
    "# читаем файл и сохраняем его в test\n",
    "test = pd.read_csv('/datasets/gold_recovery_test_new.csv') "
   ]
  },
  {
   "cell_type": "code",
   "execution_count": 4,
   "id": "b2aaf884",
   "metadata": {},
   "outputs": [],
   "source": [
    "# читаем файл и сохраняем его в full\n",
    "full = pd.read_csv('/datasets/gold_recovery_full_new.csv') "
   ]
  },
  {
   "cell_type": "markdown",
   "id": "ea64eb78",
   "metadata": {},
   "source": [
    "Из описания к данным известно, что:\n",
    "\n",
    "* Rougher feed — исходное сырье\n",
    "* Rougher additions (или reagent additions) — флотационные реагенты: Xanthate, Sulphate, Depressant\n",
    "* Xanthate **— ксантогенат (промотер, или активатор флотации);\n",
    "* Sulphate — сульфат (на данном производстве сульфид натрия);\n",
    "* Depressant — депрессант (силикат натрия).\n",
    "* Rougher process (англ. «грубый процесс») — флотация\n",
    "* Rougher tails — отвальные хвосты\n",
    "* Float banks — флотационная установка\n",
    "* Cleaner process — очистка\n",
    "* Rougher Au — черновой концентрат золота\n",
    "* Final Au — финальный концентрат золота\n",
    "\n",
    "Параметры этапов: \n",
    "\n",
    "* air amount — объём воздуха\n",
    "* fluid levels — уровень жидкости\n",
    "* feed size — размер гранул сырья\n",
    "* feed rate — скорость подачи\n",
    "\n",
    "Наименовая этапов :\n",
    "\n",
    "* rougher — флотация\n",
    "* primary_cleaner — первичная очистка\n",
    "* secondary_cleaner — вторичная очистка\n",
    "* final — финальные характеристики\n",
    "\n",
    "Тип параметров:\n",
    "\n",
    "* input — параметры сырья\n",
    "* output — параметры продукта\n",
    "* state — параметры, характеризующие текущее состояние этапа\n",
    "* calculation — расчётные характеристики"
   ]
  },
  {
   "cell_type": "markdown",
   "id": "df713536",
   "metadata": {},
   "source": [
    "Напишем функцию, которая выводит общую информацию о таблице, а так же посчитает пропуски и проверит на наличие дубликатов."
   ]
  },
  {
   "cell_type": "code",
   "execution_count": 5,
   "id": "cf31dac1",
   "metadata": {},
   "outputs": [],
   "source": [
    "#пишем функцию summary\n",
    "def summary(df):\n",
    "    print(df.info())\n",
    "    display(df.head())\n",
    "    count=0\n",
    "    for col in df.columns:\n",
    "        if df.isna().sum()[col]==0:\n",
    "            count+=1\n",
    "        else:\n",
    "            print(f'Пропущенных значений в столбце {col}: {df.isna().sum()[col]}')\n",
    "    if count==len(df.columns):\n",
    "        print('Пропущенных значений в таблице нет')\n",
    "    print(f'Повторов в таблице {df.duplicated().sum()}')  "
   ]
  },
  {
   "cell_type": "code",
   "execution_count": 6,
   "id": "e5cfa799",
   "metadata": {},
   "outputs": [
    {
     "name": "stdout",
     "output_type": "stream",
     "text": [
      "<class 'pandas.core.frame.DataFrame'>\n",
      "RangeIndex: 14149 entries, 0 to 14148\n",
      "Data columns (total 87 columns):\n",
      " #   Column                                              Non-Null Count  Dtype  \n",
      "---  ------                                              --------------  -----  \n",
      " 0   date                                                14149 non-null  object \n",
      " 1   final.output.concentrate_ag                         14148 non-null  float64\n",
      " 2   final.output.concentrate_pb                         14148 non-null  float64\n",
      " 3   final.output.concentrate_sol                        13938 non-null  float64\n",
      " 4   final.output.concentrate_au                         14149 non-null  float64\n",
      " 5   final.output.recovery                               14149 non-null  float64\n",
      " 6   final.output.tail_ag                                14149 non-null  float64\n",
      " 7   final.output.tail_pb                                14049 non-null  float64\n",
      " 8   final.output.tail_sol                               14144 non-null  float64\n",
      " 9   final.output.tail_au                                14149 non-null  float64\n",
      " 10  primary_cleaner.input.sulfate                       14129 non-null  float64\n",
      " 11  primary_cleaner.input.depressant                    14117 non-null  float64\n",
      " 12  primary_cleaner.input.feed_size                     14149 non-null  float64\n",
      " 13  primary_cleaner.input.xanthate                      14049 non-null  float64\n",
      " 14  primary_cleaner.output.concentrate_ag               14149 non-null  float64\n",
      " 15  primary_cleaner.output.concentrate_pb               14063 non-null  float64\n",
      " 16  primary_cleaner.output.concentrate_sol              13863 non-null  float64\n",
      " 17  primary_cleaner.output.concentrate_au               14149 non-null  float64\n",
      " 18  primary_cleaner.output.tail_ag                      14148 non-null  float64\n",
      " 19  primary_cleaner.output.tail_pb                      14134 non-null  float64\n",
      " 20  primary_cleaner.output.tail_sol                     14103 non-null  float64\n",
      " 21  primary_cleaner.output.tail_au                      14149 non-null  float64\n",
      " 22  primary_cleaner.state.floatbank8_a_air              14145 non-null  float64\n",
      " 23  primary_cleaner.state.floatbank8_a_level            14148 non-null  float64\n",
      " 24  primary_cleaner.state.floatbank8_b_air              14145 non-null  float64\n",
      " 25  primary_cleaner.state.floatbank8_b_level            14148 non-null  float64\n",
      " 26  primary_cleaner.state.floatbank8_c_air              14147 non-null  float64\n",
      " 27  primary_cleaner.state.floatbank8_c_level            14148 non-null  float64\n",
      " 28  primary_cleaner.state.floatbank8_d_air              14146 non-null  float64\n",
      " 29  primary_cleaner.state.floatbank8_d_level            14148 non-null  float64\n",
      " 30  rougher.calculation.sulfate_to_au_concentrate       14148 non-null  float64\n",
      " 31  rougher.calculation.floatbank10_sulfate_to_au_feed  14148 non-null  float64\n",
      " 32  rougher.calculation.floatbank11_sulfate_to_au_feed  14148 non-null  float64\n",
      " 33  rougher.calculation.au_pb_ratio                     14149 non-null  float64\n",
      " 34  rougher.input.feed_ag                               14149 non-null  float64\n",
      " 35  rougher.input.feed_pb                               14049 non-null  float64\n",
      " 36  rougher.input.feed_rate                             14141 non-null  float64\n",
      " 37  rougher.input.feed_size                             14005 non-null  float64\n",
      " 38  rougher.input.feed_sol                              14071 non-null  float64\n",
      " 39  rougher.input.feed_au                               14149 non-null  float64\n",
      " 40  rougher.input.floatbank10_sulfate                   14120 non-null  float64\n",
      " 41  rougher.input.floatbank10_xanthate                  14141 non-null  float64\n",
      " 42  rougher.input.floatbank11_sulfate                   14113 non-null  float64\n",
      " 43  rougher.input.floatbank11_xanthate                  13721 non-null  float64\n",
      " 44  rougher.output.concentrate_ag                       14149 non-null  float64\n",
      " 45  rougher.output.concentrate_pb                       14149 non-null  float64\n",
      " 46  rougher.output.concentrate_sol                      14127 non-null  float64\n",
      " 47  rougher.output.concentrate_au                       14149 non-null  float64\n",
      " 48  rougher.output.recovery                             14149 non-null  float64\n",
      " 49  rougher.output.tail_ag                              14148 non-null  float64\n",
      " 50  rougher.output.tail_pb                              14149 non-null  float64\n",
      " 51  rougher.output.tail_sol                             14149 non-null  float64\n",
      " 52  rougher.output.tail_au                              14149 non-null  float64\n",
      " 53  rougher.state.floatbank10_a_air                     14148 non-null  float64\n",
      " 54  rougher.state.floatbank10_a_level                   14148 non-null  float64\n",
      " 55  rougher.state.floatbank10_b_air                     14148 non-null  float64\n",
      " 56  rougher.state.floatbank10_b_level                   14148 non-null  float64\n",
      " 57  rougher.state.floatbank10_c_air                     14148 non-null  float64\n",
      " 58  rougher.state.floatbank10_c_level                   14148 non-null  float64\n",
      " 59  rougher.state.floatbank10_d_air                     14149 non-null  float64\n",
      " 60  rougher.state.floatbank10_d_level                   14149 non-null  float64\n",
      " 61  rougher.state.floatbank10_e_air                     13713 non-null  float64\n",
      " 62  rougher.state.floatbank10_e_level                   14149 non-null  float64\n",
      " 63  rougher.state.floatbank10_f_air                     14149 non-null  float64\n",
      " 64  rougher.state.floatbank10_f_level                   14149 non-null  float64\n",
      " 65  secondary_cleaner.output.tail_ag                    14147 non-null  float64\n",
      " 66  secondary_cleaner.output.tail_pb                    14139 non-null  float64\n",
      " 67  secondary_cleaner.output.tail_sol                   12544 non-null  float64\n",
      " 68  secondary_cleaner.output.tail_au                    14149 non-null  float64\n",
      " 69  secondary_cleaner.state.floatbank2_a_air            13932 non-null  float64\n",
      " 70  secondary_cleaner.state.floatbank2_a_level          14148 non-null  float64\n",
      " 71  secondary_cleaner.state.floatbank2_b_air            14128 non-null  float64\n",
      " 72  secondary_cleaner.state.floatbank2_b_level          14148 non-null  float64\n",
      " 73  secondary_cleaner.state.floatbank3_a_air            14145 non-null  float64\n",
      " 74  secondary_cleaner.state.floatbank3_a_level          14148 non-null  float64\n",
      " 75  secondary_cleaner.state.floatbank3_b_air            14148 non-null  float64\n",
      " 76  secondary_cleaner.state.floatbank3_b_level          14148 non-null  float64\n",
      " 77  secondary_cleaner.state.floatbank4_a_air            14143 non-null  float64\n",
      " 78  secondary_cleaner.state.floatbank4_a_level          14148 non-null  float64\n",
      " 79  secondary_cleaner.state.floatbank4_b_air            14148 non-null  float64\n",
      " 80  secondary_cleaner.state.floatbank4_b_level          14148 non-null  float64\n",
      " 81  secondary_cleaner.state.floatbank5_a_air            14148 non-null  float64\n",
      " 82  secondary_cleaner.state.floatbank5_a_level          14148 non-null  float64\n",
      " 83  secondary_cleaner.state.floatbank5_b_air            14148 non-null  float64\n",
      " 84  secondary_cleaner.state.floatbank5_b_level          14148 non-null  float64\n",
      " 85  secondary_cleaner.state.floatbank6_a_air            14147 non-null  float64\n",
      " 86  secondary_cleaner.state.floatbank6_a_level          14148 non-null  float64\n",
      "dtypes: float64(86), object(1)\n",
      "memory usage: 9.4+ MB\n",
      "None\n"
     ]
    },
    {
     "data": {
      "text/html": [
       "<div>\n",
       "<style scoped>\n",
       "    .dataframe tbody tr th:only-of-type {\n",
       "        vertical-align: middle;\n",
       "    }\n",
       "\n",
       "    .dataframe tbody tr th {\n",
       "        vertical-align: top;\n",
       "    }\n",
       "\n",
       "    .dataframe thead th {\n",
       "        text-align: right;\n",
       "    }\n",
       "</style>\n",
       "<table border=\"1\" class=\"dataframe\">\n",
       "  <thead>\n",
       "    <tr style=\"text-align: right;\">\n",
       "      <th></th>\n",
       "      <th>date</th>\n",
       "      <th>final.output.concentrate_ag</th>\n",
       "      <th>final.output.concentrate_pb</th>\n",
       "      <th>final.output.concentrate_sol</th>\n",
       "      <th>final.output.concentrate_au</th>\n",
       "      <th>final.output.recovery</th>\n",
       "      <th>final.output.tail_ag</th>\n",
       "      <th>final.output.tail_pb</th>\n",
       "      <th>final.output.tail_sol</th>\n",
       "      <th>final.output.tail_au</th>\n",
       "      <th>...</th>\n",
       "      <th>secondary_cleaner.state.floatbank4_a_air</th>\n",
       "      <th>secondary_cleaner.state.floatbank4_a_level</th>\n",
       "      <th>secondary_cleaner.state.floatbank4_b_air</th>\n",
       "      <th>secondary_cleaner.state.floatbank4_b_level</th>\n",
       "      <th>secondary_cleaner.state.floatbank5_a_air</th>\n",
       "      <th>secondary_cleaner.state.floatbank5_a_level</th>\n",
       "      <th>secondary_cleaner.state.floatbank5_b_air</th>\n",
       "      <th>secondary_cleaner.state.floatbank5_b_level</th>\n",
       "      <th>secondary_cleaner.state.floatbank6_a_air</th>\n",
       "      <th>secondary_cleaner.state.floatbank6_a_level</th>\n",
       "    </tr>\n",
       "  </thead>\n",
       "  <tbody>\n",
       "    <tr>\n",
       "      <th>0</th>\n",
       "      <td>2016-01-15 00:00:00</td>\n",
       "      <td>6.055403</td>\n",
       "      <td>9.889648</td>\n",
       "      <td>5.507324</td>\n",
       "      <td>42.192020</td>\n",
       "      <td>70.541216</td>\n",
       "      <td>10.411962</td>\n",
       "      <td>0.895447</td>\n",
       "      <td>16.904297</td>\n",
       "      <td>2.143149</td>\n",
       "      <td>...</td>\n",
       "      <td>14.016835</td>\n",
       "      <td>-502.488007</td>\n",
       "      <td>12.099931</td>\n",
       "      <td>-504.715942</td>\n",
       "      <td>9.925633</td>\n",
       "      <td>-498.310211</td>\n",
       "      <td>8.079666</td>\n",
       "      <td>-500.470978</td>\n",
       "      <td>14.151341</td>\n",
       "      <td>-605.841980</td>\n",
       "    </tr>\n",
       "    <tr>\n",
       "      <th>1</th>\n",
       "      <td>2016-01-15 01:00:00</td>\n",
       "      <td>6.029369</td>\n",
       "      <td>9.968944</td>\n",
       "      <td>5.257781</td>\n",
       "      <td>42.701629</td>\n",
       "      <td>69.266198</td>\n",
       "      <td>10.462676</td>\n",
       "      <td>0.927452</td>\n",
       "      <td>16.634514</td>\n",
       "      <td>2.224930</td>\n",
       "      <td>...</td>\n",
       "      <td>13.992281</td>\n",
       "      <td>-505.503262</td>\n",
       "      <td>11.950531</td>\n",
       "      <td>-501.331529</td>\n",
       "      <td>10.039245</td>\n",
       "      <td>-500.169983</td>\n",
       "      <td>7.984757</td>\n",
       "      <td>-500.582168</td>\n",
       "      <td>13.998353</td>\n",
       "      <td>-599.787184</td>\n",
       "    </tr>\n",
       "    <tr>\n",
       "      <th>2</th>\n",
       "      <td>2016-01-15 02:00:00</td>\n",
       "      <td>6.055926</td>\n",
       "      <td>10.213995</td>\n",
       "      <td>5.383759</td>\n",
       "      <td>42.657501</td>\n",
       "      <td>68.116445</td>\n",
       "      <td>10.507046</td>\n",
       "      <td>0.953716</td>\n",
       "      <td>16.208849</td>\n",
       "      <td>2.257889</td>\n",
       "      <td>...</td>\n",
       "      <td>14.015015</td>\n",
       "      <td>-502.520901</td>\n",
       "      <td>11.912783</td>\n",
       "      <td>-501.133383</td>\n",
       "      <td>10.070913</td>\n",
       "      <td>-500.129135</td>\n",
       "      <td>8.013877</td>\n",
       "      <td>-500.517572</td>\n",
       "      <td>14.028663</td>\n",
       "      <td>-601.427363</td>\n",
       "    </tr>\n",
       "    <tr>\n",
       "      <th>3</th>\n",
       "      <td>2016-01-15 03:00:00</td>\n",
       "      <td>6.047977</td>\n",
       "      <td>9.977019</td>\n",
       "      <td>4.858634</td>\n",
       "      <td>42.689819</td>\n",
       "      <td>68.347543</td>\n",
       "      <td>10.422762</td>\n",
       "      <td>0.883763</td>\n",
       "      <td>16.532835</td>\n",
       "      <td>2.146849</td>\n",
       "      <td>...</td>\n",
       "      <td>14.036510</td>\n",
       "      <td>-500.857308</td>\n",
       "      <td>11.999550</td>\n",
       "      <td>-501.193686</td>\n",
       "      <td>9.970366</td>\n",
       "      <td>-499.201640</td>\n",
       "      <td>7.977324</td>\n",
       "      <td>-500.255908</td>\n",
       "      <td>14.005551</td>\n",
       "      <td>-599.996129</td>\n",
       "    </tr>\n",
       "    <tr>\n",
       "      <th>4</th>\n",
       "      <td>2016-01-15 04:00:00</td>\n",
       "      <td>6.148599</td>\n",
       "      <td>10.142511</td>\n",
       "      <td>4.939416</td>\n",
       "      <td>42.774141</td>\n",
       "      <td>66.927016</td>\n",
       "      <td>10.360302</td>\n",
       "      <td>0.792826</td>\n",
       "      <td>16.525686</td>\n",
       "      <td>2.055292</td>\n",
       "      <td>...</td>\n",
       "      <td>14.027298</td>\n",
       "      <td>-499.838632</td>\n",
       "      <td>11.953070</td>\n",
       "      <td>-501.053894</td>\n",
       "      <td>9.925709</td>\n",
       "      <td>-501.686727</td>\n",
       "      <td>7.894242</td>\n",
       "      <td>-500.356035</td>\n",
       "      <td>13.996647</td>\n",
       "      <td>-601.496691</td>\n",
       "    </tr>\n",
       "  </tbody>\n",
       "</table>\n",
       "<p>5 rows × 87 columns</p>\n",
       "</div>"
      ],
      "text/plain": [
       "                  date  final.output.concentrate_ag  \\\n",
       "0  2016-01-15 00:00:00                     6.055403   \n",
       "1  2016-01-15 01:00:00                     6.029369   \n",
       "2  2016-01-15 02:00:00                     6.055926   \n",
       "3  2016-01-15 03:00:00                     6.047977   \n",
       "4  2016-01-15 04:00:00                     6.148599   \n",
       "\n",
       "   final.output.concentrate_pb  final.output.concentrate_sol  \\\n",
       "0                     9.889648                      5.507324   \n",
       "1                     9.968944                      5.257781   \n",
       "2                    10.213995                      5.383759   \n",
       "3                     9.977019                      4.858634   \n",
       "4                    10.142511                      4.939416   \n",
       "\n",
       "   final.output.concentrate_au  final.output.recovery  final.output.tail_ag  \\\n",
       "0                    42.192020              70.541216             10.411962   \n",
       "1                    42.701629              69.266198             10.462676   \n",
       "2                    42.657501              68.116445             10.507046   \n",
       "3                    42.689819              68.347543             10.422762   \n",
       "4                    42.774141              66.927016             10.360302   \n",
       "\n",
       "   final.output.tail_pb  final.output.tail_sol  final.output.tail_au  ...  \\\n",
       "0              0.895447              16.904297              2.143149  ...   \n",
       "1              0.927452              16.634514              2.224930  ...   \n",
       "2              0.953716              16.208849              2.257889  ...   \n",
       "3              0.883763              16.532835              2.146849  ...   \n",
       "4              0.792826              16.525686              2.055292  ...   \n",
       "\n",
       "   secondary_cleaner.state.floatbank4_a_air  \\\n",
       "0                                 14.016835   \n",
       "1                                 13.992281   \n",
       "2                                 14.015015   \n",
       "3                                 14.036510   \n",
       "4                                 14.027298   \n",
       "\n",
       "   secondary_cleaner.state.floatbank4_a_level  \\\n",
       "0                                 -502.488007   \n",
       "1                                 -505.503262   \n",
       "2                                 -502.520901   \n",
       "3                                 -500.857308   \n",
       "4                                 -499.838632   \n",
       "\n",
       "   secondary_cleaner.state.floatbank4_b_air  \\\n",
       "0                                 12.099931   \n",
       "1                                 11.950531   \n",
       "2                                 11.912783   \n",
       "3                                 11.999550   \n",
       "4                                 11.953070   \n",
       "\n",
       "   secondary_cleaner.state.floatbank4_b_level  \\\n",
       "0                                 -504.715942   \n",
       "1                                 -501.331529   \n",
       "2                                 -501.133383   \n",
       "3                                 -501.193686   \n",
       "4                                 -501.053894   \n",
       "\n",
       "   secondary_cleaner.state.floatbank5_a_air  \\\n",
       "0                                  9.925633   \n",
       "1                                 10.039245   \n",
       "2                                 10.070913   \n",
       "3                                  9.970366   \n",
       "4                                  9.925709   \n",
       "\n",
       "   secondary_cleaner.state.floatbank5_a_level  \\\n",
       "0                                 -498.310211   \n",
       "1                                 -500.169983   \n",
       "2                                 -500.129135   \n",
       "3                                 -499.201640   \n",
       "4                                 -501.686727   \n",
       "\n",
       "   secondary_cleaner.state.floatbank5_b_air  \\\n",
       "0                                  8.079666   \n",
       "1                                  7.984757   \n",
       "2                                  8.013877   \n",
       "3                                  7.977324   \n",
       "4                                  7.894242   \n",
       "\n",
       "   secondary_cleaner.state.floatbank5_b_level  \\\n",
       "0                                 -500.470978   \n",
       "1                                 -500.582168   \n",
       "2                                 -500.517572   \n",
       "3                                 -500.255908   \n",
       "4                                 -500.356035   \n",
       "\n",
       "   secondary_cleaner.state.floatbank6_a_air  \\\n",
       "0                                 14.151341   \n",
       "1                                 13.998353   \n",
       "2                                 14.028663   \n",
       "3                                 14.005551   \n",
       "4                                 13.996647   \n",
       "\n",
       "   secondary_cleaner.state.floatbank6_a_level  \n",
       "0                                 -605.841980  \n",
       "1                                 -599.787184  \n",
       "2                                 -601.427363  \n",
       "3                                 -599.996129  \n",
       "4                                 -601.496691  \n",
       "\n",
       "[5 rows x 87 columns]"
      ]
     },
     "metadata": {},
     "output_type": "display_data"
    },
    {
     "name": "stdout",
     "output_type": "stream",
     "text": [
      "Пропущенных значений в столбце final.output.concentrate_ag: 1\n",
      "Пропущенных значений в столбце final.output.concentrate_pb: 1\n",
      "Пропущенных значений в столбце final.output.concentrate_sol: 211\n",
      "Пропущенных значений в столбце final.output.tail_pb: 100\n",
      "Пропущенных значений в столбце final.output.tail_sol: 5\n",
      "Пропущенных значений в столбце primary_cleaner.input.sulfate: 20\n",
      "Пропущенных значений в столбце primary_cleaner.input.depressant: 32\n",
      "Пропущенных значений в столбце primary_cleaner.input.xanthate: 100\n",
      "Пропущенных значений в столбце primary_cleaner.output.concentrate_pb: 86\n",
      "Пропущенных значений в столбце primary_cleaner.output.concentrate_sol: 286\n",
      "Пропущенных значений в столбце primary_cleaner.output.tail_ag: 1\n",
      "Пропущенных значений в столбце primary_cleaner.output.tail_pb: 15\n",
      "Пропущенных значений в столбце primary_cleaner.output.tail_sol: 46\n",
      "Пропущенных значений в столбце primary_cleaner.state.floatbank8_a_air: 4\n",
      "Пропущенных значений в столбце primary_cleaner.state.floatbank8_a_level: 1\n",
      "Пропущенных значений в столбце primary_cleaner.state.floatbank8_b_air: 4\n",
      "Пропущенных значений в столбце primary_cleaner.state.floatbank8_b_level: 1\n",
      "Пропущенных значений в столбце primary_cleaner.state.floatbank8_c_air: 2\n",
      "Пропущенных значений в столбце primary_cleaner.state.floatbank8_c_level: 1\n",
      "Пропущенных значений в столбце primary_cleaner.state.floatbank8_d_air: 3\n",
      "Пропущенных значений в столбце primary_cleaner.state.floatbank8_d_level: 1\n",
      "Пропущенных значений в столбце rougher.calculation.sulfate_to_au_concentrate: 1\n",
      "Пропущенных значений в столбце rougher.calculation.floatbank10_sulfate_to_au_feed: 1\n",
      "Пропущенных значений в столбце rougher.calculation.floatbank11_sulfate_to_au_feed: 1\n",
      "Пропущенных значений в столбце rougher.input.feed_pb: 100\n",
      "Пропущенных значений в столбце rougher.input.feed_rate: 8\n",
      "Пропущенных значений в столбце rougher.input.feed_size: 144\n",
      "Пропущенных значений в столбце rougher.input.feed_sol: 78\n",
      "Пропущенных значений в столбце rougher.input.floatbank10_sulfate: 29\n",
      "Пропущенных значений в столбце rougher.input.floatbank10_xanthate: 8\n",
      "Пропущенных значений в столбце rougher.input.floatbank11_sulfate: 36\n",
      "Пропущенных значений в столбце rougher.input.floatbank11_xanthate: 428\n",
      "Пропущенных значений в столбце rougher.output.concentrate_sol: 22\n",
      "Пропущенных значений в столбце rougher.output.tail_ag: 1\n",
      "Пропущенных значений в столбце rougher.state.floatbank10_a_air: 1\n",
      "Пропущенных значений в столбце rougher.state.floatbank10_a_level: 1\n",
      "Пропущенных значений в столбце rougher.state.floatbank10_b_air: 1\n",
      "Пропущенных значений в столбце rougher.state.floatbank10_b_level: 1\n",
      "Пропущенных значений в столбце rougher.state.floatbank10_c_air: 1\n",
      "Пропущенных значений в столбце rougher.state.floatbank10_c_level: 1\n",
      "Пропущенных значений в столбце rougher.state.floatbank10_e_air: 436\n",
      "Пропущенных значений в столбце secondary_cleaner.output.tail_ag: 2\n",
      "Пропущенных значений в столбце secondary_cleaner.output.tail_pb: 10\n",
      "Пропущенных значений в столбце secondary_cleaner.output.tail_sol: 1605\n",
      "Пропущенных значений в столбце secondary_cleaner.state.floatbank2_a_air: 217\n",
      "Пропущенных значений в столбце secondary_cleaner.state.floatbank2_a_level: 1\n",
      "Пропущенных значений в столбце secondary_cleaner.state.floatbank2_b_air: 21\n",
      "Пропущенных значений в столбце secondary_cleaner.state.floatbank2_b_level: 1\n",
      "Пропущенных значений в столбце secondary_cleaner.state.floatbank3_a_air: 4\n",
      "Пропущенных значений в столбце secondary_cleaner.state.floatbank3_a_level: 1\n",
      "Пропущенных значений в столбце secondary_cleaner.state.floatbank3_b_air: 1\n",
      "Пропущенных значений в столбце secondary_cleaner.state.floatbank3_b_level: 1\n",
      "Пропущенных значений в столбце secondary_cleaner.state.floatbank4_a_air: 6\n",
      "Пропущенных значений в столбце secondary_cleaner.state.floatbank4_a_level: 1\n",
      "Пропущенных значений в столбце secondary_cleaner.state.floatbank4_b_air: 1\n",
      "Пропущенных значений в столбце secondary_cleaner.state.floatbank4_b_level: 1\n",
      "Пропущенных значений в столбце secondary_cleaner.state.floatbank5_a_air: 1\n",
      "Пропущенных значений в столбце secondary_cleaner.state.floatbank5_a_level: 1\n",
      "Пропущенных значений в столбце secondary_cleaner.state.floatbank5_b_air: 1\n",
      "Пропущенных значений в столбце secondary_cleaner.state.floatbank5_b_level: 1\n",
      "Пропущенных значений в столбце secondary_cleaner.state.floatbank6_a_air: 2\n",
      "Пропущенных значений в столбце secondary_cleaner.state.floatbank6_a_level: 1\n",
      "Повторов в таблице 0\n"
     ]
    }
   ],
   "source": [
    "summary(train)"
   ]
  },
  {
   "cell_type": "code",
   "execution_count": 7,
   "id": "49c29518",
   "metadata": {},
   "outputs": [
    {
     "name": "stdout",
     "output_type": "stream",
     "text": [
      "<class 'pandas.core.frame.DataFrame'>\n",
      "RangeIndex: 5290 entries, 0 to 5289\n",
      "Data columns (total 53 columns):\n",
      " #   Column                                      Non-Null Count  Dtype  \n",
      "---  ------                                      --------------  -----  \n",
      " 0   date                                        5290 non-null   object \n",
      " 1   primary_cleaner.input.sulfate               5286 non-null   float64\n",
      " 2   primary_cleaner.input.depressant            5285 non-null   float64\n",
      " 3   primary_cleaner.input.feed_size             5290 non-null   float64\n",
      " 4   primary_cleaner.input.xanthate              5286 non-null   float64\n",
      " 5   primary_cleaner.state.floatbank8_a_air      5290 non-null   float64\n",
      " 6   primary_cleaner.state.floatbank8_a_level    5290 non-null   float64\n",
      " 7   primary_cleaner.state.floatbank8_b_air      5290 non-null   float64\n",
      " 8   primary_cleaner.state.floatbank8_b_level    5290 non-null   float64\n",
      " 9   primary_cleaner.state.floatbank8_c_air      5290 non-null   float64\n",
      " 10  primary_cleaner.state.floatbank8_c_level    5290 non-null   float64\n",
      " 11  primary_cleaner.state.floatbank8_d_air      5290 non-null   float64\n",
      " 12  primary_cleaner.state.floatbank8_d_level    5290 non-null   float64\n",
      " 13  rougher.input.feed_ag                       5290 non-null   float64\n",
      " 14  rougher.input.feed_pb                       5290 non-null   float64\n",
      " 15  rougher.input.feed_rate                     5287 non-null   float64\n",
      " 16  rougher.input.feed_size                     5289 non-null   float64\n",
      " 17  rougher.input.feed_sol                      5269 non-null   float64\n",
      " 18  rougher.input.feed_au                       5290 non-null   float64\n",
      " 19  rougher.input.floatbank10_sulfate           5285 non-null   float64\n",
      " 20  rougher.input.floatbank10_xanthate          5290 non-null   float64\n",
      " 21  rougher.input.floatbank11_sulfate           5282 non-null   float64\n",
      " 22  rougher.input.floatbank11_xanthate          5265 non-null   float64\n",
      " 23  rougher.state.floatbank10_a_air             5290 non-null   float64\n",
      " 24  rougher.state.floatbank10_a_level           5290 non-null   float64\n",
      " 25  rougher.state.floatbank10_b_air             5290 non-null   float64\n",
      " 26  rougher.state.floatbank10_b_level           5290 non-null   float64\n",
      " 27  rougher.state.floatbank10_c_air             5290 non-null   float64\n",
      " 28  rougher.state.floatbank10_c_level           5290 non-null   float64\n",
      " 29  rougher.state.floatbank10_d_air             5290 non-null   float64\n",
      " 30  rougher.state.floatbank10_d_level           5290 non-null   float64\n",
      " 31  rougher.state.floatbank10_e_air             5290 non-null   float64\n",
      " 32  rougher.state.floatbank10_e_level           5290 non-null   float64\n",
      " 33  rougher.state.floatbank10_f_air             5290 non-null   float64\n",
      " 34  rougher.state.floatbank10_f_level           5290 non-null   float64\n",
      " 35  secondary_cleaner.state.floatbank2_a_air    5287 non-null   float64\n",
      " 36  secondary_cleaner.state.floatbank2_a_level  5290 non-null   float64\n",
      " 37  secondary_cleaner.state.floatbank2_b_air    5288 non-null   float64\n",
      " 38  secondary_cleaner.state.floatbank2_b_level  5290 non-null   float64\n",
      " 39  secondary_cleaner.state.floatbank3_a_air    5281 non-null   float64\n",
      " 40  secondary_cleaner.state.floatbank3_a_level  5290 non-null   float64\n",
      " 41  secondary_cleaner.state.floatbank3_b_air    5290 non-null   float64\n",
      " 42  secondary_cleaner.state.floatbank3_b_level  5290 non-null   float64\n",
      " 43  secondary_cleaner.state.floatbank4_a_air    5290 non-null   float64\n",
      " 44  secondary_cleaner.state.floatbank4_a_level  5290 non-null   float64\n",
      " 45  secondary_cleaner.state.floatbank4_b_air    5290 non-null   float64\n",
      " 46  secondary_cleaner.state.floatbank4_b_level  5290 non-null   float64\n",
      " 47  secondary_cleaner.state.floatbank5_a_air    5290 non-null   float64\n",
      " 48  secondary_cleaner.state.floatbank5_a_level  5290 non-null   float64\n",
      " 49  secondary_cleaner.state.floatbank5_b_air    5290 non-null   float64\n",
      " 50  secondary_cleaner.state.floatbank5_b_level  5290 non-null   float64\n",
      " 51  secondary_cleaner.state.floatbank6_a_air    5290 non-null   float64\n",
      " 52  secondary_cleaner.state.floatbank6_a_level  5290 non-null   float64\n",
      "dtypes: float64(52), object(1)\n",
      "memory usage: 2.1+ MB\n",
      "None\n"
     ]
    },
    {
     "data": {
      "text/html": [
       "<div>\n",
       "<style scoped>\n",
       "    .dataframe tbody tr th:only-of-type {\n",
       "        vertical-align: middle;\n",
       "    }\n",
       "\n",
       "    .dataframe tbody tr th {\n",
       "        vertical-align: top;\n",
       "    }\n",
       "\n",
       "    .dataframe thead th {\n",
       "        text-align: right;\n",
       "    }\n",
       "</style>\n",
       "<table border=\"1\" class=\"dataframe\">\n",
       "  <thead>\n",
       "    <tr style=\"text-align: right;\">\n",
       "      <th></th>\n",
       "      <th>date</th>\n",
       "      <th>primary_cleaner.input.sulfate</th>\n",
       "      <th>primary_cleaner.input.depressant</th>\n",
       "      <th>primary_cleaner.input.feed_size</th>\n",
       "      <th>primary_cleaner.input.xanthate</th>\n",
       "      <th>primary_cleaner.state.floatbank8_a_air</th>\n",
       "      <th>primary_cleaner.state.floatbank8_a_level</th>\n",
       "      <th>primary_cleaner.state.floatbank8_b_air</th>\n",
       "      <th>primary_cleaner.state.floatbank8_b_level</th>\n",
       "      <th>primary_cleaner.state.floatbank8_c_air</th>\n",
       "      <th>...</th>\n",
       "      <th>secondary_cleaner.state.floatbank4_a_air</th>\n",
       "      <th>secondary_cleaner.state.floatbank4_a_level</th>\n",
       "      <th>secondary_cleaner.state.floatbank4_b_air</th>\n",
       "      <th>secondary_cleaner.state.floatbank4_b_level</th>\n",
       "      <th>secondary_cleaner.state.floatbank5_a_air</th>\n",
       "      <th>secondary_cleaner.state.floatbank5_a_level</th>\n",
       "      <th>secondary_cleaner.state.floatbank5_b_air</th>\n",
       "      <th>secondary_cleaner.state.floatbank5_b_level</th>\n",
       "      <th>secondary_cleaner.state.floatbank6_a_air</th>\n",
       "      <th>secondary_cleaner.state.floatbank6_a_level</th>\n",
       "    </tr>\n",
       "  </thead>\n",
       "  <tbody>\n",
       "    <tr>\n",
       "      <th>0</th>\n",
       "      <td>2016-09-01 00:59:59</td>\n",
       "      <td>210.800909</td>\n",
       "      <td>14.993118</td>\n",
       "      <td>8.080000</td>\n",
       "      <td>1.005021</td>\n",
       "      <td>1398.981301</td>\n",
       "      <td>-500.225577</td>\n",
       "      <td>1399.144926</td>\n",
       "      <td>-499.919735</td>\n",
       "      <td>1400.102998</td>\n",
       "      <td>...</td>\n",
       "      <td>12.023554</td>\n",
       "      <td>-497.795834</td>\n",
       "      <td>8.016656</td>\n",
       "      <td>-501.289139</td>\n",
       "      <td>7.946562</td>\n",
       "      <td>-432.317850</td>\n",
       "      <td>4.872511</td>\n",
       "      <td>-500.037437</td>\n",
       "      <td>26.705889</td>\n",
       "      <td>-499.709414</td>\n",
       "    </tr>\n",
       "    <tr>\n",
       "      <th>1</th>\n",
       "      <td>2016-09-01 01:59:59</td>\n",
       "      <td>215.392455</td>\n",
       "      <td>14.987471</td>\n",
       "      <td>8.080000</td>\n",
       "      <td>0.990469</td>\n",
       "      <td>1398.777912</td>\n",
       "      <td>-500.057435</td>\n",
       "      <td>1398.055362</td>\n",
       "      <td>-499.778182</td>\n",
       "      <td>1396.151033</td>\n",
       "      <td>...</td>\n",
       "      <td>12.058140</td>\n",
       "      <td>-498.695773</td>\n",
       "      <td>8.130979</td>\n",
       "      <td>-499.634209</td>\n",
       "      <td>7.958270</td>\n",
       "      <td>-525.839648</td>\n",
       "      <td>4.878850</td>\n",
       "      <td>-500.162375</td>\n",
       "      <td>25.019940</td>\n",
       "      <td>-499.819438</td>\n",
       "    </tr>\n",
       "    <tr>\n",
       "      <th>2</th>\n",
       "      <td>2016-09-01 02:59:59</td>\n",
       "      <td>215.259946</td>\n",
       "      <td>12.884934</td>\n",
       "      <td>7.786667</td>\n",
       "      <td>0.996043</td>\n",
       "      <td>1398.493666</td>\n",
       "      <td>-500.868360</td>\n",
       "      <td>1398.860436</td>\n",
       "      <td>-499.764529</td>\n",
       "      <td>1398.075709</td>\n",
       "      <td>...</td>\n",
       "      <td>11.962366</td>\n",
       "      <td>-498.767484</td>\n",
       "      <td>8.096893</td>\n",
       "      <td>-500.827423</td>\n",
       "      <td>8.071056</td>\n",
       "      <td>-500.801673</td>\n",
       "      <td>4.905125</td>\n",
       "      <td>-499.828510</td>\n",
       "      <td>24.994862</td>\n",
       "      <td>-500.622559</td>\n",
       "    </tr>\n",
       "    <tr>\n",
       "      <th>3</th>\n",
       "      <td>2016-09-01 03:59:59</td>\n",
       "      <td>215.336236</td>\n",
       "      <td>12.006805</td>\n",
       "      <td>7.640000</td>\n",
       "      <td>0.863514</td>\n",
       "      <td>1399.618111</td>\n",
       "      <td>-498.863574</td>\n",
       "      <td>1397.440120</td>\n",
       "      <td>-499.211024</td>\n",
       "      <td>1400.129303</td>\n",
       "      <td>...</td>\n",
       "      <td>12.033091</td>\n",
       "      <td>-498.350935</td>\n",
       "      <td>8.074946</td>\n",
       "      <td>-499.474407</td>\n",
       "      <td>7.897085</td>\n",
       "      <td>-500.868509</td>\n",
       "      <td>4.931400</td>\n",
       "      <td>-499.963623</td>\n",
       "      <td>24.948919</td>\n",
       "      <td>-498.709987</td>\n",
       "    </tr>\n",
       "    <tr>\n",
       "      <th>4</th>\n",
       "      <td>2016-09-01 04:59:59</td>\n",
       "      <td>199.099327</td>\n",
       "      <td>10.682530</td>\n",
       "      <td>7.530000</td>\n",
       "      <td>0.805575</td>\n",
       "      <td>1401.268123</td>\n",
       "      <td>-500.808305</td>\n",
       "      <td>1398.128818</td>\n",
       "      <td>-499.504543</td>\n",
       "      <td>1402.172226</td>\n",
       "      <td>...</td>\n",
       "      <td>12.025367</td>\n",
       "      <td>-500.786497</td>\n",
       "      <td>8.054678</td>\n",
       "      <td>-500.397500</td>\n",
       "      <td>8.107890</td>\n",
       "      <td>-509.526725</td>\n",
       "      <td>4.957674</td>\n",
       "      <td>-500.360026</td>\n",
       "      <td>25.003331</td>\n",
       "      <td>-500.856333</td>\n",
       "    </tr>\n",
       "  </tbody>\n",
       "</table>\n",
       "<p>5 rows × 53 columns</p>\n",
       "</div>"
      ],
      "text/plain": [
       "                  date  primary_cleaner.input.sulfate  \\\n",
       "0  2016-09-01 00:59:59                     210.800909   \n",
       "1  2016-09-01 01:59:59                     215.392455   \n",
       "2  2016-09-01 02:59:59                     215.259946   \n",
       "3  2016-09-01 03:59:59                     215.336236   \n",
       "4  2016-09-01 04:59:59                     199.099327   \n",
       "\n",
       "   primary_cleaner.input.depressant  primary_cleaner.input.feed_size  \\\n",
       "0                         14.993118                         8.080000   \n",
       "1                         14.987471                         8.080000   \n",
       "2                         12.884934                         7.786667   \n",
       "3                         12.006805                         7.640000   \n",
       "4                         10.682530                         7.530000   \n",
       "\n",
       "   primary_cleaner.input.xanthate  primary_cleaner.state.floatbank8_a_air  \\\n",
       "0                        1.005021                             1398.981301   \n",
       "1                        0.990469                             1398.777912   \n",
       "2                        0.996043                             1398.493666   \n",
       "3                        0.863514                             1399.618111   \n",
       "4                        0.805575                             1401.268123   \n",
       "\n",
       "   primary_cleaner.state.floatbank8_a_level  \\\n",
       "0                               -500.225577   \n",
       "1                               -500.057435   \n",
       "2                               -500.868360   \n",
       "3                               -498.863574   \n",
       "4                               -500.808305   \n",
       "\n",
       "   primary_cleaner.state.floatbank8_b_air  \\\n",
       "0                             1399.144926   \n",
       "1                             1398.055362   \n",
       "2                             1398.860436   \n",
       "3                             1397.440120   \n",
       "4                             1398.128818   \n",
       "\n",
       "   primary_cleaner.state.floatbank8_b_level  \\\n",
       "0                               -499.919735   \n",
       "1                               -499.778182   \n",
       "2                               -499.764529   \n",
       "3                               -499.211024   \n",
       "4                               -499.504543   \n",
       "\n",
       "   primary_cleaner.state.floatbank8_c_air  ...  \\\n",
       "0                             1400.102998  ...   \n",
       "1                             1396.151033  ...   \n",
       "2                             1398.075709  ...   \n",
       "3                             1400.129303  ...   \n",
       "4                             1402.172226  ...   \n",
       "\n",
       "   secondary_cleaner.state.floatbank4_a_air  \\\n",
       "0                                 12.023554   \n",
       "1                                 12.058140   \n",
       "2                                 11.962366   \n",
       "3                                 12.033091   \n",
       "4                                 12.025367   \n",
       "\n",
       "   secondary_cleaner.state.floatbank4_a_level  \\\n",
       "0                                 -497.795834   \n",
       "1                                 -498.695773   \n",
       "2                                 -498.767484   \n",
       "3                                 -498.350935   \n",
       "4                                 -500.786497   \n",
       "\n",
       "   secondary_cleaner.state.floatbank4_b_air  \\\n",
       "0                                  8.016656   \n",
       "1                                  8.130979   \n",
       "2                                  8.096893   \n",
       "3                                  8.074946   \n",
       "4                                  8.054678   \n",
       "\n",
       "   secondary_cleaner.state.floatbank4_b_level  \\\n",
       "0                                 -501.289139   \n",
       "1                                 -499.634209   \n",
       "2                                 -500.827423   \n",
       "3                                 -499.474407   \n",
       "4                                 -500.397500   \n",
       "\n",
       "   secondary_cleaner.state.floatbank5_a_air  \\\n",
       "0                                  7.946562   \n",
       "1                                  7.958270   \n",
       "2                                  8.071056   \n",
       "3                                  7.897085   \n",
       "4                                  8.107890   \n",
       "\n",
       "   secondary_cleaner.state.floatbank5_a_level  \\\n",
       "0                                 -432.317850   \n",
       "1                                 -525.839648   \n",
       "2                                 -500.801673   \n",
       "3                                 -500.868509   \n",
       "4                                 -509.526725   \n",
       "\n",
       "   secondary_cleaner.state.floatbank5_b_air  \\\n",
       "0                                  4.872511   \n",
       "1                                  4.878850   \n",
       "2                                  4.905125   \n",
       "3                                  4.931400   \n",
       "4                                  4.957674   \n",
       "\n",
       "   secondary_cleaner.state.floatbank5_b_level  \\\n",
       "0                                 -500.037437   \n",
       "1                                 -500.162375   \n",
       "2                                 -499.828510   \n",
       "3                                 -499.963623   \n",
       "4                                 -500.360026   \n",
       "\n",
       "   secondary_cleaner.state.floatbank6_a_air  \\\n",
       "0                                 26.705889   \n",
       "1                                 25.019940   \n",
       "2                                 24.994862   \n",
       "3                                 24.948919   \n",
       "4                                 25.003331   \n",
       "\n",
       "   secondary_cleaner.state.floatbank6_a_level  \n",
       "0                                 -499.709414  \n",
       "1                                 -499.819438  \n",
       "2                                 -500.622559  \n",
       "3                                 -498.709987  \n",
       "4                                 -500.856333  \n",
       "\n",
       "[5 rows x 53 columns]"
      ]
     },
     "metadata": {},
     "output_type": "display_data"
    },
    {
     "name": "stdout",
     "output_type": "stream",
     "text": [
      "Пропущенных значений в столбце primary_cleaner.input.sulfate: 4\n",
      "Пропущенных значений в столбце primary_cleaner.input.depressant: 5\n",
      "Пропущенных значений в столбце primary_cleaner.input.xanthate: 4\n",
      "Пропущенных значений в столбце rougher.input.feed_rate: 3\n",
      "Пропущенных значений в столбце rougher.input.feed_size: 1\n",
      "Пропущенных значений в столбце rougher.input.feed_sol: 21\n",
      "Пропущенных значений в столбце rougher.input.floatbank10_sulfate: 5\n",
      "Пропущенных значений в столбце rougher.input.floatbank11_sulfate: 8\n",
      "Пропущенных значений в столбце rougher.input.floatbank11_xanthate: 25\n",
      "Пропущенных значений в столбце secondary_cleaner.state.floatbank2_a_air: 3\n",
      "Пропущенных значений в столбце secondary_cleaner.state.floatbank2_b_air: 2\n",
      "Пропущенных значений в столбце secondary_cleaner.state.floatbank3_a_air: 9\n",
      "Повторов в таблице 0\n"
     ]
    }
   ],
   "source": [
    "summary(test)"
   ]
  },
  {
   "cell_type": "code",
   "execution_count": 8,
   "id": "16858229",
   "metadata": {},
   "outputs": [
    {
     "name": "stdout",
     "output_type": "stream",
     "text": [
      "<class 'pandas.core.frame.DataFrame'>\n",
      "RangeIndex: 19439 entries, 0 to 19438\n",
      "Data columns (total 87 columns):\n",
      " #   Column                                              Non-Null Count  Dtype  \n",
      "---  ------                                              --------------  -----  \n",
      " 0   date                                                19439 non-null  object \n",
      " 1   final.output.concentrate_ag                         19438 non-null  float64\n",
      " 2   final.output.concentrate_pb                         19438 non-null  float64\n",
      " 3   final.output.concentrate_sol                        19228 non-null  float64\n",
      " 4   final.output.concentrate_au                         19439 non-null  float64\n",
      " 5   final.output.recovery                               19439 non-null  float64\n",
      " 6   final.output.tail_ag                                19438 non-null  float64\n",
      " 7   final.output.tail_pb                                19338 non-null  float64\n",
      " 8   final.output.tail_sol                               19433 non-null  float64\n",
      " 9   final.output.tail_au                                19439 non-null  float64\n",
      " 10  primary_cleaner.input.sulfate                       19415 non-null  float64\n",
      " 11  primary_cleaner.input.depressant                    19402 non-null  float64\n",
      " 12  primary_cleaner.input.feed_size                     19439 non-null  float64\n",
      " 13  primary_cleaner.input.xanthate                      19335 non-null  float64\n",
      " 14  primary_cleaner.output.concentrate_ag               19439 non-null  float64\n",
      " 15  primary_cleaner.output.concentrate_pb               19323 non-null  float64\n",
      " 16  primary_cleaner.output.concentrate_sol              19069 non-null  float64\n",
      " 17  primary_cleaner.output.concentrate_au               19439 non-null  float64\n",
      " 18  primary_cleaner.output.tail_ag                      19435 non-null  float64\n",
      " 19  primary_cleaner.output.tail_pb                      19418 non-null  float64\n",
      " 20  primary_cleaner.output.tail_sol                     19377 non-null  float64\n",
      " 21  primary_cleaner.output.tail_au                      19439 non-null  float64\n",
      " 22  primary_cleaner.state.floatbank8_a_air              19435 non-null  float64\n",
      " 23  primary_cleaner.state.floatbank8_a_level            19438 non-null  float64\n",
      " 24  primary_cleaner.state.floatbank8_b_air              19435 non-null  float64\n",
      " 25  primary_cleaner.state.floatbank8_b_level            19438 non-null  float64\n",
      " 26  primary_cleaner.state.floatbank8_c_air              19437 non-null  float64\n",
      " 27  primary_cleaner.state.floatbank8_c_level            19438 non-null  float64\n",
      " 28  primary_cleaner.state.floatbank8_d_air              19436 non-null  float64\n",
      " 29  primary_cleaner.state.floatbank8_d_level            19438 non-null  float64\n",
      " 30  rougher.calculation.sulfate_to_au_concentrate       19437 non-null  float64\n",
      " 31  rougher.calculation.floatbank10_sulfate_to_au_feed  19437 non-null  float64\n",
      " 32  rougher.calculation.floatbank11_sulfate_to_au_feed  19437 non-null  float64\n",
      " 33  rougher.calculation.au_pb_ratio                     19439 non-null  float64\n",
      " 34  rougher.input.feed_ag                               19439 non-null  float64\n",
      " 35  rougher.input.feed_pb                               19339 non-null  float64\n",
      " 36  rougher.input.feed_rate                             19428 non-null  float64\n",
      " 37  rougher.input.feed_size                             19294 non-null  float64\n",
      " 38  rougher.input.feed_sol                              19340 non-null  float64\n",
      " 39  rougher.input.feed_au                               19439 non-null  float64\n",
      " 40  rougher.input.floatbank10_sulfate                   19405 non-null  float64\n",
      " 41  rougher.input.floatbank10_xanthate                  19431 non-null  float64\n",
      " 42  rougher.input.floatbank11_sulfate                   19395 non-null  float64\n",
      " 43  rougher.input.floatbank11_xanthate                  18986 non-null  float64\n",
      " 44  rougher.output.concentrate_ag                       19439 non-null  float64\n",
      " 45  rougher.output.concentrate_pb                       19439 non-null  float64\n",
      " 46  rougher.output.concentrate_sol                      19416 non-null  float64\n",
      " 47  rougher.output.concentrate_au                       19439 non-null  float64\n",
      " 48  rougher.output.recovery                             19439 non-null  float64\n",
      " 49  rougher.output.tail_ag                              19438 non-null  float64\n",
      " 50  rougher.output.tail_pb                              19439 non-null  float64\n",
      " 51  rougher.output.tail_sol                             19439 non-null  float64\n",
      " 52  rougher.output.tail_au                              19439 non-null  float64\n",
      " 53  rougher.state.floatbank10_a_air                     19438 non-null  float64\n",
      " 54  rougher.state.floatbank10_a_level                   19438 non-null  float64\n",
      " 55  rougher.state.floatbank10_b_air                     19438 non-null  float64\n",
      " 56  rougher.state.floatbank10_b_level                   19438 non-null  float64\n",
      " 57  rougher.state.floatbank10_c_air                     19438 non-null  float64\n",
      " 58  rougher.state.floatbank10_c_level                   19438 non-null  float64\n",
      " 59  rougher.state.floatbank10_d_air                     19439 non-null  float64\n",
      " 60  rougher.state.floatbank10_d_level                   19439 non-null  float64\n",
      " 61  rougher.state.floatbank10_e_air                     19003 non-null  float64\n",
      " 62  rougher.state.floatbank10_e_level                   19439 non-null  float64\n",
      " 63  rougher.state.floatbank10_f_air                     19439 non-null  float64\n",
      " 64  rougher.state.floatbank10_f_level                   19439 non-null  float64\n",
      " 65  secondary_cleaner.output.tail_ag                    19437 non-null  float64\n",
      " 66  secondary_cleaner.output.tail_pb                    19427 non-null  float64\n",
      " 67  secondary_cleaner.output.tail_sol                   17691 non-null  float64\n",
      " 68  secondary_cleaner.output.tail_au                    19439 non-null  float64\n",
      " 69  secondary_cleaner.state.floatbank2_a_air            19219 non-null  float64\n",
      " 70  secondary_cleaner.state.floatbank2_a_level          19438 non-null  float64\n",
      " 71  secondary_cleaner.state.floatbank2_b_air            19416 non-null  float64\n",
      " 72  secondary_cleaner.state.floatbank2_b_level          19438 non-null  float64\n",
      " 73  secondary_cleaner.state.floatbank3_a_air            19426 non-null  float64\n",
      " 74  secondary_cleaner.state.floatbank3_a_level          19438 non-null  float64\n",
      " 75  secondary_cleaner.state.floatbank3_b_air            19438 non-null  float64\n",
      " 76  secondary_cleaner.state.floatbank3_b_level          19438 non-null  float64\n",
      " 77  secondary_cleaner.state.floatbank4_a_air            19433 non-null  float64\n",
      " 78  secondary_cleaner.state.floatbank4_a_level          19438 non-null  float64\n",
      " 79  secondary_cleaner.state.floatbank4_b_air            19438 non-null  float64\n",
      " 80  secondary_cleaner.state.floatbank4_b_level          19438 non-null  float64\n",
      " 81  secondary_cleaner.state.floatbank5_a_air            19438 non-null  float64\n",
      " 82  secondary_cleaner.state.floatbank5_a_level          19438 non-null  float64\n",
      " 83  secondary_cleaner.state.floatbank5_b_air            19438 non-null  float64\n",
      " 84  secondary_cleaner.state.floatbank5_b_level          19438 non-null  float64\n",
      " 85  secondary_cleaner.state.floatbank6_a_air            19437 non-null  float64\n",
      " 86  secondary_cleaner.state.floatbank6_a_level          19438 non-null  float64\n",
      "dtypes: float64(86), object(1)\n",
      "memory usage: 12.9+ MB\n",
      "None\n"
     ]
    },
    {
     "data": {
      "text/html": [
       "<div>\n",
       "<style scoped>\n",
       "    .dataframe tbody tr th:only-of-type {\n",
       "        vertical-align: middle;\n",
       "    }\n",
       "\n",
       "    .dataframe tbody tr th {\n",
       "        vertical-align: top;\n",
       "    }\n",
       "\n",
       "    .dataframe thead th {\n",
       "        text-align: right;\n",
       "    }\n",
       "</style>\n",
       "<table border=\"1\" class=\"dataframe\">\n",
       "  <thead>\n",
       "    <tr style=\"text-align: right;\">\n",
       "      <th></th>\n",
       "      <th>date</th>\n",
       "      <th>final.output.concentrate_ag</th>\n",
       "      <th>final.output.concentrate_pb</th>\n",
       "      <th>final.output.concentrate_sol</th>\n",
       "      <th>final.output.concentrate_au</th>\n",
       "      <th>final.output.recovery</th>\n",
       "      <th>final.output.tail_ag</th>\n",
       "      <th>final.output.tail_pb</th>\n",
       "      <th>final.output.tail_sol</th>\n",
       "      <th>final.output.tail_au</th>\n",
       "      <th>...</th>\n",
       "      <th>secondary_cleaner.state.floatbank4_a_air</th>\n",
       "      <th>secondary_cleaner.state.floatbank4_a_level</th>\n",
       "      <th>secondary_cleaner.state.floatbank4_b_air</th>\n",
       "      <th>secondary_cleaner.state.floatbank4_b_level</th>\n",
       "      <th>secondary_cleaner.state.floatbank5_a_air</th>\n",
       "      <th>secondary_cleaner.state.floatbank5_a_level</th>\n",
       "      <th>secondary_cleaner.state.floatbank5_b_air</th>\n",
       "      <th>secondary_cleaner.state.floatbank5_b_level</th>\n",
       "      <th>secondary_cleaner.state.floatbank6_a_air</th>\n",
       "      <th>secondary_cleaner.state.floatbank6_a_level</th>\n",
       "    </tr>\n",
       "  </thead>\n",
       "  <tbody>\n",
       "    <tr>\n",
       "      <th>0</th>\n",
       "      <td>2016-01-15 00:00:00</td>\n",
       "      <td>6.055403</td>\n",
       "      <td>9.889648</td>\n",
       "      <td>5.507324</td>\n",
       "      <td>42.192020</td>\n",
       "      <td>70.541216</td>\n",
       "      <td>10.411962</td>\n",
       "      <td>0.895447</td>\n",
       "      <td>16.904297</td>\n",
       "      <td>2.143149</td>\n",
       "      <td>...</td>\n",
       "      <td>14.016835</td>\n",
       "      <td>-502.488007</td>\n",
       "      <td>12.099931</td>\n",
       "      <td>-504.715942</td>\n",
       "      <td>9.925633</td>\n",
       "      <td>-498.310211</td>\n",
       "      <td>8.079666</td>\n",
       "      <td>-500.470978</td>\n",
       "      <td>14.151341</td>\n",
       "      <td>-605.841980</td>\n",
       "    </tr>\n",
       "    <tr>\n",
       "      <th>1</th>\n",
       "      <td>2016-01-15 01:00:00</td>\n",
       "      <td>6.029369</td>\n",
       "      <td>9.968944</td>\n",
       "      <td>5.257781</td>\n",
       "      <td>42.701629</td>\n",
       "      <td>69.266198</td>\n",
       "      <td>10.462676</td>\n",
       "      <td>0.927452</td>\n",
       "      <td>16.634514</td>\n",
       "      <td>2.224930</td>\n",
       "      <td>...</td>\n",
       "      <td>13.992281</td>\n",
       "      <td>-505.503262</td>\n",
       "      <td>11.950531</td>\n",
       "      <td>-501.331529</td>\n",
       "      <td>10.039245</td>\n",
       "      <td>-500.169983</td>\n",
       "      <td>7.984757</td>\n",
       "      <td>-500.582168</td>\n",
       "      <td>13.998353</td>\n",
       "      <td>-599.787184</td>\n",
       "    </tr>\n",
       "    <tr>\n",
       "      <th>2</th>\n",
       "      <td>2016-01-15 02:00:00</td>\n",
       "      <td>6.055926</td>\n",
       "      <td>10.213995</td>\n",
       "      <td>5.383759</td>\n",
       "      <td>42.657501</td>\n",
       "      <td>68.116445</td>\n",
       "      <td>10.507046</td>\n",
       "      <td>0.953716</td>\n",
       "      <td>16.208849</td>\n",
       "      <td>2.257889</td>\n",
       "      <td>...</td>\n",
       "      <td>14.015015</td>\n",
       "      <td>-502.520901</td>\n",
       "      <td>11.912783</td>\n",
       "      <td>-501.133383</td>\n",
       "      <td>10.070913</td>\n",
       "      <td>-500.129135</td>\n",
       "      <td>8.013877</td>\n",
       "      <td>-500.517572</td>\n",
       "      <td>14.028663</td>\n",
       "      <td>-601.427363</td>\n",
       "    </tr>\n",
       "    <tr>\n",
       "      <th>3</th>\n",
       "      <td>2016-01-15 03:00:00</td>\n",
       "      <td>6.047977</td>\n",
       "      <td>9.977019</td>\n",
       "      <td>4.858634</td>\n",
       "      <td>42.689819</td>\n",
       "      <td>68.347543</td>\n",
       "      <td>10.422762</td>\n",
       "      <td>0.883763</td>\n",
       "      <td>16.532835</td>\n",
       "      <td>2.146849</td>\n",
       "      <td>...</td>\n",
       "      <td>14.036510</td>\n",
       "      <td>-500.857308</td>\n",
       "      <td>11.999550</td>\n",
       "      <td>-501.193686</td>\n",
       "      <td>9.970366</td>\n",
       "      <td>-499.201640</td>\n",
       "      <td>7.977324</td>\n",
       "      <td>-500.255908</td>\n",
       "      <td>14.005551</td>\n",
       "      <td>-599.996129</td>\n",
       "    </tr>\n",
       "    <tr>\n",
       "      <th>4</th>\n",
       "      <td>2016-01-15 04:00:00</td>\n",
       "      <td>6.148599</td>\n",
       "      <td>10.142511</td>\n",
       "      <td>4.939416</td>\n",
       "      <td>42.774141</td>\n",
       "      <td>66.927016</td>\n",
       "      <td>10.360302</td>\n",
       "      <td>0.792826</td>\n",
       "      <td>16.525686</td>\n",
       "      <td>2.055292</td>\n",
       "      <td>...</td>\n",
       "      <td>14.027298</td>\n",
       "      <td>-499.838632</td>\n",
       "      <td>11.953070</td>\n",
       "      <td>-501.053894</td>\n",
       "      <td>9.925709</td>\n",
       "      <td>-501.686727</td>\n",
       "      <td>7.894242</td>\n",
       "      <td>-500.356035</td>\n",
       "      <td>13.996647</td>\n",
       "      <td>-601.496691</td>\n",
       "    </tr>\n",
       "  </tbody>\n",
       "</table>\n",
       "<p>5 rows × 87 columns</p>\n",
       "</div>"
      ],
      "text/plain": [
       "                  date  final.output.concentrate_ag  \\\n",
       "0  2016-01-15 00:00:00                     6.055403   \n",
       "1  2016-01-15 01:00:00                     6.029369   \n",
       "2  2016-01-15 02:00:00                     6.055926   \n",
       "3  2016-01-15 03:00:00                     6.047977   \n",
       "4  2016-01-15 04:00:00                     6.148599   \n",
       "\n",
       "   final.output.concentrate_pb  final.output.concentrate_sol  \\\n",
       "0                     9.889648                      5.507324   \n",
       "1                     9.968944                      5.257781   \n",
       "2                    10.213995                      5.383759   \n",
       "3                     9.977019                      4.858634   \n",
       "4                    10.142511                      4.939416   \n",
       "\n",
       "   final.output.concentrate_au  final.output.recovery  final.output.tail_ag  \\\n",
       "0                    42.192020              70.541216             10.411962   \n",
       "1                    42.701629              69.266198             10.462676   \n",
       "2                    42.657501              68.116445             10.507046   \n",
       "3                    42.689819              68.347543             10.422762   \n",
       "4                    42.774141              66.927016             10.360302   \n",
       "\n",
       "   final.output.tail_pb  final.output.tail_sol  final.output.tail_au  ...  \\\n",
       "0              0.895447              16.904297              2.143149  ...   \n",
       "1              0.927452              16.634514              2.224930  ...   \n",
       "2              0.953716              16.208849              2.257889  ...   \n",
       "3              0.883763              16.532835              2.146849  ...   \n",
       "4              0.792826              16.525686              2.055292  ...   \n",
       "\n",
       "   secondary_cleaner.state.floatbank4_a_air  \\\n",
       "0                                 14.016835   \n",
       "1                                 13.992281   \n",
       "2                                 14.015015   \n",
       "3                                 14.036510   \n",
       "4                                 14.027298   \n",
       "\n",
       "   secondary_cleaner.state.floatbank4_a_level  \\\n",
       "0                                 -502.488007   \n",
       "1                                 -505.503262   \n",
       "2                                 -502.520901   \n",
       "3                                 -500.857308   \n",
       "4                                 -499.838632   \n",
       "\n",
       "   secondary_cleaner.state.floatbank4_b_air  \\\n",
       "0                                 12.099931   \n",
       "1                                 11.950531   \n",
       "2                                 11.912783   \n",
       "3                                 11.999550   \n",
       "4                                 11.953070   \n",
       "\n",
       "   secondary_cleaner.state.floatbank4_b_level  \\\n",
       "0                                 -504.715942   \n",
       "1                                 -501.331529   \n",
       "2                                 -501.133383   \n",
       "3                                 -501.193686   \n",
       "4                                 -501.053894   \n",
       "\n",
       "   secondary_cleaner.state.floatbank5_a_air  \\\n",
       "0                                  9.925633   \n",
       "1                                 10.039245   \n",
       "2                                 10.070913   \n",
       "3                                  9.970366   \n",
       "4                                  9.925709   \n",
       "\n",
       "   secondary_cleaner.state.floatbank5_a_level  \\\n",
       "0                                 -498.310211   \n",
       "1                                 -500.169983   \n",
       "2                                 -500.129135   \n",
       "3                                 -499.201640   \n",
       "4                                 -501.686727   \n",
       "\n",
       "   secondary_cleaner.state.floatbank5_b_air  \\\n",
       "0                                  8.079666   \n",
       "1                                  7.984757   \n",
       "2                                  8.013877   \n",
       "3                                  7.977324   \n",
       "4                                  7.894242   \n",
       "\n",
       "   secondary_cleaner.state.floatbank5_b_level  \\\n",
       "0                                 -500.470978   \n",
       "1                                 -500.582168   \n",
       "2                                 -500.517572   \n",
       "3                                 -500.255908   \n",
       "4                                 -500.356035   \n",
       "\n",
       "   secondary_cleaner.state.floatbank6_a_air  \\\n",
       "0                                 14.151341   \n",
       "1                                 13.998353   \n",
       "2                                 14.028663   \n",
       "3                                 14.005551   \n",
       "4                                 13.996647   \n",
       "\n",
       "   secondary_cleaner.state.floatbank6_a_level  \n",
       "0                                 -605.841980  \n",
       "1                                 -599.787184  \n",
       "2                                 -601.427363  \n",
       "3                                 -599.996129  \n",
       "4                                 -601.496691  \n",
       "\n",
       "[5 rows x 87 columns]"
      ]
     },
     "metadata": {},
     "output_type": "display_data"
    },
    {
     "name": "stdout",
     "output_type": "stream",
     "text": [
      "Пропущенных значений в столбце final.output.concentrate_ag: 1\n",
      "Пропущенных значений в столбце final.output.concentrate_pb: 1\n",
      "Пропущенных значений в столбце final.output.concentrate_sol: 211\n",
      "Пропущенных значений в столбце final.output.tail_ag: 1\n",
      "Пропущенных значений в столбце final.output.tail_pb: 101\n",
      "Пропущенных значений в столбце final.output.tail_sol: 6\n",
      "Пропущенных значений в столбце primary_cleaner.input.sulfate: 24\n",
      "Пропущенных значений в столбце primary_cleaner.input.depressant: 37\n",
      "Пропущенных значений в столбце primary_cleaner.input.xanthate: 104\n",
      "Пропущенных значений в столбце primary_cleaner.output.concentrate_pb: 116\n",
      "Пропущенных значений в столбце primary_cleaner.output.concentrate_sol: 370\n",
      "Пропущенных значений в столбце primary_cleaner.output.tail_ag: 4\n",
      "Пропущенных значений в столбце primary_cleaner.output.tail_pb: 21\n",
      "Пропущенных значений в столбце primary_cleaner.output.tail_sol: 62\n",
      "Пропущенных значений в столбце primary_cleaner.state.floatbank8_a_air: 4\n",
      "Пропущенных значений в столбце primary_cleaner.state.floatbank8_a_level: 1\n",
      "Пропущенных значений в столбце primary_cleaner.state.floatbank8_b_air: 4\n",
      "Пропущенных значений в столбце primary_cleaner.state.floatbank8_b_level: 1\n",
      "Пропущенных значений в столбце primary_cleaner.state.floatbank8_c_air: 2\n",
      "Пропущенных значений в столбце primary_cleaner.state.floatbank8_c_level: 1\n",
      "Пропущенных значений в столбце primary_cleaner.state.floatbank8_d_air: 3\n",
      "Пропущенных значений в столбце primary_cleaner.state.floatbank8_d_level: 1\n",
      "Пропущенных значений в столбце rougher.calculation.sulfate_to_au_concentrate: 2\n",
      "Пропущенных значений в столбце rougher.calculation.floatbank10_sulfate_to_au_feed: 2\n",
      "Пропущенных значений в столбце rougher.calculation.floatbank11_sulfate_to_au_feed: 2\n",
      "Пропущенных значений в столбце rougher.input.feed_pb: 100\n",
      "Пропущенных значений в столбце rougher.input.feed_rate: 11\n",
      "Пропущенных значений в столбце rougher.input.feed_size: 145\n",
      "Пропущенных значений в столбце rougher.input.feed_sol: 99\n",
      "Пропущенных значений в столбце rougher.input.floatbank10_sulfate: 34\n",
      "Пропущенных значений в столбце rougher.input.floatbank10_xanthate: 8\n",
      "Пропущенных значений в столбце rougher.input.floatbank11_sulfate: 44\n",
      "Пропущенных значений в столбце rougher.input.floatbank11_xanthate: 453\n",
      "Пропущенных значений в столбце rougher.output.concentrate_sol: 23\n",
      "Пропущенных значений в столбце rougher.output.tail_ag: 1\n",
      "Пропущенных значений в столбце rougher.state.floatbank10_a_air: 1\n",
      "Пропущенных значений в столбце rougher.state.floatbank10_a_level: 1\n",
      "Пропущенных значений в столбце rougher.state.floatbank10_b_air: 1\n",
      "Пропущенных значений в столбце rougher.state.floatbank10_b_level: 1\n",
      "Пропущенных значений в столбце rougher.state.floatbank10_c_air: 1\n",
      "Пропущенных значений в столбце rougher.state.floatbank10_c_level: 1\n",
      "Пропущенных значений в столбце rougher.state.floatbank10_e_air: 436\n",
      "Пропущенных значений в столбце secondary_cleaner.output.tail_ag: 2\n",
      "Пропущенных значений в столбце secondary_cleaner.output.tail_pb: 12\n",
      "Пропущенных значений в столбце secondary_cleaner.output.tail_sol: 1748\n",
      "Пропущенных значений в столбце secondary_cleaner.state.floatbank2_a_air: 220\n",
      "Пропущенных значений в столбце secondary_cleaner.state.floatbank2_a_level: 1\n",
      "Пропущенных значений в столбце secondary_cleaner.state.floatbank2_b_air: 23\n",
      "Пропущенных значений в столбце secondary_cleaner.state.floatbank2_b_level: 1\n",
      "Пропущенных значений в столбце secondary_cleaner.state.floatbank3_a_air: 13\n",
      "Пропущенных значений в столбце secondary_cleaner.state.floatbank3_a_level: 1\n",
      "Пропущенных значений в столбце secondary_cleaner.state.floatbank3_b_air: 1\n",
      "Пропущенных значений в столбце secondary_cleaner.state.floatbank3_b_level: 1\n",
      "Пропущенных значений в столбце secondary_cleaner.state.floatbank4_a_air: 6\n",
      "Пропущенных значений в столбце secondary_cleaner.state.floatbank4_a_level: 1\n",
      "Пропущенных значений в столбце secondary_cleaner.state.floatbank4_b_air: 1\n",
      "Пропущенных значений в столбце secondary_cleaner.state.floatbank4_b_level: 1\n",
      "Пропущенных значений в столбце secondary_cleaner.state.floatbank5_a_air: 1\n",
      "Пропущенных значений в столбце secondary_cleaner.state.floatbank5_a_level: 1\n",
      "Пропущенных значений в столбце secondary_cleaner.state.floatbank5_b_air: 1\n",
      "Пропущенных значений в столбце secondary_cleaner.state.floatbank5_b_level: 1\n",
      "Пропущенных значений в столбце secondary_cleaner.state.floatbank6_a_air: 2\n",
      "Пропущенных значений в столбце secondary_cleaner.state.floatbank6_a_level: 1\n",
      "Повторов в таблице 0\n"
     ]
    }
   ],
   "source": [
    "summary(full)"
   ]
  },
  {
   "cell_type": "markdown",
   "id": "70bce79d",
   "metadata": {},
   "source": [
    "### Проверка эффективности обогащения"
   ]
  },
  {
   "cell_type": "markdown",
   "id": "926a37d2",
   "metadata": {},
   "source": [
    "Проверим, что эффективность обогащения рассчитана правильно. Вычислим её на обучающей выборке для признака rougher.output.recovery. Найдём MAE между расчётами и значением признака."
   ]
  },
  {
   "cell_type": "code",
   "execution_count": 10,
   "id": "45a42475",
   "metadata": {},
   "outputs": [],
   "source": [
    "# вычислим эффективность обогащения\n",
    "train['rougher.output.recovery_calc'] = ((train['rougher.output.concentrate_au'] * (train['rougher.input.feed_au'] \n",
    "                                                                                 - train['rougher.output.tail_au']))\n",
    "                                        /(train['rougher.input.feed_au'] * (train['rougher.output.concentrate_au'] \n",
    "                                                                           - train['rougher.output.tail_au']))) * 100"
   ]
  },
  {
   "cell_type": "markdown",
   "id": "1887274e",
   "metadata": {},
   "source": [
    "Найдём среднюю абсолютную ошибку между вычисленным значением и значением признака."
   ]
  },
  {
   "cell_type": "code",
   "execution_count": 11,
   "id": "96447b53",
   "metadata": {},
   "outputs": [
    {
     "data": {
      "text/plain": [
       "9.73512347450521e-15"
      ]
     },
     "execution_count": 11,
     "metadata": {},
     "output_type": "execute_result"
    }
   ],
   "source": [
    "# вычисляем MAE\n",
    "mean_absolute_error(train['rougher.output.recovery'], train['rougher.output.recovery_calc'])"
   ]
  },
  {
   "cell_type": "markdown",
   "id": "c3cf94c1",
   "metadata": {},
   "source": [
    "Средняя абсолютная ошибка равна 0. Значит ффективность обогащения рассчитана правильно."
   ]
  },
  {
   "cell_type": "markdown",
   "id": "92e703d1",
   "metadata": {},
   "source": [
    "### Анализ недостуных признаков в тестовой выборке"
   ]
  },
  {
   "cell_type": "markdown",
   "id": "3e46270e",
   "metadata": {},
   "source": [
    "В тестовой выборке недоступны 34 признака. Т.е. доступны только входные параметры сырья/реагентов для этапов флотации и первичной - вторичной очистки. Так же недоступны праметры финального(выходного) этапа. Недоступные параметры относятся к типу - параметры продукта. Т.к. для обучения модели и для её проверки, количество признаков должно быть одинаково, удалим в тренировочной выборке признаки, которых нет в тестовой."
   ]
  },
  {
   "cell_type": "code",
   "execution_count": 12,
   "id": "c05ec5ed",
   "metadata": {},
   "outputs": [],
   "source": [
    "train = train[test.columns.tolist() + ['rougher.output.recovery', 'final.output.recovery']]"
   ]
  },
  {
   "cell_type": "markdown",
   "id": "32804187",
   "metadata": {},
   "source": [
    "### Предобработка данных"
   ]
  },
  {
   "cell_type": "markdown",
   "id": "f642bf9e",
   "metadata": {},
   "source": [
    "#### Обработка пропусков"
   ]
  },
  {
   "cell_type": "markdown",
   "id": "f96f703b",
   "metadata": {},
   "source": [
    "Из условия задачи сказано, что соседние по времени параметры часто похожи. Произведём замену пропусков с помощью метода ffill."
   ]
  },
  {
   "cell_type": "code",
   "execution_count": 13,
   "id": "72c5e22d",
   "metadata": {},
   "outputs": [],
   "source": [
    "#заменяем пропуски в тренировочной выборке\n",
    "train = train.fillna(method='ffill')"
   ]
  },
  {
   "cell_type": "code",
   "execution_count": 14,
   "id": "33fb4d47",
   "metadata": {},
   "outputs": [],
   "source": [
    "#заменяем пропуски в тестовой выборке\n",
    "test = test.fillna(method='ffill')"
   ]
  },
  {
   "cell_type": "code",
   "execution_count": 15,
   "id": "ccc2db89",
   "metadata": {},
   "outputs": [],
   "source": [
    "# заменяем пропуски в исходном датасете\n",
    "full = full.fillna(method='ffill')"
   ]
  },
  {
   "cell_type": "markdown",
   "id": "53a6cef4",
   "metadata": {},
   "source": [
    "#### Взаимосвязь данных"
   ]
  },
  {
   "cell_type": "markdown",
   "id": "b06098db",
   "metadata": {},
   "source": [
    "Посмотрим на взаимосвязь целевого признака и признаков. Найдём корреляцию между ними на обучающей выборке, т.к. она самая большая и если там найдется корреляция она наверняка будет и на всех данных."
   ]
  },
  {
   "cell_type": "code",
   "execution_count": 16,
   "id": "f71e38ce",
   "metadata": {},
   "outputs": [
    {
     "data": {
      "text/html": [
       "<style  type=\"text/css\" >\n",
       "#T_e0af9_row0_col1{\n",
       "            background-color:  #b40426;\n",
       "            color:  #f1f1f1;\n",
       "        }#T_e0af9_row1_col1{\n",
       "            background-color:  #bcd2f7;\n",
       "            color:  #000000;\n",
       "        }#T_e0af9_row2_col1{\n",
       "            background-color:  #abc8fd;\n",
       "            color:  #000000;\n",
       "        }#T_e0af9_row3_col1{\n",
       "            background-color:  #a5c3fe;\n",
       "            color:  #000000;\n",
       "        }#T_e0af9_row4_col1{\n",
       "            background-color:  #a2c1ff;\n",
       "            color:  #000000;\n",
       "        }#T_e0af9_row5_col1{\n",
       "            background-color:  #a1c0ff;\n",
       "            color:  #000000;\n",
       "        }#T_e0af9_row6_col1{\n",
       "            background-color:  #9abbff;\n",
       "            color:  #000000;\n",
       "        }#T_e0af9_row7_col1,#T_e0af9_row8_col1{\n",
       "            background-color:  #92b4fe;\n",
       "            color:  #000000;\n",
       "        }#T_e0af9_row9_col1{\n",
       "            background-color:  #90b2fe;\n",
       "            color:  #000000;\n",
       "        }#T_e0af9_row10_col1{\n",
       "            background-color:  #8db0fe;\n",
       "            color:  #000000;\n",
       "        }#T_e0af9_row11_col1,#T_e0af9_row12_col1,#T_e0af9_row13_col1{\n",
       "            background-color:  #8caffe;\n",
       "            color:  #000000;\n",
       "        }#T_e0af9_row14_col1{\n",
       "            background-color:  #88abfd;\n",
       "            color:  #000000;\n",
       "        }#T_e0af9_row15_col1{\n",
       "            background-color:  #86a9fc;\n",
       "            color:  #000000;\n",
       "        }#T_e0af9_row16_col1,#T_e0af9_row17_col1{\n",
       "            background-color:  #81a4fb;\n",
       "            color:  #000000;\n",
       "        }#T_e0af9_row18_col1{\n",
       "            background-color:  #799cf8;\n",
       "            color:  #000000;\n",
       "        }#T_e0af9_row19_col1{\n",
       "            background-color:  #779af7;\n",
       "            color:  #000000;\n",
       "        }#T_e0af9_row20_col1{\n",
       "            background-color:  #7597f6;\n",
       "            color:  #000000;\n",
       "        }#T_e0af9_row21_col1,#T_e0af9_row22_col1{\n",
       "            background-color:  #7093f3;\n",
       "            color:  #000000;\n",
       "        }#T_e0af9_row23_col1,#T_e0af9_row24_col1,#T_e0af9_row25_col1{\n",
       "            background-color:  #6687ed;\n",
       "            color:  #000000;\n",
       "        }#T_e0af9_row26_col1,#T_e0af9_row27_col1{\n",
       "            background-color:  #6384eb;\n",
       "            color:  #000000;\n",
       "        }#T_e0af9_row28_col1,#T_e0af9_row29_col1{\n",
       "            background-color:  #6282ea;\n",
       "            color:  #000000;\n",
       "        }#T_e0af9_row30_col1{\n",
       "            background-color:  #5f7fe8;\n",
       "            color:  #000000;\n",
       "        }#T_e0af9_row31_col1{\n",
       "            background-color:  #5b7ae5;\n",
       "            color:  #000000;\n",
       "        }#T_e0af9_row32_col1,#T_e0af9_row33_col1,#T_e0af9_row34_col1,#T_e0af9_row35_col1{\n",
       "            background-color:  #5875e1;\n",
       "            color:  #000000;\n",
       "        }#T_e0af9_row36_col1{\n",
       "            background-color:  #536edd;\n",
       "            color:  #000000;\n",
       "        }#T_e0af9_row37_col1{\n",
       "            background-color:  #506bda;\n",
       "            color:  #000000;\n",
       "        }#T_e0af9_row38_col1{\n",
       "            background-color:  #4f69d9;\n",
       "            color:  #000000;\n",
       "        }#T_e0af9_row39_col1,#T_e0af9_row40_col1{\n",
       "            background-color:  #4c66d6;\n",
       "            color:  #000000;\n",
       "        }#T_e0af9_row41_col1{\n",
       "            background-color:  #465ecf;\n",
       "            color:  #f1f1f1;\n",
       "        }#T_e0af9_row42_col1{\n",
       "            background-color:  #455cce;\n",
       "            color:  #f1f1f1;\n",
       "        }#T_e0af9_row43_col1{\n",
       "            background-color:  #4358cb;\n",
       "            color:  #f1f1f1;\n",
       "        }#T_e0af9_row44_col1,#T_e0af9_row45_col1{\n",
       "            background-color:  #4257c9;\n",
       "            color:  #f1f1f1;\n",
       "        }#T_e0af9_row46_col1,#T_e0af9_row47_col1,#T_e0af9_row48_col1{\n",
       "            background-color:  #4055c8;\n",
       "            color:  #f1f1f1;\n",
       "        }#T_e0af9_row49_col1,#T_e0af9_row50_col1{\n",
       "            background-color:  #3f53c6;\n",
       "            color:  #f1f1f1;\n",
       "        }#T_e0af9_row51_col1{\n",
       "            background-color:  #3d50c3;\n",
       "            color:  #f1f1f1;\n",
       "        }#T_e0af9_row52_col1,#T_e0af9_row53_col1{\n",
       "            background-color:  #3b4cc0;\n",
       "            color:  #f1f1f1;\n",
       "        }</style><table id=\"T_e0af9_\" ><thead>    <tr>        <th class=\"blank level0\" ></th>        <th class=\"col_heading level0 col0\" >index</th>        <th class=\"col_heading level0 col1\" >rougher.output.recovery</th>    </tr></thead><tbody>\n",
       "                <tr>\n",
       "                        <th id=\"T_e0af9_level0_row0\" class=\"row_heading level0 row0\" >0</th>\n",
       "                        <td id=\"T_e0af9_row0_col0\" class=\"data row0 col0\" >rougher.output.recovery</td>\n",
       "                        <td id=\"T_e0af9_row0_col1\" class=\"data row0 col1\" >1.000000</td>\n",
       "            </tr>\n",
       "            <tr>\n",
       "                        <th id=\"T_e0af9_level0_row1\" class=\"row_heading level0 row1\" >1</th>\n",
       "                        <td id=\"T_e0af9_row1_col0\" class=\"data row1 col0\" >final.output.recovery</td>\n",
       "                        <td id=\"T_e0af9_row1_col1\" class=\"data row1 col1\" >0.328307</td>\n",
       "            </tr>\n",
       "            <tr>\n",
       "                        <th id=\"T_e0af9_level0_row2\" class=\"row_heading level0 row2\" >2</th>\n",
       "                        <td id=\"T_e0af9_row2_col0\" class=\"data row2 col0\" >primary_cleaner.input.sulfate</td>\n",
       "                        <td id=\"T_e0af9_row2_col1\" class=\"data row2 col1\" >0.272823</td>\n",
       "            </tr>\n",
       "            <tr>\n",
       "                        <th id=\"T_e0af9_level0_row3\" class=\"row_heading level0 row3\" >3</th>\n",
       "                        <td id=\"T_e0af9_row3_col0\" class=\"data row3 col0\" >secondary_cleaner.state.floatbank4_a_air</td>\n",
       "                        <td id=\"T_e0af9_row3_col1\" class=\"data row3 col1\" >0.250773</td>\n",
       "            </tr>\n",
       "            <tr>\n",
       "                        <th id=\"T_e0af9_level0_row4\" class=\"row_heading level0 row4\" >4</th>\n",
       "                        <td id=\"T_e0af9_row4_col0\" class=\"data row4 col0\" >secondary_cleaner.state.floatbank4_b_air</td>\n",
       "                        <td id=\"T_e0af9_row4_col1\" class=\"data row4 col1\" >0.240501</td>\n",
       "            </tr>\n",
       "            <tr>\n",
       "                        <th id=\"T_e0af9_level0_row5\" class=\"row_heading level0 row5\" >5</th>\n",
       "                        <td id=\"T_e0af9_row5_col0\" class=\"data row5 col0\" >rougher.input.floatbank10_xanthate</td>\n",
       "                        <td id=\"T_e0af9_row5_col1\" class=\"data row5 col1\" >0.238468</td>\n",
       "            </tr>\n",
       "            <tr>\n",
       "                        <th id=\"T_e0af9_level0_row6\" class=\"row_heading level0 row6\" >6</th>\n",
       "                        <td id=\"T_e0af9_row6_col0\" class=\"data row6 col0\" >rougher.input.floatbank11_xanthate</td>\n",
       "                        <td id=\"T_e0af9_row6_col1\" class=\"data row6 col1\" >0.216100</td>\n",
       "            </tr>\n",
       "            <tr>\n",
       "                        <th id=\"T_e0af9_level0_row7\" class=\"row_heading level0 row7\" >7</th>\n",
       "                        <td id=\"T_e0af9_row7_col0\" class=\"data row7 col0\" >secondary_cleaner.state.floatbank3_a_air</td>\n",
       "                        <td id=\"T_e0af9_row7_col1\" class=\"data row7 col1\" >0.190365</td>\n",
       "            </tr>\n",
       "            <tr>\n",
       "                        <th id=\"T_e0af9_level0_row8\" class=\"row_heading level0 row8\" >8</th>\n",
       "                        <td id=\"T_e0af9_row8_col0\" class=\"data row8 col0\" >secondary_cleaner.state.floatbank5_a_air</td>\n",
       "                        <td id=\"T_e0af9_row8_col1\" class=\"data row8 col1\" >0.189475</td>\n",
       "            </tr>\n",
       "            <tr>\n",
       "                        <th id=\"T_e0af9_level0_row9\" class=\"row_heading level0 row9\" >9</th>\n",
       "                        <td id=\"T_e0af9_row9_col0\" class=\"data row9 col0\" >rougher.input.feed_sol</td>\n",
       "                        <td id=\"T_e0af9_row9_col1\" class=\"data row9 col1\" >0.184105</td>\n",
       "            </tr>\n",
       "            <tr>\n",
       "                        <th id=\"T_e0af9_level0_row10\" class=\"row_heading level0 row10\" >10</th>\n",
       "                        <td id=\"T_e0af9_row10_col0\" class=\"data row10 col0\" >rougher.input.feed_ag</td>\n",
       "                        <td id=\"T_e0af9_row10_col1\" class=\"data row10 col1\" >0.176421</td>\n",
       "            </tr>\n",
       "            <tr>\n",
       "                        <th id=\"T_e0af9_level0_row11\" class=\"row_heading level0 row11\" >11</th>\n",
       "                        <td id=\"T_e0af9_row11_col0\" class=\"data row11 col0\" >rougher.input.feed_pb</td>\n",
       "                        <td id=\"T_e0af9_row11_col1\" class=\"data row11 col1\" >0.173314</td>\n",
       "            </tr>\n",
       "            <tr>\n",
       "                        <th id=\"T_e0af9_level0_row12\" class=\"row_heading level0 row12\" >12</th>\n",
       "                        <td id=\"T_e0af9_row12_col0\" class=\"data row12 col0\" >rougher.state.floatbank10_a_air</td>\n",
       "                        <td id=\"T_e0af9_row12_col1\" class=\"data row12 col1\" >0.173309</td>\n",
       "            </tr>\n",
       "            <tr>\n",
       "                        <th id=\"T_e0af9_level0_row13\" class=\"row_heading level0 row13\" >13</th>\n",
       "                        <td id=\"T_e0af9_row13_col0\" class=\"data row13 col0\" >secondary_cleaner.state.floatbank5_b_air</td>\n",
       "                        <td id=\"T_e0af9_row13_col1\" class=\"data row13 col1\" >0.171910</td>\n",
       "            </tr>\n",
       "            <tr>\n",
       "                        <th id=\"T_e0af9_level0_row14\" class=\"row_heading level0 row14\" >14</th>\n",
       "                        <td id=\"T_e0af9_row14_col0\" class=\"data row14 col0\" >secondary_cleaner.state.floatbank2_a_air</td>\n",
       "                        <td id=\"T_e0af9_row14_col1\" class=\"data row14 col1\" >0.157805</td>\n",
       "            </tr>\n",
       "            <tr>\n",
       "                        <th id=\"T_e0af9_level0_row15\" class=\"row_heading level0 row15\" >15</th>\n",
       "                        <td id=\"T_e0af9_row15_col0\" class=\"data row15 col0\" >rougher.input.feed_au</td>\n",
       "                        <td id=\"T_e0af9_row15_col1\" class=\"data row15 col1\" >0.156173</td>\n",
       "            </tr>\n",
       "            <tr>\n",
       "                        <th id=\"T_e0af9_level0_row16\" class=\"row_heading level0 row16\" >16</th>\n",
       "                        <td id=\"T_e0af9_row16_col0\" class=\"data row16 col0\" >secondary_cleaner.state.floatbank2_b_air</td>\n",
       "                        <td id=\"T_e0af9_row16_col1\" class=\"data row16 col1\" >0.139664</td>\n",
       "            </tr>\n",
       "            <tr>\n",
       "                        <th id=\"T_e0af9_level0_row17\" class=\"row_heading level0 row17\" >17</th>\n",
       "                        <td id=\"T_e0af9_row17_col0\" class=\"data row17 col0\" >rougher.state.floatbank10_a_level</td>\n",
       "                        <td id=\"T_e0af9_row17_col1\" class=\"data row17 col1\" >0.136466</td>\n",
       "            </tr>\n",
       "            <tr>\n",
       "                        <th id=\"T_e0af9_level0_row18\" class=\"row_heading level0 row18\" >18</th>\n",
       "                        <td id=\"T_e0af9_row18_col0\" class=\"data row18 col0\" >primary_cleaner.state.floatbank8_c_air</td>\n",
       "                        <td id=\"T_e0af9_row18_col1\" class=\"data row18 col1\" >0.114148</td>\n",
       "            </tr>\n",
       "            <tr>\n",
       "                        <th id=\"T_e0af9_level0_row19\" class=\"row_heading level0 row19\" >19</th>\n",
       "                        <td id=\"T_e0af9_row19_col0\" class=\"data row19 col0\" >primary_cleaner.input.xanthate</td>\n",
       "                        <td id=\"T_e0af9_row19_col1\" class=\"data row19 col1\" >0.106701</td>\n",
       "            </tr>\n",
       "            <tr>\n",
       "                        <th id=\"T_e0af9_level0_row20\" class=\"row_heading level0 row20\" >20</th>\n",
       "                        <td id=\"T_e0af9_row20_col0\" class=\"data row20 col0\" >primary_cleaner.state.floatbank8_b_air</td>\n",
       "                        <td id=\"T_e0af9_row20_col1\" class=\"data row20 col1\" >0.100831</td>\n",
       "            </tr>\n",
       "            <tr>\n",
       "                        <th id=\"T_e0af9_level0_row21\" class=\"row_heading level0 row21\" >21</th>\n",
       "                        <td id=\"T_e0af9_row21_col0\" class=\"data row21 col0\" >primary_cleaner.state.floatbank8_a_air</td>\n",
       "                        <td id=\"T_e0af9_row21_col1\" class=\"data row21 col1\" >0.087111</td>\n",
       "            </tr>\n",
       "            <tr>\n",
       "                        <th id=\"T_e0af9_level0_row22\" class=\"row_heading level0 row22\" >22</th>\n",
       "                        <td id=\"T_e0af9_row22_col0\" class=\"data row22 col0\" >rougher.input.feed_rate</td>\n",
       "                        <td id=\"T_e0af9_row22_col1\" class=\"data row22 col1\" >0.086685</td>\n",
       "            </tr>\n",
       "            <tr>\n",
       "                        <th id=\"T_e0af9_level0_row23\" class=\"row_heading level0 row23\" >23</th>\n",
       "                        <td id=\"T_e0af9_row23_col0\" class=\"data row23 col0\" >secondary_cleaner.state.floatbank3_b_air</td>\n",
       "                        <td id=\"T_e0af9_row23_col1\" class=\"data row23 col1\" >0.054296</td>\n",
       "            </tr>\n",
       "            <tr>\n",
       "                        <th id=\"T_e0af9_level0_row24\" class=\"row_heading level0 row24\" >24</th>\n",
       "                        <td id=\"T_e0af9_row24_col0\" class=\"data row24 col0\" >secondary_cleaner.state.floatbank4_a_level</td>\n",
       "                        <td id=\"T_e0af9_row24_col1\" class=\"data row24 col1\" >0.051893</td>\n",
       "            </tr>\n",
       "            <tr>\n",
       "                        <th id=\"T_e0af9_level0_row25\" class=\"row_heading level0 row25\" >25</th>\n",
       "                        <td id=\"T_e0af9_row25_col0\" class=\"data row25 col0\" >rougher.input.feed_size</td>\n",
       "                        <td id=\"T_e0af9_row25_col1\" class=\"data row25 col1\" >0.051702</td>\n",
       "            </tr>\n",
       "            <tr>\n",
       "                        <th id=\"T_e0af9_level0_row26\" class=\"row_heading level0 row26\" >26</th>\n",
       "                        <td id=\"T_e0af9_row26_col0\" class=\"data row26 col0\" >primary_cleaner.state.floatbank8_a_level</td>\n",
       "                        <td id=\"T_e0af9_row26_col1\" class=\"data row26 col1\" >0.043377</td>\n",
       "            </tr>\n",
       "            <tr>\n",
       "                        <th id=\"T_e0af9_level0_row27\" class=\"row_heading level0 row27\" >27</th>\n",
       "                        <td id=\"T_e0af9_row27_col0\" class=\"data row27 col0\" >primary_cleaner.state.floatbank8_c_level</td>\n",
       "                        <td id=\"T_e0af9_row27_col1\" class=\"data row27 col1\" >0.043249</td>\n",
       "            </tr>\n",
       "            <tr>\n",
       "                        <th id=\"T_e0af9_level0_row28\" class=\"row_heading level0 row28\" >28</th>\n",
       "                        <td id=\"T_e0af9_row28_col0\" class=\"data row28 col0\" >primary_cleaner.input.depressant</td>\n",
       "                        <td id=\"T_e0af9_row28_col1\" class=\"data row28 col1\" >0.041395</td>\n",
       "            </tr>\n",
       "            <tr>\n",
       "                        <th id=\"T_e0af9_level0_row29\" class=\"row_heading level0 row29\" >29</th>\n",
       "                        <td id=\"T_e0af9_row29_col0\" class=\"data row29 col0\" >primary_cleaner.state.floatbank8_b_level</td>\n",
       "                        <td id=\"T_e0af9_row29_col1\" class=\"data row29 col1\" >0.039777</td>\n",
       "            </tr>\n",
       "            <tr>\n",
       "                        <th id=\"T_e0af9_level0_row30\" class=\"row_heading level0 row30\" >30</th>\n",
       "                        <td id=\"T_e0af9_row30_col0\" class=\"data row30 col0\" >secondary_cleaner.state.floatbank5_b_level</td>\n",
       "                        <td id=\"T_e0af9_row30_col1\" class=\"data row30 col1\" >0.030658</td>\n",
       "            </tr>\n",
       "            <tr>\n",
       "                        <th id=\"T_e0af9_level0_row31\" class=\"row_heading level0 row31\" >31</th>\n",
       "                        <td id=\"T_e0af9_row31_col0\" class=\"data row31 col0\" >secondary_cleaner.state.floatbank6_a_air</td>\n",
       "                        <td id=\"T_e0af9_row31_col1\" class=\"data row31 col1\" >0.019233</td>\n",
       "            </tr>\n",
       "            <tr>\n",
       "                        <th id=\"T_e0af9_level0_row32\" class=\"row_heading level0 row32\" >32</th>\n",
       "                        <td id=\"T_e0af9_row32_col0\" class=\"data row32 col0\" >secondary_cleaner.state.floatbank3_a_level</td>\n",
       "                        <td id=\"T_e0af9_row32_col1\" class=\"data row32 col1\" >0.006491</td>\n",
       "            </tr>\n",
       "            <tr>\n",
       "                        <th id=\"T_e0af9_level0_row33\" class=\"row_heading level0 row33\" >33</th>\n",
       "                        <td id=\"T_e0af9_row33_col0\" class=\"data row33 col0\" >secondary_cleaner.state.floatbank5_a_level</td>\n",
       "                        <td id=\"T_e0af9_row33_col1\" class=\"data row33 col1\" >0.005940</td>\n",
       "            </tr>\n",
       "            <tr>\n",
       "                        <th id=\"T_e0af9_level0_row34\" class=\"row_heading level0 row34\" >34</th>\n",
       "                        <td id=\"T_e0af9_row34_col0\" class=\"data row34 col0\" >primary_cleaner.state.floatbank8_d_air</td>\n",
       "                        <td id=\"T_e0af9_row34_col1\" class=\"data row34 col1\" >0.005463</td>\n",
       "            </tr>\n",
       "            <tr>\n",
       "                        <th id=\"T_e0af9_level0_row35\" class=\"row_heading level0 row35\" >35</th>\n",
       "                        <td id=\"T_e0af9_row35_col0\" class=\"data row35 col0\" >primary_cleaner.state.floatbank8_d_level</td>\n",
       "                        <td id=\"T_e0af9_row35_col1\" class=\"data row35 col1\" >0.005309</td>\n",
       "            </tr>\n",
       "            <tr>\n",
       "                        <th id=\"T_e0af9_level0_row36\" class=\"row_heading level0 row36\" >36</th>\n",
       "                        <td id=\"T_e0af9_row36_col0\" class=\"data row36 col0\" >primary_cleaner.input.feed_size</td>\n",
       "                        <td id=\"T_e0af9_row36_col1\" class=\"data row36 col1\" >-0.012795</td>\n",
       "            </tr>\n",
       "            <tr>\n",
       "                        <th id=\"T_e0af9_level0_row37\" class=\"row_heading level0 row37\" >37</th>\n",
       "                        <td id=\"T_e0af9_row37_col0\" class=\"data row37 col0\" >secondary_cleaner.state.floatbank2_a_level</td>\n",
       "                        <td id=\"T_e0af9_row37_col1\" class=\"data row37 col1\" >-0.020689</td>\n",
       "            </tr>\n",
       "            <tr>\n",
       "                        <th id=\"T_e0af9_level0_row38\" class=\"row_heading level0 row38\" >38</th>\n",
       "                        <td id=\"T_e0af9_row38_col0\" class=\"data row38 col0\" >secondary_cleaner.state.floatbank2_b_level</td>\n",
       "                        <td id=\"T_e0af9_row38_col1\" class=\"data row38 col1\" >-0.025590</td>\n",
       "            </tr>\n",
       "            <tr>\n",
       "                        <th id=\"T_e0af9_level0_row39\" class=\"row_heading level0 row39\" >39</th>\n",
       "                        <td id=\"T_e0af9_row39_col0\" class=\"data row39 col0\" >rougher.state.floatbank10_f_air</td>\n",
       "                        <td id=\"T_e0af9_row39_col1\" class=\"data row39 col1\" >-0.031946</td>\n",
       "            </tr>\n",
       "            <tr>\n",
       "                        <th id=\"T_e0af9_level0_row40\" class=\"row_heading level0 row40\" >40</th>\n",
       "                        <td id=\"T_e0af9_row40_col0\" class=\"data row40 col0\" >secondary_cleaner.state.floatbank3_b_level</td>\n",
       "                        <td id=\"T_e0af9_row40_col1\" class=\"data row40 col1\" >-0.034223</td>\n",
       "            </tr>\n",
       "            <tr>\n",
       "                        <th id=\"T_e0af9_level0_row41\" class=\"row_heading level0 row41\" >41</th>\n",
       "                        <td id=\"T_e0af9_row41_col0\" class=\"data row41 col0\" >secondary_cleaner.state.floatbank6_a_level</td>\n",
       "                        <td id=\"T_e0af9_row41_col1\" class=\"data row41 col1\" >-0.055502</td>\n",
       "            </tr>\n",
       "            <tr>\n",
       "                        <th id=\"T_e0af9_level0_row42\" class=\"row_heading level0 row42\" >42</th>\n",
       "                        <td id=\"T_e0af9_row42_col0\" class=\"data row42 col0\" >secondary_cleaner.state.floatbank4_b_level</td>\n",
       "                        <td id=\"T_e0af9_row42_col1\" class=\"data row42 col1\" >-0.061388</td>\n",
       "            </tr>\n",
       "            <tr>\n",
       "                        <th id=\"T_e0af9_level0_row43\" class=\"row_heading level0 row43\" >43</th>\n",
       "                        <td id=\"T_e0af9_row43_col0\" class=\"data row43 col0\" >rougher.state.floatbank10_e_air</td>\n",
       "                        <td id=\"T_e0af9_row43_col1\" class=\"data row43 col1\" >-0.067713</td>\n",
       "            </tr>\n",
       "            <tr>\n",
       "                        <th id=\"T_e0af9_level0_row44\" class=\"row_heading level0 row44\" >44</th>\n",
       "                        <td id=\"T_e0af9_row44_col0\" class=\"data row44 col0\" >rougher.input.floatbank11_sulfate</td>\n",
       "                        <td id=\"T_e0af9_row44_col1\" class=\"data row44 col1\" >-0.071547</td>\n",
       "            </tr>\n",
       "            <tr>\n",
       "                        <th id=\"T_e0af9_level0_row45\" class=\"row_heading level0 row45\" >45</th>\n",
       "                        <td id=\"T_e0af9_row45_col0\" class=\"data row45 col0\" >rougher.state.floatbank10_b_air</td>\n",
       "                        <td id=\"T_e0af9_row45_col1\" class=\"data row45 col1\" >-0.072852</td>\n",
       "            </tr>\n",
       "            <tr>\n",
       "                        <th id=\"T_e0af9_level0_row46\" class=\"row_heading level0 row46\" >46</th>\n",
       "                        <td id=\"T_e0af9_row46_col0\" class=\"data row46 col0\" >rougher.state.floatbank10_f_level</td>\n",
       "                        <td id=\"T_e0af9_row46_col1\" class=\"data row46 col1\" >-0.077584</td>\n",
       "            </tr>\n",
       "            <tr>\n",
       "                        <th id=\"T_e0af9_level0_row47\" class=\"row_heading level0 row47\" >47</th>\n",
       "                        <td id=\"T_e0af9_row47_col0\" class=\"data row47 col0\" >rougher.state.floatbank10_e_level</td>\n",
       "                        <td id=\"T_e0af9_row47_col1\" class=\"data row47 col1\" >-0.077880</td>\n",
       "            </tr>\n",
       "            <tr>\n",
       "                        <th id=\"T_e0af9_level0_row48\" class=\"row_heading level0 row48\" >48</th>\n",
       "                        <td id=\"T_e0af9_row48_col0\" class=\"data row48 col0\" >rougher.state.floatbank10_b_level</td>\n",
       "                        <td id=\"T_e0af9_row48_col1\" class=\"data row48 col1\" >-0.078499</td>\n",
       "            </tr>\n",
       "            <tr>\n",
       "                        <th id=\"T_e0af9_level0_row49\" class=\"row_heading level0 row49\" >49</th>\n",
       "                        <td id=\"T_e0af9_row49_col0\" class=\"data row49 col0\" >rougher.state.floatbank10_c_level</td>\n",
       "                        <td id=\"T_e0af9_row49_col1\" class=\"data row49 col1\" >-0.079087</td>\n",
       "            </tr>\n",
       "            <tr>\n",
       "                        <th id=\"T_e0af9_level0_row50\" class=\"row_heading level0 row50\" >50</th>\n",
       "                        <td id=\"T_e0af9_row50_col0\" class=\"data row50 col0\" >rougher.state.floatbank10_d_level</td>\n",
       "                        <td id=\"T_e0af9_row50_col1\" class=\"data row50 col1\" >-0.080815</td>\n",
       "            </tr>\n",
       "            <tr>\n",
       "                        <th id=\"T_e0af9_level0_row51\" class=\"row_heading level0 row51\" >51</th>\n",
       "                        <td id=\"T_e0af9_row51_col0\" class=\"data row51 col0\" >rougher.state.floatbank10_d_air</td>\n",
       "                        <td id=\"T_e0af9_row51_col1\" class=\"data row51 col1\" >-0.088645</td>\n",
       "            </tr>\n",
       "            <tr>\n",
       "                        <th id=\"T_e0af9_level0_row52\" class=\"row_heading level0 row52\" >52</th>\n",
       "                        <td id=\"T_e0af9_row52_col0\" class=\"data row52 col0\" >rougher.input.floatbank10_sulfate</td>\n",
       "                        <td id=\"T_e0af9_row52_col1\" class=\"data row52 col1\" >-0.099457</td>\n",
       "            </tr>\n",
       "            <tr>\n",
       "                        <th id=\"T_e0af9_level0_row53\" class=\"row_heading level0 row53\" >53</th>\n",
       "                        <td id=\"T_e0af9_row53_col0\" class=\"data row53 col0\" >rougher.state.floatbank10_c_air</td>\n",
       "                        <td id=\"T_e0af9_row53_col1\" class=\"data row53 col1\" >-0.100282</td>\n",
       "            </tr>\n",
       "    </tbody></table>"
      ],
      "text/plain": [
       "<pandas.io.formats.style.Styler at 0x7f83d9eefaf0>"
      ]
     },
     "execution_count": 16,
     "metadata": {},
     "output_type": "execute_result"
    }
   ],
   "source": [
    "corr = train.corr()\\\n",
    "    .sort_values('rougher.output.recovery', ascending=False)\\\n",
    "    .reset_index()\n",
    "corr[['index', 'rougher.output.recovery']].style.background_gradient('coolwarm')"
   ]
  },
  {
   "cell_type": "markdown",
   "id": "d9961c4c",
   "metadata": {},
   "source": [
    "Из полученной таблицы видно, что нет сильной корреляции между признаками и целевым признаком."
   ]
  },
  {
   "cell_type": "markdown",
   "id": "2638ffd3",
   "metadata": {},
   "source": [
    "**Вывод**\n",
    "\n",
    "* были открыты и изучены обучающая с тестовой выборки и таблица с исходными данными\n",
    "* был проверен расчёт эффективности обогащения чернового концентрата\n",
    "* были заменены пропуски в данных\n",
    "* была исследована зависимость целевого признака от признаков"
   ]
  },
  {
   "cell_type": "markdown",
   "id": "e4340f96",
   "metadata": {},
   "source": [
    "## Анализ данных"
   ]
  },
  {
   "cell_type": "markdown",
   "id": "844b08f0",
   "metadata": {},
   "source": [
    "### Концентрация металлов (Au, Ag, Pb)"
   ]
  },
  {
   "cell_type": "markdown",
   "id": "3d325848",
   "metadata": {},
   "source": [
    "Посмотрим, как меняется концентрация металлов (Au, Ag, Pb) на различных этапах очистки.\n",
    "\n",
    "Посмотрим как меняется концентрация золота на этапах очистки. Создадим датафрейм `full_au` и сохраним в него только значения с концентрацияи золота на различных этапах очистки."
   ]
  },
  {
   "cell_type": "code",
   "execution_count": 17,
   "id": "4c63c889",
   "metadata": {},
   "outputs": [],
   "source": [
    "# создаём full_au и сохраняём в неё нужные столбы\n",
    "full_au = full.iloc[: , [4, 17, 39, 47]].copy() "
   ]
  },
  {
   "cell_type": "code",
   "execution_count": 18,
   "id": "c9505600",
   "metadata": {},
   "outputs": [
    {
     "data": {
      "text/html": [
       "<div>\n",
       "<style scoped>\n",
       "    .dataframe tbody tr th:only-of-type {\n",
       "        vertical-align: middle;\n",
       "    }\n",
       "\n",
       "    .dataframe tbody tr th {\n",
       "        vertical-align: top;\n",
       "    }\n",
       "\n",
       "    .dataframe thead th {\n",
       "        text-align: right;\n",
       "    }\n",
       "</style>\n",
       "<table border=\"1\" class=\"dataframe\">\n",
       "  <thead>\n",
       "    <tr style=\"text-align: right;\">\n",
       "      <th></th>\n",
       "      <th>final.output.concentrate_au</th>\n",
       "      <th>primary_cleaner.output.concentrate_au</th>\n",
       "      <th>rougher.input.feed_au</th>\n",
       "      <th>rougher.output.concentrate_au</th>\n",
       "    </tr>\n",
       "  </thead>\n",
       "  <tbody>\n",
       "    <tr>\n",
       "      <th>count</th>\n",
       "      <td>19439.000000</td>\n",
       "      <td>19439.000000</td>\n",
       "      <td>19439.000000</td>\n",
       "      <td>19439.000000</td>\n",
       "    </tr>\n",
       "    <tr>\n",
       "      <th>mean</th>\n",
       "      <td>44.076513</td>\n",
       "      <td>32.119400</td>\n",
       "      <td>8.266097</td>\n",
       "      <td>19.772000</td>\n",
       "    </tr>\n",
       "    <tr>\n",
       "      <th>std</th>\n",
       "      <td>5.129784</td>\n",
       "      <td>5.627611</td>\n",
       "      <td>1.955092</td>\n",
       "      <td>3.753600</td>\n",
       "    </tr>\n",
       "    <tr>\n",
       "      <th>min</th>\n",
       "      <td>0.000000</td>\n",
       "      <td>0.000000</td>\n",
       "      <td>0.010000</td>\n",
       "      <td>0.000000</td>\n",
       "    </tr>\n",
       "    <tr>\n",
       "      <th>25%</th>\n",
       "      <td>43.402215</td>\n",
       "      <td>30.463140</td>\n",
       "      <td>6.854384</td>\n",
       "      <td>18.802523</td>\n",
       "    </tr>\n",
       "    <tr>\n",
       "      <th>50%</th>\n",
       "      <td>45.011244</td>\n",
       "      <td>32.841295</td>\n",
       "      <td>8.125839</td>\n",
       "      <td>20.280214</td>\n",
       "    </tr>\n",
       "    <tr>\n",
       "      <th>75%</th>\n",
       "      <td>46.275313</td>\n",
       "      <td>35.048006</td>\n",
       "      <td>9.769917</td>\n",
       "      <td>21.717843</td>\n",
       "    </tr>\n",
       "    <tr>\n",
       "      <th>max</th>\n",
       "      <td>52.756638</td>\n",
       "      <td>45.933934</td>\n",
       "      <td>13.731330</td>\n",
       "      <td>28.824507</td>\n",
       "    </tr>\n",
       "  </tbody>\n",
       "</table>\n",
       "</div>"
      ],
      "text/plain": [
       "       final.output.concentrate_au  primary_cleaner.output.concentrate_au  \\\n",
       "count                 19439.000000                           19439.000000   \n",
       "mean                     44.076513                              32.119400   \n",
       "std                       5.129784                               5.627611   \n",
       "min                       0.000000                               0.000000   \n",
       "25%                      43.402215                              30.463140   \n",
       "50%                      45.011244                              32.841295   \n",
       "75%                      46.275313                              35.048006   \n",
       "max                      52.756638                              45.933934   \n",
       "\n",
       "       rougher.input.feed_au  rougher.output.concentrate_au  \n",
       "count           19439.000000                   19439.000000  \n",
       "mean                8.266097                      19.772000  \n",
       "std                 1.955092                       3.753600  \n",
       "min                 0.010000                       0.000000  \n",
       "25%                 6.854384                      18.802523  \n",
       "50%                 8.125839                      20.280214  \n",
       "75%                 9.769917                      21.717843  \n",
       "max                13.731330                      28.824507  "
      ]
     },
     "execution_count": 18,
     "metadata": {},
     "output_type": "execute_result"
    }
   ],
   "source": [
    "# смотрим на изменение концентрации золота\n",
    "full_au.describe()"
   ]
  },
  {
   "cell_type": "markdown",
   "id": "59c3d069",
   "metadata": {},
   "source": [
    "Построим гистограммы и посмотрим, как меняется концетрация золота на различных этапах."
   ]
  },
  {
   "cell_type": "code",
   "execution_count": 21,
   "id": "64c5f581",
   "metadata": {},
   "outputs": [
    {
     "data": {
      "text/plain": [
       "Text(0.5, 1.0, 'Распределение концентрации золота')"
      ]
     },
     "execution_count": 21,
     "metadata": {},
     "output_type": "execute_result"
    },
    {
     "data": {
      "text/plain": [
       "<Figure size 1368x720 with 0 Axes>"
      ]
     },
     "metadata": {},
     "output_type": "display_data"
    },
    {
     "data": {
      "image/png": "[encoded data removed]",
      "text/plain": [
       "<Figure size 432x288 with 1 Axes>"
      ]
     },
     "metadata": {
      "needs_background": "light"
     },
     "output_type": "display_data"
    }
   ],
   "source": [
    "# строим гистограммы распределения концентрации золота\n",
    "plt.figure(figsize=(19,10))\n",
    "ax = full_au.plot(\n",
    "    kind='hist',\n",
    "    y='rougher.input.feed_au',\n",
    "    range=(0, 60),\n",
    "    bins=30,\n",
    "    linewidth=5,\n",
    "    alpha=0.7,\n",
    "    label='концентрация на входе',\n",
    ")\n",
    "full_au.plot(\n",
    "    kind='hist',\n",
    "    y='rougher.output.concentrate_au',\n",
    "    range=(0, 60),\n",
    "    bins=30,\n",
    "    linewidth=5,\n",
    "    alpha=0.7,\n",
    "    label='концентрация после флотации',\n",
    "    ax=ax,\n",
    "    grid=True,\n",
    "    legend=True,\n",
    ")\n",
    "\n",
    "full_au.plot(\n",
    "    kind='hist',\n",
    "    y='primary_cleaner.output.concentrate_au',\n",
    "    range=(0, 50),\n",
    "    bins=30,\n",
    "    linewidth=5,\n",
    "    alpha=0.7,\n",
    "    label='концентрация после 1-го этапа очистки',\n",
    "    ax=ax,\n",
    "    grid=True,\n",
    "    legend=True,\n",
    ")\n",
    "full_au.plot(\n",
    "    kind='hist',\n",
    "    y='final.output.concentrate_au',\n",
    "    range=(0, 60),\n",
    "    bins=30,\n",
    "    linewidth=5,\n",
    "    alpha=0.7,\n",
    "    label='финальная концентрация',\n",
    "    ax=ax,\n",
    "    grid=True,\n",
    "    legend=True,\n",
    ")\n",
    "plt.xlabel('Концентрация золота')\n",
    "plt.ylabel('Частота')\n",
    "plt.title('Распределение концентрации золота')"
   ]
  },
  {
   "cell_type": "markdown",
   "id": "668da2fa",
   "metadata": {},
   "source": [
    "Видно, что с каждым последующим этапом очистки концентрация золота увеличивается. На каждом этапе среднее значение близко к медианому, а так же судя по максимальным значениям, можно сделать выводы, что данные не содержат выбросов.\n",
    "\n",
    "Посмотрим как меняется концентрация серебра на этапах очистки. Создадим датафрейм `full_ag` и сохраним в него только значения с концентрацияи серебра на различных этапах очистки."
   ]
  },
  {
   "cell_type": "code",
   "execution_count": 22,
   "id": "1926f835",
   "metadata": {},
   "outputs": [],
   "source": [
    "# создаём full_ag и сохраняём в неё нужные столбы\n",
    "full_ag = full.iloc[: , [1, 14, 34, 44]].copy() "
   ]
  },
  {
   "cell_type": "code",
   "execution_count": 23,
   "id": "d9621d6b",
   "metadata": {},
   "outputs": [
    {
     "data": {
      "text/html": [
       "<div>\n",
       "<style scoped>\n",
       "    .dataframe tbody tr th:only-of-type {\n",
       "        vertical-align: middle;\n",
       "    }\n",
       "\n",
       "    .dataframe tbody tr th {\n",
       "        vertical-align: top;\n",
       "    }\n",
       "\n",
       "    .dataframe thead th {\n",
       "        text-align: right;\n",
       "    }\n",
       "</style>\n",
       "<table border=\"1\" class=\"dataframe\">\n",
       "  <thead>\n",
       "    <tr style=\"text-align: right;\">\n",
       "      <th></th>\n",
       "      <th>final.output.concentrate_ag</th>\n",
       "      <th>primary_cleaner.output.concentrate_ag</th>\n",
       "      <th>rougher.input.feed_ag</th>\n",
       "      <th>rougher.output.concentrate_ag</th>\n",
       "    </tr>\n",
       "  </thead>\n",
       "  <tbody>\n",
       "    <tr>\n",
       "      <th>count</th>\n",
       "      <td>19439.000000</td>\n",
       "      <td>19439.000000</td>\n",
       "      <td>19439.000000</td>\n",
       "      <td>19439.000000</td>\n",
       "    </tr>\n",
       "    <tr>\n",
       "      <th>mean</th>\n",
       "      <td>5.168387</td>\n",
       "      <td>8.442408</td>\n",
       "      <td>8.794927</td>\n",
       "      <td>11.994759</td>\n",
       "    </tr>\n",
       "    <tr>\n",
       "      <th>std</th>\n",
       "      <td>1.372362</td>\n",
       "      <td>2.054465</td>\n",
       "      <td>1.936847</td>\n",
       "      <td>2.733862</td>\n",
       "    </tr>\n",
       "    <tr>\n",
       "      <th>min</th>\n",
       "      <td>0.000000</td>\n",
       "      <td>0.000000</td>\n",
       "      <td>0.010000</td>\n",
       "      <td>0.000000</td>\n",
       "    </tr>\n",
       "    <tr>\n",
       "      <th>25%</th>\n",
       "      <td>4.251000</td>\n",
       "      <td>7.263288</td>\n",
       "      <td>7.237967</td>\n",
       "      <td>10.628337</td>\n",
       "    </tr>\n",
       "    <tr>\n",
       "      <th>50%</th>\n",
       "      <td>5.066039</td>\n",
       "      <td>8.507298</td>\n",
       "      <td>8.593574</td>\n",
       "      <td>12.098115</td>\n",
       "    </tr>\n",
       "    <tr>\n",
       "      <th>75%</th>\n",
       "      <td>5.895401</td>\n",
       "      <td>9.809001</td>\n",
       "      <td>10.213771</td>\n",
       "      <td>13.736996</td>\n",
       "    </tr>\n",
       "    <tr>\n",
       "      <th>max</th>\n",
       "      <td>16.001945</td>\n",
       "      <td>16.081632</td>\n",
       "      <td>14.596026</td>\n",
       "      <td>24.480271</td>\n",
       "    </tr>\n",
       "  </tbody>\n",
       "</table>\n",
       "</div>"
      ],
      "text/plain": [
       "       final.output.concentrate_ag  primary_cleaner.output.concentrate_ag  \\\n",
       "count                 19439.000000                           19439.000000   \n",
       "mean                      5.168387                               8.442408   \n",
       "std                       1.372362                               2.054465   \n",
       "min                       0.000000                               0.000000   \n",
       "25%                       4.251000                               7.263288   \n",
       "50%                       5.066039                               8.507298   \n",
       "75%                       5.895401                               9.809001   \n",
       "max                      16.001945                              16.081632   \n",
       "\n",
       "       rougher.input.feed_ag  rougher.output.concentrate_ag  \n",
       "count           19439.000000                   19439.000000  \n",
       "mean                8.794927                      11.994759  \n",
       "std                 1.936847                       2.733862  \n",
       "min                 0.010000                       0.000000  \n",
       "25%                 7.237967                      10.628337  \n",
       "50%                 8.593574                      12.098115  \n",
       "75%                10.213771                      13.736996  \n",
       "max                14.596026                      24.480271  "
      ]
     },
     "execution_count": 23,
     "metadata": {},
     "output_type": "execute_result"
    }
   ],
   "source": [
    "# смотрим на изменение концентрации серебра\n",
    "full_ag.describe()"
   ]
  },
  {
   "cell_type": "code",
   "execution_count": 24,
   "id": "81bcb7aa",
   "metadata": {},
   "outputs": [
    {
     "data": {
      "text/plain": [
       "Text(0.5, 1.0, 'Распределение концентрации серебра')"
      ]
     },
     "execution_count": 24,
     "metadata": {},
     "output_type": "execute_result"
    },
    {
     "data": {
      "text/plain": [
       "<Figure size 864x504 with 0 Axes>"
      ]
     },
     "metadata": {},
     "output_type": "display_data"
    },
    {
     "data": {
      "image/png": "[encoded data removed]",
      "text/plain": [
       "<Figure size 432x288 with 1 Axes>"
      ]
     },
     "metadata": {
      "needs_background": "light"
     },
     "output_type": "display_data"
    }
   ],
   "source": [
    "plt.figure(figsize=(12,7))\n",
    "ax = full_ag.plot(\n",
    "    kind='hist',\n",
    "    y='rougher.input.feed_ag',\n",
    "    range=(0, 25),\n",
    "    bins=30,\n",
    "    linewidth=5,\n",
    "    alpha=0.7,\n",
    "    label='концентрация на входе',\n",
    ")\n",
    "full_ag.plot(\n",
    "    kind='hist',\n",
    "    y='rougher.output.concentrate_ag',\n",
    "    range=(0, 25),\n",
    "    bins=30,\n",
    "    linewidth=5,\n",
    "    alpha=0.7,\n",
    "    label='концентрация после флотации',\n",
    "    ax=ax,\n",
    "    grid=True,\n",
    "    legend=True,\n",
    ")\n",
    "\n",
    "full_ag.plot(\n",
    "    kind='hist',\n",
    "    y='primary_cleaner.output.concentrate_ag',\n",
    "    range=(0, 25),\n",
    "    bins=30,\n",
    "    linewidth=5,\n",
    "    alpha=0.7,\n",
    "    label='концентрация после 1-го этапа очистки',\n",
    "    ax=ax,\n",
    "    grid=True,\n",
    "    legend=True,\n",
    ")\n",
    "full_ag.plot(\n",
    "    kind='hist',\n",
    "    y='final.output.concentrate_ag',\n",
    "    range=(0, 25),\n",
    "    bins=30,\n",
    "    linewidth=5,\n",
    "    alpha=0.7,\n",
    "    label='финальная концентрация',\n",
    "    ax=ax,\n",
    "    grid=True,\n",
    "    legend=True,\n",
    ")\n",
    "plt.xlabel('Концентрация серебра')\n",
    "plt.ylabel('Частота')\n",
    "plt.title('Распределение концентрации серебра')"
   ]
  },
  {
   "cell_type": "markdown",
   "id": "71efe4bf",
   "metadata": {},
   "source": [
    "Видно, что с каждым последующим этапом очистки концентрация серебра наоборот уменьшается. На каждом этапе среднее значение близко к медианому, а так же судя по максимальным значениям, можно сделать выводы, что данные не содержат выбросов.\n",
    "\n",
    "Посмотрим как меняется концентрация свинца на этапах очистки. Создадим датафрейм `full_pb` и сохраним в него только значения с концентрацияи свинца на различных этапах очистки."
   ]
  },
  {
   "cell_type": "code",
   "execution_count": 25,
   "id": "92c032fd",
   "metadata": {},
   "outputs": [],
   "source": [
    "# создаём full_pb и сохраняём в неё нужные столбы\n",
    "full_pb = full.iloc[: , [2, 15, 35, 45]].copy() "
   ]
  },
  {
   "cell_type": "code",
   "execution_count": 26,
   "id": "06166dc3",
   "metadata": {},
   "outputs": [
    {
     "data": {
      "text/html": [
       "<div>\n",
       "<style scoped>\n",
       "    .dataframe tbody tr th:only-of-type {\n",
       "        vertical-align: middle;\n",
       "    }\n",
       "\n",
       "    .dataframe tbody tr th {\n",
       "        vertical-align: top;\n",
       "    }\n",
       "\n",
       "    .dataframe thead th {\n",
       "        text-align: right;\n",
       "    }\n",
       "</style>\n",
       "<table border=\"1\" class=\"dataframe\">\n",
       "  <thead>\n",
       "    <tr style=\"text-align: right;\">\n",
       "      <th></th>\n",
       "      <th>final.output.concentrate_pb</th>\n",
       "      <th>primary_cleaner.output.concentrate_pb</th>\n",
       "      <th>rougher.input.feed_pb</th>\n",
       "      <th>rougher.output.concentrate_pb</th>\n",
       "    </tr>\n",
       "  </thead>\n",
       "  <tbody>\n",
       "    <tr>\n",
       "      <th>count</th>\n",
       "      <td>19439.000000</td>\n",
       "      <td>19439.000000</td>\n",
       "      <td>19439.000000</td>\n",
       "      <td>19439.000000</td>\n",
       "    </tr>\n",
       "    <tr>\n",
       "      <th>mean</th>\n",
       "      <td>9.978821</td>\n",
       "      <td>9.810317</td>\n",
       "      <td>3.585096</td>\n",
       "      <td>7.606272</td>\n",
       "    </tr>\n",
       "    <tr>\n",
       "      <th>std</th>\n",
       "      <td>1.669228</td>\n",
       "      <td>2.572253</td>\n",
       "      <td>1.062972</td>\n",
       "      <td>1.796757</td>\n",
       "    </tr>\n",
       "    <tr>\n",
       "      <th>min</th>\n",
       "      <td>0.000000</td>\n",
       "      <td>0.000000</td>\n",
       "      <td>0.010000</td>\n",
       "      <td>0.000000</td>\n",
       "    </tr>\n",
       "    <tr>\n",
       "      <th>25%</th>\n",
       "      <td>9.137225</td>\n",
       "      <td>8.676500</td>\n",
       "      <td>2.872178</td>\n",
       "      <td>6.725987</td>\n",
       "    </tr>\n",
       "    <tr>\n",
       "      <th>50%</th>\n",
       "      <td>10.102264</td>\n",
       "      <td>10.142270</td>\n",
       "      <td>3.528235</td>\n",
       "      <td>7.742580</td>\n",
       "    </tr>\n",
       "    <tr>\n",
       "      <th>75%</th>\n",
       "      <td>11.035644</td>\n",
       "      <td>11.416298</td>\n",
       "      <td>4.241005</td>\n",
       "      <td>8.565199</td>\n",
       "    </tr>\n",
       "    <tr>\n",
       "      <th>max</th>\n",
       "      <td>17.031899</td>\n",
       "      <td>17.081278</td>\n",
       "      <td>7.142594</td>\n",
       "      <td>13.617072</td>\n",
       "    </tr>\n",
       "  </tbody>\n",
       "</table>\n",
       "</div>"
      ],
      "text/plain": [
       "       final.output.concentrate_pb  primary_cleaner.output.concentrate_pb  \\\n",
       "count                 19439.000000                           19439.000000   \n",
       "mean                      9.978821                               9.810317   \n",
       "std                       1.669228                               2.572253   \n",
       "min                       0.000000                               0.000000   \n",
       "25%                       9.137225                               8.676500   \n",
       "50%                      10.102264                              10.142270   \n",
       "75%                      11.035644                              11.416298   \n",
       "max                      17.031899                              17.081278   \n",
       "\n",
       "       rougher.input.feed_pb  rougher.output.concentrate_pb  \n",
       "count           19439.000000                   19439.000000  \n",
       "mean                3.585096                       7.606272  \n",
       "std                 1.062972                       1.796757  \n",
       "min                 0.010000                       0.000000  \n",
       "25%                 2.872178                       6.725987  \n",
       "50%                 3.528235                       7.742580  \n",
       "75%                 4.241005                       8.565199  \n",
       "max                 7.142594                      13.617072  "
      ]
     },
     "execution_count": 26,
     "metadata": {},
     "output_type": "execute_result"
    }
   ],
   "source": [
    "# смотрим на изменение концентрации свинца\n",
    "full_pb.describe()"
   ]
  },
  {
   "cell_type": "code",
   "execution_count": 27,
   "id": "4d308000",
   "metadata": {},
   "outputs": [
    {
     "data": {
      "text/plain": [
       "Text(0.5, 1.0, 'Распределение концентрации свинца')"
      ]
     },
     "execution_count": 27,
     "metadata": {},
     "output_type": "execute_result"
    },
    {
     "data": {
      "text/plain": [
       "<Figure size 864x504 with 0 Axes>"
      ]
     },
     "metadata": {},
     "output_type": "display_data"
    },
    {
     "data": {
      "image/png": "[encoded data removed]",
      "text/plain": [
       "<Figure size 432x288 with 1 Axes>"
      ]
     },
     "metadata": {
      "needs_background": "light"
     },
     "output_type": "display_data"
    }
   ],
   "source": [
    "plt.figure(figsize=(12,7))\n",
    "ax = full_pb.plot(\n",
    "    kind='hist',\n",
    "    y='rougher.input.feed_pb',\n",
    "    range=(0, 18),\n",
    "    bins=30,\n",
    "    linewidth=5,\n",
    "    alpha=0.7,\n",
    "    label='концентрация на входе',\n",
    ")\n",
    "full_pb.plot(\n",
    "    kind='hist',\n",
    "    y='rougher.output.concentrate_pb',\n",
    "    range=(0, 18),\n",
    "    bins=30,\n",
    "    linewidth=5,\n",
    "    alpha=0.7,\n",
    "    label='концентрация после флотации',\n",
    "    ax=ax,\n",
    "    grid=True,\n",
    "    legend=True,\n",
    ")\n",
    "\n",
    "full_pb.plot(\n",
    "    kind='hist',\n",
    "    y='primary_cleaner.output.concentrate_pb',\n",
    "    range=(0, 18),\n",
    "    bins=30,\n",
    "    linewidth=5,\n",
    "    alpha=0.7,\n",
    "    label='концентрация после 1-го этапа очистки',\n",
    "    ax=ax,\n",
    "    grid=True,\n",
    "    legend=True,\n",
    ")\n",
    "full_pb.plot(\n",
    "    kind='hist',\n",
    "    y='final.output.concentrate_pb',\n",
    "    range=(0, 18),\n",
    "    bins=30,\n",
    "    linewidth=5,\n",
    "    alpha=0.7,\n",
    "    label='финальная концентрация',\n",
    "    ax=ax,\n",
    "    grid=True,\n",
    "    legend=True,\n",
    ")\n",
    "plt.xlabel('Концентрация свинца')\n",
    "plt.ylabel('Частота')\n",
    "plt.title('Распределение концентрации свинца')"
   ]
  },
  {
   "cell_type": "markdown",
   "id": "6772b6f0",
   "metadata": {},
   "source": [
    "Концентрация свинца незначительно, но увеличивается. Данные без выбросов."
   ]
  },
  {
   "cell_type": "markdown",
   "id": "b0d80e67",
   "metadata": {},
   "source": [
    "**Вывод**\n",
    "* концентрация золота от стадии флотации к финальной стадии увеличивается\n",
    "* концентрация серебра снижается\n",
    "* концентрация свинца незначительно увеличивается"
   ]
  },
  {
   "cell_type": "markdown",
   "id": "a0357033",
   "metadata": {},
   "source": [
    "###  Распределения размеров гранул сырья"
   ]
  },
  {
   "cell_type": "markdown",
   "id": "347d3032",
   "metadata": {},
   "source": [
    "Сравним распределения размеров гранул сырья на обучающей и тестовой выборках."
   ]
  },
  {
   "cell_type": "code",
   "execution_count": 28,
   "id": "afc83eb6",
   "metadata": {},
   "outputs": [
    {
     "data": {
      "text/plain": [
       "count    14149.000000\n",
       "mean        60.239856\n",
       "std         23.005310\n",
       "min          9.659576\n",
       "25%         48.966751\n",
       "50%         55.269784\n",
       "75%         66.007526\n",
       "max        484.967466\n",
       "Name: rougher.input.feed_size, dtype: float64"
      ]
     },
     "execution_count": 28,
     "metadata": {},
     "output_type": "execute_result"
    }
   ],
   "source": [
    "train['rougher.input.feed_size'].describe()"
   ]
  },
  {
   "cell_type": "code",
   "execution_count": 29,
   "id": "49fcff7d",
   "metadata": {},
   "outputs": [
    {
     "data": {
      "text/plain": [
       "count    5290.000000\n",
       "mean       55.952754\n",
       "std        19.080334\n",
       "min         0.046369\n",
       "25%        43.906504\n",
       "50%        50.846843\n",
       "75%        62.451165\n",
       "max       392.494040\n",
       "Name: rougher.input.feed_size, dtype: float64"
      ]
     },
     "execution_count": 29,
     "metadata": {},
     "output_type": "execute_result"
    }
   ],
   "source": [
    "test['rougher.input.feed_size'].describe()"
   ]
  },
  {
   "cell_type": "code",
   "execution_count": 30,
   "id": "58d495f8",
   "metadata": {},
   "outputs": [
    {
     "data": {
      "text/plain": [
       "Text(0.5, 1.0, 'Распределение размеров гранул сырья')"
      ]
     },
     "execution_count": 30,
     "metadata": {},
     "output_type": "execute_result"
    },
    {
     "data": {
      "text/plain": [
       "<Figure size 864x504 with 0 Axes>"
      ]
     },
     "metadata": {},
     "output_type": "display_data"
    },
    {
     "data": {
      "image/png": "[encoded data removed]",
      "text/plain": [
       "<Figure size 432x288 with 1 Axes>"
      ]
     },
     "metadata": {
      "needs_background": "light"
     },
     "output_type": "display_data"
    }
   ],
   "source": [
    "plt.figure(figsize=(12,7))\n",
    "ax = train.plot(\n",
    "    kind='hist',\n",
    "    y='rougher.input.feed_size',\n",
    "    range=(0, 150),\n",
    "    bins=25,\n",
    "    linewidth=5,\n",
    "    alpha=0.7,\n",
    "    label='обучающая выборка',\n",
    ")\n",
    "test.plot(\n",
    "    kind='hist',\n",
    "    y='rougher.input.feed_size',\n",
    "    range=(0, 150),\n",
    "    bins=25,\n",
    "    linewidth=5,\n",
    "    alpha=0.7,\n",
    "    label='тестовая выборка',\n",
    "    ax=ax,\n",
    "    grid=True,\n",
    "    legend=True,\n",
    ")\n",
    "\n",
    "plt.xlabel('Размер гранул сырья')\n",
    "plt.ylabel('Частота')\n",
    "plt.title('Распределение размеров гранул сырья')"
   ]
  },
  {
   "cell_type": "markdown",
   "id": "35bf1f52",
   "metadata": {},
   "source": [
    "Изучим распределение размеров гранул сырья после флотации."
   ]
  },
  {
   "cell_type": "code",
   "execution_count": 31,
   "id": "b582ac13",
   "metadata": {},
   "outputs": [
    {
     "data": {
      "text/plain": [
       "Text(0.5, 1.0, 'Распределение размеров гранул после флотации')"
      ]
     },
     "execution_count": 31,
     "metadata": {},
     "output_type": "execute_result"
    },
    {
     "data": {
      "text/plain": [
       "<Figure size 864x504 with 0 Axes>"
      ]
     },
     "metadata": {},
     "output_type": "display_data"
    },
    {
     "data": {
      "image/png": "[encoded data removed]",
      "text/plain": [
       "<Figure size 432x288 with 1 Axes>"
      ]
     },
     "metadata": {
      "needs_background": "light"
     },
     "output_type": "display_data"
    }
   ],
   "source": [
    "plt.figure(figsize=(12,7))\n",
    "ax = train.plot(\n",
    "    kind='hist',\n",
    "    y='primary_cleaner.input.feed_size',\n",
    "    range=(0, 15),\n",
    "    bins=25,\n",
    "    linewidth=5,\n",
    "    alpha=0.7,\n",
    "    label='обучающая выборка',\n",
    ")\n",
    "test.plot(\n",
    "    kind='hist',\n",
    "    y='primary_cleaner.input.feed_size',\n",
    "    range=(0, 15),\n",
    "    bins=25,\n",
    "    linewidth=5,\n",
    "    alpha=0.7,\n",
    "    label='тестовая выборка',\n",
    "    ax=ax,\n",
    "    grid=True,\n",
    "    legend=True,\n",
    ")\n",
    "\n",
    "plt.xlabel('Размер гранул сырья')\n",
    "plt.ylabel('Частота')\n",
    "plt.title('Распределение размеров гранул после флотации')"
   ]
  },
  {
   "cell_type": "markdown",
   "id": "4484e190",
   "metadata": {},
   "source": [
    "**Вывод**\n",
    "* основной диапазон значений гранул сырья что для тестовой, что для обучающей выборок: 40-60\n",
    "* максимальная частота у тестовой выборки - 45, у обучающей - 55.\n",
    "* можно сказать, что распределения несильно отличаются друг от друга\n",
    "* основной диапазон значений гранул сырья после флотации что для тестовой, что для обучающей выборок:6-8\n",
    "* Можно сказать, что распределения не отличаются друг от друга."
   ]
  },
  {
   "cell_type": "markdown",
   "id": "122f0427",
   "metadata": {},
   "source": [
    "### Суммарная концентрация веществ"
   ]
  },
  {
   "cell_type": "markdown",
   "id": "21595092",
   "metadata": {},
   "source": [
    "Исследуем суммарную концентрацию всех веществ на разных стадиях: на входе, в сырье, в черновом и финальном концентратах.\n",
    "\n",
    "Найдём суммарную концентрацию всех веществ в сырье."
   ]
  },
  {
   "cell_type": "code",
   "execution_count": 33,
   "id": "45072dc6",
   "metadata": {},
   "outputs": [],
   "source": [
    "# суммарная концентрация всех вещест в сырье\n",
    "full['rougher_concentrate'] = full['rougher.output.concentrate_au'] + full['rougher.output.concentrate_ag'] + full['rougher.output.concentrate_pb'] + full['rougher.output.concentrate_sol'] "
   ]
  },
  {
   "cell_type": "code",
   "execution_count": 34,
   "id": "99cd22ea",
   "metadata": {},
   "outputs": [
    {
     "data": {
      "text/plain": [
       "count    19439.000000\n",
       "mean        68.170865\n",
       "std         12.491279\n",
       "min          0.000000\n",
       "25%         66.012495\n",
       "50%         70.181495\n",
       "75%         74.356904\n",
       "max         88.140119\n",
       "Name: rougher_concentrate, dtype: float64"
      ]
     },
     "execution_count": 34,
     "metadata": {},
     "output_type": "execute_result"
    }
   ],
   "source": [
    "# смотрим на характер распределения\n",
    "full['rougher_concentrate'].describe()"
   ]
  },
  {
   "cell_type": "code",
   "execution_count": 35,
   "id": "6481d633",
   "metadata": {},
   "outputs": [
    {
     "data": {
      "text/plain": [
       "Text(0.5, 1.0, 'Суммарная концентрация всех веществ в сырье')"
      ]
     },
     "execution_count": 35,
     "metadata": {},
     "output_type": "execute_result"
    },
    {
     "data": {
      "image/png": "[encoded data removed]",
      "text/plain": [
       "<Figure size 864x504 with 1 Axes>"
      ]
     },
     "metadata": {
      "needs_background": "light"
     },
     "output_type": "display_data"
    }
   ],
   "source": [
    "plt.figure(figsize=(12,7))\n",
    "full['rougher_concentrate'].plot(\n",
    "    kind='hist',\n",
    "    y='rougher_concentrate',\n",
    "    range=(0, 90),\n",
    "    bins=50,\n",
    "    linewidth=5,\n",
    "    alpha=0.7)\n",
    "\n",
    "plt.xlabel('Суммарная концентрация веществ')\n",
    "plt.ylabel('Частота')\n",
    "plt.title('Суммарная концентрация всех веществ в сырье')"
   ]
  },
  {
   "cell_type": "markdown",
   "id": "28edd8ca",
   "metadata": {},
   "source": [
    "Заметно наличие суммарной концентрации равной 0. Это выбросы. Эти столбы при обучении модели не учитываются, удалять не буду.\n",
    "\n",
    "Найдём суммарную концентрацию всех веществ на входе."
   ]
  },
  {
   "cell_type": "code",
   "execution_count": 36,
   "id": "fab3d2ba",
   "metadata": {},
   "outputs": [],
   "source": [
    "# суммарная концентрация всех вещест на входе\n",
    "full['rougher_concentrate_in'] = full['rougher.input.feed_au'] + full['rougher.input.feed_ag'] + full['rougher.input.feed_pb'] + full['rougher.input.feed_sol']"
   ]
  },
  {
   "cell_type": "code",
   "execution_count": 37,
   "id": "8afd63ff",
   "metadata": {},
   "outputs": [
    {
     "data": {
      "text/plain": [
       "count    19439.000000\n",
       "mean        57.320789\n",
       "std          7.212680\n",
       "min          0.040000\n",
       "25%         53.557679\n",
       "50%         57.594391\n",
       "75%         61.953459\n",
       "max         76.978947\n",
       "Name: rougher_concentrate_in, dtype: float64"
      ]
     },
     "execution_count": 37,
     "metadata": {},
     "output_type": "execute_result"
    }
   ],
   "source": [
    "# смотрим на рспределение\n",
    "full['rougher_concentrate_in'].describe()"
   ]
  },
  {
   "cell_type": "code",
   "execution_count": 38,
   "id": "cb78dfcf",
   "metadata": {},
   "outputs": [
    {
     "data": {
      "text/plain": [
       "Text(0.5, 1.0, 'Суммарная концентрация всех веществ на входе')"
      ]
     },
     "execution_count": 38,
     "metadata": {},
     "output_type": "execute_result"
    },
    {
     "data": {
      "image/png": "[encoded data removed]",
      "text/plain": [
       "<Figure size 864x504 with 1 Axes>"
      ]
     },
     "metadata": {
      "needs_background": "light"
     },
     "output_type": "display_data"
    }
   ],
   "source": [
    "plt.figure(figsize=(12,7))\n",
    "full['rougher_concentrate_in'].plot(\n",
    "    kind='hist',\n",
    "    y='rougher_concentrate_in',\n",
    "    range=(0, 80),\n",
    "    bins=50,\n",
    "    linewidth=5,\n",
    "    alpha=0.7)\n",
    "\n",
    "plt.xlabel('Суммарная концентрация веществ')\n",
    "plt.ylabel('Частота')\n",
    "plt.title('Суммарная концентрация всех веществ на входе')"
   ]
  },
  {
   "cell_type": "markdown",
   "id": "b9113364",
   "metadata": {},
   "source": [
    "Найдём суммарную концентрацию всех веществ в черновом концентрате"
   ]
  },
  {
   "cell_type": "code",
   "execution_count": 39,
   "id": "df7dfca5",
   "metadata": {},
   "outputs": [],
   "source": [
    "# суммарная концентрация всех вещест в черновом концентрате\n",
    "full['primary_concentrate'] = full['primary_cleaner.output.concentrate_au'] + full['primary_cleaner.output.concentrate_ag'] + full['primary_cleaner.output.concentrate_pb'] + full['primary_cleaner.output.concentrate_sol']"
   ]
  },
  {
   "cell_type": "code",
   "execution_count": 40,
   "id": "168988e6",
   "metadata": {},
   "outputs": [
    {
     "data": {
      "text/plain": [
       "count    19439.000000\n",
       "mean        60.764731\n",
       "std         10.017271\n",
       "min          0.000000\n",
       "25%         58.929364\n",
       "50%         62.497674\n",
       "75%         65.667336\n",
       "max         80.749343\n",
       "Name: primary_concentrate, dtype: float64"
      ]
     },
     "execution_count": 40,
     "metadata": {},
     "output_type": "execute_result"
    }
   ],
   "source": [
    "# смотрим на распределение\n",
    "full['primary_concentrate'].describe()"
   ]
  },
  {
   "cell_type": "code",
   "execution_count": 41,
   "id": "d75db7a9",
   "metadata": {},
   "outputs": [
    {
     "data": {
      "text/plain": [
       "Text(0.5, 1.0, 'Суммарная концентрация всех веществ в черновом концентрате')"
      ]
     },
     "execution_count": 41,
     "metadata": {},
     "output_type": "execute_result"
    },
    {
     "data": {
      "image/png": "[encoded data removed]",
      "text/plain": [
       "<Figure size 864x504 with 1 Axes>"
      ]
     },
     "metadata": {
      "needs_background": "light"
     },
     "output_type": "display_data"
    }
   ],
   "source": [
    "plt.figure(figsize=(12,7))\n",
    "full['primary_concentrate'].plot(\n",
    "    kind='hist',\n",
    "    y='primary_concentrate',\n",
    "    range=(0, 90),\n",
    "    bins=50,\n",
    "    linewidth=5,\n",
    "    alpha=0.7)\n",
    "\n",
    "plt.xlabel('Суммарная концентрация веществ')\n",
    "plt.ylabel('Частота')\n",
    "plt.title('Суммарная концентрация всех веществ в черновом концентрате')"
   ]
  },
  {
   "cell_type": "markdown",
   "id": "e245cf42",
   "metadata": {},
   "source": [
    "Найдём суммарную концентрацию всех веществ в финальном концентрате."
   ]
  },
  {
   "cell_type": "code",
   "execution_count": 42,
   "id": "e997fc0e",
   "metadata": {},
   "outputs": [],
   "source": [
    "# суммарная концентрация всех вещест в финальном концентрате\n",
    "full['final_concentrate'] = full['final.output.concentrate_au'] + full['final.output.concentrate_ag'] + full['final.output.concentrate_pb'] + full['final.output.concentrate_sol']"
   ]
  },
  {
   "cell_type": "code",
   "execution_count": 43,
   "id": "2d7dced7",
   "metadata": {},
   "outputs": [
    {
     "data": {
      "text/plain": [
       "count    19439.000000\n",
       "mean        68.653624\n",
       "std          7.427536\n",
       "min          0.000000\n",
       "25%         67.932362\n",
       "50%         69.598444\n",
       "75%         71.368472\n",
       "max         80.210644\n",
       "Name: final_concentrate, dtype: float64"
      ]
     },
     "execution_count": 43,
     "metadata": {},
     "output_type": "execute_result"
    }
   ],
   "source": [
    "# смотрим на рспределение\n",
    "full['final_concentrate'].describe()"
   ]
  },
  {
   "cell_type": "code",
   "execution_count": 44,
   "id": "72de15fb",
   "metadata": {},
   "outputs": [
    {
     "data": {
      "text/plain": [
       "Text(0.5, 1.0, 'Суммарная концентрация всех веществ в финальном концентрате')"
      ]
     },
     "execution_count": 44,
     "metadata": {},
     "output_type": "execute_result"
    },
    {
     "data": {
      "image/png": "[encoded data removed]",
      "text/plain": [
       "<Figure size 864x504 with 1 Axes>"
      ]
     },
     "metadata": {
      "needs_background": "light"
     },
     "output_type": "display_data"
    }
   ],
   "source": [
    "plt.figure(figsize=(12,7))\n",
    "full['final_concentrate'].plot(\n",
    "    kind='hist',\n",
    "    y='final_concentrate',\n",
    "    range=(0, 90),\n",
    "    bins=50,\n",
    "    linewidth=5,\n",
    "    alpha=0.7)\n",
    "\n",
    "plt.xlabel('Суммарная концентрация веществ')\n",
    "plt.ylabel('Частота')\n",
    "plt.title('Суммарная концентрация всех веществ в финальном концентрате')"
   ]
  },
  {
   "cell_type": "markdown",
   "id": "2a5a9a84",
   "metadata": {},
   "source": [
    "**Вывод**\n",
    "* была исследована суммарная концентрация веществ на разных этапах очистки"
   ]
  },
  {
   "cell_type": "markdown",
   "id": "f84ea0f2",
   "metadata": {},
   "source": [
    "## Построение модели"
   ]
  },
  {
   "cell_type": "markdown",
   "id": "9e37a30e",
   "metadata": {},
   "source": [
    "Для дальнейшей работы перенесём целевые признаки: эффективность обогащения чернового концентрата `rougher.output.recovery` и эффективность обогащения финального концентрата `final.output.recovery` из исходных данных в обучающую и тестовую выборки."
   ]
  },
  {
   "cell_type": "code",
   "execution_count": 45,
   "id": "0f414dd9",
   "metadata": {},
   "outputs": [],
   "source": [
    "# создаём full_target и сохраняём в неё нужные столбы\n",
    "full_target = full.iloc[: , [0, 5, 48]].copy() "
   ]
  },
  {
   "cell_type": "markdown",
   "id": "30c3953b",
   "metadata": {},
   "source": [
    "Установим столбец с датой в качестве индексов для тестовой выборки и в `full_target`."
   ]
  },
  {
   "cell_type": "code",
   "execution_count": 46,
   "id": "39dec011",
   "metadata": {},
   "outputs": [],
   "source": [
    "# преобразуем столбец с датой в индексы на тестовой выборке\n",
    "test = test.set_index('date')"
   ]
  },
  {
   "cell_type": "code",
   "execution_count": 47,
   "id": "c667750d",
   "metadata": {},
   "outputs": [],
   "source": [
    "# преобразуем столбец с датой в индексы в full_target\n",
    "full_target=full_target.set_index('date')"
   ]
  },
  {
   "cell_type": "markdown",
   "id": "59611349",
   "metadata": {},
   "source": [
    "Добавим в тестовую выборку целевые признаки."
   ]
  },
  {
   "cell_type": "code",
   "execution_count": 49,
   "id": "371240c0",
   "metadata": {},
   "outputs": [],
   "source": [
    "# добавляем целевые признаки\n",
    "test_final = test.merge(full_target, left_index = True, right_index=True)"
   ]
  },
  {
   "cell_type": "code",
   "execution_count": 50,
   "id": "976d8b4e",
   "metadata": {},
   "outputs": [
    {
     "name": "stdout",
     "output_type": "stream",
     "text": [
      "<class 'pandas.core.frame.DataFrame'>\n",
      "Index: 5290 entries, 2016-09-01 00:59:59 to 2017-12-31 23:59:59\n",
      "Data columns (total 54 columns):\n",
      " #   Column                                      Non-Null Count  Dtype  \n",
      "---  ------                                      --------------  -----  \n",
      " 0   primary_cleaner.input.sulfate               5290 non-null   float64\n",
      " 1   primary_cleaner.input.depressant            5290 non-null   float64\n",
      " 2   primary_cleaner.input.feed_size             5290 non-null   float64\n",
      " 3   primary_cleaner.input.xanthate              5290 non-null   float64\n",
      " 4   primary_cleaner.state.floatbank8_a_air      5290 non-null   float64\n",
      " 5   primary_cleaner.state.floatbank8_a_level    5290 non-null   float64\n",
      " 6   primary_cleaner.state.floatbank8_b_air      5290 non-null   float64\n",
      " 7   primary_cleaner.state.floatbank8_b_level    5290 non-null   float64\n",
      " 8   primary_cleaner.state.floatbank8_c_air      5290 non-null   float64\n",
      " 9   primary_cleaner.state.floatbank8_c_level    5290 non-null   float64\n",
      " 10  primary_cleaner.state.floatbank8_d_air      5290 non-null   float64\n",
      " 11  primary_cleaner.state.floatbank8_d_level    5290 non-null   float64\n",
      " 12  rougher.input.feed_ag                       5290 non-null   float64\n",
      " 13  rougher.input.feed_pb                       5290 non-null   float64\n",
      " 14  rougher.input.feed_rate                     5290 non-null   float64\n",
      " 15  rougher.input.feed_size                     5290 non-null   float64\n",
      " 16  rougher.input.feed_sol                      5290 non-null   float64\n",
      " 17  rougher.input.feed_au                       5290 non-null   float64\n",
      " 18  rougher.input.floatbank10_sulfate           5290 non-null   float64\n",
      " 19  rougher.input.floatbank10_xanthate          5290 non-null   float64\n",
      " 20  rougher.input.floatbank11_sulfate           5290 non-null   float64\n",
      " 21  rougher.input.floatbank11_xanthate          5290 non-null   float64\n",
      " 22  rougher.state.floatbank10_a_air             5290 non-null   float64\n",
      " 23  rougher.state.floatbank10_a_level           5290 non-null   float64\n",
      " 24  rougher.state.floatbank10_b_air             5290 non-null   float64\n",
      " 25  rougher.state.floatbank10_b_level           5290 non-null   float64\n",
      " 26  rougher.state.floatbank10_c_air             5290 non-null   float64\n",
      " 27  rougher.state.floatbank10_c_level           5290 non-null   float64\n",
      " 28  rougher.state.floatbank10_d_air             5290 non-null   float64\n",
      " 29  rougher.state.floatbank10_d_level           5290 non-null   float64\n",
      " 30  rougher.state.floatbank10_e_air             5290 non-null   float64\n",
      " 31  rougher.state.floatbank10_e_level           5290 non-null   float64\n",
      " 32  rougher.state.floatbank10_f_air             5290 non-null   float64\n",
      " 33  rougher.state.floatbank10_f_level           5290 non-null   float64\n",
      " 34  secondary_cleaner.state.floatbank2_a_air    5290 non-null   float64\n",
      " 35  secondary_cleaner.state.floatbank2_a_level  5290 non-null   float64\n",
      " 36  secondary_cleaner.state.floatbank2_b_air    5290 non-null   float64\n",
      " 37  secondary_cleaner.state.floatbank2_b_level  5290 non-null   float64\n",
      " 38  secondary_cleaner.state.floatbank3_a_air    5290 non-null   float64\n",
      " 39  secondary_cleaner.state.floatbank3_a_level  5290 non-null   float64\n",
      " 40  secondary_cleaner.state.floatbank3_b_air    5290 non-null   float64\n",
      " 41  secondary_cleaner.state.floatbank3_b_level  5290 non-null   float64\n",
      " 42  secondary_cleaner.state.floatbank4_a_air    5290 non-null   float64\n",
      " 43  secondary_cleaner.state.floatbank4_a_level  5290 non-null   float64\n",
      " 44  secondary_cleaner.state.floatbank4_b_air    5290 non-null   float64\n",
      " 45  secondary_cleaner.state.floatbank4_b_level  5290 non-null   float64\n",
      " 46  secondary_cleaner.state.floatbank5_a_air    5290 non-null   float64\n",
      " 47  secondary_cleaner.state.floatbank5_a_level  5290 non-null   float64\n",
      " 48  secondary_cleaner.state.floatbank5_b_air    5290 non-null   float64\n",
      " 49  secondary_cleaner.state.floatbank5_b_level  5290 non-null   float64\n",
      " 50  secondary_cleaner.state.floatbank6_a_air    5290 non-null   float64\n",
      " 51  secondary_cleaner.state.floatbank6_a_level  5290 non-null   float64\n",
      " 52  final.output.recovery                       5290 non-null   float64\n",
      " 53  rougher.output.recovery                     5290 non-null   float64\n",
      "dtypes: float64(54)\n",
      "memory usage: 2.2+ MB\n",
      "None\n"
     ]
    },
    {
     "data": {
      "text/html": [
       "<div>\n",
       "<style scoped>\n",
       "    .dataframe tbody tr th:only-of-type {\n",
       "        vertical-align: middle;\n",
       "    }\n",
       "\n",
       "    .dataframe tbody tr th {\n",
       "        vertical-align: top;\n",
       "    }\n",
       "\n",
       "    .dataframe thead th {\n",
       "        text-align: right;\n",
       "    }\n",
       "</style>\n",
       "<table border=\"1\" class=\"dataframe\">\n",
       "  <thead>\n",
       "    <tr style=\"text-align: right;\">\n",
       "      <th></th>\n",
       "      <th>primary_cleaner.input.sulfate</th>\n",
       "      <th>primary_cleaner.input.depressant</th>\n",
       "      <th>primary_cleaner.input.feed_size</th>\n",
       "      <th>primary_cleaner.input.xanthate</th>\n",
       "      <th>primary_cleaner.state.floatbank8_a_air</th>\n",
       "      <th>primary_cleaner.state.floatbank8_a_level</th>\n",
       "      <th>primary_cleaner.state.floatbank8_b_air</th>\n",
       "      <th>primary_cleaner.state.floatbank8_b_level</th>\n",
       "      <th>primary_cleaner.state.floatbank8_c_air</th>\n",
       "      <th>primary_cleaner.state.floatbank8_c_level</th>\n",
       "      <th>...</th>\n",
       "      <th>secondary_cleaner.state.floatbank4_b_air</th>\n",
       "      <th>secondary_cleaner.state.floatbank4_b_level</th>\n",
       "      <th>secondary_cleaner.state.floatbank5_a_air</th>\n",
       "      <th>secondary_cleaner.state.floatbank5_a_level</th>\n",
       "      <th>secondary_cleaner.state.floatbank5_b_air</th>\n",
       "      <th>secondary_cleaner.state.floatbank5_b_level</th>\n",
       "      <th>secondary_cleaner.state.floatbank6_a_air</th>\n",
       "      <th>secondary_cleaner.state.floatbank6_a_level</th>\n",
       "      <th>final.output.recovery</th>\n",
       "      <th>rougher.output.recovery</th>\n",
       "    </tr>\n",
       "    <tr>\n",
       "      <th>date</th>\n",
       "      <th></th>\n",
       "      <th></th>\n",
       "      <th></th>\n",
       "      <th></th>\n",
       "      <th></th>\n",
       "      <th></th>\n",
       "      <th></th>\n",
       "      <th></th>\n",
       "      <th></th>\n",
       "      <th></th>\n",
       "      <th></th>\n",
       "      <th></th>\n",
       "      <th></th>\n",
       "      <th></th>\n",
       "      <th></th>\n",
       "      <th></th>\n",
       "      <th></th>\n",
       "      <th></th>\n",
       "      <th></th>\n",
       "      <th></th>\n",
       "      <th></th>\n",
       "    </tr>\n",
       "  </thead>\n",
       "  <tbody>\n",
       "    <tr>\n",
       "      <th>2016-09-01 00:59:59</th>\n",
       "      <td>210.800909</td>\n",
       "      <td>14.993118</td>\n",
       "      <td>8.080000</td>\n",
       "      <td>1.005021</td>\n",
       "      <td>1398.981301</td>\n",
       "      <td>-500.225577</td>\n",
       "      <td>1399.144926</td>\n",
       "      <td>-499.919735</td>\n",
       "      <td>1400.102998</td>\n",
       "      <td>-500.704369</td>\n",
       "      <td>...</td>\n",
       "      <td>8.016656</td>\n",
       "      <td>-501.289139</td>\n",
       "      <td>7.946562</td>\n",
       "      <td>-432.317850</td>\n",
       "      <td>4.872511</td>\n",
       "      <td>-500.037437</td>\n",
       "      <td>26.705889</td>\n",
       "      <td>-499.709414</td>\n",
       "      <td>70.273583</td>\n",
       "      <td>89.993421</td>\n",
       "    </tr>\n",
       "    <tr>\n",
       "      <th>2016-09-01 01:59:59</th>\n",
       "      <td>215.392455</td>\n",
       "      <td>14.987471</td>\n",
       "      <td>8.080000</td>\n",
       "      <td>0.990469</td>\n",
       "      <td>1398.777912</td>\n",
       "      <td>-500.057435</td>\n",
       "      <td>1398.055362</td>\n",
       "      <td>-499.778182</td>\n",
       "      <td>1396.151033</td>\n",
       "      <td>-499.240168</td>\n",
       "      <td>...</td>\n",
       "      <td>8.130979</td>\n",
       "      <td>-499.634209</td>\n",
       "      <td>7.958270</td>\n",
       "      <td>-525.839648</td>\n",
       "      <td>4.878850</td>\n",
       "      <td>-500.162375</td>\n",
       "      <td>25.019940</td>\n",
       "      <td>-499.819438</td>\n",
       "      <td>68.910432</td>\n",
       "      <td>88.089657</td>\n",
       "    </tr>\n",
       "    <tr>\n",
       "      <th>2016-09-01 02:59:59</th>\n",
       "      <td>215.259946</td>\n",
       "      <td>12.884934</td>\n",
       "      <td>7.786667</td>\n",
       "      <td>0.996043</td>\n",
       "      <td>1398.493666</td>\n",
       "      <td>-500.868360</td>\n",
       "      <td>1398.860436</td>\n",
       "      <td>-499.764529</td>\n",
       "      <td>1398.075709</td>\n",
       "      <td>-502.151509</td>\n",
       "      <td>...</td>\n",
       "      <td>8.096893</td>\n",
       "      <td>-500.827423</td>\n",
       "      <td>8.071056</td>\n",
       "      <td>-500.801673</td>\n",
       "      <td>4.905125</td>\n",
       "      <td>-499.828510</td>\n",
       "      <td>24.994862</td>\n",
       "      <td>-500.622559</td>\n",
       "      <td>68.143213</td>\n",
       "      <td>88.412756</td>\n",
       "    </tr>\n",
       "    <tr>\n",
       "      <th>2016-09-01 03:59:59</th>\n",
       "      <td>215.336236</td>\n",
       "      <td>12.006805</td>\n",
       "      <td>7.640000</td>\n",
       "      <td>0.863514</td>\n",
       "      <td>1399.618111</td>\n",
       "      <td>-498.863574</td>\n",
       "      <td>1397.440120</td>\n",
       "      <td>-499.211024</td>\n",
       "      <td>1400.129303</td>\n",
       "      <td>-498.355873</td>\n",
       "      <td>...</td>\n",
       "      <td>8.074946</td>\n",
       "      <td>-499.474407</td>\n",
       "      <td>7.897085</td>\n",
       "      <td>-500.868509</td>\n",
       "      <td>4.931400</td>\n",
       "      <td>-499.963623</td>\n",
       "      <td>24.948919</td>\n",
       "      <td>-498.709987</td>\n",
       "      <td>67.776393</td>\n",
       "      <td>87.360133</td>\n",
       "    </tr>\n",
       "    <tr>\n",
       "      <th>2016-09-01 04:59:59</th>\n",
       "      <td>199.099327</td>\n",
       "      <td>10.682530</td>\n",
       "      <td>7.530000</td>\n",
       "      <td>0.805575</td>\n",
       "      <td>1401.268123</td>\n",
       "      <td>-500.808305</td>\n",
       "      <td>1398.128818</td>\n",
       "      <td>-499.504543</td>\n",
       "      <td>1402.172226</td>\n",
       "      <td>-500.810606</td>\n",
       "      <td>...</td>\n",
       "      <td>8.054678</td>\n",
       "      <td>-500.397500</td>\n",
       "      <td>8.107890</td>\n",
       "      <td>-509.526725</td>\n",
       "      <td>4.957674</td>\n",
       "      <td>-500.360026</td>\n",
       "      <td>25.003331</td>\n",
       "      <td>-500.856333</td>\n",
       "      <td>61.467078</td>\n",
       "      <td>83.236367</td>\n",
       "    </tr>\n",
       "  </tbody>\n",
       "</table>\n",
       "<p>5 rows × 54 columns</p>\n",
       "</div>"
      ],
      "text/plain": [
       "                     primary_cleaner.input.sulfate  \\\n",
       "date                                                 \n",
       "2016-09-01 00:59:59                     210.800909   \n",
       "2016-09-01 01:59:59                     215.392455   \n",
       "2016-09-01 02:59:59                     215.259946   \n",
       "2016-09-01 03:59:59                     215.336236   \n",
       "2016-09-01 04:59:59                     199.099327   \n",
       "\n",
       "                     primary_cleaner.input.depressant  \\\n",
       "date                                                    \n",
       "2016-09-01 00:59:59                         14.993118   \n",
       "2016-09-01 01:59:59                         14.987471   \n",
       "2016-09-01 02:59:59                         12.884934   \n",
       "2016-09-01 03:59:59                         12.006805   \n",
       "2016-09-01 04:59:59                         10.682530   \n",
       "\n",
       "                     primary_cleaner.input.feed_size  \\\n",
       "date                                                   \n",
       "2016-09-01 00:59:59                         8.080000   \n",
       "2016-09-01 01:59:59                         8.080000   \n",
       "2016-09-01 02:59:59                         7.786667   \n",
       "2016-09-01 03:59:59                         7.640000   \n",
       "2016-09-01 04:59:59                         7.530000   \n",
       "\n",
       "                     primary_cleaner.input.xanthate  \\\n",
       "date                                                  \n",
       "2016-09-01 00:59:59                        1.005021   \n",
       "2016-09-01 01:59:59                        0.990469   \n",
       "2016-09-01 02:59:59                        0.996043   \n",
       "2016-09-01 03:59:59                        0.863514   \n",
       "2016-09-01 04:59:59                        0.805575   \n",
       "\n",
       "                     primary_cleaner.state.floatbank8_a_air  \\\n",
       "date                                                          \n",
       "2016-09-01 00:59:59                             1398.981301   \n",
       "2016-09-01 01:59:59                             1398.777912   \n",
       "2016-09-01 02:59:59                             1398.493666   \n",
       "2016-09-01 03:59:59                             1399.618111   \n",
       "2016-09-01 04:59:59                             1401.268123   \n",
       "\n",
       "                     primary_cleaner.state.floatbank8_a_level  \\\n",
       "date                                                            \n",
       "2016-09-01 00:59:59                               -500.225577   \n",
       "2016-09-01 01:59:59                               -500.057435   \n",
       "2016-09-01 02:59:59                               -500.868360   \n",
       "2016-09-01 03:59:59                               -498.863574   \n",
       "2016-09-01 04:59:59                               -500.808305   \n",
       "\n",
       "                     primary_cleaner.state.floatbank8_b_air  \\\n",
       "date                                                          \n",
       "2016-09-01 00:59:59                             1399.144926   \n",
       "2016-09-01 01:59:59                             1398.055362   \n",
       "2016-09-01 02:59:59                             1398.860436   \n",
       "2016-09-01 03:59:59                             1397.440120   \n",
       "2016-09-01 04:59:59                             1398.128818   \n",
       "\n",
       "                     primary_cleaner.state.floatbank8_b_level  \\\n",
       "date                                                            \n",
       "2016-09-01 00:59:59                               -499.919735   \n",
       "2016-09-01 01:59:59                               -499.778182   \n",
       "2016-09-01 02:59:59                               -499.764529   \n",
       "2016-09-01 03:59:59                               -499.211024   \n",
       "2016-09-01 04:59:59                               -499.504543   \n",
       "\n",
       "                     primary_cleaner.state.floatbank8_c_air  \\\n",
       "date                                                          \n",
       "2016-09-01 00:59:59                             1400.102998   \n",
       "2016-09-01 01:59:59                             1396.151033   \n",
       "2016-09-01 02:59:59                             1398.075709   \n",
       "2016-09-01 03:59:59                             1400.129303   \n",
       "2016-09-01 04:59:59                             1402.172226   \n",
       "\n",
       "                     primary_cleaner.state.floatbank8_c_level  ...  \\\n",
       "date                                                           ...   \n",
       "2016-09-01 00:59:59                               -500.704369  ...   \n",
       "2016-09-01 01:59:59                               -499.240168  ...   \n",
       "2016-09-01 02:59:59                               -502.151509  ...   \n",
       "2016-09-01 03:59:59                               -498.355873  ...   \n",
       "2016-09-01 04:59:59                               -500.810606  ...   \n",
       "\n",
       "                     secondary_cleaner.state.floatbank4_b_air  \\\n",
       "date                                                            \n",
       "2016-09-01 00:59:59                                  8.016656   \n",
       "2016-09-01 01:59:59                                  8.130979   \n",
       "2016-09-01 02:59:59                                  8.096893   \n",
       "2016-09-01 03:59:59                                  8.074946   \n",
       "2016-09-01 04:59:59                                  8.054678   \n",
       "\n",
       "                     secondary_cleaner.state.floatbank4_b_level  \\\n",
       "date                                                              \n",
       "2016-09-01 00:59:59                                 -501.289139   \n",
       "2016-09-01 01:59:59                                 -499.634209   \n",
       "2016-09-01 02:59:59                                 -500.827423   \n",
       "2016-09-01 03:59:59                                 -499.474407   \n",
       "2016-09-01 04:59:59                                 -500.397500   \n",
       "\n",
       "                     secondary_cleaner.state.floatbank5_a_air  \\\n",
       "date                                                            \n",
       "2016-09-01 00:59:59                                  7.946562   \n",
       "2016-09-01 01:59:59                                  7.958270   \n",
       "2016-09-01 02:59:59                                  8.071056   \n",
       "2016-09-01 03:59:59                                  7.897085   \n",
       "2016-09-01 04:59:59                                  8.107890   \n",
       "\n",
       "                     secondary_cleaner.state.floatbank5_a_level  \\\n",
       "date                                                              \n",
       "2016-09-01 00:59:59                                 -432.317850   \n",
       "2016-09-01 01:59:59                                 -525.839648   \n",
       "2016-09-01 02:59:59                                 -500.801673   \n",
       "2016-09-01 03:59:59                                 -500.868509   \n",
       "2016-09-01 04:59:59                                 -509.526725   \n",
       "\n",
       "                     secondary_cleaner.state.floatbank5_b_air  \\\n",
       "date                                                            \n",
       "2016-09-01 00:59:59                                  4.872511   \n",
       "2016-09-01 01:59:59                                  4.878850   \n",
       "2016-09-01 02:59:59                                  4.905125   \n",
       "2016-09-01 03:59:59                                  4.931400   \n",
       "2016-09-01 04:59:59                                  4.957674   \n",
       "\n",
       "                     secondary_cleaner.state.floatbank5_b_level  \\\n",
       "date                                                              \n",
       "2016-09-01 00:59:59                                 -500.037437   \n",
       "2016-09-01 01:59:59                                 -500.162375   \n",
       "2016-09-01 02:59:59                                 -499.828510   \n",
       "2016-09-01 03:59:59                                 -499.963623   \n",
       "2016-09-01 04:59:59                                 -500.360026   \n",
       "\n",
       "                     secondary_cleaner.state.floatbank6_a_air  \\\n",
       "date                                                            \n",
       "2016-09-01 00:59:59                                 26.705889   \n",
       "2016-09-01 01:59:59                                 25.019940   \n",
       "2016-09-01 02:59:59                                 24.994862   \n",
       "2016-09-01 03:59:59                                 24.948919   \n",
       "2016-09-01 04:59:59                                 25.003331   \n",
       "\n",
       "                     secondary_cleaner.state.floatbank6_a_level  \\\n",
       "date                                                              \n",
       "2016-09-01 00:59:59                                 -499.709414   \n",
       "2016-09-01 01:59:59                                 -499.819438   \n",
       "2016-09-01 02:59:59                                 -500.622559   \n",
       "2016-09-01 03:59:59                                 -498.709987   \n",
       "2016-09-01 04:59:59                                 -500.856333   \n",
       "\n",
       "                     final.output.recovery  rougher.output.recovery  \n",
       "date                                                                 \n",
       "2016-09-01 00:59:59              70.273583                89.993421  \n",
       "2016-09-01 01:59:59              68.910432                88.089657  \n",
       "2016-09-01 02:59:59              68.143213                88.412756  \n",
       "2016-09-01 03:59:59              67.776393                87.360133  \n",
       "2016-09-01 04:59:59              61.467078                83.236367  \n",
       "\n",
       "[5 rows x 54 columns]"
      ]
     },
     "metadata": {},
     "output_type": "display_data"
    },
    {
     "name": "stdout",
     "output_type": "stream",
     "text": [
      "Пропущенных значений в таблице нет\n",
      "Повторов в таблице 0\n"
     ]
    }
   ],
   "source": [
    "# смотрим на получившуюся таблицу\n",
    "summary(test_final)"
   ]
  },
  {
   "cell_type": "code",
   "execution_count": 51,
   "id": "813276a4",
   "metadata": {},
   "outputs": [],
   "source": [
    "train=train.drop(['date'], axis=1)"
   ]
  },
  {
   "cell_type": "code",
   "execution_count": 52,
   "id": "dfc017ed",
   "metadata": {},
   "outputs": [
    {
     "name": "stdout",
     "output_type": "stream",
     "text": [
      "<class 'pandas.core.frame.DataFrame'>\n",
      "RangeIndex: 14149 entries, 0 to 14148\n",
      "Data columns (total 54 columns):\n",
      " #   Column                                      Non-Null Count  Dtype  \n",
      "---  ------                                      --------------  -----  \n",
      " 0   primary_cleaner.input.sulfate               14149 non-null  float64\n",
      " 1   primary_cleaner.input.depressant            14149 non-null  float64\n",
      " 2   primary_cleaner.input.feed_size             14149 non-null  float64\n",
      " 3   primary_cleaner.input.xanthate              14149 non-null  float64\n",
      " 4   primary_cleaner.state.floatbank8_a_air      14149 non-null  float64\n",
      " 5   primary_cleaner.state.floatbank8_a_level    14149 non-null  float64\n",
      " 6   primary_cleaner.state.floatbank8_b_air      14149 non-null  float64\n",
      " 7   primary_cleaner.state.floatbank8_b_level    14149 non-null  float64\n",
      " 8   primary_cleaner.state.floatbank8_c_air      14149 non-null  float64\n",
      " 9   primary_cleaner.state.floatbank8_c_level    14149 non-null  float64\n",
      " 10  primary_cleaner.state.floatbank8_d_air      14149 non-null  float64\n",
      " 11  primary_cleaner.state.floatbank8_d_level    14149 non-null  float64\n",
      " 12  rougher.input.feed_ag                       14149 non-null  float64\n",
      " 13  rougher.input.feed_pb                       14149 non-null  float64\n",
      " 14  rougher.input.feed_rate                     14149 non-null  float64\n",
      " 15  rougher.input.feed_size                     14149 non-null  float64\n",
      " 16  rougher.input.feed_sol                      14149 non-null  float64\n",
      " 17  rougher.input.feed_au                       14149 non-null  float64\n",
      " 18  rougher.input.floatbank10_sulfate           14149 non-null  float64\n",
      " 19  rougher.input.floatbank10_xanthate          14149 non-null  float64\n",
      " 20  rougher.input.floatbank11_sulfate           14149 non-null  float64\n",
      " 21  rougher.input.floatbank11_xanthate          14149 non-null  float64\n",
      " 22  rougher.state.floatbank10_a_air             14149 non-null  float64\n",
      " 23  rougher.state.floatbank10_a_level           14149 non-null  float64\n",
      " 24  rougher.state.floatbank10_b_air             14149 non-null  float64\n",
      " 25  rougher.state.floatbank10_b_level           14149 non-null  float64\n",
      " 26  rougher.state.floatbank10_c_air             14149 non-null  float64\n",
      " 27  rougher.state.floatbank10_c_level           14149 non-null  float64\n",
      " 28  rougher.state.floatbank10_d_air             14149 non-null  float64\n",
      " 29  rougher.state.floatbank10_d_level           14149 non-null  float64\n",
      " 30  rougher.state.floatbank10_e_air             14149 non-null  float64\n",
      " 31  rougher.state.floatbank10_e_level           14149 non-null  float64\n",
      " 32  rougher.state.floatbank10_f_air             14149 non-null  float64\n",
      " 33  rougher.state.floatbank10_f_level           14149 non-null  float64\n",
      " 34  secondary_cleaner.state.floatbank2_a_air    14149 non-null  float64\n",
      " 35  secondary_cleaner.state.floatbank2_a_level  14149 non-null  float64\n",
      " 36  secondary_cleaner.state.floatbank2_b_air    14149 non-null  float64\n",
      " 37  secondary_cleaner.state.floatbank2_b_level  14149 non-null  float64\n",
      " 38  secondary_cleaner.state.floatbank3_a_air    14149 non-null  float64\n",
      " 39  secondary_cleaner.state.floatbank3_a_level  14149 non-null  float64\n",
      " 40  secondary_cleaner.state.floatbank3_b_air    14149 non-null  float64\n",
      " 41  secondary_cleaner.state.floatbank3_b_level  14149 non-null  float64\n",
      " 42  secondary_cleaner.state.floatbank4_a_air    14149 non-null  float64\n",
      " 43  secondary_cleaner.state.floatbank4_a_level  14149 non-null  float64\n",
      " 44  secondary_cleaner.state.floatbank4_b_air    14149 non-null  float64\n",
      " 45  secondary_cleaner.state.floatbank4_b_level  14149 non-null  float64\n",
      " 46  secondary_cleaner.state.floatbank5_a_air    14149 non-null  float64\n",
      " 47  secondary_cleaner.state.floatbank5_a_level  14149 non-null  float64\n",
      " 48  secondary_cleaner.state.floatbank5_b_air    14149 non-null  float64\n",
      " 49  secondary_cleaner.state.floatbank5_b_level  14149 non-null  float64\n",
      " 50  secondary_cleaner.state.floatbank6_a_air    14149 non-null  float64\n",
      " 51  secondary_cleaner.state.floatbank6_a_level  14149 non-null  float64\n",
      " 52  rougher.output.recovery                     14149 non-null  float64\n",
      " 53  final.output.recovery                       14149 non-null  float64\n",
      "dtypes: float64(54)\n",
      "memory usage: 5.8 MB\n",
      "None\n"
     ]
    },
    {
     "data": {
      "text/html": [
       "<div>\n",
       "<style scoped>\n",
       "    .dataframe tbody tr th:only-of-type {\n",
       "        vertical-align: middle;\n",
       "    }\n",
       "\n",
       "    .dataframe tbody tr th {\n",
       "        vertical-align: top;\n",
       "    }\n",
       "\n",
       "    .dataframe thead th {\n",
       "        text-align: right;\n",
       "    }\n",
       "</style>\n",
       "<table border=\"1\" class=\"dataframe\">\n",
       "  <thead>\n",
       "    <tr style=\"text-align: right;\">\n",
       "      <th></th>\n",
       "      <th>primary_cleaner.input.sulfate</th>\n",
       "      <th>primary_cleaner.input.depressant</th>\n",
       "      <th>primary_cleaner.input.feed_size</th>\n",
       "      <th>primary_cleaner.input.xanthate</th>\n",
       "      <th>primary_cleaner.state.floatbank8_a_air</th>\n",
       "      <th>primary_cleaner.state.floatbank8_a_level</th>\n",
       "      <th>primary_cleaner.state.floatbank8_b_air</th>\n",
       "      <th>primary_cleaner.state.floatbank8_b_level</th>\n",
       "      <th>primary_cleaner.state.floatbank8_c_air</th>\n",
       "      <th>primary_cleaner.state.floatbank8_c_level</th>\n",
       "      <th>...</th>\n",
       "      <th>secondary_cleaner.state.floatbank4_b_air</th>\n",
       "      <th>secondary_cleaner.state.floatbank4_b_level</th>\n",
       "      <th>secondary_cleaner.state.floatbank5_a_air</th>\n",
       "      <th>secondary_cleaner.state.floatbank5_a_level</th>\n",
       "      <th>secondary_cleaner.state.floatbank5_b_air</th>\n",
       "      <th>secondary_cleaner.state.floatbank5_b_level</th>\n",
       "      <th>secondary_cleaner.state.floatbank6_a_air</th>\n",
       "      <th>secondary_cleaner.state.floatbank6_a_level</th>\n",
       "      <th>rougher.output.recovery</th>\n",
       "      <th>final.output.recovery</th>\n",
       "    </tr>\n",
       "  </thead>\n",
       "  <tbody>\n",
       "    <tr>\n",
       "      <th>0</th>\n",
       "      <td>127.092003</td>\n",
       "      <td>10.128295</td>\n",
       "      <td>7.25</td>\n",
       "      <td>0.988759</td>\n",
       "      <td>1549.775757</td>\n",
       "      <td>-498.912140</td>\n",
       "      <td>1551.434204</td>\n",
       "      <td>-516.403442</td>\n",
       "      <td>1549.873901</td>\n",
       "      <td>-498.666595</td>\n",
       "      <td>...</td>\n",
       "      <td>12.099931</td>\n",
       "      <td>-504.715942</td>\n",
       "      <td>9.925633</td>\n",
       "      <td>-498.310211</td>\n",
       "      <td>8.079666</td>\n",
       "      <td>-500.470978</td>\n",
       "      <td>14.151341</td>\n",
       "      <td>-605.841980</td>\n",
       "      <td>87.107763</td>\n",
       "      <td>70.541216</td>\n",
       "    </tr>\n",
       "    <tr>\n",
       "      <th>1</th>\n",
       "      <td>125.629232</td>\n",
       "      <td>10.296251</td>\n",
       "      <td>7.25</td>\n",
       "      <td>1.002663</td>\n",
       "      <td>1576.166671</td>\n",
       "      <td>-500.904965</td>\n",
       "      <td>1575.950626</td>\n",
       "      <td>-499.865889</td>\n",
       "      <td>1575.994189</td>\n",
       "      <td>-499.315107</td>\n",
       "      <td>...</td>\n",
       "      <td>11.950531</td>\n",
       "      <td>-501.331529</td>\n",
       "      <td>10.039245</td>\n",
       "      <td>-500.169983</td>\n",
       "      <td>7.984757</td>\n",
       "      <td>-500.582168</td>\n",
       "      <td>13.998353</td>\n",
       "      <td>-599.787184</td>\n",
       "      <td>86.843261</td>\n",
       "      <td>69.266198</td>\n",
       "    </tr>\n",
       "    <tr>\n",
       "      <th>2</th>\n",
       "      <td>123.819808</td>\n",
       "      <td>11.316280</td>\n",
       "      <td>7.25</td>\n",
       "      <td>0.991265</td>\n",
       "      <td>1601.556163</td>\n",
       "      <td>-499.997791</td>\n",
       "      <td>1600.386685</td>\n",
       "      <td>-500.607762</td>\n",
       "      <td>1602.003542</td>\n",
       "      <td>-500.870069</td>\n",
       "      <td>...</td>\n",
       "      <td>11.912783</td>\n",
       "      <td>-501.133383</td>\n",
       "      <td>10.070913</td>\n",
       "      <td>-500.129135</td>\n",
       "      <td>8.013877</td>\n",
       "      <td>-500.517572</td>\n",
       "      <td>14.028663</td>\n",
       "      <td>-601.427363</td>\n",
       "      <td>86.842308</td>\n",
       "      <td>68.116445</td>\n",
       "    </tr>\n",
       "    <tr>\n",
       "      <th>3</th>\n",
       "      <td>122.270188</td>\n",
       "      <td>11.322140</td>\n",
       "      <td>7.25</td>\n",
       "      <td>0.996739</td>\n",
       "      <td>1599.968720</td>\n",
       "      <td>-500.951778</td>\n",
       "      <td>1600.659236</td>\n",
       "      <td>-499.677094</td>\n",
       "      <td>1600.304144</td>\n",
       "      <td>-500.727997</td>\n",
       "      <td>...</td>\n",
       "      <td>11.999550</td>\n",
       "      <td>-501.193686</td>\n",
       "      <td>9.970366</td>\n",
       "      <td>-499.201640</td>\n",
       "      <td>7.977324</td>\n",
       "      <td>-500.255908</td>\n",
       "      <td>14.005551</td>\n",
       "      <td>-599.996129</td>\n",
       "      <td>87.226430</td>\n",
       "      <td>68.347543</td>\n",
       "    </tr>\n",
       "    <tr>\n",
       "      <th>4</th>\n",
       "      <td>117.988169</td>\n",
       "      <td>11.913613</td>\n",
       "      <td>7.25</td>\n",
       "      <td>1.009869</td>\n",
       "      <td>1601.339707</td>\n",
       "      <td>-498.975456</td>\n",
       "      <td>1601.437854</td>\n",
       "      <td>-500.323246</td>\n",
       "      <td>1599.581894</td>\n",
       "      <td>-500.888152</td>\n",
       "      <td>...</td>\n",
       "      <td>11.953070</td>\n",
       "      <td>-501.053894</td>\n",
       "      <td>9.925709</td>\n",
       "      <td>-501.686727</td>\n",
       "      <td>7.894242</td>\n",
       "      <td>-500.356035</td>\n",
       "      <td>13.996647</td>\n",
       "      <td>-601.496691</td>\n",
       "      <td>86.688794</td>\n",
       "      <td>66.927016</td>\n",
       "    </tr>\n",
       "  </tbody>\n",
       "</table>\n",
       "<p>5 rows × 54 columns</p>\n",
       "</div>"
      ],
      "text/plain": [
       "   primary_cleaner.input.sulfate  primary_cleaner.input.depressant  \\\n",
       "0                     127.092003                         10.128295   \n",
       "1                     125.629232                         10.296251   \n",
       "2                     123.819808                         11.316280   \n",
       "3                     122.270188                         11.322140   \n",
       "4                     117.988169                         11.913613   \n",
       "\n",
       "   primary_cleaner.input.feed_size  primary_cleaner.input.xanthate  \\\n",
       "0                             7.25                        0.988759   \n",
       "1                             7.25                        1.002663   \n",
       "2                             7.25                        0.991265   \n",
       "3                             7.25                        0.996739   \n",
       "4                             7.25                        1.009869   \n",
       "\n",
       "   primary_cleaner.state.floatbank8_a_air  \\\n",
       "0                             1549.775757   \n",
       "1                             1576.166671   \n",
       "2                             1601.556163   \n",
       "3                             1599.968720   \n",
       "4                             1601.339707   \n",
       "\n",
       "   primary_cleaner.state.floatbank8_a_level  \\\n",
       "0                               -498.912140   \n",
       "1                               -500.904965   \n",
       "2                               -499.997791   \n",
       "3                               -500.951778   \n",
       "4                               -498.975456   \n",
       "\n",
       "   primary_cleaner.state.floatbank8_b_air  \\\n",
       "0                             1551.434204   \n",
       "1                             1575.950626   \n",
       "2                             1600.386685   \n",
       "3                             1600.659236   \n",
       "4                             1601.437854   \n",
       "\n",
       "   primary_cleaner.state.floatbank8_b_level  \\\n",
       "0                               -516.403442   \n",
       "1                               -499.865889   \n",
       "2                               -500.607762   \n",
       "3                               -499.677094   \n",
       "4                               -500.323246   \n",
       "\n",
       "   primary_cleaner.state.floatbank8_c_air  \\\n",
       "0                             1549.873901   \n",
       "1                             1575.994189   \n",
       "2                             1602.003542   \n",
       "3                             1600.304144   \n",
       "4                             1599.581894   \n",
       "\n",
       "   primary_cleaner.state.floatbank8_c_level  ...  \\\n",
       "0                               -498.666595  ...   \n",
       "1                               -499.315107  ...   \n",
       "2                               -500.870069  ...   \n",
       "3                               -500.727997  ...   \n",
       "4                               -500.888152  ...   \n",
       "\n",
       "   secondary_cleaner.state.floatbank4_b_air  \\\n",
       "0                                 12.099931   \n",
       "1                                 11.950531   \n",
       "2                                 11.912783   \n",
       "3                                 11.999550   \n",
       "4                                 11.953070   \n",
       "\n",
       "   secondary_cleaner.state.floatbank4_b_level  \\\n",
       "0                                 -504.715942   \n",
       "1                                 -501.331529   \n",
       "2                                 -501.133383   \n",
       "3                                 -501.193686   \n",
       "4                                 -501.053894   \n",
       "\n",
       "   secondary_cleaner.state.floatbank5_a_air  \\\n",
       "0                                  9.925633   \n",
       "1                                 10.039245   \n",
       "2                                 10.070913   \n",
       "3                                  9.970366   \n",
       "4                                  9.925709   \n",
       "\n",
       "   secondary_cleaner.state.floatbank5_a_level  \\\n",
       "0                                 -498.310211   \n",
       "1                                 -500.169983   \n",
       "2                                 -500.129135   \n",
       "3                                 -499.201640   \n",
       "4                                 -501.686727   \n",
       "\n",
       "   secondary_cleaner.state.floatbank5_b_air  \\\n",
       "0                                  8.079666   \n",
       "1                                  7.984757   \n",
       "2                                  8.013877   \n",
       "3                                  7.977324   \n",
       "4                                  7.894242   \n",
       "\n",
       "   secondary_cleaner.state.floatbank5_b_level  \\\n",
       "0                                 -500.470978   \n",
       "1                                 -500.582168   \n",
       "2                                 -500.517572   \n",
       "3                                 -500.255908   \n",
       "4                                 -500.356035   \n",
       "\n",
       "   secondary_cleaner.state.floatbank6_a_air  \\\n",
       "0                                 14.151341   \n",
       "1                                 13.998353   \n",
       "2                                 14.028663   \n",
       "3                                 14.005551   \n",
       "4                                 13.996647   \n",
       "\n",
       "   secondary_cleaner.state.floatbank6_a_level  rougher.output.recovery  \\\n",
       "0                                 -605.841980                87.107763   \n",
       "1                                 -599.787184                86.843261   \n",
       "2                                 -601.427363                86.842308   \n",
       "3                                 -599.996129                87.226430   \n",
       "4                                 -601.496691                86.688794   \n",
       "\n",
       "   final.output.recovery  \n",
       "0              70.541216  \n",
       "1              69.266198  \n",
       "2              68.116445  \n",
       "3              68.347543  \n",
       "4              66.927016  \n",
       "\n",
       "[5 rows x 54 columns]"
      ]
     },
     "metadata": {},
     "output_type": "display_data"
    },
    {
     "name": "stdout",
     "output_type": "stream",
     "text": [
      "Пропущенных значений в таблице нет\n",
      "Повторов в таблице 0\n"
     ]
    }
   ],
   "source": [
    "# смотрим на получившуюся таблицу\n",
    "summary(train)"
   ]
  },
  {
   "cell_type": "markdown",
   "id": "dd2f2b5c",
   "metadata": {},
   "source": [
    "В итоговых таблицах пропусков нет, повторов нет. Можно приступать к обучению моделей.\n",
    "\n",
    "Напишем функцию для расчёта sMAPE (англ. Symmetric Mean Absolute Percentage Error, «симметричное среднее абсолютное процентное отклонение»)."
   ]
  },
  {
   "cell_type": "code",
   "execution_count": 53,
   "id": "af3cd14b",
   "metadata": {},
   "outputs": [],
   "source": [
    "# напишем функцию для расчёта sMAPE\n",
    "def smape(target, prediction):\n",
    "    return (np.sum(2 * np.abs(target - prediction) / (np.abs(target) + np.abs(prediction)))*100)/len(target)"
   ]
  },
  {
   "cell_type": "code",
   "execution_count": 54,
   "id": "47c5b3e3",
   "metadata": {},
   "outputs": [],
   "source": [
    "# напишем функцию для подсчёта итогового sMAPE\n",
    "def final_smape(smape_rougher, smape_final):\n",
    "    final_smape = 0.25*smape_rougher + 0.75*smape_final\n",
    "    return final_smape"
   ]
  },
  {
   "cell_type": "markdown",
   "id": "3557ac0c",
   "metadata": {},
   "source": [
    "Зададим признаки и целевые признаки"
   ]
  },
  {
   "cell_type": "code",
   "execution_count": 55,
   "id": "2ed5d6a0",
   "metadata": {},
   "outputs": [],
   "source": [
    "# задаём признаки и целевые признаки\n",
    "features_train = train.drop(['rougher.output.recovery', 'final.output.recovery'], axis=1)\n",
    "target_rougher_train = train['rougher.output.recovery']\n",
    "target_final_train = train['final.output.recovery']\n",
    "features_test = test_final.drop(['rougher.output.recovery', 'final.output.recovery'], axis=1)\n",
    "target_rougher_test = test_final['rougher.output.recovery']\n",
    "target_final_test = test_final['final.output.recovery']"
   ]
  },
  {
   "cell_type": "code",
   "execution_count": 56,
   "id": "28e0c3b9",
   "metadata": {},
   "outputs": [],
   "source": [
    "score = make_scorer(smape, greater_is_better=False)\n",
    "state = np.random.RandomState(12345)"
   ]
  },
  {
   "cell_type": "markdown",
   "id": "62604f93",
   "metadata": {},
   "source": [
    "### Линейная регрессия"
   ]
  },
  {
   "cell_type": "code",
   "execution_count": 57,
   "id": "c1490f48",
   "metadata": {},
   "outputs": [
    {
     "name": "stdout",
     "output_type": "stream",
     "text": [
      "-12.802483458481905\n",
      "-12.245300320302215\n",
      "Итоговое симметричное среднее абсолютное процентное отклонение: -12.384596104847137\n"
     ]
    }
   ],
   "source": [
    "# вычислим smape для линейной регрессии\n",
    "model = LinearRegression()\n",
    "scores_lin_rougher = cross_val_score(model, features_train, target_rougher_train, cv=5, scoring = score).mean()\n",
    "scores_lin_final = cross_val_score(model, features_train, target_final_train, cv=5, scoring = score).mean()\n",
    "smape_lin = final_smape(scores_lin_rougher, scores_lin_final)\n",
    "print(scores_lin_rougher)\n",
    "print(scores_lin_final)\n",
    "print(f'Итоговое симметричное среднее абсолютное процентное отклонение: {smape_lin}')"
   ]
  },
  {
   "cell_type": "markdown",
   "id": "836885e2",
   "metadata": {},
   "source": [
    "### Случайный лес"
   ]
  },
  {
   "cell_type": "code",
   "execution_count": 58,
   "id": "ddf3bdbd",
   "metadata": {},
   "outputs": [
    {
     "data": {
      "text/plain": [
       "'sMAPE модели случайного леса для чернового концентрата:'"
      ]
     },
     "metadata": {},
     "output_type": "display_data"
    },
    {
     "data": {
      "text/plain": [
       "-11.024048105815002"
      ]
     },
     "metadata": {},
     "output_type": "display_data"
    },
    {
     "data": {
      "text/plain": [
       "'Количество деревьев:'"
      ]
     },
     "metadata": {},
     "output_type": "display_data"
    },
    {
     "data": {
      "text/plain": [
       "5"
      ]
     },
     "metadata": {},
     "output_type": "display_data"
    },
    {
     "data": {
      "text/plain": [
       "'Максимальная глубина:'"
      ]
     },
     "metadata": {},
     "output_type": "display_data"
    },
    {
     "data": {
      "text/plain": [
       "11"
      ]
     },
     "metadata": {},
     "output_type": "display_data"
    }
   ],
   "source": [
    "best_model = None\n",
    "best_result_r = -100\n",
    "best_depth = 0\n",
    "best_est = 0\n",
    "for est in range(1, 15, 2):\n",
    "    for depth in range(1, 15, 2):\n",
    "        model_random_forest_r = RandomForestRegressor(random_state=state, n_estimators=est, max_depth=depth)\n",
    "        model_random_forest_r.fit(features_train, target_rougher_train)\n",
    "        scores_random_forest_r = cross_val_score(model_random_forest_r, features_train, target_rougher_train, cv=5, scoring = score).mean()\n",
    "            \n",
    "        if scores_random_forest_r > best_result_r:\n",
    "            best_model = model_random_forest_r\n",
    "            best_result_r = scores_random_forest_r\n",
    "            best_depth = depth\n",
    "            best_est = est\n",
    "            \n",
    "                \n",
    "display('sMAPE модели случайного леса для чернового концентрата:', best_result_r, 'Количество деревьев:', best_depth, 'Максимальная глубина:', best_est)  "
   ]
  },
  {
   "cell_type": "code",
   "execution_count": 59,
   "id": "fcc4546d",
   "metadata": {},
   "outputs": [
    {
     "data": {
      "text/plain": [
       "'sMAPE модели случайного леса для финального этапа:'"
      ]
     },
     "metadata": {},
     "output_type": "display_data"
    },
    {
     "data": {
      "text/plain": [
       "-10.1572629371012"
      ]
     },
     "metadata": {},
     "output_type": "display_data"
    },
    {
     "data": {
      "text/plain": [
       "'Количество деревьев:'"
      ]
     },
     "metadata": {},
     "output_type": "display_data"
    },
    {
     "data": {
      "text/plain": [
       "5"
      ]
     },
     "metadata": {},
     "output_type": "display_data"
    },
    {
     "data": {
      "text/plain": [
       "'Максимальная глубина:'"
      ]
     },
     "metadata": {},
     "output_type": "display_data"
    },
    {
     "data": {
      "text/plain": [
       "13"
      ]
     },
     "metadata": {},
     "output_type": "display_data"
    }
   ],
   "source": [
    "best_model = None\n",
    "best_result_f = -100\n",
    "best_depth = 0\n",
    "best_est = 0\n",
    "for est in range(1, 15, 2):\n",
    "    for depth in range(1, 15, 2):\n",
    "        model_random_forest_f = RandomForestRegressor(random_state=state, n_estimators=est, max_depth=depth)\n",
    "        model_random_forest_f.fit(features_train, target_final_train)\n",
    "        scores_random_forest_f  = cross_val_score(model_random_forest_f, features_train, target_final_train, cv=5, scoring = score).mean()\n",
    "            \n",
    "        if scores_random_forest_f > best_result_f:\n",
    "            best_model = model_random_forest_f\n",
    "            best_result_f = scores_random_forest_f\n",
    "            best_depth = depth\n",
    "            best_est = est\n",
    "            \n",
    "                \n",
    "display('sMAPE модели случайного леса для финального этапа:', best_result_f, 'Количество деревьев:', best_depth, 'Максимальная глубина:', best_est)  "
   ]
  },
  {
   "cell_type": "markdown",
   "id": "1a3a397d",
   "metadata": {},
   "source": [
    "Вычислим итоговую sMAPE для модели случайного леса."
   ]
  },
  {
   "cell_type": "code",
   "execution_count": 60,
   "id": "0256b3ce",
   "metadata": {},
   "outputs": [
    {
     "name": "stdout",
     "output_type": "stream",
     "text": [
      "-10.373959229279649\n"
     ]
    }
   ],
   "source": [
    "smape_forest = final_smape(best_result_r, best_result_f)\n",
    "print(smape_forest)"
   ]
  },
  {
   "cell_type": "markdown",
   "id": "5caf9751",
   "metadata": {},
   "source": [
    "### Решающее дерево"
   ]
  },
  {
   "cell_type": "code",
   "execution_count": 61,
   "id": "cf4f657c",
   "metadata": {},
   "outputs": [
    {
     "data": {
      "text/plain": [
       "'sMAPE модели решающего дерева для чернового концентрата:'"
      ]
     },
     "metadata": {},
     "output_type": "display_data"
    },
    {
     "data": {
      "text/plain": [
       "-11.401952727337251"
      ]
     },
     "metadata": {},
     "output_type": "display_data"
    }
   ],
   "source": [
    "# вычислим sMAPE для модели случайный лес чернового концентрата\n",
    "best_model = None\n",
    "best_result_r_t = -100\n",
    "best_depth = 0\n",
    "best_split = 0\n",
    "for split in range(2, 10,2):\n",
    "    for depth in range(1, 15, 2):\n",
    "        model_tree_r = DecisionTreeRegressor(random_state=state, min_samples_split=split, max_depth=depth)\n",
    "        model_tree_r.fit(features_train, target_rougher_train)\n",
    "        predicted_test_tree_r = model_tree_r.predict(features_test)\n",
    "        scores_tree_r = cross_val_score(model_tree_r, features_train, target_rougher_train, cv=5, scoring = score).mean()\n",
    "            \n",
    "        if scores_tree_r > best_result_r_t:\n",
    "            best_model = model_tree_r\n",
    "            best_result_r_t = scores_tree_r\n",
    "            best_depth = depth\n",
    "            best_split = split\n",
    "            \n",
    "                \n",
    "display('sMAPE модели решающего дерева для чернового концентрата:', best_result_r_t) "
   ]
  },
  {
   "cell_type": "code",
   "execution_count": 62,
   "id": "493d5454",
   "metadata": {},
   "outputs": [
    {
     "data": {
      "text/plain": [
       "'sMAPE модели решающего дерева для финального концентрата:'"
      ]
     },
     "metadata": {},
     "output_type": "display_data"
    },
    {
     "data": {
      "text/plain": [
       "-10.806104806167765"
      ]
     },
     "metadata": {},
     "output_type": "display_data"
    }
   ],
   "source": [
    "# вычислим sMAPE для модели решающего дерева финального концентрата\n",
    "best_model = None\n",
    "best_result_f_t = -100\n",
    "best_depth = 0\n",
    "best_split = 0\n",
    "for split in range(2, 10,2):\n",
    "    for depth in range(1, 15, 2):\n",
    "        model_tree_f = DecisionTreeRegressor(random_state=state, min_samples_split=split, max_depth=depth)\n",
    "        model_tree_f.fit(features_train, target_final_train)\n",
    "        predicted_test_tree_f = model_tree_f.predict(features_test)\n",
    "        scores_tree_f = cross_val_score(model_tree_f, features_train, target_final_train, cv=5, scoring = score).mean()\n",
    "            \n",
    "        if scores_tree_f > best_result_f_t:\n",
    "            best_model = model_tree_f\n",
    "            best_result_f_t = scores_tree_f\n",
    "            best_depth = depth\n",
    "            best_split = split\n",
    "            \n",
    "                \n",
    "display('sMAPE модели решающего дерева для финального концентрата:', best_result_f_t) "
   ]
  },
  {
   "cell_type": "markdown",
   "id": "b7090d13",
   "metadata": {},
   "source": [
    "Вычислим итоговую sMAPE для модели решающего дерева."
   ]
  },
  {
   "cell_type": "code",
   "execution_count": 63,
   "id": "7cf662ca",
   "metadata": {},
   "outputs": [
    {
     "name": "stdout",
     "output_type": "stream",
     "text": [
      "-10.955066786460137\n"
     ]
    }
   ],
   "source": [
    "smape_tree = final_smape(best_result_r_t, best_result_f_t)\n",
    "print(smape_tree)"
   ]
  },
  {
   "cell_type": "markdown",
   "id": "887c25a4",
   "metadata": {},
   "source": [
    "### Сводные таблицы результатов"
   ]
  },
  {
   "cell_type": "markdown",
   "id": "16b1a734",
   "metadata": {},
   "source": [
    "Соберём полученные результаты в 2 таблицы для наглядности"
   ]
  },
  {
   "cell_type": "code",
   "execution_count": 64,
   "id": "d615945b",
   "metadata": {},
   "outputs": [],
   "source": [
    "res=pd.DataFrame(columns=['name_model', 'sMAPE'])"
   ]
  },
  {
   "cell_type": "code",
   "execution_count": 65,
   "id": "406b7fc8",
   "metadata": {},
   "outputs": [
    {
     "data": {
      "text/html": [
       "<div>\n",
       "<style scoped>\n",
       "    .dataframe tbody tr th:only-of-type {\n",
       "        vertical-align: middle;\n",
       "    }\n",
       "\n",
       "    .dataframe tbody tr th {\n",
       "        vertical-align: top;\n",
       "    }\n",
       "\n",
       "    .dataframe thead th {\n",
       "        text-align: right;\n",
       "    }\n",
       "</style>\n",
       "<table border=\"1\" class=\"dataframe\">\n",
       "  <thead>\n",
       "    <tr style=\"text-align: right;\">\n",
       "      <th></th>\n",
       "      <th>name_model</th>\n",
       "      <th>sMAPE</th>\n",
       "    </tr>\n",
       "  </thead>\n",
       "  <tbody>\n",
       "    <tr>\n",
       "      <th>0</th>\n",
       "      <td>lin_rougher</td>\n",
       "      <td>-12.802483</td>\n",
       "    </tr>\n",
       "    <tr>\n",
       "      <th>1</th>\n",
       "      <td>lin_final</td>\n",
       "      <td>-12.245300</td>\n",
       "    </tr>\n",
       "    <tr>\n",
       "      <th>2</th>\n",
       "      <td>random_forest_r</td>\n",
       "      <td>-11.024048</td>\n",
       "    </tr>\n",
       "    <tr>\n",
       "      <th>3</th>\n",
       "      <td>random_forest_f</td>\n",
       "      <td>-10.157263</td>\n",
       "    </tr>\n",
       "    <tr>\n",
       "      <th>4</th>\n",
       "      <td>model_tree_r</td>\n",
       "      <td>-11.401953</td>\n",
       "    </tr>\n",
       "    <tr>\n",
       "      <th>5</th>\n",
       "      <td>model_tree_f</td>\n",
       "      <td>-10.806105</td>\n",
       "    </tr>\n",
       "  </tbody>\n",
       "</table>\n",
       "</div>"
      ],
      "text/plain": [
       "        name_model      sMAPE\n",
       "0      lin_rougher -12.802483\n",
       "1        lin_final -12.245300\n",
       "2  random_forest_r -11.024048\n",
       "3  random_forest_f -10.157263\n",
       "4     model_tree_r -11.401953\n",
       "5     model_tree_f -10.806105"
      ]
     },
     "metadata": {},
     "output_type": "display_data"
    }
   ],
   "source": [
    "res=res.append({\"name_model\":\"lin_rougher\", 'sMAPE':scores_lin_rougher}, ignore_index=True)\n",
    "res=res.append({\"name_model\":\"lin_final\", 'sMAPE':scores_lin_final}, ignore_index=True)\n",
    "res=res.append({\"name_model\":\"random_forest_r\", 'sMAPE':best_result_r}, ignore_index=True)\n",
    "res=res.append({\"name_model\":\"random_forest_f\", 'sMAPE':best_result_f}, ignore_index=True)\n",
    "res=res.append({\"name_model\":\"model_tree_r\", 'sMAPE':best_result_r_t}, ignore_index=True)\n",
    "res=res.append({\"name_model\":\"model_tree_f\", 'sMAPE':best_result_f_t}, ignore_index=True)\n",
    "display(res.head(6))"
   ]
  },
  {
   "cell_type": "code",
   "execution_count": 66,
   "id": "56801285",
   "metadata": {},
   "outputs": [],
   "source": [
    "res_final=pd.DataFrame(columns=['name_model', 'final_sMAPE'])"
   ]
  },
  {
   "cell_type": "code",
   "execution_count": 67,
   "id": "7234a402",
   "metadata": {},
   "outputs": [
    {
     "data": {
      "text/html": [
       "<div>\n",
       "<style scoped>\n",
       "    .dataframe tbody tr th:only-of-type {\n",
       "        vertical-align: middle;\n",
       "    }\n",
       "\n",
       "    .dataframe tbody tr th {\n",
       "        vertical-align: top;\n",
       "    }\n",
       "\n",
       "    .dataframe thead th {\n",
       "        text-align: right;\n",
       "    }\n",
       "</style>\n",
       "<table border=\"1\" class=\"dataframe\">\n",
       "  <thead>\n",
       "    <tr style=\"text-align: right;\">\n",
       "      <th></th>\n",
       "      <th>name_model</th>\n",
       "      <th>final_sMAPE</th>\n",
       "    </tr>\n",
       "  </thead>\n",
       "  <tbody>\n",
       "    <tr>\n",
       "      <th>0</th>\n",
       "      <td>lin_reg</td>\n",
       "      <td>-12.384596</td>\n",
       "    </tr>\n",
       "    <tr>\n",
       "      <th>1</th>\n",
       "      <td>random_forest</td>\n",
       "      <td>-10.373959</td>\n",
       "    </tr>\n",
       "    <tr>\n",
       "      <th>2</th>\n",
       "      <td>decision_tree</td>\n",
       "      <td>-10.955067</td>\n",
       "    </tr>\n",
       "  </tbody>\n",
       "</table>\n",
       "</div>"
      ],
      "text/plain": [
       "      name_model  final_sMAPE\n",
       "0        lin_reg   -12.384596\n",
       "1  random_forest   -10.373959\n",
       "2  decision_tree   -10.955067"
      ]
     },
     "metadata": {},
     "output_type": "display_data"
    }
   ],
   "source": [
    "res_final=res_final.append({\"name_model\":\"lin_reg\", 'final_sMAPE':smape_lin}, ignore_index=True)\n",
    "res_final=res_final.append({\"name_model\":\"random_forest\", 'final_sMAPE':smape_forest}, ignore_index=True)\n",
    "res_final=res_final.append({\"name_model\":\"decision_tree\", 'final_sMAPE':smape_tree}, ignore_index=True)\n",
    "display(res_final.head(3))"
   ]
  },
  {
   "cell_type": "markdown",
   "id": "21f4bf21",
   "metadata": {},
   "source": [
    "**Вывод**\n",
    "* в обучающую и тестовую выборки были добавлены значения целевого признака\n",
    "* была написана функция для расчёта sMAPE\n",
    "* была написана функция для расчёта итогового sMAPE\n",
    "* были обучены 3 модели для 2-х целевых признаков и подсчитаны sMAPE для каждого случая\n",
    "* отрицательные значения получились из-за установки `greater_is_better=False`\n",
    "* лучшей моделью для прогнозирования:\n",
    " * эффективность обогащения чернового концентрата стала модель случайного леса\n",
    " * эффективность обогащения финального концентрата стала модель случайного леса\n",
    "* итоговая sMAPE лучше у модели случайного леса "
   ]
  },
  {
   "cell_type": "markdown",
   "id": "97135be8",
   "metadata": {},
   "source": [
    "## Проверка модели"
   ]
  },
  {
   "cell_type": "markdown",
   "id": "bb96ffaa",
   "metadata": {},
   "source": [
    "Проверим модель случайного леса."
   ]
  },
  {
   "cell_type": "code",
   "execution_count": 68,
   "id": "d9788457",
   "metadata": {},
   "outputs": [
    {
     "data": {
      "text/plain": [
       "9.62432976403566"
      ]
     },
     "metadata": {},
     "output_type": "display_data"
    }
   ],
   "source": [
    "# проверяем модель на тестовой выборке\n",
    "decision_model_f = RandomForestRegressor(random_state=state, n_estimators=13, max_depth=5)\n",
    "decision_model_f.fit(features_train, target_final_train)\n",
    "test_predictions_f = decision_model_f.predict(features_test)\n",
    "sMAPE_f = smape(target_final_test, test_predictions_f)\n",
    "display(sMAPE_f)"
   ]
  },
  {
   "cell_type": "code",
   "execution_count": 70,
   "id": "7dd4766d",
   "metadata": {},
   "outputs": [
    {
     "data": {
      "text/plain": [
       "10.391734370006253"
      ]
     },
     "metadata": {},
     "output_type": "display_data"
    }
   ],
   "source": [
    "# проверяем модель на тестовой выборке\n",
    "decision_model_r = RandomForestRegressor(random_state=state, n_estimators=13, max_depth=5)\n",
    "decision_model_r.fit(features_train, target_rougher_train)\n",
    "test_predictions_r = decision_model_r.predict(features_test)\n",
    "sMAPE_r = smape(target_rougher_test, test_predictions_r)\n",
    "display(sMAPE_r)"
   ]
  },
  {
   "cell_type": "code",
   "execution_count": 71,
   "id": "b63c6928",
   "metadata": {},
   "outputs": [
    {
     "name": "stdout",
     "output_type": "stream",
     "text": [
      "9.816180915528308\n"
     ]
    }
   ],
   "source": [
    "smape_for_final = final_smape(sMAPE_r, sMAPE_f)\n",
    "print(smape_for_final)"
   ]
  },
  {
   "cell_type": "markdown",
   "id": "e6f9fdf2",
   "metadata": {},
   "source": [
    "## Вывод"
   ]
  },
  {
   "cell_type": "markdown",
   "id": "a0bf38c4",
   "metadata": {},
   "source": [
    "* были открыты и изучены обучающая с тестовой выборки и таблица с исходными данными\n",
    "* был проверен расчёт эффективности обогащения чернового концентрата\n",
    "* были заменены пропуски в данных\n",
    "* была исследована зависимость целевого признака от признаков\n",
    "* была исследована суммарная концентрация веществ на разных этапах очистки\n",
    "* были удалены выбросы в виде нулевой суммарной концентрации для каждого этапа очистки, всего 601 строка\n",
    "* были написаны функции для расчёта sMAPE и итоговой sMAPE\n",
    "* лучшей моделью для прогнозирования стала модель случайного леса\n",
    "* итоговая sMAPE на тестовой выборке у модели случайного леса - 9.816180915528308"
   ]
  },
  {
   "cell_type": "code",
   "execution_count": null,
   "id": "0ec99144",
   "metadata": {},
   "outputs": [],
   "source": []
  }
 ],
 "metadata": {
  "ExecuteTimeLog": [
   {
    "duration": 1585,
    "start_time": "2022-10-01T20:38:19.426Z"
   },
   {
    "duration": 1293,
    "start_time": "2022-10-01T20:39:11.253Z"
   },
   {
    "duration": 149,
    "start_time": "2022-10-01T20:39:18.683Z"
   },
   {
    "duration": 618,
    "start_time": "2022-10-01T20:39:27.003Z"
   },
   {
    "duration": 6,
    "start_time": "2022-10-01T20:40:29.151Z"
   },
   {
    "duration": 773,
    "start_time": "2022-10-01T20:40:38.418Z"
   },
   {
    "duration": 160,
    "start_time": "2022-10-01T20:41:08.468Z"
   },
   {
    "duration": 902,
    "start_time": "2022-10-01T20:41:35.073Z"
   },
   {
    "duration": 81,
    "start_time": "2022-10-01T20:42:22.213Z"
   },
   {
    "duration": 7,
    "start_time": "2022-10-01T20:42:43.612Z"
   },
   {
    "duration": 6,
    "start_time": "2022-10-01T20:43:19.439Z"
   },
   {
    "duration": 19,
    "start_time": "2022-10-01T20:46:17.241Z"
   },
   {
    "duration": 11,
    "start_time": "2022-10-01T20:47:33.962Z"
   },
   {
    "duration": 5,
    "start_time": "2022-10-01T20:47:42.202Z"
   },
   {
    "duration": 18,
    "start_time": "2022-10-01T20:47:50.554Z"
   },
   {
    "duration": 175,
    "start_time": "2022-10-01T20:48:32.001Z"
   },
   {
    "duration": 4,
    "start_time": "2022-10-01T20:56:05.472Z"
   },
   {
    "duration": 27,
    "start_time": "2022-10-01T20:56:13.372Z"
   },
   {
    "duration": 458,
    "start_time": "2022-10-01T20:58:22.911Z"
   },
   {
    "duration": 532,
    "start_time": "2022-10-01T20:58:38.642Z"
   },
   {
    "duration": 445,
    "start_time": "2022-10-01T20:58:45.739Z"
   },
   {
    "duration": 4,
    "start_time": "2022-10-01T20:59:50.558Z"
   },
   {
    "duration": 27,
    "start_time": "2022-10-01T21:00:00.117Z"
   },
   {
    "duration": 434,
    "start_time": "2022-10-01T21:00:17.651Z"
   },
   {
    "duration": 4,
    "start_time": "2022-10-01T21:01:10.792Z"
   },
   {
    "duration": 26,
    "start_time": "2022-10-01T21:01:20.128Z"
   },
   {
    "duration": 449,
    "start_time": "2022-10-01T21:02:33.764Z"
   },
   {
    "duration": 9,
    "start_time": "2022-10-01T21:03:58.709Z"
   },
   {
    "duration": 8,
    "start_time": "2022-10-01T21:04:06.888Z"
   },
   {
    "duration": 275,
    "start_time": "2022-10-01T21:04:59.338Z"
   },
   {
    "duration": 391,
    "start_time": "2022-10-01T21:06:36.198Z"
   },
   {
    "duration": 8,
    "start_time": "2022-10-01T21:15:23.938Z"
   },
   {
    "duration": 5,
    "start_time": "2022-10-01T21:15:57.709Z"
   },
   {
    "duration": 11,
    "start_time": "2022-10-01T21:16:15.551Z"
   },
   {
    "duration": 260,
    "start_time": "2022-10-01T21:16:26.711Z"
   },
   {
    "duration": 6,
    "start_time": "2022-10-01T21:19:39.681Z"
   },
   {
    "duration": 10,
    "start_time": "2022-10-01T21:19:50.362Z"
   },
   {
    "duration": 260,
    "start_time": "2022-10-01T21:19:59.122Z"
   },
   {
    "duration": 6,
    "start_time": "2022-10-01T21:21:04.880Z"
   },
   {
    "duration": 10,
    "start_time": "2022-10-01T21:21:18.881Z"
   },
   {
    "duration": 219,
    "start_time": "2022-10-01T21:21:28.769Z"
   },
   {
    "duration": 6,
    "start_time": "2022-10-01T21:22:19.032Z"
   },
   {
    "duration": 12,
    "start_time": "2022-10-01T21:22:33.492Z"
   },
   {
    "duration": 214,
    "start_time": "2022-10-01T21:22:42.499Z"
   },
   {
    "duration": 19,
    "start_time": "2022-10-01T21:24:51.688Z"
   },
   {
    "duration": 5,
    "start_time": "2022-10-01T21:26:17.167Z"
   },
   {
    "duration": 5,
    "start_time": "2022-10-01T21:26:30.236Z"
   },
   {
    "duration": 78,
    "start_time": "2022-10-01T21:28:18.955Z"
   },
   {
    "duration": 13,
    "start_time": "2022-10-01T21:28:37.235Z"
   },
   {
    "duration": 121,
    "start_time": "2022-10-01T21:28:47.755Z"
   },
   {
    "duration": 8,
    "start_time": "2022-10-01T21:29:17.192Z"
   },
   {
    "duration": 217,
    "start_time": "2022-10-01T21:29:25.026Z"
   },
   {
    "duration": 3,
    "start_time": "2022-10-01T21:30:15.927Z"
   },
   {
    "duration": 3,
    "start_time": "2022-10-01T21:31:22.322Z"
   },
   {
    "duration": 11,
    "start_time": "2022-10-01T21:33:10.386Z"
   },
   {
    "duration": 4,
    "start_time": "2022-10-01T21:33:18.260Z"
   },
   {
    "duration": 3252,
    "start_time": "2022-10-01T21:34:58.439Z"
   },
   {
    "duration": 501363,
    "start_time": "2022-10-01T21:37:14.539Z"
   },
   {
    "duration": 492800,
    "start_time": "2022-10-01T21:45:35.904Z"
   },
   {
    "duration": 3,
    "start_time": "2022-10-01T21:53:48.706Z"
   },
   {
    "duration": 67966,
    "start_time": "2022-10-01T21:55:04.916Z"
   },
   {
    "duration": 67036,
    "start_time": "2022-10-01T21:56:12.888Z"
   },
   {
    "duration": 4,
    "start_time": "2022-10-01T21:57:19.926Z"
   },
   {
    "duration": 13,
    "start_time": "2022-10-01T21:57:19.932Z"
   },
   {
    "duration": 26,
    "start_time": "2022-10-01T21:57:30.984Z"
   },
   {
    "duration": 5,
    "start_time": "2022-10-01T21:58:05.814Z"
   },
   {
    "duration": 17,
    "start_time": "2022-10-01T21:58:14.193Z"
   },
   {
    "duration": 2912,
    "start_time": "2022-10-01T22:03:37.200Z"
   },
   {
    "duration": 3359,
    "start_time": "2022-10-01T22:03:51.688Z"
   },
   {
    "duration": 3015,
    "start_time": "2022-10-01T22:04:27.142Z"
   },
   {
    "duration": 5,
    "start_time": "2022-10-01T22:04:40.244Z"
   }
  ],
  "kernelspec": {
   "display_name": "Python 3 (ipykernel)",
   "language": "python",
   "name": "python3"
  },
  "language_info": {
   "codemirror_mode": {
    "name": "ipython",
    "version": 3
   },
   "file_extension": ".py",
   "mimetype": "text/x-python",
   "name": "python",
   "nbconvert_exporter": "python",
   "pygments_lexer": "ipython3",
   "version": "3.9.5"
  },
  "toc": {
   "base_numbering": 1,
   "nav_menu": {},
   "number_sections": true,
   "sideBar": true,
   "skip_h1_title": true,
   "title_cell": "Содержание",
   "title_sidebar": "Contents",
   "toc_cell": true,
   "toc_position": {},
   "toc_section_display": true,
   "toc_window_display": true
  }
 },
 "nbformat": 4,
 "nbformat_minor": 5
}
